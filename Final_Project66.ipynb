{
  "nbformat": 4,
  "nbformat_minor": 0,
  "metadata": {
    "colab": {
      "provenance": [],
      "include_colab_link": true
    },
    "kernelspec": {
      "name": "python3",
      "display_name": "Python 3"
    },
    "language_info": {
      "name": "python"
    }
  },
  "cells": [
    {
      "cell_type": "markdown",
      "metadata": {
        "id": "view-in-github",
        "colab_type": "text"
      },
      "source": [
        "<a href=\"https://colab.research.google.com/github/SasiwimonV/bsc_dpdm22/blob/main/Final_Project66.ipynb\" target=\"_parent\"><img src=\"https://colab.research.google.com/assets/colab-badge.svg\" alt=\"Open In Colab\"/></a>"
      ]
    },
    {
      "cell_type": "markdown",
      "source": [
        "##Import"
      ],
      "metadata": {
        "id": "1TYbsqgjXQnY"
      }
    },
    {
      "cell_type": "code",
      "execution_count": 5,
      "metadata": {
        "id": "AuxAGiVdVlY1"
      },
      "outputs": [],
      "source": [
        "import pandas as pd\n",
        "from google.colab import drive"
      ]
    },
    {
      "cell_type": "code",
      "source": [
        "import os"
      ],
      "metadata": {
        "id": "JQYZFCroZBPS"
      },
      "execution_count": 6,
      "outputs": []
    },
    {
      "cell_type": "code",
      "source": [
        "from google.colab import drive\n",
        "drive.mount('/content/drive')"
      ],
      "metadata": {
        "colab": {
          "base_uri": "https://localhost:8080/"
        },
        "id": "Z8thCCe1rfp8",
        "outputId": "034710c3-98d2-4992-cc13-d18b30ebd614"
      },
      "execution_count": 7,
      "outputs": [
        {
          "output_type": "stream",
          "name": "stdout",
          "text": [
            "Drive already mounted at /content/drive; to attempt to forcibly remount, call drive.mount(\"/content/drive\", force_remount=True).\n"
          ]
        }
      ]
    },
    {
      "cell_type": "code",
      "source": [
        "drive.mount('/content/drive')\n",
        "path =  '/content/drive/MyDrive/bsc_DPDM_data'"
      ],
      "metadata": {
        "colab": {
          "base_uri": "https://localhost:8080/"
        },
        "id": "_C1CzDH0X_Ah",
        "outputId": "a67595f8-7a31-4b80-a432-c6d808ea34a2"
      },
      "execution_count": 8,
      "outputs": [
        {
          "output_type": "stream",
          "name": "stdout",
          "text": [
            "Drive already mounted at /content/drive; to attempt to forcibly remount, call drive.mount(\"/content/drive\", force_remount=True).\n"
          ]
        }
      ]
    },
    {
      "cell_type": "code",
      "source": [
        "data1_train = pd.read_csv(os.path.join(path,'churn-bigml-80.csv')) #Os.path.join = path แต่ละอันไม่เหมือนกัน = เชื่อมต่อกันแบบมีส่วนหน้า,หลัง ; Encoding = ภาษาให้เข้าใจง่าย\n",
        "data2_test = pd.read_csv(os.path.join(path,'churn-bigml-20.csv')) #Os.path.join = path แต่ละอันไม่เหมือนกัน = เชื่อมต่อกันแบบมีส่วนหน้า,หลัง ; Encoding = ภาษาให้เข้าใจง่าย"
      ],
      "metadata": {
        "id": "-osxG2VIYDkA"
      },
      "execution_count": 9,
      "outputs": []
    },
    {
      "cell_type": "code",
      "source": [
        "data = pd.concat([data1_train, data2_test], axis=0)"
      ],
      "metadata": {
        "id": "U8D8rJ-3d9ut"
      },
      "execution_count": 10,
      "outputs": []
    },
    {
      "cell_type": "markdown",
      "source": [
        "- รวมไฟล์ทั้ง 2 แบบไม่ทำอะไรเลย"
      ],
      "metadata": {
        "id": "iGdmrWm9MPeQ"
      }
    },
    {
      "cell_type": "code",
      "source": [
        "data = data.reset_index(drop=True)\n",
        "data.index = data.index + 1"
      ],
      "metadata": {
        "id": "B8Q2J_IucuEE"
      },
      "execution_count": 11,
      "outputs": []
    },
    {
      "cell_type": "markdown",
      "source": [
        "##Data Prepare"
      ],
      "metadata": {
        "id": "099M5hMlXNyW"
      }
    },
    {
      "cell_type": "code",
      "source": [
        "import numpy as np # linear algebra\n",
        "from math import * # module math\n",
        "import matplotlib.pyplot as plt # visualization\n",
        "from PIL import Image\n",
        "import seaborn as sns # visualization\n",
        "import itertools\n",
        "import io\n",
        "import plotly.offline as py # visualization\n",
        "import plotly.graph_objs as go # visualization\n",
        "from plotly.subplots import make_subplots\n",
        "import plotly.figure_factory as ff # visualization\n",
        "import warnings\n",
        "warnings.filterwarnings(\"ignore\")\n",
        "%matplotlib inline"
      ],
      "metadata": {
        "id": "xgnBXZlxmIhT"
      },
      "execution_count": 12,
      "outputs": []
    },
    {
      "cell_type": "markdown",
      "source": [
        "##Correlations Plot"
      ],
      "metadata": {
        "id": "vsIsxpSCXWVD"
      }
    },
    {
      "cell_type": "code",
      "source": [
        "#correlation\n",
        "correlation = data.corr()\n",
        "#tick labels\n",
        "matrix_cols = correlation.columns.tolist()\n",
        "#convert to array\n",
        "corr_array = np.array(correlation)\n",
        "\n",
        "#Plotting\n",
        "trace = go.Heatmap(z = corr_array,\n",
        "                   x = matrix_cols,\n",
        "                   y = matrix_cols,\n",
        "                   colorscale = \"Viridis\",\n",
        "                   colorbar = dict(title = \"Pearson Correlation coefficients\", titleside = \"right\"),\n",
        "                  )\n",
        "layout = go.Layout(dict(title = \"Correlation matrix\",\n",
        "                        autosize = False,\n",
        "                        height = 720,\n",
        "                        width = 800,\n",
        "                        margin = dict(r = 0, l = 210, t = 25, b = 210),\n",
        "                        yaxis = dict(tickfont = dict(size = 9)),\n",
        "                        xaxis = dict(tickfont = dict(size = 9))\n",
        "                       )\n",
        "                  )\n",
        "dataplot = [trace]\n",
        "fig = go.Figure(data=dataplot, layout=layout)\n",
        "py.iplot(fig)"
      ],
      "metadata": {
        "colab": {
          "base_uri": "https://localhost:8080/",
          "height": 737
        },
        "id": "-j89QAuiXV9q",
        "outputId": "cd050512-bc3b-4594-c3ef-0ae26a397af5"
      },
      "execution_count": 13,
      "outputs": [
        {
          "output_type": "display_data",
          "data": {
            "text/html": [
              "<html>\n",
              "<head><meta charset=\"utf-8\" /></head>\n",
              "<body>\n",
              "    <div>            <script src=\"https://cdnjs.cloudflare.com/ajax/libs/mathjax/2.7.5/MathJax.js?config=TeX-AMS-MML_SVG\"></script><script type=\"text/javascript\">if (window.MathJax && window.MathJax.Hub && window.MathJax.Hub.Config) {window.MathJax.Hub.Config({SVG: {font: \"STIX-Web\"}});}</script>                <script type=\"text/javascript\">window.PlotlyConfig = {MathJaxConfig: 'local'};</script>\n",
              "        <script src=\"https://cdn.plot.ly/plotly-2.18.2.min.js\"></script>                <div id=\"cfcd88f5-9daf-40bf-b4ff-7764c6b330f1\" class=\"plotly-graph-div\" style=\"height:720px; width:800px;\"></div>            <script type=\"text/javascript\">                                    window.PLOTLYENV=window.PLOTLYENV || {};                                    if (document.getElementById(\"cfcd88f5-9daf-40bf-b4ff-7764c6b330f1\")) {                    Plotly.newPlot(                        \"cfcd88f5-9daf-40bf-b4ff-7764c6b330f1\",                        [{\"colorbar\":{\"title\":{\"side\":\"right\",\"text\":\"Pearson Correlation coefficients\"}},\"colorscale\":[[0.0,\"#440154\"],[0.1111111111111111,\"#482878\"],[0.2222222222222222,\"#3e4989\"],[0.3333333333333333,\"#31688e\"],[0.4444444444444444,\"#26828e\"],[0.5555555555555556,\"#1f9e89\"],[0.6666666666666666,\"#35b779\"],[0.7777777777777778,\"#6ece58\"],[0.8888888888888888,\"#b5de2b\"],[1.0,\"#fde725\"]],\"x\":[\"Account length\",\"Area code\",\"Number vmail messages\",\"Total day minutes\",\"Total day calls\",\"Total day charge\",\"Total eve minutes\",\"Total eve calls\",\"Total eve charge\",\"Total night minutes\",\"Total night calls\",\"Total night charge\",\"Total intl minutes\",\"Total intl calls\",\"Total intl charge\",\"Customer service calls\",\"Churn\"],\"y\":[\"Account length\",\"Area code\",\"Number vmail messages\",\"Total day minutes\",\"Total day calls\",\"Total day charge\",\"Total eve minutes\",\"Total eve calls\",\"Total eve charge\",\"Total night minutes\",\"Total night calls\",\"Total night charge\",\"Total intl minutes\",\"Total intl calls\",\"Total intl charge\",\"Customer service calls\",\"Churn\"],\"z\":[[1.0,-0.012463496664028578,-0.004627824325108227,0.006216020532194281,0.03846988231670477,0.006214134694388888,-0.006757141994218947,0.01925996700956495,-0.006745301728173134,-0.008955191857065994,-0.013176275129294143,-0.008959534545385294,0.009513902342048394,0.020661428380667517,0.009545674800715975,-0.003795938927046041,0.016540742243674092],[-0.012463496664028578,1.0,-0.0019943700835123035,-0.008264366168389086,-0.009646043977812723,-0.00826444108261078,0.0035803948482152057,-0.01188627078801613,0.0036066902195477186,-0.005824659840635892,0.016522316925722407,-0.005845375742311549,-0.018288168218451577,-0.024178588723814093,-0.018394695992920478,0.02757222567226509,0.006174233160678172],[-0.004627824325108227,-0.0019943700835123035,1.0,0.000778274098700515,-0.009548067661971875,0.0007755234585549905,0.017562034258063738,-0.005864351294292006,0.017577780115722124,0.007681135938935332,0.007123062912801908,0.007663290430631254,0.002856195879589399,0.01395733867180488,0.002883657907770868,-0.013262583062485166,-0.08972796983506433],[0.006216020532194281,-0.008264366168389086,0.000778274098700515,1.0,0.006750413879729634,0.9999999521904008,0.0070425109937776505,0.015768993160328145,0.007029035251564238,0.004323366578518071,0.02297245550654227,0.004300357041792304,-0.010154585571599579,0.008033356952136956,-0.010091974161608279,-0.013423186351805895,0.20515082926139072],[0.03846988231670477,-0.009646043977812723,-0.009548067661971875,0.006750413879729634,1.0,0.006752961967446203,-0.021451407815682586,0.006462113654156914,-0.02144926263514335,0.02293784532486071,-0.019556965357458503,0.02292663775833335,0.021564794329714875,0.004574268228354762,0.02166609515687858,-0.018941930313584366,0.018459311608577007],[0.006214134694388888,-0.00826444108261078,0.0007755234585549905,0.9999999521904008,0.006752961967446203,1.0,0.007049607188445667,0.01576928215225523,0.00703613149512632,0.004323879377027686,0.022972419522033185,0.004300860788641267,-0.010156861586640876,0.008031571971861358,-0.010094257193007808,-0.013426969383537117,0.20515074317015466],[-0.006757141994218947,0.0035803948482152057,0.017562034258063738,0.0070425109937776505,-0.021451407815682586,0.007049607188445667,1.0,-0.011430108165517908,0.9999997760198508,-0.012583677929227339,0.007585643074590798,-0.012592805749304973,-0.011034714405092145,0.0025412917388004477,-0.0110666213132502,-0.012984552867109074,0.09279579031259189],[0.01925996700956495,-0.01188627078801613,-0.005864351294292006,0.015768993160328145,0.006462113654156914,0.01576928215225523,-0.011430108165517908,1.0,-0.011422894273234828,-0.002092768004868057,0.007709705543563772,-0.0020559843069095675,0.008702880654677156,0.01743369206986388,0.008673857642456814,0.0024225746998399983,0.009233131913078299],[-0.006745301728173134,0.0036066902195477186,0.017577780115722124,0.007029035251564238,-0.02144926263514335,0.00703613149512632,0.9999997760198508,-0.011422894273234828,1.0,-0.012592020408875342,0.007595842965837986,-0.012601142055022102,-0.011042581974576686,0.002541458019650715,-0.011074498925597311,-0.01298740692995945,0.09278603942871355],[-0.008955191857065994,-0.005824659840635892,0.007681135938935332,0.004323366578518071,0.02293784532486071,0.004323879377027686,-0.012583677929227339,-0.002092768004868057,-0.012592020408875342,1.0,0.011203856290700075,0.9999992148758784,-0.01520729728274182,-0.012353432385806608,-0.015179849098513623,-0.009287612696798193,0.035492853421274326],[-0.013176275129294143,0.016522316925722407,0.007123062912801908,0.02297245550654227,-0.019556965357458503,0.022972419522033185,0.007585643074590798,0.007709705543563772,0.007595842965837986,0.011203856290700075,1.0,0.011187819717052133,-0.01360499641934361,0.00030457953213115107,-0.013630169606337854,-0.01280192733103718,0.006141203007399601],[-0.008959534545385294,-0.005845375742311549,0.007663290430631254,0.004300357041792304,0.02292663775833335,0.004300860788641267,-0.012592805749304973,-0.0020559843069095675,-0.012601142055022102,0.9999992148758784,0.011187819717052133,1.0,-0.015213525825436832,-0.012329215024732719,-0.015186138565999112,-0.009276953579361704,0.03549555624050662],[0.009513902342048394,-0.018288168218451577,0.002856195879589399,-0.010154585571599579,0.021564794329714875,-0.010156861586640876,-0.011034714405092145,0.008702880654677156,-0.011042581974576686,-0.01520729728274182,-0.01360499641934361,-0.015213525825436832,1.0,0.03230388408942581,0.9999927417510344,-0.009639679589185957,0.06823877562717763],[0.020661428380667517,-0.024178588723814093,0.01395733867180488,0.008033356952136956,0.004574268228354762,0.008031571971861358,0.0025412917388004477,0.01743369206986388,0.002541458019650715,-0.012353432385806608,0.00030457953213115107,-0.012329215024732719,0.03230388408942581,1.0,0.03237214532243441,-0.01756059922428775,-0.052844335774137906],[0.009545674800715975,-0.018394695992920478,0.002883657907770868,-0.010091974161608279,0.02166609515687858,-0.010094257193007808,-0.0110666213132502,0.008673857642456814,-0.011074498925597311,-0.015179849098513623,-0.013630169606337854,-0.015186138565999112,0.9999927417510344,0.03237214532243441,1.0,-0.009674732350291395,0.06825863150391498],[-0.003795938927046041,0.02757222567226509,-0.013262583062485166,-0.013423186351805895,-0.018941930313584366,-0.013426969383537117,-0.012984552867109074,0.0024225746998399983,-0.01298740692995945,-0.009287612696798193,-0.01280192733103718,-0.009276953579361704,-0.009639679589185957,-0.01756059922428775,-0.009674732350291395,1.0,0.2087499987837941],[0.016540742243674092,0.006174233160678172,-0.08972796983506433,0.20515082926139072,0.018459311608577007,0.20515074317015466,0.09279579031259189,0.009233131913078299,0.09278603942871355,0.035492853421274326,0.006141203007399601,0.03549555624050662,0.06823877562717763,-0.052844335774137906,0.06825863150391498,0.2087499987837941,1.0]],\"type\":\"heatmap\"}],                        {\"autosize\":false,\"height\":720,\"margin\":{\"b\":210,\"l\":210,\"r\":0,\"t\":25},\"template\":{\"data\":{\"barpolar\":[{\"marker\":{\"line\":{\"color\":\"#E5ECF6\",\"width\":0.5},\"pattern\":{\"fillmode\":\"overlay\",\"size\":10,\"solidity\":0.2}},\"type\":\"barpolar\"}],\"bar\":[{\"error_x\":{\"color\":\"#2a3f5f\"},\"error_y\":{\"color\":\"#2a3f5f\"},\"marker\":{\"line\":{\"color\":\"#E5ECF6\",\"width\":0.5},\"pattern\":{\"fillmode\":\"overlay\",\"size\":10,\"solidity\":0.2}},\"type\":\"bar\"}],\"carpet\":[{\"aaxis\":{\"endlinecolor\":\"#2a3f5f\",\"gridcolor\":\"white\",\"linecolor\":\"white\",\"minorgridcolor\":\"white\",\"startlinecolor\":\"#2a3f5f\"},\"baxis\":{\"endlinecolor\":\"#2a3f5f\",\"gridcolor\":\"white\",\"linecolor\":\"white\",\"minorgridcolor\":\"white\",\"startlinecolor\":\"#2a3f5f\"},\"type\":\"carpet\"}],\"choropleth\":[{\"colorbar\":{\"outlinewidth\":0,\"ticks\":\"\"},\"type\":\"choropleth\"}],\"contourcarpet\":[{\"colorbar\":{\"outlinewidth\":0,\"ticks\":\"\"},\"type\":\"contourcarpet\"}],\"contour\":[{\"colorbar\":{\"outlinewidth\":0,\"ticks\":\"\"},\"colorscale\":[[0.0,\"#0d0887\"],[0.1111111111111111,\"#46039f\"],[0.2222222222222222,\"#7201a8\"],[0.3333333333333333,\"#9c179e\"],[0.4444444444444444,\"#bd3786\"],[0.5555555555555556,\"#d8576b\"],[0.6666666666666666,\"#ed7953\"],[0.7777777777777778,\"#fb9f3a\"],[0.8888888888888888,\"#fdca26\"],[1.0,\"#f0f921\"]],\"type\":\"contour\"}],\"heatmapgl\":[{\"colorbar\":{\"outlinewidth\":0,\"ticks\":\"\"},\"colorscale\":[[0.0,\"#0d0887\"],[0.1111111111111111,\"#46039f\"],[0.2222222222222222,\"#7201a8\"],[0.3333333333333333,\"#9c179e\"],[0.4444444444444444,\"#bd3786\"],[0.5555555555555556,\"#d8576b\"],[0.6666666666666666,\"#ed7953\"],[0.7777777777777778,\"#fb9f3a\"],[0.8888888888888888,\"#fdca26\"],[1.0,\"#f0f921\"]],\"type\":\"heatmapgl\"}],\"heatmap\":[{\"colorbar\":{\"outlinewidth\":0,\"ticks\":\"\"},\"colorscale\":[[0.0,\"#0d0887\"],[0.1111111111111111,\"#46039f\"],[0.2222222222222222,\"#7201a8\"],[0.3333333333333333,\"#9c179e\"],[0.4444444444444444,\"#bd3786\"],[0.5555555555555556,\"#d8576b\"],[0.6666666666666666,\"#ed7953\"],[0.7777777777777778,\"#fb9f3a\"],[0.8888888888888888,\"#fdca26\"],[1.0,\"#f0f921\"]],\"type\":\"heatmap\"}],\"histogram2dcontour\":[{\"colorbar\":{\"outlinewidth\":0,\"ticks\":\"\"},\"colorscale\":[[0.0,\"#0d0887\"],[0.1111111111111111,\"#46039f\"],[0.2222222222222222,\"#7201a8\"],[0.3333333333333333,\"#9c179e\"],[0.4444444444444444,\"#bd3786\"],[0.5555555555555556,\"#d8576b\"],[0.6666666666666666,\"#ed7953\"],[0.7777777777777778,\"#fb9f3a\"],[0.8888888888888888,\"#fdca26\"],[1.0,\"#f0f921\"]],\"type\":\"histogram2dcontour\"}],\"histogram2d\":[{\"colorbar\":{\"outlinewidth\":0,\"ticks\":\"\"},\"colorscale\":[[0.0,\"#0d0887\"],[0.1111111111111111,\"#46039f\"],[0.2222222222222222,\"#7201a8\"],[0.3333333333333333,\"#9c179e\"],[0.4444444444444444,\"#bd3786\"],[0.5555555555555556,\"#d8576b\"],[0.6666666666666666,\"#ed7953\"],[0.7777777777777778,\"#fb9f3a\"],[0.8888888888888888,\"#fdca26\"],[1.0,\"#f0f921\"]],\"type\":\"histogram2d\"}],\"histogram\":[{\"marker\":{\"pattern\":{\"fillmode\":\"overlay\",\"size\":10,\"solidity\":0.2}},\"type\":\"histogram\"}],\"mesh3d\":[{\"colorbar\":{\"outlinewidth\":0,\"ticks\":\"\"},\"type\":\"mesh3d\"}],\"parcoords\":[{\"line\":{\"colorbar\":{\"outlinewidth\":0,\"ticks\":\"\"}},\"type\":\"parcoords\"}],\"pie\":[{\"automargin\":true,\"type\":\"pie\"}],\"scatter3d\":[{\"line\":{\"colorbar\":{\"outlinewidth\":0,\"ticks\":\"\"}},\"marker\":{\"colorbar\":{\"outlinewidth\":0,\"ticks\":\"\"}},\"type\":\"scatter3d\"}],\"scattercarpet\":[{\"marker\":{\"colorbar\":{\"outlinewidth\":0,\"ticks\":\"\"}},\"type\":\"scattercarpet\"}],\"scattergeo\":[{\"marker\":{\"colorbar\":{\"outlinewidth\":0,\"ticks\":\"\"}},\"type\":\"scattergeo\"}],\"scattergl\":[{\"marker\":{\"colorbar\":{\"outlinewidth\":0,\"ticks\":\"\"}},\"type\":\"scattergl\"}],\"scattermapbox\":[{\"marker\":{\"colorbar\":{\"outlinewidth\":0,\"ticks\":\"\"}},\"type\":\"scattermapbox\"}],\"scatterpolargl\":[{\"marker\":{\"colorbar\":{\"outlinewidth\":0,\"ticks\":\"\"}},\"type\":\"scatterpolargl\"}],\"scatterpolar\":[{\"marker\":{\"colorbar\":{\"outlinewidth\":0,\"ticks\":\"\"}},\"type\":\"scatterpolar\"}],\"scatter\":[{\"fillpattern\":{\"fillmode\":\"overlay\",\"size\":10,\"solidity\":0.2},\"type\":\"scatter\"}],\"scatterternary\":[{\"marker\":{\"colorbar\":{\"outlinewidth\":0,\"ticks\":\"\"}},\"type\":\"scatterternary\"}],\"surface\":[{\"colorbar\":{\"outlinewidth\":0,\"ticks\":\"\"},\"colorscale\":[[0.0,\"#0d0887\"],[0.1111111111111111,\"#46039f\"],[0.2222222222222222,\"#7201a8\"],[0.3333333333333333,\"#9c179e\"],[0.4444444444444444,\"#bd3786\"],[0.5555555555555556,\"#d8576b\"],[0.6666666666666666,\"#ed7953\"],[0.7777777777777778,\"#fb9f3a\"],[0.8888888888888888,\"#fdca26\"],[1.0,\"#f0f921\"]],\"type\":\"surface\"}],\"table\":[{\"cells\":{\"fill\":{\"color\":\"#EBF0F8\"},\"line\":{\"color\":\"white\"}},\"header\":{\"fill\":{\"color\":\"#C8D4E3\"},\"line\":{\"color\":\"white\"}},\"type\":\"table\"}]},\"layout\":{\"annotationdefaults\":{\"arrowcolor\":\"#2a3f5f\",\"arrowhead\":0,\"arrowwidth\":1},\"autotypenumbers\":\"strict\",\"coloraxis\":{\"colorbar\":{\"outlinewidth\":0,\"ticks\":\"\"}},\"colorscale\":{\"diverging\":[[0,\"#8e0152\"],[0.1,\"#c51b7d\"],[0.2,\"#de77ae\"],[0.3,\"#f1b6da\"],[0.4,\"#fde0ef\"],[0.5,\"#f7f7f7\"],[0.6,\"#e6f5d0\"],[0.7,\"#b8e186\"],[0.8,\"#7fbc41\"],[0.9,\"#4d9221\"],[1,\"#276419\"]],\"sequential\":[[0.0,\"#0d0887\"],[0.1111111111111111,\"#46039f\"],[0.2222222222222222,\"#7201a8\"],[0.3333333333333333,\"#9c179e\"],[0.4444444444444444,\"#bd3786\"],[0.5555555555555556,\"#d8576b\"],[0.6666666666666666,\"#ed7953\"],[0.7777777777777778,\"#fb9f3a\"],[0.8888888888888888,\"#fdca26\"],[1.0,\"#f0f921\"]],\"sequentialminus\":[[0.0,\"#0d0887\"],[0.1111111111111111,\"#46039f\"],[0.2222222222222222,\"#7201a8\"],[0.3333333333333333,\"#9c179e\"],[0.4444444444444444,\"#bd3786\"],[0.5555555555555556,\"#d8576b\"],[0.6666666666666666,\"#ed7953\"],[0.7777777777777778,\"#fb9f3a\"],[0.8888888888888888,\"#fdca26\"],[1.0,\"#f0f921\"]]},\"colorway\":[\"#636efa\",\"#EF553B\",\"#00cc96\",\"#ab63fa\",\"#FFA15A\",\"#19d3f3\",\"#FF6692\",\"#B6E880\",\"#FF97FF\",\"#FECB52\"],\"font\":{\"color\":\"#2a3f5f\"},\"geo\":{\"bgcolor\":\"white\",\"lakecolor\":\"white\",\"landcolor\":\"#E5ECF6\",\"showlakes\":true,\"showland\":true,\"subunitcolor\":\"white\"},\"hoverlabel\":{\"align\":\"left\"},\"hovermode\":\"closest\",\"mapbox\":{\"style\":\"light\"},\"paper_bgcolor\":\"white\",\"plot_bgcolor\":\"#E5ECF6\",\"polar\":{\"angularaxis\":{\"gridcolor\":\"white\",\"linecolor\":\"white\",\"ticks\":\"\"},\"bgcolor\":\"#E5ECF6\",\"radialaxis\":{\"gridcolor\":\"white\",\"linecolor\":\"white\",\"ticks\":\"\"}},\"scene\":{\"xaxis\":{\"backgroundcolor\":\"#E5ECF6\",\"gridcolor\":\"white\",\"gridwidth\":2,\"linecolor\":\"white\",\"showbackground\":true,\"ticks\":\"\",\"zerolinecolor\":\"white\"},\"yaxis\":{\"backgroundcolor\":\"#E5ECF6\",\"gridcolor\":\"white\",\"gridwidth\":2,\"linecolor\":\"white\",\"showbackground\":true,\"ticks\":\"\",\"zerolinecolor\":\"white\"},\"zaxis\":{\"backgroundcolor\":\"#E5ECF6\",\"gridcolor\":\"white\",\"gridwidth\":2,\"linecolor\":\"white\",\"showbackground\":true,\"ticks\":\"\",\"zerolinecolor\":\"white\"}},\"shapedefaults\":{\"line\":{\"color\":\"#2a3f5f\"}},\"ternary\":{\"aaxis\":{\"gridcolor\":\"white\",\"linecolor\":\"white\",\"ticks\":\"\"},\"baxis\":{\"gridcolor\":\"white\",\"linecolor\":\"white\",\"ticks\":\"\"},\"bgcolor\":\"#E5ECF6\",\"caxis\":{\"gridcolor\":\"white\",\"linecolor\":\"white\",\"ticks\":\"\"}},\"title\":{\"x\":0.05},\"xaxis\":{\"automargin\":true,\"gridcolor\":\"white\",\"linecolor\":\"white\",\"ticks\":\"\",\"title\":{\"standoff\":15},\"zerolinecolor\":\"white\",\"zerolinewidth\":2},\"yaxis\":{\"automargin\":true,\"gridcolor\":\"white\",\"linecolor\":\"white\",\"ticks\":\"\",\"title\":{\"standoff\":15},\"zerolinecolor\":\"white\",\"zerolinewidth\":2}}},\"title\":{\"text\":\"Correlation matrix\"},\"width\":800,\"xaxis\":{\"tickfont\":{\"size\":9}},\"yaxis\":{\"tickfont\":{\"size\":9}}},                        {\"responsive\": true}                    ).then(function(){\n",
              "                            \n",
              "var gd = document.getElementById('cfcd88f5-9daf-40bf-b4ff-7764c6b330f1');\n",
              "var x = new MutationObserver(function (mutations, observer) {{\n",
              "        var display = window.getComputedStyle(gd).display;\n",
              "        if (!display || display === 'none') {{\n",
              "            console.log([gd, 'removed!']);\n",
              "            Plotly.purge(gd);\n",
              "            observer.disconnect();\n",
              "        }}\n",
              "}});\n",
              "\n",
              "// Listen for the removal of the full notebook cells\n",
              "var notebookContainer = gd.closest('#notebook-container');\n",
              "if (notebookContainer) {{\n",
              "    x.observe(notebookContainer, {childList: true});\n",
              "}}\n",
              "\n",
              "// Listen for the clearing of the current output cell\n",
              "var outputEl = gd.closest('.output');\n",
              "if (outputEl) {{\n",
              "    x.observe(outputEl, {childList: true});\n",
              "}}\n",
              "\n",
              "                        })                };                            </script>        </div>\n",
              "</body>\n",
              "</html>"
            ]
          },
          "metadata": {}
        }
      ]
    },
    {
      "cell_type": "markdown",
      "source": [
        "###StandardScaler"
      ],
      "metadata": {
        "id": "LG_TjnbeUghZ"
      }
    },
    {
      "cell_type": "code",
      "source": [
        "from sklearn.preprocessing import StandardScaler\n",
        "\n",
        "# Copying original dataframe\n",
        "data1_en_train_SL = data1_train.copy()\n",
        "\n",
        "scaler = StandardScaler()\n",
        "num_cols = ['Total day minutes',\n",
        "       'Total day calls', 'Total day charge', 'Total eve minutes',\n",
        "       'Total eve calls', 'Total eve charge', 'Total night minutes',\n",
        "       'Total night calls', 'Total night charge', 'Total intl minutes',\n",
        "       'Total intl calls', 'Total intl charge',]\n",
        "data1_en_train_SL[num_cols] = scaler.fit_transform(data1_en_train_SL[num_cols])\n",
        "data1_en_train_SL.head()\n",
        "     "
      ],
      "metadata": {
        "colab": {
          "base_uri": "https://localhost:8080/",
          "height": 305
        },
        "id": "4khBLmqqVCwx",
        "outputId": "d70a2883-762e-4fae-c8a2-1262575bbe6f"
      },
      "execution_count": 14,
      "outputs": [
        {
          "output_type": "execute_result",
          "data": {
            "text/plain": [
              "  State  Account length  Area code International plan Voice mail plan  \\\n",
              "0    KS             128        415                 No             Yes   \n",
              "1    OH             107        415                 No             Yes   \n",
              "2    NJ             137        415                 No              No   \n",
              "3    OH              84        408                Yes              No   \n",
              "4    OK              75        415                Yes              No   \n",
              "\n",
              "   Number vmail messages  Total day minutes  Total day calls  \\\n",
              "0                     25           1.579670         0.484868   \n",
              "1                     26          -0.329918         1.135375   \n",
              "2                      0           1.179302         0.685024   \n",
              "3                      0           2.212509        -1.466653   \n",
              "4                      0          -0.235822         0.634985   \n",
              "\n",
              "   Total day charge  Total eve minutes  Total eve calls  Total eve charge  \\\n",
              "0          1.579942          -0.058619        -0.050781         -0.058445   \n",
              "1         -0.330194          -0.095916         0.147654         -0.095397   \n",
              "2          1.179465          -1.554439         0.494917         -1.554963   \n",
              "3          2.212675          -2.718509        -0.596479         -2.718922   \n",
              "4         -0.235772          -1.022461         1.090224         -1.021482   \n",
              "\n",
              "   Total night minutes  Total night calls  Total night charge  \\\n",
              "0             0.857403          -0.469031            0.856707   \n",
              "1             1.048458           0.149054            1.049293   \n",
              "2            -0.759668           0.200561           -0.758391   \n",
              "3            -0.084083          -0.572045           -0.084339   \n",
              "4            -0.281046           1.076181           -0.281303   \n",
              "\n",
              "   Total intl minutes  Total intl calls  Total intl charge  \\\n",
              "0           -0.085020         -0.597527          -0.085681   \n",
              "1            1.242179         -0.597527           1.242921   \n",
              "2            0.704125          0.216894           0.698194   \n",
              "3           -1.304609          1.031314          -1.307995   \n",
              "4           -0.049150         -0.597527          -0.045823   \n",
              "\n",
              "   Customer service calls  Churn  \n",
              "0                       1  False  \n",
              "1                       1  False  \n",
              "2                       0  False  \n",
              "3                       2  False  \n",
              "4                       3  False  "
            ],
            "text/html": [
              "\n",
              "  <div id=\"df-b6806b73-d0e3-487f-8c0a-4372c57cc8d4\">\n",
              "    <div class=\"colab-df-container\">\n",
              "      <div>\n",
              "<style scoped>\n",
              "    .dataframe tbody tr th:only-of-type {\n",
              "        vertical-align: middle;\n",
              "    }\n",
              "\n",
              "    .dataframe tbody tr th {\n",
              "        vertical-align: top;\n",
              "    }\n",
              "\n",
              "    .dataframe thead th {\n",
              "        text-align: right;\n",
              "    }\n",
              "</style>\n",
              "<table border=\"1\" class=\"dataframe\">\n",
              "  <thead>\n",
              "    <tr style=\"text-align: right;\">\n",
              "      <th></th>\n",
              "      <th>State</th>\n",
              "      <th>Account length</th>\n",
              "      <th>Area code</th>\n",
              "      <th>International plan</th>\n",
              "      <th>Voice mail plan</th>\n",
              "      <th>Number vmail messages</th>\n",
              "      <th>Total day minutes</th>\n",
              "      <th>Total day calls</th>\n",
              "      <th>Total day charge</th>\n",
              "      <th>Total eve minutes</th>\n",
              "      <th>Total eve calls</th>\n",
              "      <th>Total eve charge</th>\n",
              "      <th>Total night minutes</th>\n",
              "      <th>Total night calls</th>\n",
              "      <th>Total night charge</th>\n",
              "      <th>Total intl minutes</th>\n",
              "      <th>Total intl calls</th>\n",
              "      <th>Total intl charge</th>\n",
              "      <th>Customer service calls</th>\n",
              "      <th>Churn</th>\n",
              "    </tr>\n",
              "  </thead>\n",
              "  <tbody>\n",
              "    <tr>\n",
              "      <th>0</th>\n",
              "      <td>KS</td>\n",
              "      <td>128</td>\n",
              "      <td>415</td>\n",
              "      <td>No</td>\n",
              "      <td>Yes</td>\n",
              "      <td>25</td>\n",
              "      <td>1.579670</td>\n",
              "      <td>0.484868</td>\n",
              "      <td>1.579942</td>\n",
              "      <td>-0.058619</td>\n",
              "      <td>-0.050781</td>\n",
              "      <td>-0.058445</td>\n",
              "      <td>0.857403</td>\n",
              "      <td>-0.469031</td>\n",
              "      <td>0.856707</td>\n",
              "      <td>-0.085020</td>\n",
              "      <td>-0.597527</td>\n",
              "      <td>-0.085681</td>\n",
              "      <td>1</td>\n",
              "      <td>False</td>\n",
              "    </tr>\n",
              "    <tr>\n",
              "      <th>1</th>\n",
              "      <td>OH</td>\n",
              "      <td>107</td>\n",
              "      <td>415</td>\n",
              "      <td>No</td>\n",
              "      <td>Yes</td>\n",
              "      <td>26</td>\n",
              "      <td>-0.329918</td>\n",
              "      <td>1.135375</td>\n",
              "      <td>-0.330194</td>\n",
              "      <td>-0.095916</td>\n",
              "      <td>0.147654</td>\n",
              "      <td>-0.095397</td>\n",
              "      <td>1.048458</td>\n",
              "      <td>0.149054</td>\n",
              "      <td>1.049293</td>\n",
              "      <td>1.242179</td>\n",
              "      <td>-0.597527</td>\n",
              "      <td>1.242921</td>\n",
              "      <td>1</td>\n",
              "      <td>False</td>\n",
              "    </tr>\n",
              "    <tr>\n",
              "      <th>2</th>\n",
              "      <td>NJ</td>\n",
              "      <td>137</td>\n",
              "      <td>415</td>\n",
              "      <td>No</td>\n",
              "      <td>No</td>\n",
              "      <td>0</td>\n",
              "      <td>1.179302</td>\n",
              "      <td>0.685024</td>\n",
              "      <td>1.179465</td>\n",
              "      <td>-1.554439</td>\n",
              "      <td>0.494917</td>\n",
              "      <td>-1.554963</td>\n",
              "      <td>-0.759668</td>\n",
              "      <td>0.200561</td>\n",
              "      <td>-0.758391</td>\n",
              "      <td>0.704125</td>\n",
              "      <td>0.216894</td>\n",
              "      <td>0.698194</td>\n",
              "      <td>0</td>\n",
              "      <td>False</td>\n",
              "    </tr>\n",
              "    <tr>\n",
              "      <th>3</th>\n",
              "      <td>OH</td>\n",
              "      <td>84</td>\n",
              "      <td>408</td>\n",
              "      <td>Yes</td>\n",
              "      <td>No</td>\n",
              "      <td>0</td>\n",
              "      <td>2.212509</td>\n",
              "      <td>-1.466653</td>\n",
              "      <td>2.212675</td>\n",
              "      <td>-2.718509</td>\n",
              "      <td>-0.596479</td>\n",
              "      <td>-2.718922</td>\n",
              "      <td>-0.084083</td>\n",
              "      <td>-0.572045</td>\n",
              "      <td>-0.084339</td>\n",
              "      <td>-1.304609</td>\n",
              "      <td>1.031314</td>\n",
              "      <td>-1.307995</td>\n",
              "      <td>2</td>\n",
              "      <td>False</td>\n",
              "    </tr>\n",
              "    <tr>\n",
              "      <th>4</th>\n",
              "      <td>OK</td>\n",
              "      <td>75</td>\n",
              "      <td>415</td>\n",
              "      <td>Yes</td>\n",
              "      <td>No</td>\n",
              "      <td>0</td>\n",
              "      <td>-0.235822</td>\n",
              "      <td>0.634985</td>\n",
              "      <td>-0.235772</td>\n",
              "      <td>-1.022461</td>\n",
              "      <td>1.090224</td>\n",
              "      <td>-1.021482</td>\n",
              "      <td>-0.281046</td>\n",
              "      <td>1.076181</td>\n",
              "      <td>-0.281303</td>\n",
              "      <td>-0.049150</td>\n",
              "      <td>-0.597527</td>\n",
              "      <td>-0.045823</td>\n",
              "      <td>3</td>\n",
              "      <td>False</td>\n",
              "    </tr>\n",
              "  </tbody>\n",
              "</table>\n",
              "</div>\n",
              "      <button class=\"colab-df-convert\" onclick=\"convertToInteractive('df-b6806b73-d0e3-487f-8c0a-4372c57cc8d4')\"\n",
              "              title=\"Convert this dataframe to an interactive table.\"\n",
              "              style=\"display:none;\">\n",
              "        \n",
              "  <svg xmlns=\"http://www.w3.org/2000/svg\" height=\"24px\"viewBox=\"0 0 24 24\"\n",
              "       width=\"24px\">\n",
              "    <path d=\"M0 0h24v24H0V0z\" fill=\"none\"/>\n",
              "    <path d=\"M18.56 5.44l.94 2.06.94-2.06 2.06-.94-2.06-.94-.94-2.06-.94 2.06-2.06.94zm-11 1L8.5 8.5l.94-2.06 2.06-.94-2.06-.94L8.5 2.5l-.94 2.06-2.06.94zm10 10l.94 2.06.94-2.06 2.06-.94-2.06-.94-.94-2.06-.94 2.06-2.06.94z\"/><path d=\"M17.41 7.96l-1.37-1.37c-.4-.4-.92-.59-1.43-.59-.52 0-1.04.2-1.43.59L10.3 9.45l-7.72 7.72c-.78.78-.78 2.05 0 2.83L4 21.41c.39.39.9.59 1.41.59.51 0 1.02-.2 1.41-.59l7.78-7.78 2.81-2.81c.8-.78.8-2.07 0-2.86zM5.41 20L4 18.59l7.72-7.72 1.47 1.35L5.41 20z\"/>\n",
              "  </svg>\n",
              "      </button>\n",
              "      \n",
              "  <style>\n",
              "    .colab-df-container {\n",
              "      display:flex;\n",
              "      flex-wrap:wrap;\n",
              "      gap: 12px;\n",
              "    }\n",
              "\n",
              "    .colab-df-convert {\n",
              "      background-color: #E8F0FE;\n",
              "      border: none;\n",
              "      border-radius: 50%;\n",
              "      cursor: pointer;\n",
              "      display: none;\n",
              "      fill: #1967D2;\n",
              "      height: 32px;\n",
              "      padding: 0 0 0 0;\n",
              "      width: 32px;\n",
              "    }\n",
              "\n",
              "    .colab-df-convert:hover {\n",
              "      background-color: #E2EBFA;\n",
              "      box-shadow: 0px 1px 2px rgba(60, 64, 67, 0.3), 0px 1px 3px 1px rgba(60, 64, 67, 0.15);\n",
              "      fill: #174EA6;\n",
              "    }\n",
              "\n",
              "    [theme=dark] .colab-df-convert {\n",
              "      background-color: #3B4455;\n",
              "      fill: #D2E3FC;\n",
              "    }\n",
              "\n",
              "    [theme=dark] .colab-df-convert:hover {\n",
              "      background-color: #434B5C;\n",
              "      box-shadow: 0px 1px 3px 1px rgba(0, 0, 0, 0.15);\n",
              "      filter: drop-shadow(0px 1px 2px rgba(0, 0, 0, 0.3));\n",
              "      fill: #FFFFFF;\n",
              "    }\n",
              "  </style>\n",
              "\n",
              "      <script>\n",
              "        const buttonEl =\n",
              "          document.querySelector('#df-b6806b73-d0e3-487f-8c0a-4372c57cc8d4 button.colab-df-convert');\n",
              "        buttonEl.style.display =\n",
              "          google.colab.kernel.accessAllowed ? 'block' : 'none';\n",
              "\n",
              "        async function convertToInteractive(key) {\n",
              "          const element = document.querySelector('#df-b6806b73-d0e3-487f-8c0a-4372c57cc8d4');\n",
              "          const dataTable =\n",
              "            await google.colab.kernel.invokeFunction('convertToInteractive',\n",
              "                                                     [key], {});\n",
              "          if (!dataTable) return;\n",
              "\n",
              "          const docLinkHtml = 'Like what you see? Visit the ' +\n",
              "            '<a target=\"_blank\" href=https://colab.research.google.com/notebooks/data_table.ipynb>data table notebook</a>'\n",
              "            + ' to learn more about interactive tables.';\n",
              "          element.innerHTML = '';\n",
              "          dataTable['output_type'] = 'display_data';\n",
              "          await google.colab.output.renderOutput(dataTable, element);\n",
              "          const docLink = document.createElement('div');\n",
              "          docLink.innerHTML = docLinkHtml;\n",
              "          element.appendChild(docLink);\n",
              "        }\n",
              "      </script>\n",
              "    </div>\n",
              "  </div>\n",
              "  "
            ]
          },
          "metadata": {},
          "execution_count": 14
        }
      ]
    },
    {
      "cell_type": "code",
      "source": [
        "from sklearn.preprocessing import StandardScaler\n",
        "\n",
        "# Copying original dataframe\n",
        "data2_en_test_SL = data2_test.copy()\n",
        "\n",
        "scaler = StandardScaler()\n",
        "num_cols = ['Total day minutes',\n",
        "       'Total day calls', 'Total day charge', 'Total eve minutes',\n",
        "       'Total eve calls', 'Total eve charge', 'Total night minutes',\n",
        "       'Total night calls', 'Total night charge', 'Total intl minutes',\n",
        "       'Total intl calls', 'Total intl charge',]\n",
        "data2_en_test_SL[num_cols] = scaler.fit_transform(data2_en_test_SL[num_cols])\n",
        "data2_en_test_SL.head()\n",
        "     "
      ],
      "metadata": {
        "colab": {
          "base_uri": "https://localhost:8080/",
          "height": 305
        },
        "id": "3a-3aL9YWhFy",
        "outputId": "9c289f1f-a7cc-49b1-f4ab-18752757e753"
      },
      "execution_count": 15,
      "outputs": [
        {
          "output_type": "execute_result",
          "data": {
            "text/plain": [
              "  State  Account length  Area code International plan Voice mail plan  \\\n",
              "0    LA             117        408                 No              No   \n",
              "1    IN              65        415                 No              No   \n",
              "2    NY             161        415                 No              No   \n",
              "3    SC             111        415                 No              No   \n",
              "4    HI              49        510                 No              No   \n",
              "\n",
              "   Number vmail messages  Total day minutes  Total day calls  \\\n",
              "0                      0           0.064036        -0.193167   \n",
              "1                      0          -0.934756         1.769398   \n",
              "2                      0           2.739500        -1.665090   \n",
              "3                      0          -1.271894         0.101218   \n",
              "4                      0          -1.111438         0.788115   \n",
              "\n",
              "   Total day charge  Total eve minutes  Total eve calls  Total eve charge  \\\n",
              "0          0.064504           2.983872        -1.081478          2.984789   \n",
              "1         -0.934501           0.506113        -0.923033          0.505504   \n",
              "2          2.739121           2.303545        -0.183625          2.302808   \n",
              "3         -1.271744          -1.329563         0.080450         -1.329688   \n",
              "4         -1.111607           0.236397         0.450154          0.235553   \n",
              "\n",
              "   Total night minutes  Total night calls  Total night charge  \\\n",
              "0             0.324092          -0.501749            0.323581   \n",
              "1             0.183311           0.540053            0.185049   \n",
              "2            -0.786067           1.383417           -0.784675   \n",
              "3            -0.202831           0.242395           -0.203735   \n",
              "4            -0.422048          -0.501749           -0.422705   \n",
              "\n",
              "   Total intl minutes  Total intl calls  Total intl charge  \\\n",
              "0           -0.548297         -0.212747          -0.547714   \n",
              "1            0.877350          0.593516           0.877843   \n",
              "2           -1.724455          1.802910          -1.722480   \n",
              "3           -0.904709          0.593516          -0.904104   \n",
              "4            0.307091         -1.422141           0.310260   \n",
              "\n",
              "   Customer service calls  Churn  \n",
              "0                       1  False  \n",
              "1                       4   True  \n",
              "2                       4   True  \n",
              "3                       2  False  \n",
              "4                       1  False  "
            ],
            "text/html": [
              "\n",
              "  <div id=\"df-30cdfa20-9cda-4891-9350-ae58a392f36c\">\n",
              "    <div class=\"colab-df-container\">\n",
              "      <div>\n",
              "<style scoped>\n",
              "    .dataframe tbody tr th:only-of-type {\n",
              "        vertical-align: middle;\n",
              "    }\n",
              "\n",
              "    .dataframe tbody tr th {\n",
              "        vertical-align: top;\n",
              "    }\n",
              "\n",
              "    .dataframe thead th {\n",
              "        text-align: right;\n",
              "    }\n",
              "</style>\n",
              "<table border=\"1\" class=\"dataframe\">\n",
              "  <thead>\n",
              "    <tr style=\"text-align: right;\">\n",
              "      <th></th>\n",
              "      <th>State</th>\n",
              "      <th>Account length</th>\n",
              "      <th>Area code</th>\n",
              "      <th>International plan</th>\n",
              "      <th>Voice mail plan</th>\n",
              "      <th>Number vmail messages</th>\n",
              "      <th>Total day minutes</th>\n",
              "      <th>Total day calls</th>\n",
              "      <th>Total day charge</th>\n",
              "      <th>Total eve minutes</th>\n",
              "      <th>Total eve calls</th>\n",
              "      <th>Total eve charge</th>\n",
              "      <th>Total night minutes</th>\n",
              "      <th>Total night calls</th>\n",
              "      <th>Total night charge</th>\n",
              "      <th>Total intl minutes</th>\n",
              "      <th>Total intl calls</th>\n",
              "      <th>Total intl charge</th>\n",
              "      <th>Customer service calls</th>\n",
              "      <th>Churn</th>\n",
              "    </tr>\n",
              "  </thead>\n",
              "  <tbody>\n",
              "    <tr>\n",
              "      <th>0</th>\n",
              "      <td>LA</td>\n",
              "      <td>117</td>\n",
              "      <td>408</td>\n",
              "      <td>No</td>\n",
              "      <td>No</td>\n",
              "      <td>0</td>\n",
              "      <td>0.064036</td>\n",
              "      <td>-0.193167</td>\n",
              "      <td>0.064504</td>\n",
              "      <td>2.983872</td>\n",
              "      <td>-1.081478</td>\n",
              "      <td>2.984789</td>\n",
              "      <td>0.324092</td>\n",
              "      <td>-0.501749</td>\n",
              "      <td>0.323581</td>\n",
              "      <td>-0.548297</td>\n",
              "      <td>-0.212747</td>\n",
              "      <td>-0.547714</td>\n",
              "      <td>1</td>\n",
              "      <td>False</td>\n",
              "    </tr>\n",
              "    <tr>\n",
              "      <th>1</th>\n",
              "      <td>IN</td>\n",
              "      <td>65</td>\n",
              "      <td>415</td>\n",
              "      <td>No</td>\n",
              "      <td>No</td>\n",
              "      <td>0</td>\n",
              "      <td>-0.934756</td>\n",
              "      <td>1.769398</td>\n",
              "      <td>-0.934501</td>\n",
              "      <td>0.506113</td>\n",
              "      <td>-0.923033</td>\n",
              "      <td>0.505504</td>\n",
              "      <td>0.183311</td>\n",
              "      <td>0.540053</td>\n",
              "      <td>0.185049</td>\n",
              "      <td>0.877350</td>\n",
              "      <td>0.593516</td>\n",
              "      <td>0.877843</td>\n",
              "      <td>4</td>\n",
              "      <td>True</td>\n",
              "    </tr>\n",
              "    <tr>\n",
              "      <th>2</th>\n",
              "      <td>NY</td>\n",
              "      <td>161</td>\n",
              "      <td>415</td>\n",
              "      <td>No</td>\n",
              "      <td>No</td>\n",
              "      <td>0</td>\n",
              "      <td>2.739500</td>\n",
              "      <td>-1.665090</td>\n",
              "      <td>2.739121</td>\n",
              "      <td>2.303545</td>\n",
              "      <td>-0.183625</td>\n",
              "      <td>2.302808</td>\n",
              "      <td>-0.786067</td>\n",
              "      <td>1.383417</td>\n",
              "      <td>-0.784675</td>\n",
              "      <td>-1.724455</td>\n",
              "      <td>1.802910</td>\n",
              "      <td>-1.722480</td>\n",
              "      <td>4</td>\n",
              "      <td>True</td>\n",
              "    </tr>\n",
              "    <tr>\n",
              "      <th>3</th>\n",
              "      <td>SC</td>\n",
              "      <td>111</td>\n",
              "      <td>415</td>\n",
              "      <td>No</td>\n",
              "      <td>No</td>\n",
              "      <td>0</td>\n",
              "      <td>-1.271894</td>\n",
              "      <td>0.101218</td>\n",
              "      <td>-1.271744</td>\n",
              "      <td>-1.329563</td>\n",
              "      <td>0.080450</td>\n",
              "      <td>-1.329688</td>\n",
              "      <td>-0.202831</td>\n",
              "      <td>0.242395</td>\n",
              "      <td>-0.203735</td>\n",
              "      <td>-0.904709</td>\n",
              "      <td>0.593516</td>\n",
              "      <td>-0.904104</td>\n",
              "      <td>2</td>\n",
              "      <td>False</td>\n",
              "    </tr>\n",
              "    <tr>\n",
              "      <th>4</th>\n",
              "      <td>HI</td>\n",
              "      <td>49</td>\n",
              "      <td>510</td>\n",
              "      <td>No</td>\n",
              "      <td>No</td>\n",
              "      <td>0</td>\n",
              "      <td>-1.111438</td>\n",
              "      <td>0.788115</td>\n",
              "      <td>-1.111607</td>\n",
              "      <td>0.236397</td>\n",
              "      <td>0.450154</td>\n",
              "      <td>0.235553</td>\n",
              "      <td>-0.422048</td>\n",
              "      <td>-0.501749</td>\n",
              "      <td>-0.422705</td>\n",
              "      <td>0.307091</td>\n",
              "      <td>-1.422141</td>\n",
              "      <td>0.310260</td>\n",
              "      <td>1</td>\n",
              "      <td>False</td>\n",
              "    </tr>\n",
              "  </tbody>\n",
              "</table>\n",
              "</div>\n",
              "      <button class=\"colab-df-convert\" onclick=\"convertToInteractive('df-30cdfa20-9cda-4891-9350-ae58a392f36c')\"\n",
              "              title=\"Convert this dataframe to an interactive table.\"\n",
              "              style=\"display:none;\">\n",
              "        \n",
              "  <svg xmlns=\"http://www.w3.org/2000/svg\" height=\"24px\"viewBox=\"0 0 24 24\"\n",
              "       width=\"24px\">\n",
              "    <path d=\"M0 0h24v24H0V0z\" fill=\"none\"/>\n",
              "    <path d=\"M18.56 5.44l.94 2.06.94-2.06 2.06-.94-2.06-.94-.94-2.06-.94 2.06-2.06.94zm-11 1L8.5 8.5l.94-2.06 2.06-.94-2.06-.94L8.5 2.5l-.94 2.06-2.06.94zm10 10l.94 2.06.94-2.06 2.06-.94-2.06-.94-.94-2.06-.94 2.06-2.06.94z\"/><path d=\"M17.41 7.96l-1.37-1.37c-.4-.4-.92-.59-1.43-.59-.52 0-1.04.2-1.43.59L10.3 9.45l-7.72 7.72c-.78.78-.78 2.05 0 2.83L4 21.41c.39.39.9.59 1.41.59.51 0 1.02-.2 1.41-.59l7.78-7.78 2.81-2.81c.8-.78.8-2.07 0-2.86zM5.41 20L4 18.59l7.72-7.72 1.47 1.35L5.41 20z\"/>\n",
              "  </svg>\n",
              "      </button>\n",
              "      \n",
              "  <style>\n",
              "    .colab-df-container {\n",
              "      display:flex;\n",
              "      flex-wrap:wrap;\n",
              "      gap: 12px;\n",
              "    }\n",
              "\n",
              "    .colab-df-convert {\n",
              "      background-color: #E8F0FE;\n",
              "      border: none;\n",
              "      border-radius: 50%;\n",
              "      cursor: pointer;\n",
              "      display: none;\n",
              "      fill: #1967D2;\n",
              "      height: 32px;\n",
              "      padding: 0 0 0 0;\n",
              "      width: 32px;\n",
              "    }\n",
              "\n",
              "    .colab-df-convert:hover {\n",
              "      background-color: #E2EBFA;\n",
              "      box-shadow: 0px 1px 2px rgba(60, 64, 67, 0.3), 0px 1px 3px 1px rgba(60, 64, 67, 0.15);\n",
              "      fill: #174EA6;\n",
              "    }\n",
              "\n",
              "    [theme=dark] .colab-df-convert {\n",
              "      background-color: #3B4455;\n",
              "      fill: #D2E3FC;\n",
              "    }\n",
              "\n",
              "    [theme=dark] .colab-df-convert:hover {\n",
              "      background-color: #434B5C;\n",
              "      box-shadow: 0px 1px 3px 1px rgba(0, 0, 0, 0.15);\n",
              "      filter: drop-shadow(0px 1px 2px rgba(0, 0, 0, 0.3));\n",
              "      fill: #FFFFFF;\n",
              "    }\n",
              "  </style>\n",
              "\n",
              "      <script>\n",
              "        const buttonEl =\n",
              "          document.querySelector('#df-30cdfa20-9cda-4891-9350-ae58a392f36c button.colab-df-convert');\n",
              "        buttonEl.style.display =\n",
              "          google.colab.kernel.accessAllowed ? 'block' : 'none';\n",
              "\n",
              "        async function convertToInteractive(key) {\n",
              "          const element = document.querySelector('#df-30cdfa20-9cda-4891-9350-ae58a392f36c');\n",
              "          const dataTable =\n",
              "            await google.colab.kernel.invokeFunction('convertToInteractive',\n",
              "                                                     [key], {});\n",
              "          if (!dataTable) return;\n",
              "\n",
              "          const docLinkHtml = 'Like what you see? Visit the ' +\n",
              "            '<a target=\"_blank\" href=https://colab.research.google.com/notebooks/data_table.ipynb>data table notebook</a>'\n",
              "            + ' to learn more about interactive tables.';\n",
              "          element.innerHTML = '';\n",
              "          dataTable['output_type'] = 'display_data';\n",
              "          await google.colab.output.renderOutput(dataTable, element);\n",
              "          const docLink = document.createElement('div');\n",
              "          docLink.innerHTML = docLinkHtml;\n",
              "          element.appendChild(docLink);\n",
              "        }\n",
              "      </script>\n",
              "    </div>\n",
              "  </div>\n",
              "  "
            ]
          },
          "metadata": {},
          "execution_count": 15
        }
      ]
    },
    {
      "cell_type": "markdown",
      "source": [
        "- Data 1_en = data1_en_train_SL ที่ไว้เทรน 80% ทำ Dummie\n",
        "- Data 2_en = data2_en_test_SL ที่ไว้เทส  20% ทำ Dummie"
      ],
      "metadata": {
        "id": "72lxG1cpKMgu"
      }
    },
    {
      "cell_type": "code",
      "source": [
        "data1_en_train = pd.get_dummies(data1_en_train_SL, columns=['State','International plan','Voice mail plan'])\n",
        "# Convert 'True' values to 1 and 'False' values to 0\n",
        "data1_en_train['Churn'] = data1_en_train['Churn'].astype(int)"
      ],
      "metadata": {
        "id": "rzrQubEuByq0"
      },
      "execution_count": 16,
      "outputs": []
    },
    {
      "cell_type": "code",
      "source": [
        "data1_en_train = data1_en_train[['Account length', 'Area code', 'Number vmail messages',\n",
        "       'Total day minutes', 'Total day calls', 'Total day charge',\n",
        "       'Total eve minutes', 'Total eve calls', 'Total eve charge',\n",
        "       'Total night minutes', 'Total night calls', 'Total night charge',\n",
        "       'Total intl minutes', 'Total intl calls', 'Total intl charge',\n",
        "       'Customer service calls', 'State_AK', 'State_AL', 'State_AR',\n",
        "       'State_AZ', 'State_CA', 'State_CO', 'State_CT', 'State_DC', 'State_DE',\n",
        "       'State_FL', 'State_GA', 'State_HI', 'State_IA', 'State_ID', 'State_IL',\n",
        "       'State_IN', 'State_KS', 'State_KY', 'State_LA', 'State_MA', 'State_MD',\n",
        "       'State_ME', 'State_MI', 'State_MN', 'State_MO', 'State_MS', 'State_MT',\n",
        "       'State_NC', 'State_ND', 'State_NE', 'State_NH', 'State_NJ', 'State_NM',\n",
        "       'State_NV', 'State_NY', 'State_OH', 'State_OK', 'State_OR', 'State_PA',\n",
        "       'State_RI', 'State_SC', 'State_SD', 'State_TN', 'State_TX', 'State_UT',\n",
        "       'State_VA', 'State_VT', 'State_WA', 'State_WI', 'State_WV', 'State_WY',\n",
        "       'International plan_No', 'International plan_Yes', 'Voice mail plan_No',\n",
        "       'Voice mail plan_Yes','Churn']]\n",
        "data1_en_train.head()"
      ],
      "metadata": {
        "id": "1ihrRfd0GCvn",
        "colab": {
          "base_uri": "https://localhost:8080/",
          "height": 334
        },
        "outputId": "97701968-8995-40b2-8a4e-6f7ffc017ba6"
      },
      "execution_count": 17,
      "outputs": [
        {
          "output_type": "execute_result",
          "data": {
            "text/plain": [
              "   Account length  Area code  Number vmail messages  Total day minutes  \\\n",
              "0             128        415                     25           1.579670   \n",
              "1             107        415                     26          -0.329918   \n",
              "2             137        415                      0           1.179302   \n",
              "3              84        408                      0           2.212509   \n",
              "4              75        415                      0          -0.235822   \n",
              "\n",
              "   Total day calls  Total day charge  Total eve minutes  Total eve calls  \\\n",
              "0         0.484868          1.579942          -0.058619        -0.050781   \n",
              "1         1.135375         -0.330194          -0.095916         0.147654   \n",
              "2         0.685024          1.179465          -1.554439         0.494917   \n",
              "3        -1.466653          2.212675          -2.718509        -0.596479   \n",
              "4         0.634985         -0.235772          -1.022461         1.090224   \n",
              "\n",
              "   Total eve charge  Total night minutes  ...  State_VT  State_WA  State_WI  \\\n",
              "0         -0.058445             0.857403  ...         0         0         0   \n",
              "1         -0.095397             1.048458  ...         0         0         0   \n",
              "2         -1.554963            -0.759668  ...         0         0         0   \n",
              "3         -2.718922            -0.084083  ...         0         0         0   \n",
              "4         -1.021482            -0.281046  ...         0         0         0   \n",
              "\n",
              "   State_WV  State_WY  International plan_No  International plan_Yes  \\\n",
              "0         0         0                      1                       0   \n",
              "1         0         0                      1                       0   \n",
              "2         0         0                      1                       0   \n",
              "3         0         0                      0                       1   \n",
              "4         0         0                      0                       1   \n",
              "\n",
              "   Voice mail plan_No  Voice mail plan_Yes  Churn  \n",
              "0                   0                    1      0  \n",
              "1                   0                    1      0  \n",
              "2                   1                    0      0  \n",
              "3                   1                    0      0  \n",
              "4                   1                    0      0  \n",
              "\n",
              "[5 rows x 72 columns]"
            ],
            "text/html": [
              "\n",
              "  <div id=\"df-905e2596-f8b4-4ac9-a0d0-6222b9f92565\">\n",
              "    <div class=\"colab-df-container\">\n",
              "      <div>\n",
              "<style scoped>\n",
              "    .dataframe tbody tr th:only-of-type {\n",
              "        vertical-align: middle;\n",
              "    }\n",
              "\n",
              "    .dataframe tbody tr th {\n",
              "        vertical-align: top;\n",
              "    }\n",
              "\n",
              "    .dataframe thead th {\n",
              "        text-align: right;\n",
              "    }\n",
              "</style>\n",
              "<table border=\"1\" class=\"dataframe\">\n",
              "  <thead>\n",
              "    <tr style=\"text-align: right;\">\n",
              "      <th></th>\n",
              "      <th>Account length</th>\n",
              "      <th>Area code</th>\n",
              "      <th>Number vmail messages</th>\n",
              "      <th>Total day minutes</th>\n",
              "      <th>Total day calls</th>\n",
              "      <th>Total day charge</th>\n",
              "      <th>Total eve minutes</th>\n",
              "      <th>Total eve calls</th>\n",
              "      <th>Total eve charge</th>\n",
              "      <th>Total night minutes</th>\n",
              "      <th>...</th>\n",
              "      <th>State_VT</th>\n",
              "      <th>State_WA</th>\n",
              "      <th>State_WI</th>\n",
              "      <th>State_WV</th>\n",
              "      <th>State_WY</th>\n",
              "      <th>International plan_No</th>\n",
              "      <th>International plan_Yes</th>\n",
              "      <th>Voice mail plan_No</th>\n",
              "      <th>Voice mail plan_Yes</th>\n",
              "      <th>Churn</th>\n",
              "    </tr>\n",
              "  </thead>\n",
              "  <tbody>\n",
              "    <tr>\n",
              "      <th>0</th>\n",
              "      <td>128</td>\n",
              "      <td>415</td>\n",
              "      <td>25</td>\n",
              "      <td>1.579670</td>\n",
              "      <td>0.484868</td>\n",
              "      <td>1.579942</td>\n",
              "      <td>-0.058619</td>\n",
              "      <td>-0.050781</td>\n",
              "      <td>-0.058445</td>\n",
              "      <td>0.857403</td>\n",
              "      <td>...</td>\n",
              "      <td>0</td>\n",
              "      <td>0</td>\n",
              "      <td>0</td>\n",
              "      <td>0</td>\n",
              "      <td>0</td>\n",
              "      <td>1</td>\n",
              "      <td>0</td>\n",
              "      <td>0</td>\n",
              "      <td>1</td>\n",
              "      <td>0</td>\n",
              "    </tr>\n",
              "    <tr>\n",
              "      <th>1</th>\n",
              "      <td>107</td>\n",
              "      <td>415</td>\n",
              "      <td>26</td>\n",
              "      <td>-0.329918</td>\n",
              "      <td>1.135375</td>\n",
              "      <td>-0.330194</td>\n",
              "      <td>-0.095916</td>\n",
              "      <td>0.147654</td>\n",
              "      <td>-0.095397</td>\n",
              "      <td>1.048458</td>\n",
              "      <td>...</td>\n",
              "      <td>0</td>\n",
              "      <td>0</td>\n",
              "      <td>0</td>\n",
              "      <td>0</td>\n",
              "      <td>0</td>\n",
              "      <td>1</td>\n",
              "      <td>0</td>\n",
              "      <td>0</td>\n",
              "      <td>1</td>\n",
              "      <td>0</td>\n",
              "    </tr>\n",
              "    <tr>\n",
              "      <th>2</th>\n",
              "      <td>137</td>\n",
              "      <td>415</td>\n",
              "      <td>0</td>\n",
              "      <td>1.179302</td>\n",
              "      <td>0.685024</td>\n",
              "      <td>1.179465</td>\n",
              "      <td>-1.554439</td>\n",
              "      <td>0.494917</td>\n",
              "      <td>-1.554963</td>\n",
              "      <td>-0.759668</td>\n",
              "      <td>...</td>\n",
              "      <td>0</td>\n",
              "      <td>0</td>\n",
              "      <td>0</td>\n",
              "      <td>0</td>\n",
              "      <td>0</td>\n",
              "      <td>1</td>\n",
              "      <td>0</td>\n",
              "      <td>1</td>\n",
              "      <td>0</td>\n",
              "      <td>0</td>\n",
              "    </tr>\n",
              "    <tr>\n",
              "      <th>3</th>\n",
              "      <td>84</td>\n",
              "      <td>408</td>\n",
              "      <td>0</td>\n",
              "      <td>2.212509</td>\n",
              "      <td>-1.466653</td>\n",
              "      <td>2.212675</td>\n",
              "      <td>-2.718509</td>\n",
              "      <td>-0.596479</td>\n",
              "      <td>-2.718922</td>\n",
              "      <td>-0.084083</td>\n",
              "      <td>...</td>\n",
              "      <td>0</td>\n",
              "      <td>0</td>\n",
              "      <td>0</td>\n",
              "      <td>0</td>\n",
              "      <td>0</td>\n",
              "      <td>0</td>\n",
              "      <td>1</td>\n",
              "      <td>1</td>\n",
              "      <td>0</td>\n",
              "      <td>0</td>\n",
              "    </tr>\n",
              "    <tr>\n",
              "      <th>4</th>\n",
              "      <td>75</td>\n",
              "      <td>415</td>\n",
              "      <td>0</td>\n",
              "      <td>-0.235822</td>\n",
              "      <td>0.634985</td>\n",
              "      <td>-0.235772</td>\n",
              "      <td>-1.022461</td>\n",
              "      <td>1.090224</td>\n",
              "      <td>-1.021482</td>\n",
              "      <td>-0.281046</td>\n",
              "      <td>...</td>\n",
              "      <td>0</td>\n",
              "      <td>0</td>\n",
              "      <td>0</td>\n",
              "      <td>0</td>\n",
              "      <td>0</td>\n",
              "      <td>0</td>\n",
              "      <td>1</td>\n",
              "      <td>1</td>\n",
              "      <td>0</td>\n",
              "      <td>0</td>\n",
              "    </tr>\n",
              "  </tbody>\n",
              "</table>\n",
              "<p>5 rows × 72 columns</p>\n",
              "</div>\n",
              "      <button class=\"colab-df-convert\" onclick=\"convertToInteractive('df-905e2596-f8b4-4ac9-a0d0-6222b9f92565')\"\n",
              "              title=\"Convert this dataframe to an interactive table.\"\n",
              "              style=\"display:none;\">\n",
              "        \n",
              "  <svg xmlns=\"http://www.w3.org/2000/svg\" height=\"24px\"viewBox=\"0 0 24 24\"\n",
              "       width=\"24px\">\n",
              "    <path d=\"M0 0h24v24H0V0z\" fill=\"none\"/>\n",
              "    <path d=\"M18.56 5.44l.94 2.06.94-2.06 2.06-.94-2.06-.94-.94-2.06-.94 2.06-2.06.94zm-11 1L8.5 8.5l.94-2.06 2.06-.94-2.06-.94L8.5 2.5l-.94 2.06-2.06.94zm10 10l.94 2.06.94-2.06 2.06-.94-2.06-.94-.94-2.06-.94 2.06-2.06.94z\"/><path d=\"M17.41 7.96l-1.37-1.37c-.4-.4-.92-.59-1.43-.59-.52 0-1.04.2-1.43.59L10.3 9.45l-7.72 7.72c-.78.78-.78 2.05 0 2.83L4 21.41c.39.39.9.59 1.41.59.51 0 1.02-.2 1.41-.59l7.78-7.78 2.81-2.81c.8-.78.8-2.07 0-2.86zM5.41 20L4 18.59l7.72-7.72 1.47 1.35L5.41 20z\"/>\n",
              "  </svg>\n",
              "      </button>\n",
              "      \n",
              "  <style>\n",
              "    .colab-df-container {\n",
              "      display:flex;\n",
              "      flex-wrap:wrap;\n",
              "      gap: 12px;\n",
              "    }\n",
              "\n",
              "    .colab-df-convert {\n",
              "      background-color: #E8F0FE;\n",
              "      border: none;\n",
              "      border-radius: 50%;\n",
              "      cursor: pointer;\n",
              "      display: none;\n",
              "      fill: #1967D2;\n",
              "      height: 32px;\n",
              "      padding: 0 0 0 0;\n",
              "      width: 32px;\n",
              "    }\n",
              "\n",
              "    .colab-df-convert:hover {\n",
              "      background-color: #E2EBFA;\n",
              "      box-shadow: 0px 1px 2px rgba(60, 64, 67, 0.3), 0px 1px 3px 1px rgba(60, 64, 67, 0.15);\n",
              "      fill: #174EA6;\n",
              "    }\n",
              "\n",
              "    [theme=dark] .colab-df-convert {\n",
              "      background-color: #3B4455;\n",
              "      fill: #D2E3FC;\n",
              "    }\n",
              "\n",
              "    [theme=dark] .colab-df-convert:hover {\n",
              "      background-color: #434B5C;\n",
              "      box-shadow: 0px 1px 3px 1px rgba(0, 0, 0, 0.15);\n",
              "      filter: drop-shadow(0px 1px 2px rgba(0, 0, 0, 0.3));\n",
              "      fill: #FFFFFF;\n",
              "    }\n",
              "  </style>\n",
              "\n",
              "      <script>\n",
              "        const buttonEl =\n",
              "          document.querySelector('#df-905e2596-f8b4-4ac9-a0d0-6222b9f92565 button.colab-df-convert');\n",
              "        buttonEl.style.display =\n",
              "          google.colab.kernel.accessAllowed ? 'block' : 'none';\n",
              "\n",
              "        async function convertToInteractive(key) {\n",
              "          const element = document.querySelector('#df-905e2596-f8b4-4ac9-a0d0-6222b9f92565');\n",
              "          const dataTable =\n",
              "            await google.colab.kernel.invokeFunction('convertToInteractive',\n",
              "                                                     [key], {});\n",
              "          if (!dataTable) return;\n",
              "\n",
              "          const docLinkHtml = 'Like what you see? Visit the ' +\n",
              "            '<a target=\"_blank\" href=https://colab.research.google.com/notebooks/data_table.ipynb>data table notebook</a>'\n",
              "            + ' to learn more about interactive tables.';\n",
              "          element.innerHTML = '';\n",
              "          dataTable['output_type'] = 'display_data';\n",
              "          await google.colab.output.renderOutput(dataTable, element);\n",
              "          const docLink = document.createElement('div');\n",
              "          docLink.innerHTML = docLinkHtml;\n",
              "          element.appendChild(docLink);\n",
              "        }\n",
              "      </script>\n",
              "    </div>\n",
              "  </div>\n",
              "  "
            ]
          },
          "metadata": {},
          "execution_count": 17
        }
      ]
    },
    {
      "cell_type": "code",
      "source": [
        "data2_en_test = pd.get_dummies(data2_en_test_SL, columns=['State','International plan','Voice mail plan'])\n",
        "# Convert 'True' values to 1 and 'False' values to 0\n",
        "data2_en_test['Churn'] = data2_en_test['Churn'].astype(int)"
      ],
      "metadata": {
        "id": "leLLuF5bk-94"
      },
      "execution_count": 18,
      "outputs": []
    },
    {
      "cell_type": "code",
      "source": [
        "data2_en_test = data2_en_test[['Account length', 'Area code', 'Number vmail messages',\n",
        "       'Total day minutes', 'Total day calls', 'Total day charge',\n",
        "       'Total eve minutes', 'Total eve calls', 'Total eve charge',\n",
        "       'Total night minutes', 'Total night calls', 'Total night charge',\n",
        "       'Total intl minutes', 'Total intl calls', 'Total intl charge',\n",
        "       'Customer service calls', 'State_AK', 'State_AL', 'State_AR',\n",
        "       'State_AZ', 'State_CA', 'State_CO', 'State_CT', 'State_DC', 'State_DE',\n",
        "       'State_FL', 'State_GA', 'State_HI', 'State_IA', 'State_ID', 'State_IL',\n",
        "       'State_IN', 'State_KS', 'State_KY', 'State_LA', 'State_MA', 'State_MD',\n",
        "       'State_ME', 'State_MI', 'State_MN', 'State_MO', 'State_MS', 'State_MT',\n",
        "       'State_NC', 'State_ND', 'State_NE', 'State_NH', 'State_NJ', 'State_NM',\n",
        "       'State_NV', 'State_NY', 'State_OH', 'State_OK', 'State_OR', 'State_PA',\n",
        "       'State_RI', 'State_SC', 'State_SD', 'State_TN', 'State_TX', 'State_UT',\n",
        "       'State_VA', 'State_VT', 'State_WA', 'State_WI', 'State_WV', 'State_WY',\n",
        "       'International plan_No', 'International plan_Yes', 'Voice mail plan_No',\n",
        "       'Voice mail plan_Yes','Churn']]\n",
        "data2_en_test.head()"
      ],
      "metadata": {
        "id": "Z9_M3trklDyq",
        "colab": {
          "base_uri": "https://localhost:8080/",
          "height": 334
        },
        "outputId": "a8b74f63-8bf7-42d3-9ae1-175557a76888"
      },
      "execution_count": 19,
      "outputs": [
        {
          "output_type": "execute_result",
          "data": {
            "text/plain": [
              "   Account length  Area code  Number vmail messages  Total day minutes  \\\n",
              "0             117        408                      0           0.064036   \n",
              "1              65        415                      0          -0.934756   \n",
              "2             161        415                      0           2.739500   \n",
              "3             111        415                      0          -1.271894   \n",
              "4              49        510                      0          -1.111438   \n",
              "\n",
              "   Total day calls  Total day charge  Total eve minutes  Total eve calls  \\\n",
              "0        -0.193167          0.064504           2.983872        -1.081478   \n",
              "1         1.769398         -0.934501           0.506113        -0.923033   \n",
              "2        -1.665090          2.739121           2.303545        -0.183625   \n",
              "3         0.101218         -1.271744          -1.329563         0.080450   \n",
              "4         0.788115         -1.111607           0.236397         0.450154   \n",
              "\n",
              "   Total eve charge  Total night minutes  ...  State_VT  State_WA  State_WI  \\\n",
              "0          2.984789             0.324092  ...         0         0         0   \n",
              "1          0.505504             0.183311  ...         0         0         0   \n",
              "2          2.302808            -0.786067  ...         0         0         0   \n",
              "3         -1.329688            -0.202831  ...         0         0         0   \n",
              "4          0.235553            -0.422048  ...         0         0         0   \n",
              "\n",
              "   State_WV  State_WY  International plan_No  International plan_Yes  \\\n",
              "0         0         0                      1                       0   \n",
              "1         0         0                      1                       0   \n",
              "2         0         0                      1                       0   \n",
              "3         0         0                      1                       0   \n",
              "4         0         0                      1                       0   \n",
              "\n",
              "   Voice mail plan_No  Voice mail plan_Yes  Churn  \n",
              "0                   1                    0      0  \n",
              "1                   1                    0      1  \n",
              "2                   1                    0      1  \n",
              "3                   1                    0      0  \n",
              "4                   1                    0      0  \n",
              "\n",
              "[5 rows x 72 columns]"
            ],
            "text/html": [
              "\n",
              "  <div id=\"df-b034a5f5-49ae-434f-b3ce-929b12d0a8ec\">\n",
              "    <div class=\"colab-df-container\">\n",
              "      <div>\n",
              "<style scoped>\n",
              "    .dataframe tbody tr th:only-of-type {\n",
              "        vertical-align: middle;\n",
              "    }\n",
              "\n",
              "    .dataframe tbody tr th {\n",
              "        vertical-align: top;\n",
              "    }\n",
              "\n",
              "    .dataframe thead th {\n",
              "        text-align: right;\n",
              "    }\n",
              "</style>\n",
              "<table border=\"1\" class=\"dataframe\">\n",
              "  <thead>\n",
              "    <tr style=\"text-align: right;\">\n",
              "      <th></th>\n",
              "      <th>Account length</th>\n",
              "      <th>Area code</th>\n",
              "      <th>Number vmail messages</th>\n",
              "      <th>Total day minutes</th>\n",
              "      <th>Total day calls</th>\n",
              "      <th>Total day charge</th>\n",
              "      <th>Total eve minutes</th>\n",
              "      <th>Total eve calls</th>\n",
              "      <th>Total eve charge</th>\n",
              "      <th>Total night minutes</th>\n",
              "      <th>...</th>\n",
              "      <th>State_VT</th>\n",
              "      <th>State_WA</th>\n",
              "      <th>State_WI</th>\n",
              "      <th>State_WV</th>\n",
              "      <th>State_WY</th>\n",
              "      <th>International plan_No</th>\n",
              "      <th>International plan_Yes</th>\n",
              "      <th>Voice mail plan_No</th>\n",
              "      <th>Voice mail plan_Yes</th>\n",
              "      <th>Churn</th>\n",
              "    </tr>\n",
              "  </thead>\n",
              "  <tbody>\n",
              "    <tr>\n",
              "      <th>0</th>\n",
              "      <td>117</td>\n",
              "      <td>408</td>\n",
              "      <td>0</td>\n",
              "      <td>0.064036</td>\n",
              "      <td>-0.193167</td>\n",
              "      <td>0.064504</td>\n",
              "      <td>2.983872</td>\n",
              "      <td>-1.081478</td>\n",
              "      <td>2.984789</td>\n",
              "      <td>0.324092</td>\n",
              "      <td>...</td>\n",
              "      <td>0</td>\n",
              "      <td>0</td>\n",
              "      <td>0</td>\n",
              "      <td>0</td>\n",
              "      <td>0</td>\n",
              "      <td>1</td>\n",
              "      <td>0</td>\n",
              "      <td>1</td>\n",
              "      <td>0</td>\n",
              "      <td>0</td>\n",
              "    </tr>\n",
              "    <tr>\n",
              "      <th>1</th>\n",
              "      <td>65</td>\n",
              "      <td>415</td>\n",
              "      <td>0</td>\n",
              "      <td>-0.934756</td>\n",
              "      <td>1.769398</td>\n",
              "      <td>-0.934501</td>\n",
              "      <td>0.506113</td>\n",
              "      <td>-0.923033</td>\n",
              "      <td>0.505504</td>\n",
              "      <td>0.183311</td>\n",
              "      <td>...</td>\n",
              "      <td>0</td>\n",
              "      <td>0</td>\n",
              "      <td>0</td>\n",
              "      <td>0</td>\n",
              "      <td>0</td>\n",
              "      <td>1</td>\n",
              "      <td>0</td>\n",
              "      <td>1</td>\n",
              "      <td>0</td>\n",
              "      <td>1</td>\n",
              "    </tr>\n",
              "    <tr>\n",
              "      <th>2</th>\n",
              "      <td>161</td>\n",
              "      <td>415</td>\n",
              "      <td>0</td>\n",
              "      <td>2.739500</td>\n",
              "      <td>-1.665090</td>\n",
              "      <td>2.739121</td>\n",
              "      <td>2.303545</td>\n",
              "      <td>-0.183625</td>\n",
              "      <td>2.302808</td>\n",
              "      <td>-0.786067</td>\n",
              "      <td>...</td>\n",
              "      <td>0</td>\n",
              "      <td>0</td>\n",
              "      <td>0</td>\n",
              "      <td>0</td>\n",
              "      <td>0</td>\n",
              "      <td>1</td>\n",
              "      <td>0</td>\n",
              "      <td>1</td>\n",
              "      <td>0</td>\n",
              "      <td>1</td>\n",
              "    </tr>\n",
              "    <tr>\n",
              "      <th>3</th>\n",
              "      <td>111</td>\n",
              "      <td>415</td>\n",
              "      <td>0</td>\n",
              "      <td>-1.271894</td>\n",
              "      <td>0.101218</td>\n",
              "      <td>-1.271744</td>\n",
              "      <td>-1.329563</td>\n",
              "      <td>0.080450</td>\n",
              "      <td>-1.329688</td>\n",
              "      <td>-0.202831</td>\n",
              "      <td>...</td>\n",
              "      <td>0</td>\n",
              "      <td>0</td>\n",
              "      <td>0</td>\n",
              "      <td>0</td>\n",
              "      <td>0</td>\n",
              "      <td>1</td>\n",
              "      <td>0</td>\n",
              "      <td>1</td>\n",
              "      <td>0</td>\n",
              "      <td>0</td>\n",
              "    </tr>\n",
              "    <tr>\n",
              "      <th>4</th>\n",
              "      <td>49</td>\n",
              "      <td>510</td>\n",
              "      <td>0</td>\n",
              "      <td>-1.111438</td>\n",
              "      <td>0.788115</td>\n",
              "      <td>-1.111607</td>\n",
              "      <td>0.236397</td>\n",
              "      <td>0.450154</td>\n",
              "      <td>0.235553</td>\n",
              "      <td>-0.422048</td>\n",
              "      <td>...</td>\n",
              "      <td>0</td>\n",
              "      <td>0</td>\n",
              "      <td>0</td>\n",
              "      <td>0</td>\n",
              "      <td>0</td>\n",
              "      <td>1</td>\n",
              "      <td>0</td>\n",
              "      <td>1</td>\n",
              "      <td>0</td>\n",
              "      <td>0</td>\n",
              "    </tr>\n",
              "  </tbody>\n",
              "</table>\n",
              "<p>5 rows × 72 columns</p>\n",
              "</div>\n",
              "      <button class=\"colab-df-convert\" onclick=\"convertToInteractive('df-b034a5f5-49ae-434f-b3ce-929b12d0a8ec')\"\n",
              "              title=\"Convert this dataframe to an interactive table.\"\n",
              "              style=\"display:none;\">\n",
              "        \n",
              "  <svg xmlns=\"http://www.w3.org/2000/svg\" height=\"24px\"viewBox=\"0 0 24 24\"\n",
              "       width=\"24px\">\n",
              "    <path d=\"M0 0h24v24H0V0z\" fill=\"none\"/>\n",
              "    <path d=\"M18.56 5.44l.94 2.06.94-2.06 2.06-.94-2.06-.94-.94-2.06-.94 2.06-2.06.94zm-11 1L8.5 8.5l.94-2.06 2.06-.94-2.06-.94L8.5 2.5l-.94 2.06-2.06.94zm10 10l.94 2.06.94-2.06 2.06-.94-2.06-.94-.94-2.06-.94 2.06-2.06.94z\"/><path d=\"M17.41 7.96l-1.37-1.37c-.4-.4-.92-.59-1.43-.59-.52 0-1.04.2-1.43.59L10.3 9.45l-7.72 7.72c-.78.78-.78 2.05 0 2.83L4 21.41c.39.39.9.59 1.41.59.51 0 1.02-.2 1.41-.59l7.78-7.78 2.81-2.81c.8-.78.8-2.07 0-2.86zM5.41 20L4 18.59l7.72-7.72 1.47 1.35L5.41 20z\"/>\n",
              "  </svg>\n",
              "      </button>\n",
              "      \n",
              "  <style>\n",
              "    .colab-df-container {\n",
              "      display:flex;\n",
              "      flex-wrap:wrap;\n",
              "      gap: 12px;\n",
              "    }\n",
              "\n",
              "    .colab-df-convert {\n",
              "      background-color: #E8F0FE;\n",
              "      border: none;\n",
              "      border-radius: 50%;\n",
              "      cursor: pointer;\n",
              "      display: none;\n",
              "      fill: #1967D2;\n",
              "      height: 32px;\n",
              "      padding: 0 0 0 0;\n",
              "      width: 32px;\n",
              "    }\n",
              "\n",
              "    .colab-df-convert:hover {\n",
              "      background-color: #E2EBFA;\n",
              "      box-shadow: 0px 1px 2px rgba(60, 64, 67, 0.3), 0px 1px 3px 1px rgba(60, 64, 67, 0.15);\n",
              "      fill: #174EA6;\n",
              "    }\n",
              "\n",
              "    [theme=dark] .colab-df-convert {\n",
              "      background-color: #3B4455;\n",
              "      fill: #D2E3FC;\n",
              "    }\n",
              "\n",
              "    [theme=dark] .colab-df-convert:hover {\n",
              "      background-color: #434B5C;\n",
              "      box-shadow: 0px 1px 3px 1px rgba(0, 0, 0, 0.15);\n",
              "      filter: drop-shadow(0px 1px 2px rgba(0, 0, 0, 0.3));\n",
              "      fill: #FFFFFF;\n",
              "    }\n",
              "  </style>\n",
              "\n",
              "      <script>\n",
              "        const buttonEl =\n",
              "          document.querySelector('#df-b034a5f5-49ae-434f-b3ce-929b12d0a8ec button.colab-df-convert');\n",
              "        buttonEl.style.display =\n",
              "          google.colab.kernel.accessAllowed ? 'block' : 'none';\n",
              "\n",
              "        async function convertToInteractive(key) {\n",
              "          const element = document.querySelector('#df-b034a5f5-49ae-434f-b3ce-929b12d0a8ec');\n",
              "          const dataTable =\n",
              "            await google.colab.kernel.invokeFunction('convertToInteractive',\n",
              "                                                     [key], {});\n",
              "          if (!dataTable) return;\n",
              "\n",
              "          const docLinkHtml = 'Like what you see? Visit the ' +\n",
              "            '<a target=\"_blank\" href=https://colab.research.google.com/notebooks/data_table.ipynb>data table notebook</a>'\n",
              "            + ' to learn more about interactive tables.';\n",
              "          element.innerHTML = '';\n",
              "          dataTable['output_type'] = 'display_data';\n",
              "          await google.colab.output.renderOutput(dataTable, element);\n",
              "          const docLink = document.createElement('div');\n",
              "          docLink.innerHTML = docLinkHtml;\n",
              "          element.appendChild(docLink);\n",
              "        }\n",
              "      </script>\n",
              "    </div>\n",
              "  </div>\n",
              "  "
            ]
          },
          "metadata": {},
          "execution_count": 19
        }
      ]
    },
    {
      "cell_type": "markdown",
      "source": [
        "###รวม Data 80 กับ 20 เข้าด้วยกัน ?"
      ],
      "metadata": {
        "id": "ufRQRQ7qKhgq"
      }
    },
    {
      "cell_type": "code",
      "source": [
        "# data_en = pd.concat([data1_en_test, data2_en_train], axis=0)\n",
        "# data_en.reset_index(drop=True)\n",
        "# data_en_X= data_en.drop('Churn',axis=1)\n",
        "# data_en_Y= data_en['Churn']"
      ],
      "metadata": {
        "id": "EZ52C_iUgLbT"
      },
      "execution_count": 20,
      "outputs": []
    },
    {
      "cell_type": "markdown",
      "source": [
        "#Classifications"
      ],
      "metadata": {
        "id": "lLfxdCynUNgY"
      }
    },
    {
      "cell_type": "markdown",
      "source": [
        "##Decision Tree"
      ],
      "metadata": {
        "id": "zY4raJYQWNT9"
      }
    },
    {
      "cell_type": "markdown",
      "source": [
        "- 80% train = data1_en_train\n",
        "  - มี 72 columns\n",
        "    - เราใช้ 71 columns = X_train \n",
        "    - Columns 20 = y_train\n",
        "\n",
        "- 20% test = data2_en_test\n",
        "  - มี 72 columns\n",
        "    - เราใช้ 71 columns = X_test \n",
        "    - Columns 72 = y_test"
      ],
      "metadata": {
        "id": "stDMEXniU32-"
      }
    },
    {
      "cell_type": "code",
      "source": [
        "data1_en_train.head()"
      ],
      "metadata": {
        "colab": {
          "base_uri": "https://localhost:8080/",
          "height": 334
        },
        "id": "vOQRzcRlRiGz",
        "outputId": "0ebdbe7f-47fc-4f14-f72a-a0c6c9dbac00"
      },
      "execution_count": 21,
      "outputs": [
        {
          "output_type": "execute_result",
          "data": {
            "text/plain": [
              "   Account length  Area code  Number vmail messages  Total day minutes  \\\n",
              "0             128        415                     25           1.579670   \n",
              "1             107        415                     26          -0.329918   \n",
              "2             137        415                      0           1.179302   \n",
              "3              84        408                      0           2.212509   \n",
              "4              75        415                      0          -0.235822   \n",
              "\n",
              "   Total day calls  Total day charge  Total eve minutes  Total eve calls  \\\n",
              "0         0.484868          1.579942          -0.058619        -0.050781   \n",
              "1         1.135375         -0.330194          -0.095916         0.147654   \n",
              "2         0.685024          1.179465          -1.554439         0.494917   \n",
              "3        -1.466653          2.212675          -2.718509        -0.596479   \n",
              "4         0.634985         -0.235772          -1.022461         1.090224   \n",
              "\n",
              "   Total eve charge  Total night minutes  ...  State_VT  State_WA  State_WI  \\\n",
              "0         -0.058445             0.857403  ...         0         0         0   \n",
              "1         -0.095397             1.048458  ...         0         0         0   \n",
              "2         -1.554963            -0.759668  ...         0         0         0   \n",
              "3         -2.718922            -0.084083  ...         0         0         0   \n",
              "4         -1.021482            -0.281046  ...         0         0         0   \n",
              "\n",
              "   State_WV  State_WY  International plan_No  International plan_Yes  \\\n",
              "0         0         0                      1                       0   \n",
              "1         0         0                      1                       0   \n",
              "2         0         0                      1                       0   \n",
              "3         0         0                      0                       1   \n",
              "4         0         0                      0                       1   \n",
              "\n",
              "   Voice mail plan_No  Voice mail plan_Yes  Churn  \n",
              "0                   0                    1      0  \n",
              "1                   0                    1      0  \n",
              "2                   1                    0      0  \n",
              "3                   1                    0      0  \n",
              "4                   1                    0      0  \n",
              "\n",
              "[5 rows x 72 columns]"
            ],
            "text/html": [
              "\n",
              "  <div id=\"df-af79259e-bb41-4449-b106-159e38d84b7c\">\n",
              "    <div class=\"colab-df-container\">\n",
              "      <div>\n",
              "<style scoped>\n",
              "    .dataframe tbody tr th:only-of-type {\n",
              "        vertical-align: middle;\n",
              "    }\n",
              "\n",
              "    .dataframe tbody tr th {\n",
              "        vertical-align: top;\n",
              "    }\n",
              "\n",
              "    .dataframe thead th {\n",
              "        text-align: right;\n",
              "    }\n",
              "</style>\n",
              "<table border=\"1\" class=\"dataframe\">\n",
              "  <thead>\n",
              "    <tr style=\"text-align: right;\">\n",
              "      <th></th>\n",
              "      <th>Account length</th>\n",
              "      <th>Area code</th>\n",
              "      <th>Number vmail messages</th>\n",
              "      <th>Total day minutes</th>\n",
              "      <th>Total day calls</th>\n",
              "      <th>Total day charge</th>\n",
              "      <th>Total eve minutes</th>\n",
              "      <th>Total eve calls</th>\n",
              "      <th>Total eve charge</th>\n",
              "      <th>Total night minutes</th>\n",
              "      <th>...</th>\n",
              "      <th>State_VT</th>\n",
              "      <th>State_WA</th>\n",
              "      <th>State_WI</th>\n",
              "      <th>State_WV</th>\n",
              "      <th>State_WY</th>\n",
              "      <th>International plan_No</th>\n",
              "      <th>International plan_Yes</th>\n",
              "      <th>Voice mail plan_No</th>\n",
              "      <th>Voice mail plan_Yes</th>\n",
              "      <th>Churn</th>\n",
              "    </tr>\n",
              "  </thead>\n",
              "  <tbody>\n",
              "    <tr>\n",
              "      <th>0</th>\n",
              "      <td>128</td>\n",
              "      <td>415</td>\n",
              "      <td>25</td>\n",
              "      <td>1.579670</td>\n",
              "      <td>0.484868</td>\n",
              "      <td>1.579942</td>\n",
              "      <td>-0.058619</td>\n",
              "      <td>-0.050781</td>\n",
              "      <td>-0.058445</td>\n",
              "      <td>0.857403</td>\n",
              "      <td>...</td>\n",
              "      <td>0</td>\n",
              "      <td>0</td>\n",
              "      <td>0</td>\n",
              "      <td>0</td>\n",
              "      <td>0</td>\n",
              "      <td>1</td>\n",
              "      <td>0</td>\n",
              "      <td>0</td>\n",
              "      <td>1</td>\n",
              "      <td>0</td>\n",
              "    </tr>\n",
              "    <tr>\n",
              "      <th>1</th>\n",
              "      <td>107</td>\n",
              "      <td>415</td>\n",
              "      <td>26</td>\n",
              "      <td>-0.329918</td>\n",
              "      <td>1.135375</td>\n",
              "      <td>-0.330194</td>\n",
              "      <td>-0.095916</td>\n",
              "      <td>0.147654</td>\n",
              "      <td>-0.095397</td>\n",
              "      <td>1.048458</td>\n",
              "      <td>...</td>\n",
              "      <td>0</td>\n",
              "      <td>0</td>\n",
              "      <td>0</td>\n",
              "      <td>0</td>\n",
              "      <td>0</td>\n",
              "      <td>1</td>\n",
              "      <td>0</td>\n",
              "      <td>0</td>\n",
              "      <td>1</td>\n",
              "      <td>0</td>\n",
              "    </tr>\n",
              "    <tr>\n",
              "      <th>2</th>\n",
              "      <td>137</td>\n",
              "      <td>415</td>\n",
              "      <td>0</td>\n",
              "      <td>1.179302</td>\n",
              "      <td>0.685024</td>\n",
              "      <td>1.179465</td>\n",
              "      <td>-1.554439</td>\n",
              "      <td>0.494917</td>\n",
              "      <td>-1.554963</td>\n",
              "      <td>-0.759668</td>\n",
              "      <td>...</td>\n",
              "      <td>0</td>\n",
              "      <td>0</td>\n",
              "      <td>0</td>\n",
              "      <td>0</td>\n",
              "      <td>0</td>\n",
              "      <td>1</td>\n",
              "      <td>0</td>\n",
              "      <td>1</td>\n",
              "      <td>0</td>\n",
              "      <td>0</td>\n",
              "    </tr>\n",
              "    <tr>\n",
              "      <th>3</th>\n",
              "      <td>84</td>\n",
              "      <td>408</td>\n",
              "      <td>0</td>\n",
              "      <td>2.212509</td>\n",
              "      <td>-1.466653</td>\n",
              "      <td>2.212675</td>\n",
              "      <td>-2.718509</td>\n",
              "      <td>-0.596479</td>\n",
              "      <td>-2.718922</td>\n",
              "      <td>-0.084083</td>\n",
              "      <td>...</td>\n",
              "      <td>0</td>\n",
              "      <td>0</td>\n",
              "      <td>0</td>\n",
              "      <td>0</td>\n",
              "      <td>0</td>\n",
              "      <td>0</td>\n",
              "      <td>1</td>\n",
              "      <td>1</td>\n",
              "      <td>0</td>\n",
              "      <td>0</td>\n",
              "    </tr>\n",
              "    <tr>\n",
              "      <th>4</th>\n",
              "      <td>75</td>\n",
              "      <td>415</td>\n",
              "      <td>0</td>\n",
              "      <td>-0.235822</td>\n",
              "      <td>0.634985</td>\n",
              "      <td>-0.235772</td>\n",
              "      <td>-1.022461</td>\n",
              "      <td>1.090224</td>\n",
              "      <td>-1.021482</td>\n",
              "      <td>-0.281046</td>\n",
              "      <td>...</td>\n",
              "      <td>0</td>\n",
              "      <td>0</td>\n",
              "      <td>0</td>\n",
              "      <td>0</td>\n",
              "      <td>0</td>\n",
              "      <td>0</td>\n",
              "      <td>1</td>\n",
              "      <td>1</td>\n",
              "      <td>0</td>\n",
              "      <td>0</td>\n",
              "    </tr>\n",
              "  </tbody>\n",
              "</table>\n",
              "<p>5 rows × 72 columns</p>\n",
              "</div>\n",
              "      <button class=\"colab-df-convert\" onclick=\"convertToInteractive('df-af79259e-bb41-4449-b106-159e38d84b7c')\"\n",
              "              title=\"Convert this dataframe to an interactive table.\"\n",
              "              style=\"display:none;\">\n",
              "        \n",
              "  <svg xmlns=\"http://www.w3.org/2000/svg\" height=\"24px\"viewBox=\"0 0 24 24\"\n",
              "       width=\"24px\">\n",
              "    <path d=\"M0 0h24v24H0V0z\" fill=\"none\"/>\n",
              "    <path d=\"M18.56 5.44l.94 2.06.94-2.06 2.06-.94-2.06-.94-.94-2.06-.94 2.06-2.06.94zm-11 1L8.5 8.5l.94-2.06 2.06-.94-2.06-.94L8.5 2.5l-.94 2.06-2.06.94zm10 10l.94 2.06.94-2.06 2.06-.94-2.06-.94-.94-2.06-.94 2.06-2.06.94z\"/><path d=\"M17.41 7.96l-1.37-1.37c-.4-.4-.92-.59-1.43-.59-.52 0-1.04.2-1.43.59L10.3 9.45l-7.72 7.72c-.78.78-.78 2.05 0 2.83L4 21.41c.39.39.9.59 1.41.59.51 0 1.02-.2 1.41-.59l7.78-7.78 2.81-2.81c.8-.78.8-2.07 0-2.86zM5.41 20L4 18.59l7.72-7.72 1.47 1.35L5.41 20z\"/>\n",
              "  </svg>\n",
              "      </button>\n",
              "      \n",
              "  <style>\n",
              "    .colab-df-container {\n",
              "      display:flex;\n",
              "      flex-wrap:wrap;\n",
              "      gap: 12px;\n",
              "    }\n",
              "\n",
              "    .colab-df-convert {\n",
              "      background-color: #E8F0FE;\n",
              "      border: none;\n",
              "      border-radius: 50%;\n",
              "      cursor: pointer;\n",
              "      display: none;\n",
              "      fill: #1967D2;\n",
              "      height: 32px;\n",
              "      padding: 0 0 0 0;\n",
              "      width: 32px;\n",
              "    }\n",
              "\n",
              "    .colab-df-convert:hover {\n",
              "      background-color: #E2EBFA;\n",
              "      box-shadow: 0px 1px 2px rgba(60, 64, 67, 0.3), 0px 1px 3px 1px rgba(60, 64, 67, 0.15);\n",
              "      fill: #174EA6;\n",
              "    }\n",
              "\n",
              "    [theme=dark] .colab-df-convert {\n",
              "      background-color: #3B4455;\n",
              "      fill: #D2E3FC;\n",
              "    }\n",
              "\n",
              "    [theme=dark] .colab-df-convert:hover {\n",
              "      background-color: #434B5C;\n",
              "      box-shadow: 0px 1px 3px 1px rgba(0, 0, 0, 0.15);\n",
              "      filter: drop-shadow(0px 1px 2px rgba(0, 0, 0, 0.3));\n",
              "      fill: #FFFFFF;\n",
              "    }\n",
              "  </style>\n",
              "\n",
              "      <script>\n",
              "        const buttonEl =\n",
              "          document.querySelector('#df-af79259e-bb41-4449-b106-159e38d84b7c button.colab-df-convert');\n",
              "        buttonEl.style.display =\n",
              "          google.colab.kernel.accessAllowed ? 'block' : 'none';\n",
              "\n",
              "        async function convertToInteractive(key) {\n",
              "          const element = document.querySelector('#df-af79259e-bb41-4449-b106-159e38d84b7c');\n",
              "          const dataTable =\n",
              "            await google.colab.kernel.invokeFunction('convertToInteractive',\n",
              "                                                     [key], {});\n",
              "          if (!dataTable) return;\n",
              "\n",
              "          const docLinkHtml = 'Like what you see? Visit the ' +\n",
              "            '<a target=\"_blank\" href=https://colab.research.google.com/notebooks/data_table.ipynb>data table notebook</a>'\n",
              "            + ' to learn more about interactive tables.';\n",
              "          element.innerHTML = '';\n",
              "          dataTable['output_type'] = 'display_data';\n",
              "          await google.colab.output.renderOutput(dataTable, element);\n",
              "          const docLink = document.createElement('div');\n",
              "          docLink.innerHTML = docLinkHtml;\n",
              "          element.appendChild(docLink);\n",
              "        }\n",
              "      </script>\n",
              "    </div>\n",
              "  </div>\n",
              "  "
            ]
          },
          "metadata": {},
          "execution_count": 21
        }
      ]
    },
    {
      "cell_type": "code",
      "source": [
        "X_train = data1_en_train.iloc[:,:71] #ดึงข้อมูล 19 คอลัมแรกออกมา \n",
        "y_train = data1_en_train.iloc[:,71:] #ใช้คอลัมน์สุดท้ายเป็น y"
      ],
      "metadata": {
        "id": "KIHq0MOdcZff"
      },
      "execution_count": 22,
      "outputs": []
    },
    {
      "cell_type": "code",
      "source": [
        "X_test = data2_en_test.iloc[:,:71] #ดึงข้อมูล 19 คอลัมแรกออกมา \n",
        "y_test = data2_en_test.iloc[:,71:] #ใช้คอลัมน์สุดท้ายเป็น y"
      ],
      "metadata": {
        "id": "W6gc8gDZWXI8"
      },
      "execution_count": 23,
      "outputs": []
    },
    {
      "cell_type": "markdown",
      "source": [
        "###Import"
      ],
      "metadata": {
        "id": "TYEaj0BqXXZk"
      }
    },
    {
      "cell_type": "code",
      "source": [
        "from sklearn.tree import DecisionTreeClassifier\n",
        "from sklearn.model_selection import cross_val_score, KFold\n",
        "from sklearn.metrics import classification_report\n",
        "from sklearn.metrics import accuracy_score"
      ],
      "metadata": {
        "id": "JYq7hUb9XZAe"
      },
      "execution_count": 24,
      "outputs": []
    },
    {
      "cell_type": "code",
      "source": [
        "from sklearn.model_selection import GridSearchCV\n",
        "\n",
        "# Create the parameter grid based on the results of random search \n",
        "param_grid = {'max_depth': [2, 3, 4, 5, 6, 7, 8, 9, 10]}\n",
        "\n",
        "\n",
        "# Create a base model\n",
        "rf_grids = DecisionTreeClassifier(random_state=7)\n",
        "\n",
        "# Initiate the grid search model\n",
        "grid_search = GridSearchCV(rf_grids, param_grid, cv=5, scoring='accuracy')\n",
        "\n",
        "# Fit the grid search to the data\n",
        "grid_search.fit(X_train, y_train)\n",
        "\n",
        "grid_search.best_params_"
      ],
      "metadata": {
        "colab": {
          "base_uri": "https://localhost:8080/"
        },
        "id": "ctv8eCP1N_OR",
        "outputId": "e698a108-e5f5-446a-8fee-c92e59648ff7"
      },
      "execution_count": 25,
      "outputs": [
        {
          "output_type": "execute_result",
          "data": {
            "text/plain": [
              "{'max_depth': 7}"
            ]
          },
          "metadata": {},
          "execution_count": 25
        }
      ]
    },
    {
      "cell_type": "markdown",
      "source": [
        "### Define\n"
      ],
      "metadata": {
        "id": "rUPtAH4PZo97"
      }
    },
    {
      "cell_type": "markdown",
      "source": [
        "- ทดลองใช้ random_state ที่หลายเลขเผื่อเช็คค่าที่ดีที่สุด"
      ],
      "metadata": {
        "id": "C3YRyKIQaSdd"
      }
    },
    {
      "cell_type": "code",
      "source": [
        "# Create Decision Tree classifer object\n",
        "clf0 = DecisionTreeClassifier(random_state=2,max_depth=7)"
      ],
      "metadata": {
        "id": "oQfnY-Q8Zl-J"
      },
      "execution_count": 26,
      "outputs": []
    },
    {
      "cell_type": "code",
      "source": [
        "clf1= DecisionTreeClassifier(random_state=1,max_depth=7)\n",
        "clf2= DecisionTreeClassifier(random_state=2,max_depth=7)\n",
        "clf3= DecisionTreeClassifier(random_state=3,max_depth=7)\n",
        "clf4= DecisionTreeClassifier(random_state=4,max_depth=7)\n",
        "clf5= DecisionTreeClassifier(random_state=5,max_depth=7)\n",
        "clf6= DecisionTreeClassifier(random_state=6,max_depth=7)\n",
        "clf7 = DecisionTreeClassifier(random_state=7,max_depth=7)\n",
        "clf8= DecisionTreeClassifier(random_state=8,max_depth=7)\n",
        "clf9 = DecisionTreeClassifier(random_state=9,max_depth=7)\n",
        "clf10 = DecisionTreeClassifier(random_state=10,max_depth=7)\n"
      ],
      "metadata": {
        "id": "-ivNfTvzZrLG"
      },
      "execution_count": 27,
      "outputs": []
    },
    {
      "cell_type": "markdown",
      "source": [
        "### Train\n"
      ],
      "metadata": {
        "id": "OHqSf3tegGpp"
      }
    },
    {
      "cell_type": "code",
      "source": [
        "clf1.fit(X_train, y_train)\n",
        "clf2.fit(X_train, y_train)\n",
        "clf3.fit(X_train, y_train)\n",
        "clf4.fit(X_train, y_train)\n",
        "clf5.fit(X_train, y_train)\n",
        "clf6.fit(X_train, y_train)\n",
        "clf7.fit(X_train, y_train)\n",
        "clf8.fit(X_train, y_train)\n",
        "clf9.fit(X_train, y_train)\n",
        "clf10.fit(X_train, y_train)"
      ],
      "metadata": {
        "colab": {
          "base_uri": "https://localhost:8080/",
          "height": 74
        },
        "id": "gDJ6Zu4wgH1b",
        "outputId": "8a27a412-e157-4d19-be07-d28998179fc1"
      },
      "execution_count": 28,
      "outputs": [
        {
          "output_type": "execute_result",
          "data": {
            "text/plain": [
              "DecisionTreeClassifier(max_depth=7, random_state=10)"
            ],
            "text/html": [
              "<style>#sk-container-id-1 {color: black;background-color: white;}#sk-container-id-1 pre{padding: 0;}#sk-container-id-1 div.sk-toggleable {background-color: white;}#sk-container-id-1 label.sk-toggleable__label {cursor: pointer;display: block;width: 100%;margin-bottom: 0;padding: 0.3em;box-sizing: border-box;text-align: center;}#sk-container-id-1 label.sk-toggleable__label-arrow:before {content: \"▸\";float: left;margin-right: 0.25em;color: #696969;}#sk-container-id-1 label.sk-toggleable__label-arrow:hover:before {color: black;}#sk-container-id-1 div.sk-estimator:hover label.sk-toggleable__label-arrow:before {color: black;}#sk-container-id-1 div.sk-toggleable__content {max-height: 0;max-width: 0;overflow: hidden;text-align: left;background-color: #f0f8ff;}#sk-container-id-1 div.sk-toggleable__content pre {margin: 0.2em;color: black;border-radius: 0.25em;background-color: #f0f8ff;}#sk-container-id-1 input.sk-toggleable__control:checked~div.sk-toggleable__content {max-height: 200px;max-width: 100%;overflow: auto;}#sk-container-id-1 input.sk-toggleable__control:checked~label.sk-toggleable__label-arrow:before {content: \"▾\";}#sk-container-id-1 div.sk-estimator input.sk-toggleable__control:checked~label.sk-toggleable__label {background-color: #d4ebff;}#sk-container-id-1 div.sk-label input.sk-toggleable__control:checked~label.sk-toggleable__label {background-color: #d4ebff;}#sk-container-id-1 input.sk-hidden--visually {border: 0;clip: rect(1px 1px 1px 1px);clip: rect(1px, 1px, 1px, 1px);height: 1px;margin: -1px;overflow: hidden;padding: 0;position: absolute;width: 1px;}#sk-container-id-1 div.sk-estimator {font-family: monospace;background-color: #f0f8ff;border: 1px dotted black;border-radius: 0.25em;box-sizing: border-box;margin-bottom: 0.5em;}#sk-container-id-1 div.sk-estimator:hover {background-color: #d4ebff;}#sk-container-id-1 div.sk-parallel-item::after {content: \"\";width: 100%;border-bottom: 1px solid gray;flex-grow: 1;}#sk-container-id-1 div.sk-label:hover label.sk-toggleable__label {background-color: #d4ebff;}#sk-container-id-1 div.sk-serial::before {content: \"\";position: absolute;border-left: 1px solid gray;box-sizing: border-box;top: 0;bottom: 0;left: 50%;z-index: 0;}#sk-container-id-1 div.sk-serial {display: flex;flex-direction: column;align-items: center;background-color: white;padding-right: 0.2em;padding-left: 0.2em;position: relative;}#sk-container-id-1 div.sk-item {position: relative;z-index: 1;}#sk-container-id-1 div.sk-parallel {display: flex;align-items: stretch;justify-content: center;background-color: white;position: relative;}#sk-container-id-1 div.sk-item::before, #sk-container-id-1 div.sk-parallel-item::before {content: \"\";position: absolute;border-left: 1px solid gray;box-sizing: border-box;top: 0;bottom: 0;left: 50%;z-index: -1;}#sk-container-id-1 div.sk-parallel-item {display: flex;flex-direction: column;z-index: 1;position: relative;background-color: white;}#sk-container-id-1 div.sk-parallel-item:first-child::after {align-self: flex-end;width: 50%;}#sk-container-id-1 div.sk-parallel-item:last-child::after {align-self: flex-start;width: 50%;}#sk-container-id-1 div.sk-parallel-item:only-child::after {width: 0;}#sk-container-id-1 div.sk-dashed-wrapped {border: 1px dashed gray;margin: 0 0.4em 0.5em 0.4em;box-sizing: border-box;padding-bottom: 0.4em;background-color: white;}#sk-container-id-1 div.sk-label label {font-family: monospace;font-weight: bold;display: inline-block;line-height: 1.2em;}#sk-container-id-1 div.sk-label-container {text-align: center;}#sk-container-id-1 div.sk-container {/* jupyter's `normalize.less` sets `[hidden] { display: none; }` but bootstrap.min.css set `[hidden] { display: none !important; }` so we also need the `!important` here to be able to override the default hidden behavior on the sphinx rendered scikit-learn.org. See: https://github.com/scikit-learn/scikit-learn/issues/21755 */display: inline-block !important;position: relative;}#sk-container-id-1 div.sk-text-repr-fallback {display: none;}</style><div id=\"sk-container-id-1\" class=\"sk-top-container\"><div class=\"sk-text-repr-fallback\"><pre>DecisionTreeClassifier(max_depth=7, random_state=10)</pre><b>In a Jupyter environment, please rerun this cell to show the HTML representation or trust the notebook. <br />On GitHub, the HTML representation is unable to render, please try loading this page with nbviewer.org.</b></div><div class=\"sk-container\" hidden><div class=\"sk-item\"><div class=\"sk-estimator sk-toggleable\"><input class=\"sk-toggleable__control sk-hidden--visually\" id=\"sk-estimator-id-1\" type=\"checkbox\" checked><label for=\"sk-estimator-id-1\" class=\"sk-toggleable__label sk-toggleable__label-arrow\">DecisionTreeClassifier</label><div class=\"sk-toggleable__content\"><pre>DecisionTreeClassifier(max_depth=7, random_state=10)</pre></div></div></div></div></div>"
            ]
          },
          "metadata": {},
          "execution_count": 28
        }
      ]
    },
    {
      "cell_type": "markdown",
      "source": [
        "###Predict - Evaluate"
      ],
      "metadata": {
        "id": "Bq0C1ZsObSs8"
      }
    },
    {
      "cell_type": "markdown",
      "source": [
        "####Predict"
      ],
      "metadata": {
        "id": "HMSN95y6bVkI"
      }
    },
    {
      "cell_type": "code",
      "source": [
        "y_pred_1 = clf1.predict(X_test)\n",
        "y_pred_2 = clf2.predict(X_test)\n",
        "y_pred_3 = clf3.predict(X_test)\n",
        "y_pred_4 = clf4.predict(X_test)\n",
        "y_pred_5 = clf5.predict(X_test)\n",
        "y_pred_6 = clf6.predict(X_test)\n",
        "y_pred_7 = clf7.predict(X_test)\n",
        "y_pred_8 = clf8.predict(X_test)\n",
        "y_pred_9 = clf9.predict(X_test)\n",
        "y_pred_10 = clf10.predict(X_test)"
      ],
      "metadata": {
        "id": "cUBtdStobRsw"
      },
      "execution_count": 29,
      "outputs": []
    },
    {
      "cell_type": "markdown",
      "source": [
        "###Evaluate"
      ],
      "metadata": {
        "id": "59H2J7-tcGOv"
      }
    },
    {
      "cell_type": "code",
      "source": [
        "print(f\"Accuracy of clf1: {accuracy_score(y_test, y_pred_1)}\") #This model is da best Accuracy of clf1: 0.9460269865067467\n",
        "print(f\"Accuracy of clf2: {accuracy_score(y_test, y_pred_2)}\") \n",
        "print(f\"Accuracy of clf3: {accuracy_score(y_test, y_pred_3)}\")\n",
        "print(f\"Accuracy of clf4: {accuracy_score(y_test, y_pred_4)}\")\n",
        "print(f\"Accuracy of clf5: {accuracy_score(y_test, y_pred_5)}\")\n",
        "print(f\"Accuracy of clf6: {accuracy_score(y_test, y_pred_6)}\")\n",
        "print(f\"Accuracy of clf7: {accuracy_score(y_test, y_pred_7)}\")\n",
        "print(f\"Accuracy of clf8: {accuracy_score(y_test, y_pred_8)}\")\n",
        "print(f\"Accuracy of clf9: {accuracy_score(y_test, y_pred_9)}\")\n",
        "print(f\"Accuracy of clf10: {accuracy_score(y_test, y_pred_10)}\")"
      ],
      "metadata": {
        "colab": {
          "base_uri": "https://localhost:8080/"
        },
        "id": "8YoV9tJ9r64T",
        "outputId": "cb1e6beb-8625-47c2-da0f-bc298bec8099"
      },
      "execution_count": 30,
      "outputs": [
        {
          "output_type": "stream",
          "name": "stdout",
          "text": [
            "Accuracy of clf1: 0.9460269865067467\n",
            "Accuracy of clf2: 0.9415292353823088\n",
            "Accuracy of clf3: 0.9415292353823088\n",
            "Accuracy of clf4: 0.9430284857571214\n",
            "Accuracy of clf5: 0.9445277361319341\n",
            "Accuracy of clf6: 0.9430284857571214\n",
            "Accuracy of clf7: 0.9430284857571214\n",
            "Accuracy of clf8: 0.9445277361319341\n",
            "Accuracy of clf9: 0.9430284857571214\n",
            "Accuracy of clf10: 0.9430284857571214\n"
          ]
        }
      ]
    },
    {
      "cell_type": "code",
      "source": [
        "DT_score = accuracy_score(y_test, y_pred_1)"
      ],
      "metadata": {
        "id": "5JqhRVuUs4V_"
      },
      "execution_count": 31,
      "outputs": []
    },
    {
      "cell_type": "code",
      "source": [
        "print(f'Accuracy DecisionTree', DT_score)"
      ],
      "metadata": {
        "colab": {
          "base_uri": "https://localhost:8080/"
        },
        "id": "ieQeA6crsuax",
        "outputId": "a17797ba-43d8-4969-dc72-0a25b0fba2c6"
      },
      "execution_count": 32,
      "outputs": [
        {
          "output_type": "stream",
          "name": "stdout",
          "text": [
            "Accuracy DecisionTree 0.9460269865067467\n"
          ]
        }
      ]
    },
    {
      "cell_type": "markdown",
      "source": [
        "###หน้าตาต้นไม้ Model Clf1"
      ],
      "metadata": {
        "id": "_Beg3MypHDKQ"
      }
    },
    {
      "cell_type": "code",
      "source": [
        "from sklearn.tree import plot_tree\n",
        "from sklearn.tree import export_graphviz\n",
        "from graphviz import Source\n",
        "from IPython.display import display\n"
      ],
      "metadata": {
        "id": "1Z_4PAwIG9Th"
      },
      "execution_count": 33,
      "outputs": []
    },
    {
      "cell_type": "code",
      "source": [
        "yy = y_test\n",
        "XX = X_test"
      ],
      "metadata": {
        "id": "zX5t4VYRoQD2"
      },
      "execution_count": 34,
      "outputs": []
    },
    {
      "cell_type": "code",
      "source": [
        "dot_data = export_graphviz(clf1, out_file=None, feature_names=XX.columns, class_names=['no churn', 'churn'], filled=True) #Model 2"
      ],
      "metadata": {
        "id": "01OeN1JelNzU"
      },
      "execution_count": 35,
      "outputs": []
    },
    {
      "cell_type": "code",
      "source": [
        "# Create a source object from the DOT data\n",
        "source = Source(dot_data)"
      ],
      "metadata": {
        "id": "JfOYegiMoosF"
      },
      "execution_count": 36,
      "outputs": []
    },
    {
      "cell_type": "code",
      "source": [
        "# Save Picture\n",
        "source.render(\"my_tree\")"
      ],
      "metadata": {
        "id": "txRIjYMcqCet",
        "colab": {
          "base_uri": "https://localhost:8080/",
          "height": 34
        },
        "outputId": "42a71b8d-1ed5-468e-d897-0280a1f982c6"
      },
      "execution_count": 37,
      "outputs": [
        {
          "output_type": "execute_result",
          "data": {
            "text/plain": [
              "'my_tree.pdf'"
            ],
            "application/vnd.google.colaboratory.intrinsic+json": {
              "type": "string"
            }
          },
          "metadata": {},
          "execution_count": 37
        }
      ]
    },
    {
      "cell_type": "markdown",
      "source": [
        "## KNN Classifications\n"
      ],
      "metadata": {
        "id": "N1cBAGU9169d"
      }
    },
    {
      "cell_type": "code",
      "source": [
        "from sklearn.neighbors import KNeighborsClassifier\n",
        "from sklearn.metrics import accuracy_score\n",
        "from sklearn.model_selection import cross_val_score\n",
        "import numpy as np"
      ],
      "metadata": {
        "id": "CKu56zhD1-gm"
      },
      "execution_count": 38,
      "outputs": []
    },
    {
      "cell_type": "markdown",
      "source": [
        "###Evaluate with test set\n"
      ],
      "metadata": {
        "id": "AR_JyGuva5xT"
      }
    },
    {
      "cell_type": "code",
      "source": [
        "knn1 = KNeighborsClassifier(n_neighbors=9, weights='distance') \n",
        "knn1.fit(X_train,y_train)\n",
        "yknn_pred1 = knn1.predict(X_test)\n"
      ],
      "metadata": {
        "id": "WFtfJ-MwRiQT"
      },
      "execution_count": 39,
      "outputs": []
    },
    {
      "cell_type": "code",
      "source": [
        "from sklearn.metrics import accuracy_score\n",
        "# Assume y_true and y_pred are the true and predicted labels, respectively\n",
        "knn_score = accuracy_score(y_test, yknn_pred1)\n",
        "# Print the accuracy score\n",
        "print(\" Model KNN n_neighborsne = 9 มีความแม่นยำที่โมเดลทำนาย Churn ของ X_test =\", knn_score )"
      ],
      "metadata": {
        "colab": {
          "base_uri": "https://localhost:8080/"
        },
        "id": "DeLWSZ1dRs99",
        "outputId": "28c2bf05-d5d1-4591-a542-fdb122dc7a18"
      },
      "execution_count": 40,
      "outputs": [
        {
          "output_type": "stream",
          "name": "stdout",
          "text": [
            " Model KNN n_neighborsne = 9 มีความแม่นยำที่โมเดลทำนาย Churn ของ X_test = 0.8590704647676162\n"
          ]
        }
      ]
    },
    {
      "cell_type": "markdown",
      "source": [
        "- โค้ดนี้เป็นการฝึกและใช้งานโมเดล KNN ด้วยการกำหนด hyperparameters =13 \n",
        "- ใช้ X_train และ y_train เพื่อฝึกโมเดล \n",
        "- ทดสอบโมเดลด้วยชุดข้อมูล X_test และ y_test\n",
        "- แสดงผลลัพธ์เป็น yknn_pred1 ซึ่งเป็นค่าที่โมเดลทำนาย Churn ของ X_test ออกมาได้"
      ],
      "metadata": {
        "id": "GOfeyptW-1fh"
      }
    },
    {
      "cell_type": "markdown",
      "source": [
        "## Navie Bays\n",
        "- Naive Bayes Classification เป็น Model ใช้ในการแบ่งกลุ่มหรือหาเหตุการณ์ที่จะเกิดขึ้น ซึ่ง Target ของโมเดลจะเพิ่มโอกาสในการเกิดเหตุการณ์เข้าไป\n",
        "\n",
        "- การปรับปรุงประสิทธิภาพการจัดประเภท คุณสามารถลองใช้ตัวแยกประเภท GaussianNB แทน ซึ่งเหมาะสำหรับข้อมูลที่ต่อเนื่องมากกว่า"
      ],
      "metadata": {
        "id": "ORcUYcQOQ8Js"
      }
    },
    {
      "cell_type": "code",
      "source": [
        "from sklearn.naive_bayes import MultinomialNB, GaussianNB\n",
        "from sklearn.preprocessing import StandardScaler\n",
        "from sklearn.metrics import f1_score, recall_score"
      ],
      "metadata": {
        "id": "PhUPFI8XRAcs"
      },
      "execution_count": 41,
      "outputs": []
    },
    {
      "cell_type": "code",
      "source": [
        "gnb = GaussianNB()\n",
        "gnb.fit(X_train, y_train)\n",
        "y_pred0 = gnb.predict(X_test)\n",
        "gnb_score0 = gnb.score(X_test, y_test)\n",
        "gnb_score0\n",
        "f1 = f1_score(y_test, y_pred0)\n",
        "recall = recall_score(y_test, y_pred0)\n",
        "\n",
        "print(\"โมเดล GaussianNB ได้ค่าทำนาย =\", gnb_score0)\n",
        "print(\"F1 ได้ค่าเฉลี่ยของความแม่นยำของการทำนาย =\", f1) #(มีค่าระหว่าง 0 ถึง 1 ค่าที่มากกว่าแสดงว่าโมเดลสามารถทำนายได้ดีมากขึ้น)\n",
        "print(\"Recall ได้ค่าสัมประสิทธิ์การทำนายความถูกต้องของโมเดล =\", recall) #(มีค่าระหว่าง 0 ถึง 1 ค่าที่มากกว่าแสดงว่าโมเดลสามารถทำนายได้ดีมากขึ้น)"
      ],
      "metadata": {
        "id": "MLJyqlvre3qH",
        "colab": {
          "base_uri": "https://localhost:8080/"
        },
        "outputId": "ad526d80-1d2f-4047-9192-e4aa7f956b94"
      },
      "execution_count": 42,
      "outputs": [
        {
          "output_type": "stream",
          "name": "stdout",
          "text": [
            "โมเดล GaussianNB ได้ค่าทำนาย = 0.5922038980509745\n",
            "F1 ได้ค่าเฉลี่ยของความแม่นยำของการทำนาย = 0.26881720430107525\n",
            "Recall ได้ค่าสัมประสิทธิ์การทำนายความถูกต้องของโมเดล = 0.5263157894736842\n"
          ]
        }
      ]
    },
    {
      "cell_type": "markdown",
      "source": [
        "- เนื่องจากOutput gnb_score1 มีค่าน้อยมาก = 0.636, 63%\n",
        "- ทำให้ต้องมีการรวิเคราะห์สหสัมพันธ์ : แต่ละรายการกับตัวแปรเป้าหมาย = corr\n",
        "- มองหา freatures ที่มี corr. กับ target สูงๆ ใช้ทำนายในโมเดลนี้ =\n",
        "- [\"Total day minute\"], [\"Total Day Charge\"], [\"Customer Service Call\"]"
      ],
      "metadata": {
        "id": "tTD8yrSZkW8v"
      }
    },
    {
      "cell_type": "markdown",
      "source": [
        "####ปรับปรุงโมเดล Naviy Bay "
      ],
      "metadata": {
        "id": "C9vlVJOGgHG_"
      }
    },
    {
      "cell_type": "code",
      "source": [
        "X_train_Corr  = data1_en_train[['Total day minutes','Total day charge','Customer service calls']] # เลือกคอลัมน์ 3 คอลัมน์มาทำ Model เพราะ มีค่า Corr ดีสุด\n",
        "y_train_Corr  = data1_en_train[['Churn']]\n",
        "X_test_Corr   = data2_en_test[['Total day minutes','Total day charge','Customer service calls']]\n",
        "y_test_Corr   = data2_en_test[['Churn']]"
      ],
      "metadata": {
        "id": "jri6j88pPwIK"
      },
      "execution_count": 43,
      "outputs": []
    },
    {
      "cell_type": "code",
      "source": [
        "gnb = GaussianNB()\n",
        "gnb.fit(X_train_Corr, y_train_Corr)\n",
        "y_pred = gnb.predict(X_test_Corr)\n",
        "\n",
        "gnb_score = gnb.score(X_test_Corr, y_test_Corr)\n",
        "f1 = f1_score(y_test_Corr, y_pred)\n",
        "recall = recall_score(y_test_Corr, y_pred)\n",
        "\n",
        "print(\"โมเดล GaussianNB ได้ค่าทำนาย =\", gnb_score)\n",
        "print(\"F1 ได้ค่าเฉลี่ยของความแม่นยำของการทำนาย =\", f1) #(มีค่าระหว่าง 0 ถึง 1 ค่าที่มากกว่าแสดงว่าโมเดลสามารถทำนายได้ดีมากขึ้น)\n",
        "print(\"Recall ได้ค่าสัมประสิทธิ์การทำนายความถูกต้องของโมเดล =\", recall) #(มีค่าระหว่าง 0 ถึง 1 ค่าที่มากกว่าแสดงว่าโมเดลสามารถทำนายได้ดีมากขึ้น)"
      ],
      "metadata": {
        "colab": {
          "base_uri": "https://localhost:8080/"
        },
        "id": "e3AnhY6_QHM2",
        "outputId": "b01faaec-7400-4591-dc1d-6887692c6582"
      },
      "execution_count": 44,
      "outputs": [
        {
          "output_type": "stream",
          "name": "stdout",
          "text": [
            "โมเดล GaussianNB ได้ค่าทำนาย = 0.8740629685157422\n",
            "F1 ได้ค่าเฉลี่ยของความแม่นยำของการทำนาย = 0.46835443037974683\n",
            "Recall ได้ค่าสัมประสิทธิ์การทำนายความถูกต้องของโมเดล = 0.3894736842105263\n"
          ]
        }
      ]
    },
    {
      "cell_type": "code",
      "source": [
        "print(DT_score, knn_score, gnb_score)\n"
      ],
      "metadata": {
        "colab": {
          "base_uri": "https://localhost:8080/"
        },
        "id": "RP62EUxFtBte",
        "outputId": "20cd8ccf-8943-4644-ce8e-80200067db8a"
      },
      "execution_count": 45,
      "outputs": [
        {
          "output_type": "stream",
          "name": "stdout",
          "text": [
            "0.9460269865067467 0.8590704647676162 0.8740629685157422\n"
          ]
        }
      ]
    },
    {
      "cell_type": "code",
      "source": [
        "# Initialize figure\n",
        "fig, ax = plt.subplots()\n",
        "fig.set_figheight(7)\n",
        "fig.set_figwidth(14)\n",
        "fig.set_facecolor('white')\n",
        "\n",
        "# Set bar size\n",
        "barWidth = 0.2\n",
        "DT_score = 0.94 # replace with your Decision Tree accuracy\n",
        "gnb_score = 0.87 # replace with your Naive Bayes accuracy\n",
        "knn_score = 0.85 # replace with your K-Nearest Neighbors accuracy\n",
        "\n",
        "# Set position of bar on X axis\n",
        "r1 = np.arange(1)\n",
        "r2 = [x + barWidth for x in r1]\n",
        "r3 = [x + barWidth for x in r2]\n",
        "\n",
        "# Make the plot\n",
        "ax.bar(r1, [DT_score], width=barWidth, edgecolor='white', color='red')\n",
        "ax.bar(r2, [gnb_score], width=barWidth, edgecolor='white', color='green')\n",
        "ax.bar(r3, [knn_score], width=barWidth, edgecolor='white', color='blue')\n",
        "\n",
        "# Configure x and y axis\n",
        "ax.set_xlabel('Metrics', fontweight='bold')\n",
        "labels = ['Accuracy']\n",
        "ax.set_xticks([r + (barWidth * 1) for r in range(1)], )\n",
        "ax.set_xticklabels(labels)\n",
        "ax.set_ylabel('Score', fontweight='bold')\n",
        "ax.set_ylim(0, 1)\n",
        "\n",
        "# Create legend & title\n",
        "ax.set_title('Model Comparison', fontsize=16, fontweight='bold')\n",
        "ax.legend(['Decision Tree', 'Naive Bayes', 'K-Nearest Neighbors'], loc='upper right')\n"
      ],
      "metadata": {
        "colab": {
          "base_uri": "https://localhost:8080/",
          "height": 477
        },
        "id": "i0898YGQzJ01",
        "outputId": "dd7688cc-7889-4ee1-d6a7-f8a2e935ee1e"
      },
      "execution_count": 46,
      "outputs": [
        {
          "output_type": "execute_result",
          "data": {
            "text/plain": [
              "<matplotlib.legend.Legend at 0x7f8f59361fa0>"
            ]
          },
          "metadata": {},
          "execution_count": 46
        },
        {
          "output_type": "display_data",
          "data": {
            "text/plain": [
              "<Figure size 1008x504 with 1 Axes>"
            ],
            "image/png": "[encoded data removed]"
          },
          "metadata": {}
        }
      ]
    },
    {
      "cell_type": "markdown",
      "source": [
        "## สรุปจากการคำนวณความแม่นยำของโมเดล\n",
        "- Model DecisionTree\n",
        "ได้ค่า Accuracy เท่ากับ 0.9460269865067467\n",
        "\n",
        "- KNeighbors\n",
        "Model ที่ดีที่สุดคือ K=9, weighted='distance' \n",
        "ได้ค่า Accuracy เท่ากับ 0.8590704647676162\n",
        "\n",
        "- NaiveBayes\n",
        "ได่ค่า Accuracy เท่ากับ 0.8740629685157422\n",
        "\n",
        "จึงสรุปว่า\n",
        "เลือกใช้โมเดลที่ดีที่สุดคือ DecisionTree Accuracy ค่า Accuracy เท่ากับ 0.95 หรือ 95%"
      ],
      "metadata": {
        "id": "hE_5fi04cYJz"
      }
    },
    {
      "cell_type": "markdown",
      "source": [
        "#Association rules"
      ],
      "metadata": {
        "id": "_fcGF5nVbZO6"
      }
    },
    {
      "cell_type": "code",
      "source": [
        "!pip install apyori\n",
        "from mlxtend.frequent_patterns import apriori\n",
        "from mlxtend.frequent_patterns import association_rules\n"
      ],
      "metadata": {
        "id": "O5vQQ4uZtCfQ",
        "colab": {
          "base_uri": "https://localhost:8080/"
        },
        "outputId": "73ef17b2-c5d8-4f58-81e1-eea884701d51"
      },
      "execution_count": 47,
      "outputs": [
        {
          "output_type": "stream",
          "name": "stdout",
          "text": [
            "Looking in indexes: https://pypi.org/simple, https://us-python.pkg.dev/colab-wheels/public/simple/\n",
            "Collecting apyori\n",
            "  Downloading apyori-1.1.2.tar.gz (8.6 kB)\n",
            "  Preparing metadata (setup.py) ... \u001b[?25l\u001b[?25hdone\n",
            "Building wheels for collected packages: apyori\n",
            "  Building wheel for apyori (setup.py) ... \u001b[?25l\u001b[?25hdone\n",
            "  Created wheel for apyori: filename=apyori-1.1.2-py3-none-any.whl size=5976 sha256=2d5bba426e1804aa59f186e52f37da3a0697d518d5a0d127454e8d43e1bba6ad\n",
            "  Stored in directory: /root/.cache/pip/wheels/32/2a/54/10c595515f385f3726642b10c60bf788029e8f3a1323e3913a\n",
            "Successfully built apyori\n",
            "Installing collected packages: apyori\n",
            "Successfully installed apyori-1.1.2\n"
          ]
        }
      ]
    },
    {
      "cell_type": "code",
      "source": [
        "data.head()"
      ],
      "metadata": {
        "colab": {
          "base_uri": "https://localhost:8080/",
          "height": 285
        },
        "id": "ftpht4J4g4Ds",
        "outputId": "c1a4d9da-e020-4c35-9b5b-4869f7ea5502"
      },
      "execution_count": 48,
      "outputs": [
        {
          "output_type": "execute_result",
          "data": {
            "text/plain": [
              "  State  Account length  Area code International plan Voice mail plan  \\\n",
              "1    KS             128        415                 No             Yes   \n",
              "2    OH             107        415                 No             Yes   \n",
              "3    NJ             137        415                 No              No   \n",
              "4    OH              84        408                Yes              No   \n",
              "5    OK              75        415                Yes              No   \n",
              "\n",
              "   Number vmail messages  Total day minutes  Total day calls  \\\n",
              "1                     25              265.1              110   \n",
              "2                     26              161.6              123   \n",
              "3                      0              243.4              114   \n",
              "4                      0              299.4               71   \n",
              "5                      0              166.7              113   \n",
              "\n",
              "   Total day charge  Total eve minutes  Total eve calls  Total eve charge  \\\n",
              "1             45.07              197.4               99             16.78   \n",
              "2             27.47              195.5              103             16.62   \n",
              "3             41.38              121.2              110             10.30   \n",
              "4             50.90               61.9               88              5.26   \n",
              "5             28.34              148.3              122             12.61   \n",
              "\n",
              "   Total night minutes  Total night calls  Total night charge  \\\n",
              "1                244.7                 91               11.01   \n",
              "2                254.4                103               11.45   \n",
              "3                162.6                104                7.32   \n",
              "4                196.9                 89                8.86   \n",
              "5                186.9                121                8.41   \n",
              "\n",
              "   Total intl minutes  Total intl calls  Total intl charge  \\\n",
              "1                10.0                 3               2.70   \n",
              "2                13.7                 3               3.70   \n",
              "3                12.2                 5               3.29   \n",
              "4                 6.6                 7               1.78   \n",
              "5                10.1                 3               2.73   \n",
              "\n",
              "   Customer service calls  Churn  \n",
              "1                       1  False  \n",
              "2                       1  False  \n",
              "3                       0  False  \n",
              "4                       2  False  \n",
              "5                       3  False  "
            ],
            "text/html": [
              "\n",
              "  <div id=\"df-52fa3b63-b535-4300-aee7-6072f3f8876a\">\n",
              "    <div class=\"colab-df-container\">\n",
              "      <div>\n",
              "<style scoped>\n",
              "    .dataframe tbody tr th:only-of-type {\n",
              "        vertical-align: middle;\n",
              "    }\n",
              "\n",
              "    .dataframe tbody tr th {\n",
              "        vertical-align: top;\n",
              "    }\n",
              "\n",
              "    .dataframe thead th {\n",
              "        text-align: right;\n",
              "    }\n",
              "</style>\n",
              "<table border=\"1\" class=\"dataframe\">\n",
              "  <thead>\n",
              "    <tr style=\"text-align: right;\">\n",
              "      <th></th>\n",
              "      <th>State</th>\n",
              "      <th>Account length</th>\n",
              "      <th>Area code</th>\n",
              "      <th>International plan</th>\n",
              "      <th>Voice mail plan</th>\n",
              "      <th>Number vmail messages</th>\n",
              "      <th>Total day minutes</th>\n",
              "      <th>Total day calls</th>\n",
              "      <th>Total day charge</th>\n",
              "      <th>Total eve minutes</th>\n",
              "      <th>Total eve calls</th>\n",
              "      <th>Total eve charge</th>\n",
              "      <th>Total night minutes</th>\n",
              "      <th>Total night calls</th>\n",
              "      <th>Total night charge</th>\n",
              "      <th>Total intl minutes</th>\n",
              "      <th>Total intl calls</th>\n",
              "      <th>Total intl charge</th>\n",
              "      <th>Customer service calls</th>\n",
              "      <th>Churn</th>\n",
              "    </tr>\n",
              "  </thead>\n",
              "  <tbody>\n",
              "    <tr>\n",
              "      <th>1</th>\n",
              "      <td>KS</td>\n",
              "      <td>128</td>\n",
              "      <td>415</td>\n",
              "      <td>No</td>\n",
              "      <td>Yes</td>\n",
              "      <td>25</td>\n",
              "      <td>265.1</td>\n",
              "      <td>110</td>\n",
              "      <td>45.07</td>\n",
              "      <td>197.4</td>\n",
              "      <td>99</td>\n",
              "      <td>16.78</td>\n",
              "      <td>244.7</td>\n",
              "      <td>91</td>\n",
              "      <td>11.01</td>\n",
              "      <td>10.0</td>\n",
              "      <td>3</td>\n",
              "      <td>2.70</td>\n",
              "      <td>1</td>\n",
              "      <td>False</td>\n",
              "    </tr>\n",
              "    <tr>\n",
              "      <th>2</th>\n",
              "      <td>OH</td>\n",
              "      <td>107</td>\n",
              "      <td>415</td>\n",
              "      <td>No</td>\n",
              "      <td>Yes</td>\n",
              "      <td>26</td>\n",
              "      <td>161.6</td>\n",
              "      <td>123</td>\n",
              "      <td>27.47</td>\n",
              "      <td>195.5</td>\n",
              "      <td>103</td>\n",
              "      <td>16.62</td>\n",
              "      <td>254.4</td>\n",
              "      <td>103</td>\n",
              "      <td>11.45</td>\n",
              "      <td>13.7</td>\n",
              "      <td>3</td>\n",
              "      <td>3.70</td>\n",
              "      <td>1</td>\n",
              "      <td>False</td>\n",
              "    </tr>\n",
              "    <tr>\n",
              "      <th>3</th>\n",
              "      <td>NJ</td>\n",
              "      <td>137</td>\n",
              "      <td>415</td>\n",
              "      <td>No</td>\n",
              "      <td>No</td>\n",
              "      <td>0</td>\n",
              "      <td>243.4</td>\n",
              "      <td>114</td>\n",
              "      <td>41.38</td>\n",
              "      <td>121.2</td>\n",
              "      <td>110</td>\n",
              "      <td>10.30</td>\n",
              "      <td>162.6</td>\n",
              "      <td>104</td>\n",
              "      <td>7.32</td>\n",
              "      <td>12.2</td>\n",
              "      <td>5</td>\n",
              "      <td>3.29</td>\n",
              "      <td>0</td>\n",
              "      <td>False</td>\n",
              "    </tr>\n",
              "    <tr>\n",
              "      <th>4</th>\n",
              "      <td>OH</td>\n",
              "      <td>84</td>\n",
              "      <td>408</td>\n",
              "      <td>Yes</td>\n",
              "      <td>No</td>\n",
              "      <td>0</td>\n",
              "      <td>299.4</td>\n",
              "      <td>71</td>\n",
              "      <td>50.90</td>\n",
              "      <td>61.9</td>\n",
              "      <td>88</td>\n",
              "      <td>5.26</td>\n",
              "      <td>196.9</td>\n",
              "      <td>89</td>\n",
              "      <td>8.86</td>\n",
              "      <td>6.6</td>\n",
              "      <td>7</td>\n",
              "      <td>1.78</td>\n",
              "      <td>2</td>\n",
              "      <td>False</td>\n",
              "    </tr>\n",
              "    <tr>\n",
              "      <th>5</th>\n",
              "      <td>OK</td>\n",
              "      <td>75</td>\n",
              "      <td>415</td>\n",
              "      <td>Yes</td>\n",
              "      <td>No</td>\n",
              "      <td>0</td>\n",
              "      <td>166.7</td>\n",
              "      <td>113</td>\n",
              "      <td>28.34</td>\n",
              "      <td>148.3</td>\n",
              "      <td>122</td>\n",
              "      <td>12.61</td>\n",
              "      <td>186.9</td>\n",
              "      <td>121</td>\n",
              "      <td>8.41</td>\n",
              "      <td>10.1</td>\n",
              "      <td>3</td>\n",
              "      <td>2.73</td>\n",
              "      <td>3</td>\n",
              "      <td>False</td>\n",
              "    </tr>\n",
              "  </tbody>\n",
              "</table>\n",
              "</div>\n",
              "      <button class=\"colab-df-convert\" onclick=\"convertToInteractive('df-52fa3b63-b535-4300-aee7-6072f3f8876a')\"\n",
              "              title=\"Convert this dataframe to an interactive table.\"\n",
              "              style=\"display:none;\">\n",
              "        \n",
              "  <svg xmlns=\"http://www.w3.org/2000/svg\" height=\"24px\"viewBox=\"0 0 24 24\"\n",
              "       width=\"24px\">\n",
              "    <path d=\"M0 0h24v24H0V0z\" fill=\"none\"/>\n",
              "    <path d=\"M18.56 5.44l.94 2.06.94-2.06 2.06-.94-2.06-.94-.94-2.06-.94 2.06-2.06.94zm-11 1L8.5 8.5l.94-2.06 2.06-.94-2.06-.94L8.5 2.5l-.94 2.06-2.06.94zm10 10l.94 2.06.94-2.06 2.06-.94-2.06-.94-.94-2.06-.94 2.06-2.06.94z\"/><path d=\"M17.41 7.96l-1.37-1.37c-.4-.4-.92-.59-1.43-.59-.52 0-1.04.2-1.43.59L10.3 9.45l-7.72 7.72c-.78.78-.78 2.05 0 2.83L4 21.41c.39.39.9.59 1.41.59.51 0 1.02-.2 1.41-.59l7.78-7.78 2.81-2.81c.8-.78.8-2.07 0-2.86zM5.41 20L4 18.59l7.72-7.72 1.47 1.35L5.41 20z\"/>\n",
              "  </svg>\n",
              "      </button>\n",
              "      \n",
              "  <style>\n",
              "    .colab-df-container {\n",
              "      display:flex;\n",
              "      flex-wrap:wrap;\n",
              "      gap: 12px;\n",
              "    }\n",
              "\n",
              "    .colab-df-convert {\n",
              "      background-color: #E8F0FE;\n",
              "      border: none;\n",
              "      border-radius: 50%;\n",
              "      cursor: pointer;\n",
              "      display: none;\n",
              "      fill: #1967D2;\n",
              "      height: 32px;\n",
              "      padding: 0 0 0 0;\n",
              "      width: 32px;\n",
              "    }\n",
              "\n",
              "    .colab-df-convert:hover {\n",
              "      background-color: #E2EBFA;\n",
              "      box-shadow: 0px 1px 2px rgba(60, 64, 67, 0.3), 0px 1px 3px 1px rgba(60, 64, 67, 0.15);\n",
              "      fill: #174EA6;\n",
              "    }\n",
              "\n",
              "    [theme=dark] .colab-df-convert {\n",
              "      background-color: #3B4455;\n",
              "      fill: #D2E3FC;\n",
              "    }\n",
              "\n",
              "    [theme=dark] .colab-df-convert:hover {\n",
              "      background-color: #434B5C;\n",
              "      box-shadow: 0px 1px 3px 1px rgba(0, 0, 0, 0.15);\n",
              "      filter: drop-shadow(0px 1px 2px rgba(0, 0, 0, 0.3));\n",
              "      fill: #FFFFFF;\n",
              "    }\n",
              "  </style>\n",
              "\n",
              "      <script>\n",
              "        const buttonEl =\n",
              "          document.querySelector('#df-52fa3b63-b535-4300-aee7-6072f3f8876a button.colab-df-convert');\n",
              "        buttonEl.style.display =\n",
              "          google.colab.kernel.accessAllowed ? 'block' : 'none';\n",
              "\n",
              "        async function convertToInteractive(key) {\n",
              "          const element = document.querySelector('#df-52fa3b63-b535-4300-aee7-6072f3f8876a');\n",
              "          const dataTable =\n",
              "            await google.colab.kernel.invokeFunction('convertToInteractive',\n",
              "                                                     [key], {});\n",
              "          if (!dataTable) return;\n",
              "\n",
              "          const docLinkHtml = 'Like what you see? Visit the ' +\n",
              "            '<a target=\"_blank\" href=https://colab.research.google.com/notebooks/data_table.ipynb>data table notebook</a>'\n",
              "            + ' to learn more about interactive tables.';\n",
              "          element.innerHTML = '';\n",
              "          dataTable['output_type'] = 'display_data';\n",
              "          await google.colab.output.renderOutput(dataTable, element);\n",
              "          const docLink = document.createElement('div');\n",
              "          docLink.innerHTML = docLinkHtml;\n",
              "          element.appendChild(docLink);\n",
              "        }\n",
              "      </script>\n",
              "    </div>\n",
              "  </div>\n",
              "  "
            ]
          },
          "metadata": {},
          "execution_count": 48
        }
      ]
    },
    {
      "cell_type": "code",
      "source": [
        "data[\"Churn\"] = data[\"Churn\"].replace({True: 1, False: 0})\n",
        "dataAZ1 = data.copy()\n",
        "dataAZ1['total_call_all_day'] = dataAZ1['Total day minutes'] + dataAZ1['Total eve minutes'] + dataAZ1['Total night minutes']\n",
        "dataAZ1 = dataAZ1[['total_call_all_day','Churn']]\n",
        "dataAZ1.head()"
      ],
      "metadata": {
        "id": "zlwrtXlG3RaF",
        "colab": {
          "base_uri": "https://localhost:8080/",
          "height": 206
        },
        "outputId": "5456dc25-07ec-4471-83e0-c8378297b183"
      },
      "execution_count": 49,
      "outputs": [
        {
          "output_type": "execute_result",
          "data": {
            "text/plain": [
              "   total_call_all_day  Churn\n",
              "1               707.2      0\n",
              "2               611.5      0\n",
              "3               527.2      0\n",
              "4               558.2      0\n",
              "5               501.9      0"
            ],
            "text/html": [
              "\n",
              "  <div id=\"df-244c3dce-840e-4d9b-971c-e119b471fd72\">\n",
              "    <div class=\"colab-df-container\">\n",
              "      <div>\n",
              "<style scoped>\n",
              "    .dataframe tbody tr th:only-of-type {\n",
              "        vertical-align: middle;\n",
              "    }\n",
              "\n",
              "    .dataframe tbody tr th {\n",
              "        vertical-align: top;\n",
              "    }\n",
              "\n",
              "    .dataframe thead th {\n",
              "        text-align: right;\n",
              "    }\n",
              "</style>\n",
              "<table border=\"1\" class=\"dataframe\">\n",
              "  <thead>\n",
              "    <tr style=\"text-align: right;\">\n",
              "      <th></th>\n",
              "      <th>total_call_all_day</th>\n",
              "      <th>Churn</th>\n",
              "    </tr>\n",
              "  </thead>\n",
              "  <tbody>\n",
              "    <tr>\n",
              "      <th>1</th>\n",
              "      <td>707.2</td>\n",
              "      <td>0</td>\n",
              "    </tr>\n",
              "    <tr>\n",
              "      <th>2</th>\n",
              "      <td>611.5</td>\n",
              "      <td>0</td>\n",
              "    </tr>\n",
              "    <tr>\n",
              "      <th>3</th>\n",
              "      <td>527.2</td>\n",
              "      <td>0</td>\n",
              "    </tr>\n",
              "    <tr>\n",
              "      <th>4</th>\n",
              "      <td>558.2</td>\n",
              "      <td>0</td>\n",
              "    </tr>\n",
              "    <tr>\n",
              "      <th>5</th>\n",
              "      <td>501.9</td>\n",
              "      <td>0</td>\n",
              "    </tr>\n",
              "  </tbody>\n",
              "</table>\n",
              "</div>\n",
              "      <button class=\"colab-df-convert\" onclick=\"convertToInteractive('df-244c3dce-840e-4d9b-971c-e119b471fd72')\"\n",
              "              title=\"Convert this dataframe to an interactive table.\"\n",
              "              style=\"display:none;\">\n",
              "        \n",
              "  <svg xmlns=\"http://www.w3.org/2000/svg\" height=\"24px\"viewBox=\"0 0 24 24\"\n",
              "       width=\"24px\">\n",
              "    <path d=\"M0 0h24v24H0V0z\" fill=\"none\"/>\n",
              "    <path d=\"M18.56 5.44l.94 2.06.94-2.06 2.06-.94-2.06-.94-.94-2.06-.94 2.06-2.06.94zm-11 1L8.5 8.5l.94-2.06 2.06-.94-2.06-.94L8.5 2.5l-.94 2.06-2.06.94zm10 10l.94 2.06.94-2.06 2.06-.94-2.06-.94-.94-2.06-.94 2.06-2.06.94z\"/><path d=\"M17.41 7.96l-1.37-1.37c-.4-.4-.92-.59-1.43-.59-.52 0-1.04.2-1.43.59L10.3 9.45l-7.72 7.72c-.78.78-.78 2.05 0 2.83L4 21.41c.39.39.9.59 1.41.59.51 0 1.02-.2 1.41-.59l7.78-7.78 2.81-2.81c.8-.78.8-2.07 0-2.86zM5.41 20L4 18.59l7.72-7.72 1.47 1.35L5.41 20z\"/>\n",
              "  </svg>\n",
              "      </button>\n",
              "      \n",
              "  <style>\n",
              "    .colab-df-container {\n",
              "      display:flex;\n",
              "      flex-wrap:wrap;\n",
              "      gap: 12px;\n",
              "    }\n",
              "\n",
              "    .colab-df-convert {\n",
              "      background-color: #E8F0FE;\n",
              "      border: none;\n",
              "      border-radius: 50%;\n",
              "      cursor: pointer;\n",
              "      display: none;\n",
              "      fill: #1967D2;\n",
              "      height: 32px;\n",
              "      padding: 0 0 0 0;\n",
              "      width: 32px;\n",
              "    }\n",
              "\n",
              "    .colab-df-convert:hover {\n",
              "      background-color: #E2EBFA;\n",
              "      box-shadow: 0px 1px 2px rgba(60, 64, 67, 0.3), 0px 1px 3px 1px rgba(60, 64, 67, 0.15);\n",
              "      fill: #174EA6;\n",
              "    }\n",
              "\n",
              "    [theme=dark] .colab-df-convert {\n",
              "      background-color: #3B4455;\n",
              "      fill: #D2E3FC;\n",
              "    }\n",
              "\n",
              "    [theme=dark] .colab-df-convert:hover {\n",
              "      background-color: #434B5C;\n",
              "      box-shadow: 0px 1px 3px 1px rgba(0, 0, 0, 0.15);\n",
              "      filter: drop-shadow(0px 1px 2px rgba(0, 0, 0, 0.3));\n",
              "      fill: #FFFFFF;\n",
              "    }\n",
              "  </style>\n",
              "\n",
              "      <script>\n",
              "        const buttonEl =\n",
              "          document.querySelector('#df-244c3dce-840e-4d9b-971c-e119b471fd72 button.colab-df-convert');\n",
              "        buttonEl.style.display =\n",
              "          google.colab.kernel.accessAllowed ? 'block' : 'none';\n",
              "\n",
              "        async function convertToInteractive(key) {\n",
              "          const element = document.querySelector('#df-244c3dce-840e-4d9b-971c-e119b471fd72');\n",
              "          const dataTable =\n",
              "            await google.colab.kernel.invokeFunction('convertToInteractive',\n",
              "                                                     [key], {});\n",
              "          if (!dataTable) return;\n",
              "\n",
              "          const docLinkHtml = 'Like what you see? Visit the ' +\n",
              "            '<a target=\"_blank\" href=https://colab.research.google.com/notebooks/data_table.ipynb>data table notebook</a>'\n",
              "            + ' to learn more about interactive tables.';\n",
              "          element.innerHTML = '';\n",
              "          dataTable['output_type'] = 'display_data';\n",
              "          await google.colab.output.renderOutput(dataTable, element);\n",
              "          const docLink = document.createElement('div');\n",
              "          docLink.innerHTML = docLinkHtml;\n",
              "          element.appendChild(docLink);\n",
              "        }\n",
              "      </script>\n",
              "    </div>\n",
              "  </div>\n",
              "  "
            ]
          },
          "metadata": {},
          "execution_count": 49
        }
      ]
    },
    {
      "cell_type": "markdown",
      "source": [
        "### แก้ตาราง ทำช่วง นาที"
      ],
      "metadata": {
        "id": "qGEGmu-IgXdq"
      }
    },
    {
      "cell_type": "code",
      "source": [
        "# create a new column 'total_call_all_day_range'\n",
        "dataAZ1['total_call_all_day_range'] = pd.cut(dataAZ1['total_call_all_day'], [200, 500, 900], labels=['total_call_all_day 201-500', 'total_call_all_day 501-900'])\n",
        "# create dummies\n",
        "dummies = pd.get_dummies(dataAZ1['total_call_all_day_range'])\n",
        "# concatenate dummies with original dataframe\n",
        "dataAZ1 = pd.concat([dataAZ1, dummies], axis=1)\n",
        "dataAZ1 = dataAZ1.drop(['total_call_all_day', 'total_call_all_day_range'], axis=1)\n",
        "dataAZ1 = dataAZ1[['total_call_all_day 201-500', 'total_call_all_day 501-900','Churn']]"
      ],
      "metadata": {
        "id": "nA8trYhmiGJU"
      },
      "execution_count": 50,
      "outputs": []
    },
    {
      "cell_type": "code",
      "source": [
        "# ทำ one-hot encoding กับคอลัมน์ 'total_call_all_day'\n",
        "onehot_data = pd.get_dummies(dataAZ1)\n",
        "\n",
        "# สร้างกฎโดยใช้ apriori algorithm\n",
        "frequent_itemsets = apriori(onehot_data, min_support=0.1, use_colnames=True)\n",
        "\n",
        "# สร้างกฎด้วย association rule\n",
        "rules = association_rules(frequent_itemsets, metric=\"lift\", min_threshold=0)\n",
        "\n",
        "# แสดงผลลัพธ์\n",
        "rules"
      ],
      "metadata": {
        "colab": {
          "base_uri": "https://localhost:8080/",
          "height": 112
        },
        "id": "UmUbjR-slDPZ",
        "outputId": "05e04ef7-ce42-46f8-ec8d-bc2c25d93a60"
      },
      "execution_count": 51,
      "outputs": [
        {
          "output_type": "execute_result",
          "data": {
            "text/plain": [
              "                    antecedents                   consequents  \\\n",
              "0  (total_call_all_day 501-900)                       (Churn)   \n",
              "1                       (Churn)  (total_call_all_day 501-900)   \n",
              "\n",
              "   antecedent support  consequent support   support  confidence     lift  \\\n",
              "0            0.816082            0.144914  0.122712    0.150368  1.03763   \n",
              "1            0.144914            0.816082  0.122712    0.846791  1.03763   \n",
              "\n",
              "   leverage  conviction  \n",
              "0   0.00445    1.006418  \n",
              "1   0.00445    1.200440  "
            ],
            "text/html": [
              "\n",
              "  <div id=\"df-de91c35d-b21b-43d5-8934-2b3a6baae91d\">\n",
              "    <div class=\"colab-df-container\">\n",
              "      <div>\n",
              "<style scoped>\n",
              "    .dataframe tbody tr th:only-of-type {\n",
              "        vertical-align: middle;\n",
              "    }\n",
              "\n",
              "    .dataframe tbody tr th {\n",
              "        vertical-align: top;\n",
              "    }\n",
              "\n",
              "    .dataframe thead th {\n",
              "        text-align: right;\n",
              "    }\n",
              "</style>\n",
              "<table border=\"1\" class=\"dataframe\">\n",
              "  <thead>\n",
              "    <tr style=\"text-align: right;\">\n",
              "      <th></th>\n",
              "      <th>antecedents</th>\n",
              "      <th>consequents</th>\n",
              "      <th>antecedent support</th>\n",
              "      <th>consequent support</th>\n",
              "      <th>support</th>\n",
              "      <th>confidence</th>\n",
              "      <th>lift</th>\n",
              "      <th>leverage</th>\n",
              "      <th>conviction</th>\n",
              "    </tr>\n",
              "  </thead>\n",
              "  <tbody>\n",
              "    <tr>\n",
              "      <th>0</th>\n",
              "      <td>(total_call_all_day 501-900)</td>\n",
              "      <td>(Churn)</td>\n",
              "      <td>0.816082</td>\n",
              "      <td>0.144914</td>\n",
              "      <td>0.122712</td>\n",
              "      <td>0.150368</td>\n",
              "      <td>1.03763</td>\n",
              "      <td>0.00445</td>\n",
              "      <td>1.006418</td>\n",
              "    </tr>\n",
              "    <tr>\n",
              "      <th>1</th>\n",
              "      <td>(Churn)</td>\n",
              "      <td>(total_call_all_day 501-900)</td>\n",
              "      <td>0.144914</td>\n",
              "      <td>0.816082</td>\n",
              "      <td>0.122712</td>\n",
              "      <td>0.846791</td>\n",
              "      <td>1.03763</td>\n",
              "      <td>0.00445</td>\n",
              "      <td>1.200440</td>\n",
              "    </tr>\n",
              "  </tbody>\n",
              "</table>\n",
              "</div>\n",
              "      <button class=\"colab-df-convert\" onclick=\"convertToInteractive('df-de91c35d-b21b-43d5-8934-2b3a6baae91d')\"\n",
              "              title=\"Convert this dataframe to an interactive table.\"\n",
              "              style=\"display:none;\">\n",
              "        \n",
              "  <svg xmlns=\"http://www.w3.org/2000/svg\" height=\"24px\"viewBox=\"0 0 24 24\"\n",
              "       width=\"24px\">\n",
              "    <path d=\"M0 0h24v24H0V0z\" fill=\"none\"/>\n",
              "    <path d=\"M18.56 5.44l.94 2.06.94-2.06 2.06-.94-2.06-.94-.94-2.06-.94 2.06-2.06.94zm-11 1L8.5 8.5l.94-2.06 2.06-.94-2.06-.94L8.5 2.5l-.94 2.06-2.06.94zm10 10l.94 2.06.94-2.06 2.06-.94-2.06-.94-.94-2.06-.94 2.06-2.06.94z\"/><path d=\"M17.41 7.96l-1.37-1.37c-.4-.4-.92-.59-1.43-.59-.52 0-1.04.2-1.43.59L10.3 9.45l-7.72 7.72c-.78.78-.78 2.05 0 2.83L4 21.41c.39.39.9.59 1.41.59.51 0 1.02-.2 1.41-.59l7.78-7.78 2.81-2.81c.8-.78.8-2.07 0-2.86zM5.41 20L4 18.59l7.72-7.72 1.47 1.35L5.41 20z\"/>\n",
              "  </svg>\n",
              "      </button>\n",
              "      \n",
              "  <style>\n",
              "    .colab-df-container {\n",
              "      display:flex;\n",
              "      flex-wrap:wrap;\n",
              "      gap: 12px;\n",
              "    }\n",
              "\n",
              "    .colab-df-convert {\n",
              "      background-color: #E8F0FE;\n",
              "      border: none;\n",
              "      border-radius: 50%;\n",
              "      cursor: pointer;\n",
              "      display: none;\n",
              "      fill: #1967D2;\n",
              "      height: 32px;\n",
              "      padding: 0 0 0 0;\n",
              "      width: 32px;\n",
              "    }\n",
              "\n",
              "    .colab-df-convert:hover {\n",
              "      background-color: #E2EBFA;\n",
              "      box-shadow: 0px 1px 2px rgba(60, 64, 67, 0.3), 0px 1px 3px 1px rgba(60, 64, 67, 0.15);\n",
              "      fill: #174EA6;\n",
              "    }\n",
              "\n",
              "    [theme=dark] .colab-df-convert {\n",
              "      background-color: #3B4455;\n",
              "      fill: #D2E3FC;\n",
              "    }\n",
              "\n",
              "    [theme=dark] .colab-df-convert:hover {\n",
              "      background-color: #434B5C;\n",
              "      box-shadow: 0px 1px 3px 1px rgba(0, 0, 0, 0.15);\n",
              "      filter: drop-shadow(0px 1px 2px rgba(0, 0, 0, 0.3));\n",
              "      fill: #FFFFFF;\n",
              "    }\n",
              "  </style>\n",
              "\n",
              "      <script>\n",
              "        const buttonEl =\n",
              "          document.querySelector('#df-de91c35d-b21b-43d5-8934-2b3a6baae91d button.colab-df-convert');\n",
              "        buttonEl.style.display =\n",
              "          google.colab.kernel.accessAllowed ? 'block' : 'none';\n",
              "\n",
              "        async function convertToInteractive(key) {\n",
              "          const element = document.querySelector('#df-de91c35d-b21b-43d5-8934-2b3a6baae91d');\n",
              "          const dataTable =\n",
              "            await google.colab.kernel.invokeFunction('convertToInteractive',\n",
              "                                                     [key], {});\n",
              "          if (!dataTable) return;\n",
              "\n",
              "          const docLinkHtml = 'Like what you see? Visit the ' +\n",
              "            '<a target=\"_blank\" href=https://colab.research.google.com/notebooks/data_table.ipynb>data table notebook</a>'\n",
              "            + ' to learn more about interactive tables.';\n",
              "          element.innerHTML = '';\n",
              "          dataTable['output_type'] = 'display_data';\n",
              "          await google.colab.output.renderOutput(dataTable, element);\n",
              "          const docLink = document.createElement('div');\n",
              "          docLink.innerHTML = docLinkHtml;\n",
              "          element.appendChild(docLink);\n",
              "        }\n",
              "      </script>\n",
              "    </div>\n",
              "  </div>\n",
              "  "
            ]
          },
          "metadata": {},
          "execution_count": 51
        }
      ]
    },
    {
      "cell_type": "markdown",
      "source": [
        "- antecedents คือ สิ่งที่เป็นก่อนหน้า (antecedent) ใน association rule นั้นๆ ซึ่งอาจเป็นสินค้าหรือคุณลักษณะที่ต้องการตรวจสอบว่าเมื่อมีการเลือกหนึ่งสิ่งนั้น สิ่งอื่นๆ จะเกิดขึ้นตามมา\n",
        "- consequents คือ สิ่งที่ตามมา (consequent) ใน association rule นั้นๆ ซึ่งอาจเป็นสินค้าหรือคุณลักษณะที่เกิดขึ้นตามจากสิ่งที่เป็นก่อนหน้านั้น\n",
        "- antecedent support คือ ความน่าจะเป็นของข้อมูลในชุดข้อมูลทั้งหมดที่มีคุณลักษณะตรงกับ antecedents\n",
        "- consequent support คือ ความน่าจะเป็นของข้อมูลในชุดข้อมูลทั้งหมดที่มีคุณลักษณะตรงกับ consequents\n",
        "- support คือ ความน่าจะเป็นของข้อมูลในชุดข้อมูลทั้งหมดที่มีคุณลักษณะตรงกับ antecedents และ consequents พร้อมกัน\n",
        "- confidence คือ ความน่าจะเป็นที่ consequents จะเกิดขึ้น โดยที่ antecedents เป็นจริง คือค่าเฉพาะกัน (support) ของ antecedents และ consequents ที่เกิดขึ้นพร้อมกัน (support) หารด้วยค่า support ของ antecedents\n",
        "\n",
        "- จะเห็นได้ว่าโอกาสที่ลูกค้าที่มี total_call_all_day อยู่ในช่วง 501-900 จะเป็นลูกค้าที่ยกเลิกบริการ (Churn_1) คือประมาณ 18.40%\n",
        "- จะเห็นได้ว่าโอกาสที่ลูกค้าที่มี total_call_all_day อยู่ในช่วง 501-900 จะเป็นลูกค้าที่ใช้บริการต่อ (Churn_0) Churn_0 คือประมาณ 81.60% "
      ],
      "metadata": {
        "id": "t2aRwV8Yl-GA"
      }
    },
    {
      "cell_type": "markdown",
      "source": [
        "##Clustering K-mean"
      ],
      "metadata": {
        "id": "OSdDz-u_DEd_"
      }
    },
    {
      "cell_type": "code",
      "source": [
        "from sklearn.cluster import KMeans\n",
        "import numpy as np\n",
        "import matplotlib.pyplot as plt\n"
      ],
      "metadata": {
        "id": "V6NdpI6yFHsQ"
      },
      "execution_count": 52,
      "outputs": []
    },
    {
      "cell_type": "markdown",
      "source": [
        "###Prep\n"
      ],
      "metadata": {
        "id": "_1fKcdyyy5Q5"
      }
    },
    {
      "cell_type": "code",
      "source": [
        "from sklearn.preprocessing import LabelEncoder\n",
        "from sklearn.preprocessing import StandardScaler"
      ],
      "metadata": {
        "id": "yLqa_RGDzTiD"
      },
      "execution_count": 53,
      "outputs": []
    },
    {
      "cell_type": "code",
      "source": [
        "col_to_drop = ['State', 'Area code', 'Total day charge', 'Total eve charge', \n",
        "               'Total night charge', 'Total intl charge']"
      ],
      "metadata": {
        "id": "MY8uGXZ0y6QB"
      },
      "execution_count": 54,
      "outputs": []
    },
    {
      "cell_type": "code",
      "source": [
        "data_telcom = data1_train.drop(columns = col_to_drop, axis = 1)\n",
        "data_telcom_test = data2_test.drop(columns = col_to_drop, axis = 1)\n"
      ],
      "metadata": {
        "id": "pRUZG0nsy9EI"
      },
      "execution_count": 55,
      "outputs": []
    },
    {
      "cell_type": "code",
      "source": [
        "target_col = [\"Churn\"]"
      ],
      "metadata": {
        "id": "qVT5cwAXzIW0"
      },
      "execution_count": 56,
      "outputs": []
    },
    {
      "cell_type": "code",
      "source": [
        "#number of levels in feature to be a categorical feature\n",
        "nlevels = 6\n",
        "\n",
        "#Separating categorical and numerical columns\n",
        "#categorical columns\n",
        "cat_cols = list(set(data_telcom.nunique()[data_telcom.nunique()<nlevels].keys().tolist() \n",
        "                    + data_telcom.select_dtypes(include='object').columns.tolist()))\n",
        "cat_cols = [x for x in cat_cols if x not in target_col]\n",
        "#numerical columns\n",
        "num_cols = [x for x in data_telcom.columns if x not in cat_cols + target_col]\n",
        "#Binary columns with 2 values\n",
        "bin_cols = data_telcom.nunique()[data_telcom.nunique() == 2].keys().tolist()\n",
        "#Columns more than 2 values\n",
        "multi_cols = [i for i in cat_cols if i not in bin_cols]\n",
        "\n",
        "#Label encoding Binary columns\n",
        "le = LabelEncoder()\n",
        "for i in bin_cols:\n",
        "    data_telcom[i] = le.fit_transform(data_telcom[i])\n",
        "    data_telcom_test[i] = le.transform(data_telcom_test[i])\n",
        "\n",
        "#combining the train and test datasets\n",
        "trainsize = data_telcom.shape[0]\n",
        "comb = pd.concat((data_telcom, data_telcom_test), sort=False)\n",
        "\n",
        "#Duplicating columns for multi value columns\n",
        "comb = pd.get_dummies(data = comb, columns = multi_cols)\n",
        "\n",
        "#Separating the train and test datasets\n",
        "data_telcom = comb[:trainsize]\n",
        "data_telcom_test = comb[trainsize:]\n",
        "\n",
        "#Scaling Numerical columns\n",
        "std = StandardScaler()\n",
        "scaled = std.fit_transform(data_telcom[num_cols])\n",
        "scaled = pd.DataFrame(scaled, columns=num_cols)\n",
        "\n",
        "scaled_test = std.transform(data_telcom_test[num_cols])\n",
        "scaled_test = pd.DataFrame(scaled_test, columns=num_cols)\n",
        "\n",
        "#dropping original values merging scaled values for numerical columns\n",
        "df_telcom_og = data_telcom.copy()\n",
        "data_telcom = data_telcom.drop(columns = num_cols, axis = 1)\n",
        "data_telcom = data_telcom.merge(scaled, left_index=True, right_index=True, how = \"left\")\n",
        "\n",
        "df_telcom_test_og = data_telcom_test.copy()\n",
        "data_telcom_test = data_telcom_test.drop(columns = num_cols, axis = 1)\n",
        "data_telcom_test = data_telcom_test.merge(scaled_test, left_index=True, right_index=True, how = \"left\")"
      ],
      "metadata": {
        "id": "aZvlz20lzNsi"
      },
      "execution_count": 57,
      "outputs": []
    },
    {
      "cell_type": "code",
      "source": [
        "def pca_scatter(pcadf, targetfeature, targetlabel, color):\n",
        "    tracer = go.Scatter(x = pcadf[pcadf[targetfeature]==targetlabel][\"PC1\"],\n",
        "                        y = pcadf[pcadf[targetfeature]==targetlabel][\"PC2\"],\n",
        "                        name = targetlabel, mode = \"markers\",\n",
        "                        marker = dict(color = color, line = dict(width = .5), symbol = \"diamond-open\"),\n",
        "                       )\n",
        "    return tracer"
      ],
      "metadata": {
        "id": "23mJTRapxnpF"
      },
      "execution_count": 58,
      "outputs": []
    },
    {
      "cell_type": "code",
      "source": [
        "from sklearn.decomposition import PCA\n",
        "pca = PCA(n_components = 2)\n",
        "\n",
        "X = data_telcom[[i for i in data_telcom.columns if i not in target_col]]\n",
        "Y = data_telcom[target_col]\n",
        "\n",
        "principal_components = pca.fit_transform(X)\n",
        "pca_data = pd.DataFrame(principal_components, columns = [\"PC1\", \"PC2\"])\n",
        "pca_data = pca_data.merge(Y, left_index=True, right_index=True, how=\"left\")\n",
        "pca_data[\"Churn\"] = pca_data[\"Churn\"].replace({1: \"Churn\", 0: \"Not churn\"})\n",
        "\n",
        "layout = go.Layout(dict(title = \"Visualizing data with PCA\",\n",
        "                        plot_bgcolor = \"rgb(243,243,243)\",\n",
        "                        paper_bgcolor = \"rgb(243,243,243)\",\n",
        "                        xaxis = dict(gridcolor = 'rgb(255, 255, 255)',\n",
        "                                     title = \"first principal component (PC1)\",\n",
        "                                     zerolinewidth=1, ticklen=5, gridwidth=2),\n",
        "                        yaxis = dict(gridcolor = 'rgb(255, 255, 255)',\n",
        "                                     title = \"second principal component (PC2)\",\n",
        "                                     zerolinewidth=1, ticklen=5, gridwidth=2),\n",
        "                        height = 400\n",
        "                       )\n",
        "                  )\n",
        "trace1 = pca_scatter(pca_data, 'Churn', 'Churn', 'red')\n",
        "trace2 = pca_scatter(pca_data, 'Churn', 'Not churn', 'royalblue')\n",
        "data = [trace2, trace1]\n",
        "fig = go.Figure(data=data, layout=layout)\n",
        "py.iplot(fig)"
      ],
      "metadata": {
        "id": "d8POOymxxxUh",
        "colab": {
          "base_uri": "https://localhost:8080/",
          "height": 417
        },
        "outputId": "34eebf7e-cb9c-45b0-a468-936d72314ecd"
      },
      "execution_count": 59,
      "outputs": [
        {
          "output_type": "display_data",
          "data": {
            "text/html": [
              "<html>\n",
              "<head><meta charset=\"utf-8\" /></head>\n",
              "<body>\n",
              "    <div>            <script src=\"https://cdnjs.cloudflare.com/ajax/libs/mathjax/2.7.5/MathJax.js?config=TeX-AMS-MML_SVG\"></script><script type=\"text/javascript\">if (window.MathJax && window.MathJax.Hub && window.MathJax.Hub.Config) {window.MathJax.Hub.Config({SVG: {font: \"STIX-Web\"}});}</script>                <script type=\"text/javascript\">window.PlotlyConfig = {MathJaxConfig: 'local'};</script>\n",
              "        <script src=\"https://cdn.plot.ly/plotly-2.18.2.min.js\"></script>                <div id=\"240435ac-c0e0-48e8-b7fa-c153a0609a18\" class=\"plotly-graph-div\" style=\"height:400px; width:100%;\"></div>            <script type=\"text/javascript\">                                    window.PLOTLYENV=window.PLOTLYENV || {};                                    if (document.getElementById(\"240435ac-c0e0-48e8-b7fa-c153a0609a18\")) {                    Plotly.newPlot(                        \"240435ac-c0e0-48e8-b7fa-c153a0609a18\",                        [{\"marker\":{\"color\":\"royalblue\",\"line\":{\"width\":0.5},\"symbol\":\"diamond-open\"},\"mode\":\"markers\",\"name\":\"Not churn\",\"x\":[1.450697264827788,1.2764409248920228,-0.47483948985801633,-0.42634426470990583,-0.8792815014467281,-0.09532162842283476,1.8174881143926216,-0.5533913498127382,2.5908212261747465,-0.4858387258924274,-0.959236360341808,-0.6553726042560695,-0.6855963352940788,1.451654541896732,-0.7119611804330744,2.1330254654449963,-0.8109722791065728,-0.40045786022692564,0.07084791805935113,-0.6984372305885089,-0.6796373936468818,2.495041307940998,-1.0948431173286775,-0.1719590510316954,-0.7791222152969296,-0.41601615549622445,-0.8771755284470512,1.6066110094054635,2.1028513951357892,-0.426579537424273,1.854057744288497,-0.23719090358263276,-0.9631332565301987,-0.6800662423446465,-1.0807402712790477,-0.5246664416227895,1.5590948992769165,-0.7278221184945337,0.9434211420421644,-0.616267593162074,-0.20372528156112132,-0.7811284282911125,-0.4954294417869692,-0.790810742501853,-0.30627501352883185,-0.8996259030325341,2.0801235120074058,1.004412400766186,-0.6654801904826799,2.4119400688977435,-0.4114545155813615,-0.1106162086500631,-0.8031401068570521,-0.5486642747552016,2.5739318264590945,-0.6810363932837706,-0.5334636919559473,-0.6065132049152198,-0.9550894095790853,-0.47388956400656007,-0.6706747358504815,0.8211252386336673,1.4794394242829314,-0.7350085754188044,1.831378078657966,-0.7296792344008957,-0.5894639169589603,-0.40731904607177344,-0.6283570502594139,-0.3468192423301628,-0.8360929627219796,1.090723739815418,-0.5471962822805645,-0.9003384247177,-0.6533492943532994,0.7552328992676521,-0.5378476877699029,-0.24707883475270373,-0.88922664396887,-0.9572839668305781,-0.528901090553509,-0.6476502549073573,1.7273417712793635,-0.20996331591652764,1.380252950200862,-0.7923126196186933,-1.002923398933087,-0.8408324097054379,-0.39358963500680916,-0.9109613617365371,1.89226481564396,-0.8331377207557713,-0.35091245912166885,-1.182230150041654,-0.2884390414959563,-0.9380683939544081,0.9882952478269696,-0.6712923601701977,2.0020392930528934,0.943838958364657,-0.6179719708594485,2.647198059331374,1.5953686486072591,-0.36035020214566116,-0.728739303169034,-0.26416106260540423,2.4737957526640684,-0.5336815084259782,0.28794914421424866,-1.1071330990125472,-0.33473452811325843,1.2102498592976605,1.2547805592245909,-0.5147721812925977,-0.23925144715230792,2.076257374034311,-1.1437765523168344,-0.8699866194306355,1.8802739769127481,1.7567289205818155,-0.5768641406102946,2.0087129037832163,-0.6647552814322805,-0.3604643154017014,-0.3604430510473594,-0.5322751741851637,-0.4833521532081996,-0.6260220325657306,1.0972609490274563,2.428955413519089,-0.3078709010731825,-0.41433129821248443,0.07220886582458595,-0.7627680901331417,-0.7372187606226834,-0.5072697099701521,-0.5194051535801332,-1.100322519215084,-0.47832431799904424,-0.6489764039400627,1.5424022770269838,1.405659404549436,-0.22347123340806915,-0.7625763803249604,1.0537865981767895,-0.4902532871512049,-0.3764505318594506,-1.0218978605667859,-0.6485623317499669,1.960423932526043,-0.7357146493599209,-0.6833069704132462,-0.6003269771082268,0.0270330169086533,1.0775794485119787,1.7380386012971856,-0.5655058350067161,-0.5467075306312044,-0.5368110224381418,-0.05073658401425162,-0.8171553160442353,1.0566227623820346,-0.5014107921614239,-1.1940273140051612,-0.5889209024915325,1.5653795846655154,1.0263405263477827,2.4231663371250765,-0.7339037439698315,-0.5226649310200654,-0.4655301685877704,2.506841515397503,-0.906226311980869,-0.4791275286984306,-0.6280733236695917,-0.3754658584471175,-0.773513685391792,-0.6318702595045952,1.7586168324392144,-0.5931787239001964,-0.521620831504968,-0.3680212992973882,-0.6544428033131785,-0.8750901036005091,-0.6132696528886463,-0.5536736800710258,1.5532458672353417,-1.2117591226225861,-0.760169998228867,1.9731269647283936,1.7309075066412214,-0.8804098042242681,-0.9270166082354978,-0.475176433187615,-0.83775858845168,2.238729674634739,-0.839940575542294,1.5388741043304344,-0.4057533450431969,1.3277431900695311,-0.654953165494077,1.8491128991734684,1.8513477664370352,-0.8943977537020367,-0.8502287197475461,-0.7453125140190702,-0.5860735015597288,-0.8203743578423963,-0.5434908525069314,0.6732990078257277,-0.4794583261077819,-0.8169475555442107,-0.8257894764219336,-0.5552359408173836,-0.795820867455651,-0.5469884374398153,-0.46669540856464636,-0.623392852599239,-0.6061977592535013,-0.8563226232966206,2.4139883745844544,-0.5908053142303461,-0.6910420118913815,-0.7667616704183929,-1.1086766510533788,1.3803799161195696,1.3545630698360092,1.1910099889335164,-0.44152752462046485,1.603895063867591,-0.6615853376492846,-0.9044475879869018,-0.7064447282870155,1.6426049502726021,2.067464357316514,-0.5981100567079407,0.07481548955581632,-0.6658316120537519,-0.5033657405631657,-0.5997313959250377,0.5665971170126762,-0.4361718057115442,-0.32580269836827985,-0.4084282823323454,0.12889586680214926,2.094153369026723,0.503933416994765,1.85565966666787,-0.3783478109333092,1.743810998471566,-0.26143055197964365,2.1129907018120915,-0.6481422391498021,1.99034431299023,-0.7565748833969267,-0.5184582716534012,-0.980957038743956,1.0479709827282444,2.1763342676730932,1.7305797473087388,2.279740836841751,-0.7300149488568822,-0.7170866399927042,-0.8935355856000687,-0.6051966680790679,-0.6158488082260145,-0.5332998062669894,-0.7694378294356354,-0.6729117353958215,-0.6135780686925831,0.3943394602178405,-0.6595549973021322,-1.1669818409858121,-0.7475048446006495,-0.5970659354161191,1.7216214198178983,-0.7825015985005795,-0.6096088692419996,-0.8246663829161641,-0.6181984824250762,-0.791728016444445,-0.7036255895764115,-0.8031472061296195,-0.6443932192215317,1.2182795320402466,-0.665686511200666,1.521752591491047,-0.6150214439607579,-0.45478500467696287,-0.7716486439564172,-0.36539425497504613,-0.38045077150382645,-0.8032760046799682,-0.6293815989655721,-0.6908390382398771,-0.4921645912824347,-0.6836367200064428,1.8961105193096846,-0.31065664059069303,2.165275311847176,-0.6542846364303563,-0.5316217427467416,2.3317189165841534,-0.8453260884882176,2.7905971647120014,-0.1797927168768058,-0.48039238607680146,-0.6041153007422928,-0.640290319540123,1.8958397692057,1.6874468199562571,-0.36079247571097317,-0.37904068646915284,1.6942051314848905,-0.5900042144075494,1.5456080714959937,-0.45785544624454294,-0.4606214027616913,-0.7714591724442648,-0.3175867793349313,-0.9766500887424681,1.3625057246563863,-0.5939280686053465,1.4549642114455215,-0.7979275953631554,-0.40686699642194046,-0.6693471108909973,1.6132847006506748,-0.6749017818110317,2.471840390313814,-0.7220244295429868,-0.9522369319971744,-1.2877414601409576,-1.0063997217979679,-0.3625002885156237,0.8616005704186249,-0.8286589621965097,-0.7912166190476083,-0.5340529418745754,-0.6481254956202364,-0.15916310731515304,-0.9743057221227841,0.6091490668288386,-0.2958951231625933,-0.6010491601603097,-0.8117420840894324,-0.32169195849082866,-0.5347079831717422,1.8159758067579477,-0.5794478404567646,-0.6106189264336332,1.9638173842643376,1.312672292029383,-0.09416826627388873,-0.7328593079918262,1.781392336404107,1.701407582759452,0.7294054872788078,-0.44612758334019437,-0.4717942000444665,2.0419340770886865,0.22658047327185066,-0.7673439671962315,-0.6400272594581308,-0.8792251556312718,-0.7053133490897393,1.3372296270021078,-1.0292367938065434,-0.9153776137981848,-0.25442894115009856,-1.0209260721338498,-0.20467905529904082,2.106239456610019,-0.9177724632061472,2.354225547211387,1.7884393074476232,-1.0936266223265283,2.3313973732194433,1.1660562207144993,-0.9074469121490115,1.3310579416157968,1.4795040787764897,2.0996524640897127,1.7123378203262456,-0.7379475802634314,-0.4640804122414131,0.973788995326262,-0.2257494055625404,0.9758523251446586,-0.686458617972351,1.5376995707730743,1.8990903896199205,-0.889461411123596,1.697296180104061,-0.6262730450855273,-0.28624920408786897,-0.42113827142144705,-0.6347167604802624,0.8743598287465167,-0.7169025671164263,1.785079847187213,2.2774579533117487,-0.6130735114082755,-0.7811391534418725,1.9310578042464188,1.4149865229197198,1.1843539158753713,-0.42621888573367644,-0.8076009112775928,-0.8259882763127278,-0.15028461730993187,-0.47035971347816835,-0.4265659760177746,-0.9738544919714334,1.7764219516404063,-0.7008389049280244,1.3673652889926329,-0.9492228665035174,-0.5575147890040721,3.3431754936633324,-0.5923963844655518,-0.7323737239889249,-0.6391835468532313,-0.2771504132465468,-0.15797894144960972,-0.888963962600362,-0.5933881096097445,2.125373567035857,2.5802938241408953,-0.6057935925549918,-0.5270052992724791,-0.8490004925516736,-0.6754450383633906,-0.9413639965696838,-0.9984625834549199,-0.7681412361804058,-0.6199465305147898,-0.8680773263284288,1.081633558833517,1.4811927152575353,-0.5745314621840024,1.1938548042547605,1.0432664443949349,1.8306733386554872,-0.7400590671151407,-0.7051046305757461,0.09406483127233976,0.06078049028388683,1.327337037191249,1.3579450352832574,-0.4260119326738061,1.9217145096959871,-0.3716535940555107,-0.4697862483436167,1.1323937042951486,1.7580148262903859,-0.9095707495358926,-0.5156291065733395,-1.0714127019034725,-0.6154204315570186,-1.0063424463993265,-0.626061421490319,1.3631412718139528,-0.8860128149458644,-0.7602092746663078,1.9582537329698888,-0.6769244834356544,-1.0306983821181315,-0.5828652661996976,-0.3674024588879619,-0.44043558222572815,1.9474805213132689,1.7061549810865317,-0.29239156497667357,-0.5620117214399913,-0.7442660654896633,-0.2816226518990992,-0.6034055800603996,0.0009787314503101289,-0.15823206024911265,-0.8617954464752448,-0.5488364312826699,-0.6889623812261014,1.3870530906210703,-0.6708799806956276,-0.6187357250850497,-0.47691062503615356,2.4251906443683975,-0.879247359519788,-0.5585444232127436,-0.7039607061753252,-1.3321256988246313,1.1591844284704897,1.6753470921893425,-0.4498299210004098,-0.6891943015062865,-0.5583201799348662,2.0958592225580817,-0.5178537827811357,-0.33831082941049007,2.140584924766625,-0.8012306478618982,-0.6918938230724476,-0.65808007716804,-0.4251789841601823,2.1432733610130734,1.1273453216889908,-0.9679280081611527,-0.80042890384368,-0.15688856364634549,1.26293010072623,-0.7749016142179199,0.4804063350829379,-0.6863470809686067,-0.5397624707221118,1.7721228942787146,-0.7206681534796033,-0.6644748412733193,-0.2975430225257685,1.6206627415526367,1.5766227938970956,0.9985790359787665,-0.6059044371737282,-0.5793457331513489,0.03783675284311375,-0.7487102312309566,1.1190340571912458,-0.5139936997169204,-0.7162011256049642,-0.008487310627859934,1.7782433196683518,-0.5021651853570578,1.1506131889168856,-0.7538480232338607,-0.6408419106927777,-0.5460231645313105,-0.3173495117331482,-0.5706484480383667,1.1804069585498047,1.2252002984651207,0.7797261883379424,-0.4179504286452625,-0.5663502937493178,-1.3224350066913944,-0.6371459069623733,-0.5198157861139122,-0.9836396226560602,-1.1155424752499137,-0.7980968718688711,-0.6834875733680881,-0.35558358394216233,1.7852844930235214,1.3681250009660244,1.3340980432320124,1.62387651232125,-0.35809343750596523,-0.23278554845158306,-0.5732792234703733,-0.26400982777081783,-0.4274014974338622,-0.5001509620056394,1.603459286638468,0.8690162806830678,0.8064215798240656,-0.20418652455781305,-1.0660730039661714,-0.359407778271214,-0.3354927923890649,-0.8257504576386897,-0.8670406426925897,0.44000867806747385,-1.0009450268115487,-0.7632092850545731,1.2291587108466582,-0.7908389724245452,-0.45295126907387095,-0.2876031976392807,-0.8372400064942216,-0.682243143086608,-0.7225456515178943,-1.356967913552415,-0.8926288767554168,2.124401169970979,2.5205900558137917,2.318218054622635,1.042128124861047,-0.7468800867765493,-1.1971579889811872,-0.08601658981143749,-0.44706249398094483,0.9723892800827935,0.042268818666378355,-0.6395958141585576,-0.448721178840899,-0.6818053600768782,-0.6081580153645182,-0.22947913821808313,-0.61093674989442,2.3181873337611716,-0.6925230251199426,-0.8274394690863083,0.1488955246118189,-0.8791296221099905,-0.5226893089835677,1.6425394895686352,-0.645451705285221,-0.0037143894466775914,-0.7392560814951938,2.4730705947913583,-0.8777531010406613,-1.1345900416360006,0.6566680393383122,-0.5321044815819879,-0.09768436303815659,-0.5798511768745898,-0.5266839308514359,-0.4661721887827092,-0.3526988306101297,0.12194543048145373,-0.4530972584960123,1.6221840350139054,1.5936853677011262,-0.3741628217032743,-0.6046671753120633,-0.6257836893435744,-0.5245652011919639,-0.8432883262739249,-0.7159513054833269,2.3947255085363697,-0.9426282580552459,1.6582535415887876,-0.8556926556773452,-0.045880077109174335,0.7126683792285157,-1.251331837659322,1.4271073482650765,2.11851274902511,-0.950068792792398,1.631458732555951,-1.016522010933844,-0.5343534155580756,-0.7066716123813218,-0.26847385906015847,-0.6626159356647092,-1.0670230686791198,0.051394261102250934,-0.55130578633,-1.3118890203298479,-0.6786666153971921,1.400272957285508,0.8808222227082142,-0.37141267893609625,-0.4494473242168996,-0.32545083279219816,-0.88545301170125,-0.8389509784817001,2.3023340625156226,-1.026869968660521,-0.6815190510429319,-0.5618495031464845,-0.49261455968710927,-0.7596858865665571,-0.6016041400756982,-0.6218287293933175,-0.6519079809551712,-0.8626282467959097,-0.6913842949318578,0.4235698378678871,1.2051203343824222,-0.7549154043913623,-1.0097052449167456,-0.13843286614568504,1.6217247692430725,1.659442113446063,-0.5599392855520225,-0.5125431639688371,-0.32786726332925653,-1.0110595461485554,-0.6423514715819928,-0.7828070901071036,1.487361982148316,-0.7212487369524038,-0.34980873779202565,1.2460315793037027,2.65905891333777,-0.4200153383264346,-0.7554249820167561,0.988184381458461,-1.0152327493535522,-0.6033963283422491,1.954390499796257,1.3180459167610914,-0.8193489286878589,1.9604811359849987,-0.6057922231467322,-0.6232225545204245,-0.4333714176111414,-0.6499697834855523,-0.7406192778280984,1.6359722529140128,1.529155759999747,-0.3436749892735209,-0.5562098359048806,2.257255660914642,-0.9080160675204323,-0.5714764284395776,-0.8868552793643389,-0.8955446642203807,-0.5165612463262002,-0.7582816696021,-0.6509395395330415,1.938979447100374,-0.5934485362281247,-0.4228982343015534,-0.46205344836350765,1.4109998514032223,-0.5025188981332502,-0.5327465530931315,-0.49944175935948754,-0.4791483229132084,1.518374308776547,-0.5568991216323043,-0.926824549488111,-0.6616244271226928,2.546293608676872,1.33198734077088,-0.6217821131263456,-0.4332668910222561,-0.3509802282684812,-0.3256200920380414,-0.27328838784833465,1.2409348354155034,-0.48606810477240775,-0.5116359229048965,-0.8569529092304321,-0.8584064655286788,1.8480818888793322,-0.39396412256331825,-0.3984248838692092,-0.8709772535285528,1.1824474088081998,-1.0009698138069756,1.26968901044379,1.9737233136517658,1.5288353025407533,-0.5405637521203674,-0.3401103209730986,-0.5410222128304993,-0.297594357560537,1.2777189963155988,-0.6380523729622646,-0.15266367497971495,-0.6493661218979903,-0.563589074539977,0.9889201610316986,-0.6240982046908082,-0.4607982240003242,-0.4822928090800765,-0.43445229925657786,2.2644858371990533,-0.5460992920365201,-0.7016482703048407,-0.6601900337092069,-0.05126216601607463,-0.9943323922682391,-0.6573444103578585,1.7413083578327193,-0.47898617425850376,-0.6672968303243945,2.2191304702427095,-0.6166998497070011,-0.21198183741737972,-0.798141513089071,-0.9533134421257942,-0.3588693246444366,-0.8955717098394077,-0.32532739423255264,0.9372774624550431,-1.056959412292825,-0.5746513442326047,1.1388096589148082,-0.6024690625202332,0.8021371695132439,1.997937981797857,-1.1264431298963011,1.5572671506602573,1.9467088549637692,-0.4392794659728797,1.907593073357541,2.007698858033107,-0.5607647693486983,-0.6548143208224674,2.4079606644297975,-0.44448798787577626,-0.7155742998489745,1.8639293296552266,1.2796227644055576,-0.4898765429017375,-0.5979795240713628,1.6157476809958586,-0.4534858842204557,-0.6705675040280392,-0.3697701088442003,1.4826511616901774,-0.40465083545152025,-0.9209503520628771,1.9637720559037148,1.581041352300599,2.064212311605539,-1.0153989154443794,-0.9704952951629078,-0.38736990585906234,-0.645922122385387,-0.5019989536305456,2.4322690747009177,1.7296994686941516,-0.918800237848053,-0.9604832254917576,1.890521903165709,2.0068666577416256,-0.2933441710891045,2.4892467623171624,1.4724731221070408,-0.8006531819676833,-0.4829470223383131,0.7242453070786474,1.9515751347964483,1.6185265652669645,-0.4204437032945833,-0.7022759265029431,-0.8076594039384808,-0.43407888203263617,-0.5913439361285114,-0.8585588830469723,1.2185232020817374,2.2106477491057994,1.8667881348483506,2.1742617939623625,2.472986388434443,-0.5583703149095502,-0.724804679616533,-0.33193379844864546,-0.6591279886765873,-0.30771834772928747,-0.5753695281736761,-0.7327485700689873,1.5861734701003753,-0.33414156953633206,-0.7438032798525578,-0.6966512329909306,-0.36049967438359326,-0.6369716296976428,1.963743306896661,2.03423973351326,-0.8600151351479521,-0.42457615689038614,-0.7315930117344843,-0.533221183735643,1.2648312060894338,-0.8354201923314707,-0.2634990650985392,2.286061148501578,-0.5870997395417092,-1.0260494917291951,-0.5786319937267795,-0.35257282402129775,-0.7915228223606383,-0.48017862170388237,-0.684071935862942,-0.6578643235502681,-0.4038531761778982,-0.49274268742577704,-0.7588544017456594,2.5065300905580794,-0.6277739211480072,-0.3432421893021723,-0.29305326762714884,2.6051619768316607,-1.1960210418021648,-0.3247442083655179,1.0788974010241161,1.4682330960072734,-0.847475004403658,-0.6331633096490059,-0.6950734423050252,-1.132796854446571,2.4467322645950222,0.5949945329044608,-0.9364184442385828,-0.16993719100071017,-0.551255375294949,-0.32918166675742405,1.6720957117404265,-0.20108567275187192,-0.4067274879214013,-0.3192647685719822,1.771599614521829,1.5338340742810652,-1.0211651137828344,-1.348178762438563,-0.6842635663080179,-0.9399329339865524,-1.0811094151412388,-0.5010973918047666,-0.925414428158072,-0.7641620974499491,-0.7930122383244693,-0.8251800894593806,-1.0868799640347144,-0.6286801590457068,2.0867816995905577,-0.6659427895026904,-0.7935464105473843,1.7102730201408813,-0.18104303891432735,0.03820123745480087,-0.7757343865548122,-0.3573184822926936,-0.7907608677209657,1.238804843247568,-0.8787835304934543,1.581120917060213,-0.6158085315459272,-0.5495464546771549,-0.8813005789167283,1.5373868078378923,-0.4166061903696493,-0.4912174487314245,-0.6329246299945259,0.9363163415254999,-0.6867223425296173,0.743775986331818,-0.6256368059998942,-0.8510620001581022,2.6124398934959228,-0.8034371623155401,-0.6965948401440403,-0.587900533406902,-1.2635408925110283,1.6284154321025541,-0.7952215110095316,-1.0795482143847797,-0.5561460806257844,-0.9512050087397216,-0.6049257772955134,2.086842145592969,3.1071634530471566,2.017885656423171,2.6973234449874672,-1.0083048486999786,2.517082478275425,0.9946946386419359,-1.2277382940255563,-0.6806747430795848,2.2302882091108573,-0.9243732899739524,-0.9060800209266257,-0.4413147677658783,-0.7453915033396254,1.5211811233604466,-0.547121642474809,1.128863644680651,-0.724894182588528,0.860077404098445,-1.1037608888705654,-1.0121114899910053,-0.4212945918723776,-1.0118848069600264,1.6071580693968905,-0.37990775111601477,1.9384603598329597,-0.6740906976020965,-0.3866867187402091,1.4692862273299794,-0.6474670841199185,-0.6578735247879007,-0.7054190657159015,2.4524469844718726,-0.3824396810162805,1.7143025592783663,1.8017319191773857,1.3960242073530225,-0.4072273121075921,-0.6027379141050272,-0.4774975997065983,2.389472664647336,2.1950975503248737,2.0465473864757886,1.6938246478955294,2.0998938212473175,-0.38003166374882813,-0.4510245446540615,-0.2545630187695038,2.993132286939759,-0.3134093524668084,-0.8791586178097794,0.3227912156585719,-0.5507719246631665,-0.9270803377065716,-0.7677843832601761,-0.34646362804679776,1.7194913387822532,-1.1405064153501345,2.257318448401077,-0.3149643079026368,1.747505689291713,-0.7145038351106854,-0.607525945360159,-0.2588002883666342,-1.1745155692415157,-0.5748675858149636,-0.48135731950349525,-0.5834716577748819,-0.619610152708364,-1.0703237741305038,-0.8297520042963263,1.5485551885418123,1.5159115296269356,2.3173648668964986,-0.26653368566972935,-0.4607809418142951,-0.7649375437368255,-1.028942954857935,-0.39569342596027957,0.8071739873670555,-0.595768257836496,2.2097862755689532,-0.6824870159572053,-0.5579831989060652,-0.6687768593028598,-0.8176494976646703,2.666089372785311,-0.5361226536512923,-1.0733561911355596,-0.485442157173141,-0.6748626853250064,-0.4576212205753928,-0.12943892554343683,2.0369296827899808,-0.5451457547014326,-0.4196704528874005,-1.1550328038582032,-0.2630691138641935,0.8868128090911102,-0.5333864533368964,-0.5844192666498,-0.23857606277124535,-0.47395345632780217,2.19603313599503,-0.4519475163413061,-0.15341453781376477,0.6578036346121706,-0.6827043977959122,-0.5361853601052279,-0.8248978093060376,-0.5974418239118523,-0.6314405845535449,1.9914595773070365,-1.0169244253710792,-0.5703887418291251,-0.9348967207995443,-0.7703537200407592,1.6449910945573911,-0.5579290198603992,-0.5022077785824144,-0.5990376307546543,-0.42906838362384675,-0.8266540271352246,2.011438824615773,-0.33915921973273977,-0.8988431406319679,1.9339197931910292,-0.9066592831568442,-0.37531624116430107,-0.2576111754602033,-1.1262770893912737,-0.31352132467254223,-0.2580053165161967,1.1761045207551217,1.784530303102071,1.7240338686080217,-0.5274496647248327,-0.5823128429054457,2.3857197303647673,-0.6383382076592349,2.712865754681514,0.0496940642128451,1.259044161507986,1.8508395493529453,-0.9279036605847967,-0.7727486890955695,-0.286379109151606,0.21961946464587717,2.5516423338484797,2.0226330911788426,-0.838050396273959,-0.17378808902555892,-0.7728531485067646,1.9141558223361372,2.048263207472965,2.5004366020809266,-0.9076746935136591,1.5484960345713394,-0.8565608330705022,-0.9438246547966535,-0.7707034861127465,-0.8432130611379309,-0.42943519845105826,2.5796392795308503,1.3466473407707986,-0.7138708877754292,1.6437678380605951,2.63647047541284,1.6501620771111043,-0.4115678243838957,1.5266621537952625,-0.4763164563010224,-0.7086616946246899,0.7310768473229504,-0.7232305715050922,-0.8359060844993257,-0.9134140701885706,-0.613094020828332,-0.6205522056342708,2.083026746156157,0.5184817097742859,-0.14272138797975767,-0.5624125585605075,-0.627705530117198,2.5598049645190946,-0.6952826373105587,-0.4618720863564975,-0.5497583095117365,-1.0247069632430494,-0.5415905113103934,-0.39233908301116144,-0.6189462156824954,-0.5482541024313315,1.9474986637101337,-0.6402121462233817,-1.0135569374164137,-0.7638631195386606,-0.5285479588316928,-1.105249832012494,-0.7968456741204106,-0.19858869803517162,2.0407083149759573,1.456662040934699,0.19152649901690905,-0.9887694026948917,1.5667498208898052,-0.4548939955385431,-0.7328930570183283,2.144528692559787,-0.8428487979548749,2.2500598732720825,1.6940216369092997,1.3974688419543273,-0.5458778694695823,-0.377488781361279,2.724188220454701,1.1185995395338018,-0.7524275853767577,-0.8121206281498049,-0.7140067934550498,-0.6727785862027245,-0.3902843346765332,-0.40100737862222113,-0.4934073820203125,1.8977289920303217,-1.0662407060222465,-0.9857569076323525,-1.0775438160781354,-1.0482494832025009,2.058077446339933,1.0621861569854216,-0.5309744185561661,-0.4611557062821835,-0.8486936965804703,-0.498350088567845,-1.0741289001514756,1.5944898670180778,1.5424375441605302,-0.45226238711813005,1.0898047845766192,-0.8635575730780424,-0.6767901607174436,-1.0521688259483826,1.157063866867603,-0.7721291638937339,-0.9427157861787983,-0.6427842460635765,-0.9998118343291541,-0.48001801728161986,-1.0529493795852338,0.846343592331363,1.5946357264064717,-0.8603651386646413,2.4205689106015003,-0.30722854562550256,-0.5618550321141197,-0.8113780908763059,1.5390605443317282,1.907845066735727,-1.1070663322801149,-0.22159871462912464,-0.46923916295043766,1.893037145831479,-0.9753862161772882,-0.8335910408675732,-0.7208223314797224,0.6293133835667991,2.2440489166241164,-0.6091841684807463,-0.2255686895056288,2.487133418243265,-0.43727442613257467,1.7616051361950826,-0.593373962687853,2.417921375425465,0.4583297687086608,-0.8335556978562064,-0.5347169179555394,-0.3164758342284004,2.4707163646455452,-0.5833459359625098,1.7051933675801192,2.44070559735683,-0.7087234214432311,1.6487329848162717,1.6362292268756036,1.7144703834340824,1.99017920235123,-0.7857590310218184,-0.4459104530677033,-0.3212398568241009,1.7487284787172355,-0.6532903630874538,3.3280505459892358,-0.3457996602502241,-0.3091424174989046,-0.5474098227785557,2.2069687494939836,-0.48607936930781653,-0.2605726719587356,-0.3954798301565124,-0.7426243292240567,-0.08296941663441994,-0.8989367220025773,-0.4404102461874565,-0.3265487227679186,-0.4098742982680903,-0.6655875347885909,-0.704099088612352,-0.946381025065172,-0.831496731165117,2.7901254181152244,1.2444712158736624,-0.7953557730547208,-0.6140341613852227,-0.9118199822890879,1.7917075284621877,-0.2077139798752952,2.154537492515485,-0.011983372846570712,-0.42225495706481614,2.1041032340397616,1.052471651891633,2.0883231964632794,-0.7272369987921943,0.8357249051457265,-1.087070742011461,2.488057508375459,2.5637908621252965,-1.1716219852628196,1.0800296195624917,-0.2140593156446336,-0.680763568595363,-1.0849204724133044,-0.3965786240614616,-0.06806440543629576,-0.4182015834377235,-0.04779991085513161,-0.6091339584460542,-0.34160459562051976,1.1777802457727191,-1.0654256951014738,-0.15852009427259928,-0.25998354245887034,-0.9305860370697235,-0.7072118223768142,-0.5275789400308277,-0.6499328789724561,-0.48082296145071574,-0.41288684159403727,1.790039333976204,0.6990929549832988,-0.36547347325768426,-1.0175910844034723,-0.5070281368880475,-1.1262951019979472,-0.8720571419960804,2.1068353186413034,-0.7378061867594847,-0.2807782470507153,-0.8337404897550792,2.002220032362387,1.483156164367368,2.2049719275812243,-0.7413274836044828,-0.5996025508376323,-0.6866239652748585,1.1156772759075573,-0.03960231849957731,-0.7865247495625555,-0.8897053736348026,-0.3458486750491188,-0.7999261618027015,-0.7185150760556867,-0.4210660874709343,-0.4827205023460438,-0.7402911216582483,-1.3345206836921715,-0.5061023670091177,-0.6230950287639947,-0.8775404410315414,-0.5230809208645357,-1.089446040617722,2.026360412314584,1.6714722109121827,-0.6773176206852823,-0.6573331571537131,-0.7372384244543497,-0.41637771265747875,1.5609975372929215,-0.41235432229473806,-0.43599463111012926,-0.3975842726574459,-0.6283192931113273,-0.2304153679406696,-0.23464292734691475,-0.2525433898989742,1.448019818488798,-0.5593686993603065,-1.460723886936782,1.7047909123556086,-0.4361757250547712,-0.9826690801541107,-0.8694256738053124,-0.6462427952991534,-0.5824132531258237,-0.31376889569973326,0.9836263659050739,-1.2726534107173395,0.7784678412914099,-1.1861328145729788,1.462540828664732,-0.6694582049829713,-0.9507816440186382,-0.4629291896654962,-0.33540054795363095,0.7258321696251586,-1.2602506783766942,-0.5018006920752819,-0.5918474609672768,-0.6405586930953275,-0.7556040043331266,-0.6770482723993797,-0.24144341548318476,-0.5390917182737592,2.2023000281534943,-0.42709449088157936,-0.887596267860297,-1.0056048371797937,-0.7238556728057279,-0.8352173661479019,-0.7705653059579971,-0.31710097717969854,-1.0254358886531951,-0.5518635509142739,1.0962454887297919,-0.3184783718755396,1.8316479942555108,-0.6140329052927846,-0.7501909690818294,-0.4707391771240886,-0.7763911830663794,-0.9019086333149133,-0.5678387906897169,-0.5899405361689196,2.0011250052881664,1.7577568028400248,-0.6535845450581994,1.4224392209420422,-0.5340571504041675,-0.9136872431734945,-0.7578021288308585,-0.5064157788053357,2.3380501922461883,-0.5599891136391476,-0.689152430257406,-0.8317158479915757,-0.7654341734544018,1.081193110006346,0.1290859657060101,2.046815434860263,2.045497978470896,-0.9361004201209521,2.17264707689922,-0.8151553654425859,-0.550087252373756,-0.8768259067779604,1.6337690028273144,1.1855445437607577,-0.5583713385752317,-0.6496262591767078,-0.028591493647619426,-0.6144815575718283,-0.7812604617125373,0.47875732671103816,0.09897327556462625,1.6795469702122263,2.240950318456572,-0.4644231415666746,-0.8595990083756726,-0.7853640501800044,-0.3709463296011019,1.7707818783944584,-0.9939730859258721,-0.9758922571438449,-0.5053111608047193,-0.26521097465628396,-0.9629723545878106,-0.5313232915564733,-0.46764075309821523,1.4624109108527898,-0.5669854285392292,-0.8284460619680496,-0.3334935771364505,-0.2638608657890852,-0.66561598049987,1.360059661448832,-0.7003188583700231,1.2712916769615688,-0.6077431013656225,-0.8258371786482892,-0.6296250248639161,-0.7059222105399195,-0.25192905591442205,2.2300396042414157,-0.68575338710545,-0.37601963242253267,-0.5780874236323029,1.5039414010704735,-0.638715235794486,-0.589252927290863,1.5959097782532783,-0.3765338100789149,-0.6513178632027525,-0.9406866021444847,-0.07233360760847735,-0.6120353091658317,0.6665199076161666,1.226252823240656,-1.1674032367723097,-0.7046447054413496,-0.6040831741941111,-0.7578500171272264,-0.7730997986675497,-1.0148366542950404,-1.3225646419103554,-0.3592054426876803,-0.6019463670366415,1.2053018809132328,1.3837092427569315,0.14658610669915756,1.7210946868785715,-1.1536913335910302,1.935024780869641,-0.662551053445791,-0.6451402444394603,-0.202802209224721,-0.5043640107469772,-0.8426931791572959,-0.881848069059185,1.4369156658962852,-0.9633487545917672,-1.035526639154252,-0.6304083698454848,-0.5164434944261662,2.237962352397549,-0.7218602987220277,1.2455869667116333,-0.8071273577162609,-0.3888787872989254,-0.9185814880329044,-0.7402520135429,-0.6643048496803967,2.383213287809332,0.17117290877709634,-0.7910576018387244,-0.7713242064249786,-0.3471389300787266,-0.7361519709453105,-0.6178906800059524,-0.6210688245161338,-0.5292074800508798,-0.48437874648053275,-0.9440754160788126,-1.014717190574198,-0.5948039679538547,-0.8241380864492579,-0.6158825038351888,1.0861568746039052,-0.6633075595160641,1.8264263296114944,2.1806004816730464,-0.629480537854495,1.8491229778120613,-0.6630422737986532,-1.0123619054542732,1.2375867800800127,-0.624257080102753,1.3360936879549952,2.453226969406344,0.8418255016088496,-0.6044490277366152,-0.07769865677124045,-0.9679129013387524,-1.1131440150909842,-0.698759375698578,-0.6775538632522948,-0.5077170366775787,-0.5281536889727146,-0.7158892152059876,-0.8820640620668082,1.1984651501460684,3.0018660337977674,-0.1897299603907078,-0.7478569518196072,1.436234909543279,0.9582560275422473,-0.4904215641374417,-0.7294183428599968,1.5866740604670222,-1.2980728419305387,-0.938647612954151,-0.643656914181461,-0.8137084949226585,-0.31661200421157853,-0.6577165269449123,1.4087002300012508,-0.7309128695402085,1.7115464661765523,-0.552683883944022,0.5826489774315313,-0.43299557237173486,-0.6799177127642616,-0.31633599631400794,1.2349637454120512,-0.7217668620461432,-0.7908630718537624,-0.5178568153603161,-0.5017342802473818,-0.5597970082139508,-1.2049904592807739,-0.4025035628209264,-0.42694682333240697,-1.0581600249142726,1.20788866083316,-0.6923087906779735,-0.347013570594148,1.924362872178277,1.9308760887726804,1.7221955121292072,1.4213477816538733,2.1941702514939054,-0.7116231634305223,2.2802344350188397,2.300684970178223,1.0029026475521938,2.585980878122501,-0.7730099803269099,-0.8450945407376901,-0.75446011551406,1.4562908908178582,-0.05618193230583206,-0.9835087107159175,-0.8293200211532202,-0.4836107446087454,-0.4393219982039139,1.6241333831241809,2.4508765449640544,-0.9828005147541491,-0.5741526028262119,-0.748732984564679,2.6731065083768164,-0.649095778288334,-0.16452540806374938,-0.6898233759810573,1.7985016071910278,-0.4480241166422174,-0.5513446148607658,-0.3525240522094928,-1.0167133994400785,-0.7070907287321156,1.7476397283524696,-0.5682530240279718,-0.6788313249279179,-1.3987260198231681,2.181903546307462,-0.4758259992880814,-0.8636955907130208,-0.3550759627854547,1.1397412164150469,-0.681033290441613,-0.4261521229752706,1.947574766091633,-0.4056940150768007,-0.8707565691469287,-0.9858851300588696,-0.4160511752233215,2.0506693415427812,-0.6446106167865192,1.8271219059246444,-0.606259165455723,-0.8002998019649691,-0.6964454475233103,-0.7918690151767549,-1.108150319186074,2.3149816497039937,-0.7433871527976649,-0.7985781287735056,-0.6075636444150302,1.2101202219051754,-0.20851493612625338,-0.826534309847467,-0.10609582268324806,-0.5590320383910367,-0.6863788169982046,-0.3797905967108214,-0.8732942895543512,-0.5850982209760847,-0.5481952639075015,-0.6692394761131577,-0.265926532760511,-0.2874606062446288,1.6778548585876414,-0.620809619166584,-1.2427983848265716,-0.6859943211938018,-0.8630288994530393,2.0203969688664696,1.636339531216074,2.615204010057073,-0.5930135454735304,-0.26681277195109476,-0.9949334290258806,-0.8115165593201363,-0.8515400021989262,-0.5339710476495839,-0.5644341209473399,-0.8345431386613006,-0.7216245601761959,-0.79870073023432,1.1244088577461937,-0.20177083765135106,1.6714520824309484,-0.2674351075931846,-0.49112607127423646,1.071765675240991,-0.564161773242878,1.3420900039790493,-0.8568610323394596,-1.101754283674281,-0.8962130195226954,-0.5314186929379462,2.4822214525392416,-0.5885126476290772,-0.7538172046935003,-0.34691028771127425,-0.5609272563336839,0.07874579887375412,-0.4986853092260136,-0.009933413671350597,-0.5906014455244446,-0.6492532356105974,-0.9530055498271542,-0.6246307247736227,-0.700436317277681,0.686571124073457,1.5020554947182394,-0.5513346295402031,-0.9248941693039149,1.2462956599180668,2.3946425345640776,1.5932382033327301,-0.553849136409826,-0.41675046563389023,1.912802534936401,-0.43664182118070544,-0.7735066658629706,-0.23389609479842702,1.6737778737087998,-0.5895260259021663,-0.6081418157116261,-1.0876145207885808,-0.4963212417823913,-0.6670348370769398,2.4399536537289497,-0.6598305686521846,1.3547772116780283,-0.8029184471773108,-0.8952376253711446,-0.28504784843837555,1.3332442706145182,-0.8245349552518214,1.8841215068526422,-0.33078497478937013,-1.0865229294830403,2.6186267443391875,0.9514850702542614,-1.034526585912316,-0.30953340157515036,2.315911232599744,-0.6645373598087716,-0.5105730466708115,-0.6027493895425075,1.7118639108230094,1.1282782524141561,-0.6117200693409961,-0.6689257651588566,-0.3994777380833876,-0.43909543848047494,-0.3838023449924555,-0.7433840740042874,1.7138843254121692,-0.4768318807099695,-0.5965847624065573,2.5669806948562064,-0.3965100483911229,-0.6503567287334205,-0.8182283829306384,-0.7086483715507008,-0.4157285727341364,-0.7546370902724849,1.0937013082566018,-1.1296086556584333,-0.8242696273059915,2.312567466456246,-1.0832925769209654,-0.45530313620696267,0.4119298092870984,-0.2579361571413492,-0.43008399983429857,-0.7104396728323987,-0.682460119874863,-0.5591140463021764,-0.5944320311803001,-0.6443306083154631,-0.4439403948367356,-0.32786768174036346,-0.877037569847877,-0.6770766132669326,-0.44315478597873165,0.9516700555680657,-1.0896287119207708,1.6020580565217977,-1.1897636616273497,-0.5271339592593358,-0.8356779516702828,1.2644167712335588,-0.5779237395950582,-0.6367209507243282,-0.391756575999526,-0.3568726066845184,-0.9686774154576282,-0.7264331658911474,-0.8532293287102715,-0.49426216351935753,-0.7343366471005685,1.5969894312876565,-0.09788099072968459,-0.05591989173337174,-0.769609985048237,-0.24973463004793697,-0.5653566803596823,-0.5151320597879865,2.4544397537509752,-0.6358925013639932,-0.7333334570775502,2.2747590215539635,-0.688407452269719,-0.43822142365286504,-0.7418537904923609,-0.702300982968163,-0.3113773099872935,-0.4747386573199257,-1.1110570443964853,-0.42035642250365524,2.419598558306658,1.7639079687474377,-0.31961888593213117,-0.5398538819266877,-0.6386310214779654,1.8572407772195532,0.9928243027779794,-0.92395672295474,-0.8156013138944624,1.427134529528213,2.171217117193932,-0.927920550792942,-0.4221193900264145,0.03967195765001689,-0.6108895732266282,-0.8979275492079571,1.5939931016008697,2.5303258352486893,0.3879593837958752,-0.4040513455888054,-0.772370662143907,-0.6357869660145675,-0.8818311591856205,0.9503708760815003,1.8119391579434596,-0.6681025523293139,-0.8313297141913701,-0.7939915824853506,1.8910285569602228,1.3354726641103944,2.1304876613125687,1.0740283570704068,-0.7205882749311376,0.9669929243669038,-0.569091579393696,-0.7755985063329377,-0.7048369914955205,-0.19107182200401926,1.5476676861392775,-0.5600236502052179,-0.3563233470005357,-0.7440193947671558,-0.08452693266218171,-1.1607149213249903,-0.37833979876849283,-0.8283733443686456,-0.8298531140066071,1.4998140025487872,1.3463947808922792,-0.8632490417071257,0.4933959894776667,-0.8120687137301248,-0.31893437951445114,-0.1091774299252489,-0.3877443717176657,-0.5131950425168285,1.4813357165079513,-0.8334602977291279,-0.6325207706102414,-0.4016095979402696,-0.9422943344641327,2.498565555659191,-0.4822891543396861,-0.11146889215576762,-0.35792692896313694,-0.4187771155080485,-0.7035684175218788,2.8317160769764516,-0.6094418880694161,-0.5426367152878554,-0.7369737756979591,1.1923330772359395,-0.5226621219225694,-1.0670692599625353,-0.510270412795354,-0.5761802141760267,-1.2370560897894969,1.5260519191918538,-0.5521784508567877,-0.7775099880966801,2.0230574820588614,2.8695361394242362,2.4925355467959753,1.235301669843961,-0.952917776563427,-0.34642593951020967,-0.8284922889128649,1.240296687549357,-0.7980486512690644,-0.8460266960568047,-0.5319875548255255,-0.30087055136009627,-0.6653893381731448,1.7066232065928455,-0.8466995930480491,1.4684698980231445,1.3028480297285707,-0.7178634561999832,-0.6952325363587343,0.5679817459355367,-0.5990448082217344,1.6833100136654988,-0.4752036574055235,-1.045163842155146,-0.39445899557019193,-0.4018750518582468,-1.3807202748337313,1.431338352110345,-0.45307172926427375,-1.1876369854330235,-0.23582797542040604,-0.45764885219590096,0.6935783059387773,1.3915584487293993,-0.6046097375847335,0.12992223873077677,2.295697448440391,-0.9702719633662756,1.9454713136138644,2.2205068258989598,2.150368727256131,-0.4306880271443371,-0.5248255230018256,-0.8396659378856408,-0.6968112702332592,-0.8480683441727864,0.8631786317557906,-0.40226042604167606,-0.19330120179498447,1.3536354410456943,1.1604999619172276,-0.4228392411484177,-0.7174356523909604,1.728769071651566,-1.1324241656223692,-0.52824538279898,-0.8708807337970187,-0.5360450019591658,-0.8142844313019303,-0.9129639452611379,-0.994671555983907,-0.5902867592377212,-0.6575251133313363,-0.2784321079282063,-0.6788045746073008,1.6121015855474417,-0.8422811431529423,-0.8101759454816351,-1.0113139884922127,-0.6956458115990436,1.4739736053099304,-0.6515997198949566,-0.761783373589874,0.9477599327749494,-0.7210182565232138,-0.25048807064850775,-0.17056697494386494,1.7393923605266266,-0.730954558197579,-0.5228614669085074,-0.8070934964039022,-0.30597563415083445,-0.568450968988662,2.270801654981786,-0.8355976950642436,2.544801802596585,1.1941642248449362,-0.8206967938615638,-0.8174170299507664,-0.21424486683132363,1.8869498795160458,-0.5998307576185283,-0.3319443651172287,-0.8307686294681188,-0.9400314181281578,-0.92953316056334,0.7790301590294343,-0.5916094033138211,-0.5247570493483065,-0.5088955783516759,1.9060102967277703,0.78934972861939,1.2409391770837352,-0.5457435639907138,-1.0545079089684652,1.0671891728628908,-0.5830158420631165,-0.8145111233621554,-1.1058165019572046,1.6754257356068896,-0.4072202350518301,-0.8135223739689844,1.3915867401308248,-0.30964029827462275,1.1382200642972222,0.12029770695162044,-0.6029566829737243,2.7794861930073353,-0.7073348955879609,-0.5969800069835465,1.9070256120770572,1.7497309517980282,-0.84389878453759,-0.4992058693191594,-0.6336171974950096,-0.7680702345150948,0.8880061123004477,1.3499257193175747,-0.3939271900974993,-0.7316127116496992,0.6531004746235417,-0.8546524225973101,-0.8513870471476022,-0.3400529609238804,-0.5608870513850791,-0.7167857130890393,-1.012873202641391,-0.9877570251067437,-0.6080627639132621,-0.49874860550680966,-1.095650004517209,-0.825110997646559,1.116719696984101,-0.6781635621843708,-0.7714984171567028,-0.2641613231205049,-0.28835555796021684,-1.0249259966109723,-0.3543922029536853,-0.37085971370163007,2.472032850746335,-0.6394681927562569,1.464923049950644,1.1763374301392406,-0.5236869507705744,-0.6536853449626447,-0.6791600357069751,-0.7186634894943542,1.1072557189500092,-0.3268150563778358,-0.2716528218495007,-0.44012361675873674,1.7295218815348907,-0.5269305702946293,-0.6604121779631162,-0.5766733521797366,-0.3440533418362006,-0.5873265052854786,-0.3741625205126155,-0.7235686198746216,-0.5771894529299336,0.47636955263889164,-0.9231145488639065,1.6590567635398705,-0.787306228105768,1.7917354575131916,1.9037854603785334,-0.2526387207542508,-0.3789365007540188,-0.9911205019462853,-0.7986938755340202,-0.9438842457398684,-0.5812655747950842,-0.5129703639439568,1.9495778435390423,-0.9303998471848344,-0.9036819631460786,-0.36302751815529993,-0.5737475193052629,1.4307851314603326,-0.835113496922007,-0.9209067774664623,1.2441897796569035,2.024964808057148,-0.8542869544346301,1.2303181408576318,1.2885620600175105,1.690653841999299,-0.3994502521546351,2.1459036560207734,-0.7607549167333189,-0.74019710341554,-0.866616315922196,2.8440472424884695,-0.6883733694236006,-0.5235451812398273,1.1147992831594293,-0.6029534449568916,-0.5243658836041692,-0.9175505085297342,-0.6233794079011817,-1.0402679417217038,-0.4450529190269731,-1.0868055365440519,-0.8155970888091024,-0.860176156667467,0.04290417070963624,-0.28735188546008816,-0.7699659659258721,-0.8364707602804707,-0.36937534995821686,1.599502729043361,-0.6876819622519391,-0.3754733150065802,1.9380115535332392,1.0697832345445606,1.7512047410924243,-0.586481381828297,0.844746998852869,1.2591706483660472,2.402344652403333,2.1188997893942334,-0.738201614517219,2.343422796167643,-0.8267983456846465,1.9943740160551857,-1.139315346674321,-0.6093646049542667,-1.1120841186735984,-0.287171649366291,-0.7257559588933157,-0.7220677655880414,-0.43936990764219697,0.03927339657466111,1.5548947868746041,1.3121193003273877,-0.7103878264884196,-0.9569116755394559,-0.8342560409766269,1.5587395687247771,1.9848116481485676,-0.39426350799429033,-0.41655650758937784,-0.03694172032925257,-0.8687978251054882,2.0832720575279886,-0.7902038506389321,0.6163594148469417,1.409652886519809,-0.5719456477071289,1.7003246376110943,-0.042460701833286756,1.779153868213422,1.8503373718992533,-1.1008722785197944,-0.8485938525084397,2.0980420538092917,-0.10087074919827717,1.3590390084722068,-0.37395163593482206,-0.8982875910304812,1.1531173921777855,1.091118600682182,-0.36226219036215057,0.666823240734844,0.8691629874275345,-1.1428261056741476,-0.47333913841700137,-0.9843647007993228,-0.8844082536075286,-1.0790715299753368,-0.5672731575810228,1.9268543406417535,-0.6735029342717381,-1.0528946012023799,-0.7395477022523501,-0.5677999118124849,-0.5806977362017358,-0.8065990592990515,2.6509358563302836,-0.6873333988520667,-0.378240742026771,-0.5711301423289513,1.7328174599467496,-0.18870207048216783,2.597662440595138,-0.6845587924671009,-0.2721782979486016,-0.5410040089124197,-0.21853888307965635,-0.6955311582399389,2.160137387453423,1.8145112274962392,-0.8996912459063833,-0.7052442907697031,-0.9327702248036209,-0.8851855719844914,-0.46050801386245077,-0.3736340215369845,-0.8294186606825278,-0.6912606756280298,2.304927323365183,2.0545952410215693,-0.869075043128275,-0.552926156797019,1.720498547317391,-0.8464494646715022,2.0081065085426637,-0.8073471195787614,-0.1933371235964578,-0.7942468519028649,-0.7410054490537459,2.246143435077837,-0.4993740629077465,-0.43516548401042954,1.9295806619667335,1.4778534215987829,1.9599451911650905,1.2375451657411158,2.1383946961749003,0.8587251149729143,1.4174089466455952,-0.5570225774375085,2.0132789614198354,2.623410227923915,-0.6154492679134291,1.9061968504432512,-0.2845647005802184,1.8919794044964449,-1.331622077161851,-0.6516956827662511,-0.16527051004309345,-0.568813218106903,-0.4126539073303394,-0.49361561861549813,1.7825849435459873,-1.1518339127591768,-0.6788255266842592,-0.6945575310622756,-0.39902536153988016,-0.4612946326857333,-0.5393111285663588,-0.8927298708217807,1.2889210496721795,-0.5093136680552544,-0.3867423568503371,-0.506083930061114,-1.0840247285093991,-0.5246412212918066,-0.3432839538710791,1.040277106431481,-0.5012005526676317,2.7156842143109357,-0.41180164616122067,1.8601657851967701,2.159891636386535,-0.1753710058602692,-0.7547085537332958,-0.6407563517681192,-0.9761064624801689,-0.677971940477197,-0.5072498294265618,1.8227573282174736,-0.612433683197477,-0.6368159554639544,1.1114400971170997,-0.5936873220248283,1.3199912779107277,-1.0855324975331408,-0.5512487497713502,-0.8368944329653184,-0.023075444620106276,-0.43274973215042756,-0.8175842031309053,-0.922008459140852,-0.4038819055475121,0.8169034926460773,2.0621790242659115,-0.3198006507001205,-0.6563806990364225,-0.7800765391379288,-0.7628387688784777,-0.5939111961573175,-0.6613775639155073,2.0683222335216667,-0.5769537455391767,-0.5201241157618941,1.5769241663112983],\"y\":[0.669424050920549,1.1024466617318047,1.8575555209190822,-0.40201836991669243,-0.09393394508366545,-0.4827167498730667,-1.1856492625353696,0.25848596496075305,0.5519440174526395,1.1695534066466997,0.3613034691081944,-0.8780778492104725,-1.7061460584596462,1.3603418123871494,-0.5953730554480365,-1.5774553552603834,0.08798525483009724,0.3265698075786079,3.345968082291064,-1.0645587816517865,0.4539676625704962,-0.21420161556521478,-0.046284689075020306,-1.5773485307320563,0.23056982358676364,0.03443748219120189,3.629607037960869,-1.372476987826631,0.41180572346943034,-1.3079531675771137,0.817184762560173,0.5145645933568873,-1.0904890722761829,-1.7199035185955842,0.05593587244216551,-2.368612353872931,-1.2173456824196458,0.5577164302373152,0.68293999089193,-1.0905249545139881,-2.606822963664511,-0.06916638339577728,-1.702418150878996,-0.9232538305346186,1.6392057071373844,1.7430522742268584,0.43864041590889213,0.8032535881546645,-0.9767982596396483,-2.0138309386783186,-0.10215958624702937,-0.2069990084453181,-0.926684886542736,0.6035049914561016,1.3418344229022825,-0.3571866695087122,0.5966548889145566,-2.4116997981365675,0.636428921391973,-0.3686938155808361,0.21324348366897933,0.21687596922646196,-0.19924056689032574,0.38720789544384004,1.2450805663864681,-1.185377617483002,0.5698936495650874,-0.19973885393426175,-0.6459790452207077,0.6001952474733512,-1.4557044871539069,-0.7016557623476295,0.7292375120100222,0.54329123716628,-1.0883645543119236,0.9997681217163764,0.8982593627749178,-0.19717057765976356,0.4315993099140154,0.3963853021949532,0.8825869704464598,-0.2780477882015283,0.10125297276333045,-0.6646637162137418,-1.2659700901371507,0.2845412065654628,2.3161838242211434,0.838156620976018,-1.5086549754437146,-0.26131516375810737,0.883163726586264,-0.9302176304672825,-0.14022499297568164,-0.8730061978916287,2.0711806699903303,-0.5185460103124052,-2.028430101405636,-0.27602408141487317,1.9303853121242314,0.6843997076955461,-0.07270826340636331,-0.7884583406288099,-0.4249222849514663,-1.157439844004781,1.5026655306708223,-0.037584350950818024,0.962933943545329,1.0476740312624346,-0.5211605244790292,0.10499468690534416,0.8752597362791492,1.124269023890684,0.9064855545682119,-0.378879578957779,1.189290245082798,0.3941583722909516,0.2377777353026763,1.3831053933385977,-0.4366624402188387,1.3308952012965942,0.7858888508298458,1.6626374647738038,0.31756518226146935,0.7328022235275635,0.8644784906166115,-0.5781282959132493,1.0714835840284416,-2.582241623299758,0.5977681831154222,0.38134760036453824,-1.2271536814557558,-0.7337902220707354,2.1080664260001947,0.4104482863092896,0.9920662571391109,-0.7491148099760627,-0.6517323307639975,1.214892858340906,-1.734994809834709,0.11073249681279364,-0.47220003552590695,-0.34365079184655256,0.4604655791277834,-0.8314941491673069,1.32906957277425,-1.9640794571713833,-0.857905382124843,-0.7498375723503704,0.1928123786315334,-1.5491816334520512,-0.746447844750925,-0.24005561822187008,1.1727855649667667,1.585246431593906,0.8740303409878112,1.7382821483637614,-0.39512057620467417,-0.8301342388040008,-1.267266529794966,1.505039037288454,0.7701831120503343,1.5029064746322234,-0.609390286130833,-0.5731472055327713,-1.9226548538530581,-1.1137432051820755,1.0877521606071159,0.01313135612218674,-0.08712956954515537,-1.1484590171599658,0.402801461990661,1.322963055607526,0.47600648566649756,-0.05339273566750036,1.9657978116943224,-1.3086878453688824,-1.988433458304116,-0.6614461389940754,0.298972009366573,-0.3339874830982378,0.26366679310464386,-0.8080179811058935,0.10657699362165524,0.8042245409297768,1.3041698239062862,-0.9951410766209735,-0.024084597937544115,1.6465023560120842,0.3780337697333342,-0.12106694660116223,0.3491003841943717,0.3488052643788606,0.6147430265980265,0.8237884998900474,-0.014657424253339464,-0.8634693152141587,0.4799963918628664,-0.9474710992995085,0.3158052545175012,0.744642697320347,1.1628074633896743,0.16728602029981757,-1.7595990217075288,-0.02768480834022579,1.4405395553017113,0.6964245427897565,1.2556636621375799,0.24823505815789204,-0.4215193899801959,0.2622718626889865,1.7100034796333916,-1.2574534853264823,-0.7997545356236218,0.8819526025918393,-0.6770432142252197,0.4025367325606974,1.047801687880599,1.6137489843429107,-0.051032758488939456,1.6752321989056795,0.8622181642962536,-1.1907512843155363,0.6110097058828259,1.3063944660130673,1.288319955942492,-0.3706051388083901,-1.1755495601335804,0.021300202234268747,-1.5484217765610526,0.207581177224142,0.247258487090305,1.2386700645347457,0.8402424459356368,-0.8036328136931418,0.7994664014517276,0.6231583568934617,1.83211816101027,-0.7327079327425964,-0.22448647080620612,-1.164727023318132,1.3436975989121318,-1.600357312101339,-0.6252040334672054,-0.2698869446648733,0.3188112442042881,1.14185411261681,-2.2581827585832976,0.4280297017701202,1.2867110653127534,0.8978984470002919,2.699797821778775,1.0680703522443573,-0.13058622033467882,-0.07724751348176984,-0.21383232002569266,1.3633003967790622,-0.03505009555191668,-0.4424991256499788,-0.4614217643510168,-0.8581406347580243,-0.26843502525268365,1.1137932291244448,-0.7712236512635235,0.7753183564545674,0.25323028244560125,1.2990080951637302,-0.06843067854931964,-0.8032607524580981,-0.3069801496904814,0.952323647130618,1.32550545786872,0.0764223168135922,1.9370659726248458,0.7820919874507865,-0.2791444848754888,-2.2891902955979457,-0.27734154015240503,0.501862040952381,-2.221134984006804,-0.46755197322855657,-0.016815389555980314,-0.5806887090578898,0.35876015187033855,-0.6990340774956815,1.8459963040621752,0.4855455283980123,-0.2812610287285323,0.5401918214117427,1.3345286136543175,-1.7466471569075623,0.5380627366522107,-1.642632819776711,0.1449738623132919,-0.0767662674448932,-1.4616976588846595,-0.29427258830928843,-0.6683489098513015,0.8410564459875927,-1.2419612410813383,1.4639507658807942,0.27299880244192487,0.43783757453566957,0.3252735530367857,2.7190416379455518,-1.4270744846761432,-2.140862228619494,0.39679701444997273,-0.1339330467768083,-0.073519964548611,0.13955099868920684,-0.6472003307765933,-0.3027474229962996,-0.6149668645180568,2.232583354783637,0.2724496096330037,-1.1349590202370166,1.9208041844388095,0.17594177167367533,0.011910195674491262,-0.6921610690471403,0.029204679156103357,-0.09056757304022152,-0.7062355424501977,-1.9380142722928342,1.529403961239749,0.7917694047385149,-1.7390408027650832,-0.7967972478708872,0.03142673619979968,-0.33495562641822463,0.2575177684698987,-0.20835877685655235,1.1024724237912742,-0.2711958651138263,0.06849536789603347,0.12813240350888497,0.46308783673786696,0.4402835353007549,0.7937992085081959,-0.503144283722401,1.3979041184682395,0.5673833231601842,-0.5276748415232173,-0.5737556416953734,-1.4498432094468567,1.2911700108181365,-1.1311611773830452,1.1962523599301123,0.8394591760829435,-0.5879675152114614,-0.9951619361974516,-0.39386296416781114,1.6718042871372585,1.4684968112403955,-1.004473295715212,-0.5322210686165609,-0.41508689990286046,0.6979540274760064,0.36940706432581927,-0.22482790332985608,-2.370973205190312,2.722224268294095,-2.0127722787240776,-0.2009251096974336,-0.8295279996500265,0.8470839522315307,-0.9361037149355498,-0.3040764362528498,1.7845922457432122,-1.1942342331117288,0.8287639641478244,0.5252479279786701,-1.5234805058932261,-0.5689788849131473,-0.6897520912195259,0.49385610723174134,2.057112660140363,1.4001940289903094,0.6206283845836784,-0.2605225455541904,-0.9090483522924047,-0.41243518599683676,-3.5861119349023345,-0.37749178791324894,0.20046512439212288,-0.904224434043765,0.27389261112065266,-0.9460214957068872,-0.6806851190119996,-0.15005306515275232,-1.630072661186221,-0.5018755771788715,1.0944142261205105,-1.7756610890053408,-1.6386628174170244,-1.3595046518255167,0.4412191000551093,-1.0360089367060903,1.9717557389106464,-1.7470780381813533,-1.836536092345855,0.34683610749153243,0.18461943547663184,0.31360611106619296,-1.7415094694240387,-0.2045441467415758,0.5132471658967245,0.675574418185099,-0.18998888825673718,0.4186426065066943,-0.895539264408134,-0.003841649880619818,-0.43333763569898426,-0.3509215404059288,0.3079694834175346,1.285325185356457,-2.3759429719842524,-0.6607582157930005,0.15168191946457554,-1.31329235544537,-1.6964806142722462,0.4975382917987277,-1.0288237031458805,1.45600029518327,-1.551339900854561,0.19239745749272838,-0.2136835652900659,-1.1860309236914088,-0.8975767952741673,1.5359115151199811,0.41159815965767454,0.33406073406454656,-0.039709104150913006,0.7560216662988304,-0.4432202855987039,0.22142209872883833,1.5395034580624336,0.31395454478654644,-2.330975351357019,1.8770997359224575,-0.19475713624996296,-0.3748917232059059,-0.7426267654147236,-1.0552878061345634,-0.1377466960767078,-0.006163009012946997,0.7197091348138897,-0.6944487541331719,1.1080212707762505,-1.1429408226528195,-0.38086271671215743,1.817052168383641,0.08835885351730217,-0.25716992914036624,-0.9757654837583171,1.0303357547766283,0.8102704298557277,0.12815586279997174,0.6570801422432135,-0.517112853008533,0.853772612171846,0.7080684300516685,-0.34226313306746436,0.6867598770453488,1.2064546311869468,1.654734601491858,1.5249654429429134,-1.1271894913656406,1.1027127167287507,-1.1081321384578793,-0.1816744062262157,1.7968522090409151,0.0021810705370619043,1.1207178539936735,-0.11219678985811048,0.7425337961593768,-2.6184498974191137,1.1684739343211064,-0.38661239608491854,0.9172812939702931,0.4275962138008552,-0.9743468642308313,0.7090222866735187,0.631333631901294,-0.4860157795581104,-1.6841072257225533,-0.7027670465813753,-0.04187869619329313,0.25430751021502285,-1.284040250868532,0.704450402070754,-1.2342492843242654,-0.10391646208175218,0.712246264064451,-0.24198619847155037,0.6941605123044731,-0.5920848279553942,-0.24149811166932494,0.6536818368060077,-0.11352301731215193,1.280238265836078,-0.46117235417176744,-0.01897125881217095,-0.8799891240175923,-0.666850206954008,1.3715492132926452,0.23902826425879378,-0.2672257230197505,0.2539993926091402,-0.6731130370393413,-2.8411190961478634,-0.6751288680877283,0.39348261601208073,1.8935431135685175,0.060387797214463954,0.03963834734880564,-0.7066520681625059,-0.1895820168794908,-0.07352783157043995,-0.5325769829246907,1.073023589924208,-1.0832118030117375,-0.32848027209495667,-1.2263254253104914,0.35243820539097437,1.028791138846867,-0.3658529320856915,0.010048702547844578,-0.6457053690696876,-1.7372294140370568,0.24064895832606026,0.12285085966434973,3.652365082465742,-1.3038830118088778,0.3806804449669999,0.22997732297257395,0.2965685264916484,-0.7214992025660389,0.8586040253266168,-1.4301480531724973,0.6836095798204567,1.1421556716894805,0.8723985347533814,0.2175389651192136,-1.0510956260509072,-0.34532508258232814,0.7074335322480341,0.06269363157121158,-0.9790392417239394,0.2558223878263944,-0.7879223798665661,-0.3092070144242434,0.737755124308053,2.176623470182308,-0.1277077466574818,0.6156041490704607,-1.207991816101106,0.0396138178817618,-1.1743077030700275,-0.5978385541963739,1.0695571627398612,-0.5000170218081831,-1.5644732788865967,0.5926561025206415,0.022956634551993982,1.4732539283831043,1.0918772893051871,-0.22333843418652513,0.4300849219328241,1.590241616142138,1.1639153569112,1.415959365685919,0.6162069350081784,-0.42461537569594077,0.466439245244597,0.09154902984262624,1.1577583184871507,-0.5750164710884622,-1.298875489821693,-0.7659269916993664,0.09592321195305559,-1.2399054952313857,-0.5852435535610868,0.24113978164981173,-0.3828733787716453,0.34739842673940124,0.2676000816750746,0.28450689408093693,-1.3198411421401501,1.0778309804505157,1.0358407458813885,0.5234054639739889,-0.6073164774838611,2.0057574200635484,-0.6884126545867829,-1.441818020321959,-0.14367065164542753,0.4610273541586649,1.4774448810011946,1.7280010768302174,1.1711786307986802,-0.1962626600490303,0.5274552631352911,-0.21034263189976843,1.464164064587383,-0.8987016667877804,-1.5787155279223617,2.077783143701944,0.756238405145157,0.6395984899239153,0.058921260966699016,0.9069695824319393,-1.4088527787052718,-1.612239841669001,-2.6474845927266117,-0.39674141575136235,-1.1402892349759373,-0.821742455594617,-0.894735035110647,0.4623687431419498,-0.8352333918151994,0.48364388905930616,-0.6135291415922196,-0.9479689532718154,1.2668104389472752,-1.1189399222660257,0.06569740217736696,1.8767480896439341,1.6110596060578963,0.9535650521968634,-0.05806405561142448,-1.5222270517713774,-1.096051756087269,1.0737673049668208,-0.2562552109996365,-0.23245529370795542,-1.064009223824959,-0.7231234113581934,-1.1893750711326285,0.24375199852988896,-0.5915833709020478,0.004480179652923882,-3.0166323373034825,0.8362730104874591,0.1477473548409344,-1.7141356356702193,-0.13445838460001594,0.8341004892138911,2.5713936801214685,-0.12549971627998352,2.676510012330134,-0.9189088769914142,-0.5835058027178395,-1.6752885820916277,0.7818763693886739,-0.3505256209564532,0.02851085527477071,0.7527246539623271,0.06671819007727797,1.820350962864319,-0.44252883576639246,1.0643273251164267,0.0028941054892509914,-0.7145751479203174,0.5291074198606054,0.20410080341475045,-1.671254528887556,-0.12223885121058073,-0.4935134926552078,-0.06927231215362076,-1.490122518539502,-2.8050078600656123,0.4033732950654823,-0.06737963750850146,0.8760972507948884,0.6961758918542356,-1.6494452319139914,1.0028416018125874,0.0918893809983286,0.5268527337535691,-1.7813926945212444,1.1276867456371025,-0.5909547606373596,-0.9262407720046445,2.230487687063832,-0.18615058108037874,-0.6426749050246016,1.79917930108623,2.301146242865823,2.0752672798389993,-2.1232246564559287,-0.421707811548398,-0.3739037301141837,1.0880693398749328,0.056638122829992685,1.2333766871981304,-0.6055554714313468,0.9487802544960272,0.09791960467265695,-1.464333695189848,-0.3115660572145392,-2.1705984425861775,-0.052278594653729735,-0.8245154183268227,0.5989007234356369,-1.3236023398248564,1.1284318656873742,1.72398980001512,0.6070645139130468,-0.5473807548979275,0.19781969149998505,-0.021545861489941726,0.6414821896338063,-0.7207343487816866,-1.210625401470015,-1.924967682121075,-2.388570709976919,0.42660203904813665,-0.2176895139855909,0.1597676598020631,-0.2558350406172157,-0.6346411907437162,-0.8791149888016159,-0.6361127396071675,2.2876312707967297,-0.06861355697829935,0.2813915044457335,1.2394869221646827,0.05017413620647044,-0.7626656351650465,-0.7020349251389753,1.7838002079323774,0.013754082648740576,-1.1558883888431306,-0.2793501533143306,0.11287563417772287,2.367432595486601,0.47487322672119614,0.01578206058721192,1.4151188514410784,0.2364139306493271,0.45063555729065957,2.0139698220666515,-0.006610728658963776,0.9683430440616126,0.6761743921973682,1.087963318959263,-0.8679850034651736,0.7480087961783416,2.3437700625691584,2.1657069995688665,-0.4194137712216676,0.3470275845790583,-2.600263450297671,0.8937080198619123,0.9396741232807956,-0.059498133131637654,-1.6663346926198268,0.46090254274438736,-0.10633188734408505,-0.22908760644301004,-0.008388560976201118,-1.326720202038661,1.2337997250412287,1.8996155035315,0.23773122277704045,0.4180088613141838,-0.6903050165159105,-0.11053822079555138,-0.45368051527455794,-1.1026893928244867,-1.0734452575819222,0.6698589861717549,-0.07982345767538981,-0.3366836280766104,0.09633972942182946,-0.2305906109316557,-0.8608911518182525,0.1152985712823585,1.1516746794543404,-1.3249876399500513,0.8493869883514162,-1.0257568780334163,1.2513816368296051,-0.786448146037824,0.8330407992025998,0.14595617805522412,-0.37547002031970034,0.6891639018572141,-1.9240904280958742,-0.0986360232918104,0.74064306086291,-0.8477789695939715,0.007606903227729265,-0.678004058588785,1.5304257889728745,0.4459108578865437,-1.5160581683888152,-0.8829567958704923,-1.2288456565749108,1.6587618826846346,0.6568347297548988,-0.256912661225227,-1.321182282784711,-1.5510436771157168,1.0053024342305892,0.11241469619678505,0.28607357669297645,-1.7788015955548402,0.20200410844845612,0.5976529599122514,1.2067360653595014,-0.4400829182345694,0.15193693610336598,-0.7555646955451262,0.3895514612233386,-2.06026930018223,-0.31201312516660035,-1.200380727327212,0.9241046682356283,-0.20391104825139528,-1.0349146865085963,0.5162010176233632,-0.2707701430314121,0.05642200815067219,-0.08620983374277645,0.14897419239332854,1.1809522361812284,0.6086023730918828,-0.6965844312886642,-0.9195795296942324,-0.005240899882934508,-0.28705301437834035,-0.565733137011377,-0.21924534337417778,-0.6229797506085731,-1.1450542404839488,0.11325552525353842,0.48178056403647157,0.11167331199314584,0.03841523401491679,-1.9472244172491049,-1.2284334962409444,1.3184427025447212,0.77479697823397,-0.8723296140196724,-0.19717411165499035,-1.3368685469647732,0.9429176067037995,-0.5517505277149544,1.0227318935990806,-0.3256048214262314,2.2806628532116204,0.24329739817702806,0.037401002357101136,-1.1808906605321283,0.7095125957528369,0.7516036942389135,0.4753356021736163,1.5598508487502418,0.7863213470942433,-1.4788473502320398,0.6592210010834142,-0.6804840068093422,-0.6607083013275254,-1.1614287982502505,-0.1483525302638363,0.47081984780916375,-0.050545055084499434,-1.7787805240250094,-0.29734631989337446,-2.786318584361113,-0.3899702812242705,1.066440219145573,-1.0874985614230355,-0.8187547974666123,-0.38842231117148,-1.6137276211635254,0.23663493698153856,-1.141807487856163,-1.4329021658963148,1.3698641811288357,-0.31057474786431494,1.3962392417188236,0.2762087273330881,1.7725308878284352,-0.048075250375351375,1.1344599878122643,0.6700728253435984,-1.7450262219144113,-0.6834796256883211,-0.1216116379536239,0.462070190135911,0.6654763213707547,-1.0996070747166922,-1.2017855390797532,0.24762338278795057,0.49081796906058345,-0.6307184244508764,1.1346019877515454,0.8301614815229464,-1.8622397678103388,1.4930343227440734,0.8177634101593647,1.3451765945250387,-0.6903169830524593,-0.5274492016190494,-0.656612486516105,1.758038107369986,-1.0982531016211052,-1.8377462913617437,-0.7625353936606862,-0.5975978069377925,1.0129512582233944,-2.708201169930228,1.449132507111652,0.9725370399444623,1.0494429984682898,0.6207373696749953,1.629019567841395,-0.599635686447367,0.5856785200694552,0.48545064205044025,-1.8169646555942234,1.3716120517767973,-2.8175166508413634,0.7553240420617917,0.9196675048914345,-0.22904061453406738,-0.9075233589361056,-1.212233339490005,0.8633612761533243,0.10673648133455003,-0.08689159189893923,0.9273478539230977,0.9444486103533726,0.6130372874343223,-1.1716961593517483,-0.4214926950722871,0.1754928501259503,1.3744681326291912,-1.4479814254887824,0.7291630947634464,1.4433549088548163,-0.157562604771117,0.8049394069488053,0.9869359995043567,2.785782299201992,-1.244716920919003,0.48678074303981134,-0.09067297116891952,-1.3917689645526743,-0.016437668753489138,0.09954454423544426,-1.322620378803094,0.5674358101623587,0.7707654634675998,-1.1097313860168943,0.0741855378265742,0.22462463349412742,0.8910097102124652,1.4640656629836923,-3.0074930887489133,-0.3001059729758331,0.26760644702456104,-2.9146663241811575,-1.7934892044663036,0.8818544506908861,-0.8601158193389751,0.3850489397853837,-1.9822471916353819,0.6756956656012261,-0.8590192053790036,-1.5490505410043993,-1.122341081125604,-1.7617659063029725,0.5112357452621404,-1.350679078472534,-0.16808555222896635,-0.6895946984819494,-3.0500391331839176,0.74436194507975,-0.47860663711535045,1.6258836815636553,0.4784768466741792,-0.2659780571681202,-1.5323172253699937,0.8440182609510144,0.8538319857956113,0.2632308265699204,0.38527855673617456,0.42300493136389156,0.006350184770662114,0.5563367567011204,0.18349665433761184,-0.36737453602100095,-0.9697086926650922,0.11378001058022513,0.5003965982116018,0.8204118479890528,0.7162626780142365,0.45887336258015715,1.4633416678567452,0.24138201658912672,-1.5264171225517236,-0.04036264671661363,-0.3716426908243101,-0.6746425244261496,0.7487903498899701,1.298722819900929,-0.08289126506078545,-1.1962425940762598,-0.7259904138417392,-1.179542862867193,0.3542059449510986,0.09144526135097045,-1.0228620268362953,0.052326291391669374,-0.604872095680646,-1.2934240638680794,0.3967445988466905,1.3923236235282828,1.4430218142763458,0.6734094859476226,-1.2381300325795275,-0.6944970829033943,1.3887406630081534,-1.0615367775196303,-0.0829764459417333,0.48217527417826833,-0.21797007616453046,0.36394553353469633,-0.4060468965257283,0.9982299128553574,-2.3811009191407497,0.6397633858197004,0.2668877892774,-0.18512352921352956,0.9928706484786558,0.1219644289331072,-0.8841958709586631,-0.2049075844603332,-0.6559647385322265,-0.6112255276449796,-1.122107688414029,-0.530344092793661,-0.07254512180450283,-2.3082415462252155,0.21962541735218585,-1.364096754398696,-1.7603042012961228,-2.114094250852707,-0.37284516872300494,-1.3944208397744013,0.9637141633727792,-0.14262853823487548,-0.556399177983972,1.2859540885530696,-1.0910322784683775,-1.3189473345663338,0.4871162694779046,0.6435573024947444,2.418233775305059,-1.5358585267583806,0.9228791404181995,-0.7015818508191867,1.3090552424872666,1.978661524509856,-0.7888213487825929,0.09359203471480673,0.38834373019356255,-0.33117228342308647,1.1056261474421327,1.069400774834205,0.16253432287075895,0.06791220875327597,0.5324326826067568,1.7172587069419372,0.3741818875384195,-1.250078608254108,-0.14646406642301532,-0.7817467367993823,-1.1750547515223055,-0.16883556184369872,1.0533993601784732,-0.7868787641703969,2.041070822533184,-0.0786085581204467,-0.21353426039273463,1.0037691113944909,1.7181273192345103,-0.7412571770145523,0.4855659717267853,-0.08396516171153426,-2.0704975843598237,-0.8257215061226268,1.4100212139258455,-0.03405947760695507,1.9992855807966372,1.280078168522326,0.19425168441587945,-0.5302140950036911,-0.583326612543336,1.9282507421206185,-1.0108281555312992,1.7778932960762996,1.5754367344396683,-1.7626817089622209,0.8444211091576376,-0.7292982097968815,0.6020888151749165,-0.25899185337700764,0.49876732719844424,-0.40768255099596945,0.4149736271287064,1.8535986892793823,-0.31573156756340537,-0.8432933276556176,-0.212377331537766,-1.094445219576288,-1.1364731662541436,-1.6435400775323972,0.3722199321606672,0.6448224756324841,0.60605294627539,1.1591990905534975,-0.27699981989323075,1.3908449137268948,0.15599627351963172,1.2330660221410157,0.824790354884784,-0.35061022976522765,1.2046555657915687,1.1973230612800332,1.4714258849745894,0.28014016496385874,-0.22199092151272806,-0.21968658759399623,-1.0889354464517789,-0.8053336118106996,-0.5282478008085612,-0.7529990791577594,-1.201235487950748,-0.38650510112188924,1.2719682656732998,-0.6431234957955807,-1.0976871887748239,1.4652981633034907,-0.9601947170907573,-0.5622238032676554,0.545411271523154,0.5887614832968288,-1.113754510912367,1.1589827943448896,-0.00015061183717080947,-0.07419796446855631,-0.6280278058822908,1.5066509659289276,-0.9785297727568911,-0.6857778205178803,-1.055483154722624,-0.841808001666668,0.04522651480631079,-0.12745952994222548,-0.0693105199468957,-1.1477615749948917,0.7753331908593161,0.18518442394030257,-1.0488999730419333,-0.4704675608014863,1.0584870297255289,-0.3355968334910874,-0.11333668651880646,-0.1581379223342759,0.14277241933476553,2.97745743861144,0.38605359301370623,1.1507952223337596,0.9542209375005085,-0.058595101787817835,1.5028718016365947,0.5780606182168245,-1.399451387643098,0.7144461901104915,-0.8104300119039716,-1.4349760437327912,-0.959410239211798,-0.37311124495714104,-1.1268859815118308,0.5135303353866673,2.7776288757238086,0.30953371397249274,-0.6431105101148062,-0.6745478662929746,-0.3136231456921706,-0.2131033054799004,1.5481047119027336,-0.014374314998938677,-0.44152945910857533,-1.4703057697358701,-0.19165351469920344,-0.28548203584204773,-1.4995634281992052,2.0525088737612673,0.9536769165852926,-2.8373848964423205,-0.5577849696264612,-0.5471794127269128,0.16684337934107313,1.400291022748186,-1.8308963069069408,1.0567486359818508,1.009769853253099,0.30424896507232835,0.8777683398898843,-0.7665158052647012,-0.42841773795558225,-0.0559078714451369,0.21565416127022127,-0.7827118528060447,-0.15822208551600742,-0.3739954454230549,0.02039848292812732,0.3540230078677651,-0.9121518918302023,-1.8827289368921034,-0.30751602253684085,-0.6822711828725414,-1.7005504912624176,-0.5995341285972237,-0.8299213605669585,-0.025996154467474775,0.22808254339467413,-0.07141956599845997,-0.014152890157840619,-1.5408123564872747,1.4717875314580815,-0.3349427762893746,1.0531855308960905,-1.0540509413433736,0.14209423370074617,0.15818760947222504,0.37799363609272524,-0.572604394956069,-0.1180941894463394,1.4156206701505754,0.5890720980013674,0.010913077491468446,2.209424700187401,0.8307843350555446,-1.7636194785701067,1.2620167569532776,0.47133808632090657,0.23825951058753242,0.42464300789883874,-1.1366036562106332,1.3711044809126895,0.21966127145168401,-0.498575501945539,0.23148206235275173,-0.8317190903036031,1.2069730920056463,-0.06968405439317565,-1.3146919137512505,1.137405612333468,-1.8835391677081592,0.7958066605234958,0.0005043552001570246,-0.8879366363702557,0.7858763440932853,-0.506907014096802,1.377872555659343,0.5411621664660765,-0.548121422890706,2.029728208396748,1.8019886669420022,-0.7431413816740577,0.06509256825334761,0.81098851043629,-1.2411128239352442,0.6627547689905982,-0.48946044521411813,-1.0301724920377413,-0.0920984141488937,-0.8945815306553259,1.704170687616042,0.23234630258880412,-1.182430993085129,-1.5736597569068138,-1.964377320435621,-0.9773535886642643,0.40645746147793044,-0.6985908958813309,-0.3403434820673175,0.002325773263409863,-0.32304527301480285,-0.6759547861882315,0.023658615485455073,1.202569595096424,-0.8773960223304423,0.43124177660065494,-0.5411217400184648,1.0242439260770826,-0.2556015612852852,0.44150308319658693,-0.46154331587174335,1.196216604811574,-0.878251780468303,0.9029372167120104,0.6081948971944419,-1.56834760797961,-1.4222489916600227,-1.0017622576554897,0.29511273411411215,0.4203148669656925,0.23972546340805612,-0.475279543179094,0.11869904533391197,1.4618676229609635,1.7264129338961565,0.30937090405781614,-0.6384608422434868,2.6380519515689427,-0.5381274528950102,1.2198301740500872,-0.02842427229406029,-1.0695803756745628,0.9541180667526554,1.0427004318767805,0.08516146274115258,-0.34769219982599814,0.28130171499842804,-1.2342387380815318,1.0487236633988501,0.07128725345648795,-1.4834106172359085,-1.499256788923898,-0.7932684010685389,-0.8006013705734808,-0.05051753295198788,-0.8207644236779347,0.7341089626330253,0.24653866821440024,-0.489271197010221,1.6325102441686412,-0.30532666984367574,1.1310758677951513,-0.23860600098805917,-0.5821533681821995,1.433586817737798,1.1135612822507066,-0.32184099538766764,-1.116736909518042,1.0867837979415176,-0.8978326915037461,0.11607495333337782,0.6272912926665032,-1.2145069600098102,-1.8384303017878802,0.1296129156484816,-0.5178451717499643,-0.3626698114032829,-0.2628743354240668,-0.21267601848066214,-1.6411703018504173,-0.5971979170380085,1.0580433836766345,-1.3086653197567226,-1.9828482335323414,0.7921694183483463,-0.0969333268137111,-0.8693644899609597,1.7731599713117525,-0.526405694646079,2.4095761739574377,-1.6224376271684697,1.15001401024023,-0.4020284619694156,-0.12496894616224671,0.2973177766206818,-0.642519662133406,-1.4106405151784625,0.3684261273614922,-0.40519546576855264,2.889184101677567,-0.5448171447579758,-0.83984215981773,-0.16077607141533926,1.2851183043811099,-0.8248145678336496,0.7815114104723683,0.5495877415575019,-1.5269028135746279,0.56182292274405,-0.2577617395915075,1.502972116420088,0.4970245138220687,0.4943056776980574,-1.4544972445325826,-0.41035555661521583,2.1011189636554404,0.36136669767688734,-1.4635537145757507,-0.8225680894581052,0.8149964657115185,-1.270565003277876,-1.1037683681459656,-0.3970659674855029,1.4526900880781408,0.2736590621217813,-0.03162798217331624,1.1333103377049976,1.0482833492510306,0.18502305287837761,-0.2094932429779689,0.6257553134014129,0.0925618214774169,-1.3942505139801016,0.38947328671071957,-1.316060546385264,-0.5969505341692971,-0.4315849583623697,0.7459143189319278,-0.00540990553659176,1.1396261147792677,-1.490302059911522,-0.35464600481166486,0.30681890163429737,-0.8321775519650025,1.8287116420014184,-0.2987485224818888,0.16221070665088083,1.8653897506074728,0.4581718317973818,-1.1531325492129434,-0.7430030011470106,1.9244965683852269,-0.5945624688137774,1.6489041530503141,-0.048613499023643224,0.9292772454730667,0.2046035059912801,-1.5029980889612429,0.02072753432009275,0.39464287476472026,-0.33554736962399,0.013406373703718489,-0.17293975458205443,-1.065148720454067,0.367738357027364,-2.4435468353605927,-0.9167097641830279,1.551330559263549,1.6826459228309516,-1.2683848451958997,-0.07362674629882042,1.4965538793776232,-0.39177588487791176,0.4074525614100277,0.0944279342853716,-0.7994032839663812,-0.33786681473001906,-0.244299010736061,0.1857686538515209,1.2359313182432228,-0.6758066936315592,0.4661349821149636,-0.22799430508078086,-1.2007626838832208,0.3762435808807425,-0.520754248175624,0.3165223958793477,-1.448252374001719,0.22689557120566267,-0.6119045476461438,-0.439487431825409,-0.9344344182218531,0.7196453339483031,0.6385041158756782,-0.9548113888404295,0.47921095956349796,-0.6777163445355724,0.4195916356725082,-0.3705424024112644,-0.3845661640777596,-0.9679469874687299,0.2646570174545004,0.5801568981915856,1.3926969514303607,-0.08305342443879413,0.6352569086497597,-0.192727946341977,2.069614060841027,-1.3532356961538596,1.512357884386907,0.8965016357206718,0.8388609797419816,0.9721144287971692,-0.7623015081220476,-0.6054294346609582,1.132429676173344,0.46584746469643923,-0.22257582488734318,1.7710931353683832,-0.01945295550246269,0.69128665236146,-2.311973520887999,0.20139117971097412,1.3535352599606383,1.5978496906916055,-1.7381175158320314,-0.6798496841981354,0.07679434714113019,-1.117925345658898,0.27661477682203517,1.5487636110200576,2.0829295299835042,1.1516143463226713,0.3955003185179887,-0.6610371997906658,-0.20868144123393007,-0.7240404311027693,-0.7510154204714247,-0.5015478861057936,-0.7919034353508955,-1.5393419097617511,-1.7273588190764837,-0.5998326470377,2.1853220058046525,1.7688746458571085,-0.9377845024214166,1.0791594741409836,0.3370974676113577,0.8231192748898996,0.40111288057663547,-1.3335899189097629,0.43454805177122907,-2.482921566013279,0.36837224454405254,-0.06709774435507719,-0.6433750286699732,0.2122698047616748,-1.0212500368725368,0.6781160327026219,1.2264598717250286,0.9266367557083679,0.06821275900736141,-0.08224422684480823,0.35221181255196077,-0.13845737597883345,-0.460033460847279,1.221785869592157,0.3872516047402637,-0.13659147077552497,-0.8464151403952294,-0.8364313403789932,1.4949667005481666,-0.5478475307917987,0.0735893800655659,-0.8982051998710621,0.5271345598032955,-0.19033964645050347,-0.03270181821329314,-0.6437447936798699,0.4052598889731132,0.5802793346989228,-0.163083238008605,-0.9529366409282767,1.8993194137846368,0.22011421655902183,1.3307721779231292,-1.1636370907190043,-0.03312861898013324,1.7228600325966472,0.3944478725584204,0.65470667374038,-0.13982235127942544,-1.6378803745241821,-0.8760672179275921,0.18626730712058387,0.6909983759471214,1.979582488425737,-0.00733934524482656,-0.7893220502249757,-0.825233151297975,-1.6373906201760249,-0.10766661999678308,-1.6278471573308164,2.9335616415199253,-1.8924612513545678,-1.3503450250027507,-0.6299475368142065,-1.0832938431701082,0.2047922997884303,-0.5867684418489862,-0.37116445401439346,0.9348484890257481,-0.8989527503485026,-2.390335288210872,-0.9369907441634172,-1.1765689390837257,-0.33547337106082475,0.28587382163233394,-0.5311017897611359,1.205756787888096,-0.7494051583495724,-0.5841489702856267,-0.14887783106783872,0.554154479883792,2.0838019899833484,0.8736986296166153,0.1525090886126964,0.7921389376663212,-2.0277272270751787,0.902492442051517,0.10949966688388348,-2.174724868441123,-0.7567522592649514,-3.1053719308585146,1.5651729923172812,-0.397509456898393,1.3039396570399353,-0.8704613871294118,0.21378390494949503,0.974323648091148,1.4858406684890664,0.48895208446397165,-0.5871641983164484,-0.9754310623921673,-0.32879290058583743,0.6373955938487446,0.6397467996943521,-0.9386048985899393,-1.5334423981958025,-0.008693737221909564,-1.3382239839392331,-0.3764798933732969,-0.5975806080261268,-1.5463164024512324,-1.174731179403378,-0.3659948702883185,2.420700707298072,-1.1777601449441526,-0.338498034014535,-0.9015944256849604,0.7987539257950116,0.5948917977627473,-0.5795693612362817,-0.5765663894380876,-0.467891063314216,-2.052677377598003,0.5459995563311817,-1.0651651281876815,1.4187037790209722,0.6858803522722883,-0.39629456701899224,-0.48357555969662586,-0.04937753184463735,1.3354296902429428,0.31477903357512954,0.36102501131669995,1.3183118864016667,-1.0564517804871927,1.4325801555589646,-1.1318325936136535,-0.599117644064072,0.8852483785816379,-1.9190232771753846,-1.5679201237482998,0.10524428603811371,-0.03169140469537226,1.1406162423435724,1.2364354698389055,0.5908973726024028,0.36697686108687466,1.2054057404148897,-0.19547063408363177,-0.5646926204268227,-0.3577459300934436,0.5288352548713325,-2.0313747087792864,-1.015874017652015,-0.12314238562848268,-0.12941905400088452,-0.5383672871345491,-1.170709276968449,0.5531925048078877,-0.16079853724871898,1.3409582955623804,-2.270495044526313,-0.7819626123284241,-0.9411943729445111,0.6497943411816812,-0.16466760939781808,-0.3919038508031322,0.2578515965473959,1.0932196362347828,-0.565943723961595,-1.4536588645067399,-0.5873003786326643,-0.7281847453922867,2.0286064591706006,0.6796181136963129,-0.07561702259780487,-0.3419798158078231,0.9146187752619455,2.045221181396618,0.06816467210764178,0.9514391906873124,0.5516775795141146,-0.6055047673689989,0.8628381805462814,0.6582352660400428,-0.06968279892866408,0.2312038280674432,0.7490245139596348,-0.6148203629994604,-0.11783199271189806,-1.9679638673742081,-0.05792275793011961,-0.6427206455175387,0.4831090048062494,0.6705304501361027,0.08219938747592369,1.3276558464474195,0.5687508015655333,0.3449642673043254,0.5969154293443846,-0.5525898658073143,-0.9727412976975626,-1.240731609487034,0.2182659876253339,1.1279422422666794,0.8348523580169971,-1.1666285595335872,-0.7117608378248202,-2.8325414820607437,-0.5575367681934316,1.179101002854585,-0.3720604185703915,-1.0550545585778546,1.177725904816014,1.321908180073306,1.3266616036947274,1.0513759604268729,0.1615443822817673,-0.473272511586111,0.45554453603859363,0.056501394372005735,-0.21190624785127957,-1.9094432421084067,0.18454834269969492,1.4696726350283404,-0.14580474969913879,0.2118959257287906,2.0856396679269102,0.40900917810504706,0.7513071640426068,1.3013523819636046,0.30401694315505123,0.1691416936500757,0.2615505774603649,0.7619626858545667,-0.22630459467202965,-0.6266140581777498,-0.6454268149975361,0.1476235492917145,-0.1333004713036425,1.0406675217823436,1.0602909911266971,0.23079343972445007,1.161455620645548,-0.743338450710543,-0.37710871979803867,-1.702450096845986,-1.0423558331059815,-1.0558416899045016,-0.5404720393944901,-0.5140725887373857,3.0838308208164174,1.1202421102005489,0.07165541571607668,-1.816916079545597,-0.1381408542962177,0.22437209074792813,-1.5971384976812895,1.5715428807506533,0.333244833421287,0.03771411716734801,-2.1900647038665677,0.8698766889356508,0.2816599520984354,0.18612501304846446,1.9839034565649063,-1.0453479037778661,-0.13856717116793163,-0.6496460597097666,-0.9634563868145234,0.07916856538915229,0.34753911788316416,0.05510707428401004,0.11190417693096763,1.4350396753756003,-1.189653893168023,1.2236159589115827,0.08808042534553953,-1.2256725874678147,0.5475133332051487,-0.36800210485503204,0.6646547151061546,-0.9578453782535884,1.8241052896173637,0.34559577141528025,-0.8028539159108533,0.025962611660972933,-0.47504617574413666,-0.08921632376766657,1.7024530505759148,-0.5318941812059036,0.8999125203892677,0.6955048207810308,-1.3454867258706051,1.016072686976773,0.8751300230297718,0.6827466654121929,0.38582875368753355,1.1578874779427877,0.03813455848776178,0.0827277854499983,0.016035607183138647,0.9425326417187927,-0.5775335543343116,0.5629787879695363,1.2618053034471624,0.004304226607046264,-1.4754124517028617,-0.19994939822195204,0.8699636536222313,0.9594973030273755,-1.1432089589964647,-1.5000231003258597,-0.42025645423689756,0.7989582377040162,1.301063899336279,0.8495924063434331,2.3640384188846753,-0.9501927435491317,0.1586384172723668,-0.03677538806784834,-1.4383281839734343,1.1493905411450287,0.4087335560639849,0.24756991766636224,-0.07027522594971052,-0.4711812252856883,-0.9541152326860768,-1.380271044195393,-0.2885829297682436,0.6310849137747249,-1.0179997129596787,0.41884874561153634,-1.6227752579745336,0.277737796178167,0.006483249755062072,-1.2828891025292504,0.6251039388417046,0.8687050369220524,-0.5882069358486375,0.8009215291092248,0.5223373656764593,-1.5559401528501347,0.3633282240964712,3.182109219557125,0.7008772698282127,0.0002573882000568487,0.9811283156631531,-1.1085330508491817,0.5009853928694681,0.6711552702673166,0.959430596930555,0.024627989430045936,0.7682616156188126,0.06898737340144824,0.28728174075706037,1.3515740890101025,0.6627606737271337,0.11727684008547609,0.9836142499086135,0.04634788714796875,0.42543099777539395,1.233917061716764,-3.148049558737468,-0.7729855943913789,2.8605197127252713,-1.911972340373013,1.391076694726741,-0.8190488167831266,0.6366665236545198,-0.8556075717820485,1.8676428791188802,0.1617253173392594,0.07869628758133285,-0.1566390591849604,0.5859482952615122,1.302522295352065,-0.43421507863185765,0.34315933528656306,0.12120945983197735,-0.09753758026439203,0.8162149524031228,-2.5876539690188816,0.9439802361117161,-0.3999848966426927,0.19968415062715708,0.9934737772713772,-0.813605293125415,0.3693841216874177,0.027703783442992465,-0.7750942054955342,-0.1724042604891033,1.0003350789148366,-1.7339168550667308,1.2602809706931182,-0.3103926468650682,-1.0326666961674693,-0.16223005327582934,-0.8302832212908399,-1.9683388155250168,-0.810089325854536,-0.8305615110127372,0.39879807911278725,-0.2674994013192157,0.3865324258507685,2.2263147838327026,0.2654840436527069,1.00691910266472,0.6197916446153895,-1.398406696884518,-0.6742460049553675,-2.385028064187503,-0.11677901267982531,0.9124324994519586,-1.462628189403165,-0.6073617920960193,-0.31761085838421577,-0.6121920679288356,0.10580878908695365,0.584251503677068,-0.615139793990771,0.458376386510871,-0.5113837891431962,0.519873963056507,1.3987112999170659,0.9613824223122354,0.30631840842621166,0.09566905038433893,1.000405377343829,0.9349765952612672,-0.06032100530753699,-0.9569026490570763,-0.9663409553991966,2.557774969785222,2.1257157307674164,1.6442638039170054,-0.04221725514567262,0.9943126310004207,0.2886610625772386,0.3728114049634382,1.0182792250063841,-1.5673758588957694,0.6749540150193866,-0.06761046402386721,0.162376441814537,1.0354665927596027,-0.06917557955435034,0.4840917029971805,-0.661022981942158,0.7450127319630716,-1.2511034984263132,0.4240928049333683,0.7562506157691301,-0.8113061879710568,1.2062148730312408,1.393501960024058,1.0340880476671246,-0.5526448186635514,0.5847351334773545,0.4735525645942338,0.5950582892560452,-1.5314378697821835,-0.6691529491051624,-0.4560298522386239,-2.7066060434993027,0.3920458540553106,-1.2780081586189058,-0.303534357580488,-1.318720369007669,1.7049253648088196,0.829836439397761,0.9517847438097827,0.839090541405459,0.6325952933093903,-0.7236858881207331,-1.1667985800607128,-0.09174698880574482,-0.9066376126124351,-1.3005838889798347,-0.3206293771145386,1.1583625667779442,0.1594774339661687,-1.5062119381914223,-0.3925852064935569,-0.6624492525575091,0.0026511157278715177,-0.7832390403826328,1.0498858601880907,0.38903335225383506,-2.530206592927861,1.2665807101429094,-0.25583283392407496,0.14042406695631807,-0.6276949539414216,0.27570021907510744,-0.13554581036429453,0.19688314066159343,2.793790455677047,-0.9755268883257568,1.3839001866731748,-2.941148067153692,-1.1470643154474665,0.6074097007416127,-0.894151607288408,-0.4044699634253714,-0.050207888757099084,-0.2765293930578907,0.4218972317757151,0.08177313307435312,0.09588152713296559,-1.5737383865576173,-1.027082686306699,-0.8644724672179692,0.2829463532000142,-0.4082879171653406,-0.6177584519533563,0.8008963506247827,-0.40900927490206235,-0.7103466206103056,-1.6895942828853576,-0.9828016329937157,0.9164206242199154,-1.6476733255491451,-0.2779922476967226,1.2353453580034197,-0.3363203589964655,0.49086463703067096,-1.5590457405573395,0.239860140768868,-0.9457670555230787,-0.9335480327049184,1.015554106183068,-0.09192245640597554,0.1371957212605825,-1.7278911159252446,1.683568569455269,-0.5727415536402382,0.1355040094825359,0.0856896236343413,-1.145118327862215,1.7138234517268847,-0.13700982456786334,-1.31530925864162,0.5479568223147728,-0.20504054991233311,-0.8188948300234394,0.5540439115558212,2.9635672587053965,-0.15503336188108022,-1.06151530646229,0.298943380913605,-0.180420914617015,0.1681099239026926,1.364308792865435,0.7920236080832282,0.7259684464344359,0.3407598452697794,0.40962821790598414,-0.5836813034762218,0.5837196043309754,-1.7637425037342305,0.8127421583033043,-1.6446390916008138,0.32951405996089755,0.9608258043984103,1.4402545356911856,0.9406697785486022,-0.4009496898395533,0.3161648067266269,1.1469595775573018,-0.09019212555050299,-0.3464400512370845,-0.9442556995606697,0.3780129467991871,-0.5732894354956748,-0.08285399391259902,0.9141489184096216,0.7037733880874408,-0.684484014203694,-0.8354676626355491,-1.4040051004806477,0.8280746987047204,1.3895176340740039,0.051978774941939455,-1.1229018351230222,-1.802706452257053,-0.7613588215312848,-0.4549713907042954,0.651245021110678,1.2274673662153806,-0.6673221908996498,1.9477665555748704,-0.07975759661300505,0.3365280075388369,0.3433096965677,-0.9005417569912386,0.3646208849741903,-0.8315415510410853,-0.042749762606434615,-0.6425737003955201,-1.1267795389602029,1.1808909787113595,1.3202265539246774,1.7845118154248336,0.8391377799156816,0.252781565964691,1.0906228497298895,-0.20236870697238316,0.1724044277102354,-1.1330800942163297,0.7869936081633381,-1.1266757915900654,0.04285677527563308,2.78593178395446,0.3210458212117632,0.8543494627860075,0.2526325203304304,-0.43370321909446863,-0.7936942821863087,0.07004724968966836,0.8431016836666946,0.2873808040662154,0.12596154060526418,-0.24194386051557937,-0.2214409354748205,0.1802315111730995,-0.4076471959527503,-0.3221338548331149,-1.3848520359129954,-1.4739592606158556,0.6588471512191802,0.11965803989540515,0.9651547683498011,-1.276552792063016,-0.17170608579024146,0.07203344824768318,1.2729759253395438,-1.140607189062229,1.0198515777766943,0.21069518337893706,0.21537073034160778,-0.42558155171650836,-0.6971326122021092,-0.09342147265634405,0.28838508182615713,-0.6577392957776406,-0.742502013769012,-0.11740999772948443,0.3293062078661837,-1.1118204204903115,1.0823422800625908,-2.5897442730824594,-0.25533975361251715,-0.02297233148037947,-0.1435044811113848,0.997696976393273,0.6718349089237803,1.4354506295454157,-0.7518493733017309,-0.16114703395101715,-1.0395879329702364,0.8045028231533286,1.7411962981544884,-2.8418922119279486,-0.272194124735665,0.8790247453428086,-0.6664850675677783,-1.382199918501783,0.358253679299246,0.4239053271897305,0.09239948849298639,1.9482199205172832,0.936178097974767,0.7767120209496654,-0.5199956540910184,1.3408298337024653,-0.06908809166034637,-1.2529646424715324,-0.4674132859783277,2.3842293317089314,-0.36095913843770644,-0.6855310409328083,0.5196728210842965,0.037550484315801144,-1.5965536037453285,-1.9044918277645881,-0.385619708192378,2.1924325068453205,-0.27556653513984664,-3.284823931647836,-1.037154015338299,0.3119523076025623,-0.3031149736431155,0.2266798158759234,0.15928363770894596,-0.07623418797293399,-0.7922825705015463,0.16906975176142644,1.9945105310300568,1.1647357022111722,0.06921101223189152,-0.9716369608867739,-0.15903249832293234,-0.39693790234233883,-1.2917673071749687,-1.8995146739523345,-0.48792589768291295,0.507745050007364,-1.203957555057096,-1.0505763581149947,1.5094876019154413,-0.4482735271563569,0.8196052257741806,1.1724007054722283,-0.41137958929369856,0.2384315168380638,-1.9336237935340188,1.3752358048046227,-1.314337035280129,1.011215451551251,0.7165409986697665,0.8344060122028261,0.9511684912334277,-1.3629020969167556,0.6514461867256056,-0.9905359616167466,0.10135816311514798,-0.7629691264503354,-1.4870037564745913,0.593442603911685,2.672530671792533,0.21677560672217844,0.29081322503034324,2.173644095965042,-1.3492281549064948,2.3714007336440632,1.282564876940194,-1.54496080323,0.7465137686879038,1.071750657061679,0.8502306984464048,-0.15234545021389184,0.5946411969425484,-0.4081886131153728,1.2022362153617252,-0.8189929468315742,1.0202531044150862,-2.314370522829415,-0.684511049687269,0.5116600998721179],\"type\":\"scatter\"},{\"marker\":{\"color\":\"red\",\"line\":{\"width\":0.5},\"symbol\":\"diamond-open\"},\"mode\":\"markers\",\"name\":\"Churn\",\"x\":[-1.2744448278692018,-0.4228257810411582,3.098972705668839,-0.9048160618419553,1.0815175763703808,-1.0978803340774348,-0.39350128716737426,-1.3028275833858634,-0.8157272257791032,-1.04569007487362,-0.6538333523512818,-0.4993659903595685,2.997373875962275,-0.3246245891015608,-1.4593711096929416,1.4013652143965627,-0.45176825237956747,0.09785027552722393,-1.6428690259761978,1.669184271854885,-0.6082398006370343,-0.4543373728998555,-0.573726533233808,-1.160638772427327,-0.5305851457660018,1.4653861276755098,0.14653989100320922,-0.6291449110882615,1.7230397716093802,-0.30935791272969215,-1.1288186056643335,-0.5350274865367646,-1.4047160918571955,-0.029090419056152263,0.172515961817011,-0.7102165658002351,-0.5898637210898449,-0.4113344899725977,-0.4148241141693477,-1.1863826230845287,-0.3637106051992414,-0.8140824783939187,-0.5394272201275141,-0.12433657842717352,-0.5340523266273416,-0.45773608740124394,-0.9324263166470211,2.049208653264021,1.8676764463010904,-0.8201654568258498,-0.31818157116408635,1.0584682759706683,2.355101399881945,-1.3583426712097852,0.17384644528194648,-0.866965125449949,-0.5024769248622234,-0.4024114535035857,1.8310534913952652,-0.3982527034282594,-0.2475695329393013,-0.39201617835562436,0.1268214067024548,-0.2841618210455475,2.1913095899597375,-0.09499469662274512,-0.7345222121170798,0.18077248296909323,-0.900562212203176,-0.8612100014597962,-0.6659342185401064,-0.7212171669514184,-0.61560866558464,-0.25726571763347905,2.088577407674083,-0.4596321489822728,-1.141616290187423,-0.4416525959992147,-0.7418913579878004,-0.5602814420235185,1.5321836012364018,-1.3461128847818584,-0.029189793130792594,-0.580675171796067,-1.2126640175382457,-0.3595698554832154,-0.11345369236067127,-0.5279527972400234,1.2750879837701163,-0.23204007749096123,1.96053171087017,0.4876408657712333,-0.471311252933231,0.30186646008617596,1.7357834044553984,-0.5427325314870989,-0.4412442667685601,-0.5854684925789595,2.48888866895583,-1.4743036563519054,-1.4365188846780617,1.7414123620827218,-0.5490274542178645,-0.38906379014340153,-1.0865961411876635,1.9698483307241745,-1.0543296060226646,-1.0916459534525726,-1.1309796065361875,-0.8171261375838662,-0.8981434618257377,-0.6581682679219915,-0.3269207965288489,-0.20947563073096373,1.4683786129645888,1.892402818134599,1.9793639406260544,2.38030035851951,-1.1921076595285194,-0.06515332624018132,-0.8976401451256221,-0.6929963058368883,-0.1601146599184959,-0.7482804205989628,-0.6735552054090959,-0.7957943797983864,0.9617486760389274,-0.29682382715084443,-0.43297098043107507,-1.1064145309209812,-1.3061478566831697,-0.7458670929613141,0.1195204001563942,-0.35179630159356634,-0.04930482521343448,-1.056264275729145,-0.5385834789316908,0.21579168953706457,-0.9813694084309732,1.034654900084804,-0.7689251972364669,2.664140579894597,2.3075491540129964,-0.031422393938506446,-1.0132137070349958,1.2191251586704304,-0.4685360041904029,-0.45319636911356265,-0.3367093467075089,-1.2780780819119106,1.1871158870047867,-0.5403516943942548,-0.428136137996216,0.5900038192187153,-1.575872553259575,-0.5487924532746722,-0.4499859257077466,-0.16895137760144965,-0.3255932895210113,-0.90425723712451,-1.4392041524914345,-0.356533607823177,-0.3478854304365014,-1.085258743715512,-0.7680689817554147,0.11876109961372461,-0.2503896031908187,-1.100074118185796,-1.2011664446250507,-0.32211984951842115,-0.9542077202123853,-0.3232089807660802,0.055408404741661865,-0.09131811217352748,-0.6055685429568182,-0.6513674220900846,-0.7972617437284508,-0.6108657393499544,-0.21741047273500355,-1.2472474413231445,-0.8437217022419355,-0.7217912805928235,-0.5638537567416881,-0.10851518250496109,-0.6424320634807071,-0.901775995528984,1.0324130390227197,-0.7045350434787303,-0.870688218782714,-0.9970513253945086,-0.2652461645946457,0.7577071401243177,-0.2910793644137637,-1.2551833460476716,-0.2777390206066685,-0.30370936060298986,-1.2013771737665448,-0.25849876970507385,1.3947683698275664,-0.43397347399158126,-0.33304214389909487,-0.474280632415814,2.460395177005606,1.650809437902576,-1.234707879283002,-0.5295371030619552,2.1111776613461193,-0.6401609127917168,-1.127011193091683,-0.6050186559367545,-0.4650746267961142,-0.8979578983335437,-0.643386011417119,0.4321580407261857,-0.337219690797731,-0.08759345934303726,-0.6723100283895339,-0.08766104787206243,-0.282602811226987,-0.8423324836525959,-0.2729520860188516,-0.48961962231104117,0.9634759727017956,-0.5381044504416329,-1.3351458934255618,-0.4277961572079778,-0.8026377287072383,-0.733569551410949,-0.6283877164144546,-0.7483684457101857,-0.536734925756799,-0.4405843204813246,-0.3655340844579916,-0.7901571617080968,-0.7878585230857679,-0.6023192554914222,-0.6803039573553694,-1.2773582719727279,-0.8633922038239077,-0.22352513338217256,-0.5812223725205333,-0.4718316871730779,-1.053957688799511,-0.5112550490972948,-0.5775074022952815,-1.0336860814152655,-0.5840331440000905,-1.137531390688466,-0.24808247232005665,-1.42217005845448,-0.9757154226077027,-0.7962229822006468,-0.19367621227772075,-0.989911462464667,-0.4144474487517067,2.0242754914460352,-1.4531194524301652,-0.9214229989319765,1.5033153164583932,-0.34573629903857106,-0.389933395119284,-0.3274909036747916,1.4828143899368655,1.8843459376632263,1.991643938166326,-0.5065348921011341,-1.2297317813391124,-0.8983224238808112,-1.5899996842648387,-0.8991351397871993,1.4319885972000577,-0.5515025973576586,-0.6043150006622252,1.5558877631102965,-1.4343068433062118,-1.320298313137347,-0.9171873633683333,-0.2935849646214758,-0.5764897033258125,-0.17297125630399535,-0.28351437913969074,-0.41842334981396023,-0.7131015537761365,-1.0580359655360547,0.11655928426032576,-0.26325546660848775,-0.14153482432355197,-0.9213258262734954,-0.27746357349819356,-0.20975284373435088,1.4318397457686747,-0.5618310691406003,2.3692859629621648,-0.7144539753657408,-0.24479103332472957,-0.725293341363047,-0.7586467244194848,1.2993731093974115,-0.6007717080399891,-0.10851722653230082,-0.7030383703215705,-0.974994865257496,-0.48019714576067574,1.977726100815242,-0.2576941420066468,-0.3759535485067085,-0.13817362968166183,-0.08398753515264869,-0.7712426236103465,1.3304009122458043,2.089401598396067,-0.4609718490828357,-0.5687772871080288,-1.1072248501700988,2.291260186594477,-1.0075711778650105,1.3776634474079048,-0.3203427317421987,-0.717724741567392,-0.6164004732442172,-1.0643280345069739,-0.8929141828972964,1.9102065318114898,-0.5856638649151781,-1.16837527105628,-0.24479362526870127,-0.11670360566301174,-0.544620146290199,0.7023695589048952,-0.6246261296025442,-0.7324873893211445,-0.9877397089625441,-0.3072271585948712,-0.4369659053394244,0.2829319733699317,-0.5681842910791004,-0.7442083771409351,-1.2597795804720666,1.560635959043129,-0.7250980099357927,-0.5858194870325947,-0.5314595074263334,1.7078445553593338,-1.4049814850345108,-0.572973804926769,-1.189672916118787,-0.5478054274856227,-0.7973086640099271,1.2791925141369989,-1.3464601869103436,-0.407007258176083,-0.8568576688536286,-1.0883341798677606,-0.041425199811019615,-1.3149671127688167,-0.33105910225657026,-1.5022696272803457,-0.0922648241743034,-1.007186381348803,-0.2031199584827633,-1.2509909628073528,-0.16903270764735426,-0.19136924283725804,-0.7237552161746067,-0.4037866799107955,-0.5105178256761798,-1.3720941654851724,-0.22828162557976953,-1.505769763488551,-0.5977465260796764,-0.1322848651868871,1.3093529620157207,-0.7245169764235961,-0.46240976539582435,-0.47020465525582944,-0.8079922540892803,-0.9836369778072659,2.4517917345630593,-0.8594379127392495,-0.38595728877642616,-0.40981113293376986,-1.0400989772329015,1.6873638425462438,2.1451580969326542,-0.9344050918804545,-0.8937637086152853,-0.7003857237530499,-1.4593782439704797],\"y\":[-0.6949671884670694,-0.4015289878155283,2.606819458203405,-1.5185623076504293,0.7991024100166148,1.11163688305291,0.870703246280454,1.0741779443473436,-0.3640570903133458,-0.02373668214389699,1.734303855394394,0.43950531947240623,0.5650512720384795,-0.8587234112470082,0.5989827457599916,-0.5578219324537926,0.18469576632247386,1.6770497969849396,0.24061946541118595,0.8182278241276689,0.9321627239908895,0.9269720485797025,0.8900357802342238,0.8617112641746089,-0.6692487909090228,0.7893095057965837,0.7061775080547514,0.4150108415687739,-0.7106743873713134,-1.9701816604004099,-0.5286258736598894,-2.240167084065657,-0.5778202291180912,-0.46008119384246354,0.5574987593814795,-0.07204655628488649,-0.7195639557287168,-1.4259468736467755,-1.2781816148465932,1.5690907335862978,-1.8164821669241566,0.5533737212448103,-0.905774489909054,-1.3170243103190657,0.03847660866286683,0.7593555907545163,0.17737743328190586,0.8670413044985259,-3.2013502697925524,-0.38513205332999934,0.2356142731063317,0.6109127449005182,1.813546581606216,-1.0652025543375163,1.010914446124523,-1.601810922706134,-0.6839178370866915,-1.4412805208507597,1.7811178610387806,-0.09949280645633249,0.7860395869313312,-0.23160104132551443,0.029315171085958658,0.4877963956902059,-0.5522167545493354,0.3988674852414989,-1.6634222858335803,-1.1122797712425123,0.7677871132901412,-0.15471834115776403,-0.20834405643961088,1.4814464893326718,-0.4502026582903512,-1.0060618452632024,-0.8484324376057969,-1.1165767882711861,0.5872309595684393,-0.5083038229212391,-0.06828611841399643,0.4329642446118781,-0.08845983060772136,0.34270876027242586,-1.5196300848411264,0.5005402207297267,1.747055996221957,2.3799251583875463,1.2522955762560042,-0.403549034863266,0.8961652781233312,-1.4241487952820349,0.39493175436852734,0.42447966882320554,-0.557479773123819,-0.9081326383364654,-0.8833040654423518,1.8586791466267283,0.8390501940179398,0.3099161866637167,0.3749617291353063,1.2416875211132692,0.6180851113241566,0.3726285080969805,1.6234079407969264,1.1177789806120035,-1.6174189867130633,0.8474527425684486,-2.5866050606952684,0.4825547839688134,1.0890400071015878,1.8966418005524945,-1.3553099536332134,0.5124474272335527,0.597969474794965,-0.2614509879334009,-0.1646298260450157,-0.6060636048030474,-1.6320060563261842,-0.44199936736526757,-3.135272246404343,0.5454835295595571,-0.1442164932731766,-1.5160622493289133,0.00922772244241191,-0.263342834236632,-0.9905673690913895,-3.4838671188648207,-1.8332650898542067,0.07328581097241883,-0.48208570914547655,-0.9597667090636317,-3.319376357718144,-1.3009712108237583,0.6660541289845675,-0.3500748148196285,0.2551655407816192,-0.9058181070346293,-0.8509882604850807,-0.3984564373816478,-0.014620440819472785,0.009323307508449995,0.17533613832481754,1.0958775593497423,-0.251911407537921,-0.29946663497693016,-0.200544997898361,0.5231669762993164,-0.7881640289712908,0.3574851421308143,0.7141987405296704,0.3376036962080822,0.060042846466587904,0.7226415201087771,1.4355901846143473,1.084633321939941,0.60425845406773,1.132113438414018,0.5116212567183862,-0.4143768196793464,0.7785917828156375,0.47849867841974614,-0.7430426701861971,1.9565658693085337,2.1392119534923517,1.0507885855866568,0.1048231208324307,-0.2989241138563558,0.2118211153618034,-0.6985561297561987,-0.22790538089063211,0.7035167946327937,-0.13787198110660473,0.8519911022165516,-0.11479532943023513,-0.2631764880486383,1.2868171346489468,-2.8172239459978567,1.2655018779133997,-1.1080804383657559,-1.307583237688926,0.1701659187926291,-0.3163792883906634,-0.13167566143713666,0.024620708228994044,-0.9788357998652807,0.5992000522855992,-0.9503716974971269,0.13036256909977967,0.22137742356103052,1.2559538127507095,-0.3671366838574233,-0.17703067064196285,-0.39190576563494167,-0.374065885468127,-0.40070752109538976,2.2307455134405063,-0.300431153506031,-0.7090224988071743,-1.2006817434425083,1.199822002912758,0.0046865468515044015,0.18650281663810714,0.6720076638905044,1.7526613802191877,0.6121710214535214,0.9106052474963715,-0.4681932793825135,1.0713463866136435,-1.1740909023757296,-0.5327595110269582,0.6103285959733693,0.6207070156092587,-0.3916217859667967,1.582428226110554,0.2698507674791494,-0.29293413321180706,1.574824300535612,0.09367312366153413,0.8502621028108763,-0.6026793046293133,-0.5410736897027718,-0.8913413081327107,0.0861445615135139,0.7753752557705492,1.1401081998837062,0.741506991592648,-0.02609306686221183,1.5685096875608573,-0.7385974337444688,0.8274542199550753,-0.0011678575404449065,-0.002527980474472341,1.214261000192403,1.1123344463667066,0.38799510136349175,-1.4121225278886376,-1.5631894399080553,1.063002022701441,2.2077937664590763,-1.2661863863868787,0.5404657523767761,0.3005516790962633,0.34504791557735714,0.23356296620478978,-2.1538354572853384,-0.09572998921712368,-0.33622370236139126,-0.007343248527362698,-0.07611467513525588,0.07770881256687712,-1.6087086762257363,-0.5481803917141602,0.11967147134302651,-1.6761312377572928,1.2020510100672583,-1.564022884657366,0.17521516503663367,-0.7752581014321084,0.07271523574812452,-0.5208922673611451,1.7611581369975258,0.9627898710039409,0.05063582355215445,-0.016388764625953064,0.36825912161597213,0.34573088535844393,-0.11897726619144797,0.11948834157031274,-0.25462081814621756,-0.11632555458241346,-0.9557541829888659,-0.4926582844080854,1.6694098428237016,1.0924188955435763,-1.2524890416542211,-1.3925376873053927,-0.6345995916718964,-1.7622070505433276,-1.6084875254599162,-0.31332924159838577,-1.4138486947087445,0.9238564002401864,1.451863541513628,0.639308337253418,0.9050058016307406,0.5281188527860818,-2.148925529063861,-0.6186484797843143,0.4450653726144251,0.45560544519429663,0.3953118185894884,0.5842480023685722,0.040077576056404426,-0.7022011522718883,0.2053104134026001,0.9933707827821802,0.12510409600720085,0.20547578963087193,1.6356241200611714,0.6130149096732423,1.6146423523884716,0.6162490511337727,0.28488652785923857,2.075561807803066,1.314934120353352,-0.7271344281306323,0.6146540009250494,-0.15833132143127815,0.444534654518133,-0.219394275518225,0.8933541989643885,-1.4984627098746324,-0.6729118336550379,1.4590729952086159,-0.38571584537260356,-0.4585212680649136,-1.3521531412709016,-1.3384913238826313,0.8611394876867067,0.37841847529714123,-0.30328662136045037,-1.7403937584552631,-0.42996978056790214,-0.9013674667183741,-0.3473246011977065,1.4330305523937286,-0.11827633487390894,0.11534411648051614,-0.47470176390039304,-1.2873198526898206,-0.1221186643114968,0.565077483482627,-1.6108814046763913,-1.3351320579933577,0.36810132446289984,1.0787673443185937,0.3745247238549231,-1.2656680331978718,-0.7766491316626641,-1.2895611715159327,-2.0042169791746858,2.022864867635705,-0.28793118423514613,1.8439309302683418,-0.7137902053157713,-0.6155583064768303,0.5752014442576469,1.0731973858201356,1.1992579739547333,0.2884102658838721,-0.21596004411159517,-1.6127022054478928,-0.09754234215140455,0.5958685541326707,-0.13867236110745462,-0.5289618398499887,-2.1146893158841142,-0.5824771725782194,0.9428164963351278,-0.4065693046514114,0.6560443108757708,-1.287839846938879,-1.359776725708501,-0.5396486416100017,-1.2279818413861197,-1.918671492071067,1.2198591507117793,0.4404171378679985,-0.06332585455205299,1.3786525778323901,-0.23321268971710676,-1.185927504912616,-0.45511456676121254,-0.19469719224334384,-0.0678118932007748,-1.019723949517769,1.4309921603240303,0.8696572049771903,-0.10159065586479428,0.8312346732677719,-0.9350169022601824,-0.8557280538078038,0.09907854202794557,2.1297648664851203,3.5862950637884943,1.1601281432882011,-0.7570830990473502,-0.16380770839307726,1.1747754887657118],\"type\":\"scatter\"}],                        {\"height\":400,\"paper_bgcolor\":\"rgb(243,243,243)\",\"plot_bgcolor\":\"rgb(243,243,243)\",\"template\":{\"data\":{\"barpolar\":[{\"marker\":{\"line\":{\"color\":\"#E5ECF6\",\"width\":0.5},\"pattern\":{\"fillmode\":\"overlay\",\"size\":10,\"solidity\":0.2}},\"type\":\"barpolar\"}],\"bar\":[{\"error_x\":{\"color\":\"#2a3f5f\"},\"error_y\":{\"color\":\"#2a3f5f\"},\"marker\":{\"line\":{\"color\":\"#E5ECF6\",\"width\":0.5},\"pattern\":{\"fillmode\":\"overlay\",\"size\":10,\"solidity\":0.2}},\"type\":\"bar\"}],\"carpet\":[{\"aaxis\":{\"endlinecolor\":\"#2a3f5f\",\"gridcolor\":\"white\",\"linecolor\":\"white\",\"minorgridcolor\":\"white\",\"startlinecolor\":\"#2a3f5f\"},\"baxis\":{\"endlinecolor\":\"#2a3f5f\",\"gridcolor\":\"white\",\"linecolor\":\"white\",\"minorgridcolor\":\"white\",\"startlinecolor\":\"#2a3f5f\"},\"type\":\"carpet\"}],\"choropleth\":[{\"colorbar\":{\"outlinewidth\":0,\"ticks\":\"\"},\"type\":\"choropleth\"}],\"contourcarpet\":[{\"colorbar\":{\"outlinewidth\":0,\"ticks\":\"\"},\"type\":\"contourcarpet\"}],\"contour\":[{\"colorbar\":{\"outlinewidth\":0,\"ticks\":\"\"},\"colorscale\":[[0.0,\"#0d0887\"],[0.1111111111111111,\"#46039f\"],[0.2222222222222222,\"#7201a8\"],[0.3333333333333333,\"#9c179e\"],[0.4444444444444444,\"#bd3786\"],[0.5555555555555556,\"#d8576b\"],[0.6666666666666666,\"#ed7953\"],[0.7777777777777778,\"#fb9f3a\"],[0.8888888888888888,\"#fdca26\"],[1.0,\"#f0f921\"]],\"type\":\"contour\"}],\"heatmapgl\":[{\"colorbar\":{\"outlinewidth\":0,\"ticks\":\"\"},\"colorscale\":[[0.0,\"#0d0887\"],[0.1111111111111111,\"#46039f\"],[0.2222222222222222,\"#7201a8\"],[0.3333333333333333,\"#9c179e\"],[0.4444444444444444,\"#bd3786\"],[0.5555555555555556,\"#d8576b\"],[0.6666666666666666,\"#ed7953\"],[0.7777777777777778,\"#fb9f3a\"],[0.8888888888888888,\"#fdca26\"],[1.0,\"#f0f921\"]],\"type\":\"heatmapgl\"}],\"heatmap\":[{\"colorbar\":{\"outlinewidth\":0,\"ticks\":\"\"},\"colorscale\":[[0.0,\"#0d0887\"],[0.1111111111111111,\"#46039f\"],[0.2222222222222222,\"#7201a8\"],[0.3333333333333333,\"#9c179e\"],[0.4444444444444444,\"#bd3786\"],[0.5555555555555556,\"#d8576b\"],[0.6666666666666666,\"#ed7953\"],[0.7777777777777778,\"#fb9f3a\"],[0.8888888888888888,\"#fdca26\"],[1.0,\"#f0f921\"]],\"type\":\"heatmap\"}],\"histogram2dcontour\":[{\"colorbar\":{\"outlinewidth\":0,\"ticks\":\"\"},\"colorscale\":[[0.0,\"#0d0887\"],[0.1111111111111111,\"#46039f\"],[0.2222222222222222,\"#7201a8\"],[0.3333333333333333,\"#9c179e\"],[0.4444444444444444,\"#bd3786\"],[0.5555555555555556,\"#d8576b\"],[0.6666666666666666,\"#ed7953\"],[0.7777777777777778,\"#fb9f3a\"],[0.8888888888888888,\"#fdca26\"],[1.0,\"#f0f921\"]],\"type\":\"histogram2dcontour\"}],\"histogram2d\":[{\"colorbar\":{\"outlinewidth\":0,\"ticks\":\"\"},\"colorscale\":[[0.0,\"#0d0887\"],[0.1111111111111111,\"#46039f\"],[0.2222222222222222,\"#7201a8\"],[0.3333333333333333,\"#9c179e\"],[0.4444444444444444,\"#bd3786\"],[0.5555555555555556,\"#d8576b\"],[0.6666666666666666,\"#ed7953\"],[0.7777777777777778,\"#fb9f3a\"],[0.8888888888888888,\"#fdca26\"],[1.0,\"#f0f921\"]],\"type\":\"histogram2d\"}],\"histogram\":[{\"marker\":{\"pattern\":{\"fillmode\":\"overlay\",\"size\":10,\"solidity\":0.2}},\"type\":\"histogram\"}],\"mesh3d\":[{\"colorbar\":{\"outlinewidth\":0,\"ticks\":\"\"},\"type\":\"mesh3d\"}],\"parcoords\":[{\"line\":{\"colorbar\":{\"outlinewidth\":0,\"ticks\":\"\"}},\"type\":\"parcoords\"}],\"pie\":[{\"automargin\":true,\"type\":\"pie\"}],\"scatter3d\":[{\"line\":{\"colorbar\":{\"outlinewidth\":0,\"ticks\":\"\"}},\"marker\":{\"colorbar\":{\"outlinewidth\":0,\"ticks\":\"\"}},\"type\":\"scatter3d\"}],\"scattercarpet\":[{\"marker\":{\"colorbar\":{\"outlinewidth\":0,\"ticks\":\"\"}},\"type\":\"scattercarpet\"}],\"scattergeo\":[{\"marker\":{\"colorbar\":{\"outlinewidth\":0,\"ticks\":\"\"}},\"type\":\"scattergeo\"}],\"scattergl\":[{\"marker\":{\"colorbar\":{\"outlinewidth\":0,\"ticks\":\"\"}},\"type\":\"scattergl\"}],\"scattermapbox\":[{\"marker\":{\"colorbar\":{\"outlinewidth\":0,\"ticks\":\"\"}},\"type\":\"scattermapbox\"}],\"scatterpolargl\":[{\"marker\":{\"colorbar\":{\"outlinewidth\":0,\"ticks\":\"\"}},\"type\":\"scatterpolargl\"}],\"scatterpolar\":[{\"marker\":{\"colorbar\":{\"outlinewidth\":0,\"ticks\":\"\"}},\"type\":\"scatterpolar\"}],\"scatter\":[{\"fillpattern\":{\"fillmode\":\"overlay\",\"size\":10,\"solidity\":0.2},\"type\":\"scatter\"}],\"scatterternary\":[{\"marker\":{\"colorbar\":{\"outlinewidth\":0,\"ticks\":\"\"}},\"type\":\"scatterternary\"}],\"surface\":[{\"colorbar\":{\"outlinewidth\":0,\"ticks\":\"\"},\"colorscale\":[[0.0,\"#0d0887\"],[0.1111111111111111,\"#46039f\"],[0.2222222222222222,\"#7201a8\"],[0.3333333333333333,\"#9c179e\"],[0.4444444444444444,\"#bd3786\"],[0.5555555555555556,\"#d8576b\"],[0.6666666666666666,\"#ed7953\"],[0.7777777777777778,\"#fb9f3a\"],[0.8888888888888888,\"#fdca26\"],[1.0,\"#f0f921\"]],\"type\":\"surface\"}],\"table\":[{\"cells\":{\"fill\":{\"color\":\"#EBF0F8\"},\"line\":{\"color\":\"white\"}},\"header\":{\"fill\":{\"color\":\"#C8D4E3\"},\"line\":{\"color\":\"white\"}},\"type\":\"table\"}]},\"layout\":{\"annotationdefaults\":{\"arrowcolor\":\"#2a3f5f\",\"arrowhead\":0,\"arrowwidth\":1},\"autotypenumbers\":\"strict\",\"coloraxis\":{\"colorbar\":{\"outlinewidth\":0,\"ticks\":\"\"}},\"colorscale\":{\"diverging\":[[0,\"#8e0152\"],[0.1,\"#c51b7d\"],[0.2,\"#de77ae\"],[0.3,\"#f1b6da\"],[0.4,\"#fde0ef\"],[0.5,\"#f7f7f7\"],[0.6,\"#e6f5d0\"],[0.7,\"#b8e186\"],[0.8,\"#7fbc41\"],[0.9,\"#4d9221\"],[1,\"#276419\"]],\"sequential\":[[0.0,\"#0d0887\"],[0.1111111111111111,\"#46039f\"],[0.2222222222222222,\"#7201a8\"],[0.3333333333333333,\"#9c179e\"],[0.4444444444444444,\"#bd3786\"],[0.5555555555555556,\"#d8576b\"],[0.6666666666666666,\"#ed7953\"],[0.7777777777777778,\"#fb9f3a\"],[0.8888888888888888,\"#fdca26\"],[1.0,\"#f0f921\"]],\"sequentialminus\":[[0.0,\"#0d0887\"],[0.1111111111111111,\"#46039f\"],[0.2222222222222222,\"#7201a8\"],[0.3333333333333333,\"#9c179e\"],[0.4444444444444444,\"#bd3786\"],[0.5555555555555556,\"#d8576b\"],[0.6666666666666666,\"#ed7953\"],[0.7777777777777778,\"#fb9f3a\"],[0.8888888888888888,\"#fdca26\"],[1.0,\"#f0f921\"]]},\"colorway\":[\"#636efa\",\"#EF553B\",\"#00cc96\",\"#ab63fa\",\"#FFA15A\",\"#19d3f3\",\"#FF6692\",\"#B6E880\",\"#FF97FF\",\"#FECB52\"],\"font\":{\"color\":\"#2a3f5f\"},\"geo\":{\"bgcolor\":\"white\",\"lakecolor\":\"white\",\"landcolor\":\"#E5ECF6\",\"showlakes\":true,\"showland\":true,\"subunitcolor\":\"white\"},\"hoverlabel\":{\"align\":\"left\"},\"hovermode\":\"closest\",\"mapbox\":{\"style\":\"light\"},\"paper_bgcolor\":\"white\",\"plot_bgcolor\":\"#E5ECF6\",\"polar\":{\"angularaxis\":{\"gridcolor\":\"white\",\"linecolor\":\"white\",\"ticks\":\"\"},\"bgcolor\":\"#E5ECF6\",\"radialaxis\":{\"gridcolor\":\"white\",\"linecolor\":\"white\",\"ticks\":\"\"}},\"scene\":{\"xaxis\":{\"backgroundcolor\":\"#E5ECF6\",\"gridcolor\":\"white\",\"gridwidth\":2,\"linecolor\":\"white\",\"showbackground\":true,\"ticks\":\"\",\"zerolinecolor\":\"white\"},\"yaxis\":{\"backgroundcolor\":\"#E5ECF6\",\"gridcolor\":\"white\",\"gridwidth\":2,\"linecolor\":\"white\",\"showbackground\":true,\"ticks\":\"\",\"zerolinecolor\":\"white\"},\"zaxis\":{\"backgroundcolor\":\"#E5ECF6\",\"gridcolor\":\"white\",\"gridwidth\":2,\"linecolor\":\"white\",\"showbackground\":true,\"ticks\":\"\",\"zerolinecolor\":\"white\"}},\"shapedefaults\":{\"line\":{\"color\":\"#2a3f5f\"}},\"ternary\":{\"aaxis\":{\"gridcolor\":\"white\",\"linecolor\":\"white\",\"ticks\":\"\"},\"baxis\":{\"gridcolor\":\"white\",\"linecolor\":\"white\",\"ticks\":\"\"},\"bgcolor\":\"#E5ECF6\",\"caxis\":{\"gridcolor\":\"white\",\"linecolor\":\"white\",\"ticks\":\"\"}},\"title\":{\"x\":0.05},\"xaxis\":{\"automargin\":true,\"gridcolor\":\"white\",\"linecolor\":\"white\",\"ticks\":\"\",\"title\":{\"standoff\":15},\"zerolinecolor\":\"white\",\"zerolinewidth\":2},\"yaxis\":{\"automargin\":true,\"gridcolor\":\"white\",\"linecolor\":\"white\",\"ticks\":\"\",\"title\":{\"standoff\":15},\"zerolinecolor\":\"white\",\"zerolinewidth\":2}}},\"title\":{\"text\":\"Visualizing data with PCA\"},\"xaxis\":{\"gridcolor\":\"rgb(255, 255, 255)\",\"gridwidth\":2,\"ticklen\":5,\"title\":{\"text\":\"first principal component (PC1)\"},\"zerolinewidth\":1},\"yaxis\":{\"gridcolor\":\"rgb(255, 255, 255)\",\"gridwidth\":2,\"ticklen\":5,\"title\":{\"text\":\"second principal component (PC2)\"},\"zerolinewidth\":1}},                        {\"responsive\": true}                    ).then(function(){\n",
              "                            \n",
              "var gd = document.getElementById('240435ac-c0e0-48e8-b7fa-c153a0609a18');\n",
              "var x = new MutationObserver(function (mutations, observer) {{\n",
              "        var display = window.getComputedStyle(gd).display;\n",
              "        if (!display || display === 'none') {{\n",
              "            console.log([gd, 'removed!']);\n",
              "            Plotly.purge(gd);\n",
              "            observer.disconnect();\n",
              "        }}\n",
              "}});\n",
              "\n",
              "// Listen for the removal of the full notebook cells\n",
              "var notebookContainer = gd.closest('#notebook-container');\n",
              "if (notebookContainer) {{\n",
              "    x.observe(notebookContainer, {childList: true});\n",
              "}}\n",
              "\n",
              "// Listen for the clearing of the current output cell\n",
              "var outputEl = gd.closest('.output');\n",
              "if (outputEl) {{\n",
              "    x.observe(outputEl, {childList: true});\n",
              "}}\n",
              "\n",
              "                        })                };                            </script>        </div>\n",
              "</body>\n",
              "</html>"
            ]
          },
          "metadata": {}
        }
      ]
    },
    {
      "cell_type": "code",
      "source": [
        "# # Select features\n",
        "# # features = data[['Total day minutes','Total day calls','Total eve minutes','Total eve calls','Total night minutes','Total night calls','Total intl minutes','Total intl calls','Customer service calls']] #9 columns\n",
        "# features = data[['Total day minutes','Total eve minutes','Total night minutes']] #9 columns"
      ],
      "metadata": {
        "id": "zLrv8eScN-Ho"
      },
      "execution_count": 60,
      "outputs": []
    },
    {
      "cell_type": "code",
      "source": [
        "df_telecom = pd.concat([data_telcom, data_telcom_test], ignore_index=True)\n",
        "df_telecom"
      ],
      "metadata": {
        "id": "HRmSiO701o4w",
        "colab": {
          "base_uri": "https://localhost:8080/",
          "height": 485
        },
        "outputId": "73d258e1-b7c1-4781-f785-ee8612a0ec61"
      },
      "execution_count": 61,
      "outputs": [
        {
          "output_type": "execute_result",
          "data": {
            "text/plain": [
              "      International plan  Voice mail plan  Churn  Account length  \\\n",
              "0                      0                1      0        0.692163   \n",
              "1                      0                1      0        0.161278   \n",
              "2                      0                0      0        0.919686   \n",
              "3                      1                0      0       -0.420168   \n",
              "4                      1                0      0       -0.647691   \n",
              "...                  ...              ...    ...             ...   \n",
              "3328                   0                1      0        0.338240   \n",
              "3329                   0                1      0        0.135998   \n",
              "3330                   0                0      0       -1.026894   \n",
              "3331                   0                0      0        1.475851   \n",
              "3332                   1                0      0        2.107858   \n",
              "\n",
              "      Number vmail messages  Total day minutes  Total day calls  \\\n",
              "0                  1.247508           1.579670         0.484868   \n",
              "1                  1.320985          -0.329918         1.135375   \n",
              "2                 -0.589414           1.179302         0.685024   \n",
              "3                 -0.589414           2.212509        -1.466653   \n",
              "4                 -0.589414          -0.235822         0.634985   \n",
              "...                     ...                ...              ...   \n",
              "3328               1.320985          -0.781946        -0.615990   \n",
              "3329               1.541416          -1.769028         1.535687   \n",
              "3330              -0.589414           0.266021         0.885180   \n",
              "3331              -0.589414          -0.178627         0.685024   \n",
              "3332              -0.589414           0.633178         0.234673   \n",
              "\n",
              "      Total eve minutes  Total eve calls  Total night minutes  \\\n",
              "0             -0.058619        -0.050781             0.857403   \n",
              "1             -0.095916         0.147654             1.048458   \n",
              "2             -1.554439         0.494917            -0.759668   \n",
              "3             -2.718509        -0.596479            -0.084083   \n",
              "4             -1.022461         1.090224            -0.281046   \n",
              "...                 ...              ...                  ...   \n",
              "3328          -0.877198         1.239051             0.914523   \n",
              "3329           0.068977         1.536704             0.558019   \n",
              "3330          -2.265051         0.494917             0.175909   \n",
              "3331          -0.052730         0.246872            -0.147111   \n",
              "3332          -0.800640        -0.794915            -1.220563   \n",
              "\n",
              "      Total night calls  Total intl minutes  Total intl calls  \\\n",
              "0             -0.469031           -0.085020         -0.597527   \n",
              "1              0.149054            1.242179         -0.597527   \n",
              "2              0.200561            0.704125          0.216894   \n",
              "3             -0.572045           -1.304609          1.031314   \n",
              "4              1.076181           -0.049150         -0.597527   \n",
              "...                 ...                 ...               ...   \n",
              "3328          -0.314510            0.453033          1.031314   \n",
              "3329          -1.396158           -0.766555         -0.597527   \n",
              "3330           1.745772            1.062828          1.438524   \n",
              "3331          -0.932595            0.488904         -0.190317   \n",
              "3332           1.900293           -1.878533          2.252945   \n",
              "\n",
              "      Customer service calls  \n",
              "0                  -0.429172  \n",
              "1                  -0.429172  \n",
              "2                  -1.191955  \n",
              "3                   0.333610  \n",
              "4                   1.096392  \n",
              "...                      ...  \n",
              "3328                0.333610  \n",
              "3329               -0.429172  \n",
              "3330                1.096392  \n",
              "3331               -0.429172  \n",
              "3332                0.333610  \n",
              "\n",
              "[3333 rows x 14 columns]"
            ],
            "text/html": [
              "\n",
              "  <div id=\"df-8c656148-3c67-4106-b630-6e5bab670c95\">\n",
              "    <div class=\"colab-df-container\">\n",
              "      <div>\n",
              "<style scoped>\n",
              "    .dataframe tbody tr th:only-of-type {\n",
              "        vertical-align: middle;\n",
              "    }\n",
              "\n",
              "    .dataframe tbody tr th {\n",
              "        vertical-align: top;\n",
              "    }\n",
              "\n",
              "    .dataframe thead th {\n",
              "        text-align: right;\n",
              "    }\n",
              "</style>\n",
              "<table border=\"1\" class=\"dataframe\">\n",
              "  <thead>\n",
              "    <tr style=\"text-align: right;\">\n",
              "      <th></th>\n",
              "      <th>International plan</th>\n",
              "      <th>Voice mail plan</th>\n",
              "      <th>Churn</th>\n",
              "      <th>Account length</th>\n",
              "      <th>Number vmail messages</th>\n",
              "      <th>Total day minutes</th>\n",
              "      <th>Total day calls</th>\n",
              "      <th>Total eve minutes</th>\n",
              "      <th>Total eve calls</th>\n",
              "      <th>Total night minutes</th>\n",
              "      <th>Total night calls</th>\n",
              "      <th>Total intl minutes</th>\n",
              "      <th>Total intl calls</th>\n",
              "      <th>Customer service calls</th>\n",
              "    </tr>\n",
              "  </thead>\n",
              "  <tbody>\n",
              "    <tr>\n",
              "      <th>0</th>\n",
              "      <td>0</td>\n",
              "      <td>1</td>\n",
              "      <td>0</td>\n",
              "      <td>0.692163</td>\n",
              "      <td>1.247508</td>\n",
              "      <td>1.579670</td>\n",
              "      <td>0.484868</td>\n",
              "      <td>-0.058619</td>\n",
              "      <td>-0.050781</td>\n",
              "      <td>0.857403</td>\n",
              "      <td>-0.469031</td>\n",
              "      <td>-0.085020</td>\n",
              "      <td>-0.597527</td>\n",
              "      <td>-0.429172</td>\n",
              "    </tr>\n",
              "    <tr>\n",
              "      <th>1</th>\n",
              "      <td>0</td>\n",
              "      <td>1</td>\n",
              "      <td>0</td>\n",
              "      <td>0.161278</td>\n",
              "      <td>1.320985</td>\n",
              "      <td>-0.329918</td>\n",
              "      <td>1.135375</td>\n",
              "      <td>-0.095916</td>\n",
              "      <td>0.147654</td>\n",
              "      <td>1.048458</td>\n",
              "      <td>0.149054</td>\n",
              "      <td>1.242179</td>\n",
              "      <td>-0.597527</td>\n",
              "      <td>-0.429172</td>\n",
              "    </tr>\n",
              "    <tr>\n",
              "      <th>2</th>\n",
              "      <td>0</td>\n",
              "      <td>0</td>\n",
              "      <td>0</td>\n",
              "      <td>0.919686</td>\n",
              "      <td>-0.589414</td>\n",
              "      <td>1.179302</td>\n",
              "      <td>0.685024</td>\n",
              "      <td>-1.554439</td>\n",
              "      <td>0.494917</td>\n",
              "      <td>-0.759668</td>\n",
              "      <td>0.200561</td>\n",
              "      <td>0.704125</td>\n",
              "      <td>0.216894</td>\n",
              "      <td>-1.191955</td>\n",
              "    </tr>\n",
              "    <tr>\n",
              "      <th>3</th>\n",
              "      <td>1</td>\n",
              "      <td>0</td>\n",
              "      <td>0</td>\n",
              "      <td>-0.420168</td>\n",
              "      <td>-0.589414</td>\n",
              "      <td>2.212509</td>\n",
              "      <td>-1.466653</td>\n",
              "      <td>-2.718509</td>\n",
              "      <td>-0.596479</td>\n",
              "      <td>-0.084083</td>\n",
              "      <td>-0.572045</td>\n",
              "      <td>-1.304609</td>\n",
              "      <td>1.031314</td>\n",
              "      <td>0.333610</td>\n",
              "    </tr>\n",
              "    <tr>\n",
              "      <th>4</th>\n",
              "      <td>1</td>\n",
              "      <td>0</td>\n",
              "      <td>0</td>\n",
              "      <td>-0.647691</td>\n",
              "      <td>-0.589414</td>\n",
              "      <td>-0.235822</td>\n",
              "      <td>0.634985</td>\n",
              "      <td>-1.022461</td>\n",
              "      <td>1.090224</td>\n",
              "      <td>-0.281046</td>\n",
              "      <td>1.076181</td>\n",
              "      <td>-0.049150</td>\n",
              "      <td>-0.597527</td>\n",
              "      <td>1.096392</td>\n",
              "    </tr>\n",
              "    <tr>\n",
              "      <th>...</th>\n",
              "      <td>...</td>\n",
              "      <td>...</td>\n",
              "      <td>...</td>\n",
              "      <td>...</td>\n",
              "      <td>...</td>\n",
              "      <td>...</td>\n",
              "      <td>...</td>\n",
              "      <td>...</td>\n",
              "      <td>...</td>\n",
              "      <td>...</td>\n",
              "      <td>...</td>\n",
              "      <td>...</td>\n",
              "      <td>...</td>\n",
              "      <td>...</td>\n",
              "    </tr>\n",
              "    <tr>\n",
              "      <th>3328</th>\n",
              "      <td>0</td>\n",
              "      <td>1</td>\n",
              "      <td>0</td>\n",
              "      <td>0.338240</td>\n",
              "      <td>1.320985</td>\n",
              "      <td>-0.781946</td>\n",
              "      <td>-0.615990</td>\n",
              "      <td>-0.877198</td>\n",
              "      <td>1.239051</td>\n",
              "      <td>0.914523</td>\n",
              "      <td>-0.314510</td>\n",
              "      <td>0.453033</td>\n",
              "      <td>1.031314</td>\n",
              "      <td>0.333610</td>\n",
              "    </tr>\n",
              "    <tr>\n",
              "      <th>3329</th>\n",
              "      <td>0</td>\n",
              "      <td>1</td>\n",
              "      <td>0</td>\n",
              "      <td>0.135998</td>\n",
              "      <td>1.541416</td>\n",
              "      <td>-1.769028</td>\n",
              "      <td>1.535687</td>\n",
              "      <td>0.068977</td>\n",
              "      <td>1.536704</td>\n",
              "      <td>0.558019</td>\n",
              "      <td>-1.396158</td>\n",
              "      <td>-0.766555</td>\n",
              "      <td>-0.597527</td>\n",
              "      <td>-0.429172</td>\n",
              "    </tr>\n",
              "    <tr>\n",
              "      <th>3330</th>\n",
              "      <td>0</td>\n",
              "      <td>0</td>\n",
              "      <td>0</td>\n",
              "      <td>-1.026894</td>\n",
              "      <td>-0.589414</td>\n",
              "      <td>0.266021</td>\n",
              "      <td>0.885180</td>\n",
              "      <td>-2.265051</td>\n",
              "      <td>0.494917</td>\n",
              "      <td>0.175909</td>\n",
              "      <td>1.745772</td>\n",
              "      <td>1.062828</td>\n",
              "      <td>1.438524</td>\n",
              "      <td>1.096392</td>\n",
              "    </tr>\n",
              "    <tr>\n",
              "      <th>3331</th>\n",
              "      <td>0</td>\n",
              "      <td>0</td>\n",
              "      <td>0</td>\n",
              "      <td>1.475851</td>\n",
              "      <td>-0.589414</td>\n",
              "      <td>-0.178627</td>\n",
              "      <td>0.685024</td>\n",
              "      <td>-0.052730</td>\n",
              "      <td>0.246872</td>\n",
              "      <td>-0.147111</td>\n",
              "      <td>-0.932595</td>\n",
              "      <td>0.488904</td>\n",
              "      <td>-0.190317</td>\n",
              "      <td>-0.429172</td>\n",
              "    </tr>\n",
              "    <tr>\n",
              "      <th>3332</th>\n",
              "      <td>1</td>\n",
              "      <td>0</td>\n",
              "      <td>0</td>\n",
              "      <td>2.107858</td>\n",
              "      <td>-0.589414</td>\n",
              "      <td>0.633178</td>\n",
              "      <td>0.234673</td>\n",
              "      <td>-0.800640</td>\n",
              "      <td>-0.794915</td>\n",
              "      <td>-1.220563</td>\n",
              "      <td>1.900293</td>\n",
              "      <td>-1.878533</td>\n",
              "      <td>2.252945</td>\n",
              "      <td>0.333610</td>\n",
              "    </tr>\n",
              "  </tbody>\n",
              "</table>\n",
              "<p>3333 rows × 14 columns</p>\n",
              "</div>\n",
              "      <button class=\"colab-df-convert\" onclick=\"convertToInteractive('df-8c656148-3c67-4106-b630-6e5bab670c95')\"\n",
              "              title=\"Convert this dataframe to an interactive table.\"\n",
              "              style=\"display:none;\">\n",
              "        \n",
              "  <svg xmlns=\"http://www.w3.org/2000/svg\" height=\"24px\"viewBox=\"0 0 24 24\"\n",
              "       width=\"24px\">\n",
              "    <path d=\"M0 0h24v24H0V0z\" fill=\"none\"/>\n",
              "    <path d=\"M18.56 5.44l.94 2.06.94-2.06 2.06-.94-2.06-.94-.94-2.06-.94 2.06-2.06.94zm-11 1L8.5 8.5l.94-2.06 2.06-.94-2.06-.94L8.5 2.5l-.94 2.06-2.06.94zm10 10l.94 2.06.94-2.06 2.06-.94-2.06-.94-.94-2.06-.94 2.06-2.06.94z\"/><path d=\"M17.41 7.96l-1.37-1.37c-.4-.4-.92-.59-1.43-.59-.52 0-1.04.2-1.43.59L10.3 9.45l-7.72 7.72c-.78.78-.78 2.05 0 2.83L4 21.41c.39.39.9.59 1.41.59.51 0 1.02-.2 1.41-.59l7.78-7.78 2.81-2.81c.8-.78.8-2.07 0-2.86zM5.41 20L4 18.59l7.72-7.72 1.47 1.35L5.41 20z\"/>\n",
              "  </svg>\n",
              "      </button>\n",
              "      \n",
              "  <style>\n",
              "    .colab-df-container {\n",
              "      display:flex;\n",
              "      flex-wrap:wrap;\n",
              "      gap: 12px;\n",
              "    }\n",
              "\n",
              "    .colab-df-convert {\n",
              "      background-color: #E8F0FE;\n",
              "      border: none;\n",
              "      border-radius: 50%;\n",
              "      cursor: pointer;\n",
              "      display: none;\n",
              "      fill: #1967D2;\n",
              "      height: 32px;\n",
              "      padding: 0 0 0 0;\n",
              "      width: 32px;\n",
              "    }\n",
              "\n",
              "    .colab-df-convert:hover {\n",
              "      background-color: #E2EBFA;\n",
              "      box-shadow: 0px 1px 2px rgba(60, 64, 67, 0.3), 0px 1px 3px 1px rgba(60, 64, 67, 0.15);\n",
              "      fill: #174EA6;\n",
              "    }\n",
              "\n",
              "    [theme=dark] .colab-df-convert {\n",
              "      background-color: #3B4455;\n",
              "      fill: #D2E3FC;\n",
              "    }\n",
              "\n",
              "    [theme=dark] .colab-df-convert:hover {\n",
              "      background-color: #434B5C;\n",
              "      box-shadow: 0px 1px 3px 1px rgba(0, 0, 0, 0.15);\n",
              "      filter: drop-shadow(0px 1px 2px rgba(0, 0, 0, 0.3));\n",
              "      fill: #FFFFFF;\n",
              "    }\n",
              "  </style>\n",
              "\n",
              "      <script>\n",
              "        const buttonEl =\n",
              "          document.querySelector('#df-8c656148-3c67-4106-b630-6e5bab670c95 button.colab-df-convert');\n",
              "        buttonEl.style.display =\n",
              "          google.colab.kernel.accessAllowed ? 'block' : 'none';\n",
              "\n",
              "        async function convertToInteractive(key) {\n",
              "          const element = document.querySelector('#df-8c656148-3c67-4106-b630-6e5bab670c95');\n",
              "          const dataTable =\n",
              "            await google.colab.kernel.invokeFunction('convertToInteractive',\n",
              "                                                     [key], {});\n",
              "          if (!dataTable) return;\n",
              "\n",
              "          const docLinkHtml = 'Like what you see? Visit the ' +\n",
              "            '<a target=\"_blank\" href=https://colab.research.google.com/notebooks/data_table.ipynb>data table notebook</a>'\n",
              "            + ' to learn more about interactive tables.';\n",
              "          element.innerHTML = '';\n",
              "          dataTable['output_type'] = 'display_data';\n",
              "          await google.colab.output.renderOutput(dataTable, element);\n",
              "          const docLink = document.createElement('div');\n",
              "          docLink.innerHTML = docLinkHtml;\n",
              "          element.appendChild(docLink);\n",
              "        }\n",
              "      </script>\n",
              "    </div>\n",
              "  </div>\n",
              "  "
            ]
          },
          "metadata": {},
          "execution_count": 61
        }
      ]
    },
    {
      "cell_type": "code",
      "source": [
        "# create an empty list to store WCSS values for each k\n",
        "wcss = []\n",
        "\n",
        "# fit k-means models for a range of k values\n",
        "for i in range(1, 11):\n",
        "    kmeans = KMeans(n_clusters=i, init='k-means++', max_iter=300, n_init=10, random_state=0)\n",
        "    kmeans.fit(df_telecom)\n",
        "    wcss.append(kmeans.inertia_)\n",
        "\n",
        "# plot the WCSS values against k\n",
        "plt.plot(range(1, 11), wcss)\n",
        "plt.title('Elbow Method')\n",
        "plt.xlabel('Number of clusters')\n",
        "plt.ylabel('WCSS')\n",
        "plt.show()\n"
      ],
      "metadata": {
        "id": "ddbT40wJ1kNW",
        "colab": {
          "base_uri": "https://localhost:8080/",
          "height": 295
        },
        "outputId": "9f156e10-9278-43e9-e952-fcfe6e81dfa5"
      },
      "execution_count": 62,
      "outputs": [
        {
          "output_type": "display_data",
          "data": {
            "text/plain": [
              "<Figure size 432x288 with 1 Axes>"
            ],
            "image/png": "[encoded data removed]"
          },
          "metadata": {
            "needs_background": "light"
          }
        }
      ]
    },
    {
      "cell_type": "code",
      "source": [
        "# Initialize KMeans object with desired number of clusters\n",
        "kmeans = KMeans(n_clusters=2)\n",
        "\n",
        "# Fit the model to your data\n",
        "kmeans.fit(df_telecom)\n",
        "# kmeans1.fit(features)\n",
        "# Predict the cluster labels for each data point\n",
        "labels = kmeans.predict(df_telecom)\n",
        "# labels1 = kmeans.predict(features)\n",
        "\n",
        "# Get the coordinates of the cluster centroids\n",
        "centroids = kmeans.cluster_centers_\n",
        "# centroids1 = kmeans.cluster_centers_"
      ],
      "metadata": {
        "id": "1USQIKV3FKHu"
      },
      "execution_count": 63,
      "outputs": []
    },
    {
      "cell_type": "code",
      "source": [
        "# Select the features for clustering\n",
        "X = df_telecom[[i for i in df_telecom.columns if i not in target_col]]\n",
        "\n",
        "# Perform k-means clustering with 2 clusters\n",
        "kmeans = KMeans(n_clusters=2, random_state=0)\n",
        "clusters = kmeans.fit_predict(X)\n",
        "\n",
        "# Add the cluster labels to the data\n",
        "df_telecom['Cluster'] = clusters\n"
      ],
      "metadata": {
        "id": "lUYvoeGz2IZ4"
      },
      "execution_count": 64,
      "outputs": []
    },
    {
      "cell_type": "code",
      "source": [
        "kmeans.cluster_centers_"
      ],
      "metadata": {
        "id": "e88QXZsx3qBP",
        "colab": {
          "base_uri": "https://localhost:8080/"
        },
        "outputId": "f5a275b5-3a65-445d-b8e5-e76c87ced968"
      },
      "execution_count": 65,
      "outputs": [
        {
          "output_type": "execute_result",
          "data": {
            "text/plain": [
              "array([[ 9.54545455e-02,  3.71900826e-03,  1.14243764e-02,\n",
              "        -5.86923823e-01,  5.83526002e-03,  1.32191830e-02,\n",
              "         1.00255991e-03,  7.84750047e-03, -9.50992588e-03,\n",
              "        -1.02989999e-02,  5.49519159e-04, -6.77745322e-04,\n",
              "         1.11610837e-02],\n",
              "       [ 1.00766703e-01,  1.00000000e+00,  1.07315165e-02,\n",
              "         1.57642404e+00,  4.29992067e-03, -1.21241767e-02,\n",
              "         3.99233815e-02, -4.37813799e-03,  3.85849646e-03,\n",
              "         2.75917392e-02, -1.10041232e-03,  1.97557483e-02,\n",
              "        -2.89831614e-02]])"
            ]
          },
          "metadata": {},
          "execution_count": 65
        }
      ]
    },
    {
      "cell_type": "code",
      "source": [
        "kmeans.labels_"
      ],
      "metadata": {
        "id": "v3K6dNkX3vOu",
        "colab": {
          "base_uri": "https://localhost:8080/"
        },
        "outputId": "aa3bab2b-b94c-4564-90d8-9e5458a1fd1c"
      },
      "execution_count": 66,
      "outputs": [
        {
          "output_type": "execute_result",
          "data": {
            "text/plain": [
              "array([1, 1, 0, ..., 0, 0, 0], dtype=int32)"
            ]
          },
          "metadata": {},
          "execution_count": 66
        }
      ]
    },
    {
      "cell_type": "code",
      "source": [
        "pd.crosstab(df_telecom['Churn'], kmeans.labels_) #ทำนาย ว่า 0 ตรง 833 แต่ผิดพลาดไป 2017, ทำนายว่า 1 ตรง 403 ผิดไป 80"
      ],
      "metadata": {
        "id": "NuBBrhwr303d",
        "colab": {
          "base_uri": "https://localhost:8080/",
          "height": 143
        },
        "outputId": "7260b85f-3294-4675-85da-73c434b7b180"
      },
      "execution_count": 67,
      "outputs": [
        {
          "output_type": "execute_result",
          "data": {
            "text/plain": [
              "col_0     0    1\n",
              "Churn           \n",
              "0      2017  833\n",
              "1       403   80"
            ],
            "text/html": [
              "\n",
              "  <div id=\"df-dc6b9418-aa41-41a7-8004-1c92590e1132\">\n",
              "    <div class=\"colab-df-container\">\n",
              "      <div>\n",
              "<style scoped>\n",
              "    .dataframe tbody tr th:only-of-type {\n",
              "        vertical-align: middle;\n",
              "    }\n",
              "\n",
              "    .dataframe tbody tr th {\n",
              "        vertical-align: top;\n",
              "    }\n",
              "\n",
              "    .dataframe thead th {\n",
              "        text-align: right;\n",
              "    }\n",
              "</style>\n",
              "<table border=\"1\" class=\"dataframe\">\n",
              "  <thead>\n",
              "    <tr style=\"text-align: right;\">\n",
              "      <th>col_0</th>\n",
              "      <th>0</th>\n",
              "      <th>1</th>\n",
              "    </tr>\n",
              "    <tr>\n",
              "      <th>Churn</th>\n",
              "      <th></th>\n",
              "      <th></th>\n",
              "    </tr>\n",
              "  </thead>\n",
              "  <tbody>\n",
              "    <tr>\n",
              "      <th>0</th>\n",
              "      <td>2017</td>\n",
              "      <td>833</td>\n",
              "    </tr>\n",
              "    <tr>\n",
              "      <th>1</th>\n",
              "      <td>403</td>\n",
              "      <td>80</td>\n",
              "    </tr>\n",
              "  </tbody>\n",
              "</table>\n",
              "</div>\n",
              "      <button class=\"colab-df-convert\" onclick=\"convertToInteractive('df-dc6b9418-aa41-41a7-8004-1c92590e1132')\"\n",
              "              title=\"Convert this dataframe to an interactive table.\"\n",
              "              style=\"display:none;\">\n",
              "        \n",
              "  <svg xmlns=\"http://www.w3.org/2000/svg\" height=\"24px\"viewBox=\"0 0 24 24\"\n",
              "       width=\"24px\">\n",
              "    <path d=\"M0 0h24v24H0V0z\" fill=\"none\"/>\n",
              "    <path d=\"M18.56 5.44l.94 2.06.94-2.06 2.06-.94-2.06-.94-.94-2.06-.94 2.06-2.06.94zm-11 1L8.5 8.5l.94-2.06 2.06-.94-2.06-.94L8.5 2.5l-.94 2.06-2.06.94zm10 10l.94 2.06.94-2.06 2.06-.94-2.06-.94-.94-2.06-.94 2.06-2.06.94z\"/><path d=\"M17.41 7.96l-1.37-1.37c-.4-.4-.92-.59-1.43-.59-.52 0-1.04.2-1.43.59L10.3 9.45l-7.72 7.72c-.78.78-.78 2.05 0 2.83L4 21.41c.39.39.9.59 1.41.59.51 0 1.02-.2 1.41-.59l7.78-7.78 2.81-2.81c.8-.78.8-2.07 0-2.86zM5.41 20L4 18.59l7.72-7.72 1.47 1.35L5.41 20z\"/>\n",
              "  </svg>\n",
              "      </button>\n",
              "      \n",
              "  <style>\n",
              "    .colab-df-container {\n",
              "      display:flex;\n",
              "      flex-wrap:wrap;\n",
              "      gap: 12px;\n",
              "    }\n",
              "\n",
              "    .colab-df-convert {\n",
              "      background-color: #E8F0FE;\n",
              "      border: none;\n",
              "      border-radius: 50%;\n",
              "      cursor: pointer;\n",
              "      display: none;\n",
              "      fill: #1967D2;\n",
              "      height: 32px;\n",
              "      padding: 0 0 0 0;\n",
              "      width: 32px;\n",
              "    }\n",
              "\n",
              "    .colab-df-convert:hover {\n",
              "      background-color: #E2EBFA;\n",
              "      box-shadow: 0px 1px 2px rgba(60, 64, 67, 0.3), 0px 1px 3px 1px rgba(60, 64, 67, 0.15);\n",
              "      fill: #174EA6;\n",
              "    }\n",
              "\n",
              "    [theme=dark] .colab-df-convert {\n",
              "      background-color: #3B4455;\n",
              "      fill: #D2E3FC;\n",
              "    }\n",
              "\n",
              "    [theme=dark] .colab-df-convert:hover {\n",
              "      background-color: #434B5C;\n",
              "      box-shadow: 0px 1px 3px 1px rgba(0, 0, 0, 0.15);\n",
              "      filter: drop-shadow(0px 1px 2px rgba(0, 0, 0, 0.3));\n",
              "      fill: #FFFFFF;\n",
              "    }\n",
              "  </style>\n",
              "\n",
              "      <script>\n",
              "        const buttonEl =\n",
              "          document.querySelector('#df-dc6b9418-aa41-41a7-8004-1c92590e1132 button.colab-df-convert');\n",
              "        buttonEl.style.display =\n",
              "          google.colab.kernel.accessAllowed ? 'block' : 'none';\n",
              "\n",
              "        async function convertToInteractive(key) {\n",
              "          const element = document.querySelector('#df-dc6b9418-aa41-41a7-8004-1c92590e1132');\n",
              "          const dataTable =\n",
              "            await google.colab.kernel.invokeFunction('convertToInteractive',\n",
              "                                                     [key], {});\n",
              "          if (!dataTable) return;\n",
              "\n",
              "          const docLinkHtml = 'Like what you see? Visit the ' +\n",
              "            '<a target=\"_blank\" href=https://colab.research.google.com/notebooks/data_table.ipynb>data table notebook</a>'\n",
              "            + ' to learn more about interactive tables.';\n",
              "          element.innerHTML = '';\n",
              "          dataTable['output_type'] = 'display_data';\n",
              "          await google.colab.output.renderOutput(dataTable, element);\n",
              "          const docLink = document.createElement('div');\n",
              "          docLink.innerHTML = docLinkHtml;\n",
              "          element.appendChild(docLink);\n",
              "        }\n",
              "      </script>\n",
              "    </div>\n",
              "  </div>\n",
              "  "
            ]
          },
          "metadata": {},
          "execution_count": 67
        }
      ]
    },
    {
      "cell_type": "code",
      "source": [
        "df_telecom.columns"
      ],
      "metadata": {
        "id": "e4ClomPU3EsB",
        "colab": {
          "base_uri": "https://localhost:8080/"
        },
        "outputId": "1273898e-2492-4196-efee-0e99b3d7157c"
      },
      "execution_count": 68,
      "outputs": [
        {
          "output_type": "execute_result",
          "data": {
            "text/plain": [
              "Index(['International plan', 'Voice mail plan', 'Churn', 'Account length',\n",
              "       'Number vmail messages', 'Total day minutes', 'Total day calls',\n",
              "       'Total eve minutes', 'Total eve calls', 'Total night minutes',\n",
              "       'Total night calls', 'Total intl minutes', 'Total intl calls',\n",
              "       'Customer service calls', 'Cluster'],\n",
              "      dtype='object')"
            ]
          },
          "metadata": {},
          "execution_count": 68
        }
      ]
    },
    {
      "cell_type": "code",
      "source": [
        "import seaborn as sns\n",
        "\n",
        "# Select the features to plot\n",
        "x_feature = df_telecom['Total day minutes']\n",
        "y_feature = df_telecom['Total night minutes']\n",
        "\n",
        "# Plot the clusters using the selected features\n",
        "sns.scatterplot(x=x_feature, y=y_feature, hue='Cluster', data=df_telecom)\n"
      ],
      "metadata": {
        "id": "sF3gk2ko3K6L",
        "colab": {
          "base_uri": "https://localhost:8080/",
          "height": 296
        },
        "outputId": "50b368fa-7c0b-48f2-97e8-b15b08c534b6"
      },
      "execution_count": 69,
      "outputs": [
        {
          "output_type": "execute_result",
          "data": {
            "text/plain": [
              "<Axes: xlabel='Total day minutes', ylabel='Total night minutes'>"
            ]
          },
          "metadata": {},
          "execution_count": 69
        },
        {
          "output_type": "display_data",
          "data": {
            "text/plain": [
              "<Figure size 432x288 with 1 Axes>"
            ],
            "image/png": "[encoded data removed]"
          },
          "metadata": {
            "needs_background": "light"
          }
        }
      ]
    },
    {
      "cell_type": "code",
      "source": [
        "import plotly.express as px\n",
        "\n",
        "fig = px.scatter_3d(df_telecom, x='Total day minutes', y='Total eve minutes', z='Total night minutes',color='Cluster', symbol='Churn', opacity=0.7)\n",
        "\n",
        "fig.update_layout(scene=dict(xaxis_title='Total day minutes',\n",
        "                             yaxis_title='Total eve minutes',\n",
        "                             zaxis_title='Total night minutes'))\n",
        "\n",
        "fig.show()\n"
      ],
      "metadata": {
        "id": "CvMbe2dzevoq",
        "colab": {
          "base_uri": "https://localhost:8080/",
          "height": 542
        },
        "outputId": "55b4bfae-217a-4691-dad2-58427e4dad8b"
      },
      "execution_count": 70,
      "outputs": [
        {
          "output_type": "display_data",
          "data": {
            "text/html": [
              "<html>\n",
              "<head><meta charset=\"utf-8\" /></head>\n",
              "<body>\n",
              "    <div>            <script src=\"https://cdnjs.cloudflare.com/ajax/libs/mathjax/2.7.5/MathJax.js?config=TeX-AMS-MML_SVG\"></script><script type=\"text/javascript\">if (window.MathJax && window.MathJax.Hub && window.MathJax.Hub.Config) {window.MathJax.Hub.Config({SVG: {font: \"STIX-Web\"}});}</script>                <script type=\"text/javascript\">window.PlotlyConfig = {MathJaxConfig: 'local'};</script>\n",
              "        <script src=\"https://cdn.plot.ly/plotly-2.18.2.min.js\"></script>                <div id=\"baf1711c-c1c9-4f92-ae3b-5b0fd3d36def\" class=\"plotly-graph-div\" style=\"height:525px; width:100%;\"></div>            <script type=\"text/javascript\">                                    window.PLOTLYENV=window.PLOTLYENV || {};                                    if (document.getElementById(\"baf1711c-c1c9-4f92-ae3b-5b0fd3d36def\")) {                    Plotly.newPlot(                        \"baf1711c-c1c9-4f92-ae3b-5b0fd3d36def\",                        [{\"hovertemplate\":\"Churn=0<br>Total day minutes=%{x}<br>Total eve minutes=%{y}<br>Total night minutes=%{z}<br>Cluster=%{marker.color}<extra></extra>\",\"legendgroup\":\"0\",\"marker\":{\"color\":[1,1,0,0,0,0,1,0,1,0,0,0,0,1,0,1,0,0,0,0,0,1,0,0,0,0,0,1,1,0,1,0,0,0,0,0,1,0,1,0,0,0,0,0,0,0,1,1,0,1,0,0,0,0,1,0,0,0,0,0,0,1,1,0,1,0,0,0,0,0,0,1,0,0,0,1,0,0,0,0,0,0,1,0,1,0,0,0,0,0,1,0,0,0,0,0,1,0,1,1,0,1,1,0,0,0,1,0,0,0,0,1,1,0,0,1,0,0,1,1,0,1,0,0,0,0,0,0,1,1,0,0,0,0,0,0,0,0,0,0,1,1,0,0,1,0,0,0,0,1,0,0,0,0,1,1,0,0,0,0,0,1,0,0,0,1,1,1,0,0,0,1,0,0,0,0,0,0,1,0,0,0,0,0,0,0,1,0,0,1,1,0,0,0,0,1,0,1,0,1,0,1,1,0,0,0,0,0,0,1,0,0,0,0,0,0,0,0,0,0,1,0,0,0,0,1,1,1,0,1,0,0,0,1,1,0,0,0,0,0,1,0,0,0,0,1,1,1,0,1,0,1,0,1,0,0,0,1,1,1,1,0,0,0,0,0,0,0,0,0,0,0,0,0,0,1,0,0,0,0,0,0,0,0,1,0,1,0,0,0,0,0,0,0,0,0,0,1,0,1,0,0,1,0,1,0,0,0,0,1,1,0,0,1,0,1,0,0,0,0,0,1,0,1,0,0,0,1,0,1,0,0,0,0,0,1,0,0,0,0,0,0,1,0,0,0,0,0,1,0,0,1,1,0,0,1,1,1,0,0,1,1,0,0,0,0,1,0,0,0,0,0,1,0,1,1,0,1,1,0,1,1,1,1,0,0,1,0,1,0,1,1,0,1,0,0,0,0,1,0,1,1,0,0,1,1,1,0,0,0,0,0,0,0,1,0,1,0,0,1,0,0,0,0,0,0,0,1,1,0,0,0,0,0,0,0,0,0,1,1,0,1,1,1,0,0,0,0,1,1,0,1,0,0,1,1,0,0,0,0,0,0,1,0,0,1,0,0,0,0,0,1,1,0,0,0,0,0,0,0,0,0,0,1,0,0,0,1,0,0,0,0,1,1,0,0,0,1,0,0,1,0,0,0,0,1,1,0,0,0,1,0,1,0,0,1,0,0,0,1,1,1,0,0,0,0,1,0,0,0,1,0,1,0,0,0,0,0,1,1,1,0,0,0,0,0,0,0,0,0,0,1,1,1,1,0,0,0,0,0,0,1,1,1,0,0,0,0,0,0,1,0,0,1,0,0,0,0,0,0,0,0,1,1,1,1,0,0,0,0,1,0,0,0,0,0,0,0,1,0,0,0,0,0,1,0,0,0,1,0,0,1,0,0,0,0,0,0,0,0,1,1,0,0,0,0,0,0,1,0,1,0,0,1,0,1,1,0,1,0,0,0,0,0,0,0,0,0,0,1,1,0,0,0,0,0,1,0,0,0,0,0,0,0,0,0,0,0,1,0,0,0,1,1,0,0,0,0,0,0,1,0,0,1,1,0,0,1,0,0,1,1,0,1,0,0,0,0,0,1,1,0,0,1,0,0,0,0,0,0,0,1,0,0,0,1,0,0,0,0,1,0,0,0,1,1,0,0,0,0,0,1,0,0,0,0,1,0,0,0,1,0,1,1,1,0,0,0,0,1,0,0,0,0,1,0,0,0,0,1,0,0,0,0,0,0,1,0,0,1,0,0,0,0,0,0,0,1,0,0,1,0,1,1,0,1,1,0,1,1,0,0,1,0,0,1,1,0,0,1,0,0,0,1,0,0,1,1,1,0,0,0,0,0,1,1,0,0,1,1,0,1,1,0,0,1,1,1,0,0,0,0,0,0,1,1,1,1,1,0,0,0,0,0,0,0,1,0,0,0,0,0,1,1,0,0,0,0,1,0,0,1,0,0,0,0,0,0,0,0,0,0,0,1,0,0,0,1,0,0,1,1,0,0,0,0,1,1,0,0,0,0,1,0,0,0,1,1,0,0,0,0,0,0,0,0,0,0,0,0,1,0,0,1,0,0,0,0,0,1,0,1,0,0,0,1,0,0,0,1,0,1,0,0,1,0,0,0,0,1,0,0,0,0,0,1,1,1,1,0,1,1,0,0,1,0,0,0,0,1,0,1,0,1,0,0,0,0,1,0,1,0,0,1,0,0,0,1,0,1,1,1,0,0,0,1,1,1,1,1,0,0,0,1,0,0,0,0,0,0,0,1,0,1,0,1,0,0,0,0,0,0,0,0,0,0,1,1,1,0,0,0,0,0,1,0,1,0,0,0,0,1,0,0,0,0,0,0,1,0,0,0,0,1,0,0,0,0,1,0,0,1,0,0,0,0,0,1,0,0,0,0,1,0,0,0,0,0,1,0,0,1,0,0,0,0,0,0,1,1,1,0,0,1,0,1,0,1,1,0,0,0,1,1,1,0,0,0,1,1,1,0,1,0,0,0,0,0,1,1,0,1,1,1,0,1,0,0,1,0,0,0,0,0,1,1,0,0,0,1,0,0,0,0,0,0,0,0,1,0,0,0,0,0,0,0,1,1,1,0,1,0,0,1,0,1,1,1,0,0,1,1,0,0,0,0,0,0,0,1,0,0,0,0,1,1,0,0,0,0,0,1,1,0,1,0,0,0,1,0,0,0,0,0,0,1,1,0,1,0,0,0,1,1,0,0,0,1,0,0,0,1,1,0,0,1,0,1,0,1,1,0,0,0,1,0,1,1,0,1,1,1,1,0,0,0,1,0,1,0,0,0,1,0,0,0,0,0,0,0,0,0,0,0,0,0,1,1,0,0,0,1,0,1,0,0,1,1,1,0,1,0,1,1,0,1,0,0,0,0,0,0,0,0,0,1,0,0,0,0,0,0,0,0,0,1,1,0,0,0,0,0,1,0,0,0,1,1,1,0,0,0,1,0,0,0,0,0,0,0,0,0,0,0,0,0,0,0,1,1,0,0,0,0,1,0,0,0,0,0,0,0,1,0,0,1,0,0,0,0,0,0,1,0,1,0,1,0,0,0,0,1,0,0,0,0,0,0,0,0,1,0,0,0,0,0,0,0,0,0,1,0,1,0,0,0,0,0,0,0,1,1,0,1,0,0,0,0,1,0,0,0,0,1,1,1,1,0,1,0,0,0,1,1,0,0,0,0,0,1,0,1,1,0,0,0,0,1,0,0,0,0,0,0,0,1,0,0,0,0,0,1,0,1,0,0,0,0,0,1,0,0,0,1,0,0,1,0,0,0,0,0,1,1,0,0,0,0,0,0,0,0,0,1,1,0,1,0,1,0,0,0,0,0,0,1,0,0,0,0,1,0,1,0,0,0,0,0,1,0,0,0,0,0,0,0,0,0,0,0,0,0,0,1,0,1,1,0,1,0,0,1,0,1,1,0,0,0,0,0,0,0,0,0,0,0,1,1,0,0,1,1,0,0,1,0,0,0,0,0,0,1,0,1,0,1,0,0,0,1,0,0,0,0,0,0,0,0,0,1,0,0,1,1,1,1,1,0,1,1,1,1,0,0,0,1,0,0,0,0,0,1,1,0,0,0,1,0,0,0,1,0,0,0,0,0,1,0,0,0,1,0,0,0,1,0,0,1,0,0,0,0,1,0,1,0,0,0,0,0,1,0,0,0,1,0,0,0,0,0,0,0,0,0,0,0,0,1,0,0,0,0,1,1,1,0,0,0,0,0,0,0,0,0,0,1,0,1,0,0,1,0,1,0,0,0,0,1,0,0,0,0,0,0,0,0,0,0,0,0,1,1,0,0,1,1,1,0,0,1,0,0,0,1,0,0,0,0,0,1,0,1,0,0,0,1,0,1,0,0,1,1,0,0,1,0,0,0,1,1,0,0,0,0,0,0,1,0,0,1,0,0,0,0,0,0,1,0,0,1,0,0,1,0,0,0,0,0,0,0,0,0,0,0,0,1,0,1,0,0,0,1,0,0,0,0,0,0,0,0,0,1,0,0,0,0,0,0,1,0,0,1,0,0,0,0,0,0,0,0,1,1,0,0,0,1,1,0,0,1,1,0,0,0,0,0,1,1,1,0,0,0,0,1,1,0,0,0,1,1,1,1,0,1,0,0,0,0,1,0,0,0,0,0,0,0,0,1,1,0,0,0,0,0,0,0,1,0,0,0,0,1,0,0,0,0,0,1,0,0,0,1,0,0,0,0,0,1,0,0,1,1,1,1,0,0,0,1,0,0,0,0,0,1,0,1,1,0,0,0,0,1,0,0,0,0,0,1,0,0,0,0,1,1,0,0,1,0,1,1,1,0,0,0,0,0,1,0,0,1,1,0,0,1,0,0,0,0,0,0,0,0,0,0,0,1,0,0,0,0,1,0,0,1,0,0,0,1,0,0,0,0,0,1,0,1,1,0,0,0,1,0,0,0,0,0,1,0,0,0,1,1,1,0,0,1,0,0,0,1,0,0,1,0,1,0,0,1,0,0,1,1,0,0,0,0,1,1,0,0,1,0,0,0,0,0,0,0,0,0,0,0,1,0,0,0,0,0,0,0,1,0,1,1,0,0,0,0,1,0,0,0,1,0,0,0,0,0,0,0,0,1,0,1,0,1,1,0,0,0,0,0,0,0,1,0,0,0,0,1,0,0,1,1,0,1,1,1,0,1,0,0,0,1,0,0,1,0,0,0,0,0,0,0,0,0,0,0,0,0,0,1,0,0,1,1,1,0,1,1,1,1,0,1,0,1,0,0,0,0,0,0,0,0,1,1,0,0,0,1,1,0,0,0,0,1,0,1,1,0,1,0,1,1,0,0,1,0,1,0,0,1,1,0,1,1,0,0,0,0,0,0,1,0,0,0,0,0,0,1,0,0,0,1,0,1,0,0,0,0,0,1,1,0,0,0,0,0,0,0,0,1,1,0,0,1,0,1,0,0,0,0,1,0,0,1,1,1,1,1,1,1,0,1,1,0,1,0,1,0,0,0,0,0,0,1,0,0,0,0,0,0,0,1,0,0,0,0,0,0,1,0,1,0,1,1,0,0,0,0,0,0,1,0,0,1,0,1,0,0,0,0,0,0,0,0,1,1,0,0,0,0,0,0,1,0,0,1,0,0,0,1,0,0,0,1,0,0,1,0,0,0,1,1,0,0,0,0,0,0,0,0,0,1,0,0,0,0,0,0,0,0,1,0,0,1,1,1,0,0,1,0,0,0,1,1,0,1,0,0,0,0,0,1,0,0,0,1,0,0,0,1,0,0,0,0,1,0,0,1,0,0,1,1,1,0,0,0,1,1,0,0,1,0,0,1,0,1,0,0,1,1,0,0,0,1,0,0,1,0,1,0,0,0,1,1,0,1,0,1,1,0,0,0,0,0,0,0,1,0,1,0,0,0,1,0,0,1,1,0,0,1,1,0,0,1,1,1,0,0,1,0,0,0,1,1,1,0,1,0,1,0,0,1,0,0,0,0,0,0,1,0,1,0,1,1,0,0,0,1,0,1,0,0,0,0,0,0,0,0,0,0,0,0,0,1,0,0,1,0,0,0,0,0,1,0,0,0,0,0,0,1,0,1,0,0,0,0,0,0,0,0,0,0,1,1,1,0,0,1,0,1,0,0,0,0,0,1,0,0,0,0,1,1,0,0,0,0,0,0,0,1,0,1,0,0,0,0,0,0,0,0,0,0,0,1,0,0,1,0,0,0,1,1,0,1,0,1,0,0,1,0,0,0,0,0,0,0,0,1,0,1,0,1,0,0,0,1,1,0,0,0,1,0,0,0,0,0,1,1,1,1,0,1,1,0,0,0,0,0,0,1,0,0,1,0,0,0,1,0,0,0,0,0,0,1,1,0,1,0,1,1,1,1,0,1,0,1,0,1,0,0,0,1,0,0,0,1,0,0,1,0,1,1,1,0,0,0,0,0,0,0,1,1,0,0,0,0,0,0,1,0,0,1,1,0,0,0,1,0,0,0,1,0,0,0,0,1,0,1,0,0,0,1,0,1,1,0,0,0,0,0,1,0,0,0,1,0,1,0,1,1,0,0,0,0,1,0,0,0,0,0,1,0,0,0,0,0,0,0,0,1,1,1,0,1,0,0,0,0,0,0,0,0,0,0,1,1,0,0,0,0,0,1,0,0,0,0,1,0,1,1,1,0,0,0,1,0,0,0,0,0,0,0,0,1,0,1,1,1,0,1,0,0,0,0,0,0,1,0,0,0,0,1,0,1,0,0,0,0,0,1,1,0,0,1,1,0,0,0,0,0,0,0,0,0,0,1,0,0,0,0,0,1,0,0,1,0,0,0,0,0,1,0,0,0,1,0,1,0,1,0,1,0,0,0,0,0,0,0,1,0,0,1,0,1,0,1,1,0,0,1,0,0,0,1,1,0,0,0],\"coloraxis\":\"coloraxis\",\"opacity\":0.7,\"symbol\":\"circle\"},\"mode\":\"markers\",\"name\":\"0\",\"scene\":\"scene\",\"showlegend\":true,\"x\":[1.5796695875462738,-0.32991808608894013,1.1793019303686492,2.212508787601228,-0.2358224615909732,0.8102994813570136,0.7143588446139881,-0.4147886493616162,1.4597437916174922,0.15163010987124403,-0.9350821024680219,-0.422168698341849,-1.0845280943177344,0.3121461751913058,0.20698047722298935,0.18853035477240757,0.8287496038075954,-0.44984388201772163,0.0649145343535099,-1.8151529433607727,-1.0181076534956401,0.6184182078709631,-0.8336064289898222,0.1940653915075823,-1.7468874902936202,0.8601148119735842,0.5999680854203813,-0.04947622484009687,0.7475690650250355,-0.8981818575668584,0.4505220935706691,-0.7210606820412735,-0.9812074085944766,-1.0088825922703493,-1.7284373678430385,-0.4701390167133615,-1.080838069827618,0.138715024155837,-0.8539015636854626,0.22912062416368778,0.7586391384953844,-0.3557482575197547,-0.0734613840258534,-0.9701373351241275,0.9191552038154461,0.23281064865380394,1.64424501612331,0.02247925271717162,-0.8908018085866262,-0.578994739171794,1.3287479222183614,-1.0015025432901166,0.5925880364401485,1.1497817344477184,0.8379746650328863,1.275242567111674,0.44129703234537815,-0.4129436371165581,-0.17124703301393698,0.3988617507090399,0.6626985017523594,-0.256117596286613,1.2918476773171979,0.6424033670567196,-0.46829400446830344,-0.6564852534642373,-1.0181076534956401,1.3545780936491758,-0.007040943203759113,1.8250562161390105,0.34535639560235265,-0.33729813506917294,-0.5125742983496998,-0.16571199627876226,1.0815162813805654,-1.1361884371793634,0.9283802650407371,-0.267187669756962,0.10181477925467344,-0.3409881595592891,-0.9738273596142438,-0.3114679636383584,-1.213678951471807,0.5667578650093339,0.6331783058314288,0.20698047722298935,-0.15833194729852942,-0.4664489922232454,0.40439678744421464,-1.619581645384606,0.640558354811661,-0.6269650575433066,0.950520411981435,0.3841016527485748,0.3232162486616547,-0.9147869677723821,-0.06792634729067865,0.4357619956102034,0.06860455884362605,0.4708172282663089,-0.5716146901915612,0.3841016527485748,0.2420357098790948,1.2364973099654524,0.9671255221869587,1.6977503712299968,1.443138681411968,0.2641758568197933,0.8582697997285261,1.4929540120285387,-0.014420992183991926,-0.4037185758912672,-0.6896954738752847,-0.7967061840886587,0.6940637099183482,0.14794008538112788,-1.486740763740417,0.4948023874520654,1.1737668936334744,0.19037536701746616,0.4154668609145636,-0.17309204525899508,1.0630661589299837,0.7328089670645699,1.349043056914001,-0.5974448616223759,-0.11036162892701694,0.9708155466770748,0.3250612609067128,-1.1786237188157016,0.1221099139503133,1.4837289508032478,0.6424033670567196,-0.3834234411956274,-0.3483682085395219,0.9763505834122496,-0.842831490215113,-0.0476312125950388,0.5612228282741597,-0.7745660371479608,2.0298525753404686,0.3435113833572946,-0.5494745432508633,-1.7800977107046674,-0.6232750330531904,0.05199944863810287,0.7106688201238719,-0.7173706575511574,-0.494124175899118,-1.3428298086258792,0.2752459302901422,0.6350233180764868,0.6959087221634063,0.4431420445904362,-0.44799886977266357,-0.21921735138544948,-0.0033509187136424434,-0.518109335084874,0.009564167001764587,0.8029194323767808,0.07598460782385887,-0.24873754730638023,-0.5568545922310956,-2.1048198658349064,0.5058724609224143,0.12395492619537136,1.858266436550058,0.3601164935628183,0.4357619956102034,-0.19707720444475105,-0.11774167790724975,0.4265369343849125,-1.9369237515346125,0.234655660898862,0.7512590895151516,1.3638031548744667,0.8398196772779444,-1.276409367803785,-2.204450527068048,0.6516284282820105,0.5243225833729962,0.5077174731674724,-0.6601752779543539,-0.7542709024523209,-1.7487325025386782,-0.44799886977266357,-0.2690326820020201,-0.829916404499706,-0.6675553269345863,0.49295737520700683,0.85457977523841,-0.7598059391874951,-0.3594382820098709,0.5003374241872396,-0.8262263800095899,0.6442483793017777,0.2457257343692115,-0.5236443718200487,0.7272739303293957,0.24388072212415288,0.45974715479595996,0.5944330486852065,0.7770892609459662,0.3398213588671784,0.49664739969712346,0.4874223384718326,0.5187875466378215,-1.475670690270068,-0.04394118810492266,-0.12512172688748255,0.4560571303058433,-1.7302823800880964,-0.4037185758912672,0.6645435139974175,-0.14357184933806433,-0.3963385269110344,-1.6140466086494314,1.0058707793331803,0.2752459302901422,0.880409946669224,1.0483060609695185,0.48188730173665784,-1.5753013515032097,-1.0015025432901166,-2.197070478087815,-1.07899305758256,-1.1380334494244218,0.9763505834122496,-0.05870128606538776,-1.0015025432901166,-0.7524258902072628,-1.7192123066177476,0.5077174731674724,-2.2265906740087464,1.1018114160762054,0.3472014078474112,0.474507252756425,0.23281064865380394,-0.18231710648428595,0.4025517751991565,0.6497834160369519,-0.18969715546451876,0.26971089355496747,0.8416646895230024,0.0815196445590336,0.7807792854360829,-2.119579963795372,-0.45906894324301256,1.4892639875384226,-0.32991808608894013,0.7586391384953844,-0.435083784057256,0.05568947312821902,0.7494140772700936,-0.5033492371244089,0.03723935067763725,-0.24689253506132217,-0.8354514412348808,-0.5494745432508633,-0.5420944942706305,-0.6970755228555175,-0.3170030003735326,0.25495079559450234,-1.8686582984674598,-1.7727176617244345,0.29738607723084015,0.3232162486616547,-0.27087769424707814,-0.00519593095870104,-0.16571199627876226,0.48373231398171596,0.7660191874756173,1.1553167711828924,-0.5144193105947579,-0.060546298310446355,0.30476612621107296,-0.36866334323516176,0.9357603140209694,-0.6048249106026087,-1.4295453841436137,-0.9867424453296512,-0.20445725342498386,0.4984924119421816,0.6940637099183482,1.823211203893953,0.03723935067763725,-1.07899305758256,0.7678641997206753,0.7992294078866646,0.07229458333374272,1.5649094895858082,-0.6177399963180157,-0.9627572861438949,0.1553201343613607,-0.01257597993893333,1.4209985344712701,-0.18416211872934402,-0.686005449385168,0.08520966904914976,0.5058724609224143,1.4837289508032478,0.44867708132561096,1.2789325916017908,-1.0531628861517455,-1.3760400290369263,-1.1085132535034907,-0.021801041164224214,1.1793019303686492,-0.45168889426277975,2.015092477380003,1.1239515630169037,0.19960042824275706,-0.45168889426277975,1.7328056038861017,-0.446153857527605,-0.8557465759305206,1.2420323467006271,-0.2598076207767292,-0.7598059391874951,1.9781922324788395,-1.1472585106497126,0.8490447385032353,-0.363128306499987,0.20513546497793128,0.08336465680409168,1.5187841834593538,-0.8446765024601717,0.25864082008461853,-0.16755700852382033,0.2752459302901422,1.1221065507718457,-1.9276986903093216,-2.036554412767754,-0.5716146901915612,1.4505187303922014,-0.5494745432508633,-0.5476295310058047,0.20144544048781513,0.03539433843257917,-0.4387738085473727,-0.5457845187607466,0.7900043466613738,-0.5550095799860375,0.4560571303058433,1.1700768691433583,-0.5365594575354558,1.736495628376219,-0.4313937595671399,-0.014420992183991926,-0.03656113912468984,-0.07899642076102813,1.3269029099733032,0.6959087221634063,0.4948023874520654,-0.3723533677252779,-0.6712453514247029,0.1313349751756042,-1.0236426902308147,0.3472014078474112,-0.12327671464242397,0.699598746653523,-1.5845264127285006,-1.4996558494558243,-0.20814727791510054,0.4320719711200873,1.5114041344791205,1.369338191609641,-2.4812023638267746,-2.4369220699453784,0.8840999711593407,-1.0088825922703493,-2.047624486238103,-0.29486285343283464,-0.30408791465812557,0.6313332935863701,0.4025517751991565,-2.4184719474947967,-0.15279691056335523,-0.23951248608108935,-1.3225346739302395,-0.7044555718357498,-0.9221670167526149,-1.4646006167997192,1.0630661589299837,-1.8686582984674598,-0.5679246657014451,0.27893595478025834,-0.36866334323516176,0.2770909425352003,-0.8797317351162767,-0.6029798983575501,0.3914817017288071,-0.6251200452982485,0.9210002160605042,0.5815179629697995,0.6737685752227084,2.0944280039175047,0.03723935067763725,-1.9406137760247288,-2.16201524543171,0.9062401181000386,2.4062350733323363,0.4136218486695055,-0.5476295310058047,0.07967463231397554,0.13317998742066225,0.806609456866897,-0.28194776771742763,-0.5347144452903977,-2.2911661025857826,0.7807792854360829,-0.18231710648428595,0.7272739303293957,-0.05870128606538776,0.5114074976575886,0.48373231398171596,-0.518109335084874,-0.4055635881363253,-0.37788840446045263,0.638713342566603,-1.4184753106732646,0.4302269588750292,-2.2505758331945027,-0.7376657922467972,0.15347512211630263,0.26233084457473466,-0.42585872283196513,1.1128814895465549,-0.13803681260288958,0.29369605274072397,0.2180505506933388,-1.0531628861517455,-0.33360811057905626,-0.6509502167290631,1.4154634977360954,-1.2321290739223887,0.282625979270375,-1.4516855310843118,-1.7893227719299583,-0.6103599473377829,-0.02918109014445703,-0.4793640779386524,0.01140917924682266,1.58335961203639,-0.9387721269581386,-0.26165263302178726,0.28631600376049116,0.6331783058314288,0.48004228949159977,1.3545780936491758,0.23096563640874584,-2.036554412767754,1.0335459630090529,0.6257982568511959,1.5556844283605173,0.07229458333374272,1.1626968201631254,-0.5254893840651068,-0.7634959636776117,0.5852079874599156,0.3250612609067128,0.47635226500148364,0.04277438741281199,1.3379729834436522,0.9542104364715511,0.3804116282584581,-0.07715140851596954,-1.0033475555351747,1.1387116609773689,0.6940637099183482,0.29369605274072397,1.4246885589613862,-2.7413490903799778,0.14609507313606981,1.8084511059334873,-0.5955998493773178,0.11657487721513908,-1.5107259229261736,0.48926735071689065,0.688528673183174,-1.4055602249578574,-0.7395108044918552,0.21620553844828022,-0.3594382820098709,0.7789342731910243,-2.150945171961361,0.6663885262424756,-0.26165263302178726,0.4376070078552615,0.2918510404956659,-0.6601752779543539,-1.2007638657563995,-0.06608133504562057,1.0150958405584711,0.5759829262346248,0.05199944863810287,0.19960042824275706,-0.04394118810492266,0.6663885262424756,-0.7764110493930189,0.2457257343692115,-0.5568545922310956,-0.6601752779543539,0.5114074976575886,2.2309589100518097,0.9246902405506204,0.14794008538112788,-2.2579558821747354,-0.36866334323516176,0.20698047722298935,0.9431403630012022,-2.6841537107831743,0.25679580783956046,0.4154668609145636,0.22543059967357112,-0.3354531228241143,-0.5328694330453396,0.09443473027444063,0.7604841507404425,-0.4701390167133615,-1.077148045337502,0.0483094241479862,0.5612228282741597,-0.22106236363050757,0.6350233180764868,-1.1749336943255853,-0.0015059064685843712,0.14425006089101172,0.40070676295409796,0.1866853425273495,-0.4793640779386524,0.14978509762618594,1.2069771140445218,0.9486753997363769,0.14056003640089507,-0.1620219717886461,0.18484033028229144,-0.339143147314231,1.3822532773250487,-0.9553772371636621,-0.16571199627876226,1.7346506161311603,-0.3243830493537654,-2.152790184206419,0.8988600691198058,0.5593778160291016,0.6534734405270686,-1.2727193433136685,-1.2302840616773305,0.14425006089101172,0.3232162486616547,0.016944215981997402,0.3250612609067128,-0.47567405344853625,1.509559122234063,1.2309622732302776,0.2125155139581641,0.531702632353229,1.356423105894234,0.42100189764973833,-0.09375651872149324,-0.9664473106340112,-0.6638653024444701,0.1368700119107789,1.0206308772936459,-1.0291777269659892,-0.10298157994678411,0.8933250323846316,-1.5494711800723953,-0.6122049595828409,0.08336465680409168,-1.359434918831403,-0.02733607789939896,-0.5550095799860375,0.5519977670488688,-0.13619180035783152,-0.18785214321946017,0.27155590580002553,0.35642646907270215,0.4191568854046797,-1.901868518878507,-1.9701339719456596,0.5704478894994506,-0.964602298388953,0.41177683642444746,0.7383440037997446,-1.4793607147601846,1.1018114160762054,-1.080838069827618,0.8342846405427696,-0.05316624933021354,1.0722912201552746,0.3490464200924693,1.749410714091626,0.7051337833886971,-0.8262263800095899,1.417308509981154,-0.060546298310446355,0.4708172282663089,-0.00519593095870104,-0.5550095799860375,0.5187875466378215,-0.2598076207767292,0.5593778160291016,0.7494140772700936,-0.7044555718357498,0.31399118743636384,-1.3741950167918684,0.5021824364322977,-0.2339774493459146,0.46897221602125083,-0.45906894324301256,-0.9682923228790693,1.622104869182611,1.8730265345105237,-0.15279691056335523,-1.0217976779857565,-0.3077779391482417,-0.6122049595828409,1.3896333263052814,1.3914783385503395,-1.3243796861752974,-0.38157842895056876,0.06306952210845183,0.3508914323375274,-1.2653392943334358,-0.26165263302178726,-0.9738273596142438,0.6719235629776503,-0.7265957187764482,-0.7321307555116224,-0.23766747383603126,0.640558354811661,-1.1324984126892472,0.19775541599769847,-1.7948578086651328,-0.2893278166976599,-0.363128306499987,0.6424033670567196,-1.444305482104079,-1.4147852861831482,-1.2985495147444832,0.6719235629776503,0.44129703234537815,-1.2800993922939015,-1.2634942820883777,1.1147265017916128,-1.757957563763969,0.5464627303136941,-0.911096943282266,-0.06792634729067865,1.1516267466927763,-0.7893261351084264,0.38594666499363284,-0.9461521759383714,0.8638048364637009,-0.3170030003735326,-1.0882181188078508,-1.6306517188549552,-0.19707720444475105,0.8619598242186423,0.22912062416368778,0.009564167001764587,-0.3649733187450456,1.0649111711750419,-1.411095261693032,0.47266224051136696,-0.5439395065156886,0.9763505834122496,-0.2598076207767292,0.3638065180529344,0.7032887711436391,-0.4701390167133615,0.2641758568197933,-0.07530639627091146,0.9357603140209694,0.19775541599769847,-0.056856273820329685,0.9080851303450967,-0.6546402412191792,-0.8040862330688915,-0.9037168943020332,-1.3668149678116355,-1.2487341841279123,-0.37604339221539457,0.6073481344006141,-0.686005449385168,-1.2099889269816904,-0.14910688607323855,1.7697058487872652,0.32690627315177084,-1.619581645384606,-0.9812074085944766,1.3287479222183614,0.20513546497793128,-1.1693986575904107,-0.0015059064685843712,0.5206325588828795,-0.9996575310450584,-0.7634959636776117,0.4025517751991565,0.20144544048781513,-0.6675553269345863,-1.5144159474162897,0.03539433843257917,-0.6657103146895281,-1.3760400290369263,-1.193383816776167,0.9781955956573076,-0.662020290199412,-0.05132123708515547,-0.6361901187685974,-0.23213243710085651,-0.6823154248950519,-0.8575915881755787,-1.5586962412976861,0.7992294078866646,-0.6122049595828409,1.0206308772936459,0.35273644458258546,-0.6804704126499939,-0.8354514412348808,-1.0457828371715128,0.18115030579217528,1.1239515630169037,-1.5863714249735588,-0.38526845344068544,0.7641741752305592,-0.6472601922389464,0.605503122155556,-0.5992898738674339,-1.5365560943569878,1.548304379380284,-3.0808313434706824,-0.3170030003735326,0.07598460782385887,-1.0420928126813964,0.5261675956180543,1.1018114160762054,0.24941575885932762,-1.1583285841200615,-1.5808363882383842,-0.46829400446830344,1.10734645281138,0.6737685752227084,0.14609507313606981,-0.22290737587556564,-0.35205823302963807,-0.6694003391796448,0.7309639548195118,0.9837306323924824,-0.3225380371087073,0.5612228282741597,0.22174057518345497,2.0593727712614,1.4099284610009213,1.3508880691590592,-0.8741966983811024,0.6922186976732901,-1.4313903963886718,0.5907430241950904,-0.48120909018371044,-0.24320251057120548,0.1055048037447896,-1.381575065772101,1.7512557263366835,1.8527313998148833,0.14240504864595313,1.7844659467477308,0.38594666499363284,-0.3170030003735326,-0.25796260853167113,0.2032904527328732,1.0409260119892858,-0.6435701677488302,-1.4479955065941954,0.4948023874520654,-0.26534265751190395,-0.446153857527605,0.531702632353229,-0.8852667718514514,-0.686005449385168,-1.693382135186933,-0.09191150647643516,-1.4055602249578574,1.2383423222105105,-1.8631232617322853,0.49295737520700683,1.3305929344634193,-0.422168698341849,-0.7395108044918552,0.7512590895151516,0.638713342566603,0.30476612621107296,-0.04025116361480599,1.526164232439586,0.6959087221634063,0.5538427792939269,-1.5513161923174532,0.6479384037918938,-0.20445725342498386,-0.6103599473377829,0.0649145343535099,-1.2413541351476796,-0.1620219717886461,-0.1288117513775987,0.27340091804508415,0.15347512211630263,2.3545747304707083,-1.1306534004441888,-0.4701390167133615,-0.4424638330374888,-0.3981835391560925,0.44129703234537815,-1.599286510688966,0.688528673183174,0.2531057833494438,-1.2229040126970978,-0.24504752281626407,1.526164232439586,0.522477571127938,1.2162021752698127,0.2365006731439206,0.27155590580002553,0.5815179629697995,-0.6933854983654009,0.7567941262503264,-0.6638653024444701,-0.43323877181219794,-0.3575932697648128,0.1645451955866516,0.282625979270375,1.2604824691512089,0.7697092119657334,-1.1251183637090145,0.9652805099419006,0.6719235629776503,0.6940637099183482,0.07044957108868465,0.2641758568197933,0.2198955629383969,1.766015824297149,-0.10113656770172605,-0.267187669756962,0.9080851303450967,-1.320689661685181,1.2936926895622558,-0.016266004429049997,-0.7468908534720881,-0.8336064289898222,-0.019956028919166143,-0.1620219717886461,0.09258971802938257,-0.33729813506917294,-1.7450424780485618,0.7088238078788138,-0.9812074085944766,-0.37788840446045263,0.7457240527799774,0.35642646907270215,1.4265335712064449,0.3195262241715386,-0.7265957187764482,0.27340091804508415,-1.141723473914538,1.1737668936334744,-0.6288100697883646,-0.19154216770957683,0.9191552038154461,-0.3077779391482417,0.2752459302901422,-0.6361901187685974,-0.5992898738674339,1.500334061008772,-0.4443088452825469,-0.24504752281626407,-0.30962295139330026,1.0630661589299837,-0.24504752281626407,-0.056856273820329685,-2.067919620933743,-0.0642363228005625,-1.1823137433058177,-0.3114679636383584,0.9210002160605042,-0.7358207800017391,0.701443758898581,-1.2026088780014579,0.3103011629462477,1.36011313038435,-1.5033458739459407,1.2900026650721397,-0.9203220045075569,0.771554224210792,0.44498705683549433,0.6294882813413121,0.03908436292269532,0.6626985017523594,0.3638065180529344,-1.1896937922860507,0.7881593344163151,-2.1693952944119426,0.30476612621107296,-0.1454168615831224,-0.10113656770172605,-0.7044555718357498,1.0390809997442276,0.10365979149973152,1.3804082650799905,0.0649145343535099,-0.29486285343283464,0.5243225833729962,1.275242567111674,0.10919482823490627,0.33797634662212034,0.3250612609067128,-0.45906894324301256,0.5852079874599156,-0.7081455963258665,-0.5236443718200487,0.555687791538985,1.2457223711907432,1.3287479222183614,-0.3649733187450456,-0.5273343963101649,-0.15833194729852942,1.3877883140602227,0.8379746650328863,-0.5107292861046412,-0.7026105595906917,-2.2339707229889787,-1.6435668045703622,-1.2007638657563995,-0.5863747881520269,2.2733941916881477,-0.8003962085787754,-1.0199526657406983,0.49295737520700683,-0.8594366004206367,-1.3760400290369263,0.09258971802938257,-1.6601719147758858,1.035390975254111,0.12026490170525522,0.0003391057764737013,-0.20445725342498386,0.6424033670567196,-0.422168698341849,-0.6767803881598772,-1.1564835718750035,1.044616036479402,-0.7634959636776117,-2.3538965189177605,-1.8114629188706564,-0.14726187382818048,-0.9867424453296512,0.32690627315177084,0.26971089355496747,-1.1767787065706434,-0.4110986248715,0.8840999711593407,0.17377025681194247,-3.3114578741029543,-1.2727193433136685,-0.21921735138544948,-0.8760417106261605,0.6257982568511959,-0.07530639627091146,-1.7874777596849,-0.995967506554942,0.06675954659856798,-0.32069302486364926,-0.23766747383603126,-0.8040862330688915,-0.686005449385168,-0.03471612687963177,-1.776407686214551,1.024320901783762,-1.361279931076461,1.5722895385660405,-0.35390324527469613,-1.5420911310921623,-0.7155256453060993,1.3176778487480123,0.389636689483749,0.5593778160291016,0.34166637111223647,-1.2302840616773305,0.8656498487087589,1.2069771140445218,0.4376070078552615,-0.7893261351084264,-0.49596918814417607,1.7604807875619743,0.4579021425509019,0.7900043466613738,0.7936943711514899,-0.0956015309665513,1.1626968201631254,0.7770892609459662,-1.2026088780014579,0.7420340282898608,-0.6380351310136555,1.0519960854596346,-1.2911694657642503,-1.8059278821354818,-0.8502115391953459,-0.7819460861281936,0.3232162486616547,0.3435113833572946,-2.5826780373049743,0.36934155478810915,-0.4184786738517323,0.07229458333374272,-0.8686616616459277,-2.1454101352261863,-1.1435684861595963,0.723583905839279,0.5132525099026471,-0.5328694330453396,1.5981197099968556,-1.2302840616773305,-1.379730053527043,1.36011313038435,-0.08822148198631902,-1.7062972209023402,0.461592167041018,0.867494860953817,1.0077157915782384,-0.840986477970055,-0.3557482575197547,0.9431403630012022,0.8840999711593407,-1.9682889597006015,0.306611138456131,0.3250612609067128,0.7401890160448027,0.6737685752227084,0.8010744201317227,0.19037536701746616,-0.45722393099795444,-0.7948611718436006,-0.16571199627876226,1.0519960854596346,-0.47198402895841957,1.345353032423885,0.3398213588671784,-0.49965921263429225,1.0686011956651584,1.5888946487715647,0.32875128539682946,0.36196150580787634,1.0003357425980055,0.06675954659856798,-0.7395108044918552,0.5095624854125305,-0.04209617585986458,-0.17862708199416927,-0.11036162892701694,-0.36128329425492894,-1.1878487800409925,-1.610356584159315,1.18852699159394,-1.150948535139829,0.7918493589064318,-2.0310193760325794,1.2125121507796959,-1.4240103474084391,0.9486753997363769,0.8840999711593407,-0.3114679636383584,0.7364989915546866,-0.7801010738831354,-1.693382135186933,1.6903703222497646,-2.348361482182586,0.7069787956337558,1.037235987499169,0.461592167041018,-0.911096943282266,-1.3981801759776247,1.1147265017916128,0.21436052620322216,0.7198938813491629,-0.9369271147130805,1.0538410977046928,-1.72659235559798,-0.7063005840808084,0.2752459302901422,-0.21921735138544948,1.0150958405584711,-0.4664489922232454,-0.6694003391796448,0.6811486242029412,-0.3243830493537654,-1.121428339218898,-0.007040943203759113,-0.5826847636619102,0.5483077425587521,1.1959070405741727,-0.07715140851596954,-0.5347144452903977,0.3305962976418875,-0.29486285343283464,-1.7930127964200746,0.6737685752227084,0.009564167001764587,-0.6601752779543539,0.34535639560235265,-0.2893278166976599,0.18484033028229144,-0.44799886977266357,1.376718240589874,-1.245044159637796,0.3490464200924693,0.7401890160448027,-0.18231710648428595,-0.35205823302963807,-1.5586962412976861,-0.3575932697648128,0.27893595478025834,-0.4129436371165581,0.005874142511648443,-0.5771497269267359,0.8213695548273626,-2.9516804863166097,0.0981247547645573,-0.05870128606538776,1.1479367222026597,0.8342846405427696,0.5132525099026471,0.3195262241715386,-1.2653392943334358,-1.0513178739066873,0.8748749099340498,0.138715024155837,0.46712720377619277,-0.2505825595514383,-0.3944935146659763,0.8435097017680605,-0.12512172688748255,0.7992294078866646,0.638713342566603,-0.8391414657249969,0.797384395641606,-0.09191150647643516,1.7254255549058695,1.9136168039018033,-1.6564818902857694,-0.9664473106340112,-1.3575899065863446,-0.686005449385168,0.2180505506933388,0.4136218486695055,1.251257407925918,1.1571617834279506,-0.007040943203759113,0.3305962976418875,0.2512607711043857,-0.14357184933806433,0.3508914323375274,-1.0660779718671527,-0.9092519310372079,0.44129703234537815,-0.6970755228555175,-0.8243813677645313,-0.30224290241306745,-0.6269650575433066,-0.8778867228712186,0.3158361996814219,-1.4719806657799517,-0.662020290199412,-2.6140432454709637,-1.9682889597006015,-1.5623862657878025,0.7807792854360829,0.41731187315962165,0.6663885262424756,-0.1767820697491112,0.40993182417938884,0.7678641997206753,0.723583905839279,1.0483060609695185,1.740185652866335,-0.22290737587556564,0.3361313343770618,-0.09191150647643516,0.3785666160134,-0.49227916365405944,-0.9147869677723821,0.16639020783170966,-0.5476295310058047,-1.1730886820805269,-0.8815767473613352,-1.4406154576139627,-0.5623896289662703,-1.525486020886639,-1.328069710665414,-1.077148045337502,-1.0181076534956401,-0.40187356364620913,-1.0181076534956401,-0.11958669015230781,0.7198938813491629,-2.538397743423578,1.500334061008772,0.8711848854439331,-0.06977135953573724,-0.4074086003813834,0.059379497618335164,-0.6823154248950519,-0.3723533677252779,-0.47382904120347763,0.02247925271717162,0.4283819466299706,0.20882548946804794,0.47266224051136696,1.035390975254111,0.18115030579217528,-0.23213243710085651,0.2365006731439206,0.24941575885932762,-0.38526845344068544,-0.4775190656935943,0.7770892609459662,1.203287089554405,1.1128814895465549,-1.141723473914538,0.7143588446139881,-0.6435701677488302,-0.8059312453139496,0.42469192213985446,-0.5033492371244089,-0.7487358657171461,-0.9682923228790693,-0.20076722893486773,-0.2745677187371948,-0.6546402412191792,-0.6989205351005756,0.4579021425509019,-0.3003978901680094,-0.06239131055550443,1.3785632528349319,-0.08453145749620235,0.5962780609302651,1.1516267466927763,-0.32991808608894013,0.2678658813099094,-1.287479441274134,1.7992260447081965,0.23281064865380394,0.3490464200924693,0.0981247547645573,-0.21552732689533283,-0.7432008289819719,-1.067922984112211,1.6774552365343565,1.356423105894234,0.389636689483749,-0.21921735138544948,-0.42401371058690707,0.6571634650171847,2.254944069237566,-0.5015042248793503,0.29369605274072397,0.5390826813334613,0.19591040375264038,0.06860455884362605,0.5261675956180543,0.937605326266028,0.2992310894758982,-0.24689253506132217,-0.02918109014445703,-0.6564852534642373,-0.5771497269267359,-0.6527952289741211,-0.1288117513775987,0.3748765915232839,-1.2985495147444832,-0.14172683709300574,1.2235822242500454,-0.2745677187371948,0.5944330486852065,-0.17309204525899508,0.2881610160055492,0.21436052620322216,0.5058724609224143,-0.0033509187136424434,0.10734981598984819,-0.7026105595906917,-0.49781420038923413,-0.6251200452982485,-0.28194776771742763,0.7660191874756173,-0.7321307555116224,0.3841016527485748,-0.8059312453139496,1.055686109949751,-1.256114233108145,0.21436052620322216,0.4781972772465417,-0.8834217596063934,-0.6749353759148191,0.5114074976575886,0.49295737520700683,0.3361313343770618,-0.17862708199416927,0.20513546497793128,-1.829913041321238,-2.036554412767754,0.1719252445668844,0.23096563640874584,-0.2911728289427185,0.5944330486852065,-0.0734613840258534,-0.5420944942706305,0.6645435139974175,-1.4350804208787882,1.4560537671273752,1.1608518079180672,0.19775541599769847,-0.46829400446830344,0.15716514660641875,-1.4092502494479737,-0.07530639627091146,-0.6288100697883646,-0.3317630983339982,-1.4295453841436137,0.723583905839279,-0.9406171392031967,-0.13434678811277345,0.3638065180529344,0.09258971802938257,-0.20076722893486773,-0.10113656770172605,0.9394503385110861,0.34535639560235265,0.1221099139503133,-0.5716146901915612,-0.4129436371165581,0.16639020783170966,0.5409276935785199,0.3582714813177602,0.6147281833808469,-0.7764110493930189,0.22727561191862972,-0.5623896289662703,-1.150948535139829,-1.318844649440123,-1.2302840616773305,-0.06608133504562057,-0.9203220045075569,-0.8520565514404039,-0.21552732689533283,1.9136168039018033,-0.7063005840808084,0.9357603140209694,0.7678641997206753,-0.04209617585986458,-0.2893278166976599,-0.7044555718357498,-1.1177383147287816,-3.1657019067433585,-0.36866334323516176,-0.5402494820255724,-0.7155256453060993,-0.18969715546451876,0.7623291629855011,0.6793036119578831,-0.18416211872934402,1.417308509981154,0.004029130266589846,1.596274697751797,-1.527331033131697,-1.785632747439842,-0.20814727791510054,-0.0956015309665513,0.20513546497793128,-0.0734613840258534,-0.8502115391953459,0.4634371792860761,1.1571617834279506,1.3582681181392922,-0.912941955527324,-1.3575899065863446,0.27155590580002553,0.31399118743636384,0.09258971802938257,1.5206291957044114,0.4228469098947964,-0.22290737587556564,-0.21737233914039142,1.1202615385267871,0.17746028130205863,-0.9553772371636621,0.474507252756425,-0.4609139554880706,-0.47567405344853625,0.40070676295409796,-0.74504584122703,-1.1177383147287816,-0.6361901187685974,0.4431420445904362,-0.9812074085944766,-1.6860020862067004,0.7198938813491629,1.0575311221948094,-1.0217976779857565,0.08705468129420782,0.797384395641606,-0.5586996044761542,0.4984924119421816,-0.3649733187450456,0.46528219153113415,0.6221082323610793,-1.1583285841200615,1.548304379380284,-0.7247507065313902,0.3361313343770618,-1.6786220372264675,0.6608534895073014,0.44867708132561096,1.640554991633193,-0.37604339221539457,-1.2007638657563995,-0.7487358657171461,0.12026490170525522,-0.16755700852382033,-0.2764127309822529,-0.20076722893486773,0.2032904527328732,0.02985930169740443,-0.04394118810492266,-0.35021322078457995,-0.8262263800095899,0.34535639560235265,1.1479367222026597,-0.8926468208316842,1.0077157915782384,0.3804116282584581,-0.4701390167133615,0.8250595793174788,-0.5753047146816774,-0.0900664942313771,-0.7561159146973789,-1.3003945269895412,-0.3170030003735326,0.5778279384796834,-0.68416043714011,0.8121444936020716,0.05568947312821902,0.2604858323296766,0.23834568538897868,0.9911106813727146,-0.38157842895056876,-0.9848974330845931,-2.1933804535976993,-0.5734597024366194,1.2364973099654524,-1.1103582657485491,1.1626968201631254,-0.6509502167290631,-0.45906894324301256,-0.7764110493930189,-1.3981801759776247,0.29738607723084015,0.7881593344163151,-0.4609139554880706,-1.6435668045703622,-1.3538998820962285,-2.8133045679372466,1.2088221262895797,0.31768121192647997,-0.8908018085866262,-0.5513195554959214,1.1128814895465549,-0.6896954738752847,-1.1823137433058177,0.24941575885932762,0.49111236296194877,-0.35390324527469613,0.37672160376834196,0.6202632201160212,-0.021801041164224214,0.3361313343770618,-1.2616492698433197,-0.41663366160667425,-1.036557775946222,0.5058724609224143,-0.6546402412191792,2.2143537998462866,-0.7727210249029026,0.5944330486852065,-1.6564818902857694,0.33428632213200365,0.27340091804508415,0.19591040375264038,0.05753448537327709,0.48004228949159977,0.9597454732067259,-0.15279691056335523,0.3398213588671784,-0.8243813677645313,0.2198955629383969,-0.09191150647643516,-0.03840615136974792,0.0483094241479862,0.7918493589064318,-1.0642329596220945,-0.6638653024444701,-0.2690326820020201,0.2604858323296766,-1.4461504943491374,-1.6085115719142569,-0.19523219219969298,0.7328089670645699,-0.025491065654340884,-0.6085149350927248,-0.13250177586771486,-1.027332714720931,-1.5402461188471044,-1.5882164372186167,1.4468287059020843,-1.7395074413133873,-0.3594382820098709,0.06306952210845183,0.6774585997128245,1.5169391712142952,-0.04209617585986458,-1.6601719147758858,-0.36866334323516176,-0.5107292861046412,-0.060546298310446355,-0.505194249369467,-0.3354531228241143,-0.14357184933806433,0.6184182078709631,1.1700768691433583,-0.06608133504562057,1.096276379341031,0.1866853425273495,-1.6011315229340242,-0.04209617585986458,0.09258971802938257,-0.06239131055550443,0.46528219153113415,-0.662020290199412,-0.0033509187136424434,-0.7782560616380769,1.0759812446453914,0.4468320690805524,0.2180505506933388,0.5464627303136941,-1.6730870004912932,-0.7671859881677279,0.5187875466378215,1.635019954898019,0.04277438741281199,-0.5974448616223759,-2.6158882577160214,0.10181477925467344,-0.42585872283196513,1.103656428321264,-0.8225363555194732,0.282625979270375,-1.6029765351790823,0.5519977670488688,0.33428632213200365,-2.9867357189727155,0.42100189764973833,-0.8003962085787754,0.5077174731674724,0.5243225833729962,2.478190550889606,2.011402452889887,-2.1140449270601973,1.1811469426137071,0.3232162486616547,1.8176761671587782,0.7457240527799774,-0.6232750330531904,-1.9129385923488562,0.3029211139660149,-1.0236426902308147,-0.13988182484794767,1.2900026650721397,0.9025500936099224,-0.20076722893486773,-1.0291777269659892,-0.014420992183991926,-1.2229040126970978,-0.68416043714011,0.4560571303058433,-0.5494745432508633,-0.446153857527605,-0.42585872283196513,-0.5679246657014451,1.701440395720113,0.26233084457473466,0.306611138456131,0.8398196772779444,0.18853035477240757,-0.6749353759148191,-0.07161637178079532,-1.6066665596691985,-1.599286510688966,0.7789342731910243,-0.3668183309901037,-0.37604339221539457,-2.390796763818924,-1.154638559629945,1.3822532773250487,0.5077174731674724,-0.6306550820334227,0.9449853752462603,-0.5162643228398159,-0.6158949840729576,0.38225664050351615,-0.5310244208002816,0.12026490170525522,0.616573195625905,0.282625979270375,1.7162004936805786,-0.8188463310293571,0.9412953507561441,1.3656481671195249,-1.379730053527043,-0.8133112942941824,-0.6398801432587136,-1.4885857759854755,-0.30408791465812557,0.03908436292269532,-0.9313920779779058,-1.7247473433529221,0.26602086906485134,-1.2930144780093085,0.17377025681194247,0.07229458333374272,2.0040224039096546,-0.18969715546451876,0.5206325588828795,-0.18416211872934402,-0.7007655473456337,-0.4553789187528959,-0.8483665269502878,0.8324396282977116,-1.3926451392424501,-1.1823137433058177,0.7863143221712571,-1.163863620855236,0.7051337833886971,-0.924012028997673,-0.32622806159882345,0.35642646907270215,-0.5845297759069683,1.5280092446846447,1.2346522977203944,0.07229458333374272,0.22912062416368778,0.15347512211630263,1.4800389263131317,0.016944215981997402,-2.3557415311628187,0.49295737520700683,-0.280102755472369,0.38594666499363284,-0.46460397997818675,-1.0439378249264546,0.7623291629855011,0.6479384037918938,-0.4904341514090013,-0.9978125188000001,-0.7598059391874951,0.18115030579217528,0.365651530297993,-0.07530639627091146,-0.0015059064685843712,-0.9719823473691858,-1.6158916208944896,0.5704478894994506,-0.6251200452982485,0.9763505834122496,-1.715522282127631,-0.43323877181219794,0.28631600376049116,-1.2819444045389594,-0.43323877181219794,-1.4996558494558243,0.5741379139895667,-1.027332714720931,-1.141723473914538,-1.3686599800566939,-1.2505791963729704,-0.3723533677252779,1.0796712691355075,-0.9479971881834295,-0.15279691056335523,0.7475690650250355,-2.285631065850608,1.976347220233782,0.5187875466378215,-0.06977135953573724,0.474507252756425,0.9800406079023657,-1.4166302984282064,-0.18785214321946017,1.3195228609930705,0.9394503385110861,-1.285634429029076,0.6442483793017777,-1.5384011066020462,0.8213695548273626,0.5833629752148576,-1.2967045024994248,0.7475690650250355,-1.5310210576218135,0.07413959557880079,-1.320689661685181,-0.3409881595592891,-0.5586996044761542,-0.6970755228555175,0.3121461751913058,-0.6029798983575501,-0.10298157994678411,2.319519497814602,-0.5439395065156886,0.3324413098869456,1.1202615385267871,0.12395492619537136,1.055686109949751,-0.11589666566219167,0.0335493261875211,-0.07530639627091146,-1.6952271474319913,0.4394520201003201,-0.34467818404940526,-2.377881678103517,-0.8225363555194732,1.3398179956887102,0.6645435139974175,-1.0088825922703493,-0.014420992183991926,0.06860455884362605,-0.5974448616223759,0.9339153017759113,-0.8059312453139496,0.48373231398171596,-1.9498388372500197,0.18115030579217528,-0.7782560616380769,-2.007034216846823,0.4634371792860761,-0.9184769922624988,0.3545814568276435,0.6719235629776503,-1.112203277993607,-0.6491052044840044,1.0280109262738781,-0.5125742983496998,-0.4867441269188852,0.7217388935942209,0.19960042824275706,-1.1841587555508761,0.6663885262424756,-0.9350821024680219,-1.9978091556215323,-1.560541253542744,0.6700785507325923,-1.5125709351712315,-0.6085149350927248,-0.7302857432665644,-0.4848991146738271,-1.401870200467741,0.11657487721513908,-0.9221670167526149,1.0538410977046928,1.4929540120285387,-0.2247523881206237,-1.2265940371872142,0.11472986497008048,-0.7985511963337173,0.795539383396548,0.32875128539682946,0.5261675956180543,-1.1251183637090145,-0.4848991146738271,-0.20076722893486773,0.8250595793174788,-1.1269633759540725,0.210670501713106,-0.6177399963180157,0.25679580783956046,0.10365979149973152,0.25495079559450234,-0.6103599473377829,0.4708172282663089,-0.9369271147130805,0.6903736854282321,-0.5439395065156886,0.5999680854203813,-0.2247523881206237,-0.04025116361480599,-0.5513195554959214,-1.0605429351319782,0.5335476445982871,-0.11774167790724975,1.8767165590006398,0.531702632353229,0.18115030579217528,0.9855756446375404,-0.45168889426277975,-0.4627589677331287,1.0187858650485873,1.116571514036671,-0.24873754730638023,-0.09191150647643516,-0.0734613840258534,0.5169425343927633,-0.6398801432587136,1.4634338161076084,-0.4904341514090013,-0.5291794085552229,-0.4775190656935943,0.6571634650171847,-0.09375651872149324,0.018789228227055473,-1.0402478004363385,0.38225664050351615,0.08705468129420782,1.7567907630718582,-0.6915404861203428,-0.5162643228398159,0.9818856201474238,-0.16017695954358752,0.6756135874677665,-0.7524258902072628,0.5759829262346248,0.04277438741281199,-2.1749303311471175,0.5206325588828795,0.7328089670645699,0.8767199221791079,1.4357586324317357,-1.077148045337502,1.0040257670881223,-0.17862708199416927,-1.1675536453453523,0.15163010987124403,0.3029211139660149,-0.924012028997673,0.7660191874756173,-0.7192156697962154,-1.2985495147444832,0.522477571127938,1.1645418324081835,0.9246902405506204,-0.24873754730638023,-1.3538998820962285,0.7807792854360829,0.4634371792860761,0.627643269096254,-0.5070392616145251,-0.24135749832614742,-0.02918109014445703,1.0261659140288202,1.640554991633193,0.007719154756706515,-0.3225380371087073,-0.06792634729067865,-1.2930144780093085,0.5390826813334613,0.6479384037918938,-2.403711849534331,-0.7044555718357498,1.36011313038435,0.48926735071689065,-2.5660729270994507,-1.9978091556215323,0.2180505506933388,-0.8520565514404039,1.9117717916567458,0.1294899629305461,-0.2985528779229508,-0.025491065654340884,0.3029211139660149,2.136863285553843,-0.8003962085787754,-1.2062989024915742,-0.18785214321946017,0.6442483793017777,1.408083448755863,-0.5771497269267359,-1.1103582657485491,0.2365006731439206,-0.13065676362265677,-0.07715140851596954,-3.263487555731442,0.08520966904914976,0.04461939965787006,-0.3575932697648128,0.806609456866897,0.6737685752227084,-0.36866334323516176,0.461592167041018,0.9302252772857952,-0.0015059064685843712,-3.1675469189884162,0.06675954659856798,0.5058724609224143,-0.7284407310215063,-0.00519593095870104,0.03723935067763725,-0.4387738085473727,1.2088221262895797,-1.2616492698433197,-1.6786220372264675,-1.171243669835469,-0.4424638330374888,-0.07899642076102813,0.8859449834043988,0.10181477925467344,0.13502499966572085,0.5390826813334613,0.11841988946019714,0.7936943711514899,0.3988617507090399,-0.21368231465027476,-1.693382135186933,1.1922170160840562,-0.267187669756962,-0.9609122738988365,0.282625979270375,-2.3022361760561316,1.9173068283919195,-1.641721792325304,1.035390975254111,-0.6823154248950519,-2.315151261771539,0.6516284282820105,-0.7468908534720881,-1.1472585106497126,1.5593744528506335,-1.7874777596849,0.7549491140052683,0.6922186976732901,-0.9313920779779058,-0.5347144452903977,0.18484033028229144,-0.925857041242731,-1.1786237188157016,0.782624297681141,-2.180465367882292,0.07967463231397554,-0.46829400446830344,0.3472014078474112,-0.9443071636933128,0.1553201343613607,1.4339136201866771,-1.0125726167604656,-0.0808414330060862,-1.0181076534956401,1.6995953834750555,0.7457240527799774,0.07044957108868465,-1.4461504943491374,-0.1454168615831224,0.5981230731753232,-2.1361850740008954,-0.112206641172075,1.0741362324003327,-0.11958669015230781,0.8379746650328863,1.0741362324003327,-0.7837910983732517,-0.6823154248950519,-0.68416043714011,-0.5992898738674339,0.7531041017602103,-0.5586996044761542,0.45974715479595996,2.3711798406762314,0.5686028772543925,-2.224745661763688,0.9117751548352133,-0.6048249106026087,0.1368700119107789,-1.722902331107864,0.605503122155556,-0.5254893840651068,0.605503122155556,1.0132508283134132,-0.04947622484009687,-0.6066699228476667,1.4947990242735973,-0.6158949840729576,0.5519977670488688,0.210670501713106,0.5409276935785199,1.1313316119971366,-1.193383816776167,-0.7505808779622042,0.5593778160291016,-0.8225363555194732,-0.28563779220754376,1.2180471875148706,-1.6380317678351877,1.345353032423885,0.07229458333374272,0.07229458333374272,-0.44799886977266357,-0.2524275717964964,-0.09929155545666797,-0.06977135953573724,1.4209985344712701,-0.17124703301393698,-0.7358207800017391,0.5649128527642758,-0.09375651872149324,0.5741379139895667,-1.069767996357269,-0.953532224918604,-1.4775157025151262,-1.0882181188078508,0.08520966904914976,0.10181477925467344,-0.34283317180434714,0.5187875466378215,0.5483077425587521,-0.38895847793080157,0.461592167041018,-1.307774575969774,-0.4295487473220818,0.8435097017680605,-0.07715140851596954,-0.3981835391560925,-0.0328711146345737,-1.1029782167683162,-0.9369271147130805,0.5206325588828795,0.9929556936177732,1.3305929344634193,0.8914800201395735,-1.0144176290055238,-0.5162643228398159,-0.6122049595828409,0.2881610160055492,0.542772705823578,-1.0568529106418618,-0.4830541024287685,0.282625979270375,0.5021824364322977,0.15716514660641875,1.4726588773328992,-0.12143170239736589,0.3158361996814219,0.2844709915154331,1.5372343059099356,0.5852079874599156,0.45236710581572714,0.806609456866897,-1.1158933024837234,-0.8317614167447641,-0.16571199627876226,-0.018111016674108072,1.1147265017916128,-2.285631065850608,-1.285634429029076,0.306611138456131,-0.2339774493459146,-1.2229040126970978,1.1682318568983001,-0.42401371058690707,0.04646441190292813,-0.6066699228476667,-1.1232733514639563,0.33428632213200365,0.5686028772543925,0.7531041017602103,-0.5439395065156886,-0.32807307384388207,0.2198955629383969,-1.2930144780093085,-0.6527952289741211,1.2807776038468488,0.6516284282820105,-0.3797334167055107,-1.2819444045389594,-0.6251200452982485,-1.5900614494636751,0.4136218486695055,-0.6103599473377829,-2.962750559786959,0.19775541599769847,-0.9018718820569751,-0.23951248608108935,-0.925857041242731,0.365651530297993,0.10365979149973152,-0.07530639627091146,-1.5734563392581515,0.18299531803723335,-1.1343434249343054,0.6018130976654393,0.784469309926199,0.7992294078866646,0.1940653915075823,0.29369605274072397,-1.4664456290447772,-0.3483682085395219,-0.3834234411956274,0.2365006731439206,0.24941575885932762,-1.973823996435776,-1.370504992301752,0.018789228227055473,0.6497834160369519,-1.7099872453924567,-0.8133112942941824,-0.0956015309665513,1.0335459630090529,-0.4147886493616162,-1.246889171882854,1.0483060609695185,-0.2930178411877766,0.6294882813413121,-0.6657103146895281,-1.5199509841514645,-1.5753013515032097,-0.842831490215113,0.19960042824275706,2.1294832365736096,0.10919482823490627,0.0003391057764737013,-0.3963385269110344,-0.11958669015230781,-0.8354514412348808,0.3029211139660149,0.640558354811661,-0.8760417106261605,-0.4037185758912672,-1.276409367803785,-0.3317630983339982,-0.14172683709300574,0.5815179629697995,1.0206308772936459,0.14978509762618594,-0.04394118810492266,-1.1361884371793634,1.2567924446610923,-0.1767820697491112,0.10181477925467344,0.46897221602125083,0.8490447385032353,-0.3243830493537654,-0.8520565514404039,-0.1620219717886461,0.18853035477240757,-1.0162626412505817,-0.601134886112492,-0.8778867228712186,-0.5955998493773178,-0.6712453514247029,1.0649111711750419,0.08705468129420782,-1.2985495147444832,0.13502499966572085,-0.4443088452825469,0.5114074976575886,0.7623291629855011,-0.10667160443690078,0.09074470578432449,0.6774585997128245,-0.9147869677723821,0.9339153017759113,0.45974715479595996,0.6848386486930573,0.8970150568747477,-1.1804687310607598,0.7254289180843375,0.8176795303372464,-0.6583302657092953,-2.7597992128305595,1.7936910079730217,-0.7026105595906917,0.2420357098790948,-0.5107292861046412,0.6663885262424756,0.009564167001764587,0.31399118743636384,0.25495079559450234,0.723583905839279,0.0317043139424625,0.5833629752148576,-0.18785214321946017,1.2531024201709762,-0.8908018085866262,-1.3336047474005883,0.5981230731753232,-0.35205823302963807,-0.8502115391953459,-0.20445725342498386,-2.003344192356707,-1.3741950167918684,-0.505194249369467,0.02616927720728829,-0.422168698341849,0.018789228227055473,1.094431367095973,0.0483094241479862,-0.7358207800017391,0.3841016527485748,-0.9461521759383714,1.336127971198594,0.389636689483749,1.2088221262895797,-0.7136806330610407,-1.005192567780233,0.020634240472113548,-0.025491065654340884,-1.2598042575982613,-0.6122049595828409,0.4948023874520654,-0.8760417106261605,1.7549457508268007,0.10734981598984819,-0.00519593095870104,1.6331749426529605,-0.7745660371479608,-0.8225363555194732,1.0095608038232964,-0.0808414330060862,-0.6878504616302267,-0.8686616616459277,-1.5070358984360572,0.38225664050351615,0.3490464200924693,0.01509920373693933,-1.7192123066177476,1.1331766242421946,0.5206325588828795,0.8287496038075954,-0.2690326820020201,0.950520411981435,0.10181477925467344,1.1922170160840562,0.7494140772700936,-1.2911694657642503,0.14240504864595313,-0.3594382820098709,-2.368656616878226,0.8896350078945149,0.44867708132561096,1.1479367222026597,-1.8705033107125182,0.15347512211630263,-0.9664473106340112,-0.4848991146738271,0.8232145670724207,0.4505220935706691,0.5870529997049743,0.7364989915546866,0.20144544048781513,-0.5863747881520269,0.9302252772857952,-1.4147852861831482,-0.014420992183991926,-0.5716146901915612,-0.2837927799624857,0.32690627315177084,-1.0070375800252909,-1.1823137433058177,0.25679580783956046,-1.3446748208709376,-0.8262263800095899,-0.4295487473220818,0.9523654242264931,0.024324264962230214,1.0132508283134132,0.09258971802938257,-1.2745643555587267,-1.1103582657485491,-0.6122049595828409,0.5870529997049743,0.1221099139503133,-0.5660796534563866,0.26233084457473466,1.0390809997442276,0.638713342566603,-0.0033509187136424434,-0.3575932697648128,-0.021801041164224214,-0.8206913432744152,1.880406583490756,-0.5697696779465031,-2.224745661763688,1.1128814895465549,-0.24320251057120548,-0.6048249106026087,0.03723935067763725,-1.4147852861831482,0.1553201343613607,0.07598460782385887,0.9486753997363769,0.0483094241479862,-1.1103582657485491,-1.1564835718750035,0.41731187315962165,1.6995953834750555,1.1866819793488819,1.1368666487323107,-0.8003962085787754,0.6257982568511959,0.3158361996814219,-1.7690276372343183,0.04277438741281199,-0.4701390167133615,-1.1158933024837234,-0.2505825595514383,-0.20630226567004195,1.5298542569297022,-1.569766314768035,0.7733992364558501,-0.13250177586771486,0.3490464200924693,-0.590064812642143,0.9431403630012022,0.03723935067763725,-2.0439344617479867,1.0021807548430641,1.201442077309347,-1.0162626412505817,0.9320702895308532,0.41177683642444746,0.6368683303215449,0.5722929017445086,-1.3631249433215193,-0.7542709024523209,-0.6214300208081318,-1.518105971906406,1.4818839385581903,1.1147265017916128,0.7770892609459662,0.24757074661426956,-0.11589666566219167,-0.4793640779386524,-2.2136755882933388,1.5649094895858082,-0.9516872126735456,-0.5623896289662703,0.3582714813177602,-1.4996558494558243,-0.5826847636619102,-1.3483648453610537,-2.003344192356707,0.6479384037918938,-0.5236443718200487,1.0021807548430641,0.542772705823578,-1.1048232290133746,-1.2026088780014579,0.6497834160369519,0.9560554487166097,-2.55684786587416,2.415460134557627,0.6848386486930573,0.5612228282741597,1.0150958405584711,-1.4092502494479737,0.8305946160526535,-0.3483682085395219,-1.069767996357269,-1.8317580535662963,-0.9922774820648256,-0.35205823302963807,-0.1767820697491112,-0.686005449385168,-0.6140499718278996,0.9652805099419006,-0.9461521759383714,-0.9092519310372079,0.555687791538985,0.6682335384875336,-0.5310244208002816,-0.3317630983339982,1.035390975254111,0.5058724609224143,-0.07161637178079532,1.8970116936962802,0.2641758568197933,1.609189783467204,-1.1324984126892472,-0.04947622484009687,1.1516267466927763,0.18484033028229144,-1.0402478004363385,-0.37604339221539457,-1.4646006167997192,0.806609456866897,2.511400771300653,0.19037536701746616,-0.4443088452825469,-0.4664489922232454,-0.01257597993893333,-0.5568545922310956,-1.5642312780328604,0.7992294078866646,0.8361296527878282,1.5077141099890043,0.31399118743636384,-0.2247523881206237,-1.2893244535191923,1.7918459957279642,0.13502499966572085,-0.1860071309744021,0.7309639548195118,1.1479367222026597,1.874871546755582,1.874871546755582,-0.769031000412786,0.2678658813099094,-0.8963368453218004,0.10734981598984819,-1.1140482902386655,0.6774585997128245,1.9265318896172103,-0.9885874575747092,0.6128831711357884,0.07598460782385887,-0.2930178411877766,0.02616927720728829,1.6848352855145898,-0.019956028919166143,1.2051321017994636,0.5612228282741597,0.6184182078709631,-0.6398801432587136,-0.8133112942941824,-2.0623845841985684,0.8287496038075954,-0.4793640779386524,-0.09375651872149324,-0.47382904120347763,-0.06977135953573724,-0.435083784057256,-0.4627589677331287,0.557532803784043,0.6018130976654393,-0.34283317180434714,0.17377025681194247,0.2420357098790948,0.6977537344084649,-0.18785214321946017,0.6866836609381154,1.2346522977203944,-0.4295487473220818,-0.6103599473377829,-0.21552732689533283,1.3545780936491758,0.41177683642444746,-1.569766314768035,0.20144544048781513,1.1756119058785324,-0.056856273820329685,-0.025491065654340884,0.40439678744421464,-0.09191150647643516,0.47635226500148364,-0.6694003391796448,-2.8335997026328865,0.6663885262424756,0.5409276935785199,1.2125121507796959,-1.495965824965708,0.7069787956337558,0.007719154756706515,-0.7210606820412735,0.17561526905700053,-0.435083784057256,0.3638065180529344,-0.4129436371165581,-0.24135749832614742,0.08520966904914976,-2.6638585760875344,-0.0015059064685843712,0.6866836609381154,-0.5144193105947579,-0.10851661668195886,-1.3446748208709376,-1.4055602249578574,-0.994122494309884,0.365651530297993,0.7881593344163151,-0.4074086003813834,-1.7708726494793765,-0.8391414657249969,-0.05316624933021354,-0.08637646974126043,0.771554224210792,-0.7081455963258665,-0.24135749832614742,0.6719235629776503,0.03908436292269532,-1.3483648453610537,-0.9461521759383714,-0.014420992183991926,-0.5273343963101649,-0.21183730240521667,0.06122450986339376,0.26233084457473466,0.32690627315177084,-1.9074035556136817,0.05199944863810287,0.18115030579217528,-0.3575932697648128,0.7604841507404425,0.5962780609302651,0.7604841507404425,-1.6952271474319913,-0.7081455963258665,0.3951717262189237,-0.13803681260288958,0.7733992364558501,1.1848369671038232,0.5722929017445086,-0.1804720942392279,0.880409946669224,0.8195245425823044,-0.1860071309744021,-1.1324984126892472,0.4228469098947964,-0.4387738085473727,1.2346522977203944,0.19037536701746616,-0.21552732689533283,-0.256117596286613,-0.25427258404155495,-0.06239131055550443,-1.1029782167683162,-1.4682906412898353,1.1128814895465549,-0.2764127309822529,0.7641741752305592,-0.9350821024680219,0.2641758568197933,-0.20076722893486773,-1.1730886820805269,1.71435548143552,0.5630678405192178,0.8029194323767808,-0.733975767756681,-0.7874811228633678,-0.4553789187528959,0.2457257343692115,-1.403715212712799,-0.590064812642143,-0.019956028919166143,-0.5734597024366194,-0.5697696779465031,-1.5125709351712315,0.11288485272502241,-0.7727210249029026,-0.9996575310450584,-0.01257597993893333,0.6534734405270686,-0.30408791465812557,-1.1804687310607598,-0.7819460861281936,-0.8631266249107534,0.06860455884362605,-0.16571199627876226,-2.3003911638110734,0.0981247547645573,1.9117717916567458,-2.049469498483161,-0.3225380371087073,-0.5771497269267359,-0.08822148198631902,0.2770909425352003,-0.5439395065156886,0.9671255221869587,0.3545814568276435,-0.06792634729067865,-0.18416211872934402,0.8435097017680605,-1.5420911310921623,-0.16386698403370417,0.2198955629383969,-1.922163653574147,-0.9350821024680219,-0.6970755228555175,1.3988583875305722,1.105501440566322,-0.3963385269110344,0.05199944863810287,-1.6232716698747223,-0.13065676362265677,-0.09191150647643516,-0.40925361262644144,0.23096563640874584,-0.3465231962944638,0.8840999711593407,0.22358558742851303,0.8398196772779444,0.306611138456131,0.9560554487166097,0.5483077425587521,0.771554224210792,-0.7358207800017391,0.0815196445590336,0.4394520201003201,0.10919482823490627,1.1313316119971366,1.275242567111674,-0.4129436371165581,0.7254289180843375,0.3398213588671784,-0.23951248608108935,0.8471997262581772,0.5686028772543925,0.963435497696842,0.18484033028229144,-0.8797317351162767,1.3121428120128376,-0.925857041242731,0.5833629752148576,-0.1860071309744021,-0.04394118810492266,-0.0900664942313771,-0.5384044697805138,-1.1343434249343054,-0.6454151799938883,0.07967463231397554,0.22543059967357112,-0.4775190656935943,-0.15279691056335523,1.118416526281729,-1.765337612744202,1.6626951385738917,-0.7985511963337173,0.7401890160448027,1.0464610487244599,1.5021790732538296,1.647935040613426,-0.7265957187764482,0.26233084457473466,0.8342846405427696,0.210670501713106,-1.639876780080246,-0.4904341514090013,1.1387116609773689,0.3841016527485748,-1.518105971906406,0.8269045915625373,0.6645435139974175,1.0999664038311472,-2.150945171961361,0.5796729507247415,-0.8760417106261605,1.2180471875148706,-0.8372964534799389,-0.6454151799938883,-0.5439395065156886,1.6829902732695312,1.4117734732459792,-0.45906894324301256,-0.2598076207767292,-0.20630226567004195,0.2198955629383969,-0.3834234411956274,1.5667545018308657,-0.6251200452982485,1.2549474324160341,-1.2837894167840176,-1.1823137433058177,0.32690627315177084,0.2512607711043857,1.5427693426451103,0.3232162486616547,0.4062417996892727,-0.112206641172075,-1.4406154576139627,0.9781955956573076,-0.09191150647643516,0.03539433843257917,0.02247925271717162,0.8914800201395735,-0.35390324527469613,-0.07899642076102813,-1.154638559629945,-0.5033492371244089,1.539079318154993,-0.6952305106104589,-0.22106236363050757,-0.5955998493773178,-0.6343451065235394,-0.817001318784299,-1.0107276045154074,-0.10113656770172605,1.5815145997913314,-0.6675553269345863,-0.3981835391560925,0.050154436393044274,-0.7026105595906917,-1.3133096127049486,-0.23213243710085651,-1.9978091556215323,-0.2837927799624857,-0.4627589677331287,0.4320719711200873,-0.04209617585986458,-0.8557465759305206,1.1793019303686492,-0.20630226567004195,-1.2524242086180288,0.49295737520700683,-0.42032368609679094,0.7660191874756173,-0.25427258404155495,-0.4553789187528959,-0.9978125188000001,-1.0088825922703493,-0.00519593095870104,1.2254272364951035,0.4874223384718326,0.13502499966572085,0.23281064865380394,0.07598460782385887,-0.44799886977266357,0.44129703234537815,0.19037536701746616,0.3508914323375274,-0.3834234411956274,-0.769031000412786,-0.7413558167369133,-0.03840615136974792,-1.1786237188157016,-2.3612765678979932,-0.8815767473613352,-1.3465198331159958,-0.38157842895056876,-0.06792634729067865,0.25495079559450234,-0.769031000412786,1.3379729834436522,-0.30224290241306745,0.4394520201003201,-0.07530639627091146,-1.859433237242169,0.8564247874834681,0.688528673183174,-2.241350771969212,-0.11589666566219167,1.0575311221948094,1.0667561834201003,-0.38526845344068544,-0.40925361262644144,-0.6472601922389464,-1.879728371937809,-1.829913041321238,0.19960042824275706,0.5519977670488688,0.5409276935785199,-1.215523963716865,0.4265369343849125,-0.817001318784299,-1.5125709351712315,-0.23951248608108935,-1.4277003718985557,-0.6085149350927248,1.3158328365029544,-0.29670786567789276,-0.3409881595592891,-1.8059278821354818,0.07967463231397554,0.013254191491880733,-0.5845297759069683,-1.2653392943334358,-2.237660747479095,0.6128831711357884,0.6368683303215449,-0.42585872283196513,-0.9479971881834295,-2.483047376071833,-0.1546419228084133,0.474507252756425,0.9837306323924824,-0.4793640779386524,0.43391698336514534,-1.72659235559798,-0.6048249106026087,-0.49227916365405944,0.688528673183174,-0.12327671464242397,1.548304379380284,0.3711865670331672,0.4505220935706691,-1.8668132862224016,-1.0015025432901166,0.7678641997206753,-0.7468908534720881,-0.363128306499987,1.103656428321264,0.2420357098790948,-1.5347110821119299,1.8619564610401742,1.2143571630247545,-0.5162643228398159,0.1940653915075823,-1.193383816776167,-1.2118339392267488,0.8840999711593407,0.8213695548273626,-0.47198402895841957,0.2032904527328732,-0.40925361262644144,1.1221065507718457,0.5981230731753232,-1.213678951471807,-0.08822148198631902,-0.33360811057905626,0.9449853752462603,0.9800406079023657,2.337969620265184,1.0575311221948094,-0.4793640779386524,-0.36866334323516176,-0.47567405344853625,0.9708155466770748,0.4136218486695055,0.1368700119107789,0.3158361996814219,0.9708155466770748,-0.24873754730638023,-0.7099906085709246,0.9560554487166097,-0.4553789187528959,1.1719218813884162,-0.44799886977266357,-0.9406171392031967,1.0796712691355075,1.0870513181157402,-0.7081455963258665,-0.3944935146659763,-1.320689661685181,0.44867708132561096,-0.7819460861281936,-1.7690276372343183,0.26602086906485134,-0.17862708199416927,0.6331783058314288],\"y\":[-0.058618850397207885,-0.09591619935677599,-1.5544388455125142,-2.7185087367242944,-1.0224608682470966,0.3968014105827801,2.9075019010715946,-1.9097451698115568,0.424283667710883,-0.7260450949368458,-1.8744108392182817,0.9268163694819044,2.0967753157925637,1.5805014854574906,0.34968896979174674,0.24368597801192235,-0.802602811222275,0.771737918544753,-2.5025767164320585,0.879703928690871,1.5059067875383554,-0.18228900747367044,-0.8811235458739971,1.1348963163089678,-1.2501709987370913,0.021864902620807165,-3.3211553751762617,-0.10573129118824126,0.3320218044951097,0.45765497993786464,-0.25099465029392726,1.4018668141248234,-0.6593024704828819,1.6060207242193005,-0.6887477459772777,0.4988783656300192,0.24761201474450822,-1.2913943844292453,0.33005878612881623,1.3626064467989625,0.21031466578494012,1.3174570243742219,0.9601876817088866,-0.40018404613219916,-0.45122252365581844,-0.5984489011277974,-0.43551837672547433,-0.24706861356134083,-0.7358601867683111,-0.6063009745929697,0.24368597801192235,0.11805280256916686,0.3241697310299374,-0.5866707909300392,-0.23921654009616908,-1.0106827580493385,0.5165455309266562,0.4498029064726929,-0.8870126009728765,2.024143636239721,0.08664450870847813,-1.2619491089348494,1.1643415918033637,0.15927618826132087,-1.511252441454067,-0.1076943095545342,-0.5375953317727129,-0.4315923399928879,-0.1921040993051357,-2.3435722287623215,0.13571996786580445,1.0171152143313846,-1.5976252495709613,-0.5238542032086617,-0.2588467237590996,-0.7044518929076223,-1.030312941712269,2.2930771524218687,0.4498029064726929,-0.1862150442062563,0.11020072910399453,-0.9439401335953745,-0.8418631785481361,0.528323641124415,-1.150057062056145,-0.33147840331194234,-1.336543806853985,-1.77037086580475,0.569547026816569,-0.13125052995005118,-0.7594164071638281,0.33987387796028146,0.5891772104794996,0.015975847521927784,0.04345810465003063,-0.5317062766738335,0.3359478412276956,0.19068448212200959,-1.4445098170001032,-0.9498291886942539,1.4921656589743033,0.3928753738501942,-0.09591619935677599,-0.09591619935677599,-0.7908247010245167,0.3123916208321792,-0.7515643336986557,0.4125055575131248,0.944483534778542,-1.067610290671837,1.8003595424823133,0.9150382592841462,-0.33344142167823526,-0.5532994787030575,0.8070722491380282,0.8051092307717354,-1.2756902374989005,-1.0165718131482178,0.2633161616748529,-0.7280081133031387,0.84044356136501,-0.13910260341522293,0.4537289432052788,-1.0008676662178733,-0.616116066424435,-0.19603013603772157,-0.12339845648487885,1.8042855792148993,0.277057290238904,0.732477551218892,1.0583386000235393,0.8757778919582851,1.3370872080371525,-2.671396295933261,-0.7299711316694323,-0.25492068702651316,-0.39036895430073393,-2.153159447231895,-0.10376827282194832,0.05523621484778884,-0.6632285072154683,-0.45907459712099075,-0.35699764207375223,-0.45907459712099075,0.3948383922164872,2.5090091727141046,-0.32166331148047705,-0.427666303260302,1.1211551877449166,0.18479542702313076,-0.26866181559056485,-0.9517922070605469,0.9091492041852668,0.9268163694819044,0.8659628001268198,-1.7154063515485445,-0.427666303260302,-0.27455087068944367,0.4674700717693299,-1.7723338841710432,-0.9380510784964957,-0.5081500562783171,0.8208133777020794,-0.6318202133547796,0.8698888368594058,-0.2117342829680662,0.3948383922164872,1.7846553955519686,0.3261327493962303,0.3909123554839013,0.7835160287425118,-1.6015512863035475,0.008123774056756019,-0.6239681398896073,-2.2002718880229284,-0.3530716053411658,-0.46103761548728367,-0.6651915255817613,-1.9274123351081942,-0.9949786111189943,-0.5572255154356434,0.6382526696368258,1.4254230345203398,-0.551336460336764,0.9719657919066448,0.6853651104278592,0.1749803351916655,-1.1245378232943357,0.21424070251752655,1.170230646902243,-0.1449916585141023,-0.5866707909300392,-0.49048289098167946,0.4812112003333816,-0.40018404613219916,0.6834020920615657,0.6676979451312216,-0.10965732792082715,0.14946109642985558,0.5008413839963122,0.36735613508838433,-0.7947507377571027,1.7277278629294694,-0.37073877063780336,-1.4209535966045865,0.1749803351916655,-1.3345807884876921,-1.3993603945753632,-0.1253614748511718,-1.3149506048247617,-0.40214706449849213,0.9287793878481972,-0.3157742563815977,0.359504061623212,-1.7664448290721637,1.808211615947485,1.0445974714594874,0.9641137184414724,-0.19799315440401452,1.1388223530415538,-0.08806412589160367,-0.6063009745929697,1.568723375259733,0.09842261890623633,2.0771451321296333,1.3743845569967201,1.1074140591808654,0.22601881271528476,1.1545264999718983,-0.4433704501906461,1.1093770775471579,0.9071861858189738,-0.8929016560717553,0.37520820855355663,0.689291147160445,0.32809576776252325,0.7894050838413906,2.2086673626712674,1.2507143999202586,-0.9341250417639093,-1.214836668143816,1.3959777590259441,-0.46692667058616305,-0.02328451980393327,1.0897468938842279,-0.7594164071638281,-0.47674176241762833,-2.296459787971288,-0.4158881930625438,-1.5191045149192393,-0.8870126009728765,-0.7476382969660693,0.08468149034218463,0.6657349267649286,-0.45514856038840484,0.09253356380735694,-2.3769435409893034,0.528323641124415,0.21031466578494012,1.2624925101180162,0.6264745594390676,0.26135314330855935,1.2507143999202586,1.0406714347269017,0.6245115410727742,1.3233460794731013,0.4399878146412276,0.5793621186480342,0.2024625923197678,-1.6133293965013058,0.277057290238904,-0.7790465908267585,-0.18425202583996336,-0.88308656424029,-1.0872404743347677,2.4010431625679867,0.917001277650439,0.3928753738501942,1.4450532181832705,1.3704585202641342,0.7481816981492366,0.8522216715627687,-0.4747787440513354,0.0944965821736499,-2.100157951341983,-1.3679521007146744,0.3634300983557984,-1.7585927556069918,-0.7299711316694323,0.8168873409694936,-0.7751205540941721,-1.7801859576362151,0.9994480490347476,-0.06647092386238021,-1.1618351722539038,-0.01739546470505389,-1.4994743312563086,-0.10965732792082715,2.4854529523185884,1.256603455019137,-0.4747787440513354,1.6236878895159386,-1.179502337550541,-1.7075542780833721,0.3123916208321792,1.4313120896192193,1.6138727976844733,-0.35896066044004515,-0.49244590934797244,0.06701432504554761,-1.5995882679372542,1.980957232181274,2.556121613505139,-0.9105688213683929,1.2821226937809467,0.40857952078053833,-0.24706861356134083,-0.08610110752531074,0.6991062389919104,-1.295320421161831,0.014012829155634843,0.901297130720095,1.248751381553965,0.38698631875131484,-1.5701429924428585,0.3968014105827801,-0.09984223608936188,0.3889493371176078,-0.0036543361410027436,1.0701167102212974,-0.7024888745413294,0.9484095715111278,-1.258023072202263,-1.0577951988403718,-0.7653054622627069,-0.7437122602334834,-0.7064149112739153,-0.8300850683503779,1.0485235081920738,-0.5238542032086617,1.0936729306168145,0.610770412508723,-1.3463588986854504,1.8101746343137786,0.18479542702313076,0.5911402288457924,-1.6839980576878557,-0.3942949910333198,-0.427666303260302,1.708097679266539,0.8639997817605269,0.4851372370659675,-1.0774253825033024,-0.8929016560717553,-1.4621769822967405,0.7108843491896686,0.424283667710883,0.04934715974891001,1.5490931915968025,0.08664450870847813,0.2633161616748529,-0.12928751158375767,2.0967753157925637,0.47728516360079515,-0.9144948581009787,-0.9007537295369276,0.5656209900839826,-0.9635703172583051,-0.6396722868199514,-0.35110858697487285,-0.8457892152807219,2.683717807314187,0.053273196481495894,0.36735613508838433,1.0328193612617294,-3.1052233548840262,1.5844275221900777,-1.0734993457707165,-0.34129349514340757,0.318280675931058,-0.6357462500873655,0.9523356082437142,0.901297130720095,0.10234865563882221,-0.08806412589160367,1.1506004632393125,-1.5799580842743237,2.0300326913386004,0.26135314330855935,-1.2501709987370913,2.1517398300487693,1.252677418286551,-2.0039700513936234,1.119192169378623,-0.2235123931658244,-0.23921654009616908,-0.7810096091930515,-0.06843394222867315,-0.45318554202211137,1.464683401846201,0.944483534778542,-0.0016913177747092446,0.5185085492929498,-0.40018404613219916,0.5754360819154478,2.6424944216220325,-0.3373674584108217,-0.88308656424029,-0.1430286401478094,-0.7005258561750365,0.06701432504554761,-2.7773992877130858,1.9534749750531706,-2.100157951341983,1.0544125632909527,-0.7554903704312416,-0.9419771152290816,-1.3679521007146744,-0.6377092684536584,0.01008679242304896,0.8954080756212156,-0.6789326541458124,1.278196657048361,1.7453950282261077,0.9464465531448348,-0.9066427846358069,0.648067761468291,0.42232064934459,-0.0036543361410027436,-0.8987907111706347,-0.12732449321746472,-1.110796694730284,0.3968014105827801,0.5165455309266562,-0.7790465908267585,0.33987387796028146,-0.5788187174648669,0.5813251370143272,1.7571731384238654,-2.1727896308948256,0.4753221452345022,-0.1253614748511718,-1.4307686884360518,-1.0362019968111484,-1.3031724946270034,-0.037025648367984415,0.19853655558718192,1.2703445835831892,0.3712821718209708,-0.44140743182435316,-1.428805670069759,-1.9450795004048318,1.1152661326460374,0.08860752707477107,-1.9038561147126773,-0.09591619935677599,-1.915634224910436,-1.3542109721506226,-0.7044518929076223,0.732477551218892,-1.3797302109124325,-0.6612654888491754,0.544027788054759,-0.9851635192875291,-0.2294014482647038,-0.22547541153211736,-1.1009816028988189,0.9503725898774213,-1.6467007087282877,0.6991062389919104,-0.37662782573668274,-0.9792744641886497,-0.26277276049168546,-0.009543391239881568,-1.3463588986854504,-0.1489176952466882,1.4941286773405966,-1.8626327290205233,-0.28240294415461603,-0.18817806257254927,-1.3993603945753632,-0.8104548846874473,-0.7162300031053805,-0.2156603197006521,-0.1449916585141023,0.6009553206772578,-0.09984223608936188,0.4537289432052788,-0.9400140968627887,0.32024369429735094,1.9122515893610172,-2.396573724652234,0.22209277598269833,-0.10180525445565539,0.36931915345467725,-0.5984489011277974,-0.11554638301970653,-0.7201560398379669,-0.13713958504893,0.730514532852599,-0.45907459712099075,-0.0036543361410027436,-0.5827447541974533,1.808211615947485,-1.318876641557348,-1.336543806853985,-0.6004119194940903,-0.013469427972468008,0.7933311205739771,0.1612392066276138,-0.2215493747995315,1.5353520630327513,0.7894050838413906,-0.7240820765705529,0.8051092307717354,0.9798178653718171,-1.5976252495709613,-0.08610110752531074,1.3704585202641342,-0.29221803598608126,-0.27455087068944367,-0.7024888745413294,-1.5406977169484626,0.8188503593357864,0.7737009369110466,0.8424065797313034,-0.3785908441029757,1.382236630461893,0.5263606227581215,1.3154940060079285,0.36735613508838433,0.15338713316244149,-1.6172554332338918,0.4439138513738135,0.9778548470055236,-0.18228900747367044,0.12983091276692507,-0.031136593269105034,-0.7594164071638281,0.2868723820703693,0.33005878612881623,-0.32558934821306296,0.01008679242304896,-0.5886338092963321,1.2428623264550858,-0.11554638301970653,-1.621181469966478,0.44783988810639935,0.3614670799895055,0.771737918544753,1.352791354967497,-1.3934713394764837,1.1584525367044842,-1.2285777967078673,0.4026904656816595,0.03953206791744475,2.324485446282558,1.0445974714594874,0.3712821718209708,0.021864902620807165,-0.8654193989436524,-0.5552624970693505,0.8286654511672518,0.7776269736436324,-1.8371134902587138,-1.9117081881778497,1.4921656589743033,0.13964600459839033,-0.7201560398379669,0.045421123016323575,-2.433871073611802,-3.071852042657044,-0.9144948581009787,-1.5014373496226017,-1.3326177701213993,0.22209277598269833,0.3437999146928679,-0.5297432583075405,0.5832881553806202,0.3222067126636445,-1.6643678740249253,0.1612392066276138,0.4929893105311398,-0.7358601867683111,2.0516258933678233,0.4262466860771759,1.3763475753630134,-0.989089556020115,0.6794760553289798,-1.3934713394764837,-0.7397862235008975,-0.15676976871186052,1.2624925101180162,-2.895180389690669,1.435238126351805,0.6971432206256174,-0.3962580093996133,-0.08610110752531074,-0.6867847276109847,-0.4944089277142659,-0.07628601569384547,-0.9360880601302027,-0.32755236657935644,-0.5709666439996945,1.331198152938273,-0.9046797662695135,0.8031462124054424,1.0053371041336265,-0.5061870379120241,0.6991062389919104,-1.279616274231487,0.8875560021560434,2.410858254399452,0.07486639851071937,-0.7810096091930515,-0.29025501761978834,0.04345810465003063,1.7650252118890382,1.0897468938842279,-1.1186487681954564,0.84044356136501,-0.22547541153211736,1.2644555284843098,0.7697749001784602,-3.0993342997851467,-0.8222329948852055,0.18872146375571663,-0.8811235458739971,0.004197737324169579,0.18086939029054433,-1.2207257232426953,0.3614670799895055,-0.07039696059496608,-1.7821489760025084,-0.6671545439480542,-0.7280081133031387,-0.4433704501906461,-1.5701429924428585,1.755210120057573,-1.1539830987887316,1.5962056323878353,-1.662404855658632,0.3261327493962303,-1.4072124680405353,-0.616116066424435,0.381097263652436,-1.1402419702246798,-2.3474982654949077,-1.8508546188227653,-0.08610110752531074,-0.8909386377054623,-1.0833144376021817,0.5538428798862244,2.1360356831184246,-1.318876641557348,0.4439138513738135,0.6578828532997564,-0.20977126460177328,-0.41392517469625034,0.8051092307717354,-1.179502337550541,0.12786789440063212,-1.0872404743347677,-0.88308656424029,0.4360617779086412,0.8227763960683729,-0.7829726275593445,1.6786524037721433,-0.28240294415461603,-1.662404855658632,-0.2568837053928061,2.35785675850954,-0.6789326541458124,0.04345810465003063,0.9366314613133696,-0.26866181559056485,1.2134170509606899,0.4812112003333816,-0.7338971684020181,-0.36877575227151044,1.386162667194479,-1.3581370088832092,0.2829463453377834,0.7697749001784602,-0.9930155927527009,0.4753221452345022,2.0791081504959266,-1.0813514192358882,-1.6722199474900972,-0.25295766866022024,0.9719657919066448,-0.9773114458223567,-1.1539830987887316,0.6618088900323422,-0.9439401335953745,0.027753957719686546,0.6304005961716536,-0.698562837808743,-0.6435983235525378,-0.6494873786514166,-1.110796694730284,2.298966207520748,-0.09591619935677599,0.06308828831296116,-0.6416353051862449,1.7473580465924001,-0.037025648367984415,-2.325905063465684,0.10038563727252928,-0.9419771152290816,0.8581107266616476,-0.11554638301970653,-0.8929016560717553,-0.09199016262419012,1.2251951611584486,1.7826923771856753,0.3045395473670069,-0.5611515521682293,-1.1677242273527826,0.2652791800411458,0.15338713316244149,-0.6946368010761571,0.21424070251752655,0.4026904656816595,0.027753957719686546,-0.33344142167823526,0.21227768415123305,0.8208133777020794,1.2978268407112914,0.5499168431536384,-0.6808956725121059,-0.42177724816142265,-0.41785121142883674,1.1034880224482797,-0.15676976871186052,-2.7832883428119652,-1.3051355129932964,-0.029173574902812093,-0.2333274849972897,-2.1708266125285327,-1.06957330903813,-0.989089556020115,-1.6035143046698404,0.06701432504554761,0.46550705340303694,-0.4433704501906461,0.6441417247357046,0.3477259514254538,0.17105429845907905,-0.9596442805257192,-0.4944089277142659,0.9248533511156114,0.4105425391468318,-0.4944089277142659,0.5165455309266562,0.07290338014442642,0.4066165024142454,0.9248533511156114,0.12983091276692507,0.44587686974010643,-0.30988520128271885,-0.037025648367984415,0.7638858450795813,-0.5886338092963321,-0.9989046478515803,-0.03506263000169148,0.44587686974010643,-0.09395318099048305,-0.6789326541458124,1.421496997787754,0.8561477082953546,0.10038563727252928,-0.4080361195973715,-2.351424302227494,1.1466744265067266,-0.8791605275077041,1.8141006710463645,1.3076419325427566,-0.23921654009616908,0.7128473675559615,0.585251173746913,-1.5230305516518254,0.4439138513738135,0.4674700717693299,-1.214836668143816,-1.1579091355213174,0.19853655558718192,1.0995619857156926,-0.054692813664622,0.4674700717693299,0.45765497993786464,-0.23529050336358262,-0.6121900296918491,0.25546408820968053,-0.9341250417639093,-0.6907107643435711,-1.2109106314112301,-0.5415213685052988,0.13375694949951095,0.0944965821736499,0.32809576776252325,-0.46692667058616305,0.12394185766804568,-0.8948646744380482,-0.41785121142883674,-1.134352915125801,0.84044356136501,-1.3856192660113114,1.7473580465924001,-0.6514503970177101,0.1082377107377016,0.25546408820968053,-0.38447989920185455,-0.6416353051862449,1.3900887039270646,-1.9274123351081942,-0.11750940138599947,-0.21762333806694503,0.754070753248116,-0.8516782703796013,-0.09199016262419012,-1.0244238866133901,-0.6887477459772777,0.8188503593357864,0.3261327493962303,0.5597319349851038,0.7678118818121672,0.4537289432052788,-2.8343268203355847,0.15731316989502792,-0.6769696357795195,0.6853651104278592,-1.3816932292787256,0.25939012494226643,0.2652791800411458,0.6382526696368258,1.1290072612100885,0.4007274473153666,0.09253356380735694,-0.09984223608936188,0.09842261890623633,-0.3962580093996133,0.799220175672856,0.9680397551740584,-0.6220051215233143,0.6951802022593244,0.5263606227581215,0.24957503311080118,0.4812112003333816,0.03756904955115181,-0.6298571949884861,0.7815530103762184,-0.3373674584108217,0.07486639851071937,1.1211551877449166,0.5832881553806202,-0.6200421031570208,1.0740427469538834,0.15927618826132087,-0.09591619935677599,0.5832881553806202,1.0563755816572458,0.60880739414243,-0.20584522786918683,0.26724219840743874,0.60880739414243,-1.3954343578427766,-0.5984489011277974,-0.31184821964901177,-0.30203312781754654,0.9307424062144908,0.7913681022076836,-0.7476382969660693,0.25546408820968053,-0.7123039663727947,1.0779687836864698,1.7983965241160198,1.252677418286551,0.33791085959398853,0.012049810789341902,0.8561477082953546,1.521610934468699,1.2212691244258629,-0.9105688213683929,0.2692052167737317,-1.4955482945237226,0.6539568165671699,-0.011506409606174509,-1.2482079803707977,-0.24314257682875495,0.7913681022076836,0.21816673925011243,0.6402156880031188,1.3194200427405154,-0.7594164071638281,0.6775130369626868,0.39876442894907305,2.51882426454557,-0.49637194608055885,-1.2285777967078673,-0.9282359866650305,1.2212691244258629,-0.28240294415461603,0.09057054544106401,-0.7672684806289998,1.0445974714594874,-0.47870478078392126,-0.6926737827098641,-2.3847956144544753,0.2829463453377834,1.460757365113615,0.19853655558718192,-0.5002979828131447,-0.054692813664622,0.4046534840479524,0.5381387329558802,-0.31773727474789115,0.6029183390435506,-1.0440540702763206,0.8698888368594058,0.5577689166188108,-1.46806603739562,0.27116823514002464,0.32024369429735094,1.339050226403446,0.019901884254514224,-2.1629745390633603,-0.16658486054332577,0.1867584453894237,-0.7338971684020181,1.2134170509606899,0.017938865888221283,0.318280675931058,0.4380247962749341,0.7874420654750978,0.07486639851071937,-1.5014373496226017,0.6284375778053606,-2.618394800043349,0.730514532852599,0.463544035036744,-0.41392517469625034,-0.10965732792082715,1.2153800693269834,-0.7476382969660693,0.5008413839963122,-0.23921654009616908,-2.5398740653916265,1.4116819059562886,-1.5171414965529462,1.7434320098598142,1.1721936652685365,-0.7535273520649487,0.3968014105827801,-0.9282359866650305,-1.1009816028988189,-0.8713084540425318,0.5263606227581215,-1.4248796333371727,-0.08021205242643135,1.3370872080371525,-0.7751205540941721,-0.1626588238107399,0.5381387329558802,0.36931915345467725,-0.05665583203091494,0.08468149034218463,-2.0039700513936234,0.4713961085019163,1.3626064467989625,0.6323636145379464,0.22994484944787064,-0.15676976871186052,0.6441417247357046,0.08075545360959875,1.8926214056980866,-0.1921040993051357,-0.3354044400445282,-1.150057062056145,0.3163176575647651,0.4144685758794177,-0.802602811222275,-0.10180525445565539,-0.5690036256334016,1.7493210649586937,-0.07432299732755253,1.439164163084391,0.8541846899290616,0.6735870002301004,0.3771712269198496,0.6951802022593244,0.838480542998717,0.16712826172649317,-0.2706248339568578,-0.22743842989841032,-1.0636842539392513,-0.5670406072671087,-0.5709666439996945,-0.7476382969660693,1.6649112752080921,0.4066165024142454,-0.26669879722427137,-0.9635703172583051,-1.6368856168968224,2.5855668889995345,0.691254165526738,-1.5583648822451002,0.18479542702313076,-0.19603013603772157,-0.8575673254784807,1.2546404366528445,0.13964600459839033,0.3025765290007139,0.730514532852599,-1.546586772047342,0.3889493371176078,0.12590487603433917,-0.7260450949368458,-1.2383928885393325,1.9848832689138598,-0.36092367880633813,-0.8575673254784807,-2.320016008366805,0.012049810789341902,0.6225485227064812,-0.1332135483163441,-1.3267287150225198,-0.9478661703279609,-0.7319341500357252,-0.6671545439480542,-1.2069845946786437,0.46550705340303694,-0.47870478078392126,1.3096049509090502,1.8867323505992073,-0.6769696357795195,2.020217599507135,-0.26473577885797844,1.2094910142281041,-1.0342389784448554,1.916177626093603,0.041495086283737694,1.5137588610035273,-0.7319341500357252,0.38698631875131484,-0.6377092684536584,-0.6337832317210725,1.4568313283810292,-0.48066779915021424,-0.386442917568148,2.0692930586644613,0.4203576309782971,0.14749807806356266,-0.7908247010245167,-1.1186487681954564,-0.005617354507295684,0.5558058982525172,-0.5238542032086617,0.862036763394234,-0.5532994787030575,-0.07039696059496608,0.21227768415123305,-1.322802678289934,0.6873281287941522,-0.2863289808872019,-0.18817806257254927,-1.9411534636722456,-1.279616274231487,-0.6435983235525378,0.21816673925011243,0.11412676583658042,-0.39036895430073393,-0.6769696357795195,1.5274999895675783,-0.5572255154356434,0.38698631875131484,0.2809833269714899,-1.2462449620045049,-1.1932434661145925,0.918964296016732,0.7049952940907898,-0.4571115787546978,-1.3973973762090701,-1.7212954066474235,-1.6251075066990641,-0.05665583203091494,0.5165455309266562,-0.6416353051862449,-0.47870478078392126,-0.9007537295369276,-0.7103409480065017,-0.07235997896125959,-0.5984489011277974,0.9680397551740584,-0.9655333356245985,0.09253356380735694,-0.07432299732755253,0.1749803351916655,-1.6447376903619948,2.393191089102815,1.2153800693269834,-1.5721060108091518,1.8710282036688626,-1.1127597130965776,-0.6514503970177101,-0.9164578764672723,-0.031136593269105034,-0.5356323134064199,1.5706863936260254,-1.2855053293303658,0.08860752707477107,0.5989923023109648,-0.3962580093996133,0.14946109642985558,0.6971432206256174,0.19657353722088897,0.6735870002301004,1.8356938730755874,-0.6377092684536584,1.1054510408145721,0.6362896512705329,0.24957503311080118,-0.533669295040127,-0.7574533887975345,-0.16462184217703285,-1.1677242273527826,0.9464465531448348,0.012049810789341902,-0.6259311582559002,1.837656891441881,-0.03898866673427736,-0.6357462500873655,-1.6643678740249253,1.4313120896192193,0.023827920987100105,-1.1579091355213174,-0.7731575357278792,0.6971432206256174,2.3912280707365214,0.2888354004366622,-1.2030585579460578,-0.48263081751650716,0.7874420654750978,-0.5081500562783171,-1.8567436739216443,0.714810385922255,0.29668747390183453,-0.7417492418671905,-1.2128736497775232,0.9287793878481972,0.6146964492413088,-0.8320480867166707,-1.214836668143816,-0.8654193989436524,-0.34718255024228695,-0.7986767744896891,0.7442556614166508,-1.511252441454067,-0.5552624970693505,-0.5022610011794377,1.378310593729307,-0.32166331148047705,1.5235739528349925,-0.6239681398896073,0.4046534840479524,-0.6514503970177101,0.9621507000751796,0.5499168431536384,1.4195339794214605,0.8051092307717354,-1.0852774559684746,-1.150057062056145,-0.885049582606583,-0.27455087068944367,0.36735613508838433,0.20049957395347484,-0.09199016262419012,0.004197737324169579,0.17694335355795843,-0.6082639929592627,-0.7888616826582239,-1.6761459842226833,-0.18817806257254927,-1.5858471393732032,1.1427483897741406,0.983743902104403,0.26135314330855935,-1.81552028822949,0.8325914878998382,0.16320222499390674,-1.0224608682470966,1.4902026406080109,-1.7487776637755263,0.3163176575647651,-0.8104548846874473,0.6951802022593244,-0.5847077725637463,1.0995619857156926,1.174156683634829,1.3802736120955994,1.9279557362913617,0.131793931133218,0.8914820388886298,-1.2992464578944176,0.20835164741864717,1.1329332979426754,-0.6278941766221932,1.148637444873019,-0.6396722868199514,0.9052231674526808,0.15535015152873496,-0.5847077725637463,-1.5132154598203602,-0.5061870379120241,0.4812112003333816,1.195749885664053,0.6343266329042394,0.714810385922255,-0.8732714724088247,1.4293490712529258,-2.192419814557756,0.9739288102729378,0.3850233003850219,0.10038563727252928,-0.8497152520133083,-0.6357462500873655,1.6786524037721433,-0.8084918663211543,-0.6102270113255556,-1.1853913926494202,0.4340987595423482,0.8051092307717354,0.5243976043918286,0.22012975761640538,0.12786789440063212,1.1545264999718983,1.2251951611584486,-1.2678381640337282,0.14749807806356266,0.9209273143830256,-0.6435983235525378,-0.013469427972468008,0.544027788054759,1.2094910142281041,0.5989923023109648,-1.44254679863381,-0.08021205242643135,0.797257157306563,0.45961799830415817,0.7442556614166508,-0.7221190582042599,0.3241697310299374,0.3143546391984721,-1.1461310253235593,-0.17639995237479106,-0.6887477459772777,0.877740910324578,-1.2069845946786437,-0.9400140968627887,-0.47870478078392126,0.07682941687701286,-0.058618850397207885,-0.6534134153840031,1.3174570243742219,0.22994484944787064,1.4744984936776662,0.44783988810639935,1.0288933245291434,-0.30203312781754654,-2.4044257981174058,-1.848891600456472,-0.48066779915021424,-0.49637194608055885,0.19461051885459602,-0.8006397928559821,-0.6435983235525378,1.0347823796280222,-0.6534134153840031,-1.1402419702246798,1.9888093056464458,1.2624925101180162,1.378310593729307,1.3999037957585299,1.4018668141248234,1.199675922396639,-0.9969416294852873,0.4713961085019163,1.0269303061628499,0.36735613508838433,-1.5014373496226017,1.021041251063971,0.5989923023109648,-0.08217507079272485,-0.6867847276109847,-0.5002979828131447,0.5145825125603632,0.004197737324169579,0.6186224859738954,-0.4983349644468518,1.6177988344170593,-1.2855053293303658,-1.2442819436382118,-2.1943828329240493,1.091709912250521,0.21227768415123305,-0.9459031519616681,-2.653729130636624,0.7246254777537202,-0.924309949932444,0.5872141921132066,0.33398482286140263,-1.1952064844808856,-1.7114803148159583,-0.03309961163539853,-1.336543806853985,-0.005617354507295684,-0.19014108093884274,0.047384141382617075,-1.4445098170001032,-0.9321620233976163,-0.05272979529832906,0.07486639851071937,-2.1570854839644813,1.464683401846201,-0.802602811222275,0.17105429845907905,0.27116823514002464,-1.7095172964496654,-0.8909386377054623,-0.23529050336358262,-0.7417492418671905,-1.4602139639304477,0.0022347189578766375,-0.4865568542490936,0.09645960053994339,1.119192169378623,0.047384141382617075,0.22012975761640538,0.836517524632424,1.3429762631360318,-0.36092367880633813,0.4890632737985539,0.12983091276692507,0.07290338014442642,-1.5779950659080308,1.3233460794731013,-2.967812069243512,0.9660767368077654,0.8149243226032006,-0.01935848307134683,-0.23725352172987557,0.8993341123538015,-0.31970029311418413,0.24564899637821527,0.771737918544753,-1.0067567213167525,-0.0841380891590178,-0.427666303260302,-1.134352915125801,1.0838578387853486,0.5891772104794996,0.5479538247873456,-1.25606005383597,-0.6514503970177101,-0.2882919992534954,0.20638862905235422,0.3222067126636445,-1.0185348315145109,1.2939008039787054,-0.8399001601818431,1.1329332979426754,1.9515119566868782,-1.3797302109124325,-0.12928751158375767,-0.11358336465341358,-0.7594164071638281,-0.2706248339568578,-0.7594164071638281,0.09253356380735694,0.08271847197589169,-1.2639121273011424,0.6441417247357046,0.19068448212200959,-0.29614407271866716,-0.2117342829680662,-0.12928751158375767,-0.2038822095028939,-0.5572255154356434,-1.026386904979683,1.174156683634829,-0.5434843868715923,0.9111122225515602,0.5872141921132066,-0.43551837672547433,-0.34325651350970054,-1.9804138309981065,-0.1332135483163441,-0.1253614748511718,1.564797338527147,0.8954080756212156,1.5294630079338718,0.17105429845907905,1.751284083324987,0.18086939029054433,-0.48066779915021424,-0.07235997896125959,1.2369732713562063,-0.1489176952466882,-0.6455613419188307,1.503943769172062,-0.1332135483163441,-0.3962580093996133,-0.6200421031570208,0.17694335355795843,-1.5642539373439794,0.2633161616748529,0.689291147160445,0.2652791800411458,-1.428805670069759,-0.42374026652771557,0.8247394144346658,1.3096049509090502,0.42820970444346884,1.3626064467989625,-1.4268426517034656,0.16712826172649317,0.7265884961200132,1.062264636756125,0.5989923023109648,-0.6239681398896073,-0.4315923399928879,2.238112638165663,-1.6820350393215626,0.7874420654750978,1.8631761302036909,-1.2030585579460578,-1.2678381640337282,-0.4747787440513354,-0.0036543361410027436,1.973105158716101,-2.0805277676790523,-0.2117342829680662,-0.36877575227151044,-0.46692667058616305,-0.9262729682987375,1.2840857121472402,0.23779692291304297,-0.2117342829680662,2.322522427916265,0.6814390736952728,0.6225485227064812,0.7422926430503572,-0.8536412887458943,-1.7095172964496654,-0.2333274849972897,1.4587943467473214,-0.6769696357795195,-0.12928751158375767,0.3123916208321792,-0.3000701094512536,0.6382526696368258,0.2319078678141636,0.8090352675043212,-0.4649636522198701,-1.4405837802675172,-1.4523618904652753,-0.7437122602334834,0.3104286024658857,1.4882396222417174,-0.8399001601818431,-0.7751205540941721,-0.39233197266702685,0.1082377107377016,-1.843002545357593,0.7737009369110466,1.009263140866213,-0.1449916585141023,-0.4257032848940091,0.4792481819670887,0.4753221452345022,0.4105425391468318,1.7277278629294694,0.11412676583658042,0.6794760553289798,-1.2501709987370913,0.3437999146928679,-1.5348086618495835,-0.5964858827615045,-0.6416353051862449,0.47728516360079515,-0.7260450949368458,-1.1166857498291634,-1.201095539579765,-0.40411008286478506,0.9052231674526808,-1.507326404721481,-0.35699764207375223,-0.9007537295369276,1.9259927179250682,1.305678914176463,0.8463326164638894,0.9935589939358682,0.07290338014442642,-0.6259311582559002,-0.058618850397207885,0.506730439095191,0.21816673925011243,-0.6867847276109847,-2.180641704359998,-0.21762333806694503,0.19657353722088897,-1.014608794781925,1.2330472346236205,-0.1430286401478094,-1.5014373496226017,0.11020072910399453,0.8325914878998382,1.651170146644041,1.2919377856124121,2.328411483015144,-0.45907459712099075,1.013189177598799,0.22012975761640538,0.5891772104794996,-0.31184821964901177,1.8062485975811917,0.42820970444346884,-0.364849715538924,-1.509289423087774,-0.38447989920185455,-1.58388412100691,-1.2246517599752813,0.6991062389919104,-1.5583648822451002,0.3968014105827801,-1.097055566166233,0.506730439095191,-0.5788187174648669,1.6649112752080921,-0.2588467237590996,-0.4198142297951297,-1.4248796333371727,0.9523356082437142,0.16909128009278612,-0.8045658295885679,-1.1245378232943357,-1.297283439528124,-0.22743842989841032,0.2319078678141636,0.4537289432052788,0.3143546391984721,0.9876699388369888,0.09057054544106401,-1.7821489760025084,-0.15284373197927464,-0.9360880601302027,-1.5681799740765656,-0.03506263000169148,-0.013469427972468008,-1.1049076396314053,0.4812112003333816,-0.5768556990985739,-0.09199016262419012,0.21816673925011243,0.1867584453894237,-0.44729648692323254,0.21816673925011243,-0.7044518929076223,-0.7594164071638281,-2.5752083959849017,-0.37270178900409634,-0.6475243602851237,0.650030779834584,-1.0342389784448554,0.059162251580375275,-0.31970029311418413,0.714810385922255,0.0650513066792541,1.036745397994315,0.4262466860771759,-0.18425202583996336,-0.5258172215749547,0.5538428798862244,1.2114540325943977,-0.8124179030537403,0.17890637192425138,-1.0852774559684746,0.09253356380735694,0.944483534778542,1.0190782326976782,-0.29221803598608126,2.224371509601612,0.1082377107377016,0.23779692291304297,-0.5984489011277974,-0.29221803598608126,-0.6494873786514166,-0.8889756193391694,-1.44254679863381,0.714810385922255,-0.17836297074108398,-1.6584788189260458,-0.44140743182435316,0.7383666063177714,0.3653931167220914,-0.8006397928559821,0.7010692573582032,1.5000177324394761,0.041495086283737694,-0.9753484274560639,0.6284375778053606,-0.8065288479548609,-0.5218911848423682,2.0300326913386004,0.6559198349334634,0.8208133777020794,-0.08217507079272485,0.8639997817605269,0.9091492041852668,-2.6380249837062792,-0.26277276049168546,0.25546408820968053,1.0328193612617294,0.0944965821736499,1.2840857121472402,-1.6192184516001848,0.9700027735403518,0.7403296246840644,-0.69659981944245,-1.0499431253751994,2.206704344304975,2.6562355501860835,-0.24314257682875495,1.1839717754662942,-0.20780824623547978,0.8698888368594058,-0.9184208948335651,1.5883535589226634,-1.2266147783415742,-0.9910525743864079,0.20049957395347484,-1.7173693699148374,1.2291211978910346,0.8561477082953546,0.3771712269198496,0.5008413839963122,-0.06647092386238021,0.33398482286140263,-0.01935848307134683,-2.0569715472835357,0.6146964492413088,-0.8457892152807219,1.4254230345203398,0.7501447165155296,-1.0401280335437342,-0.029173574902812093,-0.7868986642919303,-0.6200421031570208,0.01008679242304896,-0.8987907111706347,-0.9360880601302027,-0.1253614748511718,0.585251173746913,-0.7044518929076223,0.6539568165671699,-1.360100027249502,-0.34129349514340757,0.650030779834584,1.2821226937809467,1.0073001224999194,0.2515380514770941,1.3488653182349113,-2.351424302227494,-0.5002979828131447,-0.10965732792082715,-0.885049582606583,-1.1265008416606286,1.8298048179767092,-0.03898866673427736,-0.46692667058616305,1.7179127710980042,-0.924309949932444,1.6649112752080921,1.486276603875425,-0.037025648367984415,-1.0420910519100273,1.1074140591808654,-0.26866181559056485,-0.9282359866650305,0.7030322757244962,-0.08021205242643135,-0.058618850397207885,0.7246254777537202,0.03756904955115181,0.18086939029054433,0.9287793878481972,-0.1332135483163441,0.1435720413309762,0.8306284695335446,2.2557798034623016,0.5616949533513966,-0.6239681398896073,-0.3059591645501324,-0.9262729682987375,-1.0028306845841661,-0.8713084540425318,-2.14334435540043,0.48317421869967453,0.5911402288457924,0.22209277598269833,0.9111122225515602,0.650030779834584,-0.4649636522198701,-0.9282359866650305,-0.40214706449849213,-1.071536327404423,-0.5866707909300392,-1.177539319184248,0.8738148735919922,-0.7554903704312416,1.3331611713045666,-0.9832005009212356,-0.5631145705345227,1.708097679266539,-0.8614933622110665,1.833730854709295,0.12786789440063212,-0.9301990050313234,1.6943565507024878,1.2389362897224998,-1.3581370088832092,-0.3530716053411658,0.9876699388369888,1.305678914176463,-1.1480940436898521,-0.8752344907751177,0.019901884254514224,-0.8713084540425318,0.504767420728898,0.8129613042369076,1.1152661326460374,1.386162667194479,-0.4158881930625438,-0.007580372873588626,0.2279818310815777,-0.7299711316694323,-1.2619491089348494,-1.1186487681954564,0.650030779834584,-0.31773727474789115,0.20835164741864717,0.0944965821736499,-0.7770835724604651,0.17890637192425138,-1.0793884008695953,0.5499168431536384,-0.8634563805773595,0.3968014105827801,-0.42962932162659495,0.6618088900323422,-0.9910525743864079,1.0269303061628499,0.47728516360079515,-0.6396722868199514,0.16320222499390674,-0.36877575227151044,1.036745397994315,1.6649112752080921,1.3292351345719806,-0.5984489011277974,0.4556919615715717,1.235010252989914,2.3343005381140234,-0.15873278707815347,3.0193939479502983,0.4026904656816595,0.15338713316244149,-0.7162300031053805,-0.9871265376538221,0.6814390736952728,-0.6926737827098641,-0.19799315440401452,1.2585664733854305,-2.066786639115001,-0.4433704501906461,0.5754360819154478,-0.24903163192763433,0.8424065797313034,-1.1049076396314053,0.5145825125603632,0.051310178115202956,0.612733430875016,0.24761201474450822,-0.616116066424435,-0.07628601569384547,-1.1677242273527826,0.7933311205739771,0.20835164741864717,0.3555780248906261,0.5145825125603632,-0.11162034628712064,0.2240557943489918,0.00616075569046252,-1.218762704876402,-0.51011307464461,0.918964296016732,-0.43551837672547433,-0.6082639929592627,0.7638858450795813,-0.9478661703279609,-1.138278951858387,0.06701432504554761,-0.09199016262419012,-1.1657612089864897,0.7010692573582032,-0.3962580093996133,0.20049957395347484,0.012049810789341902,0.11412676583658042,-1.3915083211101908,-0.5729296623659881,1.8749542404014485,1.2114540325943977,-1.2069845946786437,-0.07235997896125959,0.5813251370143272,-0.36092367880633813,-1.6035143046698404,2.2027783075723892,-0.13517656668263706,0.8090352675043212,-1.0322759600785618,-0.27455087068944367,0.7128473675559615,-0.05665583203091494,0.2947244555355416,0.7521077348818226,-0.8300850683503779,1.0740427469538834,-0.07235997896125959,-0.655376433750296,1.144711408140433,-0.3059591645501324,0.3065025657332998,0.3634300983557984,-0.33933047677711464,0.5754360819154478,0.4046534840479524,0.2652791800411458,-0.29418105435237424,-0.9694593723571845,-0.26669879722427137,0.33398482286140263,-1.509289423087774,0.16909128009278612,-1.2226887416089884,0.6578828532997564,-1.509289423087774,-0.6750066174132265,0.23779692291304297,-0.6632285072154683,1.4627203834799074,2.289151115689283,-0.6494873786514166,-0.07039696059496608,-0.51011307464461,-0.9930155927527009,2.440303529893848,1.4509422732821498,0.13964600459839033,-0.5317062766738335,-2.0373413636206053,-1.108833676363991,-1.2855053293303658,0.7364035879514784,-0.04487772183315674,-0.5493734419704711,-1.4857332026922572,1.199675922396639,1.0818948204190557,-0.29418105435237424,-0.43944441345806023,-1.2639121273011424,0.24368597801192235,-2.184567741092584,-1.4327317068023449,-0.8654193989436524,-0.7633424438964139,-1.1952064844808856,-1.2246517599752813,-1.132389896759508,1.6629482568417997,0.4615810166704511,-0.009543391239881568,1.1034880224482797,-0.924309949932444,1.0524495449246598,0.22209277598269833,-0.9596442805257192,0.18872146375571663,0.3163176575647651,0.4851372370659675,-0.09787921772306894,-0.7456752785997763,0.03953206791744475,1.3743845569967201,-0.5690036256334016,-1.0401280335437342,1.2173430876932758,-0.9164578764672723,1.6276139262485245,-0.26277276049168546,-0.29418105435237424,1.2683815652168957,2.2184824545027326,2.4422665482601413,-0.9871265376538221,-1.320839659923641,-0.02328451980393327,0.6775130369626868,0.9641137184414724,1.0406714347269017,0.24368597801192235,0.2279818310815777,-0.6023749378603839,-0.5827447541974533,0.8502586531964752,0.2829463453377834,0.9130752409178532,-1.434694725168638,-1.9058191330789707,1.812137652680071,1.0936729306168145,0.46550705340303694,0.22209277598269833,-1.6584788189260458,0.60880739414243,-0.41392517469625034,-1.362063045615795,0.9876699388369888,0.16320222499390674,-1.3385068252202785,0.07094036177813348,0.21227768415123305,-0.9439401335953745,1.759136156790159,-0.9321620233976163,-1.8960040412475054,-1.132389896759508,0.25939012494226643,1.066190673488711,-0.11750940138599947,-0.7005258561750365,-0.09984223608936188,-0.26277276049168546,0.2927614371692487,0.0022347189578766375,0.4694330901356234,-1.0597582172066649,0.3241697310299374,-0.5297432583075405,-0.8713084540425318,-1.1206117865617493,0.019901884254514224,0.2750942718726111,-1.2619491089348494,0.2888354004366622,-0.09002714425789661,0.26135314330855935,0.131793931133218,0.17694335355795843,-1.110796694730284,-0.37073877063780336,0.3261327493962303,-0.47674176241762833,-1.4562879271978615,-0.06058186876350083,-0.23136446663099675,1.1839717754662942,-1.2344668518067465,0.9307424062144908,0.8129613042369076,2.063404003565582,-0.7790465908267585,-1.848891600456472,1.0975989673494002,1.166304610169657,0.2947244555355416,-1.5662169557102725,1.0033740857673334,-0.41392517469625034,-0.25295766866022024,-0.5415213685052988,-1.923486298375608,1.5117958426372338,0.7265884961200132,-0.7653054622627069,-1.324765696656227,-1.097055566166233,-0.15284373197927464,-1.1461310253235593,-0.8909386377054623,0.942520516412249,-0.9282359866650305,-0.1508807136129817,0.13964600459839033,-0.24706861356134083,1.3488653182349113,-1.1480940436898521,-1.2658751456674353,-0.26473577885797844,-1.9882659044632789,-0.30988520128271885,0.4262466860771759,-0.25295766866022024,0.9778548470055236,0.9523356082437142,1.2840857121472402,-0.7103409480065017,1.0328193612617294,-0.36877575227151044,1.464683401846201,0.5381387329558802,0.08860752707477107,0.6304005961716536,-1.1029446212651122,1.0053371041336265,-3.9336171054596942,2.084997205594806,0.16516524336020025,0.11805280256916686,-2.1669005757959465,1.1074140591808654,0.8031462124054424,1.1623785734370713,0.2986504922681275,-0.20977126460177328,-0.6063009745929697,-0.013469427972468008,0.18479542702313076,-0.49637194608055885,-0.7574533887975345,0.6146964492413088,-1.3483219170517438,0.359504061623212,-1.0126457764156314,0.2829463453377834,-0.6514503970177101,0.4733591268682093,-0.6514503970177101,1.5844275221900777,-0.9635703172583051,-0.4944089277142659,-1.2325038334404537,-0.5925598460289185,-0.17247391564220516,0.3025765290007139,1.0269303061628499,0.4851372370659675,-1.4307686884360518,-0.25295766866022024,-0.9419771152290816,1.0583386000235393,-1.0499431253751994,1.0485235081920738,1.733616918028349,-0.2117342829680662,-0.29221803598608126,-1.1166857498291634,1.3645694651652547,0.6618088900323422,-1.1814653559168344,0.30846558409959274,-1.6800720209552695,-0.015432446338760949,-2.363202412425252,-0.16069580544444695,1.6766893854058509,0.6284375778053606,0.14160902296468328,-0.6475243602851237,-1.9450795004048318,0.9700027735403518,-0.5807817358311598,0.18283240865683725,0.8325914878998382,-1.1559461171550245,-0.06450790549608727,-0.015432446338760949,-0.8968276928043417,0.4851372370659675,1.1388223530415538,-0.8497152520133083,0.15142411479614853,0.7030322757244962,0.047384141382617075,-0.13713958504893,0.6402156880031188,-0.058618850397207885,1.2507143999202586,0.3653931167220914,-0.6514503970177101,-0.2156603197006521,-0.26277276049168546,-0.39036895430073393,-1.6447376903619948,1.331198152938273,-0.5277802399412476,0.44587686974010643,-0.7829726275593445,-1.3954343578427766,-0.9184208948335651,0.07094036177813348,2.766164578698495,-1.2894313660629522,2.2361496197993707,-1.8115942514969041,0.7206994410211338,1.0544125632909527,-1.1402419702246798,1.1093770775471579,0.4439138513738135,-0.9341250417639093,1.629576944614817,-0.48066779915021424,-0.5964858827615045,0.5420647696884662,-1.0362019968111484,-0.8163439397863261,0.9542986266100072,-0.6808956725121059,-0.17639995237479106,-0.16658486054332577,0.14749807806356266,-0.19603013603772157,0.22601881271528476,0.5224345860255356,-0.37662782573668274,-0.5317062766738335,-0.0409516851005703,-0.3530716053411658,-0.14695467688039526,0.7913681022076836,-0.8889756193391694,-0.02328451980393327,0.019901884254514224,-0.1253614748511718,-0.7849356459256374,1.0975989673494002,-1.218762704876402,0.0650513066792541,0.012049810789341902,-0.36092367880633813,0.5832881553806202,-0.2882919992534954,-1.776259920903629,-0.8693454356762389,2.3657088319747115,-1.6898871127867348,-0.6435983235525378,-0.4944089277142659,0.7697749001784602,0.24957503311080118,-0.36877575227151044,-0.26080974212539254,0.14160902296468328,1.7768033220867958,0.2692052167737317,-0.8673824173099459,0.07094036177813348,0.06701432504554761,-0.2882919992534954,0.5832881553806202,1.712023715999126,1.4293490712529258,-0.5356323134064199,-1.25606005383597,1.0171152143313846,-1.0224608682470966,0.8718518552256992,-0.32166331148047705,-1.3993603945753632,0.0650513066792541,-1.0597582172066649,-0.42177724816142265,-1.8999300779800916,-0.14695467688039526,0.5616949533513966,-0.8202699765189125,-0.8968276928043417,-0.8791605275077041,-0.44729648692323254,0.4537289432052788,-0.427666303260302,-0.48066779915021424,0.530286659490708,-2.2297171635173245,0.04934715974891001,1.6786524037721433,0.4615810166704511,1.4843135855091314,-1.2933574027955381,-1.542660735314756,0.29668747390183453,-0.1076943095545342,-0.7633424438964139,0.46550705340303694,0.5813251370143272,0.25939012494226643,2.5993080175635854,1.0445974714594874,-0.5631145705345227,-0.11358336465341358,-0.7123039663727947,0.3241697310299374,0.5538428798862244,0.6853651104278592,1.5706863936260254,0.7128473675559615,-1.5367716802158768,0.318280675931058,0.799220175672856,1.5549822466956817,-0.7711945173615863,0.4890632737985539,1.625650907882231,-0.9184208948335651,-0.04487772183315674,0.4144685758794177,0.32024369429735094,-0.5591885338019363,1.2173430876932758,-0.0016913177747092446,0.13375694949951095,0.8738148735919922,0.9641137184414724,0.14946109642985558,0.7521077348818226,-0.6475243602851237,0.3359478412276956,-1.067610290671837,-1.4503988720989824,0.4301727228097624,-0.35110858697487285,0.059162251580375275,0.42820970444346884,1.6825784405047302,-1.6820350393215626,0.2927614371692487,0.1612392066276138,-0.5964858827615045,0.09253356380735694,-0.6789326541458124,0.7638858450795813,-1.0047937029504597,0.5479538247873456,0.2044256106860613,0.754070753248116,0.6598458716660492,-0.6808956725121059,0.4969153472637257,-2.1276402084700856,1.6276139262485245,-1.0990185845325258,-1.1127597130965776,0.6539568165671699,-1.6859610760541488,0.36735613508838433,-0.2333274849972897,1.9652530852509293,0.1867584453894237,-1.6388486352631153,1.6570592017429202,-0.20977126460177328,0.29668747390183453,-0.9223469315661511,1.7355799363946425,1.2860487305135326,2.9683554704266797,-1.2383928885393325,0.2888354004366622,-0.7437122602334834,-0.7417492418671905,-0.19995617277030803,0.9052231674526808,0.8973710939875086,-0.8477522336470155,-0.7064149112739153,0.5008413839963122,0.2535010698433876,-0.2235123931658244,-0.32951538494564936,0.03560603118485831,-1.360100027249502,-0.6043379562266767,0.2829463453377834,-0.8281220499840849,0.06112526994666822,0.3536150065243332,0.12394185766804568,-0.8399001601818431,1.1054510408145721,-0.25492068702651316,-0.6023749378603839,0.21816673925011243,-0.42177724816142265,0.569547026816569,0.569547026816569,-2.2866446961398226,-0.8791605275077041,1.4234600161540463,0.6696609634975146,2.214556417770147,-1.5603279006113933,0.03953206791744475,1.5235739528349925,0.5813251370143272,0.3163176575647651,0.40857952078053833,-0.11358336465341358,-1.2599860905685565,0.6166594676076024,-0.5179651481097823,0.20638862905235422,-0.48459383588280064,0.3732451901872637,-0.009543391239881568,0.173017316825372,1.2978268407112914,-0.22743842989841032,-0.40607310123107854,-1.9077821514452635,0.48317421869967453,-0.40018404613219916,0.08075545360959875,1.1348963163089678,-0.027210556536519152,-0.16069580544444695,-0.27847690742203013,0.8227763960683729,-0.5022610011794377,-1.3777671925461397,-0.29221803598608126,-0.07039696059496608,-0.054692813664622,1.1152661326460374,0.047384141382617075,1.3900887039270646,0.8816669470571645,1.4450532181832705,-0.39036895430073393,0.5499168431536384,-1.8115942514969041,-0.6612654888491754,0.6814390736952728,-0.25492068702651316,0.41643159424571063,1.021041251063971,1.5373150813990437,-0.19799315440401452,-0.8202699765189125,-0.5631145705345227,-1.3149506048247617,-2.628209891874814,-0.18817806257254927,-0.8320480867166707,0.3163176575647651,0.836517524632424,0.00616075569046252,0.7187364226548408,1.3940147406596506,0.3653931167220914,0.14160902296468328,-1.919560261643022,0.48710025543226043,-1.6035143046698404,1.199675922396639,-0.9773114458223567,1.4548683100147357,1.7768033220867958,-1.0499431253751994,-1.0617212355729577,-0.06058186876350083,-0.5277802399412476,0.5401017513221732,-1.4248796333371727,-0.7574533887975345,-0.9498291886942539,-1.5995882679372542,0.6264745594390676,0.4144685758794177,0.47728516360079515,-1.3934713394764837,-0.20780824623547978,-0.8241960132514985,0.8090352675043212,0.6461047431019982,0.2750942718726111,0.16712826172649317,-0.06058186876350083,-0.2333274849972897,1.339050226403446,-0.4315923399928879,1.4372011447180986,-0.9027167479032205,0.051310178115202956,-0.2038822095028939,0.27116823514002464,-0.48263081751650716,-0.037025648367984415,-1.2325038334404537,0.38698631875131484,1.1898608305651734,-0.06254488712979432,0.8345545062661311,-1.1461310253235593,-1.1127597130965776,-0.04684074019944968,1.6865044772373161,0.8168873409694936,0.059162251580375275,0.14946109642985558,1.7139867343654185,0.2986504922681275,-0.16462184217703285,-0.07824903406013842,1.1211551877449166,-1.5642539373439794,-1.053869162107786,0.17890637192425138,0.3928753738501942,0.651993798200877,-2.7401019387535177,0.9700027735403518,-0.22743842989841032,-1.7252214433800097,0.1082377107377016,-0.09199016262419012,-1.030312941712269,1.7061346609002466,-0.5984489011277974,0.6598458716660492,-0.2588467237590996,0.4674700717693299,0.4125055575131248,-0.32951538494564936,-0.9871265376538221,0.9974850306684542,0.06897734341184054,-1.279616274231487,0.30846558409959274,0.5008413839963122,-1.6467007087282877,1.0956359489831067,-0.1449916585141023,-1.0185348315145109,-0.6416353051862449,1.647244109911455,0.610770412508723,0.2888354004366622,0.2986504922681275,-1.0479801070089065,-0.8163439397863261,-1.0577951988403718,-2.017711179957675,0.8875560021560434,0.7874420654750978,-0.6004119194940903,0.1200158209354598,0.3104286024658857,0.26135314330855935,-0.8124179030537403,0.9660767368077654,-0.20977126460177328,-0.21958635643323854,-0.26080974212539254,-1.6074403414024265,1.0936729306168145,0.2809833269714899,-0.7417492418671905,0.84044356136501,-0.11554638301970653,-0.38447989920185455,1.4725354753113726,-1.1009816028988189,0.3732451901872637,-2.1335292635689647,-1.0401280335437342,0.8934450572549227,0.24761201474450822,0.4674700717693299,0.3555780248906261,-1.0872404743347677,0.4066165024142454,0.11020072910399453,-0.5434843868715923,0.3771712269198496,-0.8359741234492567,0.2162037208838195,0.7442556614166508,0.7795899920099254,0.2515380514770941,-1.1814653559168344,-2.989405271272736,0.30061351063442043,-0.7574533887975345,-0.15676976871186052,0.24172295964562884,-0.2706248339568578,0.22209277598269833,1.7650252118890382,-0.02328451980393327,-1.6054773230361337,-0.6220051215233143,-1.5917361944720823,1.1800457387337082,-0.4433704501906461,1.2094910142281041,0.9562616449763002,-0.7083779296402082,1.4921656589743033,-0.6789326541458124,-2.7558060856838624,0.983743902104403,-0.6769696357795195,-0.11750940138599947,-0.8771975091414111,1.0426344530931946,-1.1009816028988189,0.5950662655783784,1.1761197020011225,0.544027788054759,-1.6663308923912181,0.9327054245807838,-0.08806412589160367,0.2986504922681275,-0.5002979828131447,0.6166594676076024,1.2389362897224998,-1.403286431307949,-1.030312941712269,-0.16069580544444695,-0.8457892152807219,-0.054692813664622,1.916177626093603,0.7108843491896686,-1.81552028822949,0.6343266329042394,0.5224345860255356,0.04345810465003063,-0.40999913796366444,-0.5670406072671087,-0.8320480867166707,-0.21762333806694503,-0.17051089727591223,0.9150382592841462,1.3096049509090502,0.2044256106860613,-0.09002714425789661,0.37913424528614253,-0.7535273520649487,-1.1618351722539038,-0.6377092684536584,-0.042914703466863796,0.06897734341184054,1.3135309876416361,0.2044256106860613,0.08271847197589169,0.17694335355795843,-0.14106562178151644,-0.5375953317727129,-0.49637194608055885,1.6845414588710226,-0.13910260341522293,0.8011831940391488,2.1262205912869594,1.5785384670911982,-0.27651388905573665,-0.8045658295885679,0.2240557943489918,0.9542986266100072,0.12197883930175274,0.5989923023109648,-0.5297432583075405,1.2016389407629322,-0.7515643336986557,0.00616075569046252,-0.40214706449849213,0.06897734341184054,0.10234865563882221,-0.11358336465341358,1.1584525367044842,-0.06647092386238021,-1.1893174293820061,0.383060282018729,0.5911402288457924,1.1564895183381918,0.4026904656816595,0.7599598083469948,-1.0519061437414925,-2.4966876613331794,0.10234865563882221,0.8600737450279404,-0.013469427972468008,0.19657353722088897,-0.7986767744896891,-0.6435983235525378,0.79529413894027,0.7913681022076836,1.1682676285359495,-0.42962932162659495,-2.443686165443267,-1.5917361944720823,-0.5493734419704711,0.8325914878998382,-0.6828586908783989,0.19264750048830254,-0.26080974212539254,-0.09002714425789661,0.4851372370659675,-0.4728157256850419,1.647244109911455,-0.2451055951950479,-0.46888968895245603,0.12786789440063212,-0.30399614618383947,-0.3079221829164259,2.1635179402465283,1.0897468938842279,0.9366314613133696,1.2153800693269834,-1.509289423087774,-0.1449916585141023,0.3241697310299374,-0.2863289808872019,-0.39233197266702685,0.7815530103762184,-0.5631145705345227,0.4026904656816595,-1.1637981906201968,-0.2156603197006521,-0.6259311582559002,0.9071861858189738,0.4517659248389858,-0.3373674584108217,-0.16462184217703285,-0.9949786111189943,-0.5847077725637463,1.1034880224482797,-0.512076093010903,-0.05076677693203556,-0.8791605275077041,-0.2882919992534954,-0.7554903704312416,0.17105429845907905,0.04934715974891001,2.530602374743329,0.6048813574098436,1.812137652680071,-0.10376827282194832,-0.39036895430073393,-2.1708266125285327,0.00616075569046252,-0.25492068702651316,1.2291211978910346,0.0650513066792541,-2.21401301658698,3.168583343788571,-0.03898866673427736,0.3771712269198496,1.655096183376627,-1.8037421780317318,0.4007274473153666,-0.6710805806806407,0.8227763960683729,-1.7428886086766473,1.5490931915968025,0.012049810789341902,-1.3973973762090701,0.424283667710883,0.9562616449763002,-0.364849715538924,0.3359478412276956,-0.7044518929076223,-0.5238542032086617,-0.6063009745929697,0.03953206791744475,-0.9557182437931333,1.4941286773405966,-1.240355906905626,-0.9989046478515803,-0.6494873786514166,-1.2030585579460578,-0.7554903704312416,0.6539568165671699,-0.9400140968627887,0.98178088373811,1.5844275221900777,-0.4257032848940091,-0.39036895430073393,0.6598458716660492,0.2338708861804571,-0.27455087068944367,-0.32951538494564936,0.4203576309782971,2.041810801536358,0.11020072910399453,0.33005878612881623,-0.427666303260302,1.3743845569967201,0.1200158209354598,1.4411271814506845,1.3841996488281854,0.2535010698433876,-0.47085270731874895,0.7089213308233756,0.08075545360959875,1.119192169378623,1.7139867343654185,1.199675922396639,-1.322802678289934,0.4419508330075206,0.7795899920099254,1.113303114279745,-0.5238542032086617,0.9700027735403518,0.06701432504554761,-0.09591619935677599,-0.34325651350970054,-0.5238542032086617,1.299789859077585,-0.3668127339052175,-0.24903163192763433,-0.43355535835918085,0.7835160287425118,-0.6396722868199514,-0.7142669847390876,-0.7319341500357252,0.4969153472637257,0.2240557943489918,1.0445974714594874,1.235010252989914,0.689291147160445,-0.5925598460289185,1.7925074690171405,0.5597319349851038,-0.2038822095028939,0.49495232889743274,-0.737823205134604,0.13571996786580445,-2.6085797082118836,0.7030322757244962,-0.6534134153840031,-0.9105688213683929,-1.3738411558135533,1.1250812244775026,1.2605294917517238,0.12983091276692507,-0.009543391239881568,1.1034880224482797,1.4411271814506845,-1.1441680069572662,-0.8202699765189125,-0.7338971684020181,0.8168873409694936,1.1780827203674147,1.1898608305651734,0.37520820855355663,0.903260149086388,-0.9400140968627887,0.9601876817088866,0.14946109642985558,1.3292351345719806,-0.33344142167823526,-2.0157481615913815,1.5000177324394761,0.25546408820968053,0.03364301281856537,0.48710025543226043,-0.15676976871186052,-1.3738411558135533,-1.1186487681954564,-1.2992464578944176,1.1152661326460374,-0.8948646744380482,-0.33147840331194234,0.8149243226032006,-0.9714223907234774,-0.12732449321746472,-1.0224608682470966,-0.32951538494564936,-0.24706861356134083,-0.13713958504893,-0.9517922070605469,0.2731312535063181,-0.16854787890961873,-0.042914703466863796,0.5989923023109648,0.7128473675559615,-1.324765696656227,0.19068448212200959,0.4517659248389858,0.11805280256916686,-0.4080361195973715,-0.41196215632995736,-1.5210675332855321,0.9484095715111278,0.9071861858189738,-0.989089556020115,-0.15873278707815347,0.9346684429470766,0.2024625923197678,-1.1716502640853692,0.10038563727252928,-0.05665583203091494,-0.7437122602334834,1.4529052916484422,-0.6926737827098641,-0.7810096091930515,-0.7221190582042599,1.1074140591808654,1.0406714347269017,-0.20977126460177328,-0.27455087068944367,1.0073001224999194,0.03756904955115181,-0.23136446663099675,0.2044256106860613,0.2338708861804571,-0.3491455686085799,-0.38840593593444095,-0.6318202133547796,-2.469205404205077,0.2279818310815777,0.47728516360079515,-0.45514856038840484,-0.16854787890961873,1.3331611713045666,-0.7201560398379669,-0.7044518929076223,0.9052231674526808,0.47728516360079515,-1.6722199474900972,-0.26277276049168546,-2.2100869798543936,-0.8771975091414111,0.06897734341184054,-2.2650514941105993,-0.05272979529832906,-0.8006397928559821],\"z\":[0.8574034446394462,1.048458149949096,-0.759667824012329,-0.0840826289483106,-0.2810462426695987,0.05379190065659106,0.22515024459411148,0.20939315549640877,2.46659616874237,-0.10180935418322665,-1.1831395935130984,-0.17468589126010303,0.036065175421675026,-2.2034111125893707,-1.4096477492925799,-0.6986091037587299,-0.16483771057403862,0.15030407138002236,-0.3814976856674555,0.7057414620740545,0.975581612872219,-0.36377096043254004,-1.951297687026122,-0.3874065940790944,0.9716423405977935,0.8869479866976394,1.8146466073249068,0.24287696982902754,-0.952692165459191,0.5245349374504698,-1.9591762315749734,-0.25347133674861827,-0.2633195174346827,2.173120384297651,-0.4464956781954808,1.2631484889053002,-0.7498196433262646,0.8081625412091241,-2.5717330702481798,0.701802189799629,0.9420977985396003,0.5383223904109596,1.3596606596287308,-1.1890485019247368,-0.23377497537648945,-0.6808823785238137,-0.6867912869354521,1.2670877611797255,-0.8305747249519926,0.2546947866523047,-0.854210358598547,-1.415556657704218,-0.9389047124987011,1.8540393300691644,1.0523974222235215,-0.5646738464282537,-0.9605707100080426,-0.3893762302163072,0.5402920265481724,0.44968876423638005,1.5231404590174003,-0.5016454900374417,0.42408349445261234,-0.36967986884417836,0.018338450186758982,-1.8035749767351559,1.024822516302541,1.235573582984319,-1.4470708358996243,-0.7478500071890518,-0.20226079718108347,-0.8069390913054383,-0.4169511361372876,0.9342192539907487,-0.2199875224159995,0.31181423463147834,0.7924054521114214,-1.6144899075627193,0.4260531305898257,0.5225653013132564,0.9184621648930459,-2.829755404223067,-0.4642224034303969,-0.021054272557498636,-1.1614735960037568,0.38666040784556804,-1.7385769842071306,0.5166563929016181,1.011035063342051,-0.5154329429979316,1.2513306720820223,-1.068900697554751,1.186332679553997,0.09712389567527423,0.1030328040869131,0.9066443480697682,0.7155896427601189,-0.10968789873207828,1.2237557661610425,-0.8384532695008443,-0.1490806214763359,1.0366403331258187,-1.8016053405979429,-0.013175728008647003,-1.7878178876374526,-1.5770668209556746,1.6885898945432818,-0.5686131187026793,-1.1949574103363756,1.3458732066682408,1.2749663057285767,1.143000684535314,-0.7163358289936453,-1.254046494452762,1.03073142471418,0.5580187517830885,0.6978629175252029,-0.6690645617005366,0.5422616626853852,1.2533003082192358,1.1843630434167849,-1.8764515138120323,-2.043870585475127,0.8574034446394462,-0.5961880246236597,-0.11756644328092992,0.13454698228231907,0.0006117249518429412,1.5960169960942765,-0.6158843859957884,0.2527251505150919,-1.3151052147063613,0.7884661798369953,-0.05256845075290462,-0.2771069703951732,0.5915025661157073,-1.7523644371676208,0.7254378234461833,0.1384862545567446,-1.007841977301152,-1.6164595436999323,-0.4071029554512232,1.1883023156912105,0.877099806011575,0.9598245237745163,0.863312353051085,0.7746787268765054,0.31181423463147834,-0.060446995301756255,-0.21210897786714789,0.4359013112758901,1.1607274097702305,0.49105112311785043,-0.1352931685158454,-1.551461551171907,0.9007354396581299,0.4733243978829344,-0.5646738464282537,1.2651181250425123,-0.24559279219976718,0.21727170004525986,0.8613427169138723,-0.5292203959584216,0.6860451007019257,0.400447860806058,-2.4555245381526194,-1.2658643112760393,-0.07029517598782066,-0.39922441090237154,-0.9231476234009978,0.6308952888599648,0.6643791031925842,-0.17665552739731635,-1.2087448632968656,-0.11559680714371659,1.4699602833126526,-0.1352931685158454,0.02227772246118508,1.1942112241028493,1.619652629740831,-0.18453407194616742,-0.5666434825654665,-0.45043495046990634,0.5993811106645589,-0.15301989375076144,-0.6257325666818528,0.5915025661157073,0.44771912809916725,-0.31453005700221803,1.781162792992288,0.6151381997622621,1.235573582984319,-0.3224086015510691,0.9598245237745163,-0.005297183459795366,0.09909353181248699,0.040004447696100565,0.7490734570927378,0.04197408383331389,1.0445188776746699,0.42408349445261234,-1.124050509396712,0.7707394546020798,1.5802599069965733,-0.13135389624141985,1.7476789786596683,1.0642152390467987,-1.4982813754671593,-1.0728399698291773,1.1489095929469528,0.3078749623570528,-1.1575343237293307,0.7727090907392926,0.11682025704740304,-0.11362717100650382,0.7864965436997826,0.2546947866523047,-0.5528560296049765,-0.34998350747204954,-0.3480138713348368,-0.3480138713348368,0.37287295488507755,0.07545789816593264,1.048458149949096,-1.5219170091137137,-0.8010301828937995,-1.0551132445942613,1.4148104714706917,1.6984380752293462,0.6151381997622621,0.6643791031925842,0.993308338107135,0.8652819891882978,-0.9625403461452554,-0.8837549006567402,-0.2515017006114055,-2.3924961817618073,-1.3978299324693026,0.10106316794970031,0.6308952888599648,-0.6316414750934918,-0.6099754775841502,2.0017620403601306,-0.5055847623118672,1.4542031942149494,0.5225653013132564,0.8593730807766595,-0.6946698314843037,-1.3032873978830841,1.1843630434167849,-0.2849855149440248,-1.4490404720368373,0.5658972963319401,0.7116503704856935,-2.063566946847256,0.055761536793803836,0.24681624210345307,-1.551461551171907,-1.7110020782861506,-0.4484653143326936,0.4122656776293352,-0.17862516353452912,-1.4293441106647085,1.0602759667723731,-1.0728399698291773,-0.7143661928564325,0.4752940340201477,-0.6670949255633233,1.4916262808219936,-0.2613498812974699,0.49105112311785043,0.6289256527227521,0.34332841282688437,0.764830546190441,0.9519459792256647,0.481202942431786,-0.2613498812974699,0.06954898975429377,2.3661447257445136,-1.043295427770984,1.6531364440734508,0.26651260347558187,0.6230167443111138,-0.3046818763161536,-1.8429676994794135,-0.28892478721845033,0.5028689399411276,0.7668001823276538,-0.7990605467565867,0.004550997226269039,-0.05059881461569185,0.9105836203441943,-1.3032873978830841,-0.6730038339749621,0.036065175421675026,-0.25347133674861827,0.3590855019245876,0.751043093229951,0.22318060845689872,-0.5784612993887436,-2.441737085192129,-0.07620408439945897,1.2296646745726814,-0.4130118638628621,0.31969277918033,0.2606036950639436,-0.3972547747651588,1.143000684535314,-0.8975423536172307,0.040004447696100565,-0.728153645816923,0.26454296733836913,-0.23180533923927668,0.8790694421487883,-1.092536331201306,-1.3702550265483222,-0.9192083511265723,2.9156732080269068,-0.43467786137220366,-0.16286807443682585,-1.8370587910677747,0.877099806011575,-1.6834271723651701,-0.41104222772564875,-0.9349654402242755,-1.271773219687678,1.562533181761658,1.402992654647414,1.1252739593003984,-0.8069390913054383,0.7786179991509309,-0.49573658162580286,-0.38346732180466886,1.7338915256991783,0.4713547617457216,0.3768122271595037,1.8422215132458868,1.3852659294124985,-1.750394801030408,1.107547234065482,0.22711988073132425,0.43984058355031563,-1.3485890290389806,0.8495249000905951,0.536352754273747,-0.29286405949287586,0.9736119767350063,-0.42482968068613924,-1.4647975611345403,-0.4071029554512232,-2.4693119911131096,0.999217246518774,1.5664724540360833,1.2296646745726814,1.1961808602400614,0.5245349374504698,0.6643791031925842,0.07742753430314542,-1.0826881505152417,0.7805876352881442,0.512717120627192,-1.1082934202990087,-0.36771023270696557,-0.6237629305446402,-1.7267591673838534,-1.384042479508812,-0.2101393417299351,-0.9507225293219782,-0.7498196433262646,-0.18650370808338076,-0.03681136165520135,0.07939717044035818,0.6072596552134105,0.634834561134391,0.12863807387068021,-1.486463558643882,0.3413587766896716,-0.08605226508552337,-1.5790364570928874,0.32166241531754275,-1.7267591673838534,1.3163286646100476,1.0602759667723731,-0.0880219012227367,-1.835089154930562,-1.0176901579872164,-0.5055847623118672,0.5068082122155537,0.6978629175252029,2.1081223917696255,-0.4425564059210553,-0.5607345741538281,0.5836240215668562,0.5974114745273461,-1.5396437343486298,-1.0649614252803257,-1.1279897816711375,-0.2751373342579604,1.8737356914412933,-1.2304108608062077,-0.6710341978377494,-0.3480138713348368,0.32166241531754275,-1.20480559102244,-1.124050509396712,-0.2751373342579604,-0.9920848882034486,-0.6355807473679173,2.1750900204348644,-0.009236455734221464,0.28817860098492404,-0.43073858909777757,-0.8384532695008443,0.1187898931846158,-0.6277022028190656,1.3498124789426664,0.9637637960489419,-0.15301989375076144,-0.661186017151685,0.8987658035209172,-0.6040665691725113,-1.1279897816711375,0.8495249000905951,-1.4135870215670052,0.15030407138002236,1.9269158671460407,-0.10771826259486551,-0.23771424765091556,0.6289256527227521,-1.1496557791804791,1.3242072091588988,-0.8699674476962502,0.9460370708140258,-1.1142023287106475,0.9499763430884519,-0.9664796184196816,0.4713547617457216,-0.1490806214763359,-0.4169511361372876,0.3709033187478648,2.0706993051625813,1.0898205088305664,0.7136200066229063,1.1449703206725272,0.18575752184985386,0.14439516296838348,-0.4051333193140104,0.7608912739160154,0.2901482371221368,-0.8423925417752698,-0.8975423536172307,-1.8981175113213742,-1.9316013256539932,-0.42286004454892645,0.13651661841953183,-0.41498150000007483,-1.1575343237293307,-0.2869551510812376,-1.305257034020297,1.143000684535314,-2.4240103599572134,0.7766483630137182,1.2119379493377647,-0.9723885268313198,0.11288098477297749,0.07742753430314542,-0.8069390913054383,0.19954497481034436,-0.9645099822824688,-1.6322166327976353,-0.4464956781954808,-1.5396437343486298,0.5836240215668562,0.2940875093965623,-1.4628279249973273,-0.5607345741538281,-0.17862516353452912,0.37484259102229034,2.0864563942602845,-0.2692284258463215,-0.6710341978377494,-1.4372226552135603,0.8357374471301046,0.5658972963319401,-0.1392324407902715,-0.6355807473679173,-0.13332353237863262,1.1745148627307205,-0.06635590371339456,1.1567881374958038,0.22515024459411148,0.6210471081739004,-0.525281123683996,1.3320857537077508,-0.42286004454892645,-0.3381656906487724,1.0898205088305664,0.8180107218951885,-1.8862996944980968,0.10894171249855139,0.301966053945414,0.6013507468017717,1.704346983640985,0.4949903953922765,-0.0742344482622462,0.21136279163362154,-0.5095240345862928,1.4482942858033105,0.17984861343821557,0.0518222645193783,-0.7675463685611806,-1.4096477492925799,0.9243710733046843,-0.11362717100650382,0.04591335610773943,-1.1575343237293307,0.6249863804483266,0.49892966766670205,-1.5672186402696102,-1.043295427770984,0.7983143605230597,-1.4254048383902824,1.0346706969886055,-1.9690244122610379,-1.0334472470849196,-0.3263478738254952,2.3543269089212355,0.1030328040869131,-1.0905666950640927,-0.328317509962708,0.7136200066229063,-0.8325443610892054,0.6860451007019257,-0.854210358598547,-1.1082934202990087,0.26454296733836913,0.2546947866523047,0.536352754273747,0.9893690658327096,0.652561286369307,0.4831725785689988,-0.9329958040870622,-1.322983759255213,1.5566242733500188,-1.1535950514549052,-0.01514536414585977,-1.3288926676668518,-0.6237629305446402,0.7687698184648666,-0.6631556532888977,-0.8325443610892054,-0.6749734701121749,-1.309196306294723,0.24287696982902754,-0.4287689529605648,-0.41498150000007483,0.9086139842069816,1.7693449761690103,0.18969679412427998,-1.9591762315749734,-1.2737428558248909,-0.1293842601042071,-1.0531436084570485,-0.005297183459795366,-0.4464956781954808,-0.23180533923927668,-0.20423043331829624,0.20742351935919545,1.241482491395958,0.660439830918158,-0.31649969313943077,-0.22786606696485115,0.6978629175252029,-0.5292203959584216,-1.019659794124429,-0.37361914111860445,-0.33422641837434686,1.3301161175705376,-1.602672090739442,0.7530127293671638,0.4949903953922765,-2.6662756048343974,-0.6395200196423434,0.9105836203441943,0.481202942431786,-0.25347133674861827,0.4752940340201477,-0.7951212744821605,-2.089172216631024,-0.661186017151685,0.28226969257328516,0.1227291654590419,-1.7681215262653238,0.8849783505604266,0.5068082122155537,1.1626970459074428,-0.2731676981207471,1.235573582984319,-0.31846932927664356,0.5402920265481724,0.1640915243405123,0.32757132372918163,-2.3826480010757427,-0.9172387149893595,-1.0767792421036027,0.18575752184985386,-1.141777234631628,1.1193650508887596,0.7943750882486342,2.096304574946349,0.1384862545567446,-1.0354168832221324,-1.1279897816711375,-1.7622126178536852,-2.427949632231639,0.04197408383331389,1.7417700702480303,-1.699184261462873,-3.075959921374677,-0.9310261679498495,-0.20423043331829624,-0.09787008190880112,1.3557213873543053,0.5639276601947274,-0.43270822523499086,0.12469880159625467,-0.2751373342579604,0.09909353181248699,-0.11362717100650382,1.2395128552587458,0.39059968011999363,0.14045589069395795,-0.8522407224613342,0.8731605337371494,0.3669640464734393,1.255269944356448,-0.21210897786714789,-0.7517892794634774,2.19281674566978,-0.05256845075290462,0.530443845862108,1.8638875107552288,2.789616495245283,-0.2101393417299351,-0.678912742386601,0.016368814049546213,3.213088264746052,-0.09983971804601388,-0.42482968068613924,-1.21859304398293,-0.4031636831767977,0.26257333120115633,1.2631484889053002,-0.9664796184196816,-0.4642224034303969,1.0720937835956503,1.501474461508058,1.3576910234915187,1.9603996814786595,0.0715186258915071,0.15227370751723512,1.395114110098563,0.6407434695460292,1.0740634197328631,-0.5489167573305505,-0.6099754775841502,-1.0176901579872164,-0.20816970559272233,-0.2101393417299351,-0.1451413492019098,0.2527251505150919,-0.994054524340662,1.3557213873543053,-0.19635188876944515,-1.551461551171907,-1.433283382939134,-1.401769204743728,0.36302477419901313,-0.9270868956754239,-1.4391922913507729,-0.43467786137220366,1.2513306720820223,0.44181021968752837,1.3222375730216867,0.24090733369181477,0.39650858853163246,-0.09196117349716225,-0.11756644328092992,0.45953694492244446,-1.0649614252803257,1.9249462310088274,-2.7155165082647197,1.0780026920072892,0.24090733369181477,-1.112232692573435,-0.3795280495302428,-0.4996758539002284,-2.888844488339453,1.170575590456295,0.7431645486810994,-1.0039027050267264,-1.3348015760784901,0.4359013112758901,-0.5370989405072732,-0.6434592919167689,-0.14120207692748427,1.1233043231631852,2.0313065824183236,0.24681624210345307,-0.13332353237863262,-0.489827673214164,0.8101321773463375,-0.23180533923927668,-1.5573704595835458,0.2586340589267308,-0.8187569081287155,0.43984058355031563,-0.6631556532888977,0.0616704452054427,-0.5902791162120213,-0.5942183884864469,-0.5528560296049765,1.186332679553997,0.7392252764066733,0.09712389567527423,0.7786179991509309,-0.43073858909777757,0.6328649249971782,0.32363205145475554,-0.7458803710518385,0.8278589025812529,-0.37558877725581724,0.26651260347558187,-0.6257325666818528,0.7766483630137182,0.028186630872823387,-1.240259041492272,-2.4574941742898324,-1.8823604222236712,-0.5587649380166149,-0.5134633068607188,0.7864965436997826,1.1272435954376105,-0.6572467448772589,1.3143590284728344,0.634834561134391,-1.8035749767351559,-0.16286807443682585,-0.5548256657421893,-2.97550847837682,0.21727170004525986,-0.8995119897544435,0.17393970502657669,0.3768122271595037,0.3531765935129488,-0.588309480074808,-1.797666068323517,0.8869479866976394,1.3163286646100476,0.796344724385847,-0.7261840096797098,-0.724214373542497,-1.535704462074204,-0.710426920582007,1.062245602909586,-0.7951212744821605,0.9952779742443478,-0.3814976856674555,-0.976327799105746,0.26257333120115633,-0.41498150000007483,0.2448466059662403,1.129213231574824,0.2290895168685376,1.024822516302541,2.0332762185555358,-3.1015651911584445,0.975581612872219,0.9027050757953426,-0.43467786137220366,1.6255615381524697,0.5580187517830885,-0.3716495049813911,-1.671609355541893,-0.7163358289936453,-0.22392679469042504,-0.42286004454892645,-1.65585226644419,0.15818261592887342,1.1764844988679326,-0.5528560296049765,-0.5607345741538281,-0.22589643082763838,-0.08605226508552337,-0.7537589156006902,-0.1352931685158454,-1.21859304398293,-2.1088685780031526,-1.2835910365109553,-1.3111659424319357,-2.3550730951547627,0.22515024459411148,0.0518222645193783,-0.678912742386601,1.5901080876826377,-1.9532673231633348,2.383871450979429,-1.3564675735878315,-0.5174025791351444,0.25666442278951745,0.6407434695460292,0.7234681873089706,-1.3525283013134062,-1.3623764819994706,-0.6710341978377494,-0.5351293043700605,-0.28892478721845033,1.3911748378241373,-1.819332065832859,-1.419495929978644,-0.3224086015510691,1.4345068328428205,0.07545789816593264,0.28817860098492404,0.2684822396127952,-0.11953607941814269,1.0464885138118831,-0.50755439844908,-0.7458803710518385,-0.4642224034303969,0.08924535112642258,-0.5272507598212088,-1.317074850843574,1.7851020652667136,-1.3505586651761934,0.11288098477297749,-0.4130118638628621,0.9519459792256647,1.2316343107098935,-0.36377096043254004,0.08924535112642258,-0.8305747249519926,0.13060771000789353,-0.6080058414469368,0.43984058355031563,0.5402920265481724,0.7628609100532282,-0.06241663143896903,-0.5981576607608724,-0.10377899032043941,-1.5888846377789518,-1.618429179837145,-1.4529797443112629,0.5974114745273461,0.1837878857126411,0.6092292913506233,-0.9172387149893595,-2.3393160060570595,2.9806712005549323,0.23893769755460198,-1.1338986900827763,1.1942112241028493,-0.25741060902304436,0.6111989274878361,0.7549823655043766,-0.39922441090237154,-0.2908944233556631,0.8613427169138723,-0.6493682003284078,0.3610551380618004,0.8711908975999367,-0.08014335667388507,-0.7537589156006902,-0.10968789873207828,-0.8561799947357603,0.530443845862108,-0.35195314360926233,1.381326657138073,0.37484259102229034,-0.9999634327523003,1.5743509985849355,-0.5213418514095706,0.877099806011575,0.16803079661493783,1.7417700702480303,-2.079324035944959,-0.7340625542285614,-0.12741462396699432,-0.9152690788521467,-1.1654128682781824,1.0563366944979475,-0.6336111112307046,1.8875231444017833,-1.766151890128111,-0.4977062177630156,0.5599883879203013,0.6919540091135646,-0.8010301828937995,0.18575752184985386,0.44968876423638005,0.5166563929016181,0.22318060845689872,-0.9487528931847655,-0.6020969330352985,1.1725452265935072,0.28817860098492404,-2.709607599853081,-1.7641822539908982,-0.9448136209103399,0.1030328040869131,3.559744224895519,-1.8035749767351559,0.1187898931846158,-1.0649614252803257,-0.6414896557795562,0.2527251505150919,0.31969277918033,0.38863004398278084,1.0543670583607343,-0.9211779872637851,-0.5666434825654665,0.49892966766670205,-0.296803331767302,0.10894171249855139,-0.41892077227450036,-0.8305747249519926,-0.9408743486359138,0.5658972963319401,1.2946626671007055,0.3709033187478648,-0.8305747249519926,0.5107474844899792,0.9736119767350063,-0.741941098777413,-0.14317171306469703,0.5324134819993208,-1.2894999449225941,0.993308338107135,-0.8029998190310121,1.2257254022982547,-0.4071029554512232,0.4713547617457216,-0.6020969330352985,-2.014326043416934,1.247391399807597,-0.18453407194616742,2.6064403344844846,1.1922415879656358,-0.15301989375076144,0.32166241531754275,-0.50755439844908,-1.2954088533342325,0.43984058355031563,0.6801361922902869,-0.7005787398959425,2.0017620403601306,0.0577311729310166,-0.21210897786714789,-1.8449373356166263,0.5028689399411276,-1.1398075984944147,-0.0683255398506079,-0.63755038350513,0.8357374471301046,0.2901482371221368,-0.4996758539002284,1.0917901449677796,0.014399177912333444,-0.7399714626402002,0.6821058284275002,0.9283103455791103,1.1666363181818682,-0.6552771087400461,0.18575752184985386,0.03803481155888779,-0.16286807443682585,-0.9979937966150875,-1.2087448632968656,-0.4071029554512232,0.18772715798706663,1.1902719518284237,-0.952692165459191,1.0189136078909027,-1.0354168832221324,-2.0261438602402113,0.6269560165855393,0.3295409598663944,-0.4425564059210553,-1.3308623038040646,0.18969679412427998,0.4674154894712961,-0.2416535199253411,-1.6164595436999323,0.863312353051085,-1.2166234078457172,1.466021011038227,3.4730802348581524,0.38666040784556804,-0.3361960545115596,-0.6651252894261105,-1.4746457418206047,-0.328317509962708,1.0090654272048383,0.39256931625720637,1.1311828677120372,-0.9901152520662359,1.0543670583607343,0.733316367995035,0.21136279163362154,-0.37558877725581724,-0.3027122401789403,-2.309771463998866,0.4359013112758901,0.5284742097248952,-0.0683255398506079,-0.3381656906487724,-0.13332353237863262,-0.539068576644486,-1.6834271723651701,-0.8364836333636315,0.10500244022412586,0.9539156153628775,-0.6257325666818528,-0.11559680714371659,2.0529725799276646,0.09121498726363592,-0.21801788627878674,-0.724214373542497,1.6019259045059153,-0.15105025761354868,2.19281674566978,0.8436159916789563,0.09712389567527423,0.4201442221781868,0.20348424708476992,0.5146867567644053,-0.9192083511265723,0.18772715798706663,-0.19241261649501906,-0.5607345741538281,0.17787897730100224,0.5816543854296429,-0.7616374601495418,0.6998325536624157,1.562533181761658,0.9283103455791103,0.7608912739160154,1.0051261549304122,0.17984861343821557,0.19560570253591827,-0.5942183884864469,-2.668245240971611,0.22711988073132425,2.1790292927092896,0.4733243978829344,-0.13726280465305873,-0.1352931685158454,0.26454296733836913,0.4024174969432708,1.221786130023829,0.22121097231968595,-1.419495929978644,0.24681624210345307,0.39650858853163246,0.7195289150345445,0.368933682610652,-0.9625403461452554,-0.028932817106350275,1.3557213873543053,1.1233043231631852,-1.173291412827034,-1.9119049642818644,-0.3716495049813911,-0.6020969330352985,-0.629671838956279,-1.750394801030408,0.5422616626853852,0.38863004398278084,0.07545789816593264,1.7378307979736038,1.0917901449677796,0.3157535069059039,0.12469880159625467,0.07742753430314542,-0.05453808689011739,0.1640915243405123,1.5448064565267423,1.4423853773916717,0.5698365686063657,1.5802599069965733,-0.19241261649501906,1.03073142471418,0.4024174969432708,-0.30074260404172753,-0.2002911610438707,-0.5705827548398925,-0.2849855149440248,-0.7695160046983934,-1.8035749767351559,-0.6769431062493877,-1.1279897816711375,1.3793570210008597,0.20742351935919545,1.028761788576967,-0.12741462396699432,0.5087778483527665,0.31378387076869113,0.747103820955525,-1.4096477492925799,-2.400374726310659,0.4043871330804836,1.1902719518284237,-0.09787008190880112,-1.001933068889513,2.4508390796446675,0.8180107218951885,1.6590453524850886,2.0766082135742203,-0.011206091871434233,1.3557213873543053,-0.5469471211933377,1.5605635456244444,1.4108711991962661,1.1449703206725272,-0.7498196433262646,-0.42286004454892645,-1.340710484490129,-0.7734552769728189,-0.6178540221330012,1.7496486147968815,-1.7149413505605764,-1.3505586651761934,-0.2101393417299351,-0.06635590371339456,-1.3978299324693026,0.7293770957206089,1.6649542608967274,0.17590934116378945,0.17393970502657669,0.8002839966602731,-0.5292203959584216,0.016368814049546213,-0.2416535199253411,2.1652418397488,0.2684822396127952,1.3635999319031564,-1.900087147458587,-0.4622527672931841,-0.6966394676215165,0.12863807387068021,1.5782902708593611,-0.46619203956760963,0.8830087144232138,-1.3761639349599604,-1.141777234631628,0.17393970502657669,-0.6986091037587299,-1.6853968085023832,-1.4096477492925799,-0.22786606696485115,0.17197006888936392,1.2887537586890678,2.0529725799276646,-0.5548256657421893,0.5107474844899792,-0.7813338215216706,-0.6493682003284078,1.422689016019543,-0.16483771057403862,0.48908148698063764,-1.019659794124429,-0.14120207692748427,-0.5154329429979316,-0.5095240345862928,-0.0742344482622462,0.40635676921769687,1.7851020652667136,-0.9329958040870622,0.09712389567527423,1.676772077720005,-0.7754249131100317,-0.16680734671125194,-1.4214655661158568,1.3084501200611967,-1.66963971940468,-0.39331550249073327,-0.7183054651308586,0.6407434695460292,-1.0590525168686866,0.5954418383901333,-0.42089040841171316,0.7924054521114214,-0.6099754775841502,-0.09983971804601388,1.143000684535314,0.012429541775120675,-0.6927001953470909,0.9066443480697682,0.4181745860409741,0.7549823655043766,0.3098445984942656,-0.8620889031473986,1.9466122285181695,-1.6203988159743579,0.7234681873089706,-1.3761639349599604,-0.24559279219976718,1.3242072091588988,-0.24362315606255386,0.33151059600360716,0.5462009349598114,-1.1811699573758856,-1.6420648134836997,-0.7064876483075809,1.0386099692630315,0.1640915243405123,1.1567881374958038,0.7884661798369953,-0.29877296790451474,-0.5942183884864469,0.5560491156458757,-1.3367712122157027,1.0189136078909027,-1.7070628060117248,0.4181745860409741,1.5822295431337867,1.093759781104992,0.6939236452507774,-1.1831395935130984,-0.7045180121703681,0.6781665561530741,-0.6217932944074274,-0.10771826259486551,-0.42679931682335204,0.6013507468017717,1.548745728801168,-1.5238866452509268,0.22121097231968595,0.0478829922449522,0.26651260347558187,-2.2388645630592023,1.235573582984319,-2.03205276865185,0.17393970502657669,0.31378387076869113,-0.30665151245336636,1.8441911493831,0.5186260290388308,0.7707394546020798,-2.1029596695915136,-0.6198236582702146,-1.7405466203443436,-1.1831395935130984,-0.20620006945550956,1.6807113499944306,0.8416463555417435,-1.8173624296956459,1.5093530060569103,-0.03484172551798858,0.9795208851466451,-1.1673825044153952,-0.7695160046983934,-2.5402188920527737,1.2946626671007055,-1.236319769217846,-0.36771023270696557,1.0839116004189275,-0.875876356107889,-0.4622527672931841,0.9046747119325554,-0.8620889031473986,0.8337678109928919,-0.7852730937960961,-1.4175262938414315,-0.0742344482622462,0.764830546190441,0.4024174969432708,1.3911748378241373,-2.165988025982326,-1.2166234078457172,-1.7622126178536852,0.5757454770180045,0.04197408383331389,-1.781908979225814,0.0518222645193783,0.5245349374504698,-0.0742344482622462,0.5186260290388308,0.8357374471301046,2.409476720763197,-0.31059078472779195,-0.3874065940790944,0.6880147368391385,0.6742272838786486,0.008490269500694578,-0.04665954234126576,-0.17271625512289024,-0.7183054651308586,0.3157535069059039,-2.29204473876395,2.153424022925522,1.0858812365561408,1.7496486147968815,0.1936360663987055,-0.09787008190880112,0.39059968011999363,-1.118141600985073,0.20545388322198269,2.1278187531417543,1.093759781104992,0.37287295488507755,-0.2711980619835343,-1.3210141231180001,1.9800960428507883,0.8219499941696147,1.29072339482628,0.26257333120115633,-1.2796517642365297,-0.36967986884417836,2.307055641628127,0.9125532564814071,-0.09787008190880112,-1.001933068889513,-1.1831395935130984,1.170575590456295,0.2527251505150919,2.2420576491001016,-0.24756242833697994,-2.012356407279721,1.048458149949096,0.9677030683233679,1.7338915256991783,1.53692791197789,0.8298285387184663,0.3354498682780327,-1.8488766078910521,-1.0787488782408154,0.5796847492924301,1.0642152390467987,-0.3874065940790944,0.3354498682780327,0.4024174969432708,-0.8148176358542893,-0.8857245367939535,-1.3958602963320892,-0.013175728008647003,-0.7458803710518385,-0.7675463685611806,1.0031565187931994,-1.1516254153176924,-0.25347133674861827,-0.5725523909771053,1.4128408353334785,0.1384862545567446,-1.0176901579872164,-0.5863398439375953,0.28030005643607236,0.030156267010036156,2.2243309238651863,-0.16286807443682585,0.44377985582474117,-0.41498150000007483,-0.8778459922451018,-1.2323804969434204,0.22318060845689872,0.5658972963319401,-0.4287689529605648,-0.3401353267859851,0.2527251505150919,-2.0281134963774243,0.28226969257328516,-0.3125604208650047,-0.6966394676215165,-0.5804309355259569,-0.8305747249519926,-0.17271625512289024,1.1233043231631852,-0.22195715855321227,0.8672516253255106,-0.0840826289483106,0.1837878857126411,-0.2495320644741927,-2.0911418527682364,-0.4425564059210553,-0.5961880246236597,-0.18059479967174188,-0.7478500071890518,-0.34998350747204954,-1.1023845118873705,-0.4681616757048224,-0.1687769828484647,0.05379190065659106,0.31181423463147834,-0.03681136165520135,-0.5567953018794021,-0.22983570310206392,-0.39922441090237154,1.0819419642817152,-0.9251172595382111,0.1187898931846158,-0.125444987829781,2.5079585276238405,0.23105915300575036,-0.17074661898567747,1.353751751217092,-0.9861759797918104,-0.395285138627946,-0.7537589156006902,0.2290895168685376,-1.9572065954377607,0.9401281624023875,0.38272113557114196,0.845585627816169,0.23105915300575036,0.8514945362278079,0.2586340589267308,-1.9532673231633348,-1.5987328184650162,-1.1634432321409696,0.5422616626853852,1.548745728801168,0.4713547617457216,-1.6460040857581255,0.3787818632967164,1.0228528801653283,0.6151381997622621,-1.0452650639081968,0.36302477419901313,-1.0098116134383648,-2.085232944356598,-0.7636070962867546,0.8967961673837038,-0.9369350763614883,0.6368041972716038,-0.11165753486929106,-0.040750633929627446,1.5054137337824847,-2.195532568040519,0.7136200066229063,0.6860451007019257,1.702377347503773,0.4260531305898257,-0.8975423536172307,0.2606036950639436,0.2842393287104979,0.5343831181365342,0.26651260347558187,-0.858149630872973,0.4516584003735928,-1.2028359548852272,-1.0235990663988552,-0.4878580370769512,-0.4996758539002284,-1.638125541209274,-0.23377497537648945,-0.3302871460999207,-1.3466193929017671,0.09515425953806145,-0.42482968068613924,-0.8699674476962502,-0.9290565318126367,-0.6277022028190656,-0.8108783635798638,-0.25544097288583156,2.5237156167215438,-1.0354168832221324,-0.3204389654138563,0.5639276601947274,-1.0767792421036027,-0.17074661898567747,1.542836820389529,1.2158772216121903,0.3039356900826267,0.4043871330804836,1.8185858795993324,-0.6414896557795562,1.028761788576967,-0.3046818763161536,-0.07029517598782066,1.093759781104992,-0.9999634327523003,-0.4051333193140104,-0.7439107349146258,0.7589216377788022,0.8514945362278079,0.9243710733046843,-0.23771424765091556,-0.6946698314843037,-0.8955727174800179,0.5225653013132564,-1.0728399698291773,1.4285979244311817,-1.0728399698291773,-1.092536331201306,1.6570757163478764,0.5580187517830885,1.548745728801168,-0.10180935418322665,0.25666442278951745,0.1936360663987055,-0.4524045866071197,-1.2382894053550588,0.733316367995035,-1.8094838851467945,0.7352860041322478,1.042549241537457,0.1227291654590419,0.1424255268311707,-0.994054524340662,-0.5174025791351444,0.5560491156458757,1.6019259045059153,-1.2501072221783365,-2.0064474988680825,1.282844850277429,-0.17271625512289024,0.8239196303068275,-0.49573658162580286,0.5324134819993208,0.7175592788973317,-0.7675463685611806,-0.23968388378812833,-0.23377497537648945,0.8357374471301046,0.14045589069395795,-1.1595039598665435,-0.18059479967174188,-1.9749333206726765,0.23696806141738866,-0.1589288021624003,-0.5370989405072732,0.6368041972716038,-0.9586010738708299,-0.06241663143896903,0.46347621719687,-0.8522407224613342,-0.22392679469042504,-0.47013131184203516,-0.9920848882034486,-0.395285138627946,-0.42482968068613924,0.481202942431786,-0.007266819597008135,-0.6198236582702146,1.3379946621193899,-0.6966394676215165,0.2842393287104979,1.024822516302541,-0.9546618015964043,0.31969277918033,-0.9251172595382111,0.9499763430884519,-1.6105506352882935,-0.5607345741538281,1.0740634197328631,0.6230167443111138,0.38666040784556804,0.10697207636133862,-0.7970909106193739,0.5008993038039148,0.22121097231968595,-0.09983971804601388,0.6190774720366877,-0.2495320644741927,-0.1392324407902715,-0.8148176358542893,1.773284248443436,-2.110838214140365,0.03803481155888779,1.1114865063399084,-1.3741942988227476,0.7293770957206089,0.39650858853163246,-0.16680734671125194,0.536352754273747,-0.976327799105746,-0.5489167573305505,0.016368814049546213,0.43393167513867675,-1.6282773605232095,0.28226969257328516,-0.759667824012329,2.0155494933206204,1.3202679368844732,-1.2146537717085044,-0.4051333193140104,0.8692212614627239,-0.4996758539002284,1.3478428428054543,1.0740634197328631,0.7116503704856935,-1.468736833408966,1.6807113499944306,0.8810390782860011,0.11485062091019026,0.5028689399411276,1.3675392041775831,-0.032872089380775814,0.39453895239441916,-0.3716495049813911,0.5028689399411276,0.38272113557114196,-1.7306984396582792,-0.05453808689011739,0.22515024459411148,-1.0334472470849196,-0.16680734671125194,0.43984058355031563,0.6289256527227521,-0.25544097288583156,-1.4470708358996243,1.2454217636703835,-0.4484653143326936,0.09712389567527423,0.28817860098492404,2.02933694628111,2.145545478376671,0.1187898931846158,-1.917813872693503,0.2349984252801759,-1.4391922913507729,-0.20423043331829624,-0.40119404703958433,-0.6867912869354521,1.3498124789426664,0.9322496178535359,-0.17468589126010303,-0.10968789873207828,0.5974114745273461,-0.20620006945550956,-0.023023908694711406,-1.0117812495755774,0.666348739329797,-2.0202349518285727,-0.09590044577158778,1.4916262808219936,0.23893769755460198,-1.8902389667725226,0.10500244022412586,-0.0840826289483106,0.7293770957206089,-2.847482129457983,0.11682025704740304,-0.8187569081287155,0.17393970502657669,1.3360250259821764,-1.7937267960490915,0.7628609100532282,-0.7636070962867546,-0.3874065940790944,-0.3125604208650047,0.28226969257328516,-0.9310261679498495,1.739800434110817,0.04591335610773943,-0.6946698314843037,-0.5961880246236597,-0.028932817106350275,1.3931444739613497,0.2507555143778792,0.46347621719687,0.5146867567644053,0.5186260290388308,-1.1988966826108012,-0.2731676981207471,0.5816543854296429,-2.8986926690255177,-0.032872089380775814,0.2290895168685376,0.7805876352881442,0.0813668065775715,0.7372556402694606,-0.7380018265029874,0.40832640535490966,1.9111587780483374,-0.4287689529605648,-1.671609355541893,-0.5331596682328477,-0.5804309355259569,-1.0137508857127908,-0.38346732180466886,0.26454296733836913,-0.40907259158843595,-0.4977062177630156,2.0313065824183236,-0.2101393417299351,-0.5095240345862928,-1.0728399698291773,1.2020897686517003,-2.5205225306806445,-0.8620889031473986,-0.2692284258463215,1.03073142471418,0.548170571097024,0.6269560165855393,-0.028932817106350275,-0.09196117349716225,-0.6454289280539817,-0.489827673214164,-0.14317171306469703,-0.759667824012329,-0.044689906204052984,-0.49376694548859007,1.6846506222688562,-0.25741060902304436,0.18969679412427998,-1.1614735960037568,-0.05256845075290462,1.0760330558700764,-0.7123965567192198,0.561958024057514,1.8264644241481833,0.400447860806058,0.764830546190441,-0.25544097288583156,-0.5272507598212088,-0.1451413492019098,1.0327010608513927,-0.40119404703958433,-0.0643862675761818,0.7904358159742086,-0.49179730935137733,0.6565005586437326,0.0715186258915071,1.5526850010755935,0.975581612872219,-0.7399714626402002,0.9420977985396003,-0.7261840096797098,1.150879229084166,-0.5961880246236597,-0.4051333193140104,1.7358611618363915,0.26454296733836913,-0.009236455734221464,1.0464885138118831,-1.0708703336919638,-0.07226481212503343,-0.8975423536172307,-1.0669310614175382,-0.15695916602518753,0.8810390782860011,1.8047984266388424,0.6643791031925842,-0.5174025791351444,0.5639276601947274,-0.822696180403141,-0.6099754775841502,1.3734481125892208,0.5954418383901333,-0.5233114875467832,-0.7202751012680714,1.2572395804936614,1.5901080876826377,-0.2810462426695987,-0.0643862675761818,0.26651260347558187,0.6919540091135646,0.5501402072342368,2.5217459805843307,0.067579353617081,0.38272113557114196,-0.9586010738708299,0.11485062091019026,0.018338450186758982,-0.2810462426695987,-0.5134633068607188,-0.17862516353452912,1.066184875184012,0.7411949125438867,0.7805876352881442,-1.3032873978830841,0.7628609100532282,-0.023023908694711406,-1.0964756034757315,-1.0708703336919638,0.1325773461451063,-0.30074260404172753,0.0616704452054427,1.0878508726933531,-1.2461679499039104,0.0006117249518429412,0.1837878857126411,-0.4464956781954808,1.0740634197328631,-1.043295427770984,0.301966053945414,-1.051173972319835,-0.8483014501869086,0.5698365686063657,-0.9723885268313198,0.49302075925506317,-0.09983971804601388,0.4733243978829344,0.5698365686063657,1.4069319269218405,0.7195289150345445,-0.42089040841171316,0.22121097231968595,-0.1490806214763359,0.6998325536624157,0.7687698184648666,-0.39331550249073327,0.4536280365108056,2.1573632951999477,-0.8364836333636315,0.8475552639533818,-1.9532673231633348,-2.195532568040519,2.819161037303476,-1.1319290539455635,-0.8364836333636315,1.028761788576967,-1.4234352022530696,-1.317074850843574,-0.4366474975094164,1.8441911493831,-0.7222447374052842,1.0681545113212247,-0.1490806214763359,1.0996686895166308,0.9066443480697682,0.4792333062945732,-1.0826881505152417,-1.4529797443112629,0.6171078358994749,0.8554338085022334,0.6978629175252029,1.2375432191215325,1.9387336839693186,1.9860049512624272,0.18181824957542833,-0.9428439847731266,1.8382822409714612,0.32757132372918163,-0.7261840096797098,1.0327010608513927,1.2808752141402155,0.4871118508434249,1.1922415879656358,-0.7833034576588833,-0.6198236582702146,-1.8173624296956459,0.6683183754670097,-0.35983168815811395,3.8177665588704066,0.059700809068229374,-1.092536331201306,-2.225077110098712,0.06954898975429377,-0.4366474975094164,0.5087778483527665,-0.2515017006114055,1.781162792992288,0.3649944103362259,0.9775512490094324,-0.611945113721363,-2.063566946847256,0.17787897730100224,-0.37558877725581724,-1.5593400957207586,-0.7636070962867546,-0.8029998190310121,0.44377985582474117,1.1528488652213784,-0.15105025761354868,-0.6493682003284078,-0.8089087274426511,0.5008993038039148,-1.3032873978830841,1.2513306720820223,-0.6001272968980857,0.036065175421675026,0.5186260290388308,-0.9231476234009978,-1.285560672648168,-1.104354148024583,-0.8995119897544435,-0.3716495049813911,0.5402920265481724,2.1987256540814184,0.2842393287104979,0.9440674346768131,0.4949903953922765,1.9899442235368527,-0.6769431062493877,-0.8345139972264182,-0.489827673214164,-0.08211299281109784,-1.0334472470849196,-0.39331550249073327,-0.6848216507982393,0.21136279163362154,0.8475552639533818,0.6722576477414358,0.6387738334088165,0.8180107218951885,0.8239196303068275,-1.1457165069060535,-1.222532316257356,0.26651260347558187,0.660439830918158,-1.9453887786144832,-0.9093601704405079,-0.5863398439375953,-0.2002911610438707,-0.28892478721845033,2.9353695693990356,-1.0216294302616418,-2.97550847837682,1.6590453524850886,0.3768122271595037,-0.16680734671125194,0.7589216377788022,0.2862089648477107,-2.3885569094873813,0.8987658035209172,1.0228528801653283,0.3669640464734393,-0.6848216507982393,-0.854210358598547,1.416780107607905,-0.4543742227443325,1.59798663223149,1.2434521275331714,0.7136200066229063,0.21136279163362154,0.00258136108905627,-0.023023908694711406,1.6393489911129597,-0.728153645816923,0.4615065810596572,-0.48391876480252566,0.7904358159742086,-0.12347535169256822,-0.31059078472779195,-1.3781335710971738,0.9066443480697682,0.3098445984942656,1.6748024415827918,0.04394371997052666,-0.4622527672931841,0.4536280365108056,1.1449703206725272,-1.317074850843574,-0.47407058411646125,0.2901482371221368,-0.4051333193140104,1.1252739593003984,0.33938914055245883,0.9716423405977935,-1.1437468707688407,-1.7760000708141754,1.4876870085475682,-1.3328319399412774,-1.1319290539455635,0.028186630872823387,0.055761536793803836,-0.6257325666818528,0.8377070832673174,1.0858812365561408,-1.2776821280993165,-1.389951387920451,-0.4681616757048224,-0.42679931682335204,-0.34998350747204954,0.7352860041322478,0.17590934116378945,-1.1752610489642468,-0.37361914111860445,0.5895329299784945,-0.044689906204052984,-0.3046818763161536,-0.37558877725581724,-0.22786606696485115,1.4384461051172461,1.30451084778677,1.5211708228801868,-0.003327547322582597,0.48908148698063764,-0.9507225293219782,0.2862089648477107,-0.8325443610892054,0.03803481155888779,-0.0683255398506079,2.630075968131039,-1.0472347000454096,-0.28301587880681145,-0.952692165459191,0.148334435242809,1.6610149886223018,-0.08605226508552337,-0.539068576644486,-1.407678113155367,-1.2501072221783365,0.7490734570927378,0.6052900190761977,-1.2698035835504653,-1.486463558643882,1.1390614122608884,-0.3421049629231979,0.9913387019699224,0.6899843729763513,-1.5238866452509268,-1.1713217766898212,-0.6257325666818528,1.150879229084166,0.04591335610773943,-0.01514536414585977,-0.3263478738254952,0.9558852515000902,0.20545388322198269,-0.871937083833463,-0.875876356107889,-1.6085809991510807,-0.8483014501869086,-0.8384532695008443,-0.36967986884417836,0.004550997226269039,-0.10771826259486551,-0.07620408439945897,0.21530206390804707,-0.840422905638057,0.4555976726480189,-0.19832152490665794,-1.5908542739161646,-0.18847334422059353,-0.50755439844908,-1.1220808732594991,0.44968876423638005,-1.4746457418206047,0.07742753430314542,0.9558852515000902,0.20151461094755713,0.5678669324691529,0.6998325536624157,1.0839116004189275,-0.1490806214763359,0.301966053945414,0.18575752184985386,-0.3302871460999207,0.31181423463147834,0.41423531376654793,0.6722576477414358,0.6860451007019257,0.45953694492244446,0.9204318010302587,-0.125444987829781,1.422689016019543,-1.986751137495954,-0.840422905638057,0.014399177912333444,0.4181745860409741,0.0518222645193783,-0.1352931685158454,-0.9487528931847655,-0.9132994427149334,0.4851422147062121,0.7707394546020798,1.7358611618363915,-0.23377497537648945,0.6958932813879901,-0.07620408439945897,0.31378387076869113,-1.4273744745274959,-1.7720607985397496,0.10894171249855139,0.9617941599117291,0.18772715798706663,0.5501402072342368,0.20348424708476992,0.5166563929016181,-0.871937083833463,0.3787818632967164,-2.9124801219860075,-1.5829757293673132,0.8849783505604266,0.036065175421675026,1.1823934072795717,0.08924535112642258,0.301966053945414,-0.6670949255633233,0.20151461094755713,-1.9040264197330128,-0.724214373542497,0.9184621648930459,0.7116503704856935,1.8382822409714612,0.09909353181248699,-0.724214373542497,0.5698365686063657,-1.8035749767351559,-0.3874065940790944,0.067579353617081,0.08727571498920982,0.6269560165855393,1.048458149949096,-0.9645099822824688,-0.25544097288583156,0.04985262838216497,-0.6533074726028333,0.08924535112642258,2.9747622921432932,1.59798663223149,-0.9822367075173842,-1.1752610489642468,-0.6533074726028333,0.33151059600360716,-1.519947372976501,0.33741950441524604,-1.2776821280993165,1.1666363181818682,-1.6400951773464867,-0.6986091037587299,-0.6001272968980857,1.5566242733500188,0.0616704452054427,-1.6322166327976353,-0.4878580370769512,2.2755414634327207,-0.30862114859057915,0.8278589025812529,-0.8049694551682249,1.2001201325144881,0.1187898931846158,-1.4431315636251985,0.764830546190441,0.24287696982902754,-0.22786606696485115,0.2862089648477107,-0.23574461151370277,-1.1260201455339247,-0.7025483760331553,-0.21210897786714789,1.7496486147968815,-0.661186017151685,2.2066041986302696,-0.5351293043700605,0.04591335610773943,3.224906081569329,-0.3421049629231979,-0.6473985641911945,0.8731605337371494,0.6624094670553714,-0.7478500071890518,1.241482491395958,1.028761788576967,0.6722576477414358,-0.8384532695008443,-1.1535950514549052,-0.6040665691725113,0.3649944103362259,1.3734481125892208,-1.0314776109477062,-0.7813338215216706,-0.6986091037587299,0.8436159916789563,-0.8660281754218248,-1.7070628060117248,0.09318462340084868,-1.2776821280993165,0.4043871330804836,-0.16680734671125194,-1.137837962357202,0.3039356900826267,-0.12150571555535546,0.536352754273747,-0.1608984382996131,-0.2613498812974699,-0.5233114875467832,0.7136200066229063,1.9466122285181695,-1.1949574103363756,-0.47407058411646125,-0.42482968068613924,0.8061929050719114,-0.07620408439945897,0.15227370751723512,1.5093530060569103,0.4457494919619545,1.4640513749010138,2.4567479880563052,0.8869479866976394,-1.5396437343486298,0.26454296733836913,-0.8837549006567402,-1.1260201455339247,-1.2166234078457172,1.3419339343938153,-0.5193722152723572,1.501474461508058,0.5284742097248952,-1.0393561554965578,0.8101321773463375,1.6984380752293462,-0.4386171336466292,-0.8857245367939535,0.24287696982902754,-0.36771023270696557,-0.40907259158843595,-0.09787008190880112,-0.63755038350513,0.400447860806058,1.2060290409261258,-0.06635590371339456,1.8402518771086744,0.08924535112642258,0.10106316794970031,-0.1608984382996131,0.2487858782406664,-1.0216294302616418,0.9795208851466451,0.19757533867313104,-0.6217932944074274,-1.748425164893195,-0.9507225293219782,0.2783304202988596,1.79691988208999,1.2375432191215325,-0.40119404703958433,0.6269560165855393,0.5245349374504698,-0.4169511361372876,-0.13332353237863262,-0.1352931685158454,0.530443845862108,0.6131685636250493,1.8028287905016291,-1.720850258972215,-1.389951387920451,-1.3801032072343866,-1.2205626801201432,0.026216994735610618,0.26257333120115633,-0.20226079718108347,-0.7557285517379029,-0.39331550249073327,0.733316367995035,2.383871450979429,-1.488433194781095,0.7924054521114214,0.7352860041322478,-1.0472347000454096,1.4522335580777361,0.6466523779576682,-0.8423925417752698,0.9145228926186199,-1.900087147458587,-0.2416535199253411,-0.06241663143896903,-1.4273744745274959,-0.9113298065777207,-0.7990605467565867,-1.118141600985073,0.004550997226269039,-0.678912742386601,-0.9389047124987011,-0.531190032095635,-0.7970909106193739,1.2749663057285767,1.066184875184012,0.4654458533340833,-0.25347133674861827,1.2060290409261258,-0.19241261649501906,-1.3643461181366832,-0.45043495046990634,0.3768122271595037,0.19560570253591827,-0.17074661898567747,1.5704117263105088,0.8298285387184663,-0.4386171336466292,0.39847822466884525,1.534958275840678,-0.19438225263223183,-0.18256443580895465,0.7924054521114214,0.28817860098492404,-0.22786606696485115,-0.4425564059210553,-1.415556657704218,-1.309196306294723,1.6078348129175544,-1.4057084770181536,-1.2441983137666976,-0.25544097288583156,-0.46619203956760963,2.399628540077132,-0.5331596682328477,-1.419495929978644,0.8692212614627239,-0.2751373342579604,0.3590855019245876,0.20151461094755713,-1.1398075984944147,1.093759781104992,0.04394371997052666,-0.7793641853844578,1.9269158671460407,0.5146867567644053,-0.44452604205826807,-0.9290565318126367,-0.7183054651308586,1.3340553898449632,-0.36967986884417836,-0.11756644328092992,-2.4397674490549166,-0.42089040841171316,-0.25544097288583156,0.37484259102229034,0.9637637960489419,-0.7458803710518385,0.5008993038039148,0.8810390782860011,0.536352754273747,0.7037718259368418,-0.5528560296049765,0.7845269075625698,-1.0767792421036027,-1.0590525168686866,-1.5494919150346942,-0.25544097288583156,-0.1549895298879742,1.0031565187931994,1.9328247755576797,1.704346983640985,-0.0742344482622462,0.22711988073132425,0.09515425953806145,1.0208832440281155,2.135697297690607,0.06364008134265547,-1.3131355785691485,-1.4451011997624115,0.2349984252801759,0.0577311729310166,-0.710426920582007,-0.23968388378812833,-0.63755038350513,0.1640915243405123,-0.023023908694711406,0.07939717044035818,0.16015225206608674,-0.05256845075290462,0.14045589069395795,-0.5469471211933377,0.02030808632397175,1.1587577736330172,-0.20620006945550956,0.44181021968752837,1.9407033201065307,0.1424255268311707,0.8613427169138723,-0.7557285517379029,1.0681545113212247,-1.068900697554751,1.5566242733500188,1.2257254022982547,0.7727090907392926,-1.5317651897997782,-2.628852518227353,1.241482491395958,0.8928568951092782,0.46347621719687,-1.1673825044153952,-0.18847334422059353,-2.4574941742898324,-1.6657004471302543,0.8652819891882978,0.9361888901279615,-1.5475222788974814,-0.3558924158836884,0.6722576477414358,-0.6198236582702146,0.7668001823276538,-0.7478500071890518,1.339964298256602,1.9249462310088274,-0.125444987829781,-1.5790364570928874,1.2493610359448102,-0.6336111112307046,0.09909353181248699,-0.6080058414469368,-0.03878099779241468,1.739800434110817,0.4792333062945732,-1.285560672648168,0.2290895168685376,-1.91584423655629,0.067579353617081,1.2533003082192358,0.09121498726363592,1.0819419642817152,0.02424735859839785,0.06364008134265547,-0.9211779872637851,1.1607274097702305,0.6565005586437326,1.0583063306351603,-0.24362315606255386,-0.629671838956279,0.10697207636133862,-0.01514536414585977,0.18575752184985386,0.39847822466884525,-0.9113298065777207,0.40635676921769687,-1.340710484490129,-0.8167872719915027,-0.458313495018758,2.2972074609420625,0.02030808632397175,-0.6355807473679173,1.7279826172875394,0.7530127293671638,-2.1049293057287266,-0.6730038339749621,-1.0807185143780282,-0.5804309355259569,0.09712389567527423,0.4299924028642512,-1.236319769217846,-0.09590044577158778,1.0149743356164767,0.5245349374504698,0.27439114802443354,2.848705579361669,0.9598245237745163,-0.6158843859957884,-0.4287689529605648,-0.4819491286653129,0.4536280365108056,-1.2796517642365297,0.3452980489640971,0.055761536793803836,0.6958932813879901,-0.3421049629231979,0.5718062047435785,0.008490269500694578,-0.09590044577158778,0.4792333062945732,0.39059968011999363,0.14439516296838348,0.08530607885199705,0.3669640464734393,1.422689016019543,-0.9723885268313198,0.2960571455337751,-1.0452650639081968,-0.5745220271143181,0.3709033187478648,-0.6336111112307046,0.42408349445261234,0.3059053262198395,-1.7897875237746657,1.2139075854749781,0.49105112311785043,-0.42286004454892645,-0.7872427299333095,-2.0931114889054494,2.0766082135742203,-1.2520768583155493,0.026216994735610618,-0.5587649380166149,-0.43467786137220366,0.28817860098492404,0.530443845862108,-0.588309480074808,-0.5134633068607188,0.5658972963319401,0.9263407094418971,-0.36574059656975283,-0.7261840096797098,0.1325773461451063,0.9243710733046843,1.2158772216121903,-0.9901152520662359,-1.007841977301152,0.5521098433714496,0.481202942431786,0.993308338107135,0.8849783505604266,-1.2973784894714453,0.46347621719687,0.20742351935919545,0.6821058284275002,-0.7892123660705223,-0.38346732180466886,-1.2028359548852272,1.27693594186579,1.5881384515454255,2.9255213887129714,-0.4051333193140104,-1.9040264197330128,1.0760330558700764,-0.17074661898567747,-1.9197835088307158,-0.994054524340662,-0.875876356107889,0.13060771000789353,-2.1718969343939647,-1.671609355541893,-0.9546618015964043,-0.6592163810144722,-0.6828520146610265,-0.1451413492019098,0.4299924028642512,0.17590934116378945,0.7037718259368418,-1.5947935461905904,0.9657334321861546,-3.505340599287085,-0.710426920582007,-1.1220808732594991,0.09712389567527423,-0.3263478738254952,-1.2835910365109553,0.9420977985396003,-0.14711098533912315,0.9027050757953426,-0.23968388378812833,0.796344724385847,-0.18256443580895465,0.8317981748556791,-1.0039027050267264,-0.08014335667388507,0.4713547617457216,0.016368814049546213,-0.17665552739731635,-0.6848216507982393,-0.19438225263223183,-0.9073905343032951,-1.6322166327976353,0.8298285387184663,0.660439830918158,0.4162049499037613,1.0543670583607343,0.9598245237745163,1.0149743356164767,-0.791182002207735,-1.0590525168686866,0.34726768510131045,-0.12741462396699432,1.0602759667723731,-0.30862114859057915,-0.63755038350513,-0.25347133674861827,0.0478829922449522,-2.561884889562115,0.5146867567644053,0.6761969200158614,0.512717120627192,-1.3032873978830841,1.1567881374958038,-0.9782974352429586,0.04985262838216497,1.726012981150327,-0.9664796184196816,-0.265289153571896,-0.6493682003284078,-0.4386171336466292,-0.5981576607608724,-0.8305747249519926,-1.7129717144233632,-0.19241261649501906,-0.9152690788521467,-0.5666434825654665,-0.25938024516025715,-0.11953607941814269,-0.8463318140496959,1.1922415879656358,-0.5843702078003825,0.18181824957542833,0.6742272838786486,-0.5804309355259569,-0.45043495046990634,0.530443845862108,1.326176845296112,-0.5508863934677637,-0.4563438588815452,1.3517821150798797,-1.0905666950640927,0.5402920265481724,0.18772715798706663,0.5698365686063657,-0.1451413492019098,1.6038955406431288,0.3413587766896716,1.4857173724103558,0.7254378234461833,-0.9113298065777207,-0.5824005716631697,0.548170571097024,0.5324134819993208,-0.6040665691725113,0.3492373212385232,-1.6755486278163187,1.7063166197781983,-1.7110020782861506,0.17787897730100224,0.39453895239441916,-1.285560672648168,0.31969277918033,-0.3854369579418816,1.2119379493377647,-1.4588886527229017,-0.3046818763161536,-1.6794879000907441,0.33741950441524604,0.4615065810596572,-0.1352931685158454,-0.328317509962708,-2.2723483773918214,0.13454698228231907,1.1036079617910564,1.5743509985849355,0.4024174969432708,0.010459905637907347,0.4871118508434249,2.054942216064878,-1.5928239100533776,-0.9192083511265723,-0.14317171306469703,0.652561286369307,-0.5331596682328477,0.660439830918158,-1.2698035835504653,0.2606036950639436,0.49892966766670205,-0.7970909106193739,-1.019659794124429,-0.7852730937960961,0.5205956651760436,-1.3348015760784901,-0.8384532695008443,0.351206957375736,-0.0840826289483106,0.08924535112642258,-0.9369350763614883,-0.45043495046990634,1.3931444739613497,1.1173954147515464,1.822525151873758,0.21727170004525986,-0.19241261649501906,-1.2560161305899749,-0.5430078489189121,0.8692212614627239,-0.9861759797918104,1.1902719518284237,-0.822696180403141,-1.4352530190763468,1.3202679368844732,1.1390614122608884,-1.4588886527229017,2.210543470904695,-0.3381656906487724,-0.8187569081287155,0.48908148698063764,2.4587176241935187,0.010459905637907347,-1.6164595436999323,3.28005589341129,0.010459905637907347,0.9066443480697682,-1.0570828807314738,-0.395285138627946,-0.01514536414585977,0.5324134819993208,0.6072596552134105,-1.9138746004190772,-0.32437823768828244,-0.18059479967174188,0.5166563929016181,-1.4588886527229017,-0.9842063436545976,0.38272113557114196,-2.697789783029804,-0.858149630872973,0.03803481155888779,0.3768122271595037,-0.5942183884864469,0.5974114745273461,-0.0013579111853698278,-0.19832152490665794,0.5777151131552173,1.7476789786596683,-0.30074260404172753,-1.1949574103363756,-0.4543742227443325,-1.236319769217846,-1.1634432321409696,0.148334435242809,0.4654458533340833,0.2999964178082012,-0.0781737205366723,-0.5213418514095706,-0.33422641837434686,0.17393970502657669,0.6269560165855393,0.17393970502657669,-0.48391876480252566,0.8416463555417435,-0.35195314360926233,-0.12741462396699432,-0.31059078472779195,0.0518222645193783,0.5974114745273461,0.4024174969432708,1.6098044490547665,0.4201442221781868,1.3084501200611967,1.8894927805389965,-1.535704462074204,-1.638125541209274,-0.5981576607608724,0.1424255268311707,0.796344724385847,-0.8049694551682249,-0.25544097288583156,-0.8364836333636315,0.1542433436544479,0.9795208851466451,-1.3505586651761934,-0.6749734701121749,-0.611945113721363,0.24681624210345307,1.101638325653844,0.8298285387184663,-0.47013131184203516,-1.0787488782408154,0.8928568951092782,0.7116503704856935,-1.169352140552608,-0.6257325666818528,-0.0013579111853698278,-0.24756242833697994,-0.060446995301756255,-1.4313137468019212,0.2606036950639436,1.318298300747261,0.15818261592887342,-2.063566946847256,0.41423531376654793,-1.2304108608062077,-0.9999634327523003,1.3970837462357764,0.5402920265481724,-0.30074260404172753,0.7687698184648666,1.5566242733500188,0.7057414620740545,0.5639276601947274,-0.21210897786714789,-0.31059078472779195,1.0740634197328631,-0.5981576607608724,0.27045187575000795,-1.0039027050267264,0.26454296733836913,-0.265289153571896,1.318298300747261,0.9007354396581299,-2.215228929412648,1.2119379493377647,-2.5106743499945803,-0.04272027006684022,-1.0452650639081968,0.9558852515000902,0.13651661841953183,-1.1890485019247368,0.666348739329797,-0.38346732180466886,-1.0098116134383648,-0.2948336956300892,0.1837878857126411,-0.11953607941814269,0.8160410857579757,0.12075952932182914,-0.2002911610438707,-0.6454289280539817,-2.1581094814334745,-0.19241261649501906,0.11091134863576473,0.8574034446394462,0.8731605337371494,0.5974114745273461,0.7372556402694606,-0.9723885268313198,-1.2422286776294849,-2.197502204177732,0.3413587766896716,-0.08605226508552337,-1.3525283013134062,0.9322496178535359,-0.18059479967174188,1.0070957910676255,1.395114110098563,-0.5134633068607188,0.9893690658327096,1.6157133574664053,-0.6867912869354521,-0.9960241604778748,0.536352754273747,-0.026963180969136944,2.02933694628111,1.3281464814333255,0.27045187575000795,-2.7529395948717643,0.6052900190761977,0.3256016875919683,-1.3879817517832382,-1.4372226552135603,0.6052900190761977,0.1837878857126411,-1.1752610489642468,-0.9034512620288689,-0.9448136209103399,1.235573582984319,-0.9290565318126367,0.7707394546020798,-1.4628279249973273,-0.37361914111860445,1.079972328144502,-0.007266819597008135,-0.7045180121703681,-0.47800985639088683,-1.1437468707688407,0.863312353051085,-0.07620408439945897,0.9204318010302587,-0.5114936707235062,0.26454296733836913,0.12666843773346745,-1.6420648134836997,-0.2908944233556631,0.8219499941696147,1.6019259045059153,-0.05453808689011739,-0.5292203959584216,-0.36967986884417836,0.3413587766896716,-0.6887609230726655,0.9145228926186199,0.5580187517830885,0.17590934116378945,-0.14711098533912315,-1.2205626801201432],\"type\":\"scatter3d\"},{\"hovertemplate\":\"Churn=1<br>Total day minutes=%{x}<br>Total eve minutes=%{y}<br>Total night minutes=%{z}<br>Cluster=%{marker.color}<extra></extra>\",\"legendgroup\":\"1\",\"marker\":{\"color\":[0,0,1,0,1,0,0,0,0,0,0,0,1,0,0,1,0,0,0,1,0,0,0,0,0,1,0,0,1,0,0,0,0,0,0,0,0,0,0,0,0,0,0,0,0,0,0,1,1,0,0,1,1,0,1,0,0,0,1,0,0,0,0,0,1,0,0,0,0,0,0,0,0,0,1,0,0,0,0,0,1,0,0,0,0,0,0,0,1,0,1,1,0,0,1,0,0,0,1,0,0,1,0,0,0,1,0,0,0,0,0,0,0,0,1,1,1,1,0,0,0,0,0,0,0,0,1,0,0,0,0,0,0,0,0,0,0,0,0,1,0,1,1,0,0,1,0,0,0,0,1,0,0,1,0,0,0,0,0,0,0,0,0,0,0,0,0,0,0,0,0,0,0,0,0,0,0,0,0,0,0,0,0,0,0,0,1,0,0,0,0,1,0,0,0,0,0,0,1,0,0,0,1,1,0,0,1,0,0,0,0,0,0,0,0,0,0,0,0,0,0,0,1,0,0,0,0,0,0,0,0,0,0,0,0,0,0,0,0,0,0,0,0,0,0,0,0,0,0,0,0,0,0,0,0,1,0,0,1,0,0,0,1,1,1,0,0,0,0,0,1,0,0,1,0,0,0,0,0,0,0,0,0,0,0,0,0,0,0,0,1,0,1,0,0,0,0,1,0,0,0,0,0,1,0,0,0,0,0,1,1,0,0,0,1,0,1,0,0,0,0,0,1,0,0,0,0,0,1,0,0,0,0,0,0,0,0,0,1,0,0,0,1,0,0,0,0,0,1,0,0,0,0,0,0,0,0,0,0,0,0,0,0,0,0,0,0,0,0,0,0,1,0,0,0,0,0,1,0,0,0,0,1,1,0,0,0,0,0,0,0,0,0,0,0,0,1,0,1,0,0,0,0,0,0,0,0,0,1,0,0,1,0,0,0,1,1,0,0,0,1,0,0,0,0,1,0,0,0,0,0,1,0,0,0,0,0,0,0,0,1,0,0,0,0,0,1,0,0,0,0,0,1,0,0,0,0,0,1,0,0,1,0,0,0,0,0,1,0,0,0,0,0,0,0,0,0,0,0,0,0,0,0],\"coloraxis\":\"coloraxis\",\"opacity\":0.7,\"symbol\":\"diamond\"},\"mode\":\"markers\",\"name\":\"1\",\"scene\":\"scene\",\"showlegend\":true,\"x\":[-2.1601702331866517,1.2936926895622558,-0.11774167790724975,-0.5254893840651068,0.3490464200924693,-0.010730967693875257,2.229113897806752,-2.1749303311471175,0.5741379139895667,-0.3981835391560925,1.0778262568904493,0.6018130976654393,0.3195262241715386,1.9007017181863963,-2.007034216846823,0.14794008538112788,-0.2284424126107404,2.913613440723335,-2.237660747479095,2.092582991672446,0.8711848854439331,1.3047627630326049,2.4449803304785585,-0.8188463310293571,0.3508914323375274,-0.4074086003813834,1.7088204447003463,1.2770875793567322,0.8121444936020716,1.7180455059256372,-0.9443071636933128,0.6184182078709631,-1.337294771890705,1.4320686079416196,3.1608450815611313,0.7106688201238719,-0.25796260853167113,0.9246902405506204,-0.2247523881206237,-0.4129436371165581,1.1110364773014962,-0.14726187382818048,1.3066077752776635,1.8176761671587782,1.4191535222262115,1.574134550811099,-0.023646053409282813,0.8619598242186423,-1.5291760453767553,-0.900026869811917,0.6903736854282321,-0.16017695954358752,1.5944296855067384,-1.9590638984753106,1.0704462079102166,-0.12327671464242397,2.0040224039096546,-0.09929155545666797,0.7678641997206753,0.5519977670488688,1.0095608038232964,-0.3649733187450456,2.87855820806723,2.0999630406526797,0.7512590895151516,2.2143537998462866,1.5169391712142952,0.7918493589064318,1.692215334494822,-0.32069302486364926,-0.6361901187685974,0.9486753997363769,-0.0476312125950388,1.5888946487715647,1.6977503712299968,2.4929506488500714,-0.21737233914039142,0.020634240472113548,1.6313299304079019,1.6959053589849382,-0.23213243710085651,-1.0826830820726765,2.622101506004144,1.4855739630483065,0.22912062416368778,1.6294849181628444,1.989262305949189,-0.9904324698197675,-0.21368231465027476,1.4376036446767932,-0.08453145749620235,-0.8354514412348808,1.8176761671587782,3.0870445917588043,1.6313299304079019,1.8047610814433712,1.548304379380284,0.27155590580002553,0.6737685752227084,-1.246889171882854,-0.0476312125950388,0.40439678744421464,-0.267187669756962,0.17746028130205863,-0.578994739171794,1.675610224289299,-1.3483648453610537,0.25495079559450234,-0.8834217596063934,1.9855722814590728,1.0261659140288202,1.0575311221948094,1.6866802977596473,1.1719218813884162,-0.32069302486364926,0.12764495068548803,0.8342846405427696,-0.9037168943020332,-1.0660779718671527,1.2586374569061505,-1.2413541351476796,1.5556844283605173,1.679300248779415,0.1793052935471167,-1.8612782494872273,-0.8741966983811024,-0.4867441269188852,2.616566469268969,1.0593761344398676,-0.5771497269267359,-3.3114578741029543,-0.8446765024601717,1.9597421100282577,0.7069787956337558,1.2088221262895797,-1.245044159637796,1.2217372120049868,1.6645401508189495,-0.5550095799860375,-1.233974086167447,0.2992310894758982,-0.10113656770172605,0.02985930169740443,1.7309605916410442,-0.8520565514404039,-0.48120909018371044,0.6350233180764868,0.8084544691119555,1.5114041344791205,-2.453527180150902,-0.5457845187607466,1.1571617834279506,1.474503889577957,-0.42401371058690707,-2.18231038012735,-0.2598076207767292,1.0593761344398676,1.1590067956730092,1.0501510732145767,-1.112203277993607,-0.3705083554802198,2.072287856976807,0.8453547140131191,-0.9627572861438949,1.1350216364872527,2.7733925100989145,1.6387099793881352,-1.1804687310607598,-1.0919081432979674,1.826901228384069,-0.8926468208316842,1.640554991633193,0.9837306323924824,1.9726571957436647,-0.0033509187136424434,-1.224749024942156,-0.3354531228241143,0.2032904527328732,1.2125121507796959,-0.8649716371558115,-1.0605429351319782,1.1626968201631254,-0.4775190656935943,1.976347220233782,0.14425006089101172,-2.3114612372814225,-0.8040862330688915,0.17746028130205863,1.9855722814590728,-0.2524275717964964,0.7900043466613738,-0.5955998493773178,1.3877883140602227,-0.5568545922310956,1.0981213915860892,2.138708297798901,-0.3170030003735326,1.7198905181706947,-0.4313937595671399,0.8435097017680605,1.2992277262974306,1.7770858977674986,0.8527347629933514,-0.21552732689533283,-0.5328694330453396,1.487418975293365,-0.911096943282266,-0.9369271147130805,-0.45168889426277975,1.0538410977046928,1.0759812446453914,0.45236710581572714,1.7162004936805786,1.9726571957436647,2.7420273019329255,-0.6195850085630737,0.7032887711436391,1.6663851630640079,1.5077141099890043,0.9117751548352133,2.0464576855459917,2.1885236284154725,0.7863143221712571,1.0464610487244599,-0.7911711473534845,2.0353876120756436,0.3084561507011891,-0.12143170239736589,1.343508020178827,-1.5310210576218135,1.2973827140523726,0.8582697997285261,1.6700751875541242,-2.4313870332102034,-1.6601719147758858,1.3250578977282452,-2.429542020965146,-0.18969715546451876,-0.6361901187685974,1.8342812773643014,0.6959087221634063,2.2826192529134386,-0.8520565514404039,-0.2358224615909732,1.7900009834829056,0.8785649344241659,1.2143571630247545,-0.6675553269345863,1.6903703222497646,-0.2284424126107404,-0.40002855140115057,0.007719154756706515,1.740185652866335,-0.0956015309665513,2.295534338628846,-1.0291777269659892,0.9062401181000386,0.4154668609145636,0.5538427792939269,2.1848336039253553,0.6147281833808469,2.1294832365736096,-0.6730903636697609,0.4025517751991565,0.4431420445904362,2.708817081521878,-0.5974448616223759,-0.36128329425492894,-1.8040828698904237,-1.3003945269895412,-1.2893244535191923,1.8453513508346508,-0.769031000412786,-0.3170030003735326,-1.6029765351790823,-1.0402478004363385,-1.1896937922860507,0.09627974251949871,2.116568150858203,1.474503889577957,2.551991040691933,2.4449803304785585,-0.8834217596063934,-1.03840278819128,3.0593694080829317,1.5759795630561566,0.8416646895230024,-0.3151579881284745,0.8250595793174788,2.194058665150646,-0.4055635881363253,0.8748749099340498,2.6368616039646087,1.2346522977203944,2.002177391664596,2.25125404474745,-1.47382567802501,0.35642646907270215,1.4099284610009213,1.8158311549137196,0.8379746650328863,2.382249914146581,-0.6398801432587136,1.500334061008772,2.4837255876247806,2.0612177835064576,1.5187841834593538,1.2125121507796959,0.6774585997128245,-0.19338717995463492,-1.3741950167918684,1.7438756773564512,1.0667561834201003,-0.45722393099795444,0.7180488691041047,-0.06977135953573724,-1.2598042575982613,1.4486737181471427,1.3269029099733032,-0.22290737587556564,-0.9277020534877897,-0.995967506554942,-1.650946853550595,-0.3077779391482417,-1.0144176290055238,1.9597421100282577,1.6903703222497646,-1.307774575969774,-1.6546368780407112,1.8416613263445347,-0.29670786567789276,-0.5623896289662703,2.016937489625062,1.9911073181942465,1.2235822242500454,-1.1380334494244218,1.1571617834279506,0.0483094241479862,-0.21183730240521667,1.4191535222262115,1.022475889538704,0.9966457181078894,0.32875128539682946,-0.8077762575590082,0.8564247874834681,-1.0550078983968036,1.5981197099968556,1.609189783467204,-1.2727193433136685,-1.7302823800880964,1.7198905181706947,-0.38895847793080157,-0.4609139554880706,2.317674485569545,-0.8852667718514514,0.8638048364637009,-0.7413558167369133,2.0685978324866907,-0.1804720942392279,2.635016591719551,-0.7634959636776117,0.4874223384718326,0.782624297681141,-0.6694003391796448,1.2549474324160341,0.8564247874834681,-1.401870200467741,1.2420323467006271,-0.08822148198631902,1.116571514036671,2.1257932120834937,-0.9922774820648256,0.8656498487087589,1.5685995140759244,1.3951683630404557,1.2770875793567322,-1.0568529106418618,-1.4074052372029155,-0.757960926942437,1.9689671712535486,1.61287980795732,-1.3317597351555304,0.36934155478810915,-0.13619180035783152,0.1221099139503133,-0.7284407310215063,2.6128764447788533,-1.1269633759540725,-0.9295470657328477,2.830587889695717,-0.37604339221539457,0.44129703234537815,1.334282958953536,2.7125071060119943,-0.8317614167447641,-2.156480208696536,0.19037536701746616,2.295534338628846,-0.12512172688748255,1.6073447712221465,-0.16755700852382033,2.1571584202494827,1.0464610487244599,1.0132508283134132,0.22912062416368778,0.5870529997049743,-0.4701390167133615,1.8508863875698256,-0.7874811228633678,0.8970150568747477,-1.6564818902857694,0.7604841507404425,-0.4037185758912672,1.5722895385660405,1.2992277262974306,-1.7026071964122238,-0.9701373351241275,-0.5716146901915612,2.6387066162096673,0.3711865670331672,-0.5070392616145251,2.8564180611265324,-0.4664489922232454,2.635016591719551,-0.4627589677331287,-0.3594382820098709,0.9265352527956785,1.6018097344869717,-1.525486020886639,1.9357569508425012,-0.6694003391796448,-1.7930127964200746,1.7420306651113926,-0.4701390167133615,-0.8871117840965095,1.6516250651035422,2.107343089632912,-0.9184769922624988,1.6460900283683675,1.7826209345026733,0.004029130266589846,-1.800392845400307,-0.48858913916394325,-2.005189204601765,1.8785615712456984,1.0796712691355075,-0.40002855140115057,1.6553150895936586,1.2973827140523726,0.9708155466770748,1.6165698324474373,2.4671204774192566,0.2955410649857821,1.7291155793959856,-0.36866334323516176,1.1110364773014962,1.1147265017916128,0.33797634662212034,-0.6029798983575501,-0.21552732689533283,-1.2265940371872142,0.5852079874599156,1.2494123956808594,0.9542104364715511,1.129486599752078,1.3951683630404557,1.8379713018544186,1.2494123956808594,1.0999664038311472,1.5538394161154587,2.6792968856009467,1.596274697751797,2.14977837126925,1.7973810324631379,1.9911073181942465,-0.9387721269581386,-1.1878487800409925,0.8933250323846316,1.7032854079651716,-1.2210590004520396,2.0224725263602363,2.1313282488186682,1.8545764120599417],\"y\":[-0.5984489011277974,1.021041251063971,0.06897734341184054,0.37913424528614253,-2.455464275641025,-0.6141530480581421,-0.38055386246926864,-2.4201299450477505,0.958224663342593,-0.8909386377054623,0.9268163694819044,0.17694335355795843,1.0701167102212974,0.383060282018729,-0.8418631785481361,-1.055832180474079,-0.44925950528952546,0.530286659490708,-1.2109106314112301,-0.013469427972468008,0.544027788054759,1.3096049509090502,-1.3934713394764837,-1.3012094762607105,1.3233460794731013,-1.6192184516001848,1.3370872080371525,0.3850233003850219,-0.22743842989841032,0.9484095715111278,-0.06450790549608727,-0.46692667058616305,-1.8587066922879374,2.1949262341072164,0.3163176575647651,-1.6879240944204417,1.6845414588710226,0.10431167400511515,0.5813251370143272,-0.30399614618383947,1.6197618527833517,-0.7927877193908097,1.1820087571000018,-0.4649636522198701,1.443090199816977,0.8836299654234574,-0.6396722868199514,-0.36877575227151044,2.257742821828594,1.1820087571000018,0.13768298623209738,-0.01739546470505389,0.3025765290007139,-0.7653054622627069,1.0406714347269017,-0.33933047677711464,1.1309702795763819,0.9955220123021612,1.2664185468506022,2.8839456806760784,1.8199897261452438,-0.05665583203091494,0.23779692291304297,-0.2333274849972897,-0.29614407271866716,0.5165455309266562,0.20049957395347484,2.4854529523185884,0.04345810465003063,-0.8909386377054623,-0.48263081751650716,0.84044356136501,-0.6377092684536584,0.16516524336020025,1.0406714347269017,-0.6004119194940903,-2.0942688962431038,-0.1862150442062563,0.4439138513738135,-0.19603013603772157,0.40857952078053833,-0.6004119194940903,1.0053371041336265,0.19853655558718192,-2.5418370837579194,2.2773730054915244,1.7198757894642978,0.1435720413309762,-0.19014108093884274,1.191823848931467,0.9385944796796626,-0.7437122602334834,1.2958638223449979,0.9641137184414724,1.235010252989914,0.5499168431536384,0.5872141921132066,0.9621507000751796,0.6264745594390676,-1.695776167885614,-1.915634224910436,0.9052231674526808,0.04345810465003063,0.8973710939875086,-0.69659981944245,0.29079841880295515,0.7795899920099254,-1.4150645415057073,0.21424070251752655,-0.4315923399928879,1.009263140866213,1.274270620315775,0.506730439095191,-0.32362632984677,-0.5611515521682293,0.012049810789341902,-1.2933574027955381,0.15731316989502792,-1.4641400006630338,1.356717391700083,0.18086939029054433,0.9994480490347476,0.5813251370143272,-0.31381123801530475,-0.2568837053928061,-1.2069845946786437,-0.28436596252090895,-0.6377092684536584,-0.8399001601818431,0.3928753738501942,-0.8006397928559821,-0.24706861356134083,0.5989923023109648,0.3968014105827801,0.9876699388369888,-0.13125052995005118,0.8149243226032006,0.14160902296468328,-0.5591885338019363,1.2036019591292246,0.17105429845907905,0.17694335355795843,0.3045395473670069,1.2408993080887933,-0.34325651350970054,-0.9616072988920121,1.1800457387337082,-0.6534134153840031,0.30061351063442043,-0.28240294415461603,-0.5788187174648669,0.504767420728898,-0.5434843868715923,0.173017316825372,-2.1217511533712066,1.439164163084391,-0.05272979529832906,2.9546143418626274,1.7061346609002466,-0.6298571949884861,-0.40999913796366444,0.2731312535063181,-1.809631233130611,0.4301727228097624,0.6166594676076024,0.15535015152873496,-0.29221803598608126,0.3477259514254538,0.7854790471088048,0.7913681022076836,-0.7829726275593445,-0.9773114458223567,2.0221806178734276,0.10431167400511515,0.16712826172649317,-0.6200421031570208,-1.4916222577911364,1.1643415918033637,1.0544125632909527,0.4066165024142454,0.3889493371176078,0.8836299654234574,0.6382526696368258,0.44783988810639935,-0.7790465908267585,2.0182545811408414,0.8659628001268198,0.44783988810639935,-0.8065288479548609,-0.2038822095028939,1.6806154221384366,-0.7908247010245167,1.0171152143313846,-0.26080974212539254,1.4254230345203398,0.6225485227064812,-1.0067567213167525,0.7069583124570826,-1.8312244351598348,-0.30399614618383947,1.062264636756125,-0.21369730133435916,-1.5858471393732032,0.09645960053994339,-0.6141530480581421,1.1015250040819862,-0.655376433750296,0.5243976043918286,-1.3149506048247617,-0.5984489011277974,0.16712826172649317,-0.6259311582559002,0.504767420728898,-0.43551837672547433,-0.9557182437931333,0.15338713316244149,1.543204136497923,0.5577689166188108,0.9896329572032824,1.0858208571516414,1.050486526558367,0.017938865888221283,-0.7810096091930515,1.443090199816977,0.17694335355795843,1.0838578387853486,-0.46888968895245603,-0.34129349514340757,0.12983091276692507,0.19264750048830254,1.2075279958618106,2.045736838268945,1.1034880224482797,1.256603455019137,2.7386823215703915,1.0230042694302641,-0.42177724816142265,-0.5317062766738335,1.8435459465407602,-0.19995617277030803,2.0221806178734276,-0.5866707909300392,0.9307424062144908,-0.41392517469625034,-0.09395318099048305,-1.5681799740765656,1.1682676285359495,0.5950662655783784,0.7187364226548408,-1.3463588986854504,0.05523621484778884,-0.5964858827615045,1.7532471016912794,-1.1814653559168344,0.6245115410727742,-0.5454474052378852,-1.3267287150225198,-0.3157742563815977,-1.7821489760025084,0.7403296246840644,-0.20780824623547978,-0.1489176952466882,0.2319078678141636,0.0650513066792541,-0.0016913177747092446,-0.6926737827098641,-0.7731575357278792,-0.40214706449849213,0.19264750048830254,1.1564895183381918,0.9601876817088866,0.05523621484778884,0.4988783656300192,1.5490931915968025,-0.7554903704312416,0.2652791800411458,-1.5328456434832907,1.2094910142281041,0.6304005961716536,1.360643428432669,-0.9321620233976163,-0.40018404613219916,-0.41392517469625034,-0.2038822095028939,0.059162251580375275,1.5863905405563699,1.5530192283293882,-0.655376433750296,2.2479277299971283,1.3763475753630134,-0.2117342829680662,-0.35699764207375223,1.625650907882231,-0.36092367880633813,1.087783875517935,1.1250812244775026,2.1262205912869594,-0.6632285072154683,-1.1677242273527826,-0.8752344907751177,0.9739288102729378,-0.9733854090897703,0.004197737324169579,-0.7201560398379669,0.4321357411760553,0.6637719083986352,0.8757778919582851,0.33005878612881623,3.2058806927481385,-0.22743842989841032,-0.38840593593444095,0.6166594676076024,-0.4649636522198701,-0.4433704501906461,0.7128473675559615,0.2240557943489918,1.2389362897224998,0.9052231674526808,-0.07432299732755253,-1.110796694730284,0.2692052167737317,-1.403286431307949,1.4902026406080109,0.5734730635491548,-1.1618351722539038,-0.6455613419188307,0.7265884961200132,0.1867584453894237,0.6441417247357046,0.023827920987100105,0.7795899920099254,-1.362063045615795,-0.48066779915021424,1.1623785734370713,1.6943565507024878,-0.02328451980393327,0.504767420728898,-1.2855053293303658,-0.7299711316694323,0.277057290238904,1.382236630461893,-0.24903163192763433,-1.1637981906201968,0.15731316989502792,1.4764615120439597,-1.6015512863035475,0.48710025543226043,-0.8281220499840849,0.15535015152873496,0.41643159424571063,0.4812112003333816,-0.24314257682875495,0.27116823514002464,-0.24314257682875495,-0.5022610011794377,1.4509422732821498,-0.15873278707815347,0.4066165024142454,-1.1579091355213174,0.5891772104794996,-0.8281220499840849,1.5117958426372338,1.5274999895675783,-0.40999913796366444,0.4910262921648469,1.937770828122827,-1.6192184516001848,0.11608978420287391,-1.028349923345976,-1.3012094762607105,1.8494350016396397,1.4823505671428379,1.5000177324394761,-0.1253614748511718,1.305678914176463,-0.551336460336764,-1.3483219170517438,0.7049952940907898,-0.8143809214200332,-0.2588467237590996,0.5754360819154478,0.7422926430503572,-1.283542310964073,0.4556919615715717,-0.03506263000169148,-0.07824903406013842,1.278196657048361,0.9601876817088866,0.5518798615199314,2.3048552626196277,0.6068443757761371,-0.1862150442062563,0.10431167400511515,-0.4728157256850419,0.21424070251752655,-0.38840593593444095,-1.511252441454067,1.1878978121988801,-1.5760320475417378,1.2644555284843098,2.946762268397456,0.2829463453377834,0.35754104325691904,1.5490931915968025,1.0936729306168145,-1.8606697106542305,2.540417466574794,0.9484095715111278,0.008123774056756019,1.4941286773405966,1.1721936652685365,0.33987387796028146,-0.12339845648487885,2.0535889117341166,0.8267024328009588,-0.6102270113255556,-0.657339452116589,0.3732451901872637,0.08271847197589169,0.2162037208838195,1.1466744265067266,-0.1626588238107399,-1.729147480112596,0.424283667710883,-0.6298571949884861,0.17890637192425138,2.662124605284963,0.1455350596972697,-1.134352915125801,-0.8516782703796013,-2.2041979247555146,1.0936729306168145,1.5353520630327513,-0.029173574902812093,0.37913424528614253,0.6539568165671699,1.4156079426888746,-0.44925950528952546,1.9750681770823946,0.014012829155634843,0.3477259514254538,1.0485235081920738,-1.1637981906201968,0.2986504922681275,1.9848832689138598,1.5333890446664578,-0.7633424438964139,-0.12928751158375767,0.8247394144346658,2.4874159706848817,-0.39233197266702685,0.3123916208321792,-0.5650775889008157,0.21031466578494012,1.4744984936776662,1.5962056323878353,1.2016389407629322,-1.3051355129932964,1.672763348673265,0.20835164741864717,-0.6121900296918491,2.2008152892060955,2.0280696729723067,1.3233460794731013,1.3547543733337895,0.5931032472120854,-0.39036895430073393,0.4929893105311398,0.8463326164638894,-0.27258785232315075,0.7069583124570826,0.27902030860519694,0.5106564758277774,0.9130752409178532,0.6853651104278592,0.3104286024658857,0.21424070251752655,2.006476470943084,0.7226624593874268,-0.04880375856574262,0.6559198349334634,0.4556919615715717,0.03560603118485831],\"z\":[0.16606116047772507,1.5566242733500188,-1.5554008234463328,0.05379190065659106,-0.39331550249073327,-1.0354168832221324,1.3576910234915187,-0.5548256657421893,-0.19241261649501906,-0.22786606696485115,0.15227370751723512,-0.6690645617005366,-1.2382894053550588,-0.6139147498585757,-0.9132994427149334,0.4831725785689988,0.9499763430884519,-0.9310261679498495,-1.267833947413252,1.066184875184012,-2.5205225306806445,-0.9881456159290231,0.32363205145475554,0.431962039001464,3.0279424678480407,1.53692791197789,0.2487858782406664,1.2710270334541511,-0.9113298065777207,-0.0742344482622462,-1.236319769217846,1.2099683132005525,0.8258892664440401,-0.35786205202090116,1.0386099692630315,1.339964298256602,-0.044689906204052984,-0.6887609230726655,-0.18650370808338076,-0.0781737205366723,0.733316367995035,0.22121097231968595,-0.12150571555535546,0.3610551380618004,0.42408349445261234,-0.8010301828937995,-0.37558877725581724,1.1351221399864628,-0.7458803710518385,0.8475552639533818,0.4043871330804836,-0.6198236582702146,-1.8331195187933491,0.7569520016415894,1.2611788527680867,-0.8345139972264182,-0.17271625512289024,1.1114865063399084,-0.6355807473679173,0.8830087144232138,-0.3401353267859851,-1.5672186402696102,1.2572395804936614,1.2946626671007055,0.07742753430314542,0.18772715798706663,1.093759781104992,0.13454698228231907,0.4024174969432708,-0.22589643082763838,0.44377985582474117,-0.36967986884417836,-0.37361914111860445,-0.36771023270696557,-0.7045180121703681,1.6531364440734508,0.7904358159742086,1.8599482384808033,1.2119379493377647,1.6452578995245986,-0.07620408439945897,-0.1392324407902715,-1.1831395935130984,0.660439830918158,0.0715186258915071,0.14636479910559624,1.27693594186579,0.1227291654590419,-0.1608984382996131,0.06364008134265547,-0.7202751012680714,-0.2869551510812376,0.4516584003735928,1.4620817387638003,-0.4543742227443325,-1.6519129941697641,-0.6020969330352985,1.0583063306351603,0.28226969257328516,-1.0708703336919638,0.24681624210345307,-0.9132994427149334,-0.5686131187026793,0.8042232689346986,0.29211787325934957,1.0405796054002443,-1.0531436084570485,-0.7695160046983934,-0.6473985641911945,-0.9448136209103399,1.668893533171153,-0.9605707100080426,-0.440586769783842,-0.3322567822371335,1.1548185013585917,1.6846506222688562,-1.5928239100533776,-1.173291412827034,1.1902719518284237,-0.6670949255633233,1.1764844988679326,-0.021054272557498636,-1.2835910365109553,1.0760330558700764,-0.33422641837434686,-0.1687769828484647,0.4555976726480189,-0.1490806214763359,0.7845269075625698,-1.3190444869807874,-0.6710341978377494,-0.3795280495302428,0.5816543854296429,1.4995048253708458,1.3596606596287308,0.15227370751723512,1.6570757163478764,0.25666442278951745,0.26257333120115633,-1.5297955536625654,-0.0013579111853698278,0.4516584003735928,0.2980267816709884,-0.7084572844447942,0.7864965436997826,-0.9329958040870622,0.6427131056832426,0.036065175421675026,1.3911748378241373,-0.6631556532888977,-0.5843702078003825,1.0011868826559867,1.822525151873758,-0.8364836333636315,-0.0742344482622462,0.17393970502657669,2.125849117004542,-0.7498196433262646,-0.18059479967174188,0.06954898975429377,-0.6572467448772589,-0.9842063436545976,-1.2126841355712916,-0.5370989405072732,0.37484259102229034,1.2986019393751322,1.2493610359448102,1.0583063306351603,0.2999964178082012,-1.5987328184650162,0.11288098477297749,1.9052498696366986,1.0720937835956503,-0.19241261649501906,0.9263407094418971,1.2158772216121903,1.1981504963772749,-1.1752610489642468,0.7530127293671638,-1.4431315636251985,-0.42286004454892645,0.36302477419901313,0.25666442278951745,0.04985262838216497,1.233603946847107,-0.5784612993887436,0.12469880159625467,1.3360250259821764,0.3078749623570528,-1.1260201455339247,0.9499763430884519,-0.3381656906487724,-0.4543742227443325,-1.0117812495755774,1.5172315506057614,0.06364008134265547,1.0701241474584375,0.6761969200158614,-0.6592163810144722,-1.141777234631628,1.4187497437451173,0.44771912809916725,-0.15695916602518753,-1.401769204743728,0.39453895239441916,0.5501402072342368,0.8574034446394462,-0.4543742227443325,-0.49376694548859007,0.21924133618247318,-0.6572467448772589,-0.7320929180913486,-0.8286050888147799,0.25666442278951745,2.0155494933206204,-0.39922441090237154,0.975581612872219,1.1095168702026952,-0.49573658162580286,0.13454698228231907,1.2237557661610425,0.26651260347558187,0.34726768510131045,0.5087778483527665,-0.7892123660705223,0.8199803580324019,0.6151381997622621,0.4969600315294893,1.6432882633873864,-1.0787488782408154,-0.6769431062493877,-0.39331550249073327,-0.6434592919167689,0.6702880116042225,-0.5567953018794021,-1.6322166327976353,-0.9566314377336171,0.301966053945414,0.7608912739160154,1.0642152390467987,-0.08014335667388507,0.5205956651760436,0.351206957375736,0.8180107218951885,0.17984861343821557,-1.6578219025814027,0.0616704452054427,0.2586340589267308,0.7628609100532282,-0.2711980619835343,-0.6395200196423434,-0.20816970559272233,1.3379946621193899,0.28030005643607236,-1.0649614252803257,1.562533181761658,0.512717120627192,-0.49573658162580286,-0.22589643082763838,0.7746787268765054,-0.611945113721363,-1.0452650639081968,-1.8961478751841612,-1.4037388408809408,0.2527251505150919,-0.7537589156006902,1.4719299194498647,-0.9211779872637851,0.2133324277708343,-0.37558877725581724,2.3641750896073,-0.531190032095635,-1.1023845118873705,-0.16680734671125194,1.6511668079362374,-0.3204389654138563,0.863312353051085,0.7549823655043766,-0.12150571555535546,-0.5095240345862928,-1.5317651897997782,-0.6414896557795562,0.9854297935582834,-0.6080058414469368,0.32166241531754275,-0.6907305592098781,0.6427131056832426,-1.4234352022530696,-0.35983168815811395,-1.8488766078910521,0.5087778483527665,0.05379190065659106,0.1640915243405123,-0.858149630872973,0.634834561134391,-1.3446497567645546,-0.7872427299333095,-0.05256845075290462,2.1219098447301157,1.0976990533794175,0.2940875093965623,-0.048629178478479085,0.15030407138002236,1.389205201686924,1.1390614122608884,-0.18650370808338076,0.018338450186758982,0.8258892664440401,-1.466767197271753,0.23893769755460198,-0.5331596682328477,1.6235919020152576,1.2257254022982547,-0.5567953018794021,-0.17665552739731635,-1.2461679499039104,0.46347621719687,-0.5508863934677637,-0.18059479967174188,-1.2028359548852272,0.27045187575000795,0.999217246518774,-0.31453005700221803,2.5906832453867814,1.3202679368844732,1.1587577736330172,-1.0984452396129443,0.4221138583153996,-0.6986091037587299,1.5684420901732967,-0.7320929180913486,0.7372556402694606,0.28030005643607236,-0.9448136209103399,0.7786179991509309,0.845585627816169,1.3281464814333255,-0.9625403461452554,-0.5607345741538281,0.6407434695460292,0.35711586578737486,-1.55343118730912,0.21530206390804707,0.1542433436544479,0.004550997226269039,-1.0492043361826222,0.46347621719687,1.704346983640985,-2.2408341991964154,-0.20816970559272233,-0.4524045866071197,0.3649944103362259,-0.4563438588815452,0.6742272838786486,-0.33422641837434686,0.8180107218951885,-0.9881456159290231,0.5521098433714496,1.0208832440281155,0.7943750882486342,0.2862089648477107,0.016368814049546213,1.7122255281898373,-0.5784612993887436,0.8495249000905951,0.9873994296954968,-0.003327547322582597,0.1424255268311707,-0.6493682003284078,-0.23771424765091556,1.1607274097702305,0.26257333120115633,0.24090733369181477,1.2119379493377647,-0.0683255398506079,-0.18256443580895465,-0.6237629305446402,0.04591335610773943,-3.028688654081568,-1.0826881505152417,0.9952779742443478,1.3911748378241373,-0.3263478738254952,-1.007841977301152,0.10500244022412586,-1.5967631823278035,-0.4071029554512232,0.5087778483527665,0.15030407138002236,-0.7990605467565867,-1.141777234631628,-0.10180935418322665,1.458142466489375,-0.38346732180466886,-0.1490806214763359,0.4043871330804836,0.25666442278951745,2.1849382011209286,0.2940875093965623,0.1187898931846158,1.8875231444017833,-1.3249533953924257,-0.1392324407902715,0.6505916502320936,0.04985262838216497,-0.4977062177630156,1.7102558920526238,-0.5942183884864469,-1.3288926676668518,1.548745728801168,-0.611945113721363,-0.2101393417299351,0.5974114745273461,-0.0742344482622462,-0.9743581629685332,-0.678912742386601,-1.1023845118873705,-0.05256845075290462,-0.2948336956300892,-2.5362796197783473,1.221786130023829,-0.2002911610438707,0.8908872589720654,-0.7557285517379029,0.7628609100532282,-2.3412856421942725,-0.16483771057403862,0.07545789816593264,0.17590934116378945,0.8199803580324019,0.6308952888599648,0.5599883879203013,1.066184875184012,-0.970418890694107,-0.8955727174800179,-0.43073858909777757,-0.4524045866071197,0.5462009349598114,-0.6730038339749621,0.5934722022529205,0.21924133618247318,0.2349984252801759,-0.5843702078003825,0.5836240215668562,0.03212590314724949,-0.1589288021624003,1.3852659294124985,1.1114865063399084,0.6033203829389849,0.49892966766670205,0.5796847492924301,0.33938914055245883,0.055761536793803836,0.04985262838216497,-0.4819491286653129,-0.3480138713348368,0.11682025704740304,-0.47013131184203516,0.2448466059662403,-0.9389047124987011,-0.8778459922451018,-0.4563438588815452,-1.8862996944980968,0.7707394546020798,-0.2771069703951732,0.33151059600360716,0.32166241531754275,-0.29286405949287586,0.5855936577040689,-0.11559680714371659,-0.26725878970910877,2.068729669025368,0.8987658035209172,1.048458149949096,1.7910109736783524,1.066184875184012,-1.2816214003737425,-0.1904429803578063,0.17590934116378945,1.641318627250173,0.43984058355031563,0.5560491156458757,-0.8739067199706758],\"type\":\"scatter3d\"}],                        {\"template\":{\"data\":{\"histogram2dcontour\":[{\"type\":\"histogram2dcontour\",\"colorbar\":{\"outlinewidth\":0,\"ticks\":\"\"},\"colorscale\":[[0.0,\"#0d0887\"],[0.1111111111111111,\"#46039f\"],[0.2222222222222222,\"#7201a8\"],[0.3333333333333333,\"#9c179e\"],[0.4444444444444444,\"#bd3786\"],[0.5555555555555556,\"#d8576b\"],[0.6666666666666666,\"#ed7953\"],[0.7777777777777778,\"#fb9f3a\"],[0.8888888888888888,\"#fdca26\"],[1.0,\"#f0f921\"]]}],\"choropleth\":[{\"type\":\"choropleth\",\"colorbar\":{\"outlinewidth\":0,\"ticks\":\"\"}}],\"histogram2d\":[{\"type\":\"histogram2d\",\"colorbar\":{\"outlinewidth\":0,\"ticks\":\"\"},\"colorscale\":[[0.0,\"#0d0887\"],[0.1111111111111111,\"#46039f\"],[0.2222222222222222,\"#7201a8\"],[0.3333333333333333,\"#9c179e\"],[0.4444444444444444,\"#bd3786\"],[0.5555555555555556,\"#d8576b\"],[0.6666666666666666,\"#ed7953\"],[0.7777777777777778,\"#fb9f3a\"],[0.8888888888888888,\"#fdca26\"],[1.0,\"#f0f921\"]]}],\"heatmap\":[{\"type\":\"heatmap\",\"colorbar\":{\"outlinewidth\":0,\"ticks\":\"\"},\"colorscale\":[[0.0,\"#0d0887\"],[0.1111111111111111,\"#46039f\"],[0.2222222222222222,\"#7201a8\"],[0.3333333333333333,\"#9c179e\"],[0.4444444444444444,\"#bd3786\"],[0.5555555555555556,\"#d8576b\"],[0.6666666666666666,\"#ed7953\"],[0.7777777777777778,\"#fb9f3a\"],[0.8888888888888888,\"#fdca26\"],[1.0,\"#f0f921\"]]}],\"heatmapgl\":[{\"type\":\"heatmapgl\",\"colorbar\":{\"outlinewidth\":0,\"ticks\":\"\"},\"colorscale\":[[0.0,\"#0d0887\"],[0.1111111111111111,\"#46039f\"],[0.2222222222222222,\"#7201a8\"],[0.3333333333333333,\"#9c179e\"],[0.4444444444444444,\"#bd3786\"],[0.5555555555555556,\"#d8576b\"],[0.6666666666666666,\"#ed7953\"],[0.7777777777777778,\"#fb9f3a\"],[0.8888888888888888,\"#fdca26\"],[1.0,\"#f0f921\"]]}],\"contourcarpet\":[{\"type\":\"contourcarpet\",\"colorbar\":{\"outlinewidth\":0,\"ticks\":\"\"}}],\"contour\":[{\"type\":\"contour\",\"colorbar\":{\"outlinewidth\":0,\"ticks\":\"\"},\"colorscale\":[[0.0,\"#0d0887\"],[0.1111111111111111,\"#46039f\"],[0.2222222222222222,\"#7201a8\"],[0.3333333333333333,\"#9c179e\"],[0.4444444444444444,\"#bd3786\"],[0.5555555555555556,\"#d8576b\"],[0.6666666666666666,\"#ed7953\"],[0.7777777777777778,\"#fb9f3a\"],[0.8888888888888888,\"#fdca26\"],[1.0,\"#f0f921\"]]}],\"surface\":[{\"type\":\"surface\",\"colorbar\":{\"outlinewidth\":0,\"ticks\":\"\"},\"colorscale\":[[0.0,\"#0d0887\"],[0.1111111111111111,\"#46039f\"],[0.2222222222222222,\"#7201a8\"],[0.3333333333333333,\"#9c179e\"],[0.4444444444444444,\"#bd3786\"],[0.5555555555555556,\"#d8576b\"],[0.6666666666666666,\"#ed7953\"],[0.7777777777777778,\"#fb9f3a\"],[0.8888888888888888,\"#fdca26\"],[1.0,\"#f0f921\"]]}],\"mesh3d\":[{\"type\":\"mesh3d\",\"colorbar\":{\"outlinewidth\":0,\"ticks\":\"\"}}],\"scatter\":[{\"fillpattern\":{\"fillmode\":\"overlay\",\"size\":10,\"solidity\":0.2},\"type\":\"scatter\"}],\"parcoords\":[{\"type\":\"parcoords\",\"line\":{\"colorbar\":{\"outlinewidth\":0,\"ticks\":\"\"}}}],\"scatterpolargl\":[{\"type\":\"scatterpolargl\",\"marker\":{\"colorbar\":{\"outlinewidth\":0,\"ticks\":\"\"}}}],\"bar\":[{\"error_x\":{\"color\":\"#2a3f5f\"},\"error_y\":{\"color\":\"#2a3f5f\"},\"marker\":{\"line\":{\"color\":\"#E5ECF6\",\"width\":0.5},\"pattern\":{\"fillmode\":\"overlay\",\"size\":10,\"solidity\":0.2}},\"type\":\"bar\"}],\"scattergeo\":[{\"type\":\"scattergeo\",\"marker\":{\"colorbar\":{\"outlinewidth\":0,\"ticks\":\"\"}}}],\"scatterpolar\":[{\"type\":\"scatterpolar\",\"marker\":{\"colorbar\":{\"outlinewidth\":0,\"ticks\":\"\"}}}],\"histogram\":[{\"marker\":{\"pattern\":{\"fillmode\":\"overlay\",\"size\":10,\"solidity\":0.2}},\"type\":\"histogram\"}],\"scattergl\":[{\"type\":\"scattergl\",\"marker\":{\"colorbar\":{\"outlinewidth\":0,\"ticks\":\"\"}}}],\"scatter3d\":[{\"type\":\"scatter3d\",\"line\":{\"colorbar\":{\"outlinewidth\":0,\"ticks\":\"\"}},\"marker\":{\"colorbar\":{\"outlinewidth\":0,\"ticks\":\"\"}}}],\"scattermapbox\":[{\"type\":\"scattermapbox\",\"marker\":{\"colorbar\":{\"outlinewidth\":0,\"ticks\":\"\"}}}],\"scatterternary\":[{\"type\":\"scatterternary\",\"marker\":{\"colorbar\":{\"outlinewidth\":0,\"ticks\":\"\"}}}],\"scattercarpet\":[{\"type\":\"scattercarpet\",\"marker\":{\"colorbar\":{\"outlinewidth\":0,\"ticks\":\"\"}}}],\"carpet\":[{\"aaxis\":{\"endlinecolor\":\"#2a3f5f\",\"gridcolor\":\"white\",\"linecolor\":\"white\",\"minorgridcolor\":\"white\",\"startlinecolor\":\"#2a3f5f\"},\"baxis\":{\"endlinecolor\":\"#2a3f5f\",\"gridcolor\":\"white\",\"linecolor\":\"white\",\"minorgridcolor\":\"white\",\"startlinecolor\":\"#2a3f5f\"},\"type\":\"carpet\"}],\"table\":[{\"cells\":{\"fill\":{\"color\":\"#EBF0F8\"},\"line\":{\"color\":\"white\"}},\"header\":{\"fill\":{\"color\":\"#C8D4E3\"},\"line\":{\"color\":\"white\"}},\"type\":\"table\"}],\"barpolar\":[{\"marker\":{\"line\":{\"color\":\"#E5ECF6\",\"width\":0.5},\"pattern\":{\"fillmode\":\"overlay\",\"size\":10,\"solidity\":0.2}},\"type\":\"barpolar\"}],\"pie\":[{\"automargin\":true,\"type\":\"pie\"}]},\"layout\":{\"autotypenumbers\":\"strict\",\"colorway\":[\"#636efa\",\"#EF553B\",\"#00cc96\",\"#ab63fa\",\"#FFA15A\",\"#19d3f3\",\"#FF6692\",\"#B6E880\",\"#FF97FF\",\"#FECB52\"],\"font\":{\"color\":\"#2a3f5f\"},\"hovermode\":\"closest\",\"hoverlabel\":{\"align\":\"left\"},\"paper_bgcolor\":\"white\",\"plot_bgcolor\":\"#E5ECF6\",\"polar\":{\"bgcolor\":\"#E5ECF6\",\"angularaxis\":{\"gridcolor\":\"white\",\"linecolor\":\"white\",\"ticks\":\"\"},\"radialaxis\":{\"gridcolor\":\"white\",\"linecolor\":\"white\",\"ticks\":\"\"}},\"ternary\":{\"bgcolor\":\"#E5ECF6\",\"aaxis\":{\"gridcolor\":\"white\",\"linecolor\":\"white\",\"ticks\":\"\"},\"baxis\":{\"gridcolor\":\"white\",\"linecolor\":\"white\",\"ticks\":\"\"},\"caxis\":{\"gridcolor\":\"white\",\"linecolor\":\"white\",\"ticks\":\"\"}},\"coloraxis\":{\"colorbar\":{\"outlinewidth\":0,\"ticks\":\"\"}},\"colorscale\":{\"sequential\":[[0.0,\"#0d0887\"],[0.1111111111111111,\"#46039f\"],[0.2222222222222222,\"#7201a8\"],[0.3333333333333333,\"#9c179e\"],[0.4444444444444444,\"#bd3786\"],[0.5555555555555556,\"#d8576b\"],[0.6666666666666666,\"#ed7953\"],[0.7777777777777778,\"#fb9f3a\"],[0.8888888888888888,\"#fdca26\"],[1.0,\"#f0f921\"]],\"sequentialminus\":[[0.0,\"#0d0887\"],[0.1111111111111111,\"#46039f\"],[0.2222222222222222,\"#7201a8\"],[0.3333333333333333,\"#9c179e\"],[0.4444444444444444,\"#bd3786\"],[0.5555555555555556,\"#d8576b\"],[0.6666666666666666,\"#ed7953\"],[0.7777777777777778,\"#fb9f3a\"],[0.8888888888888888,\"#fdca26\"],[1.0,\"#f0f921\"]],\"diverging\":[[0,\"#8e0152\"],[0.1,\"#c51b7d\"],[0.2,\"#de77ae\"],[0.3,\"#f1b6da\"],[0.4,\"#fde0ef\"],[0.5,\"#f7f7f7\"],[0.6,\"#e6f5d0\"],[0.7,\"#b8e186\"],[0.8,\"#7fbc41\"],[0.9,\"#4d9221\"],[1,\"#276419\"]]},\"xaxis\":{\"gridcolor\":\"white\",\"linecolor\":\"white\",\"ticks\":\"\",\"title\":{\"standoff\":15},\"zerolinecolor\":\"white\",\"automargin\":true,\"zerolinewidth\":2},\"yaxis\":{\"gridcolor\":\"white\",\"linecolor\":\"white\",\"ticks\":\"\",\"title\":{\"standoff\":15},\"zerolinecolor\":\"white\",\"automargin\":true,\"zerolinewidth\":2},\"scene\":{\"xaxis\":{\"backgroundcolor\":\"#E5ECF6\",\"gridcolor\":\"white\",\"linecolor\":\"white\",\"showbackground\":true,\"ticks\":\"\",\"zerolinecolor\":\"white\",\"gridwidth\":2},\"yaxis\":{\"backgroundcolor\":\"#E5ECF6\",\"gridcolor\":\"white\",\"linecolor\":\"white\",\"showbackground\":true,\"ticks\":\"\",\"zerolinecolor\":\"white\",\"gridwidth\":2},\"zaxis\":{\"backgroundcolor\":\"#E5ECF6\",\"gridcolor\":\"white\",\"linecolor\":\"white\",\"showbackground\":true,\"ticks\":\"\",\"zerolinecolor\":\"white\",\"gridwidth\":2}},\"shapedefaults\":{\"line\":{\"color\":\"#2a3f5f\"}},\"annotationdefaults\":{\"arrowcolor\":\"#2a3f5f\",\"arrowhead\":0,\"arrowwidth\":1},\"geo\":{\"bgcolor\":\"white\",\"landcolor\":\"#E5ECF6\",\"subunitcolor\":\"white\",\"showland\":true,\"showlakes\":true,\"lakecolor\":\"white\"},\"title\":{\"x\":0.05},\"mapbox\":{\"style\":\"light\"}}},\"scene\":{\"domain\":{\"x\":[0.0,1.0],\"y\":[0.0,1.0]},\"xaxis\":{\"title\":{\"text\":\"Total day minutes\"}},\"yaxis\":{\"title\":{\"text\":\"Total eve minutes\"}},\"zaxis\":{\"title\":{\"text\":\"Total night minutes\"}}},\"coloraxis\":{\"colorbar\":{\"title\":{\"text\":\"Cluster\"}},\"colorscale\":[[0.0,\"#0d0887\"],[0.1111111111111111,\"#46039f\"],[0.2222222222222222,\"#7201a8\"],[0.3333333333333333,\"#9c179e\"],[0.4444444444444444,\"#bd3786\"],[0.5555555555555556,\"#d8576b\"],[0.6666666666666666,\"#ed7953\"],[0.7777777777777778,\"#fb9f3a\"],[0.8888888888888888,\"#fdca26\"],[1.0,\"#f0f921\"]]},\"legend\":{\"title\":{\"text\":\"Churn\"},\"tracegroupgap\":0},\"margin\":{\"t\":60}},                        {\"responsive\": true}                    ).then(function(){\n",
              "                            \n",
              "var gd = document.getElementById('baf1711c-c1c9-4f92-ae3b-5b0fd3d36def');\n",
              "var x = new MutationObserver(function (mutations, observer) {{\n",
              "        var display = window.getComputedStyle(gd).display;\n",
              "        if (!display || display === 'none') {{\n",
              "            console.log([gd, 'removed!']);\n",
              "            Plotly.purge(gd);\n",
              "            observer.disconnect();\n",
              "        }}\n",
              "}});\n",
              "\n",
              "// Listen for the removal of the full notebook cells\n",
              "var notebookContainer = gd.closest('#notebook-container');\n",
              "if (notebookContainer) {{\n",
              "    x.observe(notebookContainer, {childList: true});\n",
              "}}\n",
              "\n",
              "// Listen for the clearing of the current output cell\n",
              "var outputEl = gd.closest('.output');\n",
              "if (outputEl) {{\n",
              "    x.observe(outputEl, {childList: true});\n",
              "}}\n",
              "\n",
              "                        })                };                            </script>        </div>\n",
              "</body>\n",
              "</html>"
            ]
          },
          "metadata": {}
        }
      ]
    },
    {
      "cell_type": "code",
      "source": [
        "import plotly.express as px\n",
        "\n",
        "fig = px.scatter_3d(df_telecom, x='Total day minutes', y='Total eve minutes', z='Total night minutes', color='Cluster')\n",
        "fig.show()\n"
      ],
      "metadata": {
        "id": "kCAKwRDW8Dmo",
        "colab": {
          "base_uri": "https://localhost:8080/",
          "height": 542
        },
        "outputId": "e3fd6fa1-4f80-46a7-cc30-64a6326e8434"
      },
      "execution_count": 71,
      "outputs": [
        {
          "output_type": "display_data",
          "data": {
            "text/html": [
              "<html>\n",
              "<head><meta charset=\"utf-8\" /></head>\n",
              "<body>\n",
              "    <div>            <script src=\"https://cdnjs.cloudflare.com/ajax/libs/mathjax/2.7.5/MathJax.js?config=TeX-AMS-MML_SVG\"></script><script type=\"text/javascript\">if (window.MathJax && window.MathJax.Hub && window.MathJax.Hub.Config) {window.MathJax.Hub.Config({SVG: {font: \"STIX-Web\"}});}</script>                <script type=\"text/javascript\">window.PlotlyConfig = {MathJaxConfig: 'local'};</script>\n",
              "        <script src=\"https://cdn.plot.ly/plotly-2.18.2.min.js\"></script>                <div id=\"3a776cf1-3d46-45d9-967b-963b4e558ca5\" class=\"plotly-graph-div\" style=\"height:525px; width:100%;\"></div>            <script type=\"text/javascript\">                                    window.PLOTLYENV=window.PLOTLYENV || {};                                    if (document.getElementById(\"3a776cf1-3d46-45d9-967b-963b4e558ca5\")) {                    Plotly.newPlot(                        \"3a776cf1-3d46-45d9-967b-963b4e558ca5\",                        [{\"hovertemplate\":\"Total day minutes=%{x}<br>Total eve minutes=%{y}<br>Total night minutes=%{z}<br>Cluster=%{marker.color}<extra></extra>\",\"legendgroup\":\"\",\"marker\":{\"color\":[1,1,0,0,0,0,1,0,1,0,0,0,0,1,0,1,0,0,0,0,0,0,1,0,0,0,0,0,0,1,1,0,1,0,0,1,0,0,0,1,0,1,0,0,0,0,0,0,1,0,0,1,1,0,1,0,0,0,0,0,1,0,0,0,0,0,0,0,0,1,1,0,0,0,1,0,0,0,0,0,0,0,0,1,0,0,0,1,0,0,0,0,0,1,0,0,1,0,1,0,0,0,0,0,1,0,1,0,0,0,0,0,1,0,1,1,0,1,1,0,0,0,0,1,0,0,0,0,0,1,1,0,0,1,0,0,1,1,0,1,0,0,0,0,0,0,1,0,1,0,0,0,0,0,0,0,0,0,0,1,1,0,1,0,1,0,0,0,0,1,0,0,0,0,1,1,0,0,0,0,0,0,0,1,0,0,0,1,1,0,1,0,0,0,1,0,0,0,0,0,0,0,0,1,0,1,0,0,0,0,0,0,1,0,0,1,1,0,0,0,0,1,0,1,0,1,0,1,1,0,0,0,0,0,0,1,0,0,0,0,0,0,0,0,0,0,0,0,1,0,0,0,0,1,1,1,1,0,1,0,0,0,1,1,0,0,0,0,0,0,0,1,0,0,0,0,0,1,1,1,0,1,0,1,0,0,1,0,0,0,1,1,1,0,1,0,0,0,0,0,0,0,0,0,0,0,0,0,0,0,0,0,1,0,0,0,0,0,0,0,0,0,1,0,0,1,0,0,0,0,0,0,0,0,0,0,0,0,0,1,0,1,0,0,1,0,1,0,0,0,0,0,1,1,0,0,0,1,0,1,0,0,0,0,0,1,0,0,0,1,0,0,0,1,0,1,0,1,0,0,0,1,0,0,1,0,0,0,0,0,0,1,0,0,0,0,0,0,1,0,0,1,0,1,0,0,1,1,1,1,0,0,1,1,1,0,0,0,0,0,1,0,0,0,0,0,1,0,1,1,0,1,1,0,1,1,1,1,1,0,0,0,0,1,0,1,0,0,1,1,0,1,0,0,0,1,0,1,0,1,1,0,0,1,1,0,1,0,0,0,0,0,0,0,0,1,0,1,0,0,1,0,0,0,0,0,0,0,0,0,1,1,0,0,0,0,0,0,1,0,0,0,0,0,1,1,0,1,1,1,0,0,0,0,1,1,0,1,0,0,0,1,1,0,0,0,0,0,0,1,0,0,1,0,0,0,0,0,0,1,1,0,0,0,0,0,0,0,0,0,0,1,0,0,0,1,0,0,0,0,1,1,0,0,0,1,0,0,1,0,0,0,0,0,1,1,0,0,0,0,0,1,0,1,0,0,1,0,0,0,1,1,1,0,0,0,0,1,0,0,0,1,0,0,1,0,0,0,0,0,0,1,1,1,0,0,0,0,0,0,0,0,1,0,0,0,1,1,1,1,0,0,0,0,0,0,1,1,1,0,0,0,0,0,0,0,1,0,0,1,0,0,0,0,0,0,0,0,0,1,1,1,1,0,0,0,0,1,0,0,0,0,0,0,0,0,1,0,0,0,0,0,0,1,0,0,0,0,1,0,0,1,0,0,0,0,0,0,0,0,1,1,0,0,0,0,1,0,0,0,1,0,1,0,0,0,0,0,1,0,1,1,0,0,1,0,0,0,0,0,0,0,0,0,0,0,1,1,0,0,0,0,0,0,1,0,0,0,0,0,1,0,0,0,0,0,0,0,1,0,0,0,1,1,0,0,1,0,0,0,0,1,0,1,0,0,1,1,0,0,0,1,1,0,0,1,1,0,1,0,0,0,0,0,0,1,1,0,0,1,0,0,0,0,0,0,0,0,1,0,0,0,1,0,0,1,0,0,0,1,0,0,0,0,1,1,0,0,0,0,0,1,0,0,0,0,1,0,0,0,1,0,1,1,1,0,0,0,0,1,0,0,0,0,1,0,0,0,0,1,0,0,0,0,0,0,1,0,0,1,0,0,0,1,0,0,0,0,0,1,0,0,0,0,1,0,1,1,0,1,1,0,0,1,1,1,0,0,1,0,0,0,1,0,1,0,0,1,0,0,0,0,1,0,0,1,1,1,0,0,0,0,0,1,1,0,0,1,1,0,1,0,1,0,0,1,1,1,0,0,0,0,0,0,0,1,1,1,1,1,0,0,0,0,0,0,0,0,1,0,0,0,0,0,1,1,0,0,0,0,0,0,1,1,0,0,1,0,0,0,0,0,0,0,1,0,0,0,1,0,1,0,0,1,0,1,0,0,0,1,1,0,0,0,0,0,0,0,1,1,0,0,0,0,1,0,0,0,1,1,0,0,0,0,0,0,0,0,0,0,0,0,0,0,0,1,0,0,1,0,0,0,0,1,0,0,1,0,1,0,0,0,0,0,0,1,0,0,0,0,0,1,0,0,1,0,0,1,0,0,0,0,0,1,0,0,0,0,0,0,0,1,1,0,1,1,0,1,1,0,0,1,0,0,0,0,1,0,0,1,0,1,0,0,0,0,1,0,1,0,0,1,0,0,0,1,0,0,1,1,1,0,0,0,1,1,1,1,1,1,0,0,0,1,0,0,0,0,0,0,0,0,1,0,1,1,0,1,0,0,0,0,0,0,0,0,0,0,1,1,1,1,0,0,0,0,0,0,1,0,1,0,0,0,0,0,1,0,0,0,0,0,1,0,1,0,0,0,0,1,0,0,0,0,1,0,0,1,0,0,0,0,0,0,1,0,0,0,0,1,0,0,0,0,1,0,0,0,0,1,0,0,0,1,0,0,1,0,0,0,0,0,0,0,1,1,1,0,0,1,0,1,0,1,1,0,0,0,1,1,1,0,0,0,1,1,1,0,1,0,0,0,0,0,0,1,1,0,1,0,1,1,0,1,0,0,1,0,0,0,0,0,0,0,1,1,0,0,0,1,0,0,0,0,0,0,0,0,1,0,0,0,0,0,0,0,0,0,1,0,1,1,0,1,0,0,1,0,1,0,1,1,0,0,1,1,0,0,0,0,0,0,0,0,0,1,0,0,0,0,1,1,0,0,0,0,0,0,0,1,0,0,1,0,0,1,0,0,0,1,0,0,0,0,0,0,0,1,1,0,0,1,0,0,0,0,1,1,0,0,0,0,1,0,0,0,0,0,0,1,1,0,0,1,0,1,0,1,0,0,1,0,0,0,0,1,0,1,0,1,0,1,0,1,1,1,0,0,0,0,1,0,1,0,0,0,1,0,0,0,0,0,0,0,0,0,0,0,0,0,0,1,1,0,0,0,1,0,1,0,0,1,1,0,1,0,1,0,1,0,1,1,0,0,0,1,0,0,0,0,0,0,0,0,1,0,0,0,0,1,0,0,0,0,0,0,0,0,0,0,0,0,0,1,1,0,0,1,0,0,0,0,0,0,1,0,0,1,1,0,1,1,1,0,0,0,0,1,0,0,0,0,0,0,0,0,0,0,0,0,0,0,0,1,0,1,1,0,0,0,0,0,1,0,0,0,0,0,0,0,0,1,0,0,1,0,0,0,0,0,0,0,1,0,1,0,1,0,0,0,0,0,0,0,1,0,0,0,0,0,0,0,0,1,0,0,0,0,0,0,0,0,0,0,1,0,1,0,0,0,0,0,0,0,1,1,0,1,0,0,0,0,0,0,1,0,0,0,0,0,0,1,1,1,1,0,1,0,0,0,1,1,0,0,0,0,0,1,0,1,1,0,0,0,0,1,0,0,0,0,0,0,0,0,1,0,0,0,0,0,0,1,0,1,0,0,0,0,0,1,0,0,0,1,0,0,0,1,0,0,0,0,0,1,0,0,1,1,0,0,0,0,0,0,0,0,0,0,0,0,0,1,1,0,1,0,1,0,0,0,0,0,0,0,1,0,0,0,0,0,0,1,0,0,1,0,0,0,0,0,0,0,0,1,0,0,0,0,0,0,0,0,0,0,0,0,0,0,0,0,1,0,1,1,0,1,0,0,0,1,0,1,1,0,0,0,0,0,0,0,0,0,0,0,0,0,1,1,0,0,0,0,1,0,1,0,0,1,0,0,0,0,0,0,1,0,1,0,1,0,0,0,0,1,0,0,0,0,0,0,0,0,0,1,0,0,1,0,1,1,1,1,0,1,1,1,1,0,0,0,1,0,0,0,0,0,1,1,0,0,0,0,1,0,0,0,0,1,0,0,0,0,0,1,0,0,0,1,0,0,0,1,0,0,1,0,0,0,0,1,0,1,0,0,0,0,0,0,0,0,0,1,0,0,0,1,0,0,0,0,0,0,0,0,0,0,0,0,0,0,1,0,0,0,0,1,1,1,0,0,0,0,0,0,0,0,0,0,1,0,0,0,1,0,1,0,0,0,1,0,0,1,0,1,0,0,0,0,0,1,1,0,0,1,0,1,0,0,0,0,0,0,0,0,0,0,0,0,1,1,0,0,0,1,1,1,0,0,0,1,0,1,0,0,1,0,0,0,0,0,0,1,0,1,0,0,0,1,0,1,0,0,0,1,1,0,0,1,1,0,0,0,1,1,0,0,0,0,0,0,0,1,0,0,1,0,0,0,0,0,0,1,0,0,1,0,0,0,1,0,0,0,0,0,0,0,0,0,0,0,0,0,0,0,1,0,0,1,0,0,0,1,0,0,0,0,0,0,0,0,0,1,0,0,0,0,0,0,1,0,0,0,0,0,1,0,0,0,0,0,0,0,0,0,1,1,0,0,0,0,0,0,1,0,1,0,0,0,1,1,0,0,0,0,0,0,1,1,1,1,0,0,0,0,1,0,1,1,0,0,0,1,1,1,1,0,0,0,1,0,0,0,0,1,0,0,0,0,0,0,0,0,0,1,0,0,1,1,0,0,0,0,0,0,0,0,0,0,1,0,0,0,0,0,1,1,0,0,0,0,0,0,1,0,0,0,1,0,0,0,0,0,0,1,0,0,0,1,1,1,1,0,0,0,1,0,0,0,0,0,1,0,0,0,1,1,1,0,0,0,0,1,0,1,0,0,0,0,0,1,0,0,0,0,0,1,1,0,0,1,0,1,0,1,1,1,0,0,0,0,0,1,0,1,0,0,1,1,0,0,1,0,0,0,0,0,0,0,0,0,0,0,0,0,1,0,0,0,0,1,0,0,0,1,0,0,0,0,0,1,0,0,0,0,0,1,0,1,1,0,0,0,1,0,0,0,0,0,1,0,0,0,1,1,1,0,1,0,0,1,0,0,0,1,0,0,1,0,1,0,0,0,0,1,0,0,0,1,1,0,0,0,0,0,1,1,1,0,0,1,0,0,0,0,0,0,0,0,0,0,0,0,0,1,0,0,0,0,0,0,0,0,0,1,0,1,0,1,0,0,0,0,0,0,0,1,0,0,1,0,0,0,0,1,0,1,0,0,0,0,0,0,0,0,0,0,1,0,0,1,0,1,1,0,0,0,0,0,0,0,0,1,0,0,0,0,1,0,0,0,1,1,1,0,1,1,1,0,1,0,0,0,1,0,0,0,1,0,0,0,0,0,0,0,0,0,0,0,0,0,0,0,0,1,0,0,1,1,1,0,1,1,0,1,0,1,0,1,0,1,0,0,0,0,0,0,0,0,0,1,1,0,0,0,0,1,1,0,0,0,0,1,0,1,1,0,1,0,1,1,0,0,0,0,1,0,1,0,0,1,1,0,0,1,1,0,0,0,0,0,0,0,1,0,0,0,0,0,0,0,0,0,1,0,0,0,0,1,0,1,0,0,0,0,0,0,0,0,1,1,0,0,0,0,0,0,0,0,0,0,0,1,1,0,0,1,0,1,0,0,0,1,0,0,1,0,0,1,1,1,1,1,1,1,0,0,0,1,1,0,0,1,0,0,1,0,0,1,0,0,0,0,0,0,1,0,0,0,0,0,0,0,0,1,0,0,0,0,0,0,0,1,0,1,0,0,1,1,1,0,0,1,0,0,0,0,1,0,0,1,0,0,1,0,0,0,0,0,0,0,0,1,1,0,0,0,0,0,0,0,0,0,1,0,0,1,0,0,0,0,0,1,0,0,0,0,1,0,0,1,0,0,0,0,0,1,1,0,0,0,0,0,0,0,0,0,1,0,0,0,0,0,0,0,0,0,1,0,0,0,1,1,1,0,0,0,1,0,1,0,0,1,0,1,1,0,0,0,0,1,0,0,0,0,0,0,1,0,0,0,0,1,0,0,0,1,0,0,0,0,1,0,0,1,0,0,1,1,1,0,0,0,0,1,0,1,0,0,0,1,0,0,1,0,1,0,1,0,0,1,0,0,1,0,0,0,1,0,0,1,1,0,1,0,0,0,1,1,0,0,0,1,0,1,1,0,0,0,0,0,0,0,1,0,1,0,0,0,1,0,0,1,0,1,1,0,0,1,1,1,0,0,1,1,1,0,0,0,1,0,0,0,0,1,1,0,1,0,1,0,1,0,0,1,0,0,0,0,0,0,1,0,1,0,1,1,0,1,0,0,0,1,0,1,0,0,0,0,0,0,0,0,0,0,0,0,0,1,0,0,1,0,0,0,0,0,0,0,1,0,0,0,0,0,0,0,1,0,1,0,0,0,0,0,0,0,0,0,1,0,1,1,1,0,0,1,0,1,0,0,0,0,0,1,0,0,0,0,1,1,0,0,0,0,0,0,0,0,0,0,1,0,1,0,0,0,0,0,0,0,0,0,0,0,0,1,0,1,0,0,1,0,0,0,1,1,0,1,0,1,0,0,1,0,0,0,0,0,0,0,0,1,0,0,1,0,1,0,0,0,1,1,0,0,0,0,1,0,0,0,0,0,0,1,1,0,1,0,1,0,1,0,1,0,0,0,0,0,0,0,1,0,0,1,0,0,0,1,0,0,0,0,0,0,1,1,0,1,0,1,1,0,1,0,1,1,0,0,1,0,1,0,1,0,0,0,0,0,1,0,0,0,0,1,0,1,0,1,0,1,1,1,0,0,0,0,0,0,0,0,0,1,1,0,0,0,0,0,0,0,1,0,0,0,1,1,0,0,0,0,1,0,0,0,1,0,0,0,0,1,0,1,1,0,0,0,0,0,0,0,0,1,0,1,1,0,0,0,0,0,1,0,0,1,0,1,0,1,0,0,1,1,0,0,0,0,1,0,0,0,0,1,0,0,1,0,0,0,0,0,0,0,0,0,0,1,1,1,0,1,0,0,0,0,0,0,0,0,0,0,0,0,1,1,0,0,0,0,0,0,1,0,0,0,0,1,1,0,0,1,1,1,0,0,0,0,0,1,0,0,0,0,0,0,0,0,0,0,1,0,1,1,1,0,1,0,0,0,0,0,0,0,0,1,0,0,0,0,0,1,0,1,0,0,0,0,0,0,1,0,1,0,0,1,1,0,0,0,0,0,0,0,0,0,0,0,1,0,0,0,0,0,0,1,0,0,1,0,0,0,0,0,1,0,0,0,1,0,1,0,1,0,1,0,0,0,0,0,0,0,1,0,0,1,0,1,0,1,0,0,1,0,0,1,0,0,0,0,1,1,0,0,0],\"coloraxis\":\"coloraxis\",\"symbol\":\"circle\"},\"mode\":\"markers\",\"name\":\"\",\"scene\":\"scene\",\"showlegend\":false,\"x\":[1.5796695875462738,-0.32991808608894013,1.1793019303686492,2.212508787601228,-0.2358224615909732,0.8102994813570136,0.7143588446139881,-0.4147886493616162,1.4597437916174922,0.15163010987124403,-0.9350821024680219,-0.422168698341849,-1.0845280943177344,0.3121461751913058,0.20698047722298935,0.18853035477240757,0.8287496038075954,-0.44984388201772163,-2.1601702331866517,0.0649145343535099,-1.8151529433607727,-1.0181076534956401,0.6184182078709631,-0.8336064289898222,0.1940653915075823,-1.7468874902936202,0.8601148119735842,0.5999680854203813,1.2936926895622558,-0.04947622484009687,0.7475690650250355,-0.8981818575668584,0.4505220935706691,-0.7210606820412735,-0.9812074085944766,-0.11774167790724975,-1.0088825922703493,-1.7284373678430385,-0.4701390167133615,-1.080838069827618,0.138715024155837,-0.8539015636854626,0.22912062416368778,0.7586391384953844,-0.3557482575197547,-0.5254893840651068,-0.0734613840258534,-0.9701373351241275,0.3490464200924693,0.9191552038154461,0.23281064865380394,1.64424501612331,0.02247925271717162,-0.8908018085866262,-0.578994739171794,1.3287479222183614,-1.0015025432901166,0.5925880364401485,-0.010730967693875257,1.1497817344477184,0.8379746650328863,1.275242567111674,0.44129703234537815,-0.4129436371165581,2.229113897806752,-2.1749303311471175,-0.17124703301393698,0.3988617507090399,0.6626985017523594,-0.256117596286613,1.2918476773171979,0.5741379139895667,-0.3981835391560925,0.6424033670567196,-0.46829400446830344,1.0778262568904493,-0.6564852534642373,-1.0181076534956401,1.3545780936491758,-0.007040943203759113,1.8250562161390105,0.34535639560235265,0.6018130976654393,-0.33729813506917294,-0.5125742983496998,-0.16571199627876226,1.0815162813805654,-1.1361884371793634,0.9283802650407371,-0.267187669756962,0.10181477925467344,-0.3409881595592891,-0.9738273596142438,0.3195262241715386,-0.3114679636383584,1.9007017181863963,-1.213678951471807,0.5667578650093339,0.6331783058314288,0.20698047722298935,-0.15833194729852942,-0.4664489922232454,0.40439678744421464,-2.007034216846823,0.14794008538112788,-1.619581645384606,0.640558354811661,-0.6269650575433066,0.950520411981435,0.3841016527485748,0.3232162486616547,-0.9147869677723821,-0.06792634729067865,0.4357619956102034,0.06860455884362605,0.4708172282663089,-0.5716146901915612,0.3841016527485748,0.2420357098790948,1.2364973099654524,-0.2284424126107404,0.9671255221869587,1.6977503712299968,1.443138681411968,0.2641758568197933,0.8582697997285261,1.4929540120285387,-0.014420992183991926,2.913613440723335,-0.4037185758912672,-0.6896954738752847,-0.7967061840886587,0.6940637099183482,0.14794008538112788,-1.486740763740417,0.4948023874520654,1.1737668936334744,0.19037536701746616,0.4154668609145636,-0.17309204525899508,1.0630661589299837,0.7328089670645699,1.349043056914001,-0.5974448616223759,-0.11036162892701694,0.9708155466770748,0.3250612609067128,-2.237660747479095,-1.1786237188157016,0.1221099139503133,1.4837289508032478,0.6424033670567196,-0.3834234411956274,-0.3483682085395219,0.9763505834122496,-0.842831490215113,-0.0476312125950388,0.5612228282741597,-0.7745660371479608,2.0298525753404686,0.3435113833572946,-0.5494745432508633,2.092582991672446,-1.7800977107046674,-0.6232750330531904,0.05199944863810287,0.7106688201238719,-0.7173706575511574,-0.494124175899118,-1.3428298086258792,0.2752459302901422,0.6350233180764868,0.6959087221634063,0.4431420445904362,-0.44799886977266357,-0.21921735138544948,0.8711848854439331,-0.0033509187136424434,-0.518109335084874,0.009564167001764587,1.3047627630326049,0.8029194323767808,0.07598460782385887,-0.24873754730638023,-0.5568545922310956,-2.1048198658349064,0.5058724609224143,0.12395492619537136,1.858266436550058,2.4449803304785585,0.3601164935628183,0.4357619956102034,-0.19707720444475105,-0.11774167790724975,0.4265369343849125,-1.9369237515346125,0.234655660898862,0.7512590895151516,-0.8188463310293571,1.3638031548744667,0.8398196772779444,0.3508914323375274,-1.276409367803785,-2.204450527068048,0.6516284282820105,-0.4074086003813834,0.5243225833729962,0.5077174731674724,-0.6601752779543539,-0.7542709024523209,-1.7487325025386782,-0.44799886977266357,-0.2690326820020201,-0.829916404499706,-0.6675553269345863,0.49295737520700683,0.85457977523841,-0.7598059391874951,-0.3594382820098709,0.5003374241872396,-0.8262263800095899,0.6442483793017777,0.2457257343692115,-0.5236443718200487,0.7272739303293957,0.24388072212415288,0.45974715479595996,0.5944330486852065,0.7770892609459662,0.3398213588671784,0.49664739969712346,0.4874223384718326,0.5187875466378215,-1.475670690270068,-0.04394118810492266,-0.12512172688748255,0.4560571303058433,-1.7302823800880964,-0.4037185758912672,0.6645435139974175,-0.14357184933806433,-0.3963385269110344,-1.6140466086494314,1.0058707793331803,1.7088204447003463,0.2752459302901422,0.880409946669224,1.2770875793567322,1.0483060609695185,0.48188730173665784,-1.5753013515032097,-1.0015025432901166,-2.197070478087815,-1.07899305758256,-1.1380334494244218,0.9763505834122496,0.8121444936020716,-0.05870128606538776,-1.0015025432901166,-0.7524258902072628,-1.7192123066177476,0.5077174731674724,-2.2265906740087464,1.1018114160762054,0.3472014078474112,0.474507252756425,0.23281064865380394,1.7180455059256372,-0.9443071636933128,-0.18231710648428595,0.4025517751991565,0.6497834160369519,-0.18969715546451876,0.26971089355496747,0.8416646895230024,0.6184182078709631,0.0815196445590336,0.7807792854360829,-2.119579963795372,-0.45906894324301256,1.4892639875384226,-0.32991808608894013,0.7586391384953844,-0.435083784057256,-1.337294771890705,0.05568947312821902,0.7494140772700936,-0.5033492371244089,0.03723935067763725,-0.24689253506132217,-0.8354514412348808,-0.5494745432508633,-0.5420944942706305,1.4320686079416196,-0.6970755228555175,-0.3170030003735326,3.1608450815611313,0.25495079559450234,-1.8686582984674598,-1.7727176617244345,0.29738607723084015,0.3232162486616547,0.7106688201238719,-0.27087769424707814,-0.00519593095870104,-0.16571199627876226,0.48373231398171596,-0.25796260853167113,0.7660191874756173,1.1553167711828924,-0.5144193105947579,-0.060546298310446355,0.30476612621107296,-0.36866334323516176,0.9357603140209694,-0.6048249106026087,-1.4295453841436137,-0.9867424453296512,-0.20445725342498386,0.4984924119421816,0.6940637099183482,0.9246902405506204,1.823211203893953,0.03723935067763725,-0.2247523881206237,-1.07899305758256,0.7678641997206753,0.7992294078866646,0.07229458333374272,1.5649094895858082,-0.6177399963180157,-0.4129436371165581,-0.9627572861438949,0.1553201343613607,-0.01257597993893333,1.4209985344712701,-0.18416211872934402,1.1110364773014962,-0.14726187382818048,-0.686005449385168,0.08520966904914976,0.5058724609224143,1.4837289508032478,0.44867708132561096,1.2789325916017908,-1.0531628861517455,-1.3760400290369263,-1.1085132535034907,1.3066077752776635,-0.021801041164224214,1.1793019303686492,-0.45168889426277975,2.015092477380003,1.1239515630169037,0.19960042824275706,1.8176761671587782,-0.45168889426277975,1.7328056038861017,-0.446153857527605,-0.8557465759305206,1.2420323467006271,-0.2598076207767292,-0.7598059391874951,1.9781922324788395,-1.1472585106497126,0.8490447385032353,1.4191535222262115,1.574134550811099,-0.363128306499987,0.20513546497793128,0.08336465680409168,1.5187841834593538,-0.8446765024601717,0.25864082008461853,-0.023646053409282813,0.8619598242186423,-0.16755700852382033,0.2752459302901422,1.1221065507718457,-1.9276986903093216,-2.036554412767754,-1.5291760453767553,-0.5716146901915612,1.4505187303922014,-0.5494745432508633,-0.5476295310058047,0.20144544048781513,0.03539433843257917,-0.4387738085473727,-0.5457845187607466,0.7900043466613738,-0.5550095799860375,0.4560571303058433,1.1700768691433583,-0.5365594575354558,-0.900026869811917,1.736495628376219,-0.4313937595671399,-0.014420992183991926,-0.03656113912468984,-0.07899642076102813,1.3269029099733032,0.6903736854282321,0.6959087221634063,0.4948023874520654,-0.3723533677252779,-0.6712453514247029,0.1313349751756042,-0.16017695954358752,-1.0236426902308147,0.3472014078474112,-0.12327671464242397,0.699598746653523,1.5944296855067384,-1.5845264127285006,-1.4996558494558243,-0.20814727791510054,0.4320719711200873,1.5114041344791205,-1.9590638984753106,1.369338191609641,-2.4812023638267746,-2.4369220699453784,0.8840999711593407,-1.0088825922703493,-2.047624486238103,-0.29486285343283464,-0.30408791465812557,0.6313332935863701,0.4025517751991565,-2.4184719474947967,-0.15279691056335523,-0.23951248608108935,-1.3225346739302395,-0.7044555718357498,1.0704462079102166,-0.9221670167526149,-1.4646006167997192,1.0630661589299837,-0.12327671464242397,2.0040224039096546,-1.8686582984674598,-0.5679246657014451,0.27893595478025834,-0.36866334323516176,0.2770909425352003,-0.09929155545666797,-0.8797317351162767,-0.6029798983575501,0.3914817017288071,-0.6251200452982485,0.9210002160605042,0.5815179629697995,0.6737685752227084,2.0944280039175047,0.7678641997206753,0.03723935067763725,-1.9406137760247288,-2.16201524543171,0.9062401181000386,2.4062350733323363,0.4136218486695055,-0.5476295310058047,0.07967463231397554,0.13317998742066225,0.5519977670488688,0.806609456866897,-0.28194776771742763,-0.5347144452903977,1.0095608038232964,-2.2911661025857826,0.7807792854360829,-0.18231710648428595,0.7272739303293957,-0.05870128606538776,0.5114074976575886,0.48373231398171596,-0.518109335084874,-0.4055635881363253,-0.37788840446045263,0.638713342566603,-1.4184753106732646,-0.3649733187450456,0.4302269588750292,-2.2505758331945027,2.87855820806723,-0.7376657922467972,0.15347512211630263,0.26233084457473466,-0.42585872283196513,1.1128814895465549,-0.13803681260288958,0.29369605274072397,2.0999630406526797,0.2180505506933388,-1.0531628861517455,-0.33360811057905626,-0.6509502167290631,0.7512590895151516,1.4154634977360954,-1.2321290739223887,2.2143537998462866,0.282625979270375,-1.4516855310843118,-1.7893227719299583,-0.6103599473377829,-0.02918109014445703,-0.4793640779386524,0.01140917924682266,1.58335961203639,-0.9387721269581386,-0.26165263302178726,0.28631600376049116,0.6331783058314288,0.48004228949159977,1.3545780936491758,0.23096563640874584,-2.036554412767754,1.5169391712142952,1.0335459630090529,0.6257982568511959,1.5556844283605173,0.07229458333374272,1.1626968201631254,-0.5254893840651068,-0.7634959636776117,0.5852079874599156,0.3250612609067128,0.47635226500148364,0.04277438741281199,1.3379729834436522,0.9542104364715511,0.3804116282584581,-0.07715140851596954,-1.0033475555351747,1.1387116609773689,0.6940637099183482,0.29369605274072397,0.7918493589064318,1.4246885589613862,-2.7413490903799778,0.14609507313606981,1.8084511059334873,-0.5955998493773178,0.11657487721513908,-1.5107259229261736,0.48926735071689065,0.688528673183174,-1.4055602249578574,-0.7395108044918552,0.21620553844828022,-0.3594382820098709,0.7789342731910243,-2.150945171961361,0.6663885262424756,-0.26165263302178726,0.4376070078552615,0.2918510404956659,-0.6601752779543539,-1.2007638657563995,-0.06608133504562057,1.0150958405584711,0.5759829262346248,0.05199944863810287,0.19960042824275706,-0.04394118810492266,0.6663885262424756,-0.7764110493930189,0.2457257343692115,-0.5568545922310956,-0.6601752779543539,1.692215334494822,0.5114074976575886,2.2309589100518097,0.9246902405506204,0.14794008538112788,-2.2579558821747354,-0.32069302486364926,-0.6361901187685974,-0.36866334323516176,0.20698047722298935,0.9431403630012022,-2.6841537107831743,0.25679580783956046,0.4154668609145636,0.22543059967357112,-0.3354531228241143,-0.5328694330453396,0.09443473027444063,0.7604841507404425,-0.4701390167133615,-1.077148045337502,0.0483094241479862,0.5612228282741597,-0.22106236363050757,0.6350233180764868,-1.1749336943255853,-0.0015059064685843712,0.14425006089101172,0.40070676295409796,0.1866853425273495,-0.4793640779386524,0.14978509762618594,0.9486753997363769,1.2069771140445218,0.9486753997363769,0.14056003640089507,-0.1620219717886461,0.18484033028229144,-0.0476312125950388,-0.339143147314231,1.3822532773250487,-0.9553772371636621,-0.16571199627876226,1.7346506161311603,-0.3243830493537654,-2.152790184206419,0.8988600691198058,0.5593778160291016,1.5888946487715647,0.6534734405270686,-1.2727193433136685,1.6977503712299968,-1.2302840616773305,0.14425006089101172,0.3232162486616547,0.016944215981997402,0.3250612609067128,-0.47567405344853625,1.509559122234063,1.2309622732302776,0.2125155139581641,0.531702632353229,1.356423105894234,0.42100189764973833,-0.09375651872149324,-0.9664473106340112,-0.6638653024444701,0.1368700119107789,1.0206308772936459,-1.0291777269659892,-0.10298157994678411,2.4929506488500714,0.8933250323846316,-1.5494711800723953,-0.6122049595828409,0.08336465680409168,-1.359434918831403,-0.02733607789939896,-0.5550095799860375,0.5519977670488688,-0.13619180035783152,-0.18785214321946017,0.27155590580002553,0.35642646907270215,-0.21737233914039142,0.4191568854046797,-1.901868518878507,-1.9701339719456596,0.5704478894994506,-0.964602298388953,0.41177683642444746,0.7383440037997446,-1.4793607147601846,1.1018114160762054,-1.080838069827618,0.8342846405427696,-0.05316624933021354,0.020634240472113548,1.0722912201552746,0.3490464200924693,1.749410714091626,0.7051337833886971,-0.8262263800095899,1.417308509981154,-0.060546298310446355,0.4708172282663089,1.6313299304079019,-0.00519593095870104,-0.5550095799860375,0.5187875466378215,-0.2598076207767292,0.5593778160291016,0.7494140772700936,-0.7044555718357498,0.31399118743636384,-1.3741950167918684,1.6959053589849382,0.5021824364322977,-0.2339774493459146,0.46897221602125083,-0.45906894324301256,-0.9682923228790693,1.622104869182611,1.8730265345105237,-0.15279691056335523,-1.0217976779857565,-0.3077779391482417,-0.6122049595828409,1.3896333263052814,1.3914783385503395,-1.3243796861752974,-0.38157842895056876,0.06306952210845183,0.3508914323375274,-1.2653392943334358,-0.23213243710085651,-1.0826830820726765,-0.26165263302178726,-0.9738273596142438,0.6719235629776503,-0.7265957187764482,-0.7321307555116224,2.622101506004144,-0.23766747383603126,0.640558354811661,1.4855739630483065,0.22912062416368778,-1.1324984126892472,0.19775541599769847,-1.7948578086651328,-0.2893278166976599,1.6294849181628444,-0.363128306499987,0.6424033670567196,1.989262305949189,-1.444305482104079,-1.4147852861831482,-1.2985495147444832,0.6719235629776503,0.44129703234537815,-1.2800993922939015,-1.2634942820883777,1.1147265017916128,-1.757957563763969,0.5464627303136941,-0.911096943282266,-0.06792634729067865,1.1516267466927763,-0.7893261351084264,0.38594666499363284,-0.9904324698197675,-0.9461521759383714,0.8638048364637009,-0.3170030003735326,-1.0882181188078508,-1.6306517188549552,-0.19707720444475105,0.8619598242186423,0.22912062416368778,-0.21368231465027476,0.009564167001764587,1.4376036446767932,-0.3649733187450456,1.0649111711750419,-1.411095261693032,0.47266224051136696,-0.5439395065156886,0.9763505834122496,-0.2598076207767292,0.3638065180529344,0.7032887711436391,-0.4701390167133615,0.2641758568197933,-0.07530639627091146,0.9357603140209694,-0.08453145749620235,0.19775541599769847,-0.056856273820329685,0.9080851303450967,-0.6546402412191792,-0.8040862330688915,-0.9037168943020332,-0.8354514412348808,1.8176761671587782,-1.3668149678116355,-1.2487341841279123,-0.37604339221539457,0.6073481344006141,-0.686005449385168,3.0870445917588043,-1.2099889269816904,1.6313299304079019,-0.14910688607323855,1.7697058487872652,0.32690627315177084,-1.619581645384606,-0.9812074085944766,1.3287479222183614,0.20513546497793128,-1.1693986575904107,-0.0015059064685843712,0.5206325588828795,1.8047610814433712,-0.9996575310450584,-0.7634959636776117,0.4025517751991565,0.20144544048781513,-0.6675553269345863,-1.5144159474162897,0.03539433843257917,-0.6657103146895281,-1.3760400290369263,-1.193383816776167,0.9781955956573076,-0.662020290199412,-0.05132123708515547,1.548304379380284,-0.6361901187685974,-0.23213243710085651,-0.6823154248950519,-0.8575915881755787,-1.5586962412976861,0.27155590580002553,0.7992294078866646,0.6737685752227084,-0.6122049595828409,1.0206308772936459,0.35273644458258546,-0.6804704126499939,-0.8354514412348808,-1.246889171882854,-1.0457828371715128,0.18115030579217528,1.1239515630169037,-1.5863714249735588,-0.38526845344068544,0.7641741752305592,-0.6472601922389464,0.605503122155556,-0.5992898738674339,-1.5365560943569878,1.548304379380284,-3.0808313434706824,-0.3170030003735326,0.07598460782385887,-1.0420928126813964,0.5261675956180543,1.1018114160762054,0.24941575885932762,-1.1583285841200615,-1.5808363882383842,-0.46829400446830344,1.10734645281138,0.6737685752227084,0.14609507313606981,-0.22290737587556564,-0.35205823302963807,-0.6694003391796448,0.7309639548195118,0.9837306323924824,-0.3225380371087073,0.5612228282741597,0.22174057518345497,2.0593727712614,1.4099284610009213,1.3508880691590592,-0.8741966983811024,0.6922186976732901,-1.4313903963886718,0.5907430241950904,-0.48120909018371044,-0.24320251057120548,0.1055048037447896,-1.381575065772101,1.7512557263366835,1.8527313998148833,0.14240504864595313,1.7844659467477308,0.38594666499363284,-0.3170030003735326,-0.0476312125950388,-0.25796260853167113,0.40439678744421464,0.2032904527328732,1.0409260119892858,-0.6435701677488302,-1.4479955065941954,0.4948023874520654,-0.26534265751190395,-0.267187669756962,-0.446153857527605,0.531702632353229,0.17746028130205863,-0.8852667718514514,-0.686005449385168,-1.693382135186933,-0.09191150647643516,-1.4055602249578574,1.2383423222105105,-1.8631232617322853,-0.578994739171794,0.49295737520700683,1.3305929344634193,1.675610224289299,-0.422168698341849,-0.7395108044918552,0.7512590895151516,0.638713342566603,0.30476612621107296,-1.3483648453610537,-0.04025116361480599,1.526164232439586,0.25495079559450234,0.6959087221634063,0.5538427792939269,-1.5513161923174532,0.6479384037918938,-0.8834217596063934,-0.20445725342498386,-0.6103599473377829,0.0649145343535099,-1.2413541351476796,-0.1620219717886461,-0.1288117513775987,0.27340091804508415,0.15347512211630263,2.3545747304707083,-1.1306534004441888,-0.4701390167133615,-0.4424638330374888,-0.3981835391560925,0.44129703234537815,-1.599286510688966,0.688528673183174,0.2531057833494438,-1.2229040126970978,-0.24504752281626407,1.526164232439586,0.522477571127938,1.2162021752698127,1.9855722814590728,0.2365006731439206,0.27155590580002553,0.5815179629697995,-0.6933854983654009,0.7567941262503264,-0.6638653024444701,-0.43323877181219794,-0.3575932697648128,1.0261659140288202,0.1645451955866516,0.282625979270375,1.2604824691512089,0.7697092119657334,-1.1251183637090145,0.9652805099419006,0.6719235629776503,0.6940637099183482,0.07044957108868465,1.0575311221948094,0.2641758568197933,0.2198955629383969,1.766015824297149,-0.10113656770172605,-0.267187669756962,0.9080851303450967,-1.320689661685181,1.2936926895622558,-0.016266004429049997,-0.7468908534720881,-0.8336064289898222,-0.019956028919166143,-0.1620219717886461,0.09258971802938257,-0.33729813506917294,-1.7450424780485618,0.7088238078788138,1.6866802977596473,1.1719218813884162,-0.9812074085944766,-0.37788840446045263,0.7457240527799774,-0.32069302486364926,0.35642646907270215,1.4265335712064449,0.3195262241715386,-0.7265957187764482,0.27340091804508415,-1.141723473914538,1.1737668936334744,-0.6288100697883646,-0.19154216770957683,0.9191552038154461,0.12764495068548803,-0.3077779391482417,0.2752459302901422,-0.6361901187685974,0.8342846405427696,-0.5992898738674339,1.500334061008772,-0.4443088452825469,-0.24504752281626407,-0.9037168943020332,-0.30962295139330026,1.0630661589299837,-0.24504752281626407,-1.0660779718671527,-0.056856273820329685,-2.067919620933743,-0.0642363228005625,1.2586374569061505,-1.1823137433058177,-1.2413541351476796,-0.3114679636383584,0.9210002160605042,-0.7358207800017391,1.5556844283605173,0.701443758898581,-1.2026088780014579,0.3103011629462477,1.36011313038435,-1.5033458739459407,1.2900026650721397,-0.9203220045075569,0.771554224210792,0.44498705683549433,0.6294882813413121,0.03908436292269532,0.6626985017523594,0.3638065180529344,-1.1896937922860507,1.679300248779415,0.7881593344163151,-2.1693952944119426,0.1793052935471167,0.30476612621107296,-0.1454168615831224,-0.10113656770172605,-1.8612782494872273,-0.7044555718357498,1.0390809997442276,0.10365979149973152,1.3804082650799905,0.0649145343535099,-0.29486285343283464,0.5243225833729962,1.275242567111674,0.10919482823490627,0.33797634662212034,-0.8741966983811024,0.3250612609067128,-0.45906894324301256,-0.4867441269188852,0.5852079874599156,-0.7081455963258665,-0.5236443718200487,0.555687791538985,1.2457223711907432,2.616566469268969,1.3287479222183614,1.0593761344398676,-0.3649733187450456,-0.5771497269267359,-0.5273343963101649,-0.15833194729852942,1.3877883140602227,-3.3114578741029543,-0.8446765024601717,0.8379746650328863,-0.5107292861046412,-0.7026105595906917,1.9597421100282577,-2.2339707229889787,-1.6435668045703622,-1.2007638657563995,-0.5863747881520269,2.2733941916881477,-0.8003962085787754,0.7069787956337558,-1.0199526657406983,0.49295737520700683,-0.8594366004206367,-1.3760400290369263,1.2088221262895797,0.09258971802938257,-1.6601719147758858,1.035390975254111,0.12026490170525522,0.0003391057764737013,-1.245044159637796,-0.20445725342498386,0.6424033670567196,1.2217372120049868,-0.422168698341849,-0.6767803881598772,-1.1564835718750035,1.044616036479402,-0.7634959636776117,-2.3538965189177605,-1.8114629188706564,-0.14726187382818048,-0.9867424453296512,0.32690627315177084,0.26971089355496747,-1.1767787065706434,-0.4110986248715,1.6645401508189495,0.8840999711593407,0.17377025681194247,-3.3114578741029543,-1.2727193433136685,-0.21921735138544948,-0.8760417106261605,0.6257982568511959,-0.07530639627091146,-1.7874777596849,-0.995967506554942,0.06675954659856798,-0.32069302486364926,-0.23766747383603126,-0.8040862330688915,-0.686005449385168,-0.03471612687963177,-1.776407686214551,1.024320901783762,-1.361279931076461,-0.5550095799860375,1.5722895385660405,-0.35390324527469613,-1.5420911310921623,-0.7155256453060993,1.3176778487480123,0.389636689483749,0.5593778160291016,0.34166637111223647,-1.2302840616773305,-1.233974086167447,0.8656498487087589,1.2069771140445218,0.4376070078552615,-0.7893261351084264,-0.49596918814417607,1.7604807875619743,0.2992310894758982,0.4579021425509019,0.7900043466613738,0.7936943711514899,-0.0956015309665513,1.1626968201631254,0.7770892609459662,-1.2026088780014579,0.7420340282898608,-0.6380351310136555,1.0519960854596346,-0.10113656770172605,-1.2911694657642503,-1.8059278821354818,-0.8502115391953459,-0.7819460861281936,0.3232162486616547,0.3435113833572946,-2.5826780373049743,0.36934155478810915,-0.4184786738517323,0.07229458333374272,-0.8686616616459277,-2.1454101352261863,0.02985930169740443,-1.1435684861595963,0.723583905839279,0.5132525099026471,-0.5328694330453396,1.7309605916410442,1.5981197099968556,-1.2302840616773305,-1.379730053527043,1.36011313038435,-0.08822148198631902,-1.7062972209023402,0.461592167041018,0.867494860953817,1.0077157915782384,-0.8520565514404039,-0.840986477970055,-0.3557482575197547,0.9431403630012022,0.8840999711593407,-1.9682889597006015,0.306611138456131,0.3250612609067128,0.7401890160448027,-0.48120909018371044,0.6737685752227084,0.8010744201317227,0.19037536701746616,-0.45722393099795444,-0.7948611718436006,-0.16571199627876226,1.0519960854596346,-0.47198402895841957,1.345353032423885,0.3398213588671784,-0.49965921263429225,1.0686011956651584,1.5888946487715647,0.32875128539682946,0.36196150580787634,1.0003357425980055,0.06675954659856798,-0.7395108044918552,0.6350233180764868,0.5095624854125305,-0.04209617585986458,-0.17862708199416927,-0.11036162892701694,-0.36128329425492894,-1.1878487800409925,-1.610356584159315,1.18852699159394,-1.150948535139829,0.8084544691119555,1.5114041344791205,-2.453527180150902,-0.5457845187607466,1.1571617834279506,1.474503889577957,0.7918493589064318,-2.0310193760325794,-0.42401371058690707,-2.18231038012735,1.2125121507796959,-1.4240103474084391,0.9486753997363769,0.8840999711593407,-0.3114679636383584,0.7364989915546866,-0.7801010738831354,-1.693382135186933,1.6903703222497646,-2.348361482182586,-0.2598076207767292,0.7069787956337558,1.037235987499169,0.461592167041018,-0.911096943282266,-1.3981801759776247,1.1147265017916128,0.21436052620322216,0.7198938813491629,-0.9369271147130805,1.0538410977046928,-1.72659235559798,-0.7063005840808084,0.2752459302901422,-0.21921735138544948,1.0150958405584711,-0.4664489922232454,-0.6694003391796448,0.6811486242029412,-0.3243830493537654,-1.121428339218898,-0.007040943203759113,-0.5826847636619102,0.5483077425587521,1.1959070405741727,-0.07715140851596954,-0.5347144452903977,0.3305962976418875,-0.29486285343283464,1.0593761344398676,-1.7930127964200746,0.6737685752227084,0.009564167001764587,-0.6601752779543539,0.34535639560235265,-0.2893278166976599,0.18484033028229144,-0.44799886977266357,1.1590067956730092,1.376718240589874,-1.245044159637796,0.3490464200924693,0.7401890160448027,-0.18231710648428595,-0.35205823302963807,-1.5586962412976861,-0.3575932697648128,0.27893595478025834,1.0501510732145767,-0.4129436371165581,0.005874142511648443,-0.5771497269267359,-1.112203277993607,0.8213695548273626,-2.9516804863166097,0.0981247547645573,-0.05870128606538776,1.1479367222026597,0.8342846405427696,0.5132525099026471,0.3195262241715386,-1.2653392943334358,-1.0513178739066873,0.8748749099340498,0.138715024155837,0.46712720377619277,-0.2505825595514383,-0.3944935146659763,0.8435097017680605,-0.3705083554802198,-0.12512172688748255,0.7992294078866646,0.638713342566603,-0.8391414657249969,2.072287856976807,0.797384395641606,-0.09191150647643516,1.7254255549058695,0.8453547140131191,1.9136168039018033,-1.6564818902857694,-0.9664473106340112,-1.3575899065863446,-0.686005449385168,0.2180505506933388,0.4136218486695055,1.251257407925918,1.1571617834279506,-0.9627572861438949,-0.007040943203759113,0.3305962976418875,0.2512607711043857,-0.14357184933806433,0.3508914323375274,-1.0660779718671527,-0.9092519310372079,0.44129703234537815,1.1350216364872527,-0.6970755228555175,-0.8243813677645313,-0.30224290241306745,-0.6269650575433066,2.7733925100989145,-0.8778867228712186,0.3158361996814219,-1.4719806657799517,-0.662020290199412,-2.6140432454709637,-1.9682889597006015,-1.5623862657878025,0.7807792854360829,1.6387099793881352,-1.1804687310607598,0.41731187315962165,0.6663885262424756,-0.1767820697491112,0.40993182417938884,0.7678641997206753,0.723583905839279,-1.0919081432979674,1.826901228384069,1.0483060609695185,1.740185652866335,-0.8926468208316842,-0.22290737587556564,0.3361313343770618,-0.09191150647643516,0.3785666160134,-0.49227916365405944,-0.9147869677723821,1.640554991633193,0.16639020783170966,-0.5476295310058047,-1.1730886820805269,-0.8815767473613352,-1.4406154576139627,-0.5623896289662703,-1.525486020886639,-1.328069710665414,0.9837306323924824,-1.077148045337502,-1.0181076534956401,-0.40187356364620913,-1.0181076534956401,1.9726571957436647,-0.11958669015230781,0.7198938813491629,-2.538397743423578,1.500334061008772,0.8711848854439331,-0.0033509187136424434,-0.06977135953573724,-0.4074086003813834,-1.224749024942156,0.059379497618335164,-0.3354531228241143,-0.6823154248950519,0.2032904527328732,-0.3723533677252779,-0.47382904120347763,0.02247925271717162,0.4283819466299706,0.20882548946804794,0.47266224051136696,1.035390975254111,0.18115030579217528,-0.23213243710085651,1.2125121507796959,-0.8649716371558115,0.2365006731439206,-1.0605429351319782,0.24941575885932762,-0.38526845344068544,-0.4775190656935943,0.7770892609459662,1.203287089554405,1.1128814895465549,1.1626968201631254,-1.141723473914538,0.7143588446139881,-0.6435701677488302,-0.4775190656935943,-0.8059312453139496,0.42469192213985446,-0.5033492371244089,-0.7487358657171461,-0.9682923228790693,-0.20076722893486773,1.976347220233782,-0.2745677187371948,-0.6546402412191792,-0.6989205351005756,0.4579021425509019,-0.3003978901680094,-0.06239131055550443,1.3785632528349319,-0.08453145749620235,0.14425006089101172,0.5962780609302651,1.1516267466927763,-0.32991808608894013,0.2678658813099094,-1.287479441274134,1.7992260447081965,0.23281064865380394,0.3490464200924693,0.0981247547645573,-0.21552732689533283,-0.7432008289819719,-1.067922984112211,1.6774552365343565,1.356423105894234,0.389636689483749,-0.21921735138544948,-0.42401371058690707,0.6571634650171847,2.254944069237566,-0.5015042248793503,0.29369605274072397,0.5390826813334613,0.19591040375264038,0.06860455884362605,-2.3114612372814225,0.5261675956180543,0.937605326266028,0.2992310894758982,-0.24689253506132217,-0.8040862330688915,0.17746028130205863,-0.02918109014445703,-0.6564852534642373,-0.5771497269267359,1.9855722814590728,-0.2524275717964964,-0.6527952289741211,-0.1288117513775987,0.3748765915232839,-1.2985495147444832,-0.14172683709300574,0.7900043466613738,1.2235822242500454,-0.2745677187371948,0.5944330486852065,-0.5955998493773178,1.3877883140602227,-0.17309204525899508,0.2881610160055492,-0.5568545922310956,0.21436052620322216,0.5058724609224143,1.0981213915860892,-0.0033509187136424434,0.10734981598984819,-0.7026105595906917,-0.49781420038923413,-0.6251200452982485,-0.28194776771742763,0.7660191874756173,2.138708297798901,-0.7321307555116224,-0.3170030003735326,1.7198905181706947,0.3841016527485748,-0.8059312453139496,1.055686109949751,-1.256114233108145,-0.4313937595671399,0.21436052620322216,0.4781972772465417,0.8435097017680605,1.2992277262974306,-0.8834217596063934,1.7770858977674986,-0.6749353759148191,0.5114074976575886,0.49295737520700683,0.8527347629933514,-0.21552732689533283,0.3361313343770618,-0.17862708199416927,0.20513546497793128,-1.829913041321238,-2.036554412767754,0.1719252445668844,-0.5328694330453396,0.23096563640874584,-0.2911728289427185,0.5944330486852065,-0.0734613840258534,-0.5420944942706305,0.6645435139974175,-1.4350804208787882,1.4560537671273752,1.1608518079180672,0.19775541599769847,-0.46829400446830344,0.15716514660641875,-1.4092502494479737,-0.07530639627091146,-0.6288100697883646,-0.3317630983339982,1.487418975293365,-0.911096943282266,-1.4295453841436137,0.723583905839279,-0.9406171392031967,-0.9369271147130805,-0.13434678811277345,0.3638065180529344,0.09258971802938257,-0.20076722893486773,-0.10113656770172605,0.9394503385110861,0.34535639560235265,0.1221099139503133,-0.5716146901915612,-0.4129436371165581,-0.45168889426277975,0.16639020783170966,0.5409276935785199,0.3582714813177602,0.6147281833808469,-0.7764110493930189,0.22727561191862972,-0.5623896289662703,-1.150948535139829,-1.318844649440123,-1.2302840616773305,-0.06608133504562057,1.0538410977046928,-0.9203220045075569,-0.8520565514404039,-0.21552732689533283,1.9136168039018033,-0.7063005840808084,0.9357603140209694,1.0759812446453914,0.45236710581572714,0.7678641997206753,-0.04209617585986458,-0.2893278166976599,-0.7044555718357498,1.7162004936805786,-1.1177383147287816,-3.1657019067433585,-0.36866334323516176,-0.5402494820255724,-0.7155256453060993,-0.18969715546451876,0.7623291629855011,0.6793036119578831,-0.18416211872934402,1.417308509981154,0.004029130266589846,1.596274697751797,-1.527331033131697,-1.785632747439842,-0.20814727791510054,1.9726571957436647,-0.0956015309665513,0.20513546497793128,-0.0734613840258534,-0.8502115391953459,0.4634371792860761,1.1571617834279506,1.3582681181392922,-0.912941955527324,-1.3575899065863446,0.27155590580002553,0.31399118743636384,0.09258971802938257,1.5206291957044114,0.4228469098947964,-0.22290737587556564,-0.21737233914039142,1.1202615385267871,0.17746028130205863,-0.9553772371636621,0.474507252756425,-0.4609139554880706,-0.47567405344853625,2.7420273019329255,-0.6195850085630737,0.40070676295409796,-0.74504584122703,-1.1177383147287816,0.7032887711436391,-0.6361901187685974,0.4431420445904362,1.6663851630640079,-0.9812074085944766,-1.6860020862067004,0.7198938813491629,1.0575311221948094,-1.0217976779857565,0.08705468129420782,0.797384395641606,-0.5586996044761542,0.4984924119421816,-0.3649733187450456,0.46528219153113415,0.6221082323610793,-1.1583285841200615,1.548304379380284,-0.7247507065313902,0.3361313343770618,-1.6786220372264675,0.6608534895073014,0.44867708132561096,1.640554991633193,-0.37604339221539457,-1.2007638657563995,-0.7487358657171461,0.12026490170525522,-0.16755700852382033,-0.2764127309822529,-0.20076722893486773,1.5077141099890043,0.2032904527328732,0.02985930169740443,-0.04394118810492266,-0.35021322078457995,-0.8262263800095899,0.34535639560235265,0.9117751548352133,1.1479367222026597,-0.8926468208316842,1.0077157915782384,0.3804116282584581,-0.4701390167133615,0.8250595793174788,-0.5753047146816774,-0.0900664942313771,-0.7561159146973789,-1.3003945269895412,-0.3170030003735326,0.5778279384796834,-0.68416043714011,0.8121444936020716,0.05568947312821902,0.2604858323296766,0.23834568538897868,0.9911106813727146,-0.38157842895056876,-0.9848974330845931,2.0464576855459917,-2.1933804535976993,-0.5734597024366194,1.2364973099654524,2.1885236284154725,-1.1103582657485491,1.1626968201631254,0.7863143221712571,1.0464610487244599,-0.6509502167290631,-0.45906894324301256,-0.7764110493930189,-1.3981801759776247,-0.7911711473534845,2.0353876120756436,0.3084561507011891,0.29738607723084015,0.7881593344163151,-0.12143170239736589,-0.4609139554880706,-1.6435668045703622,-1.3538998820962285,-2.8133045679372466,1.2088221262895797,0.31768121192647997,-0.8908018085866262,-0.5513195554959214,1.1128814895465549,-0.6896954738752847,-1.1823137433058177,0.24941575885932762,0.49111236296194877,-0.35390324527469613,0.37672160376834196,0.6202632201160212,-0.021801041164224214,1.343508020178827,0.3361313343770618,-1.2616492698433197,-1.5310210576218135,-0.41663366160667425,-1.036557775946222,0.5058724609224143,1.2973827140523726,-0.6546402412191792,2.2143537998462866,0.8582697997285261,-0.7727210249029026,0.5944330486852065,-1.6564818902857694,0.33428632213200365,1.6700751875541242,0.27340091804508415,-2.4313870332102034,0.19591040375264038,-1.6601719147758858,0.05753448537327709,0.48004228949159977,0.9597454732067259,1.3250578977282452,-0.15279691056335523,0.3398213588671784,-0.8243813677645313,0.2198955629383969,-0.09191150647643516,-0.03840615136974792,0.0483094241479862,0.7918493589064318,-2.429542020965146,-1.0642329596220945,-0.6638653024444701,-0.2690326820020201,0.2604858323296766,-1.4461504943491374,-1.6085115719142569,-0.19523219219969298,0.7328089670645699,-0.025491065654340884,-0.6085149350927248,-0.13250177586771486,-0.18969715546451876,-1.027332714720931,-1.5402461188471044,-1.5882164372186167,1.4468287059020843,-1.7395074413133873,-0.3594382820098709,0.06306952210845183,0.6774585997128245,1.5169391712142952,-0.04209617585986458,-1.6601719147758858,-0.6361901187685974,-0.36866334323516176,-0.5107292861046412,-0.060546298310446355,-0.505194249369467,-0.3354531228241143,-0.14357184933806433,1.8342812773643014,0.6184182078709631,1.1700768691433583,0.6959087221634063,-0.06608133504562057,2.2826192529134386,1.096276379341031,0.1866853425273495,-0.8520565514404039,-1.6011315229340242,-0.04209617585986458,0.09258971802938257,-0.06239131055550443,0.46528219153113415,-0.662020290199412,-0.0033509187136424434,-0.7782560616380769,1.0759812446453914,0.4468320690805524,0.2180505506933388,0.5464627303136941,-1.6730870004912932,-0.7671859881677279,0.5187875466378215,1.635019954898019,-0.2358224615909732,0.04277438741281199,-0.5974448616223759,-2.6158882577160214,0.10181477925467344,-0.42585872283196513,1.103656428321264,-0.8225363555194732,0.282625979270375,-1.6029765351790823,0.5519977670488688,0.33428632213200365,-2.9867357189727155,0.42100189764973833,-0.8003962085787754,0.5077174731674724,0.5243225833729962,1.7900009834829056,2.478190550889606,2.011402452889887,-2.1140449270601973,1.1811469426137071,0.3232162486616547,1.8176761671587782,0.7457240527799774,-0.6232750330531904,-1.9129385923488562,0.3029211139660149,-1.0236426902308147,-0.13988182484794767,1.2900026650721397,0.9025500936099224,-0.20076722893486773,-1.0291777269659892,-0.014420992183991926,-1.2229040126970978,-0.68416043714011,0.4560571303058433,-0.5494745432508633,0.8785649344241659,-0.446153857527605,-0.42585872283196513,-0.5679246657014451,1.701440395720113,0.26233084457473466,1.2143571630247545,0.306611138456131,0.8398196772779444,0.18853035477240757,-0.6749353759148191,-0.07161637178079532,-1.6066665596691985,-1.599286510688966,0.7789342731910243,-0.3668183309901037,-0.37604339221539457,-2.390796763818924,-1.154638559629945,1.3822532773250487,0.5077174731674724,-0.6306550820334227,0.9449853752462603,-0.5162643228398159,-0.6158949840729576,0.38225664050351615,-0.5310244208002816,0.12026490170525522,0.616573195625905,0.282625979270375,1.7162004936805786,-0.8188463310293571,0.9412953507561441,-0.6675553269345863,1.6903703222497646,1.3656481671195249,-0.2284424126107404,-1.379730053527043,-0.8133112942941824,-0.6398801432587136,-1.4885857759854755,-0.40002855140115057,-0.30408791465812557,0.03908436292269532,-0.9313920779779058,-1.7247473433529221,0.26602086906485134,-1.2930144780093085,0.17377025681194247,0.007719154756706515,0.07229458333374272,2.0040224039096546,-0.18969715546451876,0.5206325588828795,-0.18416211872934402,-0.7007655473456337,-0.4553789187528959,-0.8483665269502878,0.8324396282977116,1.740185652866335,-1.3926451392424501,-1.1823137433058177,0.7863143221712571,-1.163863620855236,0.7051337833886971,-0.924012028997673,-0.32622806159882345,0.35642646907270215,-0.5845297759069683,1.5280092446846447,1.2346522977203944,-0.0956015309665513,0.07229458333374272,0.22912062416368778,0.15347512211630263,1.4800389263131317,0.016944215981997402,-2.3557415311628187,2.295534338628846,-1.0291777269659892,0.49295737520700683,-0.280102755472369,0.9062401181000386,0.38594666499363284,-0.46460397997818675,-1.0439378249264546,0.7623291629855011,0.6479384037918938,0.4154668609145636,0.5538427792939269,2.1848336039253553,0.6147281833808469,-0.4904341514090013,-0.9978125188000001,-0.7598059391874951,0.18115030579217528,0.365651530297993,2.1294832365736096,-0.07530639627091146,-0.0015059064685843712,-0.9719823473691858,-0.6730903636697609,-1.6158916208944896,0.5704478894994506,0.4025517751991565,-0.6251200452982485,0.4431420445904362,0.9763505834122496,-1.715522282127631,-0.43323877181219794,2.708817081521878,0.28631600376049116,-1.2819444045389594,-0.5974448616223759,-0.43323877181219794,-1.4996558494558243,0.5741379139895667,-0.36128329425492894,-1.027332714720931,-1.141723473914538,-1.3686599800566939,-1.2505791963729704,-0.3723533677252779,-1.8040828698904237,1.0796712691355075,-0.9479971881834295,-0.15279691056335523,-1.3003945269895412,0.7475690650250355,-2.285631065850608,1.976347220233782,0.5187875466378215,-1.2893244535191923,-0.06977135953573724,0.474507252756425,0.9800406079023657,-1.4166302984282064,-0.18785214321946017,1.3195228609930705,0.9394503385110861,-1.285634429029076,1.8453513508346508,0.6442483793017777,-1.5384011066020462,0.8213695548273626,0.5833629752148576,-1.2967045024994248,0.7475690650250355,-1.5310210576218135,0.07413959557880079,-1.320689661685181,-0.3409881595592891,-0.5586996044761542,-0.769031000412786,-0.6970755228555175,0.3121461751913058,-0.6029798983575501,-0.10298157994678411,2.319519497814602,-0.3170030003735326,-0.5439395065156886,0.3324413098869456,1.1202615385267871,0.12395492619537136,1.055686109949751,-0.11589666566219167,0.0335493261875211,-0.07530639627091146,-1.6952271474319913,0.4394520201003201,-1.6029765351790823,-0.34467818404940526,-2.377881678103517,-0.8225363555194732,1.3398179956887102,0.6645435139974175,-1.0088825922703493,-0.014420992183991926,0.06860455884362605,-0.5974448616223759,0.9339153017759113,-0.8059312453139496,0.48373231398171596,-1.9498388372500197,0.18115030579217528,-0.7782560616380769,-2.007034216846823,0.4634371792860761,-1.0402478004363385,-0.9184769922624988,0.3545814568276435,0.6719235629776503,-1.112203277993607,-0.6491052044840044,1.0280109262738781,-1.1896937922860507,-0.5125742983496998,-0.4867441269188852,0.7217388935942209,0.19960042824275706,0.09627974251949871,-1.1841587555508761,2.116568150858203,0.6663885262424756,-0.9350821024680219,-1.9978091556215323,-1.560541253542744,1.474503889577957,0.6700785507325923,-1.5125709351712315,-0.6085149350927248,-0.7302857432665644,-0.4848991146738271,-1.401870200467741,0.11657487721513908,-0.9221670167526149,1.0538410977046928,1.4929540120285387,-0.2247523881206237,-1.2265940371872142,0.11472986497008048,-0.7985511963337173,0.795539383396548,0.32875128539682946,0.5261675956180543,-1.1251183637090145,-0.4848991146738271,-0.20076722893486773,0.8250595793174788,-1.1269633759540725,0.210670501713106,2.551991040691933,2.4449803304785585,-0.6177399963180157,-0.8834217596063934,0.25679580783956046,0.10365979149973152,0.25495079559450234,-0.6103599473377829,-1.03840278819128,0.4708172282663089,-0.9369271147130805,0.6903736854282321,-0.5439395065156886,0.5999680854203813,-0.2247523881206237,-0.04025116361480599,-0.5513195554959214,3.0593694080829317,1.5759795630561566,-1.0605429351319782,0.8416646895230024,0.5335476445982871,-0.11774167790724975,-0.3151579881284745,1.8767165590006398,0.531702632353229,0.8250595793174788,0.18115030579217528,0.9855756446375404,-0.45168889426277975,-0.4627589677331287,1.0187858650485873,1.116571514036671,2.194058665150646,-0.24873754730638023,-0.09191150647643516,-0.0734613840258534,-0.4055635881363253,0.5169425343927633,-0.6398801432587136,1.4634338161076084,0.8748749099340498,-0.4904341514090013,-0.5291794085552229,2.6368616039646087,-0.4775190656935943,0.6571634650171847,-0.09375651872149324,0.018789228227055473,-1.0402478004363385,0.38225664050351615,0.08705468129420782,1.7567907630718582,-0.6915404861203428,-0.5162643228398159,1.2346522977203944,0.9818856201474238,2.002177391664596,-0.16017695954358752,0.6756135874677665,-0.7524258902072628,0.5759829262346248,0.04277438741281199,-2.1749303311471175,0.5206325588828795,0.7328089670645699,0.8767199221791079,1.4357586324317357,-1.077148045337502,2.25125404474745,1.0040257670881223,-1.47382567802501,-0.17862708199416927,0.35642646907270215,-1.1675536453453523,1.4099284610009213,0.15163010987124403,0.3029211139660149,-0.924012028997673,0.7660191874756173,-0.7192156697962154,1.8158311549137196,0.8379746650328863,-1.2985495147444832,0.522477571127938,2.382249914146581,1.1645418324081835,0.9246902405506204,-0.24873754730638023,-0.6398801432587136,-1.3538998820962285,0.7807792854360829,0.4634371792860761,0.627643269096254,-0.5070392616145251,1.500334061008772,-0.24135749832614742,-0.02918109014445703,1.0261659140288202,1.640554991633193,0.007719154756706515,2.4837255876247806,-0.3225380371087073,-0.06792634729067865,-1.2930144780093085,0.5390826813334613,0.6479384037918938,-2.403711849534331,-0.7044555718357498,1.36011313038435,0.48926735071689065,-2.5660729270994507,2.0612177835064576,-1.9978091556215323,1.5187841834593538,0.2180505506933388,-0.8520565514404039,1.9117717916567458,0.1294899629305461,-0.2985528779229508,-0.025491065654340884,0.3029211139660149,2.136863285553843,-0.8003962085787754,-1.2062989024915742,-0.18785214321946017,0.6442483793017777,1.408083448755863,-0.5771497269267359,-1.1103582657485491,0.2365006731439206,1.2125121507796959,0.6774585997128245,-0.13065676362265677,-0.07715140851596954,-0.19338717995463492,-3.263487555731442,0.08520966904914976,0.04461939965787006,-0.3575932697648128,0.806609456866897,0.6737685752227084,-0.36866334323516176,-1.3741950167918684,0.461592167041018,1.7438756773564512,0.9302252772857952,-0.0015059064685843712,-3.1675469189884162,0.06675954659856798,0.5058724609224143,-0.7284407310215063,-0.00519593095870104,1.0667561834201003,0.03723935067763725,-0.4387738085473727,1.2088221262895797,-1.2616492698433197,-1.6786220372264675,-1.171243669835469,-0.4424638330374888,-0.07899642076102813,-0.45722393099795444,0.7180488691041047,0.8859449834043988,0.10181477925467344,0.13502499966572085,0.5390826813334613,0.11841988946019714,0.7936943711514899,0.3988617507090399,-0.21368231465027476,-0.06977135953573724,-1.2598042575982613,-1.693382135186933,1.1922170160840562,-0.267187669756962,-0.9609122738988365,0.282625979270375,-2.3022361760561316,1.9173068283919195,1.4486737181471427,-1.641721792325304,1.035390975254111,-0.6823154248950519,-2.315151261771539,0.6516284282820105,1.3269029099733032,-0.7468908534720881,-1.1472585106497126,1.5593744528506335,-1.7874777596849,0.7549491140052683,0.6922186976732901,-0.9313920779779058,-0.5347144452903977,0.18484033028229144,-0.925857041242731,-1.1786237188157016,0.782624297681141,-2.180465367882292,0.07967463231397554,-0.22290737587556564,-0.46829400446830344,0.3472014078474112,-0.9443071636933128,0.1553201343613607,-0.9277020534877897,-0.995967506554942,1.4339136201866771,-1.0125726167604656,-0.0808414330060862,-1.0181076534956401,1.6995953834750555,0.7457240527799774,0.07044957108868465,-1.4461504943491374,-0.1454168615831224,0.5981230731753232,-2.1361850740008954,-0.112206641172075,1.0741362324003327,-0.11958669015230781,0.8379746650328863,1.0741362324003327,-0.7837910983732517,-0.6823154248950519,-0.68416043714011,-0.5992898738674339,0.7531041017602103,-0.5586996044761542,0.45974715479595996,2.3711798406762314,0.5686028772543925,-2.224745661763688,0.9117751548352133,-1.650946853550595,-0.6048249106026087,-0.3077779391482417,0.1368700119107789,-1.722902331107864,0.605503122155556,-0.5254893840651068,0.605503122155556,1.0132508283134132,-0.04947622484009687,-0.6066699228476667,1.4947990242735973,-0.6158949840729576,-1.0144176290055238,0.5519977670488688,1.9597421100282577,0.210670501713106,0.5409276935785199,1.6903703222497646,1.1313316119971366,-1.193383816776167,-0.7505808779622042,0.5593778160291016,-0.8225363555194732,-0.28563779220754376,1.2180471875148706,-1.6380317678351877,-1.307774575969774,-1.6546368780407112,1.345353032423885,0.07229458333374272,0.07229458333374272,-0.44799886977266357,-0.2524275717964964,1.8416613263445347,-0.09929155545666797,-0.06977135953573724,1.4209985344712701,-0.17124703301393698,-0.7358207800017391,0.5649128527642758,-0.09375651872149324,0.5741379139895667,-1.069767996357269,-0.953532224918604,-1.4775157025151262,-0.29670786567789276,-1.0882181188078508,0.08520966904914976,0.10181477925467344,-0.34283317180434714,0.5187875466378215,0.5483077425587521,-0.38895847793080157,-0.5623896289662703,0.461592167041018,2.016937489625062,-1.307774575969774,-0.4295487473220818,0.8435097017680605,1.9911073181942465,-0.07715140851596954,-0.3981835391560925,1.2235822242500454,-0.0328711146345737,-1.1380334494244218,-1.1029782167683162,1.1571617834279506,-0.9369271147130805,0.5206325588828795,0.9929556936177732,0.0483094241479862,-0.21183730240521667,1.3305929344634193,1.4191535222262115,0.8914800201395735,1.022475889538704,-1.0144176290055238,0.9966457181078894,0.32875128539682946,-0.5162643228398159,-0.6122049595828409,0.2881610160055492,0.542772705823578,-0.8077762575590082,0.8564247874834681,-1.0568529106418618,-0.4830541024287685,0.282625979270375,0.5021824364322977,0.15716514660641875,-1.0550078983968036,1.4726588773328992,-0.12143170239736589,0.3158361996814219,0.2844709915154331,1.5372343059099356,0.5852079874599156,0.45236710581572714,0.806609456866897,-1.1158933024837234,1.5981197099968556,-0.8317614167447641,-0.16571199627876226,-0.018111016674108072,1.1147265017916128,-2.285631065850608,-1.285634429029076,0.306611138456131,-0.2339774493459146,-1.2229040126970978,1.1682318568983001,-0.42401371058690707,1.609189783467204,0.04646441190292813,-0.6066699228476667,-1.2727193433136685,-1.1232733514639563,0.33428632213200365,0.5686028772543925,0.7531041017602103,-0.5439395065156886,-0.32807307384388207,0.2198955629383969,-1.2930144780093085,-0.6527952289741211,1.2807776038468488,-1.7302823800880964,0.6516284282820105,-0.3797334167055107,-1.2819444045389594,-0.6251200452982485,-1.5900614494636751,0.4136218486695055,-0.6103599473377829,1.7198905181706947,-2.962750559786959,0.19775541599769847,-0.9018718820569751,-0.38895847793080157,-0.23951248608108935,-0.925857041242731,0.365651530297993,0.10365979149973152,-0.07530639627091146,-1.5734563392581515,0.18299531803723335,-1.1343434249343054,0.6018130976654393,0.784469309926199,0.7992294078866646,0.1940653915075823,0.29369605274072397,-1.4664456290447772,-0.3483682085395219,-0.3834234411956274,-0.4609139554880706,0.2365006731439206,2.317674485569545,0.24941575885932762,-1.973823996435776,-1.370504992301752,0.018789228227055473,0.6497834160369519,-1.7099872453924567,-0.8852667718514514,-0.8133112942941824,-0.0956015309665513,1.0335459630090529,-0.4147886493616162,-1.246889171882854,1.0483060609695185,-0.2930178411877766,0.6294882813413121,-0.6657103146895281,-1.5199509841514645,-1.5753013515032097,0.8638048364637009,-0.842831490215113,0.19960042824275706,2.1294832365736096,0.10919482823490627,0.0003391057764737013,-0.3963385269110344,-0.11958669015230781,-0.8354514412348808,0.3029211139660149,0.640558354811661,-0.8760417106261605,-0.4037185758912672,-1.276409367803785,-0.3317630983339982,-0.14172683709300574,0.5815179629697995,-0.7413558167369133,2.0685978324866907,1.0206308772936459,0.14978509762618594,-0.04394118810492266,-1.1361884371793634,1.2567924446610923,-0.1767820697491112,0.10181477925467344,0.46897221602125083,0.8490447385032353,-0.1804720942392279,-0.3243830493537654,-0.8520565514404039,-0.1620219717886461,0.18853035477240757,2.635016591719551,-1.0162626412505817,-0.601134886112492,-0.8778867228712186,-0.5955998493773178,-0.6712453514247029,1.0649111711750419,0.08705468129420782,-1.2985495147444832,-0.7634959636776117,0.13502499966572085,-0.4443088452825469,0.4874223384718326,0.5114074976575886,0.782624297681141,0.7623291629855011,-0.10667160443690078,-0.6694003391796448,0.09074470578432449,0.6774585997128245,-0.9147869677723821,0.9339153017759113,0.45974715479595996,0.6848386486930573,1.2549474324160341,0.8970150568747477,0.8564247874834681,-1.401870200467741,-1.1804687310607598,0.7254289180843375,0.8176795303372464,-0.6583302657092953,-2.7597992128305595,1.7936910079730217,-0.7026105595906917,0.2420357098790948,-0.5107292861046412,0.6663885262424756,0.009564167001764587,0.31399118743636384,0.25495079559450234,0.723583905839279,1.2420323467006271,-0.08822148198631902,1.116571514036671,0.0317043139424625,0.5833629752148576,-0.18785214321946017,1.2531024201709762,-0.8908018085866262,-1.3336047474005883,0.5981230731753232,-0.35205823302963807,2.1257932120834937,-0.8502115391953459,-0.9922774820648256,-0.20445725342498386,-2.003344192356707,-1.3741950167918684,-0.505194249369467,0.02616927720728829,-0.422168698341849,0.018789228227055473,1.094431367095973,0.0483094241479862,-0.7358207800017391,0.3841016527485748,-0.9461521759383714,0.8656498487087589,1.336127971198594,1.5685995140759244,0.389636689483749,1.2088221262895797,-0.7136806330610407,1.3951683630404557,-1.005192567780233,0.020634240472113548,1.2770875793567322,-0.025491065654340884,-1.0568529106418618,-1.2598042575982613,-1.4074052372029155,-0.757960926942437,-0.6122049595828409,0.4948023874520654,-0.8760417106261605,1.7549457508268007,0.10734981598984819,-0.00519593095870104,1.9689671712535486,1.6331749426529605,-0.7745660371479608,-0.8225363555194732,1.0095608038232964,-0.0808414330060862,-0.6878504616302267,-0.8686616616459277,-1.5070358984360572,1.61287980795732,0.38225664050351615,0.3490464200924693,0.01509920373693933,-1.7192123066177476,1.1331766242421946,0.5206325588828795,0.8287496038075954,-0.2690326820020201,0.950520411981435,-1.3317597351555304,0.10181477925467344,1.1922170160840562,0.7494140772700936,0.36934155478810915,-1.2911694657642503,0.14240504864595313,-0.13619180035783152,-0.3594382820098709,-2.368656616878226,0.8896350078945149,0.44867708132561096,1.1479367222026597,-1.8705033107125182,0.15347512211630263,-0.9664473106340112,-0.4848991146738271,0.1221099139503133,0.8232145670724207,0.4505220935706691,0.5870529997049743,0.7364989915546866,0.20144544048781513,-0.5863747881520269,0.9302252772857952,-1.4147852861831482,-0.014420992183991926,-0.5716146901915612,-0.2837927799624857,0.32690627315177084,-1.0070375800252909,-1.1823137433058177,-0.7284407310215063,2.6128764447788533,-1.1269633759540725,0.25679580783956046,-1.3446748208709376,-0.8262263800095899,-0.4295487473220818,0.9523654242264931,0.024324264962230214,1.0132508283134132,0.09258971802938257,-0.9295470657328477,2.830587889695717,-1.2745643555587267,-1.1103582657485491,-0.6122049595828409,0.5870529997049743,-0.37604339221539457,0.1221099139503133,-0.5660796534563866,0.26233084457473466,1.0390809997442276,0.638713342566603,-0.0033509187136424434,0.44129703234537815,-0.3575932697648128,1.334282958953536,-0.021801041164224214,-0.8206913432744152,1.880406583490756,-0.5697696779465031,-2.224745661763688,1.1128814895465549,-0.24320251057120548,-0.6048249106026087,0.03723935067763725,-1.4147852861831482,0.1553201343613607,0.07598460782385887,0.9486753997363769,0.0483094241479862,-1.1103582657485491,-1.1564835718750035,0.41731187315962165,1.6995953834750555,2.7125071060119943,1.1866819793488819,1.1368666487323107,-0.8003962085787754,0.6257982568511959,0.3158361996814219,-0.8317614167447641,-1.7690276372343183,0.04277438741281199,-0.4701390167133615,-1.1158933024837234,-0.2505825595514383,-2.156480208696536,-0.20630226567004195,1.5298542569297022,-1.569766314768035,0.7733992364558501,0.19037536701746616,-0.13250177586771486,0.3490464200924693,-0.590064812642143,2.295534338628846,0.9431403630012022,-0.12512172688748255,0.03723935067763725,1.6073447712221465,-0.16755700852382033,2.1571584202494827,-2.0439344617479867,1.0021807548430641,1.0464610487244599,1.201442077309347,-1.0162626412505817,0.9320702895308532,0.41177683642444746,0.6368683303215449,0.5722929017445086,-1.3631249433215193,-0.7542709024523209,1.0132508283134132,-0.6214300208081318,-1.518105971906406,1.4818839385581903,1.1147265017916128,0.7770892609459662,0.24757074661426956,-0.11589666566219167,-0.4793640779386524,-2.2136755882933388,1.5649094895858082,-0.9516872126735456,-0.5623896289662703,0.3582714813177602,-1.4996558494558243,-0.5826847636619102,-1.3483648453610537,-2.003344192356707,0.6479384037918938,-0.5236443718200487,1.0021807548430641,0.542772705823578,0.22912062416368778,-1.1048232290133746,0.5870529997049743,-1.2026088780014579,-0.4701390167133615,0.6497834160369519,0.9560554487166097,-2.55684786587416,2.415460134557627,0.6848386486930573,0.5612228282741597,1.0150958405584711,-1.4092502494479737,1.8508863875698256,-0.7874811228633678,0.8305946160526535,-0.3483682085395219,-1.069767996357269,0.8970150568747477,-1.6564818902857694,-1.8317580535662963,-0.9922774820648256,-0.35205823302963807,-0.1767820697491112,-0.686005449385168,-0.6140499718278996,0.9652805099419006,0.7604841507404425,-0.9461521759383714,-0.9092519310372079,0.555687791538985,0.6682335384875336,-0.5310244208002816,-0.3317630983339982,1.035390975254111,0.5058724609224143,-0.4037185758912672,-0.07161637178079532,1.5722895385660405,1.8970116936962802,0.2641758568197933,1.609189783467204,-1.1324984126892472,-0.04947622484009687,1.1516267466927763,0.18484033028229144,-1.0402478004363385,-0.37604339221539457,-1.4646006167997192,0.806609456866897,2.511400771300653,0.19037536701746616,-0.4443088452825469,-0.4664489922232454,-0.01257597993893333,-0.5568545922310956,-1.5642312780328604,0.7992294078866646,1.2992277262974306,-1.7026071964122238,0.8361296527878282,1.5077141099890043,0.31399118743636384,-0.2247523881206237,-1.2893244535191923,1.7918459957279642,0.13502499966572085,-0.9701373351241275,-0.1860071309744021,0.7309639548195118,1.1479367222026597,1.874871546755582,1.874871546755582,-0.769031000412786,-0.5716146901915612,0.2678658813099094,-0.8963368453218004,0.10734981598984819,-1.1140482902386655,2.6387066162096673,0.6774585997128245,1.9265318896172103,-0.9885874575747092,0.3711865670331672,0.6128831711357884,0.07598460782385887,-0.2930178411877766,0.02616927720728829,1.6848352855145898,-0.019956028919166143,1.2051321017994636,0.5612228282741597,0.6184182078709631,-0.6398801432587136,-0.8133112942941824,-2.0623845841985684,0.8287496038075954,-0.4793640779386524,-0.09375651872149324,-0.47382904120347763,-0.06977135953573724,-0.435083784057256,-0.4627589677331287,0.557532803784043,0.6018130976654393,-0.5070392616145251,-0.34283317180434714,2.8564180611265324,0.17377025681194247,0.2420357098790948,0.6977537344084649,-0.18785214321946017,0.6866836609381154,1.2346522977203944,-0.4295487473220818,-0.6103599473377829,-0.21552732689533283,1.3545780936491758,0.41177683642444746,-1.569766314768035,0.20144544048781513,1.1756119058785324,-0.056856273820329685,-0.025491065654340884,0.40439678744421464,-0.09191150647643516,0.47635226500148364,-0.6694003391796448,-2.8335997026328865,-0.4664489922232454,2.635016591719551,0.6663885262424756,0.5409276935785199,1.2125121507796959,-1.495965824965708,0.7069787956337558,0.007719154756706515,-0.7210606820412735,0.17561526905700053,-0.435083784057256,0.3638065180529344,-0.4129436371165581,-0.4627589677331287,-0.24135749832614742,0.08520966904914976,-2.6638585760875344,-0.0015059064685843712,0.6866836609381154,-0.5144193105947579,-0.10851661668195886,-1.3446748208709376,-1.4055602249578574,-0.994122494309884,0.365651530297993,0.7881593344163151,-0.4074086003813834,-0.3594382820098709,-1.7708726494793765,-0.8391414657249969,-0.05316624933021354,-0.08637646974126043,0.771554224210792,-0.7081455963258665,-0.24135749832614742,0.6719235629776503,0.03908436292269532,-1.3483648453610537,-0.9461521759383714,-0.014420992183991926,-0.5273343963101649,-0.21183730240521667,0.06122450986339376,0.26233084457473466,0.32690627315177084,-1.9074035556136817,0.05199944863810287,0.18115030579217528,-0.3575932697648128,0.7604841507404425,0.5962780609302651,0.9265352527956785,0.7604841507404425,-1.6952271474319913,1.6018097344869717,-0.7081455963258665,0.3951717262189237,-1.525486020886639,-0.13803681260288958,0.7733992364558501,1.1848369671038232,0.5722929017445086,1.9357569508425012,-0.1804720942392279,0.880409946669224,0.8195245425823044,-0.1860071309744021,-1.1324984126892472,0.4228469098947964,-0.4387738085473727,1.2346522977203944,0.19037536701746616,-0.21552732689533283,-0.6694003391796448,-1.7930127964200746,-0.256117596286613,-0.25427258404155495,-0.06239131055550443,-1.1029782167683162,-1.4682906412898353,1.1128814895465549,-0.2764127309822529,0.7641741752305592,-0.9350821024680219,0.2641758568197933,-0.20076722893486773,-1.1730886820805269,1.71435548143552,0.5630678405192178,0.8029194323767808,-0.733975767756681,-0.7874811228633678,-0.4553789187528959,0.2457257343692115,-1.403715212712799,-0.590064812642143,-0.019956028919166143,-0.5734597024366194,-0.5697696779465031,-1.5125709351712315,0.11288485272502241,-0.7727210249029026,1.7420306651113926,-0.9996575310450584,-0.01257597993893333,0.6534734405270686,-0.30408791465812557,-1.1804687310607598,-0.7819460861281936,-0.8631266249107534,0.06860455884362605,-0.16571199627876226,-0.4701390167133615,-2.3003911638110734,0.0981247547645573,1.9117717916567458,-2.049469498483161,-0.8871117840965095,-0.3225380371087073,-0.5771497269267359,-0.08822148198631902,0.2770909425352003,-0.5439395065156886,0.9671255221869587,1.6516250651035422,0.3545814568276435,2.107343089632912,-0.06792634729067865,-0.18416211872934402,0.8435097017680605,-0.9184769922624988,-1.5420911310921623,-0.16386698403370417,0.2198955629383969,-1.922163653574147,-0.9350821024680219,-0.6970755228555175,1.6460900283683675,1.3988583875305722,1.105501440566322,-0.3963385269110344,0.05199944863810287,-1.6232716698747223,-0.13065676362265677,-0.09191150647643516,-0.40925361262644144,0.23096563640874584,-0.3465231962944638,0.8840999711593407,0.22358558742851303,0.8398196772779444,0.306611138456131,0.9560554487166097,0.5483077425587521,0.771554224210792,-0.7358207800017391,0.0815196445590336,0.4394520201003201,0.10919482823490627,1.1313316119971366,1.7826209345026733,0.004029130266589846,-1.800392845400307,1.275242567111674,-0.4129436371165581,-0.48858913916394325,0.7254289180843375,0.3398213588671784,-0.23951248608108935,0.8471997262581772,0.5686028772543925,0.963435497696842,0.18484033028229144,-2.005189204601765,-0.8797317351162767,1.3121428120128376,1.8785615712456984,-0.925857041242731,1.0796712691355075,0.5833629752148576,-0.1860071309744021,-0.04394118810492266,-0.0900664942313771,-0.5384044697805138,-0.40002855140115057,-1.1343434249343054,-0.6454151799938883,0.07967463231397554,0.22543059967357112,-0.4775190656935943,-0.15279691056335523,1.118416526281729,-1.765337612744202,1.6626951385738917,-0.7985511963337173,1.6553150895936586,0.7401890160448027,1.0464610487244599,1.5021790732538296,1.2973827140523726,1.647935040613426,-0.7265957187764482,0.26233084457473466,0.8342846405427696,0.210670501713106,0.9708155466770748,-1.639876780080246,-0.4904341514090013,1.1387116609773689,0.3841016527485748,-1.518105971906406,0.8269045915625373,1.6165698324474373,0.6645435139974175,1.0999664038311472,-2.150945171961361,0.5796729507247415,2.4671204774192566,-0.8760417106261605,1.2180471875148706,-0.8372964534799389,-0.6454151799938883,-0.5439395065156886,1.6829902732695312,1.4117734732459792,-0.45906894324301256,-0.2598076207767292,-0.20630226567004195,0.2198955629383969,-0.3834234411956274,0.2955410649857821,1.5667545018308657,1.7291155793959856,-0.36866334323516176,-0.6251200452982485,1.2549474324160341,1.1110364773014962,-1.2837894167840176,1.1147265017916128,0.33797634662212034,-1.1823137433058177,0.32690627315177084,0.2512607711043857,1.5427693426451103,0.3232162486616547,0.4062417996892727,-0.112206641172075,-1.4406154576139627,0.9781955956573076,-0.09191150647643516,0.03539433843257917,0.02247925271717162,-0.6029798983575501,0.8914800201395735,-0.35390324527469613,-0.07899642076102813,-1.154638559629945,-0.5033492371244089,-0.21552732689533283,1.539079318154993,-0.6952305106104589,-0.22106236363050757,-0.5955998493773178,-0.6343451065235394,-0.817001318784299,-1.0107276045154074,-0.10113656770172605,1.5815145997913314,-0.6675553269345863,-1.2265940371872142,0.5852079874599156,-0.3981835391560925,0.050154436393044274,-0.7026105595906917,-1.3133096127049486,1.2494123956808594,-0.23213243710085651,-1.9978091556215323,-0.2837927799624857,-0.4627589677331287,0.9542104364715511,0.4320719711200873,-0.04209617585986458,-0.8557465759305206,1.1793019303686492,-0.20630226567004195,-1.2524242086180288,0.49295737520700683,-0.42032368609679094,0.7660191874756173,-0.25427258404155495,-0.4553789187528959,-0.9978125188000001,-1.0088825922703493,-0.00519593095870104,1.2254272364951035,0.4874223384718326,0.13502499966572085,0.23281064865380394,1.129486599752078,1.3951683630404557,0.07598460782385887,-0.44799886977266357,0.44129703234537815,1.8379713018544186,0.19037536701746616,0.3508914323375274,-0.3834234411956274,-0.769031000412786,-0.7413558167369133,-0.03840615136974792,-1.1786237188157016,-2.3612765678979932,-0.8815767473613352,-1.3465198331159958,1.2494123956808594,-0.38157842895056876,1.0999664038311472,-0.06792634729067865,0.25495079559450234,-0.769031000412786,1.5538394161154587,1.3379729834436522,-0.30224290241306745,2.6792968856009467,0.4394520201003201,-0.07530639627091146,1.596274697751797,-1.859433237242169,0.8564247874834681,0.688528673183174,-2.241350771969212,-0.11589666566219167,1.0575311221948094,1.0667561834201003,-0.38526845344068544,2.14977837126925,-0.40925361262644144,-0.6472601922389464,-1.879728371937809,-1.829913041321238,0.19960042824275706,0.5519977670488688,0.5409276935785199,-1.215523963716865,0.4265369343849125,-0.817001318784299,1.7973810324631379,1.9911073181942465,-1.5125709351712315,-0.23951248608108935,-1.4277003718985557,-0.6085149350927248,1.3158328365029544,-0.29670786567789276,-0.3409881595592891,-1.8059278821354818,-0.9387721269581386,0.07967463231397554,0.013254191491880733,-0.5845297759069683,-1.2653392943334358,-2.237660747479095,0.6128831711357884,0.6368683303215449,-1.1878487800409925,-0.42585872283196513,-0.9479971881834295,0.8933250323846316,-2.483047376071833,-0.1546419228084133,0.474507252756425,0.9837306323924824,-0.4793640779386524,0.43391698336514534,-1.72659235559798,-0.6048249106026087,-0.49227916365405944,0.688528673183174,-0.12327671464242397,1.548304379380284,1.7032854079651716,0.3711865670331672,0.4505220935706691,-1.8668132862224016,-1.0015025432901166,0.7678641997206753,-0.7468908534720881,-0.363128306499987,1.103656428321264,-1.2210590004520396,0.2420357098790948,-1.5347110821119299,1.8619564610401742,1.2143571630247545,-0.5162643228398159,0.1940653915075823,-1.193383816776167,-1.2118339392267488,0.8840999711593407,0.8213695548273626,-0.47198402895841957,0.2032904527328732,-0.40925361262644144,1.1221065507718457,0.5981230731753232,-1.213678951471807,-0.08822148198631902,-0.33360811057905626,0.9449853752462603,0.9800406079023657,2.337969620265184,1.0575311221948094,-0.4793640779386524,-0.36866334323516176,-0.47567405344853625,0.9708155466770748,0.4136218486695055,0.1368700119107789,0.3158361996814219,0.9708155466770748,-0.24873754730638023,-0.7099906085709246,0.9560554487166097,-0.4553789187528959,1.1719218813884162,-0.44799886977266357,2.0224725263602363,2.1313282488186682,-0.9406171392031967,1.0796712691355075,1.0870513181157402,-0.7081455963258665,-0.3944935146659763,-1.320689661685181,0.44867708132561096,1.8545764120599417,-0.7819460861281936,-1.7690276372343183,0.26602086906485134,-0.17862708199416927,0.6331783058314288],\"y\":[-0.058618850397207885,-0.09591619935677599,-1.5544388455125142,-2.7185087367242944,-1.0224608682470966,0.3968014105827801,2.9075019010715946,-1.9097451698115568,0.424283667710883,-0.7260450949368458,-1.8744108392182817,0.9268163694819044,2.0967753157925637,1.5805014854574906,0.34968896979174674,0.24368597801192235,-0.802602811222275,0.771737918544753,-0.5984489011277974,-2.5025767164320585,0.879703928690871,1.5059067875383554,-0.18228900747367044,-0.8811235458739971,1.1348963163089678,-1.2501709987370913,0.021864902620807165,-3.3211553751762617,1.021041251063971,-0.10573129118824126,0.3320218044951097,0.45765497993786464,-0.25099465029392726,1.4018668141248234,-0.6593024704828819,0.06897734341184054,1.6060207242193005,-0.6887477459772777,0.4988783656300192,0.24761201474450822,-1.2913943844292453,0.33005878612881623,1.3626064467989625,0.21031466578494012,1.3174570243742219,0.37913424528614253,0.9601876817088866,-0.40018404613219916,-2.455464275641025,-0.45122252365581844,-0.5984489011277974,-0.43551837672547433,-0.24706861356134083,-0.7358601867683111,-0.6063009745929697,0.24368597801192235,0.11805280256916686,0.3241697310299374,-0.6141530480581421,-0.5866707909300392,-0.23921654009616908,-1.0106827580493385,0.5165455309266562,0.4498029064726929,-0.38055386246926864,-2.4201299450477505,-0.8870126009728765,2.024143636239721,0.08664450870847813,-1.2619491089348494,1.1643415918033637,0.958224663342593,-0.8909386377054623,0.15927618826132087,-1.511252441454067,0.9268163694819044,-0.1076943095545342,-0.5375953317727129,-0.4315923399928879,-0.1921040993051357,-2.3435722287623215,0.13571996786580445,0.17694335355795843,1.0171152143313846,-1.5976252495709613,-0.5238542032086617,-0.2588467237590996,-0.7044518929076223,-1.030312941712269,2.2930771524218687,0.4498029064726929,-0.1862150442062563,0.11020072910399453,1.0701167102212974,-0.9439401335953745,0.383060282018729,-0.8418631785481361,0.528323641124415,-1.150057062056145,-0.33147840331194234,-1.336543806853985,-1.77037086580475,0.569547026816569,-0.8418631785481361,-1.055832180474079,-0.13125052995005118,-0.7594164071638281,0.33987387796028146,0.5891772104794996,0.015975847521927784,0.04345810465003063,-0.5317062766738335,0.3359478412276956,0.19068448212200959,-1.4445098170001032,-0.9498291886942539,1.4921656589743033,0.3928753738501942,-0.09591619935677599,-0.09591619935677599,-0.44925950528952546,-0.7908247010245167,0.3123916208321792,-0.7515643336986557,0.4125055575131248,0.944483534778542,-1.067610290671837,1.8003595424823133,0.530286659490708,0.9150382592841462,-0.33344142167823526,-0.5532994787030575,0.8070722491380282,0.8051092307717354,-1.2756902374989005,-1.0165718131482178,0.2633161616748529,-0.7280081133031387,0.84044356136501,-0.13910260341522293,0.4537289432052788,-1.0008676662178733,-0.616116066424435,-0.19603013603772157,-0.12339845648487885,1.8042855792148993,0.277057290238904,-1.2109106314112301,0.732477551218892,1.0583386000235393,0.8757778919582851,1.3370872080371525,-2.671396295933261,-0.7299711316694323,-0.25492068702651316,-0.39036895430073393,-2.153159447231895,-0.10376827282194832,0.05523621484778884,-0.6632285072154683,-0.45907459712099075,-0.35699764207375223,-0.013469427972468008,-0.45907459712099075,0.3948383922164872,2.5090091727141046,-0.32166331148047705,-0.427666303260302,1.1211551877449166,0.18479542702313076,-0.26866181559056485,-0.9517922070605469,0.9091492041852668,0.9268163694819044,0.8659628001268198,-1.7154063515485445,0.544027788054759,-0.427666303260302,-0.27455087068944367,0.4674700717693299,1.3096049509090502,-1.7723338841710432,-0.9380510784964957,-0.5081500562783171,0.8208133777020794,-0.6318202133547796,0.8698888368594058,-0.2117342829680662,0.3948383922164872,-1.3934713394764837,1.7846553955519686,0.3261327493962303,0.3909123554839013,0.7835160287425118,-1.6015512863035475,0.008123774056756019,-0.6239681398896073,-2.2002718880229284,-1.3012094762607105,-0.3530716053411658,-0.46103761548728367,1.3233460794731013,-0.6651915255817613,-1.9274123351081942,-0.9949786111189943,-1.6192184516001848,-0.5572255154356434,0.6382526696368258,1.4254230345203398,-0.551336460336764,0.9719657919066448,0.6853651104278592,0.1749803351916655,-1.1245378232943357,0.21424070251752655,1.170230646902243,-0.1449916585141023,-0.5866707909300392,-0.49048289098167946,0.4812112003333816,-0.40018404613219916,0.6834020920615657,0.6676979451312216,-0.10965732792082715,0.14946109642985558,0.5008413839963122,0.36735613508838433,-0.7947507377571027,1.7277278629294694,-0.37073877063780336,-1.4209535966045865,0.1749803351916655,-1.3345807884876921,-1.3993603945753632,-0.1253614748511718,-1.3149506048247617,-0.40214706449849213,0.9287793878481972,-0.3157742563815977,0.359504061623212,-1.7664448290721637,1.808211615947485,1.0445974714594874,0.9641137184414724,1.3370872080371525,-0.19799315440401452,1.1388223530415538,0.3850233003850219,-0.08806412589160367,-0.6063009745929697,1.568723375259733,0.09842261890623633,2.0771451321296333,1.3743845569967201,1.1074140591808654,0.22601881271528476,-0.22743842989841032,1.1545264999718983,-0.4433704501906461,1.1093770775471579,0.9071861858189738,-0.8929016560717553,0.37520820855355663,0.689291147160445,0.32809576776252325,0.7894050838413906,2.2086673626712674,0.9484095715111278,-0.06450790549608727,1.2507143999202586,-0.9341250417639093,-1.214836668143816,1.3959777590259441,-0.46692667058616305,-0.02328451980393327,-0.46692667058616305,1.0897468938842279,-0.7594164071638281,-0.47674176241762833,-2.296459787971288,-0.4158881930625438,-1.5191045149192393,-0.8870126009728765,-0.7476382969660693,-1.8587066922879374,0.08468149034218463,0.6657349267649286,-0.45514856038840484,0.09253356380735694,-2.3769435409893034,0.528323641124415,0.21031466578494012,1.2624925101180162,2.1949262341072164,0.6264745594390676,0.26135314330855935,0.3163176575647651,1.2507143999202586,1.0406714347269017,0.6245115410727742,1.3233460794731013,0.4399878146412276,-1.6879240944204417,0.5793621186480342,0.2024625923197678,-1.6133293965013058,0.277057290238904,1.6845414588710226,-0.7790465908267585,-0.18425202583996336,-0.88308656424029,-1.0872404743347677,2.4010431625679867,0.917001277650439,0.3928753738501942,1.4450532181832705,1.3704585202641342,0.7481816981492366,0.8522216715627687,-0.4747787440513354,0.0944965821736499,0.10431167400511515,-2.100157951341983,-1.3679521007146744,0.5813251370143272,0.3634300983557984,-1.7585927556069918,-0.7299711316694323,0.8168873409694936,-0.7751205540941721,-1.7801859576362151,-0.30399614618383947,0.9994480490347476,-0.06647092386238021,-1.1618351722539038,-0.01739546470505389,-1.4994743312563086,1.6197618527833517,-0.7927877193908097,-0.10965732792082715,2.4854529523185884,1.256603455019137,-0.4747787440513354,1.6236878895159386,-1.179502337550541,-1.7075542780833721,0.3123916208321792,1.4313120896192193,1.1820087571000018,1.6138727976844733,-0.35896066044004515,-0.49244590934797244,0.06701432504554761,-1.5995882679372542,1.980957232181274,-0.4649636522198701,2.556121613505139,-0.9105688213683929,1.2821226937809467,0.40857952078053833,-0.24706861356134083,-0.08610110752531074,0.6991062389919104,-1.295320421161831,0.014012829155634843,0.901297130720095,1.443090199816977,0.8836299654234574,1.248751381553965,0.38698631875131484,-1.5701429924428585,0.3968014105827801,-0.09984223608936188,0.3889493371176078,-0.6396722868199514,-0.36877575227151044,-0.0036543361410027436,1.0701167102212974,-0.7024888745413294,0.9484095715111278,-1.258023072202263,2.257742821828594,-1.0577951988403718,-0.7653054622627069,-0.7437122602334834,-0.7064149112739153,-0.8300850683503779,1.0485235081920738,-0.5238542032086617,1.0936729306168145,0.610770412508723,-1.3463588986854504,1.8101746343137786,0.18479542702313076,0.5911402288457924,1.1820087571000018,-1.6839980576878557,-0.3942949910333198,-0.427666303260302,1.708097679266539,0.8639997817605269,0.4851372370659675,0.13768298623209738,-1.0774253825033024,-0.8929016560717553,-1.4621769822967405,0.7108843491896686,0.424283667710883,-0.01739546470505389,0.04934715974891001,1.5490931915968025,0.08664450870847813,0.2633161616748529,0.3025765290007139,-0.12928751158375767,2.0967753157925637,0.47728516360079515,-0.9144948581009787,-0.9007537295369276,-0.7653054622627069,0.5656209900839826,-0.9635703172583051,-0.6396722868199514,-0.35110858697487285,-0.8457892152807219,2.683717807314187,0.053273196481495894,0.36735613508838433,1.0328193612617294,-3.1052233548840262,1.5844275221900777,-1.0734993457707165,-0.34129349514340757,0.318280675931058,-0.6357462500873655,1.0406714347269017,0.9523356082437142,0.901297130720095,0.10234865563882221,-0.33933047677711464,1.1309702795763819,-0.08806412589160367,1.1506004632393125,-1.5799580842743237,2.0300326913386004,0.26135314330855935,0.9955220123021612,-1.2501709987370913,2.1517398300487693,1.252677418286551,-2.0039700513936234,1.119192169378623,-0.2235123931658244,-0.23921654009616908,-0.7810096091930515,1.2664185468506022,-0.06843394222867315,-0.45318554202211137,1.464683401846201,0.944483534778542,-0.0016913177747092446,0.5185085492929498,-0.40018404613219916,0.5754360819154478,2.6424944216220325,2.8839456806760784,-0.3373674584108217,-0.88308656424029,-0.1430286401478094,1.8199897261452438,-0.7005258561750365,0.06701432504554761,-2.7773992877130858,1.9534749750531706,-2.100157951341983,1.0544125632909527,-0.7554903704312416,-0.9419771152290816,-1.3679521007146744,-0.6377092684536584,0.01008679242304896,0.8954080756212156,-0.05665583203091494,-0.6789326541458124,1.278196657048361,0.23779692291304297,1.7453950282261077,0.9464465531448348,-0.9066427846358069,0.648067761468291,0.42232064934459,-0.0036543361410027436,-0.8987907111706347,-0.2333274849972897,-0.12732449321746472,-1.110796694730284,0.3968014105827801,0.5165455309266562,-0.29614407271866716,-0.7790465908267585,0.33987387796028146,0.5165455309266562,-0.5788187174648669,0.5813251370143272,1.7571731384238654,-2.1727896308948256,0.4753221452345022,-0.1253614748511718,-1.4307686884360518,-1.0362019968111484,-1.3031724946270034,-0.037025648367984415,0.19853655558718192,1.2703445835831892,0.3712821718209708,-0.44140743182435316,-1.428805670069759,-1.9450795004048318,0.20049957395347484,1.1152661326460374,0.08860752707477107,-1.9038561147126773,-0.09591619935677599,-1.915634224910436,-1.3542109721506226,-0.7044518929076223,0.732477551218892,-1.3797302109124325,-0.6612654888491754,0.544027788054759,-0.9851635192875291,-0.2294014482647038,-0.22547541153211736,-1.1009816028988189,0.9503725898774213,-1.6467007087282877,0.6991062389919104,-0.37662782573668274,2.4854529523185884,-0.9792744641886497,-0.26277276049168546,-0.009543391239881568,-1.3463588986854504,-0.1489176952466882,1.4941286773405966,-1.8626327290205233,-0.28240294415461603,-0.18817806257254927,-1.3993603945753632,-0.8104548846874473,-0.7162300031053805,-0.2156603197006521,-0.1449916585141023,0.6009553206772578,-0.09984223608936188,0.4537289432052788,-0.9400140968627887,0.32024369429735094,1.9122515893610172,-2.396573724652234,0.22209277598269833,-0.10180525445565539,0.36931915345467725,-0.5984489011277974,-0.11554638301970653,-0.7201560398379669,-0.13713958504893,0.730514532852599,-0.45907459712099075,-0.0036543361410027436,-0.5827447541974533,0.04345810465003063,1.808211615947485,-1.318876641557348,-1.336543806853985,-0.6004119194940903,-0.013469427972468008,-0.8909386377054623,-0.48263081751650716,0.7933311205739771,0.1612392066276138,-0.2215493747995315,1.5353520630327513,0.7894050838413906,-0.7240820765705529,0.8051092307717354,0.9798178653718171,-1.5976252495709613,-0.08610110752531074,1.3704585202641342,-0.29221803598608126,-0.27455087068944367,-0.7024888745413294,-1.5406977169484626,0.8188503593357864,0.7737009369110466,0.8424065797313034,-0.3785908441029757,1.382236630461893,0.5263606227581215,1.3154940060079285,0.36735613508838433,0.15338713316244149,0.84044356136501,-1.6172554332338918,0.4439138513738135,0.9778548470055236,-0.18228900747367044,0.12983091276692507,-0.6377092684536584,-0.031136593269105034,-0.7594164071638281,0.2868723820703693,0.33005878612881623,-0.32558934821306296,0.01008679242304896,-0.5886338092963321,1.2428623264550858,-0.11554638301970653,0.16516524336020025,-1.621181469966478,0.44783988810639935,1.0406714347269017,0.3614670799895055,0.771737918544753,1.352791354967497,-1.3934713394764837,1.1584525367044842,-1.2285777967078673,0.4026904656816595,0.03953206791744475,2.324485446282558,1.0445974714594874,0.3712821718209708,0.021864902620807165,-0.8654193989436524,-0.5552624970693505,0.8286654511672518,0.7776269736436324,-1.8371134902587138,-1.9117081881778497,1.4921656589743033,-0.6004119194940903,0.13964600459839033,-0.7201560398379669,0.045421123016323575,-2.433871073611802,-3.071852042657044,-0.9144948581009787,-1.5014373496226017,-1.3326177701213993,0.22209277598269833,0.3437999146928679,-0.5297432583075405,0.5832881553806202,-2.0942688962431038,0.3222067126636445,-1.6643678740249253,0.1612392066276138,0.4929893105311398,-0.7358601867683111,2.0516258933678233,0.4262466860771759,1.3763475753630134,-0.989089556020115,0.6794760553289798,-1.3934713394764837,-0.7397862235008975,-0.1862150442062563,-0.15676976871186052,1.2624925101180162,-2.895180389690669,1.435238126351805,0.6971432206256174,-0.3962580093996133,-0.08610110752531074,-0.6867847276109847,0.4439138513738135,-0.4944089277142659,-0.07628601569384547,-0.9360880601302027,-0.32755236657935644,-0.5709666439996945,1.331198152938273,-0.9046797662695135,0.8031462124054424,1.0053371041336265,-0.19603013603772157,-0.5061870379120241,0.6991062389919104,-1.279616274231487,0.8875560021560434,2.410858254399452,0.07486639851071937,-0.7810096091930515,-0.29025501761978834,0.04345810465003063,1.7650252118890382,1.0897468938842279,-1.1186487681954564,0.84044356136501,-0.22547541153211736,1.2644555284843098,0.7697749001784602,-3.0993342997851467,-0.8222329948852055,0.40857952078053833,-0.6004119194940903,0.18872146375571663,-0.8811235458739971,0.004197737324169579,0.18086939029054433,-1.2207257232426953,1.0053371041336265,0.3614670799895055,-0.07039696059496608,0.19853655558718192,-2.5418370837579194,-1.7821489760025084,-0.6671545439480542,-0.7280081133031387,-0.4433704501906461,2.2773730054915244,-1.5701429924428585,1.755210120057573,1.7198757894642978,-1.1539830987887316,1.5962056323878353,-1.662404855658632,0.3261327493962303,-1.4072124680405353,-0.616116066424435,0.381097263652436,-1.1402419702246798,-2.3474982654949077,-1.8508546188227653,-0.08610110752531074,-0.8909386377054623,-1.0833144376021817,0.5538428798862244,2.1360356831184246,0.1435720413309762,-1.318876641557348,0.4439138513738135,0.6578828532997564,-0.20977126460177328,-0.41392517469625034,0.8051092307717354,-1.179502337550541,0.12786789440063212,-0.19014108093884274,-1.0872404743347677,1.191823848931467,-0.88308656424029,0.4360617779086412,0.8227763960683729,-0.7829726275593445,1.6786524037721433,-0.28240294415461603,-1.662404855658632,-0.2568837053928061,2.35785675850954,-0.6789326541458124,0.04345810465003063,0.9366314613133696,-0.26866181559056485,0.9385944796796626,1.2134170509606899,0.4812112003333816,-0.7338971684020181,-0.36877575227151044,1.386162667194479,-1.3581370088832092,-0.7437122602334834,1.2958638223449979,0.2829463453377834,0.7697749001784602,-0.9930155927527009,0.4753221452345022,2.0791081504959266,0.9641137184414724,-1.0813514192358882,1.235010252989914,-1.6722199474900972,-0.25295766866022024,0.9719657919066448,-0.9773114458223567,-1.1539830987887316,0.6618088900323422,-0.9439401335953745,0.027753957719686546,0.6304005961716536,-0.698562837808743,0.5499168431536384,-0.6435983235525378,-0.6494873786514166,-1.110796694730284,2.298966207520748,-0.09591619935677599,0.06308828831296116,-0.6416353051862449,1.7473580465924001,-0.037025648367984415,-2.325905063465684,0.10038563727252928,-0.9419771152290816,0.8581107266616476,0.5872141921132066,-0.11554638301970653,-0.8929016560717553,-0.09199016262419012,1.2251951611584486,1.7826923771856753,0.9621507000751796,0.3045395473670069,0.6264745594390676,-0.5611515521682293,-1.1677242273527826,0.2652791800411458,0.15338713316244149,-0.6946368010761571,-1.695776167885614,0.21424070251752655,0.4026904656816595,0.027753957719686546,-0.33344142167823526,0.21227768415123305,0.8208133777020794,1.2978268407112914,0.5499168431536384,-0.6808956725121059,-0.42177724816142265,-0.41785121142883674,1.1034880224482797,-0.15676976871186052,-2.7832883428119652,-1.3051355129932964,-0.029173574902812093,-0.2333274849972897,-2.1708266125285327,-1.06957330903813,-0.989089556020115,-1.6035143046698404,0.06701432504554761,0.46550705340303694,-0.4433704501906461,0.6441417247357046,0.3477259514254538,0.17105429845907905,-0.9596442805257192,-0.4944089277142659,0.9248533511156114,0.4105425391468318,-0.4944089277142659,0.5165455309266562,0.07290338014442642,0.4066165024142454,0.9248533511156114,0.12983091276692507,0.44587686974010643,-0.30988520128271885,-0.037025648367984415,0.7638858450795813,-0.5886338092963321,-0.9989046478515803,-0.03506263000169148,0.44587686974010643,-0.09395318099048305,-0.6789326541458124,1.421496997787754,0.8561477082953546,-1.915634224910436,0.10038563727252928,0.9052231674526808,-0.4080361195973715,-2.351424302227494,1.1466744265067266,-0.8791605275077041,1.8141006710463645,1.3076419325427566,0.04345810465003063,-0.23921654009616908,0.7128473675559615,0.8973710939875086,0.585251173746913,-1.5230305516518254,0.4439138513738135,0.4674700717693299,-1.214836668143816,-1.1579091355213174,0.19853655558718192,-0.69659981944245,1.0995619857156926,-0.054692813664622,0.29079841880295515,0.4674700717693299,0.45765497993786464,-0.23529050336358262,-0.6121900296918491,0.25546408820968053,0.7795899920099254,-0.9341250417639093,-0.6907107643435711,-1.4150645415057073,-1.2109106314112301,-0.5415213685052988,0.13375694949951095,0.0944965821736499,0.21424070251752655,0.32809576776252325,-0.46692667058616305,0.12394185766804568,-0.8948646744380482,-0.41785121142883674,-1.134352915125801,0.84044356136501,-1.3856192660113114,1.7473580465924001,-0.6514503970177101,0.1082377107377016,0.25546408820968053,-0.38447989920185455,-0.6416353051862449,1.3900887039270646,-1.9274123351081942,-0.11750940138599947,-0.21762333806694503,0.754070753248116,-0.8516782703796013,-0.09199016262419012,-1.0244238866133901,-0.4315923399928879,-0.6887477459772777,0.8188503593357864,0.3261327493962303,0.5597319349851038,0.7678118818121672,0.4537289432052788,-2.8343268203355847,0.15731316989502792,1.009263140866213,-0.6769696357795195,0.6853651104278592,-1.3816932292787256,0.25939012494226643,0.2652791800411458,0.6382526696368258,1.1290072612100885,0.4007274473153666,0.09253356380735694,1.274270620315775,-0.09984223608936188,0.09842261890623633,-0.3962580093996133,0.799220175672856,0.9680397551740584,-0.6220051215233143,0.6951802022593244,0.5263606227581215,0.24957503311080118,0.4812112003333816,0.03756904955115181,-0.6298571949884861,0.7815530103762184,-0.3373674584108217,0.07486639851071937,1.1211551877449166,0.5832881553806202,0.506730439095191,-0.32362632984677,-0.6200421031570208,1.0740427469538834,0.15927618826132087,-0.5611515521682293,-0.09591619935677599,0.5832881553806202,1.0563755816572458,0.60880739414243,-0.20584522786918683,0.26724219840743874,0.60880739414243,-1.3954343578427766,-0.5984489011277974,-0.31184821964901177,0.012049810789341902,-0.30203312781754654,0.9307424062144908,0.7913681022076836,-1.2933574027955381,-0.7476382969660693,0.25546408820968053,-0.7123039663727947,1.0779687836864698,0.15731316989502792,1.7983965241160198,1.252677418286551,0.33791085959398853,-1.4641400006630338,0.012049810789341902,0.8561477082953546,1.521610934468699,1.356717391700083,1.2212691244258629,0.18086939029054433,-0.9105688213683929,0.2692052167737317,-1.4955482945237226,0.9994480490347476,0.6539568165671699,-0.011506409606174509,-1.2482079803707977,-0.24314257682875495,0.7913681022076836,0.21816673925011243,0.6402156880031188,1.3194200427405154,-0.7594164071638281,0.6775130369626868,0.39876442894907305,2.51882426454557,-0.49637194608055885,-1.2285777967078673,0.5813251370143272,-0.9282359866650305,1.2212691244258629,-0.31381123801530475,-0.28240294415461603,0.09057054544106401,-0.7672684806289998,-0.2568837053928061,1.0445974714594874,-0.47870478078392126,-0.6926737827098641,-2.3847956144544753,0.2829463453377834,1.460757365113615,0.19853655558718192,-0.5002979828131447,-0.054692813664622,0.4046534840479524,-1.2069845946786437,0.5381387329558802,-0.31773727474789115,-0.28436596252090895,0.6029183390435506,-1.0440540702763206,0.8698888368594058,0.5577689166188108,-1.46806603739562,-0.6377092684536584,0.27116823514002464,-0.8399001601818431,0.32024369429735094,0.3928753738501942,1.339050226403446,0.019901884254514224,-2.1629745390633603,-0.8006397928559821,-0.24706861356134083,-0.16658486054332577,0.1867584453894237,-0.7338971684020181,0.5989923023109648,1.2134170509606899,0.017938865888221283,0.318280675931058,0.4380247962749341,0.7874420654750978,0.07486639851071937,0.3968014105827801,-1.5014373496226017,0.6284375778053606,-2.618394800043349,0.730514532852599,0.9876699388369888,0.463544035036744,-0.41392517469625034,-0.10965732792082715,1.2153800693269834,-0.7476382969660693,-0.13125052995005118,0.5008413839963122,-0.23921654009616908,0.8149243226032006,-2.5398740653916265,1.4116819059562886,-1.5171414965529462,1.7434320098598142,1.1721936652685365,-0.7535273520649487,0.3968014105827801,-0.9282359866650305,-1.1009816028988189,-0.8713084540425318,0.5263606227581215,-1.4248796333371727,-0.08021205242643135,0.14160902296468328,1.3370872080371525,-0.7751205540941721,-0.1626588238107399,0.5381387329558802,0.36931915345467725,-0.05665583203091494,0.08468149034218463,-2.0039700513936234,0.4713961085019163,1.3626064467989625,0.6323636145379464,0.22994484944787064,-0.15676976871186052,0.6441417247357046,0.08075545360959875,1.8926214056980866,-0.1921040993051357,-0.3354044400445282,-1.150057062056145,-0.5591885338019363,0.3163176575647651,0.4144685758794177,-0.802602811222275,-0.10180525445565539,-0.5690036256334016,1.7493210649586937,-0.07432299732755253,1.439164163084391,0.8541846899290616,1.2036019591292246,0.6735870002301004,0.3771712269198496,0.6951802022593244,0.838480542998717,0.16712826172649317,-0.2706248339568578,0.17105429845907905,-0.22743842989841032,-1.0636842539392513,-0.5670406072671087,-0.5709666439996945,-0.7476382969660693,1.6649112752080921,0.4066165024142454,-0.26669879722427137,-0.9635703172583051,-1.6368856168968224,0.17694335355795843,2.5855668889995345,0.691254165526738,-1.5583648822451002,0.18479542702313076,-0.19603013603772157,-0.8575673254784807,1.2546404366528445,0.13964600459839033,0.3025765290007139,0.730514532852599,-1.546586772047342,0.3889493371176078,0.3045395473670069,0.12590487603433917,-0.7260450949368458,-1.2383928885393325,1.9848832689138598,1.2408993080887933,-0.36092367880633813,-0.8575673254784807,-2.320016008366805,0.012049810789341902,0.6225485227064812,-0.1332135483163441,-1.3267287150225198,-0.9478661703279609,-0.7319341500357252,-0.34325651350970054,-0.6671545439480542,-1.2069845946786437,0.46550705340303694,-0.47870478078392126,1.3096049509090502,1.8867323505992073,-0.6769696357795195,2.020217599507135,-0.9616072988920121,-0.26473577885797844,1.2094910142281041,-1.0342389784448554,1.916177626093603,0.041495086283737694,1.5137588610035273,-0.7319341500357252,0.38698631875131484,-0.6377092684536584,-0.6337832317210725,1.4568313283810292,-0.48066779915021424,-0.386442917568148,2.0692930586644613,0.4203576309782971,0.14749807806356266,-0.7908247010245167,-1.1186487681954564,1.1800457387337082,-0.005617354507295684,0.5558058982525172,-0.5238542032086617,0.862036763394234,-0.5532994787030575,-0.07039696059496608,0.21227768415123305,-1.322802678289934,0.6873281287941522,-0.6534134153840031,0.30061351063442043,-0.28240294415461603,-0.5788187174648669,0.504767420728898,-0.5434843868715923,-0.2863289808872019,-0.18817806257254927,0.173017316825372,-2.1217511533712066,-1.9411534636722456,-1.279616274231487,-0.6435983235525378,0.21816673925011243,0.11412676583658042,-0.39036895430073393,-0.6769696357795195,1.5274999895675783,-0.5572255154356434,0.38698631875131484,1.439164163084391,0.2809833269714899,-1.2462449620045049,-1.1932434661145925,0.918964296016732,0.7049952940907898,-0.4571115787546978,-1.3973973762090701,-1.7212954066474235,-1.6251075066990641,-0.05665583203091494,0.5165455309266562,-0.6416353051862449,-0.47870478078392126,-0.9007537295369276,-0.7103409480065017,-0.07235997896125959,-0.5984489011277974,0.9680397551740584,-0.9655333356245985,0.09253356380735694,-0.07432299732755253,0.1749803351916655,-1.6447376903619948,2.393191089102815,1.2153800693269834,-1.5721060108091518,1.8710282036688626,-1.1127597130965776,-0.05272979529832906,-0.6514503970177101,-0.9164578764672723,-0.031136593269105034,-0.5356323134064199,1.5706863936260254,-1.2855053293303658,0.08860752707477107,0.5989923023109648,2.9546143418626274,-0.3962580093996133,0.14946109642985558,0.6971432206256174,0.19657353722088897,0.6735870002301004,1.8356938730755874,-0.6377092684536584,1.1054510408145721,0.6362896512705329,1.7061346609002466,0.24957503311080118,-0.533669295040127,-0.7574533887975345,-0.6298571949884861,-0.16462184217703285,-1.1677242273527826,0.9464465531448348,0.012049810789341902,-0.6259311582559002,1.837656891441881,-0.03898866673427736,-0.6357462500873655,-1.6643678740249253,1.4313120896192193,0.023827920987100105,-1.1579091355213174,-0.7731575357278792,0.6971432206256174,2.3912280707365214,0.2888354004366622,-0.40999913796366444,-1.2030585579460578,-0.48263081751650716,0.7874420654750978,-0.5081500562783171,0.2731312535063181,-1.8567436739216443,0.714810385922255,0.29668747390183453,-1.809631233130611,-0.7417492418671905,-1.2128736497775232,0.9287793878481972,0.6146964492413088,-0.8320480867166707,-1.214836668143816,-0.8654193989436524,-0.34718255024228695,-0.7986767744896891,0.4301727228097624,0.7442556614166508,-1.511252441454067,-0.5552624970693505,-0.5022610011794377,1.378310593729307,-0.32166331148047705,1.5235739528349925,-0.6239681398896073,0.6166594676076024,0.4046534840479524,-0.6514503970177101,0.9621507000751796,0.5499168431536384,0.15535015152873496,1.4195339794214605,0.8051092307717354,-1.0852774559684746,-1.150057062056145,-0.885049582606583,-0.27455087068944367,0.36735613508838433,0.20049957395347484,-0.29221803598608126,0.3477259514254538,-0.09199016262419012,0.004197737324169579,0.17694335355795843,-0.6082639929592627,-0.7888616826582239,-1.6761459842226833,0.7854790471088048,0.7913681022076836,-0.18817806257254927,-1.5858471393732032,-0.7829726275593445,1.1427483897741406,0.983743902104403,0.26135314330855935,-1.81552028822949,0.8325914878998382,0.16320222499390674,-0.9773114458223567,-1.0224608682470966,1.4902026406080109,-1.7487776637755263,0.3163176575647651,-0.8104548846874473,0.6951802022593244,-0.5847077725637463,1.0995619857156926,2.0221806178734276,1.174156683634829,1.3802736120955994,1.9279557362913617,0.131793931133218,0.10431167400511515,0.8914820388886298,-1.2992464578944176,0.20835164741864717,1.1329332979426754,-0.6278941766221932,0.16712826172649317,1.148637444873019,-0.6396722868199514,-0.6200421031570208,0.9052231674526808,-1.4916222577911364,0.15535015152873496,1.1643415918033637,-0.5847077725637463,-1.5132154598203602,-0.5061870379120241,0.4812112003333816,1.195749885664053,0.6343266329042394,0.714810385922255,-0.8732714724088247,1.4293490712529258,1.0544125632909527,0.4066165024142454,-2.192419814557756,0.3889493371176078,0.9739288102729378,0.3850233003850219,0.10038563727252928,-0.8497152520133083,-0.6357462500873655,1.6786524037721433,0.8836299654234574,-0.8084918663211543,-0.6102270113255556,-1.1853913926494202,0.6382526696368258,0.4340987595423482,0.8051092307717354,0.5243976043918286,0.22012975761640538,0.12786789440063212,1.1545264999718983,0.44783988810639935,1.2251951611584486,-1.2678381640337282,0.14749807806356266,0.9209273143830256,-0.6435983235525378,-0.013469427972468008,0.544027788054759,1.2094910142281041,-0.7790465908267585,0.5989923023109648,-1.44254679863381,-0.08021205242643135,0.797257157306563,0.45961799830415817,0.7442556614166508,-0.7221190582042599,0.3241697310299374,0.3143546391984721,-1.1461310253235593,-0.17639995237479106,-0.6887477459772777,0.877740910324578,-1.2069845946786437,-0.9400140968627887,-0.47870478078392126,0.07682941687701286,-0.058618850397207885,-0.6534134153840031,1.3174570243742219,0.22994484944787064,1.4744984936776662,0.44783988810639935,1.0288933245291434,2.0182545811408414,-0.30203312781754654,-2.4044257981174058,-1.848891600456472,-0.48066779915021424,0.8659628001268198,0.44783988810639935,-0.49637194608055885,0.19461051885459602,-0.8006397928559821,-0.8065288479548609,-0.2038822095028939,-0.6435983235525378,1.0347823796280222,-0.6534134153840031,-1.1402419702246798,1.9888093056464458,1.6806154221384366,1.2624925101180162,1.378310593729307,1.3999037957585299,-0.7908247010245167,1.0171152143313846,1.4018668141248234,1.199675922396639,-0.26080974212539254,-0.9969416294852873,0.4713961085019163,1.4254230345203398,1.0269303061628499,0.36735613508838433,-1.5014373496226017,1.021041251063971,0.5989923023109648,-0.08217507079272485,-0.6867847276109847,0.6225485227064812,-0.5002979828131447,-1.0067567213167525,0.7069583124570826,0.5145825125603632,0.004197737324169579,0.6186224859738954,-0.4983349644468518,-1.8312244351598348,1.6177988344170593,-1.2855053293303658,-0.30399614618383947,1.062264636756125,-1.2442819436382118,-0.21369730133435916,-2.1943828329240493,1.091709912250521,0.21227768415123305,-1.5858471393732032,0.09645960053994339,-0.9459031519616681,-2.653729130636624,0.7246254777537202,-0.924309949932444,0.5872141921132066,0.33398482286140263,-0.6141530480581421,-1.1952064844808856,-1.7114803148159583,-0.03309961163539853,-1.336543806853985,-0.005617354507295684,-0.19014108093884274,0.047384141382617075,-1.4445098170001032,-0.9321620233976163,-0.05272979529832906,0.07486639851071937,-2.1570854839644813,1.464683401846201,-0.802602811222275,0.17105429845907905,0.27116823514002464,1.1015250040819862,-0.655376433750296,-1.7095172964496654,-0.8909386377054623,-0.23529050336358262,0.5243976043918286,-0.7417492418671905,-1.4602139639304477,0.0022347189578766375,-0.4865568542490936,0.09645960053994339,1.119192169378623,0.047384141382617075,0.22012975761640538,0.836517524632424,1.3429762631360318,-1.3149506048247617,-0.36092367880633813,0.4890632737985539,0.12983091276692507,0.07290338014442642,-1.5779950659080308,1.3233460794731013,-2.967812069243512,0.9660767368077654,0.8149243226032006,-0.01935848307134683,-0.23725352172987557,-0.5984489011277974,0.8993341123538015,-0.31970029311418413,0.24564899637821527,0.771737918544753,-1.0067567213167525,-0.0841380891590178,0.16712826172649317,-0.6259311582559002,-0.427666303260302,-1.134352915125801,1.0838578387853486,0.5891772104794996,0.504767420728898,0.5479538247873456,-1.25606005383597,-0.6514503970177101,-0.2882919992534954,0.20638862905235422,0.3222067126636445,-1.0185348315145109,1.2939008039787054,-0.8399001601818431,1.1329332979426754,1.9515119566868782,-1.3797302109124325,-0.12928751158375767,-0.11358336465341358,-0.7594164071638281,-0.43551837672547433,-0.2706248339568578,-0.7594164071638281,0.09253356380735694,0.08271847197589169,-1.2639121273011424,0.6441417247357046,0.19068448212200959,-0.29614407271866716,-0.2117342829680662,-0.12928751158375767,-0.2038822095028939,-0.5572255154356434,-1.026386904979683,1.174156683634829,-0.5434843868715923,0.9111122225515602,0.5872141921132066,-0.43551837672547433,-0.34325651350970054,-1.9804138309981065,-0.1332135483163441,-0.1253614748511718,-0.9557182437931333,0.15338713316244149,1.564797338527147,0.8954080756212156,1.5294630079338718,1.543204136497923,0.17105429845907905,1.751284083324987,0.5577689166188108,0.18086939029054433,-0.48066779915021424,-0.07235997896125959,1.2369732713562063,-0.1489176952466882,-0.6455613419188307,1.503943769172062,-0.1332135483163441,-0.3962580093996133,-0.6200421031570208,0.17694335355795843,-1.5642539373439794,0.2633161616748529,0.689291147160445,0.2652791800411458,-1.428805670069759,-0.42374026652771557,0.8247394144346658,1.3096049509090502,0.42820970444346884,1.3626064467989625,-1.4268426517034656,0.16712826172649317,0.7265884961200132,1.062264636756125,0.5989923023109648,-0.6239681398896073,0.9896329572032824,-0.4315923399928879,2.238112638165663,-1.6820350393215626,0.7874420654750978,1.8631761302036909,-1.2030585579460578,1.0858208571516414,-1.2678381640337282,-0.4747787440513354,-0.0036543361410027436,1.973105158716101,-2.0805277676790523,-0.2117342829680662,-0.36877575227151044,-0.46692667058616305,-0.9262729682987375,1.2840857121472402,0.23779692291304297,-0.2117342829680662,2.322522427916265,0.6814390736952728,0.6225485227064812,0.7422926430503572,-0.8536412887458943,-1.7095172964496654,-0.2333274849972897,1.4587943467473214,1.050486526558367,-0.6769696357795195,-0.12928751158375767,0.3123916208321792,0.017938865888221283,-0.3000701094512536,0.6382526696368258,-0.7810096091930515,1.443090199816977,0.2319078678141636,0.8090352675043212,-0.4649636522198701,-1.4405837802675172,0.17694335355795843,1.0838578387853486,-0.46888968895245603,-1.4523618904652753,-0.7437122602334834,-0.34129349514340757,0.3104286024658857,1.4882396222417174,-0.8399001601818431,-0.7751205540941721,-0.39233197266702685,0.1082377107377016,-1.843002545357593,0.7737009369110466,1.009263140866213,-0.1449916585141023,-0.4257032848940091,0.4792481819670887,0.4753221452345022,0.4105425391468318,1.7277278629294694,0.11412676583658042,0.6794760553289798,0.12983091276692507,-1.2501709987370913,0.3437999146928679,0.19264750048830254,-1.5348086618495835,-0.5964858827615045,-0.6416353051862449,1.2075279958618106,0.47728516360079515,-0.7260450949368458,2.045736838268945,-1.1166857498291634,-1.201095539579765,-0.40411008286478506,0.9052231674526808,1.1034880224482797,-1.507326404721481,1.256603455019137,-0.35699764207375223,2.7386823215703915,-0.9007537295369276,1.9259927179250682,1.305678914176463,1.0230042694302641,0.8463326164638894,0.9935589939358682,0.07290338014442642,-0.6259311582559002,-0.058618850397207885,0.506730439095191,0.21816673925011243,-0.6867847276109847,-0.42177724816142265,-2.180641704359998,-0.21762333806694503,0.19657353722088897,-1.014608794781925,1.2330472346236205,-0.1430286401478094,-1.5014373496226017,0.11020072910399453,0.8325914878998382,1.651170146644041,1.2919377856124121,-0.5317062766738335,2.328411483015144,-0.45907459712099075,1.013189177598799,0.22012975761640538,0.5891772104794996,-0.31184821964901177,1.8062485975811917,0.42820970444346884,-0.364849715538924,-1.509289423087774,-0.38447989920185455,1.8435459465407602,-1.58388412100691,-1.2246517599752813,0.6991062389919104,-1.5583648822451002,0.3968014105827801,-1.097055566166233,-0.19995617277030803,0.506730439095191,-0.5788187174648669,2.0221806178734276,1.6649112752080921,-0.5866707909300392,-0.2588467237590996,-0.4198142297951297,0.9307424062144908,-1.4248796333371727,0.9523356082437142,0.16909128009278612,-0.8045658295885679,-1.1245378232943357,-1.297283439528124,-0.22743842989841032,0.2319078678141636,0.4537289432052788,0.3143546391984721,0.9876699388369888,0.09057054544106401,-1.7821489760025084,-0.15284373197927464,-0.9360880601302027,-1.5681799740765656,-0.41392517469625034,-0.03506263000169148,-0.013469427972468008,-1.1049076396314053,0.4812112003333816,-0.5768556990985739,-0.09199016262419012,0.21816673925011243,0.1867584453894237,-0.44729648692323254,0.21816673925011243,-0.7044518929076223,-0.7594164071638281,-2.5752083959849017,-0.37270178900409634,-0.6475243602851237,0.650030779834584,-0.09395318099048305,-1.0342389784448554,0.059162251580375275,-0.31970029311418413,0.714810385922255,0.0650513066792541,1.036745397994315,0.4262466860771759,-0.18425202583996336,-0.5258172215749547,0.5538428798862244,1.2114540325943977,-0.8124179030537403,0.17890637192425138,-1.0852774559684746,0.09253356380735694,0.944483534778542,1.0190782326976782,-0.29221803598608126,2.224371509601612,0.1082377107377016,0.23779692291304297,-1.5681799740765656,-0.5984489011277974,-0.29221803598608126,-0.6494873786514166,-0.8889756193391694,-1.44254679863381,1.1682676285359495,0.714810385922255,-0.17836297074108398,-1.6584788189260458,-0.44140743182435316,0.7383666063177714,0.3653931167220914,-0.8006397928559821,0.7010692573582032,1.5000177324394761,0.041495086283737694,-0.9753484274560639,0.6284375778053606,-0.8065288479548609,-0.5218911848423682,2.0300326913386004,0.6559198349334634,0.8208133777020794,-0.08217507079272485,0.8639997817605269,0.9091492041852668,-2.6380249837062792,-0.26277276049168546,0.25546408820968053,1.0328193612617294,0.0944965821736499,1.2840857121472402,0.5950662655783784,0.7187364226548408,-1.6192184516001848,-1.3463588986854504,0.9700027735403518,0.7403296246840644,-0.69659981944245,-1.0499431253751994,0.05523621484778884,2.206704344304975,2.6562355501860835,-0.24314257682875495,1.1839717754662942,-0.20780824623547978,0.8698888368594058,-0.9184208948335651,-0.5964858827615045,1.5883535589226634,-1.2266147783415742,-0.9910525743864079,0.20049957395347484,-1.7173693699148374,1.2291211978910346,0.8561477082953546,0.3771712269198496,0.5008413839963122,1.7532471016912794,-0.06647092386238021,0.33398482286140263,-0.01935848307134683,-2.0569715472835357,0.6146964492413088,-0.8457892152807219,1.4254230345203398,0.7501447165155296,-1.0401280335437342,-0.029173574902812093,-0.7868986642919303,-1.1814653559168344,-0.6200421031570208,0.01008679242304896,-0.8987907111706347,-0.9360880601302027,-0.1253614748511718,0.585251173746913,0.6245115410727742,-0.5454474052378852,-0.7044518929076223,0.6539568165671699,-1.3267287150225198,-1.360100027249502,-0.34129349514340757,0.650030779834584,1.2821226937809467,1.0073001224999194,-0.3157742563815977,-1.7821489760025084,0.7403296246840644,-0.20780824623547978,0.2515380514770941,1.3488653182349113,-2.351424302227494,-0.5002979828131447,-0.10965732792082715,-0.1489176952466882,-0.885049582606583,-1.1265008416606286,1.8298048179767092,0.2319078678141636,-0.03898866673427736,-0.46692667058616305,0.0650513066792541,1.7179127710980042,-0.0016913177747092446,-0.924309949932444,1.6649112752080921,1.486276603875425,-0.6926737827098641,-0.037025648367984415,-1.0420910519100273,-0.7731575357278792,1.1074140591808654,-0.26866181559056485,-0.9282359866650305,-0.40214706449849213,0.7030322757244962,-0.08021205242643135,-0.058618850397207885,0.7246254777537202,0.03756904955115181,0.19264750048830254,0.18086939029054433,0.9287793878481972,-0.1332135483163441,1.1564895183381918,0.1435720413309762,0.8306284695335446,2.2557798034623016,0.5616949533513966,0.9601876817088866,-0.6239681398896073,-0.3059591645501324,-0.9262729682987375,-1.0028306845841661,-0.8713084540425318,-2.14334435540043,0.48317421869967453,0.5911402288457924,0.05523621484778884,0.22209277598269833,0.9111122225515602,0.650030779834584,-0.4649636522198701,-0.9282359866650305,-0.40214706449849213,-1.071536327404423,-0.5866707909300392,-1.177539319184248,0.8738148735919922,-0.7554903704312416,0.4988783656300192,1.3331611713045666,-0.9832005009212356,-0.5631145705345227,1.708097679266539,-0.8614933622110665,1.5490931915968025,1.833730854709295,0.12786789440063212,-0.9301990050313234,1.6943565507024878,1.2389362897224998,-1.3581370088832092,-0.3530716053411658,0.9876699388369888,1.305678914176463,-1.1480940436898521,-0.7554903704312416,-0.8752344907751177,0.019901884254514224,-0.8713084540425318,0.504767420728898,0.8129613042369076,1.1152661326460374,1.386162667194479,-0.4158881930625438,-0.007580372873588626,0.2279818310815777,-0.7299711316694323,-1.2619491089348494,-1.1186487681954564,0.650030779834584,-0.31773727474789115,0.20835164741864717,0.0944965821736499,0.2652791800411458,-0.7770835724604651,0.17890637192425138,-1.0793884008695953,0.5499168431536384,-0.8634563805773595,0.3968014105827801,-1.5328456434832907,-0.42962932162659495,0.6618088900323422,-0.9910525743864079,1.0269303061628499,1.2094910142281041,0.47728516360079515,0.6304005961716536,-0.6396722868199514,0.16320222499390674,-0.36877575227151044,1.036745397994315,1.360643428432669,1.6649112752080921,1.3292351345719806,-0.5984489011277974,0.4556919615715717,1.235010252989914,2.3343005381140234,-0.15873278707815347,3.0193939479502983,0.4026904656816595,0.15338713316244149,-0.7162300031053805,-0.9871265376538221,0.6814390736952728,-0.6926737827098641,-0.19799315440401452,1.2585664733854305,-2.066786639115001,-0.4433704501906461,0.5754360819154478,-0.24903163192763433,0.8424065797313034,-1.1049076396314053,0.5145825125603632,-0.9321620233976163,-0.40018404613219916,0.051310178115202956,-0.41392517469625034,0.612733430875016,0.24761201474450822,-0.616116066424435,-0.07628601569384547,-0.2038822095028939,-1.1677242273527826,0.7933311205739771,0.20835164741864717,0.3555780248906261,0.5145825125603632,-0.11162034628712064,0.2240557943489918,0.00616075569046252,0.059162251580375275,1.5863905405563699,-1.218762704876402,1.5530192283293882,-0.51011307464461,0.918964296016732,-0.655376433750296,-0.43551837672547433,-0.6082639929592627,2.2479277299971283,0.7638858450795813,-0.9478661703279609,-1.138278951858387,0.06701432504554761,-0.09199016262419012,-1.1657612089864897,1.3763475753630134,0.7010692573582032,-0.3962580093996133,0.20049957395347484,-0.2117342829680662,0.012049810789341902,0.11412676583658042,-1.3915083211101908,-0.35699764207375223,-0.5729296623659881,1.8749542404014485,1.625650907882231,1.2114540325943977,-1.2069845946786437,-0.07235997896125959,0.5813251370143272,-0.36092367880633813,-1.6035143046698404,2.2027783075723892,-0.13517656668263706,0.8090352675043212,-1.0322759600785618,-0.36092367880633813,-0.27455087068944367,1.087783875517935,0.7128473675559615,-0.05665583203091494,0.2947244555355416,0.7521077348818226,-0.8300850683503779,1.0740427469538834,-0.07235997896125959,-0.655376433750296,1.144711408140433,-0.3059591645501324,0.3065025657332998,1.1250812244775026,0.3634300983557984,2.1262205912869594,-0.33933047677711464,-0.6632285072154683,0.5754360819154478,-1.1677242273527826,0.4046534840479524,0.2652791800411458,-0.29418105435237424,-0.9694593723571845,-0.26669879722427137,-0.8752344907751177,0.9739288102729378,0.33398482286140263,-1.509289423087774,-0.9733854090897703,0.16909128009278612,-1.2226887416089884,0.6578828532997564,0.004197737324169579,-1.509289423087774,-0.6750066174132265,0.23779692291304297,-0.6632285072154683,1.4627203834799074,-0.7201560398379669,2.289151115689283,-0.6494873786514166,-0.07039696059496608,-0.51011307464461,-0.9930155927527009,0.4321357411760553,2.440303529893848,1.4509422732821498,0.13964600459839033,-0.5317062766738335,-2.0373413636206053,-1.108833676363991,-1.2855053293303658,0.7364035879514784,-0.04487772183315674,-0.5493734419704711,0.6637719083986352,-1.4857332026922572,0.8757778919582851,1.199675922396639,1.0818948204190557,-0.29418105435237424,-0.43944441345806023,-1.2639121273011424,0.24368597801192235,-2.184567741092584,-1.4327317068023449,-0.8654193989436524,-0.7633424438964139,-1.1952064844808856,-1.2246517599752813,-1.132389896759508,1.6629482568417997,0.4615810166704511,-0.009543391239881568,0.33005878612881623,3.2058806927481385,1.1034880224482797,-0.924309949932444,-0.22743842989841032,1.0524495449246598,0.22209277598269833,-0.9596442805257192,0.18872146375571663,0.3163176575647651,0.4851372370659675,-0.09787921772306894,-0.38840593593444095,-0.7456752785997763,0.6166594676076024,0.03953206791744475,1.3743845569967201,-0.5690036256334016,-1.0401280335437342,1.2173430876932758,-0.9164578764672723,1.6276139262485245,-0.4649636522198701,-0.26277276049168546,-0.29418105435237424,1.2683815652168957,2.2184824545027326,2.4422665482601413,-0.9871265376538221,-1.320839659923641,-0.02328451980393327,-0.4433704501906461,0.7128473675559615,0.6775130369626868,0.9641137184414724,1.0406714347269017,0.24368597801192235,0.2279818310815777,-0.6023749378603839,-0.5827447541974533,0.8502586531964752,0.2240557943489918,1.2389362897224998,0.2829463453377834,0.9130752409178532,-1.434694725168638,-1.9058191330789707,1.812137652680071,1.0936729306168145,0.46550705340303694,0.9052231674526808,0.22209277598269833,-1.6584788189260458,0.60880739414243,-0.41392517469625034,-1.362063045615795,-0.07432299732755253,0.9876699388369888,0.16320222499390674,-1.3385068252202785,0.07094036177813348,0.21227768415123305,-0.9439401335953745,1.759136156790159,-0.9321620233976163,-1.8960040412475054,-1.132389896759508,0.25939012494226643,1.066190673488711,-0.11750940138599947,-0.7005258561750365,-1.110796694730284,-0.09984223608936188,-0.26277276049168546,0.2927614371692487,0.0022347189578766375,0.2692052167737317,-1.403286431307949,0.4694330901356234,-1.0597582172066649,0.3241697310299374,-0.5297432583075405,-0.8713084540425318,-1.1206117865617493,0.019901884254514224,0.2750942718726111,-1.2619491089348494,0.2888354004366622,-0.09002714425789661,0.26135314330855935,0.131793931133218,0.17694335355795843,-1.110796694730284,-0.37073877063780336,0.3261327493962303,-0.47674176241762833,-1.4562879271978615,-0.06058186876350083,-0.23136446663099675,1.1839717754662942,-1.2344668518067465,0.9307424062144908,0.8129613042369076,2.063404003565582,-0.7790465908267585,1.4902026406080109,-1.848891600456472,0.5734730635491548,1.0975989673494002,1.166304610169657,0.2947244555355416,-1.5662169557102725,1.0033740857673334,-0.41392517469625034,-0.25295766866022024,-0.5415213685052988,-1.923486298375608,1.5117958426372338,-1.1618351722539038,0.7265884961200132,-0.6455613419188307,-0.7653054622627069,-1.324765696656227,0.7265884961200132,-1.097055566166233,-0.15284373197927464,-1.1461310253235593,-0.8909386377054623,0.942520516412249,-0.9282359866650305,-0.1508807136129817,0.13964600459839033,0.1867584453894237,0.6441417247357046,-0.24706861356134083,1.3488653182349113,-1.1480940436898521,-1.2658751456674353,-0.26473577885797844,0.023827920987100105,-1.9882659044632789,-0.30988520128271885,0.4262466860771759,-0.25295766866022024,0.9778548470055236,0.9523356082437142,1.2840857121472402,-0.7103409480065017,1.0328193612617294,-0.36877575227151044,1.464683401846201,0.7795899920099254,0.5381387329558802,0.08860752707477107,0.6304005961716536,-1.1029446212651122,1.0053371041336265,-3.9336171054596942,2.084997205594806,-1.362063045615795,0.16516524336020025,-0.48066779915021424,0.11805280256916686,-2.1669005757959465,1.1074140591808654,1.1623785734370713,0.8031462124054424,1.1623785734370713,1.6943565507024878,0.2986504922681275,-0.02328451980393327,-0.20977126460177328,0.504767420728898,-0.6063009745929697,-0.013469427972468008,0.18479542702313076,-1.2855053293303658,-0.7299711316694323,-0.49637194608055885,0.277057290238904,-0.7574533887975345,1.382236630461893,0.6146964492413088,-0.24903163192763433,-1.1637981906201968,-1.3483219170517438,0.359504061623212,-1.0126457764156314,0.2829463453377834,0.15731316989502792,1.4764615120439597,-0.6514503970177101,0.4733591268682093,-0.6514503970177101,1.5844275221900777,-0.9635703172583051,-1.6015512863035475,-0.4944089277142659,-1.2325038334404537,-0.5925598460289185,-0.17247391564220516,0.3025765290007139,1.0269303061628499,0.4851372370659675,-1.4307686884360518,-0.25295766866022024,0.48710025543226043,-0.9419771152290816,1.0583386000235393,-1.0499431253751994,1.0485235081920738,1.733616918028349,-0.2117342829680662,-0.29221803598608126,-1.1166857498291634,1.3645694651652547,0.6618088900323422,-1.1814653559168344,-0.8281220499840849,0.30846558409959274,-1.6800720209552695,0.15535015152873496,-0.015432446338760949,-2.363202412425252,-0.16069580544444695,1.6766893854058509,0.6284375778053606,0.14160902296468328,-0.6475243602851237,-1.9450795004048318,0.9700027735403518,-0.5807817358311598,0.41643159424571063,0.18283240865683725,0.8325914878998382,-1.1559461171550245,-0.06450790549608727,-0.015432446338760949,-0.8968276928043417,0.4851372370659675,0.4812112003333816,1.1388223530415538,-0.8497152520133083,0.15142411479614853,-0.24314257682875495,0.7030322757244962,0.047384141382617075,-0.13713958504893,0.6402156880031188,-0.058618850397207885,1.2507143999202586,0.3653931167220914,-0.6514503970177101,-0.2156603197006521,-0.26277276049168546,-0.39036895430073393,-1.6447376903619948,1.331198152938273,-0.5277802399412476,0.44587686974010643,-0.7829726275593445,0.27116823514002464,-1.3954343578427766,-0.24314257682875495,-0.9184208948335651,0.07094036177813348,2.766164578698495,-1.2894313660629522,2.2361496197993707,-1.8115942514969041,-0.5022610011794377,0.7206994410211338,1.0544125632909527,-1.1402419702246798,1.1093770775471579,0.4439138513738135,-0.9341250417639093,1.629576944614817,-0.48066779915021424,-0.5964858827615045,0.5420647696884662,-1.0362019968111484,1.4509422732821498,-0.8163439397863261,0.9542986266100072,-0.6808956725121059,-0.17639995237479106,-0.16658486054332577,0.14749807806356266,-0.19603013603772157,0.22601881271528476,0.5224345860255356,-0.37662782573668274,-0.5317062766738335,-0.0409516851005703,-0.3530716053411658,-0.14695467688039526,0.7913681022076836,-0.8889756193391694,-0.15873278707815347,0.4066165024142454,-0.02328451980393327,0.019901884254514224,-0.1253614748511718,-0.7849356459256374,1.0975989673494002,-1.218762704876402,0.0650513066792541,0.012049810789341902,-0.36092367880633813,-1.1579091355213174,0.5832881553806202,-0.2882919992534954,-1.776259920903629,-0.8693454356762389,0.5891772104794996,2.3657088319747115,-1.6898871127867348,-0.6435983235525378,-0.4944089277142659,0.7697749001784602,0.24957503311080118,-0.36877575227151044,-0.26080974212539254,-0.8281220499840849,0.14160902296468328,1.7768033220867958,1.5117958426372338,0.2692052167737317,1.5274999895675783,-0.8673824173099459,0.07094036177813348,-0.40999913796366444,0.06701432504554761,-0.2882919992534954,0.5832881553806202,1.712023715999126,1.4293490712529258,-0.5356323134064199,0.4910262921648469,-1.25606005383597,1.937770828122827,-1.6192184516001848,1.0171152143313846,-1.0224608682470966,0.8718518552256992,-0.32166331148047705,-1.3993603945753632,0.0650513066792541,-1.0597582172066649,-0.42177724816142265,-1.8999300779800916,-0.14695467688039526,0.5616949533513966,-0.8202699765189125,-0.8968276928043417,-0.8791605275077041,0.11608978420287391,-1.028349923345976,-1.3012094762607105,-0.44729648692323254,0.4537289432052788,-0.427666303260302,-0.48066779915021424,0.530286659490708,-2.2297171635173245,0.04934715974891001,1.6786524037721433,1.8494350016396397,0.4615810166704511,1.4823505671428379,1.4843135855091314,-1.2933574027955381,-1.542660735314756,0.29668747390183453,-0.1076943095545342,-0.7633424438964139,0.46550705340303694,0.5813251370143272,0.25939012494226643,2.5993080175635854,1.0445974714594874,-0.5631145705345227,1.5000177324394761,-0.11358336465341358,-0.1253614748511718,-0.7123039663727947,0.3241697310299374,0.5538428798862244,1.305678914176463,0.6853651104278592,1.5706863936260254,-0.551336460336764,0.7128473675559615,-1.3483219170517438,-1.5367716802158768,0.7049952940907898,-0.8143809214200332,0.318280675931058,0.799220175672856,1.5549822466956817,-0.7711945173615863,0.4890632737985539,1.625650907882231,-0.2588467237590996,-0.9184208948335651,-0.04487772183315674,0.4144685758794177,0.32024369429735094,-0.5591885338019363,1.2173430876932758,-0.0016913177747092446,0.13375694949951095,0.5754360819154478,0.8738148735919922,0.9641137184414724,0.14946109642985558,0.7521077348818226,-0.6475243602851237,0.3359478412276956,-1.067610290671837,-1.4503988720989824,0.4301727228097624,0.7422926430503572,-0.35110858697487285,0.059162251580375275,0.42820970444346884,-1.283542310964073,1.6825784405047302,-1.6820350393215626,0.4556919615715717,0.2927614371692487,0.1612392066276138,-0.5964858827615045,0.09253356380735694,-0.6789326541458124,0.7638858450795813,-1.0047937029504597,0.5479538247873456,0.2044256106860613,-0.03506263000169148,0.754070753248116,0.6598458716660492,-0.6808956725121059,0.4969153472637257,-2.1276402084700856,1.6276139262485245,-1.0990185845325258,-1.1127597130965776,0.6539568165671699,-1.6859610760541488,0.36735613508838433,-0.2333274849972897,1.9652530852509293,0.1867584453894237,-0.07824903406013842,1.278196657048361,0.9601876817088866,-1.6388486352631153,1.6570592017429202,-0.20977126460177328,0.29668747390183453,-0.9223469315661511,1.7355799363946425,1.2860487305135326,2.9683554704266797,0.5518798615199314,2.3048552626196277,-1.2383928885393325,0.2888354004366622,-0.7437122602334834,-0.7417492418671905,0.6068443757761371,-0.19995617277030803,0.9052231674526808,0.8973710939875086,-0.8477522336470155,-0.7064149112739153,0.5008413839963122,-0.1862150442062563,0.2535010698433876,0.10431167400511515,-0.2235123931658244,-0.32951538494564936,0.03560603118485831,-1.360100027249502,-0.6043379562266767,0.2829463453377834,-0.8281220499840849,0.06112526994666822,0.3536150065243332,0.12394185766804568,-0.8399001601818431,1.1054510408145721,-0.25492068702651316,-0.6023749378603839,0.21816673925011243,-0.42177724816142265,0.569547026816569,0.569547026816569,-0.4728157256850419,-2.2866446961398226,-0.8791605275077041,1.4234600161540463,0.6696609634975146,2.214556417770147,0.21424070251752655,-1.5603279006113933,0.03953206791744475,1.5235739528349925,0.5813251370143272,0.3163176575647651,-0.38840593593444095,0.40857952078053833,-0.11358336465341358,-1.2599860905685565,0.6166594676076024,-1.511252441454067,-0.5179651481097823,0.20638862905235422,-0.48459383588280064,1.1878978121988801,0.3732451901872637,-1.5760320475417378,-0.009543391239881568,1.2644555284843098,2.946762268397456,0.2829463453377834,0.173017316825372,1.2978268407112914,0.35754104325691904,-0.22743842989841032,-0.40607310123107854,-1.9077821514452635,0.48317421869967453,-0.40018404613219916,0.08075545360959875,1.1348963163089678,-0.027210556536519152,1.5490931915968025,-0.16069580544444695,-0.27847690742203013,0.8227763960683729,-0.5022610011794377,-1.3777671925461397,-0.29221803598608126,-0.07039696059496608,-0.054692813664622,1.1152661326460374,0.047384141382617075,1.3900887039270646,0.8816669470571645,1.4450532181832705,-0.39036895430073393,0.5499168431536384,-1.8115942514969041,-0.6612654888491754,0.6814390736952728,-0.25492068702651316,0.41643159424571063,1.021041251063971,1.0936729306168145,1.5373150813990437,-1.8606697106542305,-0.19799315440401452,2.540417466574794,-0.8202699765189125,-0.5631145705345227,-1.3149506048247617,-2.628209891874814,-0.18817806257254927,-0.8320480867166707,0.3163176575647651,0.836517524632424,0.9484095715111278,0.008123774056756019,0.00616075569046252,0.7187364226548408,1.3940147406596506,1.4941286773405966,1.1721936652685365,0.3653931167220914,0.14160902296468328,-1.919560261643022,0.48710025543226043,-1.6035143046698404,1.199675922396639,-0.9773114458223567,0.33987387796028146,1.4548683100147357,1.7768033220867958,-1.0499431253751994,-1.0617212355729577,-0.06058186876350083,-0.5277802399412476,0.5401017513221732,-1.4248796333371727,-0.12339845648487885,-0.7574533887975345,2.0535889117341166,-0.9498291886942539,-1.5995882679372542,0.6264745594390676,0.4144685758794177,0.47728516360079515,-1.3934713394764837,-0.20780824623547978,-0.8241960132514985,0.8090352675043212,0.6461047431019982,0.2750942718726111,0.16712826172649317,-0.06058186876350083,-0.2333274849972897,1.339050226403446,-0.4315923399928879,1.4372011447180986,-0.9027167479032205,0.051310178115202956,0.8267024328009588,-0.6102270113255556,-0.2038822095028939,0.27116823514002464,-0.48263081751650716,-0.037025648367984415,-1.2325038334404537,0.38698631875131484,1.1898608305651734,-0.657339452116589,-0.06254488712979432,0.8345545062661311,-1.1461310253235593,-1.1127597130965776,-0.04684074019944968,1.6865044772373161,0.3732451901872637,0.8168873409694936,0.059162251580375275,0.14946109642985558,1.7139867343654185,0.08271847197589169,0.2986504922681275,-0.16462184217703285,-0.07824903406013842,0.2162037208838195,1.1211551877449166,-1.5642539373439794,-1.053869162107786,0.17890637192425138,0.3928753738501942,0.651993798200877,-2.7401019387535177,0.9700027735403518,-0.22743842989841032,-1.7252214433800097,0.1082377107377016,-0.09199016262419012,-1.030312941712269,1.7061346609002466,-0.5984489011277974,0.6598458716660492,-0.2588467237590996,0.4674700717693299,0.4125055575131248,-0.32951538494564936,-0.9871265376538221,1.1466744265067266,0.9974850306684542,-0.1626588238107399,0.06897734341184054,-1.279616274231487,0.30846558409959274,0.5008413839963122,-1.6467007087282877,1.0956359489831067,-0.1449916585141023,-1.0185348315145109,-0.6416353051862449,1.647244109911455,0.610770412508723,0.2888354004366622,0.2986504922681275,-1.0479801070089065,-0.8163439397863261,-1.0577951988403718,-2.017711179957675,0.8875560021560434,0.7874420654750978,-0.6004119194940903,0.1200158209354598,-1.729147480112596,0.424283667710883,0.3104286024658857,0.26135314330855935,-0.8124179030537403,0.9660767368077654,-0.20977126460177328,-0.21958635643323854,-0.26080974212539254,-1.6074403414024265,1.0936729306168145,0.2809833269714899,-0.7417492418671905,-0.6298571949884861,0.84044356136501,-0.11554638301970653,-0.38447989920185455,1.4725354753113726,-1.1009816028988189,0.3732451901872637,-2.1335292635689647,-1.0401280335437342,0.8934450572549227,0.24761201474450822,0.4674700717693299,0.3555780248906261,-1.0872404743347677,0.17890637192425138,0.4066165024142454,0.11020072910399453,-0.5434843868715923,0.3771712269198496,-0.8359741234492567,0.2162037208838195,0.7442556614166508,0.7795899920099254,0.2515380514770941,-1.1814653559168344,-2.989405271272736,0.30061351063442043,-0.7574533887975345,-0.15676976871186052,0.24172295964562884,-0.2706248339568578,0.22209277598269833,1.7650252118890382,-0.02328451980393327,-1.6054773230361337,-0.6220051215233143,-1.5917361944720823,1.1800457387337082,2.662124605284963,-0.4433704501906461,1.2094910142281041,0.1455350596972697,0.9562616449763002,-0.7083779296402082,-1.134352915125801,1.4921656589743033,-0.6789326541458124,-2.7558060856838624,0.983743902104403,-0.8516782703796013,-0.6769696357795195,-0.11750940138599947,-0.8771975091414111,1.0426344530931946,-1.1009816028988189,0.5950662655783784,1.1761197020011225,0.544027788054759,-1.6663308923912181,0.9327054245807838,-2.2041979247555146,1.0936729306168145,-0.08806412589160367,0.2986504922681275,-0.5002979828131447,0.6166594676076024,1.2389362897224998,-1.403286431307949,-1.030312941712269,-0.16069580544444695,-0.8457892152807219,-0.054692813664622,1.916177626093603,0.7108843491896686,-1.81552028822949,0.6343266329042394,0.5224345860255356,0.04345810465003063,-0.40999913796366444,-0.5670406072671087,-0.8320480867166707,-0.21762333806694503,-0.17051089727591223,0.9150382592841462,1.3096049509090502,0.2044256106860613,-0.09002714425789661,0.37913424528614253,-0.7535273520649487,1.5353520630327513,-1.1618351722539038,-0.6377092684536584,-0.042914703466863796,0.06897734341184054,1.3135309876416361,0.2044256106860613,0.08271847197589169,0.17694335355795843,-0.14106562178151644,-0.029173574902812093,-0.5375953317727129,-0.49637194608055885,1.6845414588710226,-0.13910260341522293,0.37913424528614253,0.8011831940391488,2.1262205912869594,1.5785384670911982,-0.27651388905573665,-0.8045658295885679,0.2240557943489918,0.6539568165671699,0.9542986266100072,1.4156079426888746,0.12197883930175274,0.5989923023109648,-0.5297432583075405,-0.44925950528952546,1.2016389407629322,-0.7515643336986557,0.00616075569046252,-0.40214706449849213,0.06897734341184054,0.10234865563882221,1.9750681770823946,-0.11358336465341358,1.1584525367044842,-0.06647092386238021,-1.1893174293820061,0.383060282018729,0.5911402288457924,1.1564895183381918,0.4026904656816595,0.7599598083469948,-1.0519061437414925,-2.4966876613331794,0.10234865563882221,0.8600737450279404,-0.013469427972468008,0.19657353722088897,-0.7986767744896891,-0.6435983235525378,0.79529413894027,0.7913681022076836,1.1682676285359495,-0.42962932162659495,-2.443686165443267,0.014012829155634843,0.3477259514254538,1.0485235081920738,-1.5917361944720823,-0.5493734419704711,-1.1637981906201968,0.8325914878998382,-0.6828586908783989,0.19264750048830254,-0.26080974212539254,-0.09002714425789661,0.4851372370659675,-0.4728157256850419,0.2986504922681275,1.647244109911455,-0.2451055951950479,1.9848832689138598,-0.46888968895245603,1.5333890446664578,0.12786789440063212,-0.30399614618383947,-0.3079221829164259,2.1635179402465283,1.0897468938842279,-0.7633424438964139,0.9366314613133696,1.2153800693269834,-1.509289423087774,-0.1449916585141023,0.3241697310299374,-0.2863289808872019,-0.39233197266702685,0.7815530103762184,-0.5631145705345227,0.4026904656816595,-0.12928751158375767,-1.1637981906201968,-0.2156603197006521,-0.6259311582559002,0.8247394144346658,0.9071861858189738,0.4517659248389858,-0.3373674584108217,-0.16462184217703285,-0.9949786111189943,2.4874159706848817,-0.5847077725637463,1.1034880224482797,-0.512076093010903,-0.05076677693203556,-0.8791605275077041,-0.2882919992534954,-0.39233197266702685,-0.7554903704312416,0.17105429845907905,0.04934715974891001,2.530602374743329,0.3123916208321792,0.6048813574098436,1.812137652680071,-0.10376827282194832,-0.39036895430073393,-2.1708266125285327,0.00616075569046252,-0.25492068702651316,1.2291211978910346,0.0650513066792541,-2.21401301658698,3.168583343788571,-0.03898866673427736,-0.5650775889008157,0.3771712269198496,0.21031466578494012,1.4744984936776662,1.655096183376627,-1.8037421780317318,1.5962056323878353,0.4007274473153666,1.2016389407629322,-1.3051355129932964,-0.6710805806806407,0.8227763960683729,-1.7428886086766473,1.5490931915968025,0.012049810789341902,-1.3973973762090701,0.424283667710883,0.9562616449763002,-0.364849715538924,0.3359478412276956,-0.7044518929076223,-0.5238542032086617,1.672763348673265,-0.6063009745929697,0.03953206791744475,-0.9557182437931333,1.4941286773405966,-1.240355906905626,0.20835164741864717,-0.9989046478515803,-0.6494873786514166,-1.2030585579460578,-0.7554903704312416,0.6539568165671699,-0.9400140968627887,0.98178088373811,1.5844275221900777,-0.4257032848940091,-0.39036895430073393,-0.6121900296918491,2.2008152892060955,0.6598458716660492,0.2338708861804571,-0.27455087068944367,-0.32951538494564936,2.0280696729723067,0.4203576309782971,2.041810801536358,0.11020072910399453,0.33005878612881623,1.3233460794731013,-0.427666303260302,1.3743845569967201,0.1200158209354598,1.4411271814506845,1.3841996488281854,0.2535010698433876,-0.47085270731874895,0.7089213308233756,0.08075545360959875,1.119192169378623,1.7139867343654185,1.199675922396639,-1.322802678289934,0.4419508330075206,0.7795899920099254,1.113303114279745,-0.5238542032086617,0.9700027735403518,1.3547543733337895,0.5931032472120854,0.06701432504554761,-0.09591619935677599,-0.34325651350970054,-0.39036895430073393,-0.5238542032086617,1.299789859077585,-0.3668127339052175,-0.24903163192763433,-0.43355535835918085,0.7835160287425118,-0.6396722868199514,-0.7142669847390876,-0.7319341500357252,0.4969153472637257,0.4929893105311398,0.2240557943489918,0.8463326164638894,1.0445974714594874,1.235010252989914,0.689291147160445,-0.27258785232315075,-0.5925598460289185,1.7925074690171405,0.7069583124570826,0.5597319349851038,-0.2038822095028939,0.27902030860519694,0.49495232889743274,-0.737823205134604,0.13571996786580445,-2.6085797082118836,0.7030322757244962,-0.6534134153840031,-0.9105688213683929,-1.3738411558135533,0.5106564758277774,1.1250812244775026,1.2605294917517238,0.12983091276692507,-0.009543391239881568,1.1034880224482797,1.4411271814506845,-1.1441680069572662,-0.8202699765189125,-0.7338971684020181,0.8168873409694936,0.9130752409178532,0.6853651104278592,1.1780827203674147,1.1898608305651734,0.37520820855355663,0.903260149086388,-0.9400140968627887,0.9601876817088866,0.14946109642985558,1.3292351345719806,0.3104286024658857,-0.33344142167823526,-2.0157481615913815,1.5000177324394761,0.25546408820968053,0.03364301281856537,0.48710025543226043,-0.15676976871186052,0.21424070251752655,-1.3738411558135533,-1.1186487681954564,2.006476470943084,-1.2992464578944176,1.1152661326460374,-0.8948646744380482,-0.33147840331194234,0.8149243226032006,-0.9714223907234774,-0.12732449321746472,-1.0224608682470966,-0.32951538494564936,-0.24706861356134083,-0.13713958504893,-0.9517922070605469,0.7226624593874268,0.2731312535063181,-0.16854787890961873,-0.042914703466863796,0.5989923023109648,0.7128473675559615,-1.324765696656227,0.19068448212200959,0.4517659248389858,-0.04880375856574262,0.11805280256916686,-0.4080361195973715,-0.41196215632995736,-1.5210675332855321,0.9484095715111278,0.9071861858189738,-0.989089556020115,-0.15873278707815347,0.9346684429470766,0.2024625923197678,-1.1716502640853692,0.10038563727252928,-0.05665583203091494,-0.7437122602334834,1.4529052916484422,-0.6926737827098641,-0.7810096091930515,-0.7221190582042599,1.1074140591808654,1.0406714347269017,-0.20977126460177328,-0.27455087068944367,1.0073001224999194,0.03756904955115181,-0.23136446663099675,0.2044256106860613,0.2338708861804571,-0.3491455686085799,-0.38840593593444095,-0.6318202133547796,-2.469205404205077,0.2279818310815777,0.47728516360079515,-0.45514856038840484,-0.16854787890961873,1.3331611713045666,0.6559198349334634,0.4556919615715717,-0.7201560398379669,-0.7044518929076223,0.9052231674526808,0.47728516360079515,-1.6722199474900972,-0.26277276049168546,-2.2100869798543936,0.03560603118485831,-0.8771975091414111,0.06897734341184054,-2.2650514941105993,-0.05272979529832906,-0.8006397928559821],\"z\":[0.8574034446394462,1.048458149949096,-0.759667824012329,-0.0840826289483106,-0.2810462426695987,0.05379190065659106,0.22515024459411148,0.20939315549640877,2.46659616874237,-0.10180935418322665,-1.1831395935130984,-0.17468589126010303,0.036065175421675026,-2.2034111125893707,-1.4096477492925799,-0.6986091037587299,-0.16483771057403862,0.15030407138002236,0.16606116047772507,-0.3814976856674555,0.7057414620740545,0.975581612872219,-0.36377096043254004,-1.951297687026122,-0.3874065940790944,0.9716423405977935,0.8869479866976394,1.8146466073249068,1.5566242733500188,0.24287696982902754,-0.952692165459191,0.5245349374504698,-1.9591762315749734,-0.25347133674861827,-0.2633195174346827,-1.5554008234463328,2.173120384297651,-0.4464956781954808,1.2631484889053002,-0.7498196433262646,0.8081625412091241,-2.5717330702481798,0.701802189799629,0.9420977985396003,0.5383223904109596,0.05379190065659106,1.3596606596287308,-1.1890485019247368,-0.39331550249073327,-0.23377497537648945,-0.6808823785238137,-0.6867912869354521,1.2670877611797255,-0.8305747249519926,0.2546947866523047,-0.854210358598547,-1.415556657704218,-0.9389047124987011,-1.0354168832221324,1.8540393300691644,1.0523974222235215,-0.5646738464282537,-0.9605707100080426,-0.3893762302163072,1.3576910234915187,-0.5548256657421893,0.5402920265481724,0.44968876423638005,1.5231404590174003,-0.5016454900374417,0.42408349445261234,-0.19241261649501906,-0.22786606696485115,-0.36967986884417836,0.018338450186758982,0.15227370751723512,-1.8035749767351559,1.024822516302541,1.235573582984319,-1.4470708358996243,-0.7478500071890518,-0.20226079718108347,-0.6690645617005366,-0.8069390913054383,-0.4169511361372876,0.9342192539907487,-0.2199875224159995,0.31181423463147834,0.7924054521114214,-1.6144899075627193,0.4260531305898257,0.5225653013132564,0.9184621648930459,-1.2382894053550588,-2.829755404223067,-0.6139147498585757,-0.4642224034303969,-0.021054272557498636,-1.1614735960037568,0.38666040784556804,-1.7385769842071306,0.5166563929016181,1.011035063342051,-0.9132994427149334,0.4831725785689988,-0.5154329429979316,1.2513306720820223,-1.068900697554751,1.186332679553997,0.09712389567527423,0.1030328040869131,0.9066443480697682,0.7155896427601189,-0.10968789873207828,1.2237557661610425,-0.8384532695008443,-0.1490806214763359,1.0366403331258187,-1.8016053405979429,-0.013175728008647003,0.9499763430884519,-1.7878178876374526,-1.5770668209556746,1.6885898945432818,-0.5686131187026793,-1.1949574103363756,1.3458732066682408,1.2749663057285767,-0.9310261679498495,1.143000684535314,-0.7163358289936453,-1.254046494452762,1.03073142471418,0.5580187517830885,0.6978629175252029,-0.6690645617005366,0.5422616626853852,1.2533003082192358,1.1843630434167849,-1.8764515138120323,-2.043870585475127,0.8574034446394462,-0.5961880246236597,-0.11756644328092992,0.13454698228231907,0.0006117249518429412,1.5960169960942765,-1.267833947413252,-0.6158843859957884,0.2527251505150919,-1.3151052147063613,0.7884661798369953,-0.05256845075290462,-0.2771069703951732,0.5915025661157073,-1.7523644371676208,0.7254378234461833,0.1384862545567446,-1.007841977301152,-1.6164595436999323,-0.4071029554512232,1.1883023156912105,1.066184875184012,0.877099806011575,0.9598245237745163,0.863312353051085,0.7746787268765054,0.31181423463147834,-0.060446995301756255,-0.21210897786714789,0.4359013112758901,1.1607274097702305,0.49105112311785043,-0.1352931685158454,-1.551461551171907,0.9007354396581299,-2.5205225306806445,0.4733243978829344,-0.5646738464282537,1.2651181250425123,-0.9881456159290231,-0.24559279219976718,0.21727170004525986,0.8613427169138723,-0.5292203959584216,0.6860451007019257,0.400447860806058,-2.4555245381526194,-1.2658643112760393,0.32363205145475554,-0.07029517598782066,-0.39922441090237154,-0.9231476234009978,0.6308952888599648,0.6643791031925842,-0.17665552739731635,-1.2087448632968656,-0.11559680714371659,0.431962039001464,1.4699602833126526,-0.1352931685158454,3.0279424678480407,0.02227772246118508,1.1942112241028493,1.619652629740831,1.53692791197789,-0.18453407194616742,-0.5666434825654665,-0.45043495046990634,0.5993811106645589,-0.15301989375076144,-0.6257325666818528,0.5915025661157073,0.44771912809916725,-0.31453005700221803,1.781162792992288,0.6151381997622621,1.235573582984319,-0.3224086015510691,0.9598245237745163,-0.005297183459795366,0.09909353181248699,0.040004447696100565,0.7490734570927378,0.04197408383331389,1.0445188776746699,0.42408349445261234,-1.124050509396712,0.7707394546020798,1.5802599069965733,-0.13135389624141985,1.7476789786596683,1.0642152390467987,-1.4982813754671593,-1.0728399698291773,1.1489095929469528,0.3078749623570528,-1.1575343237293307,0.7727090907392926,0.11682025704740304,-0.11362717100650382,0.7864965436997826,0.2546947866523047,-0.5528560296049765,0.2487858782406664,-0.34998350747204954,-0.3480138713348368,1.2710270334541511,-0.3480138713348368,0.37287295488507755,0.07545789816593264,1.048458149949096,-1.5219170091137137,-0.8010301828937995,-1.0551132445942613,1.4148104714706917,-0.9113298065777207,1.6984380752293462,0.6151381997622621,0.6643791031925842,0.993308338107135,0.8652819891882978,-0.9625403461452554,-0.8837549006567402,-0.2515017006114055,-2.3924961817618073,-1.3978299324693026,-0.0742344482622462,-1.236319769217846,0.10106316794970031,0.6308952888599648,-0.6316414750934918,-0.6099754775841502,2.0017620403601306,-0.5055847623118672,1.2099683132005525,1.4542031942149494,0.5225653013132564,0.8593730807766595,-0.6946698314843037,-1.3032873978830841,1.1843630434167849,-0.2849855149440248,-1.4490404720368373,0.8258892664440401,0.5658972963319401,0.7116503704856935,-2.063566946847256,0.055761536793803836,0.24681624210345307,-1.551461551171907,-1.7110020782861506,-0.4484653143326936,-0.35786205202090116,0.4122656776293352,-0.17862516353452912,1.0386099692630315,-1.4293441106647085,1.0602759667723731,-1.0728399698291773,-0.7143661928564325,0.4752940340201477,1.339964298256602,-0.6670949255633233,1.4916262808219936,-0.2613498812974699,0.49105112311785043,-0.044689906204052984,0.6289256527227521,0.34332841282688437,0.764830546190441,0.9519459792256647,0.481202942431786,-0.2613498812974699,0.06954898975429377,2.3661447257445136,-1.043295427770984,1.6531364440734508,0.26651260347558187,0.6230167443111138,-0.3046818763161536,-0.6887609230726655,-1.8429676994794135,-0.28892478721845033,-0.18650370808338076,0.5028689399411276,0.7668001823276538,-0.7990605467565867,0.004550997226269039,-0.05059881461569185,0.9105836203441943,-0.0781737205366723,-1.3032873978830841,-0.6730038339749621,0.036065175421675026,-0.25347133674861827,0.3590855019245876,0.733316367995035,0.22121097231968595,0.751043093229951,0.22318060845689872,-0.5784612993887436,-2.441737085192129,-0.07620408439945897,1.2296646745726814,-0.4130118638628621,0.31969277918033,0.2606036950639436,-0.12150571555535546,-0.3972547747651588,1.143000684535314,-0.8975423536172307,0.040004447696100565,-0.728153645816923,0.26454296733836913,0.3610551380618004,-0.23180533923927668,0.8790694421487883,-1.092536331201306,-1.3702550265483222,-0.9192083511265723,2.9156732080269068,-0.43467786137220366,-0.16286807443682585,-1.8370587910677747,0.877099806011575,0.42408349445261234,-0.8010301828937995,-1.6834271723651701,-0.41104222772564875,-0.9349654402242755,-1.271773219687678,1.562533181761658,1.402992654647414,-0.37558877725581724,1.1351221399864628,1.1252739593003984,-0.8069390913054383,0.7786179991509309,-0.49573658162580286,-0.38346732180466886,-0.7458803710518385,1.7338915256991783,0.4713547617457216,0.3768122271595037,1.8422215132458868,1.3852659294124985,-1.750394801030408,1.107547234065482,0.22711988073132425,0.43984058355031563,-1.3485890290389806,0.8495249000905951,0.536352754273747,-0.29286405949287586,0.8475552639533818,0.9736119767350063,-0.42482968068613924,-1.4647975611345403,-0.4071029554512232,-2.4693119911131096,0.999217246518774,0.4043871330804836,1.5664724540360833,1.2296646745726814,1.1961808602400614,0.5245349374504698,0.6643791031925842,-0.6198236582702146,0.07742753430314542,-1.0826881505152417,0.7805876352881442,0.512717120627192,-1.8331195187933491,-1.1082934202990087,-0.36771023270696557,-0.6237629305446402,-1.7267591673838534,-1.384042479508812,0.7569520016415894,-0.2101393417299351,-0.9507225293219782,-0.7498196433262646,-0.18650370808338076,-0.03681136165520135,0.07939717044035818,0.6072596552134105,0.634834561134391,0.12863807387068021,-1.486463558643882,0.3413587766896716,-0.08605226508552337,-1.5790364570928874,0.32166241531754275,-1.7267591673838534,1.2611788527680867,1.3163286646100476,1.0602759667723731,-0.0880219012227367,-0.8345139972264182,-0.17271625512289024,-1.835089154930562,-1.0176901579872164,-0.5055847623118672,0.5068082122155537,0.6978629175252029,1.1114865063399084,2.1081223917696255,-0.4425564059210553,-0.5607345741538281,0.5836240215668562,0.5974114745273461,-1.5396437343486298,-1.0649614252803257,-1.1279897816711375,-0.6355807473679173,-0.2751373342579604,1.8737356914412933,-1.2304108608062077,-0.6710341978377494,-0.3480138713348368,0.32166241531754275,-1.20480559102244,-1.124050509396712,-0.2751373342579604,0.8830087144232138,-0.9920848882034486,-0.6355807473679173,2.1750900204348644,-0.3401353267859851,-0.009236455734221464,0.28817860098492404,-0.43073858909777757,-0.8384532695008443,0.1187898931846158,-0.6277022028190656,1.3498124789426664,0.9637637960489419,-0.15301989375076144,-0.661186017151685,0.8987658035209172,-0.6040665691725113,-1.5672186402696102,-1.1279897816711375,0.8495249000905951,1.2572395804936614,-1.4135870215670052,0.15030407138002236,1.9269158671460407,-0.10771826259486551,-0.23771424765091556,0.6289256527227521,-1.1496557791804791,1.2946626671007055,1.3242072091588988,-0.8699674476962502,0.9460370708140258,-1.1142023287106475,0.07742753430314542,0.9499763430884519,-0.9664796184196816,0.18772715798706663,0.4713547617457216,-0.1490806214763359,-0.4169511361372876,0.3709033187478648,2.0706993051625813,1.0898205088305664,0.7136200066229063,1.1449703206725272,0.18575752184985386,0.14439516296838348,-0.4051333193140104,0.7608912739160154,0.2901482371221368,-0.8423925417752698,-0.8975423536172307,-1.8981175113213742,1.093759781104992,-1.9316013256539932,-0.42286004454892645,0.13651661841953183,-0.41498150000007483,-1.1575343237293307,-0.2869551510812376,-1.305257034020297,1.143000684535314,-2.4240103599572134,0.7766483630137182,1.2119379493377647,-0.9723885268313198,0.11288098477297749,0.07742753430314542,-0.8069390913054383,0.19954497481034436,-0.9645099822824688,-1.6322166327976353,-0.4464956781954808,0.13454698228231907,-1.5396437343486298,0.5836240215668562,0.2940875093965623,-1.4628279249973273,-0.5607345741538281,-0.17862516353452912,0.37484259102229034,2.0864563942602845,-0.2692284258463215,-0.6710341978377494,-1.4372226552135603,0.8357374471301046,0.5658972963319401,-0.1392324407902715,-0.6355807473679173,-0.13332353237863262,1.1745148627307205,-0.06635590371339456,1.1567881374958038,0.22515024459411148,0.6210471081739004,-0.525281123683996,1.3320857537077508,-0.42286004454892645,-0.3381656906487724,1.0898205088305664,0.8180107218951885,-1.8862996944980968,0.10894171249855139,0.301966053945414,0.6013507468017717,1.704346983640985,0.4024174969432708,0.4949903953922765,-0.0742344482622462,0.21136279163362154,-0.5095240345862928,1.4482942858033105,-0.22589643082763838,0.44377985582474117,0.17984861343821557,0.0518222645193783,-0.7675463685611806,-1.4096477492925799,0.9243710733046843,-0.11362717100650382,0.04591335610773943,-1.1575343237293307,0.6249863804483266,0.49892966766670205,-1.5672186402696102,-1.043295427770984,0.7983143605230597,-1.4254048383902824,1.0346706969886055,-1.9690244122610379,-1.0334472470849196,-0.3263478738254952,2.3543269089212355,0.1030328040869131,-1.0905666950640927,-0.328317509962708,0.7136200066229063,-0.8325443610892054,-0.36967986884417836,0.6860451007019257,-0.854210358598547,-1.1082934202990087,0.26454296733836913,0.2546947866523047,-0.37361914111860445,0.536352754273747,0.9893690658327096,0.652561286369307,0.4831725785689988,-0.9329958040870622,-1.322983759255213,1.5566242733500188,-1.1535950514549052,-0.01514536414585977,-0.36771023270696557,-1.3288926676668518,-0.6237629305446402,-0.7045180121703681,0.7687698184648666,-0.6631556532888977,-0.8325443610892054,-0.6749734701121749,-1.309196306294723,0.24287696982902754,-0.4287689529605648,-0.41498150000007483,0.9086139842069816,1.7693449761690103,0.18969679412427998,-1.9591762315749734,-1.2737428558248909,-0.1293842601042071,-1.0531436084570485,-0.005297183459795366,-0.4464956781954808,-0.23180533923927668,-0.20423043331829624,1.6531364440734508,0.20742351935919545,1.241482491395958,0.660439830918158,-0.31649969313943077,-0.22786606696485115,0.6978629175252029,-0.5292203959584216,-1.019659794124429,-0.37361914111860445,-0.33422641837434686,1.3301161175705376,-1.602672090739442,0.7904358159742086,0.7530127293671638,0.4949903953922765,-2.6662756048343974,-0.6395200196423434,0.9105836203441943,0.481202942431786,-0.25347133674861827,0.4752940340201477,-0.7951212744821605,-2.089172216631024,-0.661186017151685,0.28226969257328516,1.8599482384808033,0.1227291654590419,-1.7681215262653238,0.8849783505604266,0.5068082122155537,1.1626970459074428,-0.2731676981207471,1.235573582984319,-0.31846932927664356,1.2119379493377647,0.5402920265481724,0.1640915243405123,0.32757132372918163,-2.3826480010757427,-0.9172387149893595,-1.0767792421036027,0.18575752184985386,-1.141777234631628,1.1193650508887596,1.6452578995245986,0.7943750882486342,2.096304574946349,0.1384862545567446,-1.0354168832221324,-1.1279897816711375,-1.7622126178536852,-2.427949632231639,0.04197408383331389,1.7417700702480303,-1.699184261462873,-3.075959921374677,-0.9310261679498495,-0.20423043331829624,-0.09787008190880112,1.3557213873543053,0.5639276601947274,-0.43270822523499086,0.12469880159625467,-0.07620408439945897,-0.1392324407902715,-0.2751373342579604,0.09909353181248699,-0.11362717100650382,1.2395128552587458,0.39059968011999363,-1.1831395935130984,0.14045589069395795,-0.8522407224613342,0.660439830918158,0.0715186258915071,0.8731605337371494,0.3669640464734393,1.255269944356448,-0.21210897786714789,0.14636479910559624,-0.7517892794634774,2.19281674566978,1.27693594186579,-0.05256845075290462,0.530443845862108,1.8638875107552288,2.789616495245283,-0.2101393417299351,-0.678912742386601,0.016368814049546213,3.213088264746052,-0.09983971804601388,-0.42482968068613924,-1.21859304398293,-0.4031636831767977,0.26257333120115633,1.2631484889053002,-0.9664796184196816,0.1227291654590419,-0.4642224034303969,1.0720937835956503,1.501474461508058,1.3576910234915187,1.9603996814786595,0.0715186258915071,0.15227370751723512,1.395114110098563,-0.1608984382996131,0.6407434695460292,0.06364008134265547,1.0740634197328631,-0.5489167573305505,-0.6099754775841502,-1.0176901579872164,-0.20816970559272233,-0.2101393417299351,-0.1451413492019098,0.2527251505150919,-0.994054524340662,1.3557213873543053,-0.19635188876944515,-1.551461551171907,-1.433283382939134,-0.7202751012680714,-1.401769204743728,0.36302477419901313,-0.9270868956754239,-1.4391922913507729,-0.43467786137220366,1.2513306720820223,-0.2869551510812376,0.4516584003735928,0.44181021968752837,1.3222375730216867,0.24090733369181477,0.39650858853163246,-0.09196117349716225,1.4620817387638003,-0.11756644328092992,-0.4543742227443325,0.45953694492244446,-1.0649614252803257,1.9249462310088274,-2.7155165082647197,1.0780026920072892,0.24090733369181477,-1.112232692573435,-0.3795280495302428,-0.4996758539002284,-2.888844488339453,-1.6519129941697641,1.170575590456295,0.7431645486810994,-1.0039027050267264,-1.3348015760784901,0.4359013112758901,-0.5370989405072732,-0.6434592919167689,-0.14120207692748427,1.1233043231631852,2.0313065824183236,0.24681624210345307,-0.13332353237863262,-0.489827673214164,-0.6020969330352985,0.8101321773463375,-0.23180533923927668,-1.5573704595835458,0.2586340589267308,-0.8187569081287155,1.0583063306351603,0.43984058355031563,0.28226969257328516,-0.6631556532888977,0.0616704452054427,-0.5902791162120213,-0.5942183884864469,-0.5528560296049765,-1.0708703336919638,1.186332679553997,0.7392252764066733,0.09712389567527423,0.7786179991509309,-0.43073858909777757,0.6328649249971782,0.32363205145475554,-0.7458803710518385,0.8278589025812529,-0.37558877725581724,0.26651260347558187,-0.6257325666818528,0.7766483630137182,0.028186630872823387,-1.240259041492272,-2.4574941742898324,-1.8823604222236712,-0.5587649380166149,-0.5134633068607188,0.7864965436997826,1.1272435954376105,-0.6572467448772589,1.3143590284728344,0.634834561134391,-1.8035749767351559,-0.16286807443682585,-0.5548256657421893,-2.97550847837682,0.21727170004525986,-0.8995119897544435,0.17393970502657669,0.3768122271595037,0.3531765935129488,-0.588309480074808,-1.797666068323517,0.8869479866976394,1.3163286646100476,0.796344724385847,-0.7261840096797098,-0.724214373542497,-1.535704462074204,-0.710426920582007,1.062245602909586,-0.7951212744821605,0.9952779742443478,-0.3814976856674555,-0.976327799105746,0.26257333120115633,-0.41498150000007483,0.24681624210345307,0.2448466059662403,-0.9132994427149334,1.129213231574824,0.2290895168685376,1.024822516302541,2.0332762185555358,-3.1015651911584445,0.975581612872219,-0.5686131187026793,0.9027050757953426,-0.43467786137220366,0.8042232689346986,1.6255615381524697,0.5580187517830885,-0.3716495049813911,-1.671609355541893,-0.7163358289936453,-0.22392679469042504,-0.42286004454892645,0.29211787325934957,-1.65585226644419,0.15818261592887342,1.0405796054002443,1.1764844988679326,-0.5528560296049765,-0.5607345741538281,-0.22589643082763838,-0.08605226508552337,-1.0531436084570485,-0.7537589156006902,-0.1352931685158454,-0.7695160046983934,-1.21859304398293,-2.1088685780031526,-1.2835910365109553,-1.3111659424319357,-0.6473985641911945,-2.3550730951547627,0.22515024459411148,0.0518222645193783,-0.678912742386601,1.5901080876826377,-1.9532673231633348,2.383871450979429,-1.3564675735878315,-0.5174025791351444,0.25666442278951745,0.6407434695460292,0.7234681873089706,-1.3525283013134062,-1.3623764819994706,-0.6710341978377494,-0.5351293043700605,-0.28892478721845033,1.3911748378241373,-1.819332065832859,-1.419495929978644,-0.3224086015510691,1.4345068328428205,-0.9448136209103399,0.07545789816593264,0.28817860098492404,0.2684822396127952,-0.11953607941814269,1.0464885138118831,-0.50755439844908,-0.7458803710518385,-0.4642224034303969,1.668893533171153,0.08924535112642258,-0.5272507598212088,-1.317074850843574,1.7851020652667136,-1.3505586651761934,0.11288098477297749,-0.4130118638628621,0.9519459792256647,1.2316343107098935,-0.9605707100080426,-0.36377096043254004,0.08924535112642258,-0.8305747249519926,0.13060771000789353,-0.6080058414469368,0.43984058355031563,0.5402920265481724,0.7628609100532282,-0.06241663143896903,-0.5981576607608724,-0.10377899032043941,-1.5888846377789518,-1.618429179837145,-1.4529797443112629,0.5974114745273461,0.1837878857126411,0.6092292913506233,-0.440586769783842,-0.3322567822371335,-0.9172387149893595,-2.3393160060570595,2.9806712005549323,1.1548185013585917,0.23893769755460198,-1.1338986900827763,1.1942112241028493,-0.25741060902304436,0.6111989274878361,0.7549823655043766,-0.39922441090237154,-0.2908944233556631,0.8613427169138723,-0.6493682003284078,1.6846506222688562,0.3610551380618004,0.8711908975999367,-0.08014335667388507,-1.5928239100533776,-0.7537589156006902,-0.10968789873207828,-0.8561799947357603,0.530443845862108,-1.173291412827034,-0.35195314360926233,1.381326657138073,0.37484259102229034,1.1902719518284237,-0.9999634327523003,1.5743509985849355,-0.5213418514095706,-0.6670949255633233,0.877099806011575,1.1764844988679326,0.16803079661493783,1.7417700702480303,-2.079324035944959,-0.021054272557498636,-0.7340625542285614,-0.12741462396699432,-0.9152690788521467,-1.1654128682781824,1.0563366944979475,-0.6336111112307046,1.8875231444017833,-1.766151890128111,-0.4977062177630156,0.5599883879203013,0.6919540091135646,-0.8010301828937995,0.18575752184985386,0.44968876423638005,-1.2835910365109553,0.5166563929016181,0.22318060845689872,1.0760330558700764,-0.9487528931847655,-0.6020969330352985,1.1725452265935072,-0.33422641837434686,0.28817860098492404,-2.709607599853081,-1.7641822539908982,-0.9448136209103399,0.1030328040869131,3.559744224895519,-1.8035749767351559,0.1187898931846158,-1.0649614252803257,-0.6414896557795562,-0.1687769828484647,0.2527251505150919,0.31969277918033,0.4555976726480189,0.38863004398278084,1.0543670583607343,-0.9211779872637851,-0.5666434825654665,0.49892966766670205,-0.1490806214763359,-0.296803331767302,0.7845269075625698,0.10894171249855139,-1.3190444869807874,-0.41892077227450036,-0.8305747249519926,-0.9408743486359138,-0.6710341978377494,-0.3795280495302428,0.5658972963319401,1.2946626671007055,0.3709033187478648,0.5816543854296429,-0.8305747249519926,0.5107474844899792,0.9736119767350063,-0.741941098777413,-0.14317171306469703,0.5324134819993208,1.4995048253708458,-1.2894999449225941,0.993308338107135,-0.8029998190310121,1.2257254022982547,1.3596606596287308,-0.4071029554512232,0.4713547617457216,-0.6020969330352985,-2.014326043416934,1.247391399807597,0.15227370751723512,-0.18453407194616742,2.6064403344844846,1.6570757163478764,1.1922415879656358,-0.15301989375076144,0.32166241531754275,-0.50755439844908,-1.2954088533342325,0.43984058355031563,0.6801361922902869,-0.7005787398959425,2.0017620403601306,0.0577311729310166,-0.21210897786714789,-1.8449373356166263,0.5028689399411276,0.25666442278951745,-1.1398075984944147,-0.0683255398506079,-0.63755038350513,0.8357374471301046,0.2901482371221368,-0.4996758539002284,1.0917901449677796,0.014399177912333444,-0.7399714626402002,0.6821058284275002,0.9283103455791103,1.1666363181818682,-0.6552771087400461,0.18575752184985386,0.03803481155888779,-0.16286807443682585,-0.9979937966150875,-1.2087448632968656,-0.4071029554512232,0.26257333120115633,0.18772715798706663,1.1902719518284237,-0.952692165459191,1.0189136078909027,-1.0354168832221324,-2.0261438602402113,0.6269560165855393,0.3295409598663944,-0.4425564059210553,-1.5297955536625654,-1.3308623038040646,0.18969679412427998,0.4674154894712961,-0.2416535199253411,-1.6164595436999323,0.863312353051085,-0.0013579111853698278,-1.2166234078457172,1.466021011038227,3.4730802348581524,0.38666040784556804,-0.3361960545115596,-0.6651252894261105,-1.4746457418206047,-0.328317509962708,1.0090654272048383,0.39256931625720637,0.4516584003735928,1.1311828677120372,-0.9901152520662359,1.0543670583607343,0.733316367995035,0.21136279163362154,-0.37558877725581724,-0.3027122401789403,-2.309771463998866,0.4359013112758901,0.5284742097248952,-0.0683255398506079,-0.3381656906487724,0.2980267816709884,-0.13332353237863262,-0.539068576644486,-1.6834271723651701,-0.8364836333636315,-0.7084572844447942,0.10500244022412586,0.9539156153628775,-0.6257325666818528,-0.11559680714371659,2.0529725799276646,0.09121498726363592,-0.21801788627878674,-0.724214373542497,1.6019259045059153,0.7864965436997826,-0.15105025761354868,2.19281674566978,0.8436159916789563,0.09712389567527423,0.4201442221781868,0.20348424708476992,0.5146867567644053,-0.9192083511265723,-0.9329958040870622,0.18772715798706663,-0.19241261649501906,-0.5607345741538281,0.17787897730100224,0.5816543854296429,-0.7616374601495418,0.6998325536624157,1.562533181761658,0.9283103455791103,0.7608912739160154,1.0051261549304122,0.17984861343821557,0.19560570253591827,-0.5942183884864469,-2.668245240971611,0.22711988073132425,2.1790292927092896,0.4733243978829344,0.6427131056832426,-0.13726280465305873,-0.1352931685158454,0.26454296733836913,0.4024174969432708,1.221786130023829,0.22121097231968595,-1.419495929978644,0.24681624210345307,0.39650858853163246,0.036065175421675026,1.3911748378241373,-0.6631556532888977,-0.5843702078003825,1.0011868826559867,1.822525151873758,0.7195289150345445,0.368933682610652,-0.8364836333636315,-0.0742344482622462,-0.9625403461452554,-0.028932817106350275,1.3557213873543053,1.1233043231631852,-1.173291412827034,-1.9119049642818644,-0.3716495049813911,-0.6020969330352985,-0.629671838956279,-1.750394801030408,0.17393970502657669,0.5422616626853852,0.38863004398278084,0.07545789816593264,1.7378307979736038,1.0917901449677796,0.3157535069059039,0.12469880159625467,0.07742753430314542,-0.05453808689011739,0.1640915243405123,1.5448064565267423,1.4423853773916717,0.5698365686063657,1.5802599069965733,-0.19241261649501906,1.03073142471418,0.4024174969432708,-0.30074260404172753,-0.2002911610438707,-0.5705827548398925,-0.2849855149440248,-0.7695160046983934,-1.8035749767351559,-0.6769431062493877,-1.1279897816711375,1.3793570210008597,0.20742351935919545,1.028761788576967,2.125849117004542,-0.12741462396699432,0.5087778483527665,0.31378387076869113,0.747103820955525,-1.4096477492925799,-2.400374726310659,0.4043871330804836,1.1902719518284237,-0.7498196433262646,-0.09787008190880112,-1.001933068889513,2.4508390796446675,0.8180107218951885,1.6590453524850886,2.0766082135742203,-0.011206091871434233,1.3557213873543053,-0.5469471211933377,-0.18059479967174188,1.5605635456244444,1.4108711991962661,1.1449703206725272,0.06954898975429377,-0.7498196433262646,-0.42286004454892645,-1.340710484490129,-0.7734552769728189,-0.6178540221330012,1.7496486147968815,-1.7149413505605764,-1.3505586651761934,-0.2101393417299351,-0.06635590371339456,-1.3978299324693026,0.7293770957206089,1.6649542608967274,0.17590934116378945,0.17393970502657669,0.8002839966602731,-0.6572467448772589,-0.5292203959584216,0.016368814049546213,-0.2416535199253411,2.1652418397488,-0.9842063436545976,0.2684822396127952,1.3635999319031564,-1.900087147458587,-1.2126841355712916,-0.4622527672931841,-0.6966394676215165,0.12863807387068021,1.5782902708593611,-0.46619203956760963,0.8830087144232138,-1.3761639349599604,-1.141777234631628,0.17393970502657669,-0.5370989405072732,-0.6986091037587299,-1.6853968085023832,-1.4096477492925799,-0.22786606696485115,0.17197006888936392,1.2887537586890678,2.0529725799276646,-0.5548256657421893,0.37484259102229034,0.5107474844899792,-0.7813338215216706,-0.6493682003284078,1.422689016019543,1.2986019393751322,-0.16483771057403862,0.48908148698063764,-1.019659794124429,-0.14120207692748427,-0.5154329429979316,-0.5095240345862928,-0.0742344482622462,0.40635676921769687,1.2493610359448102,1.0583063306351603,1.7851020652667136,-0.9329958040870622,0.09712389567527423,1.676772077720005,-0.7754249131100317,-0.16680734671125194,0.2999964178082012,-1.5987328184650162,-1.4214655661158568,1.3084501200611967,0.11288098477297749,-1.66963971940468,-0.39331550249073327,-0.7183054651308586,0.6407434695460292,-1.0590525168686866,0.5954418383901333,1.9052498696366986,-0.42089040841171316,0.7924054521114214,-0.6099754775841502,-0.09983971804601388,1.143000684535314,0.012429541775120675,-0.6927001953470909,0.9066443480697682,1.0720937835956503,0.4181745860409741,0.7549823655043766,0.3098445984942656,-0.8620889031473986,-0.19241261649501906,1.9466122285181695,-1.6203988159743579,0.7234681873089706,-1.3761639349599604,-0.24559279219976718,0.9263407094418971,1.3242072091588988,-0.24362315606255386,1.2158772216121903,0.33151059600360716,1.1981504963772749,0.5462009349598114,-1.1752610489642468,-1.1811699573758856,-1.6420648134836997,-0.7064876483075809,1.0386099692630315,0.1640915243405123,1.1567881374958038,0.7884661798369953,-0.29877296790451474,-0.5942183884864469,0.7530127293671638,-1.4431315636251985,0.5560491156458757,-0.42286004454892645,-1.3367712122157027,1.0189136078909027,-1.7070628060117248,0.4181745860409741,1.5822295431337867,1.093759781104992,0.36302477419901313,0.6939236452507774,-1.1831395935130984,-0.7045180121703681,0.25666442278951745,0.6781665561530741,-0.6217932944074274,-0.10771826259486551,-0.42679931682335204,0.6013507468017717,1.548745728801168,0.04985262838216497,-1.5238866452509268,0.22121097231968595,0.0478829922449522,0.26651260347558187,-2.2388645630592023,1.235573582984319,-2.03205276865185,0.17393970502657669,1.233603946847107,0.31378387076869113,-0.30665151245336636,1.8441911493831,0.5186260290388308,0.7707394546020798,-2.1029596695915136,-0.6198236582702146,-1.7405466203443436,-1.1831395935130984,-0.20620006945550956,1.6807113499944306,0.8416463555417435,-1.8173624296956459,1.5093530060569103,-0.03484172551798858,0.9795208851466451,-1.1673825044153952,-0.7695160046983934,-2.5402188920527737,1.2946626671007055,-1.236319769217846,-0.36771023270696557,1.0839116004189275,-0.875876356107889,-0.5784612993887436,-0.4622527672931841,0.9046747119325554,-0.8620889031473986,0.8337678109928919,0.12469880159625467,1.3360250259821764,-0.7852730937960961,-1.4175262938414315,-0.0742344482622462,0.3078749623570528,-1.1260201455339247,0.764830546190441,0.4024174969432708,1.3911748378241373,-2.165988025982326,-1.2166234078457172,0.9499763430884519,-1.7622126178536852,0.5757454770180045,0.04197408383331389,-0.3381656906487724,-0.4543742227443325,-1.781908979225814,0.0518222645193783,-1.0117812495755774,0.5245349374504698,-0.0742344482622462,1.5172315506057614,0.5186260290388308,0.8357374471301046,2.409476720763197,-0.31059078472779195,-0.3874065940790944,0.6880147368391385,0.6742272838786486,0.06364008134265547,0.008490269500694578,1.0701241474584375,0.6761969200158614,-0.04665954234126576,-0.17271625512289024,-0.7183054651308586,0.3157535069059039,-0.6592163810144722,-2.29204473876395,2.153424022925522,-1.141777234631628,1.4187497437451173,1.0858812365561408,0.44771912809916725,1.7496486147968815,0.1936360663987055,-0.09787008190880112,-0.15695916602518753,-1.401769204743728,0.39059968011999363,-1.118141600985073,0.20545388322198269,2.1278187531417543,1.093759781104992,0.37287295488507755,0.39453895239441916,-0.2711980619835343,-1.3210141231180001,1.9800960428507883,0.8219499941696147,1.29072339482628,0.26257333120115633,-1.2796517642365297,-0.36967986884417836,2.307055641628127,0.9125532564814071,-0.09787008190880112,-1.001933068889513,-1.1831395935130984,1.170575590456295,0.2527251505150919,2.2420576491001016,0.5501402072342368,0.8574034446394462,-0.24756242833697994,-2.012356407279721,1.048458149949096,-0.4543742227443325,0.9677030683233679,1.7338915256991783,1.53692791197789,0.8298285387184663,0.3354498682780327,-1.8488766078910521,-1.0787488782408154,0.5796847492924301,1.0642152390467987,-0.3874065940790944,-0.49376694548859007,0.3354498682780327,0.4024174969432708,-0.8148176358542893,-0.8857245367939535,-1.3958602963320892,-0.013175728008647003,-0.7458803710518385,-0.7675463685611806,1.0031565187931994,-1.1516254153176924,-0.25347133674861827,0.21924133618247318,-0.5725523909771053,1.4128408353334785,0.1384862545567446,-1.0176901579872164,-0.5863398439375953,0.28030005643607236,-0.6572467448772589,-0.7320929180913486,0.030156267010036156,2.2243309238651863,-0.16286807443682585,0.44377985582474117,-0.8286050888147799,-0.41498150000007483,-0.8778459922451018,-1.2323804969434204,0.22318060845689872,0.5658972963319401,-0.4287689529605648,-0.3401353267859851,0.2527251505150919,-2.0281134963774243,0.28226969257328516,-0.3125604208650047,-0.6966394676215165,-0.5804309355259569,-0.8305747249519926,-0.17271625512289024,0.25666442278951745,1.1233043231631852,-0.22195715855321227,0.8672516253255106,-0.0840826289483106,0.1837878857126411,-0.2495320644741927,-2.0911418527682364,-0.4425564059210553,-0.5961880246236597,-0.18059479967174188,-0.7478500071890518,-0.34998350747204954,-1.1023845118873705,-0.4681616757048224,-0.1687769828484647,0.05379190065659106,0.31181423463147834,-0.03681136165520135,-0.5567953018794021,-0.22983570310206392,-0.39922441090237154,1.0819419642817152,2.0155494933206204,-0.39922441090237154,-0.9251172595382111,0.1187898931846158,-0.125444987829781,0.975581612872219,2.5079585276238405,0.23105915300575036,1.1095168702026952,-0.17074661898567747,1.353751751217092,-0.9861759797918104,-0.395285138627946,-0.7537589156006902,0.2290895168685376,-1.9572065954377607,0.9401281624023875,0.38272113557114196,0.845585627816169,0.23105915300575036,0.8514945362278079,0.2586340589267308,-1.9532673231633348,-1.5987328184650162,-1.1634432321409696,0.5422616626853852,1.548745728801168,0.4713547617457216,-1.6460040857581255,0.3787818632967164,1.0228528801653283,0.6151381997622621,-1.0452650639081968,0.36302477419901313,-1.0098116134383648,-2.085232944356598,-0.49573658162580286,-0.7636070962867546,0.8967961673837038,-0.9369350763614883,0.6368041972716038,-0.11165753486929106,-0.040750633929627446,0.13454698228231907,1.5054137337824847,-2.195532568040519,0.7136200066229063,0.6860451007019257,1.702377347503773,0.4260531305898257,-0.8975423536172307,0.2606036950639436,0.2842393287104979,0.5343831181365342,0.26651260347558187,-0.858149630872973,0.4516584003735928,-1.2028359548852272,-1.0235990663988552,-0.4878580370769512,-0.4996758539002284,-1.638125541209274,-0.23377497537648945,-0.3302871460999207,1.2237557661610425,-1.3466193929017671,0.09515425953806145,-0.42482968068613924,0.26651260347558187,-0.8699674476962502,-0.9290565318126367,0.34726768510131045,0.5087778483527665,-0.6277022028190656,-0.8108783635798638,-0.25544097288583156,2.5237156167215438,-0.7892123660705223,0.8199803580324019,0.6151381997622621,-1.0354168832221324,-0.3204389654138563,0.4969600315294893,0.5639276601947274,-1.0767792421036027,-0.17074661898567747,1.542836820389529,1.2158772216121903,0.3039356900826267,0.4043871330804836,1.8185858795993324,-0.6414896557795562,1.028761788576967,-0.3046818763161536,-0.07029517598782066,1.093759781104992,-0.9999634327523003,-0.4051333193140104,-0.7439107349146258,0.7589216377788022,1.6432882633873864,0.8514945362278079,0.9243710733046843,-1.0787488782408154,-0.23771424765091556,-0.6946698314843037,-0.8955727174800179,-0.6769431062493877,0.5225653013132564,-1.0728399698291773,-0.39331550249073327,1.4285979244311817,-1.0728399698291773,-1.092536331201306,1.6570757163478764,-0.6434592919167689,0.5580187517830885,0.6702880116042225,1.548745728801168,-0.5567953018794021,-0.10180935418322665,0.25666442278951745,0.1936360663987055,-1.6322166327976353,-0.4524045866071197,-1.2382894053550588,0.733316367995035,-1.8094838851467945,0.7352860041322478,1.042549241537457,0.1227291654590419,0.1424255268311707,-0.9566314377336171,-0.994054524340662,-0.5174025791351444,0.5560491156458757,1.6019259045059153,-1.2501072221783365,-2.0064474988680825,1.282844850277429,-0.17271625512289024,0.8239196303068275,-0.49573658162580286,0.5324134819993208,0.301966053945414,0.7175592788973317,-0.7675463685611806,-0.23968388378812833,-0.23377497537648945,0.8357374471301046,0.14045589069395795,-1.1595039598665435,-0.18059479967174188,-1.9749333206726765,0.23696806141738866,-0.1589288021624003,0.7608912739160154,-0.5370989405072732,0.6368041972716038,-0.9586010738708299,-0.06241663143896903,0.46347621719687,-0.8522407224613342,1.0642152390467987,-0.22392679469042504,-0.47013131184203516,-0.08014335667388507,-0.9920848882034486,0.5205956651760436,-0.395285138627946,-0.42482968068613924,0.351206957375736,0.481202942431786,-0.007266819597008135,-0.6198236582702146,1.3379946621193899,-0.6966394676215165,0.2842393287104979,1.024822516302541,-0.9546618015964043,0.31969277918033,-0.9251172595382111,0.9499763430884519,-1.6105506352882935,-0.5607345741538281,1.0740634197328631,0.6230167443111138,0.38666040784556804,0.8180107218951885,0.10697207636133862,-0.7970909106193739,0.5008993038039148,0.22121097231968595,-0.09983971804601388,0.6190774720366877,-0.2495320644741927,-0.1392324407902715,-0.8148176358542893,1.773284248443436,-2.110838214140365,0.03803481155888779,1.1114865063399084,-1.3741942988227476,0.7293770957206089,0.39650858853163246,0.17984861343821557,-0.16680734671125194,0.536352754273747,-0.976327799105746,-0.5489167573305505,0.016368814049546213,0.43393167513867675,-1.6282773605232095,0.28226969257328516,-0.759667824012329,2.0155494933206204,1.3202679368844732,-1.2146537717085044,-0.4051333193140104,0.8692212614627239,-0.4996758539002284,1.3478428428054543,1.0740634197328631,0.7116503704856935,-1.468736833408966,1.6807113499944306,0.8810390782860011,-1.6578219025814027,0.11485062091019026,0.5028689399411276,1.3675392041775831,-0.032872089380775814,0.39453895239441916,0.0616704452054427,-0.3716495049813911,0.5028689399411276,0.38272113557114196,-1.7306984396582792,-0.05453808689011739,0.22515024459411148,-1.0334472470849196,-0.16680734671125194,0.43984058355031563,0.6289256527227521,-0.25544097288583156,-1.4470708358996243,1.2454217636703835,-0.4484653143326936,0.09712389567527423,0.28817860098492404,2.02933694628111,2.145545478376671,0.1187898931846158,-1.917813872693503,0.2349984252801759,-1.4391922913507729,-0.20423043331829624,-0.40119404703958433,-0.6867912869354521,1.3498124789426664,0.2586340589267308,0.7628609100532282,0.9322496178535359,-0.2711980619835343,-0.17468589126010303,-0.10968789873207828,0.5974114745273461,-0.20620006945550956,-0.6395200196423434,-0.023023908694711406,-1.0117812495755774,0.666348739329797,-2.0202349518285727,-0.09590044577158778,1.4916262808219936,0.23893769755460198,-0.20816970559272233,-1.8902389667725226,0.10500244022412586,-0.0840826289483106,0.7293770957206089,-2.847482129457983,0.11682025704740304,-0.8187569081287155,0.17393970502657669,1.3360250259821764,1.3379946621193899,-1.7937267960490915,0.7628609100532282,-0.7636070962867546,-0.3874065940790944,-0.3125604208650047,0.28226969257328516,-0.9310261679498495,1.739800434110817,0.04591335610773943,-0.6946698314843037,-0.5961880246236597,0.28030005643607236,-0.028932817106350275,1.3931444739613497,0.2507555143778792,0.46347621719687,0.5146867567644053,0.5186260290388308,-1.0649614252803257,1.562533181761658,-1.1988966826108012,-0.2731676981207471,0.512717120627192,0.5816543854296429,-2.8986926690255177,-0.032872089380775814,0.2290895168685376,0.7805876352881442,-0.49573658162580286,-0.22589643082763838,0.7746787268765054,-0.611945113721363,0.0813668065775715,0.7372556402694606,-0.7380018265029874,0.40832640535490966,1.9111587780483374,-1.0452650639081968,-0.4287689529605648,-1.671609355541893,-0.5331596682328477,-1.8961478751841612,-0.5804309355259569,-1.0137508857127908,-1.4037388408809408,-0.38346732180466886,0.2527251505150919,0.26454296733836913,-0.40907259158843595,-0.4977062177630156,-0.7537589156006902,2.0313065824183236,-0.2101393417299351,1.4719299194498647,-0.5095240345862928,-1.0728399698291773,1.2020897686517003,-0.9211779872637851,-2.5205225306806445,-0.8620889031473986,-0.2692284258463215,1.03073142471418,0.548170571097024,0.2133324277708343,0.6269560165855393,-0.028932817106350275,-0.09196117349716225,-0.37558877725581724,-0.6454289280539817,-0.489827673214164,-0.14317171306469703,-0.759667824012329,2.3641750896073,-0.044689906204052984,-0.49376694548859007,1.6846506222688562,-0.25741060902304436,0.18969679412427998,-1.1614735960037568,-0.05256845075290462,1.0760330558700764,-0.531190032095635,-0.7123965567192198,0.561958024057514,1.8264644241481833,0.400447860806058,0.764830546190441,-0.25544097288583156,-0.5272507598212088,-0.1451413492019098,1.0327010608513927,-0.40119404703958433,-0.0643862675761818,-1.1023845118873705,0.7904358159742086,-0.49179730935137733,0.6565005586437326,0.0715186258915071,1.5526850010755935,-0.16680734671125194,0.975581612872219,-0.7399714626402002,0.9420977985396003,-0.7261840096797098,1.150879229084166,-0.5961880246236597,-0.4051333193140104,1.7358611618363915,0.26454296733836913,-0.009236455734221464,1.6511668079362374,1.0464885138118831,-1.0708703336919638,-0.07226481212503343,-0.8975423536172307,-1.0669310614175382,-0.15695916602518753,0.8810390782860011,1.8047984266388424,0.6643791031925842,-0.5174025791351444,0.5639276601947274,-0.822696180403141,-0.6099754775841502,1.3734481125892208,0.5954418383901333,-0.5233114875467832,-0.7202751012680714,-0.3204389654138563,1.2572395804936614,1.5901080876826377,-0.2810462426695987,-0.0643862675761818,0.26651260347558187,0.6919540091135646,0.863312353051085,0.5501402072342368,2.5217459805843307,0.067579353617081,0.38272113557114196,0.7549823655043766,-0.9586010738708299,-0.12150571555535546,0.11485062091019026,0.018338450186758982,-0.2810462426695987,-0.5134633068607188,-0.5095240345862928,-0.17862516353452912,1.066184875184012,0.7411949125438867,0.7805876352881442,-1.3032873978830841,0.7628609100532282,-0.023023908694711406,-1.0964756034757315,-1.0708703336919638,0.1325773461451063,-0.30074260404172753,0.0616704452054427,1.0878508726933531,-1.2461679499039104,0.0006117249518429412,0.1837878857126411,-0.4464956781954808,1.0740634197328631,-1.043295427770984,0.301966053945414,-1.051173972319835,-0.8483014501869086,0.5698365686063657,-1.5317651897997782,-0.6414896557795562,-0.9723885268313198,0.9854297935582834,0.49302075925506317,-0.09983971804601388,0.4733243978829344,0.5698365686063657,-0.6080058414469368,1.4069319269218405,0.7195289150345445,-0.42089040841171316,0.22121097231968595,-0.1490806214763359,0.6998325536624157,0.7687698184648666,-0.39331550249073327,0.32166241531754275,-0.6907305592098781,0.4536280365108056,0.6427131056832426,2.1573632951999477,-0.8364836333636315,-1.4234352022530696,0.8475552639533818,-1.9532673231633348,-0.35983168815811395,-2.195532568040519,2.819161037303476,-1.1319290539455635,-0.8364836333636315,1.028761788576967,-1.4234352022530696,-1.8488766078910521,-1.317074850843574,-0.4366474975094164,1.8441911493831,0.5087778483527665,-0.7222447374052842,1.0681545113212247,-0.1490806214763359,0.05379190065659106,1.0996686895166308,0.9066443480697682,0.1640915243405123,0.4792333062945732,-1.0826881505152417,-1.4529797443112629,0.6171078358994749,0.8554338085022334,0.6978629175252029,1.2375432191215325,1.9387336839693186,1.9860049512624272,0.18181824957542833,-0.858149630872973,-0.9428439847731266,0.634834561134391,1.8382822409714612,0.32757132372918163,-0.7261840096797098,1.0327010608513927,1.2808752141402155,0.4871118508434249,1.1922415879656358,-0.7833034576588833,-0.6198236582702146,-1.8173624296956459,0.6683183754670097,-1.3446497567645546,-0.35983168815811395,-0.7872427299333095,3.8177665588704066,-0.05256845075290462,0.059700809068229374,2.1219098447301157,-1.092536331201306,-2.225077110098712,0.06954898975429377,-0.4366474975094164,0.5087778483527665,1.0976990533794175,0.2940875093965623,-0.2515017006114055,1.781162792992288,-0.048629178478479085,0.3649944103362259,0.9775512490094324,-0.611945113721363,0.15030407138002236,-2.063566946847256,0.17787897730100224,-0.37558877725581724,-1.5593400957207586,-0.7636070962867546,1.389205201686924,-0.8029998190310121,0.44377985582474117,1.1528488652213784,-0.15105025761354868,-0.6493682003284078,1.1390614122608884,-0.8089087274426511,0.5008993038039148,-1.3032873978830841,1.2513306720820223,-0.6001272968980857,0.036065175421675026,0.5186260290388308,-0.9231476234009978,-1.285560672648168,-1.104354148024583,-0.18650370808338076,-0.8995119897544435,0.018338450186758982,-0.3716495049813911,0.5402920265481724,2.1987256540814184,0.2842393287104979,0.9440674346768131,0.4949903953922765,1.9899442235368527,-0.6769431062493877,-0.8345139972264182,-0.489827673214164,-0.08211299281109784,-1.0334472470849196,-0.39331550249073327,-0.6848216507982393,0.21136279163362154,0.8475552639533818,0.8258892664440401,-1.466767197271753,0.6722576477414358,0.6387738334088165,0.23893769755460198,0.8180107218951885,0.8239196303068275,-1.1457165069060535,-1.222532316257356,0.26651260347558187,0.660439830918158,-1.9453887786144832,-0.5331596682328477,-0.9093601704405079,1.6235919020152576,-0.5863398439375953,-0.2002911610438707,-0.28892478721845033,2.9353695693990356,-1.0216294302616418,-2.97550847837682,1.6590453524850886,1.2257254022982547,0.3768122271595037,-0.16680734671125194,0.7589216377788022,0.2862089648477107,-2.3885569094873813,0.8987658035209172,1.0228528801653283,0.3669640464734393,-0.5567953018794021,-0.17665552739731635,-0.6848216507982393,-0.854210358598547,1.416780107607905,-0.4543742227443325,1.59798663223149,1.2434521275331714,0.7136200066229063,0.21136279163362154,-1.2461679499039104,0.46347621719687,0.00258136108905627,-0.023023908694711406,1.6393489911129597,-0.728153645816923,0.4615065810596572,-0.48391876480252566,0.7904358159742086,-0.5508863934677637,-0.12347535169256822,-0.31059078472779195,-1.3781335710971738,0.9066443480697682,0.3098445984942656,-0.18059479967174188,1.6748024415827918,0.04394371997052666,-0.4622527672931841,0.4536280365108056,1.1449703206725272,-1.317074850843574,-0.47407058411646125,0.2901482371221368,-0.4051333193140104,1.1252739593003984,0.33938914055245883,0.9716423405977935,-1.1437468707688407,-1.7760000708141754,-1.2028359548852272,1.4876870085475682,-1.3328319399412774,-1.1319290539455635,0.028186630872823387,0.27045187575000795,0.999217246518774,0.055761536793803836,-0.6257325666818528,0.8377070832673174,1.0858812365561408,-1.2776821280993165,-1.389951387920451,-0.4681616757048224,-0.42679931682335204,-0.34998350747204954,0.7352860041322478,0.17590934116378945,-1.1752610489642468,-0.37361914111860445,0.5895329299784945,-0.044689906204052984,-0.3046818763161536,-0.37558877725581724,-0.22786606696485115,1.4384461051172461,1.30451084778677,1.5211708228801868,-0.003327547322582597,0.48908148698063764,-0.9507225293219782,0.2862089648477107,-0.8325443610892054,0.03803481155888779,-0.31453005700221803,-0.0683255398506079,2.5906832453867814,2.630075968131039,-1.0472347000454096,-0.28301587880681145,-0.952692165459191,0.148334435242809,1.6610149886223018,-0.08605226508552337,-0.539068576644486,-1.407678113155367,-1.2501072221783365,1.3202679368844732,0.7490734570927378,1.1587577736330172,0.6052900190761977,-1.2698035835504653,-1.0984452396129443,-1.486463558643882,1.1390614122608884,-0.3421049629231979,0.9913387019699224,0.6899843729763513,-1.5238866452509268,-1.1713217766898212,-0.6257325666818528,0.4221138583153996,-0.6986091037587299,1.150879229084166,0.04591335610773943,-0.01514536414585977,-0.3263478738254952,0.9558852515000902,1.5684420901732967,0.20545388322198269,-0.871937083833463,-0.875876356107889,-1.6085809991510807,-0.8483014501869086,-0.8384532695008443,-0.36967986884417836,0.004550997226269039,-0.10771826259486551,-0.07620408439945897,0.21530206390804707,-0.7320929180913486,-0.840422905638057,0.4555976726480189,-0.19832152490665794,-1.5908542739161646,-0.18847334422059353,-0.50755439844908,-1.1220808732594991,0.7372556402694606,0.44968876423638005,0.28030005643607236,-1.4746457418206047,0.07742753430314542,0.9558852515000902,-0.9448136209103399,0.20151461094755713,0.5678669324691529,0.7786179991509309,0.6998325536624157,0.845585627816169,1.0839116004189275,1.3281464814333255,-0.1490806214763359,0.301966053945414,0.18575752184985386,-0.9625403461452554,-0.5607345741538281,-0.3302871460999207,0.6407434695460292,0.31181423463147834,0.35711586578737486,0.41423531376654793,-1.55343118730912,0.21530206390804707,0.6722576477414358,0.6860451007019257,0.45953694492244446,0.9204318010302587,0.1542433436544479,0.004550997226269039,-0.125444987829781,1.422689016019543,-1.986751137495954,-0.840422905638057,0.014399177912333444,-1.0492043361826222,0.4181745860409741,0.0518222645193783,-0.1352931685158454,-0.9487528931847655,-0.9132994427149334,0.4851422147062121,0.7707394546020798,1.7358611618363915,-0.23377497537648945,0.46347621719687,0.6958932813879901,-0.07620408439945897,0.31378387076869113,-1.4273744745274959,-1.7720607985397496,0.10894171249855139,0.9617941599117291,0.18772715798706663,0.5501402072342368,0.20348424708476992,0.5166563929016181,1.704346983640985,-0.871937083833463,0.3787818632967164,-2.2408341991964154,-2.9124801219860075,-1.5829757293673132,0.8849783505604266,0.036065175421675026,1.1823934072795717,0.08924535112642258,0.301966053945414,-0.6670949255633233,0.20151461094755713,-1.9040264197330128,-0.20816970559272233,-0.724214373542497,0.9184621648930459,0.7116503704856935,1.8382822409714612,0.09909353181248699,-0.724214373542497,0.5698365686063657,-0.4524045866071197,-1.8035749767351559,-0.3874065940790944,0.067579353617081,0.3649944103362259,0.08727571498920982,0.6269560165855393,1.048458149949096,-0.9645099822824688,-0.25544097288583156,0.04985262838216497,-0.6533074726028333,0.08924535112642258,2.9747622921432932,1.59798663223149,-0.9822367075173842,-1.1752610489642468,-0.6533074726028333,0.33151059600360716,-1.519947372976501,0.33741950441524604,-0.4563438588815452,-1.2776821280993165,0.6742272838786486,1.1666363181818682,-1.6400951773464867,-0.6986091037587299,-0.6001272968980857,1.5566242733500188,0.0616704452054427,-0.33422641837434686,-1.6322166327976353,-0.4878580370769512,2.2755414634327207,-0.30862114859057915,0.8278589025812529,-0.8049694551682249,1.2001201325144881,0.1187898931846158,-1.4431315636251985,0.764830546190441,0.24287696982902754,0.8180107218951885,-0.22786606696485115,0.2862089648477107,-0.23574461151370277,-1.1260201455339247,-0.7025483760331553,-0.21210897786714789,1.7496486147968815,-0.661186017151685,2.2066041986302696,-0.5351293043700605,0.04591335610773943,3.224906081569329,-0.3421049629231979,-0.6473985641911945,0.8731605337371494,0.6624094670553714,-0.9881456159290231,0.5521098433714496,-0.7478500071890518,1.241482491395958,1.028761788576967,0.6722576477414358,-0.8384532695008443,-1.1535950514549052,-0.6040665691725113,0.3649944103362259,1.3734481125892208,1.0208832440281155,-1.0314776109477062,-0.7813338215216706,-0.6986091037587299,0.8436159916789563,0.7943750882486342,-0.8660281754218248,-1.7070628060117248,0.09318462340084868,-1.2776821280993165,0.4043871330804836,-0.16680734671125194,-1.137837962357202,0.3039356900826267,0.2862089648477107,-0.12150571555535546,0.536352754273747,0.016368814049546213,-0.1608984382996131,1.7122255281898373,-0.2613498812974699,-0.5233114875467832,-0.5784612993887436,0.7136200066229063,1.9466122285181695,-1.1949574103363756,-0.47407058411646125,-0.42482968068613924,0.8061929050719114,0.8495249000905951,-0.07620408439945897,0.9873994296954968,-0.003327547322582597,0.15227370751723512,1.5093530060569103,0.4457494919619545,1.4640513749010138,2.4567479880563052,0.8869479866976394,-1.5396437343486298,0.26454296733836913,-0.8837549006567402,-1.1260201455339247,-1.2166234078457172,1.3419339343938153,-0.5193722152723572,1.501474461508058,0.1424255268311707,-0.6493682003284078,-0.23771424765091556,0.5284742097248952,-1.0393561554965578,0.8101321773463375,1.6984380752293462,-0.4386171336466292,-0.8857245367939535,0.24287696982902754,-0.36771023270696557,1.1607274097702305,-0.40907259158843595,0.26257333120115633,-0.09787008190880112,-0.63755038350513,0.400447860806058,1.2060290409261258,-0.06635590371339456,1.8402518771086744,0.08924535112642258,0.10106316794970031,-0.1608984382996131,0.2487858782406664,-1.0216294302616418,0.9795208851466451,0.24090733369181477,0.19757533867313104,1.2119379493377647,-0.6217932944074274,-1.748425164893195,-0.9507225293219782,-0.0683255398506079,0.2783304202988596,1.79691988208999,-0.18256443580895465,1.2375432191215325,-0.6237629305446402,-0.40119404703958433,0.04591335610773943,-3.028688654081568,0.6269560165855393,0.5245349374504698,-0.4169511361372876,-0.13332353237863262,-0.1352931685158454,0.530443845862108,-1.0826881505152417,0.6131685636250493,1.8028287905016291,-1.720850258972215,-1.389951387920451,-1.3801032072343866,-1.2205626801201432,0.026216994735610618,0.26257333120115633,0.9952779742443478,-0.20226079718108347,-0.7557285517379029,-0.39331550249073327,0.733316367995035,2.383871450979429,-1.488433194781095,0.7924054521114214,0.7352860041322478,-1.0472347000454096,1.3911748378241373,1.4522335580777361,0.6466523779576682,-0.8423925417752698,-0.3263478738254952,0.9145228926186199,-1.900087147458587,-1.007841977301152,-0.2416535199253411,-0.06241663143896903,-1.4273744745274959,-0.9113298065777207,-0.7990605467565867,-1.118141600985073,0.004550997226269039,-0.678912742386601,-0.9389047124987011,0.10500244022412586,-0.531190032095635,-0.7970909106193739,1.2749663057285767,1.066184875184012,0.4654458533340833,-0.25347133674861827,1.2060290409261258,-0.19241261649501906,-1.3643461181366832,-0.45043495046990634,0.3768122271595037,0.19560570253591827,-0.17074661898567747,1.5704117263105088,-1.5967631823278035,-0.4071029554512232,0.5087778483527665,0.8298285387184663,-0.4386171336466292,0.39847822466884525,1.534958275840678,-0.19438225263223183,-0.18256443580895465,0.7924054521114214,0.28817860098492404,0.15030407138002236,-0.7990605467565867,-0.22786606696485115,-0.4425564059210553,-1.415556657704218,-1.309196306294723,-1.141777234631628,1.6078348129175544,-1.4057084770181536,-1.2441983137666976,-0.25544097288583156,-0.46619203956760963,2.399628540077132,-0.10180935418322665,-0.5331596682328477,1.458142466489375,-1.419495929978644,0.8692212614627239,-0.2751373342579604,0.3590855019245876,0.20151461094755713,-1.1398075984944147,1.093759781104992,0.04394371997052666,-0.7793641853844578,1.9269158671460407,0.5146867567644053,-0.44452604205826807,-0.9290565318126367,-0.7183054651308586,1.3340553898449632,-0.36967986884417836,-0.11756644328092992,-2.4397674490549166,-0.38346732180466886,-0.42089040841171316,-0.25544097288583156,0.37484259102229034,0.9637637960489419,-0.7458803710518385,-0.1490806214763359,0.5008993038039148,0.8810390782860011,0.536352754273747,0.7037718259368418,-0.5528560296049765,0.4043871330804836,0.7845269075625698,-1.0767792421036027,-1.0590525168686866,-1.5494919150346942,0.25666442278951745,-0.25544097288583156,-0.1549895298879742,1.0031565187931994,2.1849382011209286,1.9328247755576797,0.2940875093965623,1.704346983640985,0.1187898931846158,1.8875231444017833,-1.3249533953924257,-0.0742344482622462,0.22711988073132425,-0.1392324407902715,0.09515425953806145,1.0208832440281155,2.135697297690607,0.06364008134265547,-1.3131355785691485,-1.4451011997624115,0.2349984252801759,0.0577311729310166,0.6505916502320936,-0.710426920582007,-0.23968388378812833,-0.63755038350513,0.1640915243405123,-0.023023908694711406,0.07939717044035818,0.16015225206608674,-0.05256845075290462,0.14045589069395795,-0.5469471211933377,0.02030808632397175,1.1587577736330172,-0.20620006945550956,0.44181021968752837,1.9407033201065307,0.1424255268311707,0.8613427169138723,-0.7557285517379029,1.0681545113212247,-1.068900697554751,1.5566242733500188,0.04985262838216497,1.2257254022982547,-0.4977062177630156,0.7727090907392926,1.7102558920526238,-1.5317651897997782,-2.628852518227353,1.241482491395958,0.8928568951092782,0.46347621719687,-1.1673825044153952,-0.18847334422059353,-2.4574941742898324,-0.5942183884864469,-1.3288926676668518,-1.6657004471302543,0.8652819891882978,0.9361888901279615,1.548745728801168,-0.611945113721363,-1.5475222788974814,-0.3558924158836884,0.6722576477414358,-0.6198236582702146,0.7668001823276538,-0.7478500071890518,1.339964298256602,-0.2101393417299351,1.9249462310088274,-0.125444987829781,-1.5790364570928874,1.2493610359448102,-0.6336111112307046,0.09909353181248699,-0.6080058414469368,-0.03878099779241468,0.5974114745273461,1.739800434110817,-0.0742344482622462,0.4792333062945732,-1.285560672648168,0.2290895168685376,-1.91584423655629,0.067579353617081,1.2533003082192358,0.09121498726363592,1.0819419642817152,0.02424735859839785,0.06364008134265547,-0.9211779872637851,1.1607274097702305,0.6565005586437326,1.0583063306351603,-0.24362315606255386,-0.629671838956279,0.10697207636133862,-0.01514536414585977,0.18575752184985386,-0.9743581629685332,-0.678912742386601,0.39847822466884525,-0.9113298065777207,0.40635676921769687,-1.340710484490129,-0.8167872719915027,-0.458313495018758,2.2972074609420625,-1.1023845118873705,0.02030808632397175,-0.6355807473679173,1.7279826172875394,0.7530127293671638,-2.1049293057287266,-0.6730038339749621,-0.05256845075290462,-1.0807185143780282,-0.5804309355259569,0.09712389567527423,0.4299924028642512,-0.2948336956300892,-1.236319769217846,-0.09590044577158778,1.0149743356164767,-2.5362796197783473,0.5245349374504698,0.27439114802443354,2.848705579361669,0.9598245237745163,-0.6158843859957884,-0.4287689529605648,-0.4819491286653129,0.4536280365108056,-1.2796517642365297,0.3452980489640971,0.055761536793803836,0.6958932813879901,-0.3421049629231979,0.5718062047435785,0.008490269500694578,-0.09590044577158778,0.4792333062945732,0.39059968011999363,0.14439516296838348,0.08530607885199705,0.3669640464734393,1.221786130023829,1.422689016019543,-0.2002911610438707,-0.9723885268313198,0.2960571455337751,-1.0452650639081968,-0.5745220271143181,0.3709033187478648,-0.6336111112307046,0.42408349445261234,0.3059053262198395,-1.7897875237746657,1.2139075854749781,0.49105112311785043,-0.42286004454892645,-0.7872427299333095,-2.0931114889054494,2.0766082135742203,-1.2520768583155493,0.026216994735610618,-0.5587649380166149,-0.43467786137220366,0.28817860098492404,0.530443845862108,0.8908872589720654,-0.7557285517379029,-0.588309480074808,-0.5134633068607188,0.5658972963319401,0.9263407094418971,-0.36574059656975283,-0.7261840096797098,0.1325773461451063,0.9243710733046843,1.2158772216121903,-0.9901152520662359,-1.007841977301152,0.7628609100532282,0.5521098433714496,0.481202942431786,0.993308338107135,0.8849783505604266,-1.2973784894714453,0.46347621719687,0.20742351935919545,0.6821058284275002,-0.7892123660705223,-0.38346732180466886,-1.2028359548852272,1.27693594186579,1.5881384515454255,-2.3412856421942725,2.9255213887129714,-0.4051333193140104,-1.9040264197330128,1.0760330558700764,-0.17074661898567747,-1.9197835088307158,-0.994054524340662,-0.875876356107889,0.13060771000789353,-2.1718969343939647,-1.671609355541893,-0.9546618015964043,-0.6592163810144722,-0.6828520146610265,-0.1451413492019098,0.4299924028642512,0.17590934116378945,0.7037718259368418,-1.5947935461905904,0.9657334321861546,-3.505340599287085,-0.710426920582007,-1.1220808732594991,-0.16483771057403862,0.09712389567527423,-0.3263478738254952,0.07545789816593264,-1.2835910365109553,0.9420977985396003,0.17590934116378945,-0.14711098533912315,0.9027050757953426,-0.23968388378812833,0.796344724385847,0.8199803580324019,-0.18256443580895465,0.8317981748556791,-1.0039027050267264,-0.08014335667388507,0.4713547617457216,0.016368814049546213,-0.17665552739731635,-0.6848216507982393,-0.19438225263223183,-0.9073905343032951,0.6308952888599648,0.5599883879203013,-1.6322166327976353,0.8298285387184663,0.660439830918158,0.4162049499037613,1.0543670583607343,0.9598245237745163,1.0149743356164767,-0.791182002207735,-1.0590525168686866,0.34726768510131045,-0.12741462396699432,1.0602759667723731,-0.30862114859057915,-0.63755038350513,-0.25347133674861827,0.0478829922449522,-2.561884889562115,0.5146867567644053,0.6761969200158614,0.512717120627192,-1.3032873978830841,1.1567881374958038,-0.9782974352429586,0.04985262838216497,1.726012981150327,-0.9664796184196816,-0.265289153571896,1.066184875184012,-0.6493682003284078,-0.4386171336466292,-0.5981576607608724,-0.8305747249519926,-1.7129717144233632,-0.19241261649501906,-0.9152690788521467,-0.5666434825654665,-0.25938024516025715,-0.970418890694107,-0.11953607941814269,-0.8463318140496959,1.1922415879656358,-0.5843702078003825,-0.8955727174800179,0.18181824957542833,0.6742272838786486,-0.5804309355259569,-0.45043495046990634,0.530443845862108,1.326176845296112,-0.43073858909777757,-0.5508863934677637,-0.4524045866071197,-0.4563438588815452,1.3517821150798797,-1.0905666950640927,0.5462009349598114,0.5402920265481724,0.18772715798706663,0.5698365686063657,-0.1451413492019098,1.6038955406431288,0.3413587766896716,-0.6730038339749621,1.4857173724103558,0.7254378234461833,-0.9113298065777207,-0.5824005716631697,0.548170571097024,0.5324134819993208,-0.6040665691725113,0.3492373212385232,-1.6755486278163187,1.7063166197781983,-1.7110020782861506,0.17787897730100224,0.39453895239441916,-1.285560672648168,0.31969277918033,-0.3854369579418816,1.2119379493377647,-1.4588886527229017,-0.3046818763161536,-1.6794879000907441,0.33741950441524604,0.4615065810596572,0.5934722022529205,0.21924133618247318,0.2349984252801759,-0.1352931685158454,-0.328317509962708,-0.5843702078003825,-2.2723483773918214,0.13454698228231907,1.1036079617910564,1.5743509985849355,0.4024174969432708,0.010459905637907347,0.4871118508434249,0.5836240215668562,2.054942216064878,-1.5928239100533776,0.03212590314724949,-0.9192083511265723,-0.1589288021624003,-0.14317171306469703,0.652561286369307,-0.5331596682328477,0.660439830918158,-1.2698035835504653,1.3852659294124985,0.2606036950639436,0.49892966766670205,-0.7970909106193739,-1.019659794124429,-0.7852730937960961,0.5205956651760436,-1.3348015760784901,-0.8384532695008443,0.351206957375736,-0.0840826289483106,1.1114865063399084,0.08924535112642258,-0.9369350763614883,-0.45043495046990634,0.6033203829389849,1.3931444739613497,1.1173954147515464,1.822525151873758,0.21727170004525986,-0.19241261649501906,0.49892966766670205,-1.2560161305899749,-0.5430078489189121,0.8692212614627239,-0.9861759797918104,1.1902719518284237,-0.822696180403141,0.5796847492924301,-1.4352530190763468,1.3202679368844732,1.1390614122608884,-1.4588886527229017,0.33938914055245883,2.210543470904695,-0.3381656906487724,-0.8187569081287155,0.48908148698063764,2.4587176241935187,0.010459905637907347,-1.6164595436999323,3.28005589341129,0.010459905637907347,0.9066443480697682,-1.0570828807314738,-0.395285138627946,0.055761536793803836,-0.01514536414585977,0.04985262838216497,-0.4819491286653129,0.5324134819993208,0.6072596552134105,-0.3480138713348368,-1.9138746004190772,0.11682025704740304,-0.47013131184203516,-0.32437823768828244,-0.18059479967174188,0.5166563929016181,-1.4588886527229017,-0.9842063436545976,0.38272113557114196,-2.697789783029804,-0.858149630872973,0.03803481155888779,0.3768122271595037,-0.5942183884864469,0.5974114745273461,0.2448466059662403,-0.0013579111853698278,-0.19832152490665794,0.5777151131552173,1.7476789786596683,-0.30074260404172753,-0.9389047124987011,-1.1949574103363756,-0.4543742227443325,-1.236319769217846,-1.1634432321409696,0.148334435242809,0.4654458533340833,0.2999964178082012,-0.0781737205366723,-0.5213418514095706,-0.33422641837434686,-0.8778459922451018,-0.4563438588815452,0.17393970502657669,0.6269560165855393,0.17393970502657669,-0.48391876480252566,-1.8862996944980968,0.8416463555417435,-0.35195314360926233,-0.12741462396699432,-0.31059078472779195,0.7707394546020798,0.0518222645193783,0.5974114745273461,0.4024174969432708,1.6098044490547665,0.4201442221781868,1.3084501200611967,1.8894927805389965,-1.535704462074204,-1.638125541209274,-0.5981576607608724,0.1424255268311707,0.796344724385847,-0.8049694551682249,-0.25544097288583156,-0.8364836333636315,0.1542433436544479,0.9795208851466451,-1.3505586651761934,-0.2771069703951732,0.33151059600360716,-0.6749734701121749,-0.611945113721363,0.24681624210345307,0.32166241531754275,1.101638325653844,0.8298285387184663,-0.47013131184203516,-1.0787488782408154,0.8928568951092782,0.7116503704856935,-1.169352140552608,-0.6257325666818528,-0.0013579111853698278,-0.24756242833697994,-0.29286405949287586,-0.060446995301756255,0.5855936577040689,-1.4313137468019212,0.2606036950639436,1.318298300747261,-0.11559680714371659,0.15818261592887342,-2.063566946847256,-0.26725878970910877,0.41423531376654793,-1.2304108608062077,2.068729669025368,-0.9999634327523003,1.3970837462357764,0.5402920265481724,-0.30074260404172753,0.7687698184648666,1.5566242733500188,0.7057414620740545,0.5639276601947274,0.8987658035209172,-0.21210897786714789,-0.31059078472779195,1.0740634197328631,-0.5981576607608724,0.27045187575000795,-1.0039027050267264,0.26454296733836913,-0.265289153571896,1.318298300747261,0.9007354396581299,1.048458149949096,1.7910109736783524,-2.215228929412648,1.2119379493377647,-2.5106743499945803,-0.04272027006684022,-1.0452650639081968,0.9558852515000902,0.13651661841953183,-1.1890485019247368,1.066184875184012,0.666348739329797,-0.38346732180466886,-1.0098116134383648,-0.2948336956300892,0.1837878857126411,-0.11953607941814269,0.8160410857579757,-1.2816214003737425,0.12075952932182914,-0.2002911610438707,-0.1904429803578063,-0.6454289280539817,-2.1581094814334745,-0.19241261649501906,0.11091134863576473,0.8574034446394462,0.8731605337371494,0.5974114745273461,0.7372556402694606,-0.9723885268313198,-1.2422286776294849,-2.197502204177732,0.3413587766896716,0.17590934116378945,-0.08605226508552337,-1.3525283013134062,0.9322496178535359,-0.18059479967174188,1.0070957910676255,1.395114110098563,-0.5134633068607188,0.9893690658327096,1.641318627250173,1.6157133574664053,-0.6867912869354521,-0.9960241604778748,0.536352754273747,-0.026963180969136944,2.02933694628111,1.3281464814333255,0.27045187575000795,-2.7529395948717643,0.6052900190761977,0.3256016875919683,-1.3879817517832382,-1.4372226552135603,0.6052900190761977,0.1837878857126411,-1.1752610489642468,-0.9034512620288689,-0.9448136209103399,1.235573582984319,-0.9290565318126367,0.7707394546020798,-1.4628279249973273,-0.37361914111860445,1.079972328144502,-0.007266819597008135,-0.7045180121703681,-0.47800985639088683,-1.1437468707688407,0.863312353051085,-0.07620408439945897,0.9204318010302587,-0.5114936707235062,0.26454296733836913,0.12666843773346745,-1.6420648134836997,-0.2908944233556631,0.43984058355031563,0.5560491156458757,0.8219499941696147,1.6019259045059153,-0.05453808689011739,-0.5292203959584216,-0.36967986884417836,0.3413587766896716,-0.6887609230726655,-0.8739067199706758,0.9145228926186199,0.5580187517830885,0.17590934116378945,-0.14711098533912315,-1.2205626801201432],\"type\":\"scatter3d\"}],                        {\"template\":{\"data\":{\"histogram2dcontour\":[{\"type\":\"histogram2dcontour\",\"colorbar\":{\"outlinewidth\":0,\"ticks\":\"\"},\"colorscale\":[[0.0,\"#0d0887\"],[0.1111111111111111,\"#46039f\"],[0.2222222222222222,\"#7201a8\"],[0.3333333333333333,\"#9c179e\"],[0.4444444444444444,\"#bd3786\"],[0.5555555555555556,\"#d8576b\"],[0.6666666666666666,\"#ed7953\"],[0.7777777777777778,\"#fb9f3a\"],[0.8888888888888888,\"#fdca26\"],[1.0,\"#f0f921\"]]}],\"choropleth\":[{\"type\":\"choropleth\",\"colorbar\":{\"outlinewidth\":0,\"ticks\":\"\"}}],\"histogram2d\":[{\"type\":\"histogram2d\",\"colorbar\":{\"outlinewidth\":0,\"ticks\":\"\"},\"colorscale\":[[0.0,\"#0d0887\"],[0.1111111111111111,\"#46039f\"],[0.2222222222222222,\"#7201a8\"],[0.3333333333333333,\"#9c179e\"],[0.4444444444444444,\"#bd3786\"],[0.5555555555555556,\"#d8576b\"],[0.6666666666666666,\"#ed7953\"],[0.7777777777777778,\"#fb9f3a\"],[0.8888888888888888,\"#fdca26\"],[1.0,\"#f0f921\"]]}],\"heatmap\":[{\"type\":\"heatmap\",\"colorbar\":{\"outlinewidth\":0,\"ticks\":\"\"},\"colorscale\":[[0.0,\"#0d0887\"],[0.1111111111111111,\"#46039f\"],[0.2222222222222222,\"#7201a8\"],[0.3333333333333333,\"#9c179e\"],[0.4444444444444444,\"#bd3786\"],[0.5555555555555556,\"#d8576b\"],[0.6666666666666666,\"#ed7953\"],[0.7777777777777778,\"#fb9f3a\"],[0.8888888888888888,\"#fdca26\"],[1.0,\"#f0f921\"]]}],\"heatmapgl\":[{\"type\":\"heatmapgl\",\"colorbar\":{\"outlinewidth\":0,\"ticks\":\"\"},\"colorscale\":[[0.0,\"#0d0887\"],[0.1111111111111111,\"#46039f\"],[0.2222222222222222,\"#7201a8\"],[0.3333333333333333,\"#9c179e\"],[0.4444444444444444,\"#bd3786\"],[0.5555555555555556,\"#d8576b\"],[0.6666666666666666,\"#ed7953\"],[0.7777777777777778,\"#fb9f3a\"],[0.8888888888888888,\"#fdca26\"],[1.0,\"#f0f921\"]]}],\"contourcarpet\":[{\"type\":\"contourcarpet\",\"colorbar\":{\"outlinewidth\":0,\"ticks\":\"\"}}],\"contour\":[{\"type\":\"contour\",\"colorbar\":{\"outlinewidth\":0,\"ticks\":\"\"},\"colorscale\":[[0.0,\"#0d0887\"],[0.1111111111111111,\"#46039f\"],[0.2222222222222222,\"#7201a8\"],[0.3333333333333333,\"#9c179e\"],[0.4444444444444444,\"#bd3786\"],[0.5555555555555556,\"#d8576b\"],[0.6666666666666666,\"#ed7953\"],[0.7777777777777778,\"#fb9f3a\"],[0.8888888888888888,\"#fdca26\"],[1.0,\"#f0f921\"]]}],\"surface\":[{\"type\":\"surface\",\"colorbar\":{\"outlinewidth\":0,\"ticks\":\"\"},\"colorscale\":[[0.0,\"#0d0887\"],[0.1111111111111111,\"#46039f\"],[0.2222222222222222,\"#7201a8\"],[0.3333333333333333,\"#9c179e\"],[0.4444444444444444,\"#bd3786\"],[0.5555555555555556,\"#d8576b\"],[0.6666666666666666,\"#ed7953\"],[0.7777777777777778,\"#fb9f3a\"],[0.8888888888888888,\"#fdca26\"],[1.0,\"#f0f921\"]]}],\"mesh3d\":[{\"type\":\"mesh3d\",\"colorbar\":{\"outlinewidth\":0,\"ticks\":\"\"}}],\"scatter\":[{\"fillpattern\":{\"fillmode\":\"overlay\",\"size\":10,\"solidity\":0.2},\"type\":\"scatter\"}],\"parcoords\":[{\"type\":\"parcoords\",\"line\":{\"colorbar\":{\"outlinewidth\":0,\"ticks\":\"\"}}}],\"scatterpolargl\":[{\"type\":\"scatterpolargl\",\"marker\":{\"colorbar\":{\"outlinewidth\":0,\"ticks\":\"\"}}}],\"bar\":[{\"error_x\":{\"color\":\"#2a3f5f\"},\"error_y\":{\"color\":\"#2a3f5f\"},\"marker\":{\"line\":{\"color\":\"#E5ECF6\",\"width\":0.5},\"pattern\":{\"fillmode\":\"overlay\",\"size\":10,\"solidity\":0.2}},\"type\":\"bar\"}],\"scattergeo\":[{\"type\":\"scattergeo\",\"marker\":{\"colorbar\":{\"outlinewidth\":0,\"ticks\":\"\"}}}],\"scatterpolar\":[{\"type\":\"scatterpolar\",\"marker\":{\"colorbar\":{\"outlinewidth\":0,\"ticks\":\"\"}}}],\"histogram\":[{\"marker\":{\"pattern\":{\"fillmode\":\"overlay\",\"size\":10,\"solidity\":0.2}},\"type\":\"histogram\"}],\"scattergl\":[{\"type\":\"scattergl\",\"marker\":{\"colorbar\":{\"outlinewidth\":0,\"ticks\":\"\"}}}],\"scatter3d\":[{\"type\":\"scatter3d\",\"line\":{\"colorbar\":{\"outlinewidth\":0,\"ticks\":\"\"}},\"marker\":{\"colorbar\":{\"outlinewidth\":0,\"ticks\":\"\"}}}],\"scattermapbox\":[{\"type\":\"scattermapbox\",\"marker\":{\"colorbar\":{\"outlinewidth\":0,\"ticks\":\"\"}}}],\"scatterternary\":[{\"type\":\"scatterternary\",\"marker\":{\"colorbar\":{\"outlinewidth\":0,\"ticks\":\"\"}}}],\"scattercarpet\":[{\"type\":\"scattercarpet\",\"marker\":{\"colorbar\":{\"outlinewidth\":0,\"ticks\":\"\"}}}],\"carpet\":[{\"aaxis\":{\"endlinecolor\":\"#2a3f5f\",\"gridcolor\":\"white\",\"linecolor\":\"white\",\"minorgridcolor\":\"white\",\"startlinecolor\":\"#2a3f5f\"},\"baxis\":{\"endlinecolor\":\"#2a3f5f\",\"gridcolor\":\"white\",\"linecolor\":\"white\",\"minorgridcolor\":\"white\",\"startlinecolor\":\"#2a3f5f\"},\"type\":\"carpet\"}],\"table\":[{\"cells\":{\"fill\":{\"color\":\"#EBF0F8\"},\"line\":{\"color\":\"white\"}},\"header\":{\"fill\":{\"color\":\"#C8D4E3\"},\"line\":{\"color\":\"white\"}},\"type\":\"table\"}],\"barpolar\":[{\"marker\":{\"line\":{\"color\":\"#E5ECF6\",\"width\":0.5},\"pattern\":{\"fillmode\":\"overlay\",\"size\":10,\"solidity\":0.2}},\"type\":\"barpolar\"}],\"pie\":[{\"automargin\":true,\"type\":\"pie\"}]},\"layout\":{\"autotypenumbers\":\"strict\",\"colorway\":[\"#636efa\",\"#EF553B\",\"#00cc96\",\"#ab63fa\",\"#FFA15A\",\"#19d3f3\",\"#FF6692\",\"#B6E880\",\"#FF97FF\",\"#FECB52\"],\"font\":{\"color\":\"#2a3f5f\"},\"hovermode\":\"closest\",\"hoverlabel\":{\"align\":\"left\"},\"paper_bgcolor\":\"white\",\"plot_bgcolor\":\"#E5ECF6\",\"polar\":{\"bgcolor\":\"#E5ECF6\",\"angularaxis\":{\"gridcolor\":\"white\",\"linecolor\":\"white\",\"ticks\":\"\"},\"radialaxis\":{\"gridcolor\":\"white\",\"linecolor\":\"white\",\"ticks\":\"\"}},\"ternary\":{\"bgcolor\":\"#E5ECF6\",\"aaxis\":{\"gridcolor\":\"white\",\"linecolor\":\"white\",\"ticks\":\"\"},\"baxis\":{\"gridcolor\":\"white\",\"linecolor\":\"white\",\"ticks\":\"\"},\"caxis\":{\"gridcolor\":\"white\",\"linecolor\":\"white\",\"ticks\":\"\"}},\"coloraxis\":{\"colorbar\":{\"outlinewidth\":0,\"ticks\":\"\"}},\"colorscale\":{\"sequential\":[[0.0,\"#0d0887\"],[0.1111111111111111,\"#46039f\"],[0.2222222222222222,\"#7201a8\"],[0.3333333333333333,\"#9c179e\"],[0.4444444444444444,\"#bd3786\"],[0.5555555555555556,\"#d8576b\"],[0.6666666666666666,\"#ed7953\"],[0.7777777777777778,\"#fb9f3a\"],[0.8888888888888888,\"#fdca26\"],[1.0,\"#f0f921\"]],\"sequentialminus\":[[0.0,\"#0d0887\"],[0.1111111111111111,\"#46039f\"],[0.2222222222222222,\"#7201a8\"],[0.3333333333333333,\"#9c179e\"],[0.4444444444444444,\"#bd3786\"],[0.5555555555555556,\"#d8576b\"],[0.6666666666666666,\"#ed7953\"],[0.7777777777777778,\"#fb9f3a\"],[0.8888888888888888,\"#fdca26\"],[1.0,\"#f0f921\"]],\"diverging\":[[0,\"#8e0152\"],[0.1,\"#c51b7d\"],[0.2,\"#de77ae\"],[0.3,\"#f1b6da\"],[0.4,\"#fde0ef\"],[0.5,\"#f7f7f7\"],[0.6,\"#e6f5d0\"],[0.7,\"#b8e186\"],[0.8,\"#7fbc41\"],[0.9,\"#4d9221\"],[1,\"#276419\"]]},\"xaxis\":{\"gridcolor\":\"white\",\"linecolor\":\"white\",\"ticks\":\"\",\"title\":{\"standoff\":15},\"zerolinecolor\":\"white\",\"automargin\":true,\"zerolinewidth\":2},\"yaxis\":{\"gridcolor\":\"white\",\"linecolor\":\"white\",\"ticks\":\"\",\"title\":{\"standoff\":15},\"zerolinecolor\":\"white\",\"automargin\":true,\"zerolinewidth\":2},\"scene\":{\"xaxis\":{\"backgroundcolor\":\"#E5ECF6\",\"gridcolor\":\"white\",\"linecolor\":\"white\",\"showbackground\":true,\"ticks\":\"\",\"zerolinecolor\":\"white\",\"gridwidth\":2},\"yaxis\":{\"backgroundcolor\":\"#E5ECF6\",\"gridcolor\":\"white\",\"linecolor\":\"white\",\"showbackground\":true,\"ticks\":\"\",\"zerolinecolor\":\"white\",\"gridwidth\":2},\"zaxis\":{\"backgroundcolor\":\"#E5ECF6\",\"gridcolor\":\"white\",\"linecolor\":\"white\",\"showbackground\":true,\"ticks\":\"\",\"zerolinecolor\":\"white\",\"gridwidth\":2}},\"shapedefaults\":{\"line\":{\"color\":\"#2a3f5f\"}},\"annotationdefaults\":{\"arrowcolor\":\"#2a3f5f\",\"arrowhead\":0,\"arrowwidth\":1},\"geo\":{\"bgcolor\":\"white\",\"landcolor\":\"#E5ECF6\",\"subunitcolor\":\"white\",\"showland\":true,\"showlakes\":true,\"lakecolor\":\"white\"},\"title\":{\"x\":0.05},\"mapbox\":{\"style\":\"light\"}}},\"scene\":{\"domain\":{\"x\":[0.0,1.0],\"y\":[0.0,1.0]},\"xaxis\":{\"title\":{\"text\":\"Total day minutes\"}},\"yaxis\":{\"title\":{\"text\":\"Total eve minutes\"}},\"zaxis\":{\"title\":{\"text\":\"Total night minutes\"}}},\"coloraxis\":{\"colorbar\":{\"title\":{\"text\":\"Cluster\"}},\"colorscale\":[[0.0,\"#0d0887\"],[0.1111111111111111,\"#46039f\"],[0.2222222222222222,\"#7201a8\"],[0.3333333333333333,\"#9c179e\"],[0.4444444444444444,\"#bd3786\"],[0.5555555555555556,\"#d8576b\"],[0.6666666666666666,\"#ed7953\"],[0.7777777777777778,\"#fb9f3a\"],[0.8888888888888888,\"#fdca26\"],[1.0,\"#f0f921\"]]},\"legend\":{\"tracegroupgap\":0},\"margin\":{\"t\":60}},                        {\"responsive\": true}                    ).then(function(){\n",
              "                            \n",
              "var gd = document.getElementById('3a776cf1-3d46-45d9-967b-963b4e558ca5');\n",
              "var x = new MutationObserver(function (mutations, observer) {{\n",
              "        var display = window.getComputedStyle(gd).display;\n",
              "        if (!display || display === 'none') {{\n",
              "            console.log([gd, 'removed!']);\n",
              "            Plotly.purge(gd);\n",
              "            observer.disconnect();\n",
              "        }}\n",
              "}});\n",
              "\n",
              "// Listen for the removal of the full notebook cells\n",
              "var notebookContainer = gd.closest('#notebook-container');\n",
              "if (notebookContainer) {{\n",
              "    x.observe(notebookContainer, {childList: true});\n",
              "}}\n",
              "\n",
              "// Listen for the clearing of the current output cell\n",
              "var outputEl = gd.closest('.output');\n",
              "if (outputEl) {{\n",
              "    x.observe(outputEl, {childList: true});\n",
              "}}\n",
              "\n",
              "                        })                };                            </script>        </div>\n",
              "</body>\n",
              "</html>"
            ]
          },
          "metadata": {}
        }
      ]
    }
  ]
}