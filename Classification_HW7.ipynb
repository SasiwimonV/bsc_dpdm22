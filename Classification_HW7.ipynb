{
  "nbformat": 4,
  "nbformat_minor": 0,
  "metadata": {
    "colab": {
      "provenance": [],
      "include_colab_link": true
    },
    "kernelspec": {
      "name": "python3",
      "display_name": "Python 3"
    },
    "language_info": {
      "name": "python"
    }
  },
  "cells": [
    {
      "cell_type": "markdown",
      "metadata": {
        "id": "view-in-github",
        "colab_type": "text"
      },
      "source": [
        "<a href=\"https://colab.research.google.com/github/SasiwimonV/bsc_dpdm22/blob/main/Classification_HW7.ipynb\" target=\"_parent\"><img src=\"https://colab.research.google.com/assets/colab-badge.svg\" alt=\"Open In Colab\"/></a>"
      ]
    },
    {
      "cell_type": "code",
      "execution_count": 1,
      "metadata": {
        "id": "KhfOnL76Uzj9"
      },
      "outputs": [],
      "source": [
        "from sklearn.datasets import load_digits\n",
        "digits = load_digits()\n",
        "import matplotlib.pyplot as plt"
      ]
    },
    {
      "cell_type": "code",
      "source": [
        "digits"
      ],
      "metadata": {
        "colab": {
          "base_uri": "https://localhost:8080/"
        },
        "id": "Y8Ru_c2ZWVPv",
        "outputId": "6ae00e8a-7fc8-48bd-ef60-11f7f1b8a864"
      },
      "execution_count": 2,
      "outputs": [
        {
          "output_type": "execute_result",
          "data": {
            "text/plain": [
              "{'data': array([[ 0.,  0.,  5., ...,  0.,  0.,  0.],\n",
              "        [ 0.,  0.,  0., ..., 10.,  0.,  0.],\n",
              "        [ 0.,  0.,  0., ..., 16.,  9.,  0.],\n",
              "        ...,\n",
              "        [ 0.,  0.,  1., ...,  6.,  0.,  0.],\n",
              "        [ 0.,  0.,  2., ..., 12.,  0.,  0.],\n",
              "        [ 0.,  0., 10., ..., 12.,  1.,  0.]]),\n",
              " 'target': array([0, 1, 2, ..., 8, 9, 8]),\n",
              " 'frame': None,\n",
              " 'feature_names': ['pixel_0_0',\n",
              "  'pixel_0_1',\n",
              "  'pixel_0_2',\n",
              "  'pixel_0_3',\n",
              "  'pixel_0_4',\n",
              "  'pixel_0_5',\n",
              "  'pixel_0_6',\n",
              "  'pixel_0_7',\n",
              "  'pixel_1_0',\n",
              "  'pixel_1_1',\n",
              "  'pixel_1_2',\n",
              "  'pixel_1_3',\n",
              "  'pixel_1_4',\n",
              "  'pixel_1_5',\n",
              "  'pixel_1_6',\n",
              "  'pixel_1_7',\n",
              "  'pixel_2_0',\n",
              "  'pixel_2_1',\n",
              "  'pixel_2_2',\n",
              "  'pixel_2_3',\n",
              "  'pixel_2_4',\n",
              "  'pixel_2_5',\n",
              "  'pixel_2_6',\n",
              "  'pixel_2_7',\n",
              "  'pixel_3_0',\n",
              "  'pixel_3_1',\n",
              "  'pixel_3_2',\n",
              "  'pixel_3_3',\n",
              "  'pixel_3_4',\n",
              "  'pixel_3_5',\n",
              "  'pixel_3_6',\n",
              "  'pixel_3_7',\n",
              "  'pixel_4_0',\n",
              "  'pixel_4_1',\n",
              "  'pixel_4_2',\n",
              "  'pixel_4_3',\n",
              "  'pixel_4_4',\n",
              "  'pixel_4_5',\n",
              "  'pixel_4_6',\n",
              "  'pixel_4_7',\n",
              "  'pixel_5_0',\n",
              "  'pixel_5_1',\n",
              "  'pixel_5_2',\n",
              "  'pixel_5_3',\n",
              "  'pixel_5_4',\n",
              "  'pixel_5_5',\n",
              "  'pixel_5_6',\n",
              "  'pixel_5_7',\n",
              "  'pixel_6_0',\n",
              "  'pixel_6_1',\n",
              "  'pixel_6_2',\n",
              "  'pixel_6_3',\n",
              "  'pixel_6_4',\n",
              "  'pixel_6_5',\n",
              "  'pixel_6_6',\n",
              "  'pixel_6_7',\n",
              "  'pixel_7_0',\n",
              "  'pixel_7_1',\n",
              "  'pixel_7_2',\n",
              "  'pixel_7_3',\n",
              "  'pixel_7_4',\n",
              "  'pixel_7_5',\n",
              "  'pixel_7_6',\n",
              "  'pixel_7_7'],\n",
              " 'target_names': array([0, 1, 2, 3, 4, 5, 6, 7, 8, 9]),\n",
              " 'images': array([[[ 0.,  0.,  5., ...,  1.,  0.,  0.],\n",
              "         [ 0.,  0., 13., ..., 15.,  5.,  0.],\n",
              "         [ 0.,  3., 15., ..., 11.,  8.,  0.],\n",
              "         ...,\n",
              "         [ 0.,  4., 11., ..., 12.,  7.,  0.],\n",
              "         [ 0.,  2., 14., ..., 12.,  0.,  0.],\n",
              "         [ 0.,  0.,  6., ...,  0.,  0.,  0.]],\n",
              " \n",
              "        [[ 0.,  0.,  0., ...,  5.,  0.,  0.],\n",
              "         [ 0.,  0.,  0., ...,  9.,  0.,  0.],\n",
              "         [ 0.,  0.,  3., ...,  6.,  0.,  0.],\n",
              "         ...,\n",
              "         [ 0.,  0.,  1., ...,  6.,  0.,  0.],\n",
              "         [ 0.,  0.,  1., ...,  6.,  0.,  0.],\n",
              "         [ 0.,  0.,  0., ..., 10.,  0.,  0.]],\n",
              " \n",
              "        [[ 0.,  0.,  0., ..., 12.,  0.,  0.],\n",
              "         [ 0.,  0.,  3., ..., 14.,  0.,  0.],\n",
              "         [ 0.,  0.,  8., ..., 16.,  0.,  0.],\n",
              "         ...,\n",
              "         [ 0.,  9., 16., ...,  0.,  0.,  0.],\n",
              "         [ 0.,  3., 13., ..., 11.,  5.,  0.],\n",
              "         [ 0.,  0.,  0., ..., 16.,  9.,  0.]],\n",
              " \n",
              "        ...,\n",
              " \n",
              "        [[ 0.,  0.,  1., ...,  1.,  0.,  0.],\n",
              "         [ 0.,  0., 13., ...,  2.,  1.,  0.],\n",
              "         [ 0.,  0., 16., ..., 16.,  5.,  0.],\n",
              "         ...,\n",
              "         [ 0.,  0., 16., ..., 15.,  0.,  0.],\n",
              "         [ 0.,  0., 15., ..., 16.,  0.,  0.],\n",
              "         [ 0.,  0.,  2., ...,  6.,  0.,  0.]],\n",
              " \n",
              "        [[ 0.,  0.,  2., ...,  0.,  0.,  0.],\n",
              "         [ 0.,  0., 14., ..., 15.,  1.,  0.],\n",
              "         [ 0.,  4., 16., ..., 16.,  7.,  0.],\n",
              "         ...,\n",
              "         [ 0.,  0.,  0., ..., 16.,  2.,  0.],\n",
              "         [ 0.,  0.,  4., ..., 16.,  2.,  0.],\n",
              "         [ 0.,  0.,  5., ..., 12.,  0.,  0.]],\n",
              " \n",
              "        [[ 0.,  0., 10., ...,  1.,  0.,  0.],\n",
              "         [ 0.,  2., 16., ...,  1.,  0.,  0.],\n",
              "         [ 0.,  0., 15., ..., 15.,  0.,  0.],\n",
              "         ...,\n",
              "         [ 0.,  4., 16., ..., 16.,  6.,  0.],\n",
              "         [ 0.,  8., 16., ..., 16.,  8.,  0.],\n",
              "         [ 0.,  1.,  8., ..., 12.,  1.,  0.]]]),\n",
              " 'DESCR': \".. _digits_dataset:\\n\\nOptical recognition of handwritten digits dataset\\n--------------------------------------------------\\n\\n**Data Set Characteristics:**\\n\\n    :Number of Instances: 1797\\n    :Number of Attributes: 64\\n    :Attribute Information: 8x8 image of integer pixels in the range 0..16.\\n    :Missing Attribute Values: None\\n    :Creator: E. Alpaydin (alpaydin '@' boun.edu.tr)\\n    :Date: July; 1998\\n\\nThis is a copy of the test set of the UCI ML hand-written digits datasets\\nhttps://archive.ics.uci.edu/ml/datasets/Optical+Recognition+of+Handwritten+Digits\\n\\nThe data set contains images of hand-written digits: 10 classes where\\neach class refers to a digit.\\n\\nPreprocessing programs made available by NIST were used to extract\\nnormalized bitmaps of handwritten digits from a preprinted form. From a\\ntotal of 43 people, 30 contributed to the training set and different 13\\nto the test set. 32x32 bitmaps are divided into nonoverlapping blocks of\\n4x4 and the number of on pixels are counted in each block. This generates\\nan input matrix of 8x8 where each element is an integer in the range\\n0..16. This reduces dimensionality and gives invariance to small\\ndistortions.\\n\\nFor info on NIST preprocessing routines, see M. D. Garris, J. L. Blue, G.\\nT. Candela, D. L. Dimmick, J. Geist, P. J. Grother, S. A. Janet, and C.\\nL. Wilson, NIST Form-Based Handprint Recognition System, NISTIR 5469,\\n1994.\\n\\n.. topic:: References\\n\\n  - C. Kaynak (1995) Methods of Combining Multiple Classifiers and Their\\n    Applications to Handwritten Digit Recognition, MSc Thesis, Institute of\\n    Graduate Studies in Science and Engineering, Bogazici University.\\n  - E. Alpaydin, C. Kaynak (1998) Cascading Classifiers, Kybernetika.\\n  - Ken Tang and Ponnuthurai N. Suganthan and Xi Yao and A. Kai Qin.\\n    Linear dimensionalityreduction using relevance weighted LDA. School of\\n    Electrical and Electronic Engineering Nanyang Technological University.\\n    2005.\\n  - Claudio Gentile. A New Approximate Maximal Margin Classification\\n    Algorithm. NIPS. 2000.\\n\"}"
            ]
          },
          "metadata": {},
          "execution_count": 2
        }
      ]
    },
    {
      "cell_type": "code",
      "source": [
        "plt.gray()\n",
        "plt.matshow(digits.images[0])\n",
        "plt.show()"
      ],
      "metadata": {
        "colab": {
          "base_uri": "https://localhost:8080/",
          "height": 293
        },
        "id": "q8L83HJSWuYb",
        "outputId": "192fead7-4c84-4565-e4d9-bd358da3c9f3"
      },
      "execution_count": 3,
      "outputs": [
        {
          "output_type": "display_data",
          "data": {
            "text/plain": [
              "<Figure size 432x288 with 0 Axes>"
            ]
          },
          "metadata": {}
        },
        {
          "output_type": "display_data",
          "data": {
            "text/plain": [
              "<Figure size 288x288 with 1 Axes>"
            ],
            "image/png": "[encoded data removed]"
          },
          "metadata": {
            "needs_background": "light"
          }
        }
      ]
    },
    {
      "cell_type": "code",
      "source": [
        "ind = 28\n",
        "plt.gray()\n",
        "plt.matshow(digits.images[ind])\n",
        "print(digits.target[ind])\n",
        "# plt.show()"
      ],
      "metadata": {
        "colab": {
          "base_uri": "https://localhost:8080/",
          "height": 311
        },
        "id": "swRcPataW59j",
        "outputId": "ac3f72a2-645d-405c-e443-eddb4bfffbcf"
      },
      "execution_count": 4,
      "outputs": [
        {
          "output_type": "stream",
          "name": "stdout",
          "text": [
            "8\n"
          ]
        },
        {
          "output_type": "display_data",
          "data": {
            "text/plain": [
              "<Figure size 432x288 with 0 Axes>"
            ]
          },
          "metadata": {}
        },
        {
          "output_type": "display_data",
          "data": {
            "text/plain": [
              "<Figure size 288x288 with 1 Axes>"
            ],
            "image/png": "[encoded data removed]"
          },
          "metadata": {
            "needs_background": "light"
          }
        }
      ]
    },
    {
      "cell_type": "code",
      "source": [
        "ind = 28\n",
        "plt.gray()\n",
        "plt.matshow(digits.images[ind])\n",
        "print(digits.target[ind])"
      ],
      "metadata": {
        "colab": {
          "base_uri": "https://localhost:8080/",
          "height": 311
        },
        "id": "wZUKaBlwW_0c",
        "outputId": "3d1cd00d-7340-4733-92ce-83732e72f117"
      },
      "execution_count": 5,
      "outputs": [
        {
          "output_type": "stream",
          "name": "stdout",
          "text": [
            "8\n"
          ]
        },
        {
          "output_type": "display_data",
          "data": {
            "text/plain": [
              "<Figure size 432x288 with 0 Axes>"
            ]
          },
          "metadata": {}
        },
        {
          "output_type": "display_data",
          "data": {
            "text/plain": [
              "<Figure size 288x288 with 1 Axes>"
            ],
            "image/png": "[encoded data removed]"
          },
          "metadata": {
            "needs_background": "light"
          }
        }
      ]
    },
    {
      "cell_type": "markdown",
      "source": [
        "#Quiz 3 march\n",
        "- แบ่ง data ออกเป็น 80(train) 20(test) โดยใช้ ranom_state = 6 shuffle = True\n",
        "- หา parameters ที่ดีที่สุด (K (1,3,5), Distance_weighted(yes/no)) ด้วย 10 - fold-cross-validation\n",
        "- test parameters ที่ดีที่สุด กับ test data\n"
      ],
      "metadata": {
        "id": "1jaAmG0GXquw"
      }
    },
    {
      "cell_type": "code",
      "source": [
        "from sklearn.model_selection import train_test_split\n",
        "\n",
        "X = digits['data']\n",
        "y = digits['target']\n",
        "# train_test_split จะใช้สุ่มแบ่ง X และ y เป็นชุดข้อมูลฝึกและชุดข้อมูลทดสอบ\n",
        "X_train, X_test, y_train, y_test = train_test_split(X, y, test_size=0.2, random_state=4, shuffle=True) #test_size=0.2 คือ 20% \n",
        "#กำหนด test_size เป็น 0.2 และกำหนด random_state เป็น 4 เพื่อให้การแบ่งชุดข้อมูลสามารถทำซ้ำได้และ shuffle เป็น True เพื่อสลับลำดับข้อมูลก่อนแบ่งชุด\n",
        "\n",
        "from sklearn.neighbors import KNeighborsClassifier\n",
        "from sklearn.model_selection import GridSearchCV\n",
        "\n",
        "k_range = [1, 3, 5]\n",
        "weight_options = ['uniform', 'distance']\n",
        "param_grid = {'n_neighbors': k_range, 'weights': weight_options}\n",
        "\n",
        "knn = KNeighborsClassifier()\n",
        "grid_search = GridSearchCV(knn, param_grid, cv=10)\n",
        "\n",
        "grid_search.fit(X_train, y_train)\n",
        "\n",
        "print(\"Best Parameters: \", grid_search.best_params_)\n",
        "best_knn = KNeighborsClassifier(n_neighbors=grid_search.best_params_['n_neighbors'],\n",
        "                                 weights=grid_search.best_params_['weights'])\n",
        "\n",
        "best_knn.fit(X_train, y_train)\n",
        "\n",
        "accuracy = best_knn.score(X_test, y_test)\n",
        "\n",
        "print(\"Accuracy on test data: {:.2f}%\".format(accuracy * 100))"
      ],
      "metadata": {
        "colab": {
          "base_uri": "https://localhost:8080/"
        },
        "id": "OleJ6iuHZqoA",
        "outputId": "bab082af-96c7-4587-baa0-f3065c2448aa"
      },
      "execution_count": 6,
      "outputs": [
        {
          "output_type": "stream",
          "name": "stdout",
          "text": [
            "Best Parameters:  {'n_neighbors': 5, 'weights': 'uniform'}\n",
            "Accuracy on test data: 98.61%\n"
          ]
        }
      ]
    },
    {
      "cell_type": "markdown",
      "source": [
        "#Quiz 3 march ANS"
      ],
      "metadata": {
        "id": "6wFd6yT4m6hn"
      }
    },
    {
      "cell_type": "markdown",
      "source": [
        "#Model selection"
      ],
      "metadata": {
        "id": "_U67Vk4hhVsO"
      }
    },
    {
      "cell_type": "markdown",
      "source": [
        "##Model 1 (K=1, weighted)"
      ],
      "metadata": {
        "id": "oZyEElHPhFWU"
      }
    },
    {
      "cell_type": "code",
      "source": [
        "from sklearn.model_selection import train_test_split, cross_val_score\n",
        "X_train, X_test, y_train, y_test = train_test_split(digits.data, digits.target, test_size=0.2, random_state=4)\n",
        "from sklearn.neighbors import KNeighborsClassifier\n",
        "\n",
        "# model 1 (K=1, weighted)\n",
        "knn_distance = KNeighborsClassifier(n_neighbors=1, weights='distance')\n",
        "scores = cross_val_score(knn_distance, X_train, y_train, cv=10)\n",
        "print(\"Mean Cross-Validation Score: K1weighted\", scores.mean())\n",
        "\n",
        "# model 2 (K=3, weighted)\n",
        "knn_distance = KNeighborsClassifier(n_neighbors=3, weights='distance')\n",
        "scores = cross_val_score(knn_distance, X_train, y_train, cv=10)\n",
        "print(\"Mean Cross-Validation Score: K3weighted\", scores.mean())\n",
        "\n",
        "# model 3 (K=5, weighted)\n",
        "knn_distance = KNeighborsClassifier(n_neighbors=5, weights='distance')\n",
        "scores = cross_val_score(knn_distance, X_train, y_train, cv=10)\n",
        "print(\"Mean Cross-Validation Score: K5weighted\", scores.mean())\n",
        "\n",
        "# model 4 (K=1, no weighted)\n",
        "knn_distance = KNeighborsClassifier(n_neighbors=1, weights='uniform')\n",
        "scores = cross_val_score(knn_distance, X_train, y_train, cv=10)\n",
        "print(\"Mean Cross-Validation Score: K1NOweighted\", scores.mean())\n",
        "\n",
        "# model 5 (K=3, no weighted)\n",
        "knn_distance = KNeighborsClassifier(n_neighbors=3, weights='uniform')\n",
        "scores = cross_val_score(knn_distance, X_train, y_train, cv=10)\n",
        "print(\"Mean Cross-Validation Score: K3NOweighted\", scores.mean())\n",
        "\n",
        "# model 6 (K=5, no weighted)\n",
        "knn_distance = KNeighborsClassifier(n_neighbors=5, weights='uniform')\n",
        "scores = cross_val_score(knn_distance, X_train, y_train, cv=10)\n",
        "print(\"Mean Cross-Validation Score: KNOweighted\", scores.mean())\n",
        "\n",
        "# #Evaluate with test set\n",
        "# knn_distance = KNeighborsClassifier(n_neighbors=5, weights='distance')\n",
        "# knn_distance.fit(X_train,y_train)\n",
        "# y_pred = knn_distance.predict(X_test)\n",
        "     \n",
        "# from sklearn.metrics import accuracy_score\n",
        "# # Assume y_true and y_pred are the true and predicted labels, respectively\n",
        "# accuracy = accuracy_score(y_test, y_pred)\n",
        "# # Print the accuracy score\n",
        "# print(\"Accuracy score: \", accuracy)"
      ],
      "metadata": {
        "colab": {
          "base_uri": "https://localhost:8080/"
        },
        "id": "aQtMHrkDhEfe",
        "outputId": "f51e2ede-d04f-4251-b5da-ec6b60ef8717"
      },
      "execution_count": 7,
      "outputs": [
        {
          "output_type": "stream",
          "name": "stdout",
          "text": [
            "Mean Cross-Validation Score: K1weighted 0.9853875291375293\n",
            "Mean Cross-Validation Score: K3weighted 0.9860819735819737\n",
            "Mean Cross-Validation Score: K5weighted 0.9881750194250195\n",
            "Mean Cross-Validation Score: K1NOweighted 0.9853875291375293\n",
            "Mean Cross-Validation Score: K3NOweighted 0.9860819735819737\n",
            "Mean Cross-Validation Score: KNOweighted 0.9881750194250195\n"
          ]
        }
      ]
    },
    {
      "cell_type": "markdown",
      "source": [
        "#Evaluate with test set"
      ],
      "metadata": {
        "id": "WGOLfU_alH4I"
      }
    },
    {
      "cell_type": "code",
      "source": [
        "knn_distance = KNeighborsClassifier(n_neighbors=5, weights='distance')\n",
        "knn_distance.fit(X_train,y_train)\n",
        "y_pred = knn_distance.predict(X_test)\n",
        "     \n",
        "from sklearn.metrics import accuracy_score\n",
        "# Assume y_true and y_pred are the true and predicted labels, respectively\n",
        "accuracy = accuracy_score(y_test, y_pred)\n",
        "# Print the accuracy score\n",
        "print(\"Accuracy score: \", accuracy)"
      ],
      "metadata": {
        "colab": {
          "base_uri": "https://localhost:8080/"
        },
        "id": "hZ_hQgFnlEX_",
        "outputId": "c56ef296-f73b-46ca-9cfa-3e2a8a9428f2"
      },
      "execution_count": 8,
      "outputs": [
        {
          "output_type": "stream",
          "name": "stdout",
          "text": [
            "Accuracy score:  0.9861111111111112\n"
          ]
        }
      ]
    },
    {
      "cell_type": "markdown",
      "source": [
        "#HW7"
      ],
      "metadata": {
        "id": "Alu52i3H8RBe"
      }
    },
    {
      "cell_type": "markdown",
      "source": [
        "#หาโมเดลที่ดีที่สุด จาก DT,NaiveBayes,KNN,ANN โดย เปรียบเทียบ อย่างละสอง parameter sets"
      ],
      "metadata": {
        "id": "6Xom-SXhE8rt"
      }
    },
    {
      "cell_type": "markdown",
      "source": [
        "#DecisionTree\n",
        "\n"
      ],
      "metadata": {
        "id": "tziqkiayHqgq"
      }
    },
    {
      "cell_type": "code",
      "source": [
        "from sklearn.tree import DecisionTreeClassifier\n",
        "from sklearn.model_selection import cross_val_score\n",
        "X = digits['data']\n",
        "y = digits['target']\n",
        "# train_test_split จะใช้สุ่มแบ่ง X และ y เป็นชุดข้อมูลฝึกและชุดข้อมูลทดสอบ\n",
        "X_train, X_test, y_train, y_test = train_test_split(X, y, test_size=0.2, random_state=4, shuffle=True) #test_size=0.2 คือ 20% \n",
        "#กำหนด test_size เป็น 0.2 และกำหนด random_state เป็น 4 เพื่อให้การแบ่งชุดข้อมูลสามารถทำซ้ำได้และ shuffle เป็น True เพื่อสลับลำดับข้อมูลก่อนแบ่งชุด\n",
        "\n",
        "# Define parameter set 1\n",
        "params1 = {'criterion': 'gini', 'max_depth': 3}\n",
        "\n",
        "# Define parameter set 2\n",
        "params2 = {'criterion': 'entropy', 'max_depth': 5}\n",
        "\n",
        "# Create decision tree with parameter set 1\n",
        "dt1 = DecisionTreeClassifier(criterion=params1['criterion'], max_depth=params1['max_depth'])\n",
        "\n",
        "# Create decision tree with parameter set 2\n",
        "dt2 = DecisionTreeClassifier(criterion=params2['criterion'], max_depth=params2['max_depth'])\n",
        "\n",
        "# Evaluate the decision tree with parameter set 1\n",
        "accuracy1 = cross_val_score(dt1, digits.data, digits.target, cv=5).mean()\n",
        "\n",
        "# Evaluate the decision tree with parameter set 2\n",
        "accuracy2 = cross_val_score(dt2, digits.data, digits.target, cv=5).mean()\n",
        "\n",
        "# Compare the accuracies of the two models and choose the one with the highest accuracy\n",
        "if accuracy1 > accuracy2:\n",
        "    print(\"DT1 Parameter set 1 is better with an accuracy of\", accuracy1)\n",
        "else:\n",
        "    print(\"DT2 Parameter set 2 is better with an accuracy of\", accuracy2)\n",
        "\n",
        "# ค่า accuracy จะถูกคำนวณด้วย cross_val_score\n"
      ],
      "metadata": {
        "colab": {
          "base_uri": "https://localhost:8080/"
        },
        "id": "pIKx6iWWnfpi",
        "outputId": "a50fc287-ef7f-40cc-dfc4-288bd6b27293"
      },
      "execution_count": 9,
      "outputs": [
        {
          "output_type": "stream",
          "name": "stdout",
          "text": [
            "DT2 Parameter set 2 is better with an accuracy of 0.7323800680903746\n"
          ]
        }
      ]
    },
    {
      "cell_type": "markdown",
      "source": [
        "#NaiveBayes"
      ],
      "metadata": {
        "id": "2C6e705ucZ6X"
      }
    },
    {
      "cell_type": "code",
      "source": [
        "from sklearn.naive_bayes import MultinomialNB, GaussianNB\n",
        "from sklearn.model_selection import train_test_split\n",
        "\n",
        "X = digits['data']\n",
        "y = digits['target']\n",
        "# train_test_split จะใช้สุ่มแบ่ง X และ y เป็นชุดข้อมูลฝึกและชุดข้อมูลทดสอบ\n",
        "X_train, X_test, y_train, y_test = train_test_split(X, y, test_size=0.2, random_state=4, shuffle=True) #test_size=0.2 คือ 20% \n",
        "#กำหนด test_size เป็น 0.2 และกำหนด random_state เป็น 4 เพื่อให้การแบ่งชุดข้อมูลสามารถทำซ้ำได้และ shuffle เป็น True  สลับลำดับข้อมูลก่อนแบ่งชุดเพื่อลดผลกระทบจากการจัดเรียงข้อมูล\n",
        "\n",
        "# Parameter Set 1: สร้างโมเดล Multinomial Naive Bayes โดยกำหนด alpha=1.0 เพื่อใช้ Laplace smoothing\n",
        "mnb = MultinomialNB(alpha=1.0)\n",
        "mnb.fit(X_train, y_train)\n",
        "# คำนวณค่า accuracy ของโมเดลด้วยชุดข้อมูลทดสอบ (X_test, y_test)\n",
        "mnb_score = mnb.score(X_test, y_test)\n",
        "\n",
        "# Parameter Set 2: สร้างโมเดล Gaussian Naive Bayes โดยไม่ใช้ Smoothing\n",
        "gnb = GaussianNB()\n",
        "gnb.fit(X_train, y_train)\n",
        "gnb_score = gnb.score(X_test, y_test)\n",
        "\n",
        "# Print best model based on test set accuracy\n",
        "if mnb_score > gnb_score:\n",
        "    print(\"Best Model: Multinomial Naive Bayes with Laplace Smoothing\")\n",
        "    print(\"Test Accuracy: %0.2f\" % mnb_score)\n",
        "else:\n",
        "    print(\"Best Model: Gaussian Naive Bayes without Smoothing\")\n",
        "    print(\"Test Accuracy: %0.2f\" % gnb_score)"
      ],
      "metadata": {
        "colab": {
          "base_uri": "https://localhost:8080/"
        },
        "id": "r_2O9Qb2Uci8",
        "outputId": "93671e81-5e73-44c5-861c-40c76005069f"
      },
      "execution_count": 10,
      "outputs": [
        {
          "output_type": "stream",
          "name": "stdout",
          "text": [
            "Best Model: Multinomial Naive Bayes with Laplace Smoothing\n",
            "Test Accuracy: 0.90\n"
          ]
        }
      ]
    },
    {
      "cell_type": "markdown",
      "source": [
        "- หลังจากที่ได้คำนวณค่าความแม่นยำของ Multinomial Naive Bayes และ Gaussian Naive Bayes จากข้อมูล test set แล้ว\n",
        "- เงื่อนไขที่กำหนดใน if คือ mnb_score > gnb_score ซึ่งหมายความว่าถ้าโมเดล Multinomial Naive Bayes มีค่าความแม่นยำสูงกว่าโมเดล Gaussian Naive Bayes จะเข้าเงื่อนไข if \n",
        "- และทำงานในส่วนของคำสั่งที่อยู่ภายใน if โดยพิมพ์ข้อความ \"Best Model: Multinomial Naive Bayes with Laplace Smoothing\" และค่าความแม่นยำของโมเดล Multinomial Naive Bayes ที่ได้จากการทดสอบ \n",
        "- แต่ถ้าเงื่อนไขเป็นเท็จจะเข้าเงื่อนไข else และทำงานในส่วนของคำสั่งที่อยู่ภายใน else โดยพิมพ์ข้อความ \"Best Model: Gaussian Naive Bayes without Smoothing\" "
      ],
      "metadata": {
        "id": "eUnKscXY7uvP"
      }
    },
    {
      "cell_type": "markdown",
      "source": [
        "#KNN"
      ],
      "metadata": {
        "id": "ZWCGq4JMrN3n"
      }
    },
    {
      "cell_type": "code",
      "source": [
        "from sklearn.model_selection import train_test_split\n",
        "from sklearn.neighbors import KNeighborsClassifier\n",
        "\n",
        "X = digits['data']\n",
        "y = digits['target']\n",
        "# train_test_split จะใช้สุ่มแบ่ง X และ y เป็นชุดข้อมูลฝึกและชุดข้อมูลทดสอบ\n",
        "X_train, X_test, y_train, y_test = train_test_split(X, y, test_size=0.2, random_state=4, shuffle=True) #test_size=0.2 คือ 20% \n",
        "#กำหนด test_size เป็น 0.2 และกำหนด random_state เป็น 4 เพื่อให้การแบ่งชุดข้อมูลสามารถทำซ้ำได้และ shuffle เป็น True เพื่อสลับลำดับข้อมูลก่อนแบ่งชุด\n",
        "\n",
        "# Define parameter sets\n",
        "params_set_1 = {'n_neighbors': 3, 'weights': 'uniform'}\n",
        "params_set_2 = {'n_neighbors': 5, 'weights': 'distance'}\n",
        "\n",
        "# Train and test KNN models with parameter sets\n",
        "knn_1 = KNeighborsClassifier(**params_set_1)\n",
        "knn_1.fit(X_train, y_train)\n",
        "print('KNN 1 accuracy:', knn_1.score(X_test, y_test))\n",
        "\n",
        "knn_2 = KNeighborsClassifier(**params_set_2)\n",
        "knn_2.fit(X_train, y_train)\n",
        "print('KNN 2 accuracy:', knn_2.score(X_test, y_test))\n",
        "\n",
        "\n"
      ],
      "metadata": {
        "colab": {
          "base_uri": "https://localhost:8080/"
        },
        "id": "uBf1TLK0hflS",
        "outputId": "c3cadb25-9efc-4637-c586-14428565ae4f"
      },
      "execution_count": 11,
      "outputs": [
        {
          "output_type": "stream",
          "name": "stdout",
          "text": [
            "KNN 1 accuracy: 0.9888888888888889\n",
            "KNN 2 accuracy: 0.9861111111111112\n"
          ]
        }
      ]
    },
    {
      "cell_type": "markdown",
      "source": [
        "#ANN"
      ],
      "metadata": {
        "id": "9h4VV64mu50t"
      }
    },
    {
      "cell_type": "code",
      "source": [
        "from sklearn.model_selection import train_test_split\n",
        "from sklearn.neural_network import MLPClassifier\n",
        "from sklearn.metrics import accuracy_score\n",
        "\n",
        "X = digits['data']\n",
        "y = digits['target']\n",
        "# train_test_split จะใช้สุ่มแบ่ง X และ y เป็นชุดข้อมูลฝึกและชุดข้อมูลทดสอบ\n",
        "X_train, X_test, y_train, y_test = train_test_split(X, y, test_size=0.2, random_state=4, shuffle=True) #test_size=0.2 คือ 20% \n",
        "#กำหนด test_size เป็น 0.2 และกำหนด random_state เป็น 4 เพื่อให้การแบ่งชุดข้อมูลสามารถทำซ้ำได้และ shuffle เป็น True เพื่อสลับลำดับข้อมูลก่อนแบ่งชุด\n",
        "\n",
        "# กำหนด parameter sets ที่ต้องการทดสอบ\n",
        "#กำหนด parameter sets ที่ต้องการทดสอบโดยกำหนด hidden_layer_sizes เป็นจำนวนโหนดใน Hidden layer และกำหนด activation เป็นฟังก์ชัน Activation function \n",
        "#และกำหนด solver เป็น Algorithm สำหรับ optimization\n",
        "param_set_1 = {'hidden_layer_sizes': (50,), 'activation': 'logistic', 'solver': 'lbfgs'} \n",
        "param_set_2 = {'hidden_layer_sizes': (100,), 'activation': 'relu', 'solver': 'adam'}\n",
        "\n",
        "# สร้างและ train โมเดล ANN สำหรับ parameter sets ที่กำหนด โดยใช้ MLPClassifier และ fit โมเดลด้วยข้อมูล X_train และ y_train\n",
        "\n",
        "model_1 = MLPClassifier(**param_set_1, random_state=42)\n",
        "model_1.fit(X_train, y_train)\n",
        "\n",
        "model_2 = MLPClassifier(**param_set_2, random_state=42)\n",
        "model_2.fit(X_train, y_train)\n",
        "\n",
        "# ประเมินประสิทธิภาพของโมเดล ANN กับ test set โดยใช้ predict เพื่อทำนายผลลัพธ์จากโมเดลและใช้ accuracy_score เพื่อคำนวณค่าความแม่นยำของโมเดล\n",
        "y_pred_1 = model_1.predict(X_test)\n",
        "accuracy_1 = accuracy_score(y_test, y_pred_1)\n",
        "\n",
        "y_pred_2 = model_2.predict(X_test)\n",
        "accuracy_2 = accuracy_score(y_test, y_pred_2)\n",
        "\n",
        "#แสดงผลลัพธ์ค่าความแม่นยำของโมเดล ANN ของ parameter sets 1 และ 2\n",
        "print(f\"Accuracy for model 1 ANN1: {accuracy_1}\")\n",
        "print(f\"Accuracy for model 2 ANN2: {accuracy_2}\")"
      ],
      "metadata": {
        "colab": {
          "base_uri": "https://localhost:8080/"
        },
        "id": "yiqR-KRdsybu",
        "outputId": "8c6ff384-93e9-4b3f-a29b-e25d0a6ddf7a"
      },
      "execution_count": 12,
      "outputs": [
        {
          "output_type": "stream",
          "name": "stdout",
          "text": [
            "Accuracy for model 1 ANN1: 0.95\n",
            "Accuracy for model 2 ANN2: 0.9833333333333333\n"
          ]
        }
      ]
    },
    {
      "cell_type": "markdown",
      "source": [
        "#รวม"
      ],
      "metadata": {
        "id": "8WbBbsci1gS1"
      }
    },
    {
      "cell_type": "code",
      "source": [
        "from sklearn.tree import DecisionTreeClassifier\n",
        "from sklearn.model_selection import cross_val_score\n",
        "X = digits['data']\n",
        "y = digits['target']\n",
        "# train_test_split จะใช้สุ่มแบ่ง X และ y เป็นชุดข้อมูลฝึกและชุดข้อมูลทดสอบ\n",
        "X_train, X_test, y_train, y_test = train_test_split(X, y, test_size=0.2, random_state=4, shuffle=True) #test_size=0.2 คือ 20% \n",
        "#กำหนด test_size เป็น 0.2 และกำหนด random_state เป็น 4 เพื่อให้การแบ่งชุดข้อมูลสามารถทำซ้ำได้และ shuffle เป็น True เพื่อสลับลำดับข้อมูลก่อนแบ่งชุด\n",
        "\n",
        "#DT\n",
        "# Define parameter set 1\n",
        "params1 = {'criterion': 'gini', 'max_depth': 3}\n",
        "# Define parameter set 2\n",
        "params2 = {'criterion': 'entropy', 'max_depth': 5}\n",
        "# Create decision tree with parameter set 1\n",
        "dt1 = DecisionTreeClassifier(criterion=params1['criterion'], max_depth=params1['max_depth'])\n",
        "# Create decision tree with parameter set 2\n",
        "dt2 = DecisionTreeClassifier(criterion=params2['criterion'], max_depth=params2['max_depth'])\n",
        "# Evaluate the decision tree with parameter set 1\n",
        "accuracy1 = cross_val_score(dt1, digits.data, digits.target, cv=5).mean()\n",
        "# Evaluate the decision tree with parameter set 2\n",
        "accuracy2 = cross_val_score(dt2, digits.data, digits.target, cv=5).mean()\n",
        "# Compare the accuracies of the two models and choose the one with the highest accuracy\n",
        "if accuracy1 > accuracy2:\n",
        "    print(\"DT1 Parameter set 1 is better with an accuracy of\", accuracy1)\n",
        "else:\n",
        "    print(\"DT2 Parameter set 2 is better with an accuracy of\", accuracy2)\n",
        "\n",
        "#NaiveBayes\n",
        "# Parameter Set 1: Multinomial Naive Bayes with Laplace Smoothing\n",
        "mnb = MultinomialNB(alpha=1.0)\n",
        "mnb.fit(X_train, y_train)\n",
        "mnb_score = mnb.score(X_test, y_test)\n",
        "\n",
        "# Parameter Set 2: Gaussian Naive Bayes without Smoothing\n",
        "gnb = GaussianNB()\n",
        "gnb.fit(X_train, y_train)\n",
        "gnb_score = gnb.score(X_test, y_test)\n",
        "\n",
        "# Print best model based on test set accuracy\n",
        "if mnb_score > gnb_score:\n",
        "    print(\"Best Model: Multinomial Naive Bayes with Laplace Smoothing\")\n",
        "    print(\"Test Accuracy: %0.2f\" % mnb_score)\n",
        "else:\n",
        "    print(\"Best Model: Gaussian Naive Bayes without Smoothing\")\n",
        "    print(\"Test Accuracy: %0.2f\" % gnb_score)\n",
        "\n",
        "#KNN\n",
        "# Define parameter sets\n",
        "params_set_1 = {'n_neighbors': 3, 'weights': 'uniform'}\n",
        "params_set_2 = {'n_neighbors': 5, 'weights': 'distance'}\n",
        "\n",
        "# Train and test KNN models with parameter sets\n",
        "knn_1 = KNeighborsClassifier(**params_set_1)\n",
        "knn_1.fit(X_train, y_train)\n",
        "print('KNN 1 accuracy:', knn_1.score(X_test, y_test))\n",
        "\n",
        "knn_2 = KNeighborsClassifier(**params_set_2)\n",
        "knn_2.fit(X_train, y_train)\n",
        "print('KNN 2 accuracy:', knn_2.score(X_test, y_test))\n",
        "\n",
        "#ANN\n",
        "# กำหนด parameter sets ที่ต้องการทดสอบ\n",
        "#กำหนด parameter sets ที่ต้องการทดสอบโดยกำหนด hidden_layer_sizes เป็นจำนวนโหนดใน Hidden layer และกำหนด activation เป็นฟังก์ชัน Activation function \n",
        "#และกำหนด solver เป็น Algorithm สำหรับ optimization\n",
        "param_set_1 = {'hidden_layer_sizes': (50,), 'activation': 'logistic', 'solver': 'lbfgs'} \n",
        "param_set_2 = {'hidden_layer_sizes': (100,), 'activation': 'relu', 'solver': 'adam'}\n",
        "\n",
        "# สร้างและ train โมเดล ANN สำหรับ parameter sets ที่กำหนด โดยใช้ MLPClassifier และ fit โมเดลด้วยข้อมูล X_train และ y_train\n",
        "\n",
        "model_1 = MLPClassifier(**param_set_1, random_state=42)\n",
        "model_1.fit(X_train, y_train)\n",
        "\n",
        "model_2 = MLPClassifier(**param_set_2, random_state=42)\n",
        "model_2.fit(X_train, y_train)\n",
        "\n",
        "# ประเมินประสิทธิภาพของโมเดล ANN กับ test set โดยใช้ predict เพื่อทำนายผลลัพธ์จากโมเดลและใช้ accuracy_score เพื่อคำนวณค่าความแม่นยำของโมเดล\n",
        "y_pred_1 = model_1.predict(X_test)\n",
        "accuracy_1 = accuracy_score(y_test, y_pred_1)\n",
        "\n",
        "y_pred_2 = model_2.predict(X_test)\n",
        "accuracy_2 = accuracy_score(y_test, y_pred_2)\n",
        "\n",
        "#แสดงผลลัพธ์ค่าความแม่นยำของโมเดล ANN ของ parameter sets 1 และ 2\n",
        "print(f\"Accuracy for model 1 ANN1: {accuracy_1}\")\n",
        "print(f\"Accuracy for model 2 ANN2: {accuracy_2}\")\n",
        "\n",
        "\n",
        "\n",
        "print('โมเดลที่ดีที่สุดคือ KNN 2 accuracy:', knn_2.score(X_test, y_test))\n",
        "\n"
      ],
      "metadata": {
        "colab": {
          "base_uri": "https://localhost:8080/"
        },
        "id": "EP64AnMu1iwS",
        "outputId": "8d0a12d1-c858-4a23-d920-6d53fddccbd6"
      },
      "execution_count": 13,
      "outputs": [
        {
          "output_type": "stream",
          "name": "stdout",
          "text": [
            "DT2 Parameter set 2 is better with an accuracy of 0.7334911792014858\n",
            "Best Model: Multinomial Naive Bayes with Laplace Smoothing\n",
            "Test Accuracy: 0.90\n",
            "KNN 1 accuracy: 0.9888888888888889\n",
            "KNN 2 accuracy: 0.9861111111111112\n",
            "Accuracy for model 1 ANN1: 0.95\n",
            "Accuracy for model 2 ANN2: 0.9833333333333333\n",
            "โมเดลที่ดีที่สุดคือ KNN 2 accuracy: 0.9861111111111112\n"
          ]
        }
      ]
    }
  ]
}